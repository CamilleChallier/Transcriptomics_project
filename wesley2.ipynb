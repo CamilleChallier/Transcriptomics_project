{
 "cells": [
  {
   "cell_type": "code",
   "execution_count": 1,
   "metadata": {},
   "outputs": [],
   "source": [
    "import pandas as pd\n",
    "import numpy as np\n",
    "import os\n",
    "import matplotlib.pyplot as plt\n",
    "import seaborn as sns\n",
    "import plotly.express as px\n",
    "from sklearn.decomposition import PCA\n",
    "from scipy.stats import ttest_ind\n",
    "from statsmodels.stats.multitest import fdrcorrection, multipletests\n",
    "import statsmodels"
   ]
  },
  {
   "cell_type": "markdown",
   "metadata": {},
   "source": [
    "### 1. Load and visualize the data"
   ]
  },
  {
   "cell_type": "markdown",
   "metadata": {},
   "source": [
    "a) "
   ]
  },
  {
   "cell_type": "code",
   "execution_count": 2,
   "metadata": {},
   "outputs": [],
   "source": [
    "core_path = './data'\n",
    "transcriptomics = pd.read_csv( os.path.join(core_path, 'transcriptomics.dataset.txt'),sep= \"\\t\")"
   ]
  },
  {
   "cell_type": "code",
   "execution_count": 3,
   "metadata": {},
   "outputs": [],
   "source": [
    "transcriptomics.rename(columns = {\"Unnamed: 0\":'Gene_ID'}, inplace=True)\n",
    "transcriptomics.index = transcriptomics[\"Gene_ID\"]\n",
    "transcriptomics.drop(columns = ['Gene_ID'], inplace=True)"
   ]
  },
  {
   "cell_type": "markdown",
   "metadata": {},
   "source": [
    "What is the size of the matrix ?"
   ]
  },
  {
   "cell_type": "markdown",
   "metadata": {},
   "source": [
    "63677 genes and 80 samples : matrix size 63677*80"
   ]
  },
  {
   "cell_type": "markdown",
   "metadata": {},
   "source": [
    "b) What type of data do you have? Normalized or raw read counts (integer)?"
   ]
  },
  {
   "cell_type": "markdown",
   "metadata": {},
   "source": [
    "number of transcripts, raw read counts"
   ]
  },
  {
   "cell_type": "markdown",
   "metadata": {},
   "source": [
    "c)"
   ]
  },
  {
   "cell_type": "code",
   "execution_count": 4,
   "metadata": {},
   "outputs": [],
   "source": [
    "dict_sample = {}\n",
    "for idx, sample in enumerate(transcriptomics.columns.values) :\n",
    "    if ( sample == \"Sample_{}_preadi\".format(idx+1) ):\n",
    "        #dict_sample[\"Sample_{}\".format(idx+1)]=\"PreAdipo\"\n",
    "        dict_sample[sample]=\"PreAdipo\"\n",
    "    else :\n",
    "        dict_sample[sample]=\"Adipo\"\n",
    "        "
   ]
  },
  {
   "cell_type": "code",
   "execution_count": 5,
   "metadata": {},
   "outputs": [
    {
     "data": {
      "text/html": [
       "<div>\n",
       "<style scoped>\n",
       "    .dataframe tbody tr th:only-of-type {\n",
       "        vertical-align: middle;\n",
       "    }\n",
       "\n",
       "    .dataframe tbody tr th {\n",
       "        vertical-align: top;\n",
       "    }\n",
       "\n",
       "    .dataframe thead th {\n",
       "        text-align: right;\n",
       "    }\n",
       "</style>\n",
       "<table border=\"1\" class=\"dataframe\">\n",
       "  <thead>\n",
       "    <tr style=\"text-align: right;\">\n",
       "      <th></th>\n",
       "      <th>Sample_1_preadi</th>\n",
       "      <th>Sample_2_preadi</th>\n",
       "      <th>Sample_3_preadi</th>\n",
       "      <th>Sample_4_preadi</th>\n",
       "      <th>Sample_5_preadi</th>\n",
       "      <th>Sample_6_preadi</th>\n",
       "      <th>Sample_7_preadi</th>\n",
       "      <th>Sample_8_preadi</th>\n",
       "      <th>Sample_9_preadi</th>\n",
       "      <th>Sample_10_preadi</th>\n",
       "      <th>...</th>\n",
       "      <th>Sample_71_adipo</th>\n",
       "      <th>Sample_72_adipo</th>\n",
       "      <th>Sample_73_adipo</th>\n",
       "      <th>Sample_74_adipo</th>\n",
       "      <th>Sample_75_adipo</th>\n",
       "      <th>Sample_76_adipo</th>\n",
       "      <th>Sample_77_adipo</th>\n",
       "      <th>Sample_78_adipo</th>\n",
       "      <th>Sample_79_adipo</th>\n",
       "      <th>Sample_80_adipo</th>\n",
       "    </tr>\n",
       "    <tr>\n",
       "      <th>Gene_ID</th>\n",
       "      <th></th>\n",
       "      <th></th>\n",
       "      <th></th>\n",
       "      <th></th>\n",
       "      <th></th>\n",
       "      <th></th>\n",
       "      <th></th>\n",
       "      <th></th>\n",
       "      <th></th>\n",
       "      <th></th>\n",
       "      <th></th>\n",
       "      <th></th>\n",
       "      <th></th>\n",
       "      <th></th>\n",
       "      <th></th>\n",
       "      <th></th>\n",
       "      <th></th>\n",
       "      <th></th>\n",
       "      <th></th>\n",
       "      <th></th>\n",
       "      <th></th>\n",
       "    </tr>\n",
       "  </thead>\n",
       "  <tbody>\n",
       "    <tr>\n",
       "      <th>ENSG00000000003</th>\n",
       "      <td>18</td>\n",
       "      <td>12</td>\n",
       "      <td>9</td>\n",
       "      <td>20</td>\n",
       "      <td>9</td>\n",
       "      <td>13</td>\n",
       "      <td>20</td>\n",
       "      <td>8</td>\n",
       "      <td>4</td>\n",
       "      <td>7</td>\n",
       "      <td>...</td>\n",
       "      <td>9</td>\n",
       "      <td>9</td>\n",
       "      <td>30</td>\n",
       "      <td>9</td>\n",
       "      <td>23</td>\n",
       "      <td>16</td>\n",
       "      <td>3</td>\n",
       "      <td>14</td>\n",
       "      <td>11</td>\n",
       "      <td>16</td>\n",
       "    </tr>\n",
       "    <tr>\n",
       "      <th>ENSG00000000005</th>\n",
       "      <td>0</td>\n",
       "      <td>0</td>\n",
       "      <td>0</td>\n",
       "      <td>2</td>\n",
       "      <td>0</td>\n",
       "      <td>0</td>\n",
       "      <td>0</td>\n",
       "      <td>0</td>\n",
       "      <td>0</td>\n",
       "      <td>0</td>\n",
       "      <td>...</td>\n",
       "      <td>0</td>\n",
       "      <td>1</td>\n",
       "      <td>29</td>\n",
       "      <td>2</td>\n",
       "      <td>22</td>\n",
       "      <td>3</td>\n",
       "      <td>0</td>\n",
       "      <td>2</td>\n",
       "      <td>0</td>\n",
       "      <td>5</td>\n",
       "    </tr>\n",
       "    <tr>\n",
       "      <th>ENSG00000000419</th>\n",
       "      <td>10</td>\n",
       "      <td>9</td>\n",
       "      <td>9</td>\n",
       "      <td>8</td>\n",
       "      <td>10</td>\n",
       "      <td>10</td>\n",
       "      <td>6</td>\n",
       "      <td>35</td>\n",
       "      <td>13</td>\n",
       "      <td>15</td>\n",
       "      <td>...</td>\n",
       "      <td>3</td>\n",
       "      <td>9</td>\n",
       "      <td>9</td>\n",
       "      <td>15</td>\n",
       "      <td>8</td>\n",
       "      <td>9</td>\n",
       "      <td>9</td>\n",
       "      <td>4</td>\n",
       "      <td>16</td>\n",
       "      <td>5</td>\n",
       "    </tr>\n",
       "    <tr>\n",
       "      <th>ENSG00000000457</th>\n",
       "      <td>0</td>\n",
       "      <td>11</td>\n",
       "      <td>0</td>\n",
       "      <td>6</td>\n",
       "      <td>2</td>\n",
       "      <td>12</td>\n",
       "      <td>11</td>\n",
       "      <td>1</td>\n",
       "      <td>2</td>\n",
       "      <td>0</td>\n",
       "      <td>...</td>\n",
       "      <td>9</td>\n",
       "      <td>8</td>\n",
       "      <td>8</td>\n",
       "      <td>5</td>\n",
       "      <td>6</td>\n",
       "      <td>0</td>\n",
       "      <td>12</td>\n",
       "      <td>13</td>\n",
       "      <td>4</td>\n",
       "      <td>11</td>\n",
       "    </tr>\n",
       "    <tr>\n",
       "      <th>ENSG00000000460</th>\n",
       "      <td>0</td>\n",
       "      <td>0</td>\n",
       "      <td>14</td>\n",
       "      <td>4</td>\n",
       "      <td>5</td>\n",
       "      <td>0</td>\n",
       "      <td>0</td>\n",
       "      <td>6</td>\n",
       "      <td>4</td>\n",
       "      <td>0</td>\n",
       "      <td>...</td>\n",
       "      <td>0</td>\n",
       "      <td>0</td>\n",
       "      <td>3</td>\n",
       "      <td>0</td>\n",
       "      <td>1</td>\n",
       "      <td>0</td>\n",
       "      <td>1</td>\n",
       "      <td>4</td>\n",
       "      <td>0</td>\n",
       "      <td>10</td>\n",
       "    </tr>\n",
       "    <tr>\n",
       "      <th>...</th>\n",
       "      <td>...</td>\n",
       "      <td>...</td>\n",
       "      <td>...</td>\n",
       "      <td>...</td>\n",
       "      <td>...</td>\n",
       "      <td>...</td>\n",
       "      <td>...</td>\n",
       "      <td>...</td>\n",
       "      <td>...</td>\n",
       "      <td>...</td>\n",
       "      <td>...</td>\n",
       "      <td>...</td>\n",
       "      <td>...</td>\n",
       "      <td>...</td>\n",
       "      <td>...</td>\n",
       "      <td>...</td>\n",
       "      <td>...</td>\n",
       "      <td>...</td>\n",
       "      <td>...</td>\n",
       "      <td>...</td>\n",
       "      <td>...</td>\n",
       "    </tr>\n",
       "    <tr>\n",
       "      <th>ENSG00000273489</th>\n",
       "      <td>0</td>\n",
       "      <td>0</td>\n",
       "      <td>0</td>\n",
       "      <td>2</td>\n",
       "      <td>0</td>\n",
       "      <td>1</td>\n",
       "      <td>8</td>\n",
       "      <td>0</td>\n",
       "      <td>0</td>\n",
       "      <td>0</td>\n",
       "      <td>...</td>\n",
       "      <td>0</td>\n",
       "      <td>0</td>\n",
       "      <td>0</td>\n",
       "      <td>0</td>\n",
       "      <td>0</td>\n",
       "      <td>0</td>\n",
       "      <td>0</td>\n",
       "      <td>0</td>\n",
       "      <td>0</td>\n",
       "      <td>0</td>\n",
       "    </tr>\n",
       "    <tr>\n",
       "      <th>ENSG00000273490</th>\n",
       "      <td>0</td>\n",
       "      <td>0</td>\n",
       "      <td>0</td>\n",
       "      <td>0</td>\n",
       "      <td>0</td>\n",
       "      <td>0</td>\n",
       "      <td>0</td>\n",
       "      <td>0</td>\n",
       "      <td>0</td>\n",
       "      <td>0</td>\n",
       "      <td>...</td>\n",
       "      <td>0</td>\n",
       "      <td>0</td>\n",
       "      <td>0</td>\n",
       "      <td>0</td>\n",
       "      <td>0</td>\n",
       "      <td>0</td>\n",
       "      <td>0</td>\n",
       "      <td>0</td>\n",
       "      <td>0</td>\n",
       "      <td>0</td>\n",
       "    </tr>\n",
       "    <tr>\n",
       "      <th>ENSG00000273491</th>\n",
       "      <td>0</td>\n",
       "      <td>0</td>\n",
       "      <td>0</td>\n",
       "      <td>0</td>\n",
       "      <td>0</td>\n",
       "      <td>0</td>\n",
       "      <td>0</td>\n",
       "      <td>0</td>\n",
       "      <td>0</td>\n",
       "      <td>0</td>\n",
       "      <td>...</td>\n",
       "      <td>0</td>\n",
       "      <td>0</td>\n",
       "      <td>0</td>\n",
       "      <td>0</td>\n",
       "      <td>0</td>\n",
       "      <td>0</td>\n",
       "      <td>0</td>\n",
       "      <td>0</td>\n",
       "      <td>0</td>\n",
       "      <td>0</td>\n",
       "    </tr>\n",
       "    <tr>\n",
       "      <th>ENSG00000273492</th>\n",
       "      <td>0</td>\n",
       "      <td>0</td>\n",
       "      <td>0</td>\n",
       "      <td>0</td>\n",
       "      <td>0</td>\n",
       "      <td>0</td>\n",
       "      <td>0</td>\n",
       "      <td>0</td>\n",
       "      <td>0</td>\n",
       "      <td>0</td>\n",
       "      <td>...</td>\n",
       "      <td>0</td>\n",
       "      <td>0</td>\n",
       "      <td>0</td>\n",
       "      <td>0</td>\n",
       "      <td>0</td>\n",
       "      <td>0</td>\n",
       "      <td>0</td>\n",
       "      <td>0</td>\n",
       "      <td>0</td>\n",
       "      <td>0</td>\n",
       "    </tr>\n",
       "    <tr>\n",
       "      <th>ENSG00000273493</th>\n",
       "      <td>0</td>\n",
       "      <td>0</td>\n",
       "      <td>0</td>\n",
       "      <td>0</td>\n",
       "      <td>0</td>\n",
       "      <td>0</td>\n",
       "      <td>0</td>\n",
       "      <td>0</td>\n",
       "      <td>1</td>\n",
       "      <td>0</td>\n",
       "      <td>...</td>\n",
       "      <td>0</td>\n",
       "      <td>0</td>\n",
       "      <td>0</td>\n",
       "      <td>0</td>\n",
       "      <td>0</td>\n",
       "      <td>0</td>\n",
       "      <td>0</td>\n",
       "      <td>0</td>\n",
       "      <td>3</td>\n",
       "      <td>0</td>\n",
       "    </tr>\n",
       "  </tbody>\n",
       "</table>\n",
       "<p>63677 rows × 80 columns</p>\n",
       "</div>"
      ],
      "text/plain": [
       "                 Sample_1_preadi  Sample_2_preadi  Sample_3_preadi  \\\n",
       "Gene_ID                                                              \n",
       "ENSG00000000003               18               12                9   \n",
       "ENSG00000000005                0                0                0   \n",
       "ENSG00000000419               10                9                9   \n",
       "ENSG00000000457                0               11                0   \n",
       "ENSG00000000460                0                0               14   \n",
       "...                          ...              ...              ...   \n",
       "ENSG00000273489                0                0                0   \n",
       "ENSG00000273490                0                0                0   \n",
       "ENSG00000273491                0                0                0   \n",
       "ENSG00000273492                0                0                0   \n",
       "ENSG00000273493                0                0                0   \n",
       "\n",
       "                 Sample_4_preadi  Sample_5_preadi  Sample_6_preadi  \\\n",
       "Gene_ID                                                              \n",
       "ENSG00000000003               20                9               13   \n",
       "ENSG00000000005                2                0                0   \n",
       "ENSG00000000419                8               10               10   \n",
       "ENSG00000000457                6                2               12   \n",
       "ENSG00000000460                4                5                0   \n",
       "...                          ...              ...              ...   \n",
       "ENSG00000273489                2                0                1   \n",
       "ENSG00000273490                0                0                0   \n",
       "ENSG00000273491                0                0                0   \n",
       "ENSG00000273492                0                0                0   \n",
       "ENSG00000273493                0                0                0   \n",
       "\n",
       "                 Sample_7_preadi  Sample_8_preadi  Sample_9_preadi  \\\n",
       "Gene_ID                                                              \n",
       "ENSG00000000003               20                8                4   \n",
       "ENSG00000000005                0                0                0   \n",
       "ENSG00000000419                6               35               13   \n",
       "ENSG00000000457               11                1                2   \n",
       "ENSG00000000460                0                6                4   \n",
       "...                          ...              ...              ...   \n",
       "ENSG00000273489                8                0                0   \n",
       "ENSG00000273490                0                0                0   \n",
       "ENSG00000273491                0                0                0   \n",
       "ENSG00000273492                0                0                0   \n",
       "ENSG00000273493                0                0                1   \n",
       "\n",
       "                 Sample_10_preadi  ...  Sample_71_adipo  Sample_72_adipo  \\\n",
       "Gene_ID                            ...                                     \n",
       "ENSG00000000003                 7  ...                9                9   \n",
       "ENSG00000000005                 0  ...                0                1   \n",
       "ENSG00000000419                15  ...                3                9   \n",
       "ENSG00000000457                 0  ...                9                8   \n",
       "ENSG00000000460                 0  ...                0                0   \n",
       "...                           ...  ...              ...              ...   \n",
       "ENSG00000273489                 0  ...                0                0   \n",
       "ENSG00000273490                 0  ...                0                0   \n",
       "ENSG00000273491                 0  ...                0                0   \n",
       "ENSG00000273492                 0  ...                0                0   \n",
       "ENSG00000273493                 0  ...                0                0   \n",
       "\n",
       "                 Sample_73_adipo  Sample_74_adipo  Sample_75_adipo  \\\n",
       "Gene_ID                                                              \n",
       "ENSG00000000003               30                9               23   \n",
       "ENSG00000000005               29                2               22   \n",
       "ENSG00000000419                9               15                8   \n",
       "ENSG00000000457                8                5                6   \n",
       "ENSG00000000460                3                0                1   \n",
       "...                          ...              ...              ...   \n",
       "ENSG00000273489                0                0                0   \n",
       "ENSG00000273490                0                0                0   \n",
       "ENSG00000273491                0                0                0   \n",
       "ENSG00000273492                0                0                0   \n",
       "ENSG00000273493                0                0                0   \n",
       "\n",
       "                 Sample_76_adipo  Sample_77_adipo  Sample_78_adipo  \\\n",
       "Gene_ID                                                              \n",
       "ENSG00000000003               16                3               14   \n",
       "ENSG00000000005                3                0                2   \n",
       "ENSG00000000419                9                9                4   \n",
       "ENSG00000000457                0               12               13   \n",
       "ENSG00000000460                0                1                4   \n",
       "...                          ...              ...              ...   \n",
       "ENSG00000273489                0                0                0   \n",
       "ENSG00000273490                0                0                0   \n",
       "ENSG00000273491                0                0                0   \n",
       "ENSG00000273492                0                0                0   \n",
       "ENSG00000273493                0                0                0   \n",
       "\n",
       "                 Sample_79_adipo  Sample_80_adipo  \n",
       "Gene_ID                                            \n",
       "ENSG00000000003               11               16  \n",
       "ENSG00000000005                0                5  \n",
       "ENSG00000000419               16                5  \n",
       "ENSG00000000457                4               11  \n",
       "ENSG00000000460                0               10  \n",
       "...                          ...              ...  \n",
       "ENSG00000273489                0                0  \n",
       "ENSG00000273490                0                0  \n",
       "ENSG00000273491                0                0  \n",
       "ENSG00000273492                0                0  \n",
       "ENSG00000273493                3                0  \n",
       "\n",
       "[63677 rows x 80 columns]"
      ]
     },
     "execution_count": 5,
     "metadata": {},
     "output_type": "execute_result"
    }
   ],
   "source": [
    "transcriptomics"
   ]
  },
  {
   "cell_type": "markdown",
   "metadata": {},
   "source": [
    "d)"
   ]
  },
  {
   "cell_type": "code",
   "execution_count": 6,
   "metadata": {},
   "outputs": [],
   "source": [
    "transcriptomics = transcriptomics.loc[(transcriptomics != 0).any(axis=1),:]"
   ]
  },
  {
   "cell_type": "code",
   "execution_count": 7,
   "metadata": {},
   "outputs": [
    {
     "data": {
      "text/html": [
       "<div>\n",
       "<style scoped>\n",
       "    .dataframe tbody tr th:only-of-type {\n",
       "        vertical-align: middle;\n",
       "    }\n",
       "\n",
       "    .dataframe tbody tr th {\n",
       "        vertical-align: top;\n",
       "    }\n",
       "\n",
       "    .dataframe thead th {\n",
       "        text-align: right;\n",
       "    }\n",
       "</style>\n",
       "<table border=\"1\" class=\"dataframe\">\n",
       "  <thead>\n",
       "    <tr style=\"text-align: right;\">\n",
       "      <th></th>\n",
       "      <th>Sample_1_preadi</th>\n",
       "      <th>Sample_2_preadi</th>\n",
       "      <th>Sample_3_preadi</th>\n",
       "      <th>Sample_4_preadi</th>\n",
       "      <th>Sample_5_preadi</th>\n",
       "      <th>Sample_6_preadi</th>\n",
       "      <th>Sample_7_preadi</th>\n",
       "      <th>Sample_8_preadi</th>\n",
       "      <th>Sample_9_preadi</th>\n",
       "      <th>Sample_10_preadi</th>\n",
       "      <th>...</th>\n",
       "      <th>Sample_71_adipo</th>\n",
       "      <th>Sample_72_adipo</th>\n",
       "      <th>Sample_73_adipo</th>\n",
       "      <th>Sample_74_adipo</th>\n",
       "      <th>Sample_75_adipo</th>\n",
       "      <th>Sample_76_adipo</th>\n",
       "      <th>Sample_77_adipo</th>\n",
       "      <th>Sample_78_adipo</th>\n",
       "      <th>Sample_79_adipo</th>\n",
       "      <th>Sample_80_adipo</th>\n",
       "    </tr>\n",
       "    <tr>\n",
       "      <th>Gene_ID</th>\n",
       "      <th></th>\n",
       "      <th></th>\n",
       "      <th></th>\n",
       "      <th></th>\n",
       "      <th></th>\n",
       "      <th></th>\n",
       "      <th></th>\n",
       "      <th></th>\n",
       "      <th></th>\n",
       "      <th></th>\n",
       "      <th></th>\n",
       "      <th></th>\n",
       "      <th></th>\n",
       "      <th></th>\n",
       "      <th></th>\n",
       "      <th></th>\n",
       "      <th></th>\n",
       "      <th></th>\n",
       "      <th></th>\n",
       "      <th></th>\n",
       "      <th></th>\n",
       "    </tr>\n",
       "  </thead>\n",
       "  <tbody>\n",
       "    <tr>\n",
       "      <th>ENSG00000000003</th>\n",
       "      <td>18</td>\n",
       "      <td>12</td>\n",
       "      <td>9</td>\n",
       "      <td>20</td>\n",
       "      <td>9</td>\n",
       "      <td>13</td>\n",
       "      <td>20</td>\n",
       "      <td>8</td>\n",
       "      <td>4</td>\n",
       "      <td>7</td>\n",
       "      <td>...</td>\n",
       "      <td>9</td>\n",
       "      <td>9</td>\n",
       "      <td>30</td>\n",
       "      <td>9</td>\n",
       "      <td>23</td>\n",
       "      <td>16</td>\n",
       "      <td>3</td>\n",
       "      <td>14</td>\n",
       "      <td>11</td>\n",
       "      <td>16</td>\n",
       "    </tr>\n",
       "    <tr>\n",
       "      <th>ENSG00000000005</th>\n",
       "      <td>0</td>\n",
       "      <td>0</td>\n",
       "      <td>0</td>\n",
       "      <td>2</td>\n",
       "      <td>0</td>\n",
       "      <td>0</td>\n",
       "      <td>0</td>\n",
       "      <td>0</td>\n",
       "      <td>0</td>\n",
       "      <td>0</td>\n",
       "      <td>...</td>\n",
       "      <td>0</td>\n",
       "      <td>1</td>\n",
       "      <td>29</td>\n",
       "      <td>2</td>\n",
       "      <td>22</td>\n",
       "      <td>3</td>\n",
       "      <td>0</td>\n",
       "      <td>2</td>\n",
       "      <td>0</td>\n",
       "      <td>5</td>\n",
       "    </tr>\n",
       "    <tr>\n",
       "      <th>ENSG00000000419</th>\n",
       "      <td>10</td>\n",
       "      <td>9</td>\n",
       "      <td>9</td>\n",
       "      <td>8</td>\n",
       "      <td>10</td>\n",
       "      <td>10</td>\n",
       "      <td>6</td>\n",
       "      <td>35</td>\n",
       "      <td>13</td>\n",
       "      <td>15</td>\n",
       "      <td>...</td>\n",
       "      <td>3</td>\n",
       "      <td>9</td>\n",
       "      <td>9</td>\n",
       "      <td>15</td>\n",
       "      <td>8</td>\n",
       "      <td>9</td>\n",
       "      <td>9</td>\n",
       "      <td>4</td>\n",
       "      <td>16</td>\n",
       "      <td>5</td>\n",
       "    </tr>\n",
       "    <tr>\n",
       "      <th>ENSG00000000457</th>\n",
       "      <td>0</td>\n",
       "      <td>11</td>\n",
       "      <td>0</td>\n",
       "      <td>6</td>\n",
       "      <td>2</td>\n",
       "      <td>12</td>\n",
       "      <td>11</td>\n",
       "      <td>1</td>\n",
       "      <td>2</td>\n",
       "      <td>0</td>\n",
       "      <td>...</td>\n",
       "      <td>9</td>\n",
       "      <td>8</td>\n",
       "      <td>8</td>\n",
       "      <td>5</td>\n",
       "      <td>6</td>\n",
       "      <td>0</td>\n",
       "      <td>12</td>\n",
       "      <td>13</td>\n",
       "      <td>4</td>\n",
       "      <td>11</td>\n",
       "    </tr>\n",
       "    <tr>\n",
       "      <th>ENSG00000000460</th>\n",
       "      <td>0</td>\n",
       "      <td>0</td>\n",
       "      <td>14</td>\n",
       "      <td>4</td>\n",
       "      <td>5</td>\n",
       "      <td>0</td>\n",
       "      <td>0</td>\n",
       "      <td>6</td>\n",
       "      <td>4</td>\n",
       "      <td>0</td>\n",
       "      <td>...</td>\n",
       "      <td>0</td>\n",
       "      <td>0</td>\n",
       "      <td>3</td>\n",
       "      <td>0</td>\n",
       "      <td>1</td>\n",
       "      <td>0</td>\n",
       "      <td>1</td>\n",
       "      <td>4</td>\n",
       "      <td>0</td>\n",
       "      <td>10</td>\n",
       "    </tr>\n",
       "    <tr>\n",
       "      <th>...</th>\n",
       "      <td>...</td>\n",
       "      <td>...</td>\n",
       "      <td>...</td>\n",
       "      <td>...</td>\n",
       "      <td>...</td>\n",
       "      <td>...</td>\n",
       "      <td>...</td>\n",
       "      <td>...</td>\n",
       "      <td>...</td>\n",
       "      <td>...</td>\n",
       "      <td>...</td>\n",
       "      <td>...</td>\n",
       "      <td>...</td>\n",
       "      <td>...</td>\n",
       "      <td>...</td>\n",
       "      <td>...</td>\n",
       "      <td>...</td>\n",
       "      <td>...</td>\n",
       "      <td>...</td>\n",
       "      <td>...</td>\n",
       "      <td>...</td>\n",
       "    </tr>\n",
       "    <tr>\n",
       "      <th>ENSG00000273485</th>\n",
       "      <td>0</td>\n",
       "      <td>0</td>\n",
       "      <td>0</td>\n",
       "      <td>1</td>\n",
       "      <td>0</td>\n",
       "      <td>5</td>\n",
       "      <td>0</td>\n",
       "      <td>0</td>\n",
       "      <td>0</td>\n",
       "      <td>0</td>\n",
       "      <td>...</td>\n",
       "      <td>0</td>\n",
       "      <td>0</td>\n",
       "      <td>0</td>\n",
       "      <td>0</td>\n",
       "      <td>0</td>\n",
       "      <td>12</td>\n",
       "      <td>0</td>\n",
       "      <td>0</td>\n",
       "      <td>0</td>\n",
       "      <td>0</td>\n",
       "    </tr>\n",
       "    <tr>\n",
       "      <th>ENSG00000273486</th>\n",
       "      <td>0</td>\n",
       "      <td>0</td>\n",
       "      <td>0</td>\n",
       "      <td>0</td>\n",
       "      <td>1</td>\n",
       "      <td>0</td>\n",
       "      <td>0</td>\n",
       "      <td>0</td>\n",
       "      <td>0</td>\n",
       "      <td>0</td>\n",
       "      <td>...</td>\n",
       "      <td>0</td>\n",
       "      <td>2</td>\n",
       "      <td>0</td>\n",
       "      <td>3</td>\n",
       "      <td>0</td>\n",
       "      <td>2</td>\n",
       "      <td>5</td>\n",
       "      <td>1</td>\n",
       "      <td>0</td>\n",
       "      <td>0</td>\n",
       "    </tr>\n",
       "    <tr>\n",
       "      <th>ENSG00000273487</th>\n",
       "      <td>0</td>\n",
       "      <td>0</td>\n",
       "      <td>0</td>\n",
       "      <td>0</td>\n",
       "      <td>0</td>\n",
       "      <td>0</td>\n",
       "      <td>0</td>\n",
       "      <td>0</td>\n",
       "      <td>0</td>\n",
       "      <td>0</td>\n",
       "      <td>...</td>\n",
       "      <td>0</td>\n",
       "      <td>0</td>\n",
       "      <td>0</td>\n",
       "      <td>0</td>\n",
       "      <td>0</td>\n",
       "      <td>0</td>\n",
       "      <td>0</td>\n",
       "      <td>0</td>\n",
       "      <td>0</td>\n",
       "      <td>0</td>\n",
       "    </tr>\n",
       "    <tr>\n",
       "      <th>ENSG00000273489</th>\n",
       "      <td>0</td>\n",
       "      <td>0</td>\n",
       "      <td>0</td>\n",
       "      <td>2</td>\n",
       "      <td>0</td>\n",
       "      <td>1</td>\n",
       "      <td>8</td>\n",
       "      <td>0</td>\n",
       "      <td>0</td>\n",
       "      <td>0</td>\n",
       "      <td>...</td>\n",
       "      <td>0</td>\n",
       "      <td>0</td>\n",
       "      <td>0</td>\n",
       "      <td>0</td>\n",
       "      <td>0</td>\n",
       "      <td>0</td>\n",
       "      <td>0</td>\n",
       "      <td>0</td>\n",
       "      <td>0</td>\n",
       "      <td>0</td>\n",
       "    </tr>\n",
       "    <tr>\n",
       "      <th>ENSG00000273493</th>\n",
       "      <td>0</td>\n",
       "      <td>0</td>\n",
       "      <td>0</td>\n",
       "      <td>0</td>\n",
       "      <td>0</td>\n",
       "      <td>0</td>\n",
       "      <td>0</td>\n",
       "      <td>0</td>\n",
       "      <td>1</td>\n",
       "      <td>0</td>\n",
       "      <td>...</td>\n",
       "      <td>0</td>\n",
       "      <td>0</td>\n",
       "      <td>0</td>\n",
       "      <td>0</td>\n",
       "      <td>0</td>\n",
       "      <td>0</td>\n",
       "      <td>0</td>\n",
       "      <td>0</td>\n",
       "      <td>3</td>\n",
       "      <td>0</td>\n",
       "    </tr>\n",
       "  </tbody>\n",
       "</table>\n",
       "<p>30238 rows × 80 columns</p>\n",
       "</div>"
      ],
      "text/plain": [
       "                 Sample_1_preadi  Sample_2_preadi  Sample_3_preadi  \\\n",
       "Gene_ID                                                              \n",
       "ENSG00000000003               18               12                9   \n",
       "ENSG00000000005                0                0                0   \n",
       "ENSG00000000419               10                9                9   \n",
       "ENSG00000000457                0               11                0   \n",
       "ENSG00000000460                0                0               14   \n",
       "...                          ...              ...              ...   \n",
       "ENSG00000273485                0                0                0   \n",
       "ENSG00000273486                0                0                0   \n",
       "ENSG00000273487                0                0                0   \n",
       "ENSG00000273489                0                0                0   \n",
       "ENSG00000273493                0                0                0   \n",
       "\n",
       "                 Sample_4_preadi  Sample_5_preadi  Sample_6_preadi  \\\n",
       "Gene_ID                                                              \n",
       "ENSG00000000003               20                9               13   \n",
       "ENSG00000000005                2                0                0   \n",
       "ENSG00000000419                8               10               10   \n",
       "ENSG00000000457                6                2               12   \n",
       "ENSG00000000460                4                5                0   \n",
       "...                          ...              ...              ...   \n",
       "ENSG00000273485                1                0                5   \n",
       "ENSG00000273486                0                1                0   \n",
       "ENSG00000273487                0                0                0   \n",
       "ENSG00000273489                2                0                1   \n",
       "ENSG00000273493                0                0                0   \n",
       "\n",
       "                 Sample_7_preadi  Sample_8_preadi  Sample_9_preadi  \\\n",
       "Gene_ID                                                              \n",
       "ENSG00000000003               20                8                4   \n",
       "ENSG00000000005                0                0                0   \n",
       "ENSG00000000419                6               35               13   \n",
       "ENSG00000000457               11                1                2   \n",
       "ENSG00000000460                0                6                4   \n",
       "...                          ...              ...              ...   \n",
       "ENSG00000273485                0                0                0   \n",
       "ENSG00000273486                0                0                0   \n",
       "ENSG00000273487                0                0                0   \n",
       "ENSG00000273489                8                0                0   \n",
       "ENSG00000273493                0                0                1   \n",
       "\n",
       "                 Sample_10_preadi  ...  Sample_71_adipo  Sample_72_adipo  \\\n",
       "Gene_ID                            ...                                     \n",
       "ENSG00000000003                 7  ...                9                9   \n",
       "ENSG00000000005                 0  ...                0                1   \n",
       "ENSG00000000419                15  ...                3                9   \n",
       "ENSG00000000457                 0  ...                9                8   \n",
       "ENSG00000000460                 0  ...                0                0   \n",
       "...                           ...  ...              ...              ...   \n",
       "ENSG00000273485                 0  ...                0                0   \n",
       "ENSG00000273486                 0  ...                0                2   \n",
       "ENSG00000273487                 0  ...                0                0   \n",
       "ENSG00000273489                 0  ...                0                0   \n",
       "ENSG00000273493                 0  ...                0                0   \n",
       "\n",
       "                 Sample_73_adipo  Sample_74_adipo  Sample_75_adipo  \\\n",
       "Gene_ID                                                              \n",
       "ENSG00000000003               30                9               23   \n",
       "ENSG00000000005               29                2               22   \n",
       "ENSG00000000419                9               15                8   \n",
       "ENSG00000000457                8                5                6   \n",
       "ENSG00000000460                3                0                1   \n",
       "...                          ...              ...              ...   \n",
       "ENSG00000273485                0                0                0   \n",
       "ENSG00000273486                0                3                0   \n",
       "ENSG00000273487                0                0                0   \n",
       "ENSG00000273489                0                0                0   \n",
       "ENSG00000273493                0                0                0   \n",
       "\n",
       "                 Sample_76_adipo  Sample_77_adipo  Sample_78_adipo  \\\n",
       "Gene_ID                                                              \n",
       "ENSG00000000003               16                3               14   \n",
       "ENSG00000000005                3                0                2   \n",
       "ENSG00000000419                9                9                4   \n",
       "ENSG00000000457                0               12               13   \n",
       "ENSG00000000460                0                1                4   \n",
       "...                          ...              ...              ...   \n",
       "ENSG00000273485               12                0                0   \n",
       "ENSG00000273486                2                5                1   \n",
       "ENSG00000273487                0                0                0   \n",
       "ENSG00000273489                0                0                0   \n",
       "ENSG00000273493                0                0                0   \n",
       "\n",
       "                 Sample_79_adipo  Sample_80_adipo  \n",
       "Gene_ID                                            \n",
       "ENSG00000000003               11               16  \n",
       "ENSG00000000005                0                5  \n",
       "ENSG00000000419               16                5  \n",
       "ENSG00000000457                4               11  \n",
       "ENSG00000000460                0               10  \n",
       "...                          ...              ...  \n",
       "ENSG00000273485                0                0  \n",
       "ENSG00000273486                0                0  \n",
       "ENSG00000273487                0                0  \n",
       "ENSG00000273489                0                0  \n",
       "ENSG00000273493                3                0  \n",
       "\n",
       "[30238 rows x 80 columns]"
      ]
     },
     "execution_count": 7,
     "metadata": {},
     "output_type": "execute_result"
    }
   ],
   "source": [
    "transcriptomics"
   ]
  },
  {
   "cell_type": "markdown",
   "metadata": {},
   "source": [
    "e)"
   ]
  },
  {
   "cell_type": "code",
   "execution_count": 8,
   "metadata": {},
   "outputs": [
    {
     "data": {
      "text/plain": [
       "True"
      ]
     },
     "execution_count": 8,
     "metadata": {},
     "output_type": "execute_result"
    }
   ],
   "source": [
    "(transcriptomics.sum() == 1e6).all()"
   ]
  },
  {
   "cell_type": "code",
   "execution_count": 9,
   "metadata": {},
   "outputs": [
    {
     "data": {
      "image/png": "[encoded data removed]",
      "text/plain": [
       "<Figure size 1440x720 with 1 Axes>"
      ]
     },
     "metadata": {
      "needs_background": "light"
     },
     "output_type": "display_data"
    }
   ],
   "source": [
    "depth = pd.DataFrame({'Samples':list(range(0,80)), 'depth':transcriptomics.sum()})\n",
    "plt.figure(figsize=(20,10))\n",
    "ax =sns.barplot( data=depth, y='depth', x=\"Samples\")"
   ]
  },
  {
   "cell_type": "markdown",
   "metadata": {},
   "source": [
    "Do not need to normalized"
   ]
  },
  {
   "cell_type": "markdown",
   "metadata": {},
   "source": [
    "f)"
   ]
  },
  {
   "cell_type": "code",
   "execution_count": 10,
   "metadata": {},
   "outputs": [
    {
     "data": {
      "application/vnd.plotly.v1+json": {
       "config": {
        "plotlyServerURL": "https://plot.ly"
       },
       "data": [
        {
         "hovertemplate": "groups=PreAdipo<br>PCA1=%{x}<br>PCA2=%{y}<br>PCA3=%{z}<extra></extra>",
         "legendgroup": "PreAdipo",
         "marker": {
          "color": "#636efa",
          "symbol": "circle"
         },
         "mode": "markers",
         "name": "PreAdipo",
         "scene": "scene",
         "showlegend": true,
         "type": "scatter3d",
         "x": [
          59744.20487486377,
          -36447.50255004799,
          -15666.397485666941,
          -22423.413306603667,
          -15830.729625471618,
          -17332.667723431274,
          -12955.30377463513,
          -6793.369551946887,
          -38277.916083316726,
          7533.75425107581,
          12136.694134477746,
          -8674.685048862411,
          -13743.502268817354,
          -3823.1927891568207,
          -26862.92502996951,
          -20949.27590531628,
          100.46620410436259,
          14153.027864329315,
          -18104.223937926276,
          -19679.392308106264,
          -21930.660054985503,
          -20557.360553268074,
          -19819.943609895767,
          -16877.796159424375,
          -19060.35838834134,
          -27097.130554989693,
          -27237.655895723143,
          -15548.502302760411,
          975.0945234179117,
          2447.3361996277185,
          -27137.592455098304,
          -14665.737411881064,
          -4912.153744272396,
          -19399.05182091878,
          5677.757574148708,
          222.538466347157,
          -21312.391064609445,
          -17697.62815770352,
          -19136.854282519325,
          -5107.956773698227
         ],
         "y": [
          5181.48420727983,
          11214.46955146531,
          -7873.272341364931,
          -20027.14099029689,
          -13797.002922133835,
          -3597.1800412011985,
          14041.820704478429,
          -16810.345315512444,
          3570.9447011775374,
          9691.262731453759,
          -12752.484044746292,
          -18356.715174296878,
          -6222.8124269112395,
          -20290.91331527675,
          -19717.963044769065,
          -16902.647454803155,
          -16815.850844682507,
          -5007.12542140936,
          -262.3659737189863,
          -13609.739742818636,
          -2584.5681412565145,
          -16718.396638597875,
          -10361.694943143384,
          -25571.459647816086,
          30299.38295563285,
          13888.191538375517,
          -17274.405760917813,
          -24198.47715650498,
          -19830.051019646762,
          8865.518644955468,
          23345.719463316815,
          19074.587971051613,
          -4432.788581224039,
          -22451.848103364267,
          -2563.792541542694,
          -3215.381289766203,
          -8996.693560014883,
          10553.342367703885,
          -29585.876536315238,
          -16192.532226373107
         ],
         "z": [
          34953.67319385108,
          6564.207381039766,
          3183.1652380376804,
          -15412.563779790336,
          -8727.933106136581,
          2525.9410508172055,
          15781.996739875578,
          3527.7035737444653,
          -6783.3044980172845,
          26837.308224171105,
          18027.17704334765,
          6641.195236863138,
          14444.9007613624,
          4782.257096399983,
          -7147.891608301563,
          -841.2817067612839,
          16422.979307524136,
          25362.59860300459,
          -4885.658971542922,
          -3265.329395054162,
          11806.55877766247,
          4520.238492127858,
          -5042.802487202424,
          7260.860610162977,
          6163.046222034611,
          -1571.4321487645261,
          -16448.095458911583,
          13797.70773395935,
          11598.755546077222,
          26836.484500365925,
          7694.887240347973,
          15510.193538690854,
          3138.8300370410893,
          -3300.2984027778243,
          16169.582721523375,
          19613.785697611514,
          -5086.666842807945,
          12100.413081769075,
          -6968.774935793827,
          1401.4947245660796
         ]
        },
        {
         "hovertemplate": "groups=Adipo<br>PCA1=%{x}<br>PCA2=%{y}<br>PCA3=%{z}<extra></extra>",
         "legendgroup": "Adipo",
         "marker": {
          "color": "#EF553B",
          "symbol": "circle"
         },
         "mode": "markers",
         "name": "Adipo",
         "scene": "scene",
         "showlegend": true,
         "type": "scatter3d",
         "x": [
          19182.98360660252,
          36821.6196236428,
          31058.721202798883,
          -5371.8253108950985,
          30748.774478412826,
          28368.447661204154,
          -194.9607004020612,
          18732.173107838713,
          54855.70260918239,
          11348.213163266926,
          -27480.951624719182,
          -20259.82128571629,
          533.8487953007993,
          3635.93464870505,
          72278.57264525007,
          45723.35350368417,
          -31910.386775500352,
          43759.44292771798,
          17327.521387951627,
          -23198.11148737585,
          -6584.728976739543,
          4904.4407787715045,
          -28571.185287606542,
          -3436.177160647732,
          15726.245812798423,
          6858.917857019012,
          35228.16427971715,
          13276.79224878247,
          -2399.932522612538,
          27136.282535575418,
          -6336.925733156157,
          -5853.25882002608,
          18653.507279559577,
          15629.23166080127,
          47002.216444248,
          39830.37461771205,
          44353.45478829574,
          -2515.045934498291,
          -23979.41358160573,
          -22809.815936366213
         ],
         "y": [
          22856.86203932664,
          4323.415183007031,
          -4590.180382839321,
          2020.861172118552,
          -9236.424686545095,
          -7349.0328573277675,
          -7870.58250801851,
          7297.532101292808,
          6340.01153855698,
          3537.0853559095713,
          13309.652146565668,
          28378.46019916142,
          -1284.9706611667261,
          22985.806763252494,
          3022.323151849338,
          4164.866712706198,
          37097.62802378498,
          8979.629245940345,
          -5850.235907982978,
          32896.14461922696,
          5122.016674993684,
          -8300.692287209975,
          17492.863674145156,
          1453.6160263567263,
          2301.566645359372,
          -7864.483210205935,
          760.749809290027,
          4570.8225088433155,
          7135.646489973184,
          -10884.204511007683,
          9892.72515491487,
          1047.5955256117152,
          -9750.767561757653,
          -6457.210005998244,
          9746.196903603479,
          16913.11644676912,
          -2109.82810647483,
          2289.3874474949457,
          32201.099005909113,
          19705.732484106164
         ],
         "z": [
          -5510.235095140562,
          -6010.654238492505,
          4071.2268014042584,
          -5554.0258830942375,
          1112.1698730779738,
          15266.09793982326,
          -15288.412637389803,
          -18381.165586669144,
          -9613.841736894725,
          -19590.393667350236,
          -11326.97276807418,
          -88.24917676795681,
          853.3559566395684,
          -11953.530277153206,
          774.2370535002334,
          -3726.0280086648895,
          -4561.825460075212,
          -4340.635521221806,
          1481.4544345196082,
          1880.5637843804602,
          -8555.932897587614,
          3162.16291724735,
          -139.91801757808622,
          -16316.012844921093,
          -28522.28043257991,
          -581.7589528375651,
          -9247.558804884302,
          -7136.199427316049,
          -2899.212322222381,
          -15069.436207047434,
          -522.1420787542612,
          -2521.3197613972306,
          -14678.951262550088,
          -12126.88643947181,
          -1171.5425925099184,
          2542.19921397532,
          -14291.751795575758,
          -29504.065114647696,
          -2077.782790384437,
          -1020.6552074311447
         ]
        }
       ],
       "layout": {
        "legend": {
         "title": {
          "text": "groups"
         },
         "tracegroupgap": 0
        },
        "margin": {
         "t": 60
        },
        "scene": {
         "domain": {
          "x": [
           0,
           1
          ],
          "y": [
           0,
           1
          ]
         },
         "xaxis": {
          "title": {
           "text": "PCA1"
          }
         },
         "yaxis": {
          "title": {
           "text": "PCA2"
          }
         },
         "zaxis": {
          "title": {
           "text": "PCA3"
          }
         }
        },
        "template": {
         "data": {
          "bar": [
           {
            "error_x": {
             "color": "#2a3f5f"
            },
            "error_y": {
             "color": "#2a3f5f"
            },
            "marker": {
             "line": {
              "color": "#E5ECF6",
              "width": 0.5
             },
             "pattern": {
              "fillmode": "overlay",
              "size": 10,
              "solidity": 0.2
             }
            },
            "type": "bar"
           }
          ],
          "barpolar": [
           {
            "marker": {
             "line": {
              "color": "#E5ECF6",
              "width": 0.5
             },
             "pattern": {
              "fillmode": "overlay",
              "size": 10,
              "solidity": 0.2
             }
            },
            "type": "barpolar"
           }
          ],
          "carpet": [
           {
            "aaxis": {
             "endlinecolor": "#2a3f5f",
             "gridcolor": "white",
             "linecolor": "white",
             "minorgridcolor": "white",
             "startlinecolor": "#2a3f5f"
            },
            "baxis": {
             "endlinecolor": "#2a3f5f",
             "gridcolor": "white",
             "linecolor": "white",
             "minorgridcolor": "white",
             "startlinecolor": "#2a3f5f"
            },
            "type": "carpet"
           }
          ],
          "choropleth": [
           {
            "colorbar": {
             "outlinewidth": 0,
             "ticks": ""
            },
            "type": "choropleth"
           }
          ],
          "contour": [
           {
            "colorbar": {
             "outlinewidth": 0,
             "ticks": ""
            },
            "colorscale": [
             [
              0,
              "#0d0887"
             ],
             [
              0.1111111111111111,
              "#46039f"
             ],
             [
              0.2222222222222222,
              "#7201a8"
             ],
             [
              0.3333333333333333,
              "#9c179e"
             ],
             [
              0.4444444444444444,
              "#bd3786"
             ],
             [
              0.5555555555555556,
              "#d8576b"
             ],
             [
              0.6666666666666666,
              "#ed7953"
             ],
             [
              0.7777777777777778,
              "#fb9f3a"
             ],
             [
              0.8888888888888888,
              "#fdca26"
             ],
             [
              1,
              "#f0f921"
             ]
            ],
            "type": "contour"
           }
          ],
          "contourcarpet": [
           {
            "colorbar": {
             "outlinewidth": 0,
             "ticks": ""
            },
            "type": "contourcarpet"
           }
          ],
          "heatmap": [
           {
            "colorbar": {
             "outlinewidth": 0,
             "ticks": ""
            },
            "colorscale": [
             [
              0,
              "#0d0887"
             ],
             [
              0.1111111111111111,
              "#46039f"
             ],
             [
              0.2222222222222222,
              "#7201a8"
             ],
             [
              0.3333333333333333,
              "#9c179e"
             ],
             [
              0.4444444444444444,
              "#bd3786"
             ],
             [
              0.5555555555555556,
              "#d8576b"
             ],
             [
              0.6666666666666666,
              "#ed7953"
             ],
             [
              0.7777777777777778,
              "#fb9f3a"
             ],
             [
              0.8888888888888888,
              "#fdca26"
             ],
             [
              1,
              "#f0f921"
             ]
            ],
            "type": "heatmap"
           }
          ],
          "heatmapgl": [
           {
            "colorbar": {
             "outlinewidth": 0,
             "ticks": ""
            },
            "colorscale": [
             [
              0,
              "#0d0887"
             ],
             [
              0.1111111111111111,
              "#46039f"
             ],
             [
              0.2222222222222222,
              "#7201a8"
             ],
             [
              0.3333333333333333,
              "#9c179e"
             ],
             [
              0.4444444444444444,
              "#bd3786"
             ],
             [
              0.5555555555555556,
              "#d8576b"
             ],
             [
              0.6666666666666666,
              "#ed7953"
             ],
             [
              0.7777777777777778,
              "#fb9f3a"
             ],
             [
              0.8888888888888888,
              "#fdca26"
             ],
             [
              1,
              "#f0f921"
             ]
            ],
            "type": "heatmapgl"
           }
          ],
          "histogram": [
           {
            "marker": {
             "pattern": {
              "fillmode": "overlay",
              "size": 10,
              "solidity": 0.2
             }
            },
            "type": "histogram"
           }
          ],
          "histogram2d": [
           {
            "colorbar": {
             "outlinewidth": 0,
             "ticks": ""
            },
            "colorscale": [
             [
              0,
              "#0d0887"
             ],
             [
              0.1111111111111111,
              "#46039f"
             ],
             [
              0.2222222222222222,
              "#7201a8"
             ],
             [
              0.3333333333333333,
              "#9c179e"
             ],
             [
              0.4444444444444444,
              "#bd3786"
             ],
             [
              0.5555555555555556,
              "#d8576b"
             ],
             [
              0.6666666666666666,
              "#ed7953"
             ],
             [
              0.7777777777777778,
              "#fb9f3a"
             ],
             [
              0.8888888888888888,
              "#fdca26"
             ],
             [
              1,
              "#f0f921"
             ]
            ],
            "type": "histogram2d"
           }
          ],
          "histogram2dcontour": [
           {
            "colorbar": {
             "outlinewidth": 0,
             "ticks": ""
            },
            "colorscale": [
             [
              0,
              "#0d0887"
             ],
             [
              0.1111111111111111,
              "#46039f"
             ],
             [
              0.2222222222222222,
              "#7201a8"
             ],
             [
              0.3333333333333333,
              "#9c179e"
             ],
             [
              0.4444444444444444,
              "#bd3786"
             ],
             [
              0.5555555555555556,
              "#d8576b"
             ],
             [
              0.6666666666666666,
              "#ed7953"
             ],
             [
              0.7777777777777778,
              "#fb9f3a"
             ],
             [
              0.8888888888888888,
              "#fdca26"
             ],
             [
              1,
              "#f0f921"
             ]
            ],
            "type": "histogram2dcontour"
           }
          ],
          "mesh3d": [
           {
            "colorbar": {
             "outlinewidth": 0,
             "ticks": ""
            },
            "type": "mesh3d"
           }
          ],
          "parcoords": [
           {
            "line": {
             "colorbar": {
              "outlinewidth": 0,
              "ticks": ""
             }
            },
            "type": "parcoords"
           }
          ],
          "pie": [
           {
            "automargin": true,
            "type": "pie"
           }
          ],
          "scatter": [
           {
            "fillpattern": {
             "fillmode": "overlay",
             "size": 10,
             "solidity": 0.2
            },
            "type": "scatter"
           }
          ],
          "scatter3d": [
           {
            "line": {
             "colorbar": {
              "outlinewidth": 0,
              "ticks": ""
             }
            },
            "marker": {
             "colorbar": {
              "outlinewidth": 0,
              "ticks": ""
             }
            },
            "type": "scatter3d"
           }
          ],
          "scattercarpet": [
           {
            "marker": {
             "colorbar": {
              "outlinewidth": 0,
              "ticks": ""
             }
            },
            "type": "scattercarpet"
           }
          ],
          "scattergeo": [
           {
            "marker": {
             "colorbar": {
              "outlinewidth": 0,
              "ticks": ""
             }
            },
            "type": "scattergeo"
           }
          ],
          "scattergl": [
           {
            "marker": {
             "colorbar": {
              "outlinewidth": 0,
              "ticks": ""
             }
            },
            "type": "scattergl"
           }
          ],
          "scattermapbox": [
           {
            "marker": {
             "colorbar": {
              "outlinewidth": 0,
              "ticks": ""
             }
            },
            "type": "scattermapbox"
           }
          ],
          "scatterpolar": [
           {
            "marker": {
             "colorbar": {
              "outlinewidth": 0,
              "ticks": ""
             }
            },
            "type": "scatterpolar"
           }
          ],
          "scatterpolargl": [
           {
            "marker": {
             "colorbar": {
              "outlinewidth": 0,
              "ticks": ""
             }
            },
            "type": "scatterpolargl"
           }
          ],
          "scatterternary": [
           {
            "marker": {
             "colorbar": {
              "outlinewidth": 0,
              "ticks": ""
             }
            },
            "type": "scatterternary"
           }
          ],
          "surface": [
           {
            "colorbar": {
             "outlinewidth": 0,
             "ticks": ""
            },
            "colorscale": [
             [
              0,
              "#0d0887"
             ],
             [
              0.1111111111111111,
              "#46039f"
             ],
             [
              0.2222222222222222,
              "#7201a8"
             ],
             [
              0.3333333333333333,
              "#9c179e"
             ],
             [
              0.4444444444444444,
              "#bd3786"
             ],
             [
              0.5555555555555556,
              "#d8576b"
             ],
             [
              0.6666666666666666,
              "#ed7953"
             ],
             [
              0.7777777777777778,
              "#fb9f3a"
             ],
             [
              0.8888888888888888,
              "#fdca26"
             ],
             [
              1,
              "#f0f921"
             ]
            ],
            "type": "surface"
           }
          ],
          "table": [
           {
            "cells": {
             "fill": {
              "color": "#EBF0F8"
             },
             "line": {
              "color": "white"
             }
            },
            "header": {
             "fill": {
              "color": "#C8D4E3"
             },
             "line": {
              "color": "white"
             }
            },
            "type": "table"
           }
          ]
         },
         "layout": {
          "annotationdefaults": {
           "arrowcolor": "#2a3f5f",
           "arrowhead": 0,
           "arrowwidth": 1
          },
          "autotypenumbers": "strict",
          "coloraxis": {
           "colorbar": {
            "outlinewidth": 0,
            "ticks": ""
           }
          },
          "colorscale": {
           "diverging": [
            [
             0,
             "#8e0152"
            ],
            [
             0.1,
             "#c51b7d"
            ],
            [
             0.2,
             "#de77ae"
            ],
            [
             0.3,
             "#f1b6da"
            ],
            [
             0.4,
             "#fde0ef"
            ],
            [
             0.5,
             "#f7f7f7"
            ],
            [
             0.6,
             "#e6f5d0"
            ],
            [
             0.7,
             "#b8e186"
            ],
            [
             0.8,
             "#7fbc41"
            ],
            [
             0.9,
             "#4d9221"
            ],
            [
             1,
             "#276419"
            ]
           ],
           "sequential": [
            [
             0,
             "#0d0887"
            ],
            [
             0.1111111111111111,
             "#46039f"
            ],
            [
             0.2222222222222222,
             "#7201a8"
            ],
            [
             0.3333333333333333,
             "#9c179e"
            ],
            [
             0.4444444444444444,
             "#bd3786"
            ],
            [
             0.5555555555555556,
             "#d8576b"
            ],
            [
             0.6666666666666666,
             "#ed7953"
            ],
            [
             0.7777777777777778,
             "#fb9f3a"
            ],
            [
             0.8888888888888888,
             "#fdca26"
            ],
            [
             1,
             "#f0f921"
            ]
           ],
           "sequentialminus": [
            [
             0,
             "#0d0887"
            ],
            [
             0.1111111111111111,
             "#46039f"
            ],
            [
             0.2222222222222222,
             "#7201a8"
            ],
            [
             0.3333333333333333,
             "#9c179e"
            ],
            [
             0.4444444444444444,
             "#bd3786"
            ],
            [
             0.5555555555555556,
             "#d8576b"
            ],
            [
             0.6666666666666666,
             "#ed7953"
            ],
            [
             0.7777777777777778,
             "#fb9f3a"
            ],
            [
             0.8888888888888888,
             "#fdca26"
            ],
            [
             1,
             "#f0f921"
            ]
           ]
          },
          "colorway": [
           "#636efa",
           "#EF553B",
           "#00cc96",
           "#ab63fa",
           "#FFA15A",
           "#19d3f3",
           "#FF6692",
           "#B6E880",
           "#FF97FF",
           "#FECB52"
          ],
          "font": {
           "color": "#2a3f5f"
          },
          "geo": {
           "bgcolor": "white",
           "lakecolor": "white",
           "landcolor": "#E5ECF6",
           "showlakes": true,
           "showland": true,
           "subunitcolor": "white"
          },
          "hoverlabel": {
           "align": "left"
          },
          "hovermode": "closest",
          "mapbox": {
           "style": "light"
          },
          "paper_bgcolor": "white",
          "plot_bgcolor": "#E5ECF6",
          "polar": {
           "angularaxis": {
            "gridcolor": "white",
            "linecolor": "white",
            "ticks": ""
           },
           "bgcolor": "#E5ECF6",
           "radialaxis": {
            "gridcolor": "white",
            "linecolor": "white",
            "ticks": ""
           }
          },
          "scene": {
           "xaxis": {
            "backgroundcolor": "#E5ECF6",
            "gridcolor": "white",
            "gridwidth": 2,
            "linecolor": "white",
            "showbackground": true,
            "ticks": "",
            "zerolinecolor": "white"
           },
           "yaxis": {
            "backgroundcolor": "#E5ECF6",
            "gridcolor": "white",
            "gridwidth": 2,
            "linecolor": "white",
            "showbackground": true,
            "ticks": "",
            "zerolinecolor": "white"
           },
           "zaxis": {
            "backgroundcolor": "#E5ECF6",
            "gridcolor": "white",
            "gridwidth": 2,
            "linecolor": "white",
            "showbackground": true,
            "ticks": "",
            "zerolinecolor": "white"
           }
          },
          "shapedefaults": {
           "line": {
            "color": "#2a3f5f"
           }
          },
          "ternary": {
           "aaxis": {
            "gridcolor": "white",
            "linecolor": "white",
            "ticks": ""
           },
           "baxis": {
            "gridcolor": "white",
            "linecolor": "white",
            "ticks": ""
           },
           "bgcolor": "#E5ECF6",
           "caxis": {
            "gridcolor": "white",
            "linecolor": "white",
            "ticks": ""
           }
          },
          "title": {
           "x": 0.05
          },
          "xaxis": {
           "automargin": true,
           "gridcolor": "white",
           "linecolor": "white",
           "ticks": "",
           "title": {
            "standoff": 15
           },
           "zerolinecolor": "white",
           "zerolinewidth": 2
          },
          "yaxis": {
           "automargin": true,
           "gridcolor": "white",
           "linecolor": "white",
           "ticks": "",
           "title": {
            "standoff": 15
           },
           "zerolinecolor": "white",
           "zerolinewidth": 2
          }
         }
        }
       }
      }
     },
     "metadata": {},
     "output_type": "display_data"
    }
   ],
   "source": [
    "X = transcriptomics.T.to_numpy(dtype=float)\n",
    "pca = PCA(n_components=3)\n",
    "pca_output = pca.fit_transform(X)\n",
    "pca_output_df = pd.DataFrame(pca_output, columns=['PCA1', 'PCA2', 'PCA3'])\n",
    "pca_output_df[\"groups\"] = dict_sample.values()\n",
    "\n",
    "\n",
    "fig = px.scatter_3d(pca_output_df, x='PCA1', y='PCA2', z='PCA3', color=\"groups\")\n",
    "fig.show()"
   ]
  },
  {
   "cell_type": "markdown",
   "metadata": {},
   "source": [
    "g)"
   ]
  },
  {
   "cell_type": "code",
   "execution_count": 11,
   "metadata": {},
   "outputs": [
    {
     "data": {
      "text/html": [
       "<div>\n",
       "<style scoped>\n",
       "    .dataframe tbody tr th:only-of-type {\n",
       "        vertical-align: middle;\n",
       "    }\n",
       "\n",
       "    .dataframe tbody tr th {\n",
       "        vertical-align: top;\n",
       "    }\n",
       "\n",
       "    .dataframe thead th {\n",
       "        text-align: right;\n",
       "    }\n",
       "</style>\n",
       "<table border=\"1\" class=\"dataframe\">\n",
       "  <thead>\n",
       "    <tr style=\"text-align: right;\">\n",
       "      <th></th>\n",
       "      <th>Sample_1_preadi</th>\n",
       "      <th>Sample_2_preadi</th>\n",
       "      <th>Sample_3_preadi</th>\n",
       "      <th>Sample_4_preadi</th>\n",
       "      <th>Sample_5_preadi</th>\n",
       "      <th>Sample_6_preadi</th>\n",
       "      <th>Sample_7_preadi</th>\n",
       "      <th>Sample_8_preadi</th>\n",
       "      <th>Sample_9_preadi</th>\n",
       "      <th>Sample_10_preadi</th>\n",
       "      <th>...</th>\n",
       "      <th>Sample_71_adipo</th>\n",
       "      <th>Sample_72_adipo</th>\n",
       "      <th>Sample_73_adipo</th>\n",
       "      <th>Sample_74_adipo</th>\n",
       "      <th>Sample_75_adipo</th>\n",
       "      <th>Sample_76_adipo</th>\n",
       "      <th>Sample_77_adipo</th>\n",
       "      <th>Sample_78_adipo</th>\n",
       "      <th>Sample_79_adipo</th>\n",
       "      <th>Sample_80_adipo</th>\n",
       "    </tr>\n",
       "    <tr>\n",
       "      <th>Gene_ID</th>\n",
       "      <th></th>\n",
       "      <th></th>\n",
       "      <th></th>\n",
       "      <th></th>\n",
       "      <th></th>\n",
       "      <th></th>\n",
       "      <th></th>\n",
       "      <th></th>\n",
       "      <th></th>\n",
       "      <th></th>\n",
       "      <th></th>\n",
       "      <th></th>\n",
       "      <th></th>\n",
       "      <th></th>\n",
       "      <th></th>\n",
       "      <th></th>\n",
       "      <th></th>\n",
       "      <th></th>\n",
       "      <th></th>\n",
       "      <th></th>\n",
       "      <th></th>\n",
       "    </tr>\n",
       "  </thead>\n",
       "  <tbody>\n",
       "    <tr>\n",
       "      <th>ENSG00000000003</th>\n",
       "      <td>4.247928</td>\n",
       "      <td>3.700440</td>\n",
       "      <td>3.321928</td>\n",
       "      <td>4.392317</td>\n",
       "      <td>3.321928</td>\n",
       "      <td>3.807355</td>\n",
       "      <td>4.392317</td>\n",
       "      <td>3.169925</td>\n",
       "      <td>2.321928</td>\n",
       "      <td>3.0</td>\n",
       "      <td>...</td>\n",
       "      <td>3.321928</td>\n",
       "      <td>3.321928</td>\n",
       "      <td>4.954196</td>\n",
       "      <td>3.321928</td>\n",
       "      <td>4.584963</td>\n",
       "      <td>4.087463</td>\n",
       "      <td>2.000000</td>\n",
       "      <td>3.906891</td>\n",
       "      <td>3.584963</td>\n",
       "      <td>4.087463</td>\n",
       "    </tr>\n",
       "    <tr>\n",
       "      <th>ENSG00000000005</th>\n",
       "      <td>0.000000</td>\n",
       "      <td>0.000000</td>\n",
       "      <td>0.000000</td>\n",
       "      <td>1.584963</td>\n",
       "      <td>0.000000</td>\n",
       "      <td>0.000000</td>\n",
       "      <td>0.000000</td>\n",
       "      <td>0.000000</td>\n",
       "      <td>0.000000</td>\n",
       "      <td>0.0</td>\n",
       "      <td>...</td>\n",
       "      <td>0.000000</td>\n",
       "      <td>1.000000</td>\n",
       "      <td>4.906891</td>\n",
       "      <td>1.584963</td>\n",
       "      <td>4.523562</td>\n",
       "      <td>2.000000</td>\n",
       "      <td>0.000000</td>\n",
       "      <td>1.584963</td>\n",
       "      <td>0.000000</td>\n",
       "      <td>2.584963</td>\n",
       "    </tr>\n",
       "    <tr>\n",
       "      <th>ENSG00000000419</th>\n",
       "      <td>3.459432</td>\n",
       "      <td>3.321928</td>\n",
       "      <td>3.321928</td>\n",
       "      <td>3.169925</td>\n",
       "      <td>3.459432</td>\n",
       "      <td>3.459432</td>\n",
       "      <td>2.807355</td>\n",
       "      <td>5.169925</td>\n",
       "      <td>3.807355</td>\n",
       "      <td>4.0</td>\n",
       "      <td>...</td>\n",
       "      <td>2.000000</td>\n",
       "      <td>3.321928</td>\n",
       "      <td>3.321928</td>\n",
       "      <td>4.000000</td>\n",
       "      <td>3.169925</td>\n",
       "      <td>3.321928</td>\n",
       "      <td>3.321928</td>\n",
       "      <td>2.321928</td>\n",
       "      <td>4.087463</td>\n",
       "      <td>2.584963</td>\n",
       "    </tr>\n",
       "    <tr>\n",
       "      <th>ENSG00000000457</th>\n",
       "      <td>0.000000</td>\n",
       "      <td>3.584963</td>\n",
       "      <td>0.000000</td>\n",
       "      <td>2.807355</td>\n",
       "      <td>1.584963</td>\n",
       "      <td>3.700440</td>\n",
       "      <td>3.584963</td>\n",
       "      <td>1.000000</td>\n",
       "      <td>1.584963</td>\n",
       "      <td>0.0</td>\n",
       "      <td>...</td>\n",
       "      <td>3.321928</td>\n",
       "      <td>3.169925</td>\n",
       "      <td>3.169925</td>\n",
       "      <td>2.584963</td>\n",
       "      <td>2.807355</td>\n",
       "      <td>0.000000</td>\n",
       "      <td>3.700440</td>\n",
       "      <td>3.807355</td>\n",
       "      <td>2.321928</td>\n",
       "      <td>3.584963</td>\n",
       "    </tr>\n",
       "    <tr>\n",
       "      <th>ENSG00000000460</th>\n",
       "      <td>0.000000</td>\n",
       "      <td>0.000000</td>\n",
       "      <td>3.906891</td>\n",
       "      <td>2.321928</td>\n",
       "      <td>2.584963</td>\n",
       "      <td>0.000000</td>\n",
       "      <td>0.000000</td>\n",
       "      <td>2.807355</td>\n",
       "      <td>2.321928</td>\n",
       "      <td>0.0</td>\n",
       "      <td>...</td>\n",
       "      <td>0.000000</td>\n",
       "      <td>0.000000</td>\n",
       "      <td>2.000000</td>\n",
       "      <td>0.000000</td>\n",
       "      <td>1.000000</td>\n",
       "      <td>0.000000</td>\n",
       "      <td>1.000000</td>\n",
       "      <td>2.321928</td>\n",
       "      <td>0.000000</td>\n",
       "      <td>3.459432</td>\n",
       "    </tr>\n",
       "    <tr>\n",
       "      <th>...</th>\n",
       "      <td>...</td>\n",
       "      <td>...</td>\n",
       "      <td>...</td>\n",
       "      <td>...</td>\n",
       "      <td>...</td>\n",
       "      <td>...</td>\n",
       "      <td>...</td>\n",
       "      <td>...</td>\n",
       "      <td>...</td>\n",
       "      <td>...</td>\n",
       "      <td>...</td>\n",
       "      <td>...</td>\n",
       "      <td>...</td>\n",
       "      <td>...</td>\n",
       "      <td>...</td>\n",
       "      <td>...</td>\n",
       "      <td>...</td>\n",
       "      <td>...</td>\n",
       "      <td>...</td>\n",
       "      <td>...</td>\n",
       "      <td>...</td>\n",
       "    </tr>\n",
       "    <tr>\n",
       "      <th>ENSG00000273485</th>\n",
       "      <td>0.000000</td>\n",
       "      <td>0.000000</td>\n",
       "      <td>0.000000</td>\n",
       "      <td>1.000000</td>\n",
       "      <td>0.000000</td>\n",
       "      <td>2.584963</td>\n",
       "      <td>0.000000</td>\n",
       "      <td>0.000000</td>\n",
       "      <td>0.000000</td>\n",
       "      <td>0.0</td>\n",
       "      <td>...</td>\n",
       "      <td>0.000000</td>\n",
       "      <td>0.000000</td>\n",
       "      <td>0.000000</td>\n",
       "      <td>0.000000</td>\n",
       "      <td>0.000000</td>\n",
       "      <td>3.700440</td>\n",
       "      <td>0.000000</td>\n",
       "      <td>0.000000</td>\n",
       "      <td>0.000000</td>\n",
       "      <td>0.000000</td>\n",
       "    </tr>\n",
       "    <tr>\n",
       "      <th>ENSG00000273486</th>\n",
       "      <td>0.000000</td>\n",
       "      <td>0.000000</td>\n",
       "      <td>0.000000</td>\n",
       "      <td>0.000000</td>\n",
       "      <td>1.000000</td>\n",
       "      <td>0.000000</td>\n",
       "      <td>0.000000</td>\n",
       "      <td>0.000000</td>\n",
       "      <td>0.000000</td>\n",
       "      <td>0.0</td>\n",
       "      <td>...</td>\n",
       "      <td>0.000000</td>\n",
       "      <td>1.584963</td>\n",
       "      <td>0.000000</td>\n",
       "      <td>2.000000</td>\n",
       "      <td>0.000000</td>\n",
       "      <td>1.584963</td>\n",
       "      <td>2.584963</td>\n",
       "      <td>1.000000</td>\n",
       "      <td>0.000000</td>\n",
       "      <td>0.000000</td>\n",
       "    </tr>\n",
       "    <tr>\n",
       "      <th>ENSG00000273487</th>\n",
       "      <td>0.000000</td>\n",
       "      <td>0.000000</td>\n",
       "      <td>0.000000</td>\n",
       "      <td>0.000000</td>\n",
       "      <td>0.000000</td>\n",
       "      <td>0.000000</td>\n",
       "      <td>0.000000</td>\n",
       "      <td>0.000000</td>\n",
       "      <td>0.000000</td>\n",
       "      <td>0.0</td>\n",
       "      <td>...</td>\n",
       "      <td>0.000000</td>\n",
       "      <td>0.000000</td>\n",
       "      <td>0.000000</td>\n",
       "      <td>0.000000</td>\n",
       "      <td>0.000000</td>\n",
       "      <td>0.000000</td>\n",
       "      <td>0.000000</td>\n",
       "      <td>0.000000</td>\n",
       "      <td>0.000000</td>\n",
       "      <td>0.000000</td>\n",
       "    </tr>\n",
       "    <tr>\n",
       "      <th>ENSG00000273489</th>\n",
       "      <td>0.000000</td>\n",
       "      <td>0.000000</td>\n",
       "      <td>0.000000</td>\n",
       "      <td>1.584963</td>\n",
       "      <td>0.000000</td>\n",
       "      <td>1.000000</td>\n",
       "      <td>3.169925</td>\n",
       "      <td>0.000000</td>\n",
       "      <td>0.000000</td>\n",
       "      <td>0.0</td>\n",
       "      <td>...</td>\n",
       "      <td>0.000000</td>\n",
       "      <td>0.000000</td>\n",
       "      <td>0.000000</td>\n",
       "      <td>0.000000</td>\n",
       "      <td>0.000000</td>\n",
       "      <td>0.000000</td>\n",
       "      <td>0.000000</td>\n",
       "      <td>0.000000</td>\n",
       "      <td>0.000000</td>\n",
       "      <td>0.000000</td>\n",
       "    </tr>\n",
       "    <tr>\n",
       "      <th>ENSG00000273493</th>\n",
       "      <td>0.000000</td>\n",
       "      <td>0.000000</td>\n",
       "      <td>0.000000</td>\n",
       "      <td>0.000000</td>\n",
       "      <td>0.000000</td>\n",
       "      <td>0.000000</td>\n",
       "      <td>0.000000</td>\n",
       "      <td>0.000000</td>\n",
       "      <td>1.000000</td>\n",
       "      <td>0.0</td>\n",
       "      <td>...</td>\n",
       "      <td>0.000000</td>\n",
       "      <td>0.000000</td>\n",
       "      <td>0.000000</td>\n",
       "      <td>0.000000</td>\n",
       "      <td>0.000000</td>\n",
       "      <td>0.000000</td>\n",
       "      <td>0.000000</td>\n",
       "      <td>0.000000</td>\n",
       "      <td>2.000000</td>\n",
       "      <td>0.000000</td>\n",
       "    </tr>\n",
       "  </tbody>\n",
       "</table>\n",
       "<p>30238 rows × 80 columns</p>\n",
       "</div>"
      ],
      "text/plain": [
       "                 Sample_1_preadi  Sample_2_preadi  Sample_3_preadi  \\\n",
       "Gene_ID                                                              \n",
       "ENSG00000000003         4.247928         3.700440         3.321928   \n",
       "ENSG00000000005         0.000000         0.000000         0.000000   \n",
       "ENSG00000000419         3.459432         3.321928         3.321928   \n",
       "ENSG00000000457         0.000000         3.584963         0.000000   \n",
       "ENSG00000000460         0.000000         0.000000         3.906891   \n",
       "...                          ...              ...              ...   \n",
       "ENSG00000273485         0.000000         0.000000         0.000000   \n",
       "ENSG00000273486         0.000000         0.000000         0.000000   \n",
       "ENSG00000273487         0.000000         0.000000         0.000000   \n",
       "ENSG00000273489         0.000000         0.000000         0.000000   \n",
       "ENSG00000273493         0.000000         0.000000         0.000000   \n",
       "\n",
       "                 Sample_4_preadi  Sample_5_preadi  Sample_6_preadi  \\\n",
       "Gene_ID                                                              \n",
       "ENSG00000000003         4.392317         3.321928         3.807355   \n",
       "ENSG00000000005         1.584963         0.000000         0.000000   \n",
       "ENSG00000000419         3.169925         3.459432         3.459432   \n",
       "ENSG00000000457         2.807355         1.584963         3.700440   \n",
       "ENSG00000000460         2.321928         2.584963         0.000000   \n",
       "...                          ...              ...              ...   \n",
       "ENSG00000273485         1.000000         0.000000         2.584963   \n",
       "ENSG00000273486         0.000000         1.000000         0.000000   \n",
       "ENSG00000273487         0.000000         0.000000         0.000000   \n",
       "ENSG00000273489         1.584963         0.000000         1.000000   \n",
       "ENSG00000273493         0.000000         0.000000         0.000000   \n",
       "\n",
       "                 Sample_7_preadi  Sample_8_preadi  Sample_9_preadi  \\\n",
       "Gene_ID                                                              \n",
       "ENSG00000000003         4.392317         3.169925         2.321928   \n",
       "ENSG00000000005         0.000000         0.000000         0.000000   \n",
       "ENSG00000000419         2.807355         5.169925         3.807355   \n",
       "ENSG00000000457         3.584963         1.000000         1.584963   \n",
       "ENSG00000000460         0.000000         2.807355         2.321928   \n",
       "...                          ...              ...              ...   \n",
       "ENSG00000273485         0.000000         0.000000         0.000000   \n",
       "ENSG00000273486         0.000000         0.000000         0.000000   \n",
       "ENSG00000273487         0.000000         0.000000         0.000000   \n",
       "ENSG00000273489         3.169925         0.000000         0.000000   \n",
       "ENSG00000273493         0.000000         0.000000         1.000000   \n",
       "\n",
       "                 Sample_10_preadi  ...  Sample_71_adipo  Sample_72_adipo  \\\n",
       "Gene_ID                            ...                                     \n",
       "ENSG00000000003               3.0  ...         3.321928         3.321928   \n",
       "ENSG00000000005               0.0  ...         0.000000         1.000000   \n",
       "ENSG00000000419               4.0  ...         2.000000         3.321928   \n",
       "ENSG00000000457               0.0  ...         3.321928         3.169925   \n",
       "ENSG00000000460               0.0  ...         0.000000         0.000000   \n",
       "...                           ...  ...              ...              ...   \n",
       "ENSG00000273485               0.0  ...         0.000000         0.000000   \n",
       "ENSG00000273486               0.0  ...         0.000000         1.584963   \n",
       "ENSG00000273487               0.0  ...         0.000000         0.000000   \n",
       "ENSG00000273489               0.0  ...         0.000000         0.000000   \n",
       "ENSG00000273493               0.0  ...         0.000000         0.000000   \n",
       "\n",
       "                 Sample_73_adipo  Sample_74_adipo  Sample_75_adipo  \\\n",
       "Gene_ID                                                              \n",
       "ENSG00000000003         4.954196         3.321928         4.584963   \n",
       "ENSG00000000005         4.906891         1.584963         4.523562   \n",
       "ENSG00000000419         3.321928         4.000000         3.169925   \n",
       "ENSG00000000457         3.169925         2.584963         2.807355   \n",
       "ENSG00000000460         2.000000         0.000000         1.000000   \n",
       "...                          ...              ...              ...   \n",
       "ENSG00000273485         0.000000         0.000000         0.000000   \n",
       "ENSG00000273486         0.000000         2.000000         0.000000   \n",
       "ENSG00000273487         0.000000         0.000000         0.000000   \n",
       "ENSG00000273489         0.000000         0.000000         0.000000   \n",
       "ENSG00000273493         0.000000         0.000000         0.000000   \n",
       "\n",
       "                 Sample_76_adipo  Sample_77_adipo  Sample_78_adipo  \\\n",
       "Gene_ID                                                              \n",
       "ENSG00000000003         4.087463         2.000000         3.906891   \n",
       "ENSG00000000005         2.000000         0.000000         1.584963   \n",
       "ENSG00000000419         3.321928         3.321928         2.321928   \n",
       "ENSG00000000457         0.000000         3.700440         3.807355   \n",
       "ENSG00000000460         0.000000         1.000000         2.321928   \n",
       "...                          ...              ...              ...   \n",
       "ENSG00000273485         3.700440         0.000000         0.000000   \n",
       "ENSG00000273486         1.584963         2.584963         1.000000   \n",
       "ENSG00000273487         0.000000         0.000000         0.000000   \n",
       "ENSG00000273489         0.000000         0.000000         0.000000   \n",
       "ENSG00000273493         0.000000         0.000000         0.000000   \n",
       "\n",
       "                 Sample_79_adipo  Sample_80_adipo  \n",
       "Gene_ID                                            \n",
       "ENSG00000000003         3.584963         4.087463  \n",
       "ENSG00000000005         0.000000         2.584963  \n",
       "ENSG00000000419         4.087463         2.584963  \n",
       "ENSG00000000457         2.321928         3.584963  \n",
       "ENSG00000000460         0.000000         3.459432  \n",
       "...                          ...              ...  \n",
       "ENSG00000273485         0.000000         0.000000  \n",
       "ENSG00000273486         0.000000         0.000000  \n",
       "ENSG00000273487         0.000000         0.000000  \n",
       "ENSG00000273489         0.000000         0.000000  \n",
       "ENSG00000273493         2.000000         0.000000  \n",
       "\n",
       "[30238 rows x 80 columns]"
      ]
     },
     "execution_count": 11,
     "metadata": {},
     "output_type": "execute_result"
    }
   ],
   "source": [
    "transcriptomics_transf = np.log2(1+transcriptomics)\n",
    "transcriptomics_transf"
   ]
  },
  {
   "cell_type": "markdown",
   "metadata": {},
   "source": [
    "h)"
   ]
  },
  {
   "cell_type": "code",
   "execution_count": 12,
   "metadata": {},
   "outputs": [
    {
     "data": {
      "application/vnd.plotly.v1+json": {
       "config": {
        "plotlyServerURL": "https://plot.ly"
       },
       "data": [
        {
         "hovertemplate": "groups=PreAdipo<br>PCA1=%{x}<br>PCA2=%{y}<br>PCA3=%{z}<extra></extra>",
         "legendgroup": "PreAdipo",
         "marker": {
          "color": "#636efa",
          "symbol": "circle"
         },
         "mode": "markers",
         "name": "PreAdipo",
         "scene": "scene",
         "showlegend": true,
         "type": "scatter3d",
         "x": [
          -42.82632711415351,
          -46.518797813921715,
          -63.70713272557814,
          -57.72623241017938,
          -49.39736903767649,
          -46.01465996467064,
          -37.49404705175059,
          -62.76879370947712,
          -55.115083566191,
          -33.80119393895106,
          -37.03894124211391,
          -52.198776552033564,
          -37.74836125453677,
          -52.289640894483405,
          -68.83595670387211,
          -57.3881804247627,
          -45.85388306952377,
          -32.647556994406415,
          -53.59603220057453,
          -62.966687768482764,
          -44.64131504049556,
          -55.1360519853183,
          -63.99643785618063,
          -48.40873691979558,
          -47.62128516401687,
          -54.90511128086312,
          -66.12820015928035,
          -34.145128907549804,
          -54.240593370081584,
          -31.136330512034633,
          -36.38603644344888,
          -25.49908261968529,
          -41.46574472609996,
          -68.49989740401003,
          -37.13315480776939,
          -37.02863663401756,
          -46.10936758248837,
          -47.043609635764845,
          -55.69012460694703,
          -54.326645283249235
         ],
         "y": [
          58.87029345240606,
          -5.596080254515093,
          -33.92907241386968,
          -67.49079721482956,
          -52.324148601378184,
          -19.149401834939923,
          41.622541296711084,
          -0.26284471390586006,
          -41.72388777643477,
          77.79847862490416,
          29.101681623979232,
          -5.370382081550039,
          61.544033843938564,
          -14.660532315694889,
          -33.7943096302338,
          -25.11695001808313,
          56.64973340840551,
          84.38571211223129,
          -39.66925172720384,
          -27.32988630159312,
          52.03866920906662,
          -2.418441746991625,
          -49.877205311199404,
          45.890616838131386,
          -13.5232121771687,
          -38.967354861848854,
          -73.2615919719324,
          58.60024734157893,
          39.974726704987646,
          60.93248263086489,
          10.44010045305693,
          12.139355981233562,
          -22.198373320583585,
          -4.349626956780056,
          45.79601279445336,
          49.04311284135252,
          -39.63516959926631,
          14.075739973255105,
          -32.2498719999884,
          9.1573570819038
         ],
         "z": [
          7.27835569817802,
          -14.508770075754784,
          37.002361915468484,
          -11.248592195968017,
          9.416713247422019,
          2.229517150157917,
          -23.688047201933852,
          32.67394990831101,
          4.9281161018757,
          -12.939539653339905,
          23.520397721114467,
          41.53774777807588,
          -15.18813396385663,
          29.25108826845772,
          29.599153723184042,
          20.02151862308688,
          -6.607747873919351,
          -2.79060821647195,
          -15.538060002747084,
          17.519903973759625,
          -1.1082163579795328,
          26.36560722110189,
          21.11458005569272,
          -4.7987636136978375,
          -45.63165161553387,
          -21.84556848980099,
          14.93381778828963,
          -12.855765670164235,
          16.298501388693666,
          -1.822104025153696,
          -22.845938812596007,
          -12.10473024613829,
          -18.49682673096806,
          29.032951933344457,
          -39.02235771611018,
          -0.9946672196588584,
          1.6748537526551068,
          -15.271966525497774,
          16.7607159443426,
          -32.93263868882771
         ]
        },
        {
         "hovertemplate": "groups=Adipo<br>PCA1=%{x}<br>PCA2=%{y}<br>PCA3=%{z}<extra></extra>",
         "legendgroup": "Adipo",
         "marker": {
          "color": "#EF553B",
          "symbol": "circle"
         },
         "mode": "markers",
         "name": "Adipo",
         "scene": "scene",
         "showlegend": true,
         "type": "scatter3d",
         "x": [
          57.58690717251689,
          62.47048061508869,
          51.334607172844024,
          46.82214342317863,
          46.82907715401107,
          34.37244842104656,
          51.9697675093211,
          61.29253620965514,
          67.56028568136186,
          61.59980418382177,
          29.624576257450716,
          42.86463775367185,
          38.32360105666571,
          59.14111747624286,
          66.00224651731833,
          63.522498977717575,
          25.166296968457402,
          68.2154636194057,
          50.72301003443049,
          32.3914216949854,
          34.09444237697733,
          26.87845207543658,
          20.40498783290839,
          38.83306692077289,
          67.61201949709802,
          29.712883981521454,
          69.90146013137684,
          48.388506503810476,
          35.710932055781306,
          62.47054710710828,
          31.91864289041578,
          35.72131310048208,
          64.15561942761454,
          55.22500054523905,
          64.13793789610536,
          53.78277007395176,
          69.00835187228557,
          61.583717508053745,
          30.88171147841427,
          27.239854201891777
         ],
         "y": [
          -24.498742949316885,
          4.259364092860417,
          48.608962120852425,
          36.81942012123864,
          34.23148719432752,
          48.289766461263234,
          -22.45701659528292,
          -29.18510564788068,
          -32.64611147516865,
          -29.959193154227616,
          -44.710990641659244,
          5.063255783309977,
          33.649884001514216,
          -11.809954074715712,
          53.77738981974524,
          -4.61303766544918,
          -42.19815989178209,
          22.95010184677368,
          22.070297438279233,
          -15.960951722017754,
          -32.10216960155849,
          17.093067038480132,
          -6.046752925998187,
          -50.77309520025944,
          -52.20686254549213,
          -5.109224075818097,
          29.414741513417777,
          -21.229682526629983,
          -19.24663598313908,
          17.92201091668564,
          -6.815605861251643,
          -11.370043702963967,
          34.65824308252695,
          -17.459264056749976,
          15.369827404932934,
          -3.43258881901628,
          1.024685371858257,
          -54.186655949710875,
          -23.491805293935244,
          -28.855357230506797
         ],
         "z": [
          -10.674643607036488,
          50.0133089930875,
          57.602800298502146,
          -31.546567776836554,
          -0.7280812704803307,
          2.2396495888622163,
          9.455016895741812,
          11.524012497755345,
          28.015122112146212,
          -6.538072893139411,
          -4.824655005133525,
          -17.951558941802357,
          -31.39173019161735,
          6.600856762087333,
          60.35340647121732,
          28.146118261736802,
          -58.05657592604217,
          -6.830045969094487,
          -9.2356200305517,
          -13.889335479739195,
          -22.459170537544214,
          -31.368124621564384,
          -28.062152453083556,
          -10.256937688090225,
          -9.852251759899163,
          -21.408014288396313,
          10.26249613529239,
          0.5026408254986702,
          10.626639162650655,
          17.855533896340926,
          6.708389483859678,
          -6.601058571167051,
          21.12456818905521,
          10.187525842074136,
          20.3857389169347,
          -58.768037500040386,
          43.88162180900806,
          4.276193529274772,
          -43.36657440502622,
          -24.87158805193133
         ]
        }
       ],
       "layout": {
        "legend": {
         "title": {
          "text": "groups"
         },
         "tracegroupgap": 0
        },
        "margin": {
         "t": 60
        },
        "scene": {
         "domain": {
          "x": [
           0,
           1
          ],
          "y": [
           0,
           1
          ]
         },
         "xaxis": {
          "title": {
           "text": "PCA1"
          }
         },
         "yaxis": {
          "title": {
           "text": "PCA2"
          }
         },
         "zaxis": {
          "title": {
           "text": "PCA3"
          }
         }
        },
        "template": {
         "data": {
          "bar": [
           {
            "error_x": {
             "color": "#2a3f5f"
            },
            "error_y": {
             "color": "#2a3f5f"
            },
            "marker": {
             "line": {
              "color": "#E5ECF6",
              "width": 0.5
             },
             "pattern": {
              "fillmode": "overlay",
              "size": 10,
              "solidity": 0.2
             }
            },
            "type": "bar"
           }
          ],
          "barpolar": [
           {
            "marker": {
             "line": {
              "color": "#E5ECF6",
              "width": 0.5
             },
             "pattern": {
              "fillmode": "overlay",
              "size": 10,
              "solidity": 0.2
             }
            },
            "type": "barpolar"
           }
          ],
          "carpet": [
           {
            "aaxis": {
             "endlinecolor": "#2a3f5f",
             "gridcolor": "white",
             "linecolor": "white",
             "minorgridcolor": "white",
             "startlinecolor": "#2a3f5f"
            },
            "baxis": {
             "endlinecolor": "#2a3f5f",
             "gridcolor": "white",
             "linecolor": "white",
             "minorgridcolor": "white",
             "startlinecolor": "#2a3f5f"
            },
            "type": "carpet"
           }
          ],
          "choropleth": [
           {
            "colorbar": {
             "outlinewidth": 0,
             "ticks": ""
            },
            "type": "choropleth"
           }
          ],
          "contour": [
           {
            "colorbar": {
             "outlinewidth": 0,
             "ticks": ""
            },
            "colorscale": [
             [
              0,
              "#0d0887"
             ],
             [
              0.1111111111111111,
              "#46039f"
             ],
             [
              0.2222222222222222,
              "#7201a8"
             ],
             [
              0.3333333333333333,
              "#9c179e"
             ],
             [
              0.4444444444444444,
              "#bd3786"
             ],
             [
              0.5555555555555556,
              "#d8576b"
             ],
             [
              0.6666666666666666,
              "#ed7953"
             ],
             [
              0.7777777777777778,
              "#fb9f3a"
             ],
             [
              0.8888888888888888,
              "#fdca26"
             ],
             [
              1,
              "#f0f921"
             ]
            ],
            "type": "contour"
           }
          ],
          "contourcarpet": [
           {
            "colorbar": {
             "outlinewidth": 0,
             "ticks": ""
            },
            "type": "contourcarpet"
           }
          ],
          "heatmap": [
           {
            "colorbar": {
             "outlinewidth": 0,
             "ticks": ""
            },
            "colorscale": [
             [
              0,
              "#0d0887"
             ],
             [
              0.1111111111111111,
              "#46039f"
             ],
             [
              0.2222222222222222,
              "#7201a8"
             ],
             [
              0.3333333333333333,
              "#9c179e"
             ],
             [
              0.4444444444444444,
              "#bd3786"
             ],
             [
              0.5555555555555556,
              "#d8576b"
             ],
             [
              0.6666666666666666,
              "#ed7953"
             ],
             [
              0.7777777777777778,
              "#fb9f3a"
             ],
             [
              0.8888888888888888,
              "#fdca26"
             ],
             [
              1,
              "#f0f921"
             ]
            ],
            "type": "heatmap"
           }
          ],
          "heatmapgl": [
           {
            "colorbar": {
             "outlinewidth": 0,
             "ticks": ""
            },
            "colorscale": [
             [
              0,
              "#0d0887"
             ],
             [
              0.1111111111111111,
              "#46039f"
             ],
             [
              0.2222222222222222,
              "#7201a8"
             ],
             [
              0.3333333333333333,
              "#9c179e"
             ],
             [
              0.4444444444444444,
              "#bd3786"
             ],
             [
              0.5555555555555556,
              "#d8576b"
             ],
             [
              0.6666666666666666,
              "#ed7953"
             ],
             [
              0.7777777777777778,
              "#fb9f3a"
             ],
             [
              0.8888888888888888,
              "#fdca26"
             ],
             [
              1,
              "#f0f921"
             ]
            ],
            "type": "heatmapgl"
           }
          ],
          "histogram": [
           {
            "marker": {
             "pattern": {
              "fillmode": "overlay",
              "size": 10,
              "solidity": 0.2
             }
            },
            "type": "histogram"
           }
          ],
          "histogram2d": [
           {
            "colorbar": {
             "outlinewidth": 0,
             "ticks": ""
            },
            "colorscale": [
             [
              0,
              "#0d0887"
             ],
             [
              0.1111111111111111,
              "#46039f"
             ],
             [
              0.2222222222222222,
              "#7201a8"
             ],
             [
              0.3333333333333333,
              "#9c179e"
             ],
             [
              0.4444444444444444,
              "#bd3786"
             ],
             [
              0.5555555555555556,
              "#d8576b"
             ],
             [
              0.6666666666666666,
              "#ed7953"
             ],
             [
              0.7777777777777778,
              "#fb9f3a"
             ],
             [
              0.8888888888888888,
              "#fdca26"
             ],
             [
              1,
              "#f0f921"
             ]
            ],
            "type": "histogram2d"
           }
          ],
          "histogram2dcontour": [
           {
            "colorbar": {
             "outlinewidth": 0,
             "ticks": ""
            },
            "colorscale": [
             [
              0,
              "#0d0887"
             ],
             [
              0.1111111111111111,
              "#46039f"
             ],
             [
              0.2222222222222222,
              "#7201a8"
             ],
             [
              0.3333333333333333,
              "#9c179e"
             ],
             [
              0.4444444444444444,
              "#bd3786"
             ],
             [
              0.5555555555555556,
              "#d8576b"
             ],
             [
              0.6666666666666666,
              "#ed7953"
             ],
             [
              0.7777777777777778,
              "#fb9f3a"
             ],
             [
              0.8888888888888888,
              "#fdca26"
             ],
             [
              1,
              "#f0f921"
             ]
            ],
            "type": "histogram2dcontour"
           }
          ],
          "mesh3d": [
           {
            "colorbar": {
             "outlinewidth": 0,
             "ticks": ""
            },
            "type": "mesh3d"
           }
          ],
          "parcoords": [
           {
            "line": {
             "colorbar": {
              "outlinewidth": 0,
              "ticks": ""
             }
            },
            "type": "parcoords"
           }
          ],
          "pie": [
           {
            "automargin": true,
            "type": "pie"
           }
          ],
          "scatter": [
           {
            "fillpattern": {
             "fillmode": "overlay",
             "size": 10,
             "solidity": 0.2
            },
            "type": "scatter"
           }
          ],
          "scatter3d": [
           {
            "line": {
             "colorbar": {
              "outlinewidth": 0,
              "ticks": ""
             }
            },
            "marker": {
             "colorbar": {
              "outlinewidth": 0,
              "ticks": ""
             }
            },
            "type": "scatter3d"
           }
          ],
          "scattercarpet": [
           {
            "marker": {
             "colorbar": {
              "outlinewidth": 0,
              "ticks": ""
             }
            },
            "type": "scattercarpet"
           }
          ],
          "scattergeo": [
           {
            "marker": {
             "colorbar": {
              "outlinewidth": 0,
              "ticks": ""
             }
            },
            "type": "scattergeo"
           }
          ],
          "scattergl": [
           {
            "marker": {
             "colorbar": {
              "outlinewidth": 0,
              "ticks": ""
             }
            },
            "type": "scattergl"
           }
          ],
          "scattermapbox": [
           {
            "marker": {
             "colorbar": {
              "outlinewidth": 0,
              "ticks": ""
             }
            },
            "type": "scattermapbox"
           }
          ],
          "scatterpolar": [
           {
            "marker": {
             "colorbar": {
              "outlinewidth": 0,
              "ticks": ""
             }
            },
            "type": "scatterpolar"
           }
          ],
          "scatterpolargl": [
           {
            "marker": {
             "colorbar": {
              "outlinewidth": 0,
              "ticks": ""
             }
            },
            "type": "scatterpolargl"
           }
          ],
          "scatterternary": [
           {
            "marker": {
             "colorbar": {
              "outlinewidth": 0,
              "ticks": ""
             }
            },
            "type": "scatterternary"
           }
          ],
          "surface": [
           {
            "colorbar": {
             "outlinewidth": 0,
             "ticks": ""
            },
            "colorscale": [
             [
              0,
              "#0d0887"
             ],
             [
              0.1111111111111111,
              "#46039f"
             ],
             [
              0.2222222222222222,
              "#7201a8"
             ],
             [
              0.3333333333333333,
              "#9c179e"
             ],
             [
              0.4444444444444444,
              "#bd3786"
             ],
             [
              0.5555555555555556,
              "#d8576b"
             ],
             [
              0.6666666666666666,
              "#ed7953"
             ],
             [
              0.7777777777777778,
              "#fb9f3a"
             ],
             [
              0.8888888888888888,
              "#fdca26"
             ],
             [
              1,
              "#f0f921"
             ]
            ],
            "type": "surface"
           }
          ],
          "table": [
           {
            "cells": {
             "fill": {
              "color": "#EBF0F8"
             },
             "line": {
              "color": "white"
             }
            },
            "header": {
             "fill": {
              "color": "#C8D4E3"
             },
             "line": {
              "color": "white"
             }
            },
            "type": "table"
           }
          ]
         },
         "layout": {
          "annotationdefaults": {
           "arrowcolor": "#2a3f5f",
           "arrowhead": 0,
           "arrowwidth": 1
          },
          "autotypenumbers": "strict",
          "coloraxis": {
           "colorbar": {
            "outlinewidth": 0,
            "ticks": ""
           }
          },
          "colorscale": {
           "diverging": [
            [
             0,
             "#8e0152"
            ],
            [
             0.1,
             "#c51b7d"
            ],
            [
             0.2,
             "#de77ae"
            ],
            [
             0.3,
             "#f1b6da"
            ],
            [
             0.4,
             "#fde0ef"
            ],
            [
             0.5,
             "#f7f7f7"
            ],
            [
             0.6,
             "#e6f5d0"
            ],
            [
             0.7,
             "#b8e186"
            ],
            [
             0.8,
             "#7fbc41"
            ],
            [
             0.9,
             "#4d9221"
            ],
            [
             1,
             "#276419"
            ]
           ],
           "sequential": [
            [
             0,
             "#0d0887"
            ],
            [
             0.1111111111111111,
             "#46039f"
            ],
            [
             0.2222222222222222,
             "#7201a8"
            ],
            [
             0.3333333333333333,
             "#9c179e"
            ],
            [
             0.4444444444444444,
             "#bd3786"
            ],
            [
             0.5555555555555556,
             "#d8576b"
            ],
            [
             0.6666666666666666,
             "#ed7953"
            ],
            [
             0.7777777777777778,
             "#fb9f3a"
            ],
            [
             0.8888888888888888,
             "#fdca26"
            ],
            [
             1,
             "#f0f921"
            ]
           ],
           "sequentialminus": [
            [
             0,
             "#0d0887"
            ],
            [
             0.1111111111111111,
             "#46039f"
            ],
            [
             0.2222222222222222,
             "#7201a8"
            ],
            [
             0.3333333333333333,
             "#9c179e"
            ],
            [
             0.4444444444444444,
             "#bd3786"
            ],
            [
             0.5555555555555556,
             "#d8576b"
            ],
            [
             0.6666666666666666,
             "#ed7953"
            ],
            [
             0.7777777777777778,
             "#fb9f3a"
            ],
            [
             0.8888888888888888,
             "#fdca26"
            ],
            [
             1,
             "#f0f921"
            ]
           ]
          },
          "colorway": [
           "#636efa",
           "#EF553B",
           "#00cc96",
           "#ab63fa",
           "#FFA15A",
           "#19d3f3",
           "#FF6692",
           "#B6E880",
           "#FF97FF",
           "#FECB52"
          ],
          "font": {
           "color": "#2a3f5f"
          },
          "geo": {
           "bgcolor": "white",
           "lakecolor": "white",
           "landcolor": "#E5ECF6",
           "showlakes": true,
           "showland": true,
           "subunitcolor": "white"
          },
          "hoverlabel": {
           "align": "left"
          },
          "hovermode": "closest",
          "mapbox": {
           "style": "light"
          },
          "paper_bgcolor": "white",
          "plot_bgcolor": "#E5ECF6",
          "polar": {
           "angularaxis": {
            "gridcolor": "white",
            "linecolor": "white",
            "ticks": ""
           },
           "bgcolor": "#E5ECF6",
           "radialaxis": {
            "gridcolor": "white",
            "linecolor": "white",
            "ticks": ""
           }
          },
          "scene": {
           "xaxis": {
            "backgroundcolor": "#E5ECF6",
            "gridcolor": "white",
            "gridwidth": 2,
            "linecolor": "white",
            "showbackground": true,
            "ticks": "",
            "zerolinecolor": "white"
           },
           "yaxis": {
            "backgroundcolor": "#E5ECF6",
            "gridcolor": "white",
            "gridwidth": 2,
            "linecolor": "white",
            "showbackground": true,
            "ticks": "",
            "zerolinecolor": "white"
           },
           "zaxis": {
            "backgroundcolor": "#E5ECF6",
            "gridcolor": "white",
            "gridwidth": 2,
            "linecolor": "white",
            "showbackground": true,
            "ticks": "",
            "zerolinecolor": "white"
           }
          },
          "shapedefaults": {
           "line": {
            "color": "#2a3f5f"
           }
          },
          "ternary": {
           "aaxis": {
            "gridcolor": "white",
            "linecolor": "white",
            "ticks": ""
           },
           "baxis": {
            "gridcolor": "white",
            "linecolor": "white",
            "ticks": ""
           },
           "bgcolor": "#E5ECF6",
           "caxis": {
            "gridcolor": "white",
            "linecolor": "white",
            "ticks": ""
           }
          },
          "title": {
           "x": 0.05
          },
          "xaxis": {
           "automargin": true,
           "gridcolor": "white",
           "linecolor": "white",
           "ticks": "",
           "title": {
            "standoff": 15
           },
           "zerolinecolor": "white",
           "zerolinewidth": 2
          },
          "yaxis": {
           "automargin": true,
           "gridcolor": "white",
           "linecolor": "white",
           "ticks": "",
           "title": {
            "standoff": 15
           },
           "zerolinecolor": "white",
           "zerolinewidth": 2
          }
         }
        }
       }
      }
     },
     "metadata": {},
     "output_type": "display_data"
    }
   ],
   "source": [
    "X = transcriptomics_transf.T.to_numpy(dtype=float)\n",
    "pca = PCA(n_components=3)\n",
    "pca_output_log = pca.fit_transform(X)\n",
    "pca_output_log_df = pd.DataFrame(pca_output_log, columns=['PCA1', 'PCA2', 'PCA3'])\n",
    "pca_output_log_df[\"groups\"] =dict_sample.values()\n",
    "\n",
    "fig = px.scatter_3d(pca_output_log_df, x='PCA1', y='PCA2', z='PCA3', color=\"groups\")\n",
    "fig.show()"
   ]
  },
  {
   "cell_type": "markdown",
   "metadata": {},
   "source": [
    "Transformed data has better cluster"
   ]
  },
  {
   "cell_type": "markdown",
   "metadata": {},
   "source": [
    "### 2. Differential gene expression"
   ]
  },
  {
   "cell_type": "code",
   "execution_count": 13,
   "metadata": {},
   "outputs": [],
   "source": [
    "de_results = pd.DataFrame(index = transcriptomics.index, columns = [\"pval\",\"fdr\",\"log2_mean_preadipo\",\"log2_mean_adipo\",\"log2_fold_change\"])"
   ]
  },
  {
   "cell_type": "markdown",
   "metadata": {},
   "source": [
    "a)"
   ]
  },
  {
   "cell_type": "code",
   "execution_count": 14,
   "metadata": {},
   "outputs": [],
   "source": [
    "pvalue=[]\n",
    "Adipo_samples = {i for i in dict_sample if dict_sample[i]==\"Adipo\"}\n",
    "PreAdipo_samples = {i for i in dict_sample if dict_sample[i]==\"PreAdipo\"}\n",
    "\n",
    "for index, gene in transcriptomics_transf.iterrows():\n",
    "    #_, pval = ttest_ind(gene[Adipo_samples], gene[PreAdipo_samples], equal_var=False)\n",
    "    _, pval =(ttest_ind(gene[0:40], gene[40:80], equal_var=False))\n",
    "    pvalue.append(pval)\n",
    "de_results[\"pval\"] = pvalue\n",
    "\n",
    "t_f, fdr_corrected_p_values = fdrcorrection(de_results.pval)\n",
    "de_results.fdr = fdr_corrected_p_values"
   ]
  },
  {
   "cell_type": "markdown",
   "metadata": {},
   "source": [
    "2.c)"
   ]
  },
  {
   "cell_type": "code",
   "execution_count": 15,
   "metadata": {},
   "outputs": [
    {
     "data": {
      "text/html": [
       "<div>\n",
       "<style scoped>\n",
       "    .dataframe tbody tr th:only-of-type {\n",
       "        vertical-align: middle;\n",
       "    }\n",
       "\n",
       "    .dataframe tbody tr th {\n",
       "        vertical-align: top;\n",
       "    }\n",
       "\n",
       "    .dataframe thead th {\n",
       "        text-align: right;\n",
       "    }\n",
       "</style>\n",
       "<table border=\"1\" class=\"dataframe\">\n",
       "  <thead>\n",
       "    <tr style=\"text-align: right;\">\n",
       "      <th></th>\n",
       "      <th>pval</th>\n",
       "      <th>fdr</th>\n",
       "      <th>log2_mean_preadipo</th>\n",
       "      <th>log2_mean_adipo</th>\n",
       "      <th>log2_fold_change</th>\n",
       "    </tr>\n",
       "    <tr>\n",
       "      <th>Gene_ID</th>\n",
       "      <th></th>\n",
       "      <th></th>\n",
       "      <th></th>\n",
       "      <th></th>\n",
       "      <th></th>\n",
       "    </tr>\n",
       "  </thead>\n",
       "  <tbody>\n",
       "    <tr>\n",
       "      <th>ENSG00000000003</th>\n",
       "      <td>0.029213</td>\n",
       "      <td>0.124449</td>\n",
       "      <td>NaN</td>\n",
       "      <td>NaN</td>\n",
       "      <td>NaN</td>\n",
       "    </tr>\n",
       "    <tr>\n",
       "      <th>ENSG00000000419</th>\n",
       "      <td>0.436098</td>\n",
       "      <td>0.605981</td>\n",
       "      <td>NaN</td>\n",
       "      <td>NaN</td>\n",
       "      <td>NaN</td>\n",
       "    </tr>\n",
       "    <tr>\n",
       "      <th>ENSG00000000457</th>\n",
       "      <td>0.371879</td>\n",
       "      <td>0.541478</td>\n",
       "      <td>NaN</td>\n",
       "      <td>NaN</td>\n",
       "      <td>NaN</td>\n",
       "    </tr>\n",
       "    <tr>\n",
       "      <th>ENSG00000000460</th>\n",
       "      <td>0.403271</td>\n",
       "      <td>0.574002</td>\n",
       "      <td>NaN</td>\n",
       "      <td>NaN</td>\n",
       "      <td>NaN</td>\n",
       "    </tr>\n",
       "    <tr>\n",
       "      <th>ENSG00000001167</th>\n",
       "      <td>0.032582</td>\n",
       "      <td>0.135853</td>\n",
       "      <td>NaN</td>\n",
       "      <td>NaN</td>\n",
       "      <td>NaN</td>\n",
       "    </tr>\n",
       "    <tr>\n",
       "      <th>...</th>\n",
       "      <td>...</td>\n",
       "      <td>...</td>\n",
       "      <td>...</td>\n",
       "      <td>...</td>\n",
       "      <td>...</td>\n",
       "    </tr>\n",
       "    <tr>\n",
       "      <th>ENSG00000273483</th>\n",
       "      <td>1.000000</td>\n",
       "      <td>1.000000</td>\n",
       "      <td>NaN</td>\n",
       "      <td>NaN</td>\n",
       "      <td>NaN</td>\n",
       "    </tr>\n",
       "    <tr>\n",
       "      <th>ENSG00000273485</th>\n",
       "      <td>0.767912</td>\n",
       "      <td>0.863298</td>\n",
       "      <td>NaN</td>\n",
       "      <td>NaN</td>\n",
       "      <td>NaN</td>\n",
       "    </tr>\n",
       "    <tr>\n",
       "      <th>ENSG00000273486</th>\n",
       "      <td>0.104262</td>\n",
       "      <td>0.314575</td>\n",
       "      <td>NaN</td>\n",
       "      <td>NaN</td>\n",
       "      <td>NaN</td>\n",
       "    </tr>\n",
       "    <tr>\n",
       "      <th>ENSG00000273487</th>\n",
       "      <td>0.755924</td>\n",
       "      <td>0.854810</td>\n",
       "      <td>NaN</td>\n",
       "      <td>NaN</td>\n",
       "      <td>NaN</td>\n",
       "    </tr>\n",
       "    <tr>\n",
       "      <th>ENSG00000273493</th>\n",
       "      <td>0.433540</td>\n",
       "      <td>0.603562</td>\n",
       "      <td>NaN</td>\n",
       "      <td>NaN</td>\n",
       "      <td>NaN</td>\n",
       "    </tr>\n",
       "  </tbody>\n",
       "</table>\n",
       "<p>24623 rows × 5 columns</p>\n",
       "</div>"
      ],
      "text/plain": [
       "                     pval       fdr log2_mean_preadipo log2_mean_adipo  \\\n",
       "Gene_ID                                                                  \n",
       "ENSG00000000003  0.029213  0.124449                NaN             NaN   \n",
       "ENSG00000000419  0.436098  0.605981                NaN             NaN   \n",
       "ENSG00000000457  0.371879  0.541478                NaN             NaN   \n",
       "ENSG00000000460  0.403271  0.574002                NaN             NaN   \n",
       "ENSG00000001167  0.032582  0.135853                NaN             NaN   \n",
       "...                   ...       ...                ...             ...   \n",
       "ENSG00000273483  1.000000  1.000000                NaN             NaN   \n",
       "ENSG00000273485  0.767912  0.863298                NaN             NaN   \n",
       "ENSG00000273486  0.104262  0.314575                NaN             NaN   \n",
       "ENSG00000273487  0.755924  0.854810                NaN             NaN   \n",
       "ENSG00000273493  0.433540  0.603562                NaN             NaN   \n",
       "\n",
       "                log2_fold_change  \n",
       "Gene_ID                           \n",
       "ENSG00000000003              NaN  \n",
       "ENSG00000000419              NaN  \n",
       "ENSG00000000457              NaN  \n",
       "ENSG00000000460              NaN  \n",
       "ENSG00000001167              NaN  \n",
       "...                          ...  \n",
       "ENSG00000273483              NaN  \n",
       "ENSG00000273485              NaN  \n",
       "ENSG00000273486              NaN  \n",
       "ENSG00000273487              NaN  \n",
       "ENSG00000273493              NaN  \n",
       "\n",
       "[24623 rows x 5 columns]"
      ]
     },
     "execution_count": 15,
     "metadata": {},
     "output_type": "execute_result"
    }
   ],
   "source": [
    "de_results[de_results[\"fdr\"] >= 0.05]"
   ]
  },
  {
   "cell_type": "markdown",
   "metadata": {},
   "source": [
    "##### 2.d)"
   ]
  },
  {
   "cell_type": "code",
   "execution_count": 16,
   "metadata": {},
   "outputs": [
    {
     "name": "stderr",
     "output_type": "stream",
     "text": [
      "/var/folders/xd/10nyn_j13qs58rww11sjkgy80000gn/T/ipykernel_88568/931640721.py:4: FutureWarning:\n",
      "\n",
      "Passing a set as an indexer is deprecated and will raise in a future version. Use a list instead.\n",
      "\n",
      "/var/folders/xd/10nyn_j13qs58rww11sjkgy80000gn/T/ipykernel_88568/931640721.py:5: FutureWarning:\n",
      "\n",
      "Passing a set as an indexer is deprecated and will raise in a future version. Use a list instead.\n",
      "\n"
     ]
    }
   ],
   "source": [
    "Adipo_samples = {i for i in dict_sample if dict_sample[i]==\"Adipo\"}\n",
    "PreAdipo_samples = {i for i in dict_sample if dict_sample[i]==\"PreAdipo\"}\n",
    "\n",
    "de_results[\"log2_mean_preadipo\"] = np.log2(transcriptomics[PreAdipo_samples].mean(axis=1)+1)\n",
    "de_results[\"log2_mean_adipo\"] = np.log2(transcriptomics[Adipo_samples].mean(axis=1)+1)"
   ]
  },
  {
   "cell_type": "code",
   "execution_count": 17,
   "metadata": {},
   "outputs": [
    {
     "name": "stderr",
     "output_type": "stream",
     "text": [
      "/var/folders/xd/10nyn_j13qs58rww11sjkgy80000gn/T/ipykernel_88568/1268549967.py:1: FutureWarning:\n",
      "\n",
      "Passing a set as an indexer is deprecated and will raise in a future version. Use a list instead.\n",
      "\n"
     ]
    },
    {
     "data": {
      "text/plain": [
       "Gene_ID\n",
       "ENSG00000000003    3.666757\n",
       "ENSG00000000005    0.104337\n",
       "ENSG00000000419    3.399171\n",
       "ENSG00000000457    2.887525\n",
       "ENSG00000000460    1.432959\n",
       "                     ...   \n",
       "ENSG00000273485    0.536053\n",
       "ENSG00000273486    0.655352\n",
       "ENSG00000273487    0.035624\n",
       "ENSG00000273489    0.744161\n",
       "ENSG00000273493    0.232661\n",
       "Length: 30238, dtype: float64"
      ]
     },
     "execution_count": 17,
     "metadata": {},
     "output_type": "execute_result"
    }
   ],
   "source": [
    "np.log2(transcriptomics[PreAdipo_samples].mean(axis=1)+1)"
   ]
  },
  {
   "cell_type": "markdown",
   "metadata": {},
   "source": [
    "##### 2.e)"
   ]
  },
  {
   "cell_type": "code",
   "execution_count": 18,
   "metadata": {},
   "outputs": [
    {
     "data": {
      "text/html": [
       "<div>\n",
       "<style scoped>\n",
       "    .dataframe tbody tr th:only-of-type {\n",
       "        vertical-align: middle;\n",
       "    }\n",
       "\n",
       "    .dataframe tbody tr th {\n",
       "        vertical-align: top;\n",
       "    }\n",
       "\n",
       "    .dataframe thead th {\n",
       "        text-align: right;\n",
       "    }\n",
       "</style>\n",
       "<table border=\"1\" class=\"dataframe\">\n",
       "  <thead>\n",
       "    <tr style=\"text-align: right;\">\n",
       "      <th></th>\n",
       "      <th>pval</th>\n",
       "      <th>fdr</th>\n",
       "      <th>log2_mean_preadipo</th>\n",
       "      <th>log2_mean_adipo</th>\n",
       "      <th>log2_fold_change</th>\n",
       "    </tr>\n",
       "    <tr>\n",
       "      <th>Gene_ID</th>\n",
       "      <th></th>\n",
       "      <th></th>\n",
       "      <th></th>\n",
       "      <th></th>\n",
       "      <th></th>\n",
       "    </tr>\n",
       "  </thead>\n",
       "  <tbody>\n",
       "    <tr>\n",
       "      <th>ENSG00000170323</th>\n",
       "      <td>3.144794e-46</td>\n",
       "      <td>7.404844e-42</td>\n",
       "      <td>6.845176</td>\n",
       "      <td>13.011066</td>\n",
       "      <td>6.165889</td>\n",
       "    </tr>\n",
       "    <tr>\n",
       "      <th>ENSG00000130208</th>\n",
       "      <td>8.895025e-39</td>\n",
       "      <td>1.222581e-35</td>\n",
       "      <td>7.183883</td>\n",
       "      <td>13.134579</td>\n",
       "      <td>5.950695</td>\n",
       "    </tr>\n",
       "    <tr>\n",
       "      <th>ENSG00000055957</th>\n",
       "      <td>1.698795e-39</td>\n",
       "      <td>3.210511e-36</td>\n",
       "      <td>2.255501</td>\n",
       "      <td>7.901772</td>\n",
       "      <td>5.646271</td>\n",
       "    </tr>\n",
       "    <tr>\n",
       "      <th>ENSG00000122378</th>\n",
       "      <td>4.726720e-43</td>\n",
       "      <td>2.858531e-39</td>\n",
       "      <td>3.520422</td>\n",
       "      <td>9.164656</td>\n",
       "      <td>5.644233</td>\n",
       "    </tr>\n",
       "    <tr>\n",
       "      <th>ENSG00000135447</th>\n",
       "      <td>2.149862e-40</td>\n",
       "      <td>5.909776e-37</td>\n",
       "      <td>1.419539</td>\n",
       "      <td>6.984988</td>\n",
       "      <td>5.565449</td>\n",
       "    </tr>\n",
       "    <tr>\n",
       "      <th>...</th>\n",
       "      <td>...</td>\n",
       "      <td>...</td>\n",
       "      <td>...</td>\n",
       "      <td>...</td>\n",
       "      <td>...</td>\n",
       "    </tr>\n",
       "    <tr>\n",
       "      <th>ENSG00000089685</th>\n",
       "      <td>2.943092e-11</td>\n",
       "      <td>1.105506e-09</td>\n",
       "      <td>5.984703</td>\n",
       "      <td>3.083213</td>\n",
       "      <td>-2.901490</td>\n",
       "    </tr>\n",
       "    <tr>\n",
       "      <th>ENSG00000117399</th>\n",
       "      <td>2.514095e-07</td>\n",
       "      <td>4.778202e-06</td>\n",
       "      <td>4.842979</td>\n",
       "      <td>1.877744</td>\n",
       "      <td>-2.965235</td>\n",
       "    </tr>\n",
       "    <tr>\n",
       "      <th>ENSG00000149968</th>\n",
       "      <td>3.987162e-15</td>\n",
       "      <td>2.638158e-13</td>\n",
       "      <td>4.836682</td>\n",
       "      <td>1.827819</td>\n",
       "      <td>-3.008863</td>\n",
       "    </tr>\n",
       "    <tr>\n",
       "      <th>ENSG00000264433</th>\n",
       "      <td>1.631710e-14</td>\n",
       "      <td>1.013135e-12</td>\n",
       "      <td>4.330917</td>\n",
       "      <td>1.247928</td>\n",
       "      <td>-3.082989</td>\n",
       "    </tr>\n",
       "    <tr>\n",
       "      <th>ENSG00000214100</th>\n",
       "      <td>1.321941e-25</td>\n",
       "      <td>3.359063e-23</td>\n",
       "      <td>5.807999</td>\n",
       "      <td>2.399171</td>\n",
       "      <td>-3.408828</td>\n",
       "    </tr>\n",
       "  </tbody>\n",
       "</table>\n",
       "<p>30238 rows × 5 columns</p>\n",
       "</div>"
      ],
      "text/plain": [
       "                         pval           fdr  log2_mean_preadipo  \\\n",
       "Gene_ID                                                           \n",
       "ENSG00000170323  3.144794e-46  7.404844e-42            6.845176   \n",
       "ENSG00000130208  8.895025e-39  1.222581e-35            7.183883   \n",
       "ENSG00000055957  1.698795e-39  3.210511e-36            2.255501   \n",
       "ENSG00000122378  4.726720e-43  2.858531e-39            3.520422   \n",
       "ENSG00000135447  2.149862e-40  5.909776e-37            1.419539   \n",
       "...                       ...           ...                 ...   \n",
       "ENSG00000089685  2.943092e-11  1.105506e-09            5.984703   \n",
       "ENSG00000117399  2.514095e-07  4.778202e-06            4.842979   \n",
       "ENSG00000149968  3.987162e-15  2.638158e-13            4.836682   \n",
       "ENSG00000264433  1.631710e-14  1.013135e-12            4.330917   \n",
       "ENSG00000214100  1.321941e-25  3.359063e-23            5.807999   \n",
       "\n",
       "                 log2_mean_adipo  log2_fold_change  \n",
       "Gene_ID                                             \n",
       "ENSG00000170323        13.011066          6.165889  \n",
       "ENSG00000130208        13.134579          5.950695  \n",
       "ENSG00000055957         7.901772          5.646271  \n",
       "ENSG00000122378         9.164656          5.644233  \n",
       "ENSG00000135447         6.984988          5.565449  \n",
       "...                          ...               ...  \n",
       "ENSG00000089685         3.083213         -2.901490  \n",
       "ENSG00000117399         1.877744         -2.965235  \n",
       "ENSG00000149968         1.827819         -3.008863  \n",
       "ENSG00000264433         1.247928         -3.082989  \n",
       "ENSG00000214100         2.399171         -3.408828  \n",
       "\n",
       "[30238 rows x 5 columns]"
      ]
     },
     "execution_count": 18,
     "metadata": {},
     "output_type": "execute_result"
    }
   ],
   "source": [
    "de_results[\"log2_fold_change\"] = (de_results[\"log2_mean_adipo\"] - de_results[\"log2_mean_preadipo\"])\n",
    "de_results.sort_values('log2_fold_change', ascending=False, inplace=True)\n",
    "de_results"
   ]
  },
  {
   "attachments": {},
   "cell_type": "markdown",
   "metadata": {},
   "source": [
    "2.f)"
   ]
  },
  {
   "cell_type": "code",
   "execution_count": 19,
   "metadata": {},
   "outputs": [
    {
     "data": {
      "text/html": [
       "<div>\n",
       "<style scoped>\n",
       "    .dataframe tbody tr th:only-of-type {\n",
       "        vertical-align: middle;\n",
       "    }\n",
       "\n",
       "    .dataframe tbody tr th {\n",
       "        vertical-align: top;\n",
       "    }\n",
       "\n",
       "    .dataframe thead th {\n",
       "        text-align: right;\n",
       "    }\n",
       "</style>\n",
       "<table border=\"1\" class=\"dataframe\">\n",
       "  <thead>\n",
       "    <tr style=\"text-align: right;\">\n",
       "      <th></th>\n",
       "      <th>pval</th>\n",
       "      <th>fdr</th>\n",
       "      <th>log2_mean_preadipo</th>\n",
       "      <th>log2_mean_adipo</th>\n",
       "      <th>log2_fold_change</th>\n",
       "    </tr>\n",
       "    <tr>\n",
       "      <th>Gene_ID</th>\n",
       "      <th></th>\n",
       "      <th></th>\n",
       "      <th></th>\n",
       "      <th></th>\n",
       "      <th></th>\n",
       "    </tr>\n",
       "  </thead>\n",
       "  <tbody>\n",
       "    <tr>\n",
       "      <th>ENSG00000170323</th>\n",
       "      <td>3.144794e-46</td>\n",
       "      <td>7.404844e-42</td>\n",
       "      <td>6.845176</td>\n",
       "      <td>13.011066</td>\n",
       "      <td>6.165889</td>\n",
       "    </tr>\n",
       "    <tr>\n",
       "      <th>ENSG00000130208</th>\n",
       "      <td>8.895025e-39</td>\n",
       "      <td>1.222581e-35</td>\n",
       "      <td>7.183883</td>\n",
       "      <td>13.134579</td>\n",
       "      <td>5.950695</td>\n",
       "    </tr>\n",
       "    <tr>\n",
       "      <th>ENSG00000055957</th>\n",
       "      <td>1.698795e-39</td>\n",
       "      <td>3.210511e-36</td>\n",
       "      <td>2.255501</td>\n",
       "      <td>7.901772</td>\n",
       "      <td>5.646271</td>\n",
       "    </tr>\n",
       "    <tr>\n",
       "      <th>ENSG00000122378</th>\n",
       "      <td>4.726720e-43</td>\n",
       "      <td>2.858531e-39</td>\n",
       "      <td>3.520422</td>\n",
       "      <td>9.164656</td>\n",
       "      <td>5.644233</td>\n",
       "    </tr>\n",
       "    <tr>\n",
       "      <th>ENSG00000135447</th>\n",
       "      <td>2.149862e-40</td>\n",
       "      <td>5.909776e-37</td>\n",
       "      <td>1.419539</td>\n",
       "      <td>6.984988</td>\n",
       "      <td>5.565449</td>\n",
       "    </tr>\n",
       "    <tr>\n",
       "      <th>...</th>\n",
       "      <td>...</td>\n",
       "      <td>...</td>\n",
       "      <td>...</td>\n",
       "      <td>...</td>\n",
       "      <td>...</td>\n",
       "    </tr>\n",
       "    <tr>\n",
       "      <th>ENSG00000099785</th>\n",
       "      <td>2.521863e-09</td>\n",
       "      <td>7.002395e-08</td>\n",
       "      <td>4.346957</td>\n",
       "      <td>5.350497</td>\n",
       "      <td>1.003540</td>\n",
       "    </tr>\n",
       "    <tr>\n",
       "      <th>ENSG00000187824</th>\n",
       "      <td>1.747159e-07</td>\n",
       "      <td>3.423888e-06</td>\n",
       "      <td>3.617651</td>\n",
       "      <td>4.620586</td>\n",
       "      <td>1.002935</td>\n",
       "    </tr>\n",
       "    <tr>\n",
       "      <th>ENSG00000100412</th>\n",
       "      <td>8.848764e-08</td>\n",
       "      <td>1.817724e-06</td>\n",
       "      <td>4.499846</td>\n",
       "      <td>5.500643</td>\n",
       "      <td>1.000797</td>\n",
       "    </tr>\n",
       "    <tr>\n",
       "      <th>ENSG00000120129</th>\n",
       "      <td>1.607696e-04</td>\n",
       "      <td>1.567672e-03</td>\n",
       "      <td>4.710118</td>\n",
       "      <td>5.710806</td>\n",
       "      <td>1.000689</td>\n",
       "    </tr>\n",
       "    <tr>\n",
       "      <th>ENSG00000178573</th>\n",
       "      <td>4.997932e-04</td>\n",
       "      <td>4.207335e-03</td>\n",
       "      <td>1.837943</td>\n",
       "      <td>2.837943</td>\n",
       "      <td>1.000000</td>\n",
       "    </tr>\n",
       "  </tbody>\n",
       "</table>\n",
       "<p>1204 rows × 5 columns</p>\n",
       "</div>"
      ],
      "text/plain": [
       "                         pval           fdr  log2_mean_preadipo  \\\n",
       "Gene_ID                                                           \n",
       "ENSG00000170323  3.144794e-46  7.404844e-42            6.845176   \n",
       "ENSG00000130208  8.895025e-39  1.222581e-35            7.183883   \n",
       "ENSG00000055957  1.698795e-39  3.210511e-36            2.255501   \n",
       "ENSG00000122378  4.726720e-43  2.858531e-39            3.520422   \n",
       "ENSG00000135447  2.149862e-40  5.909776e-37            1.419539   \n",
       "...                       ...           ...                 ...   \n",
       "ENSG00000099785  2.521863e-09  7.002395e-08            4.346957   \n",
       "ENSG00000187824  1.747159e-07  3.423888e-06            3.617651   \n",
       "ENSG00000100412  8.848764e-08  1.817724e-06            4.499846   \n",
       "ENSG00000120129  1.607696e-04  1.567672e-03            4.710118   \n",
       "ENSG00000178573  4.997932e-04  4.207335e-03            1.837943   \n",
       "\n",
       "                 log2_mean_adipo  log2_fold_change  \n",
       "Gene_ID                                             \n",
       "ENSG00000170323        13.011066          6.165889  \n",
       "ENSG00000130208        13.134579          5.950695  \n",
       "ENSG00000055957         7.901772          5.646271  \n",
       "ENSG00000122378         9.164656          5.644233  \n",
       "ENSG00000135447         6.984988          5.565449  \n",
       "...                          ...               ...  \n",
       "ENSG00000099785         5.350497          1.003540  \n",
       "ENSG00000187824         4.620586          1.002935  \n",
       "ENSG00000100412         5.500643          1.000797  \n",
       "ENSG00000120129         5.710806          1.000689  \n",
       "ENSG00000178573         2.837943          1.000000  \n",
       "\n",
       "[1204 rows x 5 columns]"
      ]
     },
     "execution_count": 19,
     "metadata": {},
     "output_type": "execute_result"
    }
   ],
   "source": [
    "de_results.sort_values('log2_fold_change', ascending=False, inplace=True)\n",
    "de_results = de_results[de_results[\"fdr\"] < 0.05]\n",
    "de_results = de_results[de_results[\"log2_fold_change\"] > 1]\n",
    "de_results"
   ]
  },
  {
   "attachments": {},
   "cell_type": "markdown",
   "metadata": {},
   "source": [
    "Why do we need to do that?"
   ]
  },
  {
   "attachments": {},
   "cell_type": "markdown",
   "metadata": {},
   "source": [
    "### 3. Investigating top marker genes"
   ]
  },
  {
   "attachments": {},
   "cell_type": "markdown",
   "metadata": {},
   "source": [
    "3.a)"
   ]
  },
  {
   "cell_type": "code",
   "execution_count": 20,
   "metadata": {},
   "outputs": [
    {
     "data": {
      "text/html": [
       "<div>\n",
       "<style scoped>\n",
       "    .dataframe tbody tr th:only-of-type {\n",
       "        vertical-align: middle;\n",
       "    }\n",
       "\n",
       "    .dataframe tbody tr th {\n",
       "        vertical-align: top;\n",
       "    }\n",
       "\n",
       "    .dataframe thead th {\n",
       "        text-align: right;\n",
       "    }\n",
       "</style>\n",
       "<table border=\"1\" class=\"dataframe\">\n",
       "  <thead>\n",
       "    <tr style=\"text-align: right;\">\n",
       "      <th></th>\n",
       "      <th>pval</th>\n",
       "      <th>fdr</th>\n",
       "      <th>log2_mean_preadipo</th>\n",
       "      <th>log2_mean_adipo</th>\n",
       "      <th>log2_fold_change</th>\n",
       "      <th>gene_symbol</th>\n",
       "    </tr>\n",
       "    <tr>\n",
       "      <th>Gene_ID</th>\n",
       "      <th></th>\n",
       "      <th></th>\n",
       "      <th></th>\n",
       "      <th></th>\n",
       "      <th></th>\n",
       "      <th></th>\n",
       "    </tr>\n",
       "  </thead>\n",
       "  <tbody>\n",
       "    <tr>\n",
       "      <th>ENSG00000170323</th>\n",
       "      <td>3.144794e-46</td>\n",
       "      <td>7.404844e-42</td>\n",
       "      <td>6.845176</td>\n",
       "      <td>13.011066</td>\n",
       "      <td>6.165889</td>\n",
       "      <td>FABP4</td>\n",
       "    </tr>\n",
       "    <tr>\n",
       "      <th>ENSG00000130208</th>\n",
       "      <td>8.895025e-39</td>\n",
       "      <td>1.222581e-35</td>\n",
       "      <td>7.183883</td>\n",
       "      <td>13.134579</td>\n",
       "      <td>5.950695</td>\n",
       "      <td>APOC1</td>\n",
       "    </tr>\n",
       "    <tr>\n",
       "      <th>ENSG00000055957</th>\n",
       "      <td>1.698795e-39</td>\n",
       "      <td>3.210511e-36</td>\n",
       "      <td>2.255501</td>\n",
       "      <td>7.901772</td>\n",
       "      <td>5.646271</td>\n",
       "      <td>ITIH1</td>\n",
       "    </tr>\n",
       "    <tr>\n",
       "      <th>ENSG00000122378</th>\n",
       "      <td>4.726720e-43</td>\n",
       "      <td>2.858531e-39</td>\n",
       "      <td>3.520422</td>\n",
       "      <td>9.164656</td>\n",
       "      <td>5.644233</td>\n",
       "      <td>FAM213A</td>\n",
       "    </tr>\n",
       "    <tr>\n",
       "      <th>ENSG00000135447</th>\n",
       "      <td>2.149862e-40</td>\n",
       "      <td>5.909776e-37</td>\n",
       "      <td>1.419539</td>\n",
       "      <td>6.984988</td>\n",
       "      <td>5.565449</td>\n",
       "      <td>PPP1R1A</td>\n",
       "    </tr>\n",
       "    <tr>\n",
       "      <th>...</th>\n",
       "      <td>...</td>\n",
       "      <td>...</td>\n",
       "      <td>...</td>\n",
       "      <td>...</td>\n",
       "      <td>...</td>\n",
       "      <td>...</td>\n",
       "    </tr>\n",
       "    <tr>\n",
       "      <th>ENSG00000099785</th>\n",
       "      <td>2.521863e-09</td>\n",
       "      <td>7.002395e-08</td>\n",
       "      <td>4.346957</td>\n",
       "      <td>5.350497</td>\n",
       "      <td>1.003540</td>\n",
       "      <td>MARCH2</td>\n",
       "    </tr>\n",
       "    <tr>\n",
       "      <th>ENSG00000187824</th>\n",
       "      <td>1.747159e-07</td>\n",
       "      <td>3.423888e-06</td>\n",
       "      <td>3.617651</td>\n",
       "      <td>4.620586</td>\n",
       "      <td>1.002935</td>\n",
       "      <td>TMEM220</td>\n",
       "    </tr>\n",
       "    <tr>\n",
       "      <th>ENSG00000100412</th>\n",
       "      <td>8.848764e-08</td>\n",
       "      <td>1.817724e-06</td>\n",
       "      <td>4.499846</td>\n",
       "      <td>5.500643</td>\n",
       "      <td>1.000797</td>\n",
       "      <td>ACO2</td>\n",
       "    </tr>\n",
       "    <tr>\n",
       "      <th>ENSG00000120129</th>\n",
       "      <td>1.607696e-04</td>\n",
       "      <td>1.567672e-03</td>\n",
       "      <td>4.710118</td>\n",
       "      <td>5.710806</td>\n",
       "      <td>1.000689</td>\n",
       "      <td>DUSP1</td>\n",
       "    </tr>\n",
       "    <tr>\n",
       "      <th>ENSG00000178573</th>\n",
       "      <td>4.997932e-04</td>\n",
       "      <td>4.207335e-03</td>\n",
       "      <td>1.837943</td>\n",
       "      <td>2.837943</td>\n",
       "      <td>1.000000</td>\n",
       "      <td>MAF</td>\n",
       "    </tr>\n",
       "  </tbody>\n",
       "</table>\n",
       "<p>1204 rows × 6 columns</p>\n",
       "</div>"
      ],
      "text/plain": [
       "                         pval           fdr  log2_mean_preadipo  \\\n",
       "Gene_ID                                                           \n",
       "ENSG00000170323  3.144794e-46  7.404844e-42            6.845176   \n",
       "ENSG00000130208  8.895025e-39  1.222581e-35            7.183883   \n",
       "ENSG00000055957  1.698795e-39  3.210511e-36            2.255501   \n",
       "ENSG00000122378  4.726720e-43  2.858531e-39            3.520422   \n",
       "ENSG00000135447  2.149862e-40  5.909776e-37            1.419539   \n",
       "...                       ...           ...                 ...   \n",
       "ENSG00000099785  2.521863e-09  7.002395e-08            4.346957   \n",
       "ENSG00000187824  1.747159e-07  3.423888e-06            3.617651   \n",
       "ENSG00000100412  8.848764e-08  1.817724e-06            4.499846   \n",
       "ENSG00000120129  1.607696e-04  1.567672e-03            4.710118   \n",
       "ENSG00000178573  4.997932e-04  4.207335e-03            1.837943   \n",
       "\n",
       "                 log2_mean_adipo  log2_fold_change gene_symbol  \n",
       "Gene_ID                                                         \n",
       "ENSG00000170323        13.011066          6.165889       FABP4  \n",
       "ENSG00000130208        13.134579          5.950695       APOC1  \n",
       "ENSG00000055957         7.901772          5.646271       ITIH1  \n",
       "ENSG00000122378         9.164656          5.644233     FAM213A  \n",
       "ENSG00000135447         6.984988          5.565449     PPP1R1A  \n",
       "...                          ...               ...         ...  \n",
       "ENSG00000099785         5.350497          1.003540      MARCH2  \n",
       "ENSG00000187824         4.620586          1.002935     TMEM220  \n",
       "ENSG00000100412         5.500643          1.000797        ACO2  \n",
       "ENSG00000120129         5.710806          1.000689       DUSP1  \n",
       "ENSG00000178573         2.837943          1.000000         MAF  \n",
       "\n",
       "[1204 rows x 6 columns]"
      ]
     },
     "execution_count": 20,
     "metadata": {},
     "output_type": "execute_result"
    }
   ],
   "source": [
    "gene_annotation = pd.read_csv( os.path.join(core_path, 'Homo_sapiens.GRCh37.75.gene_annotation.txt'),sep= \"\\t\")\n",
    "gene_annotation.index = gene_annotation.Ensembl\n",
    "gene_annotation2 = gene_annotation.loc[de_results.index,:]\n",
    "de_results[\"gene_symbol\"] = gene_annotation2.Name\n",
    "de_results"
   ]
  },
  {
   "attachments": {},
   "cell_type": "markdown",
   "metadata": {},
   "source": [
    "3.b)"
   ]
  },
  {
   "attachments": {},
   "cell_type": "markdown",
   "metadata": {},
   "source": [
    "Plot the expression of the top marker gene as two side-by-side plots,one with expression as a gradient color in the PCA, and another as two boxplots showing expression of this gene for each sample in the two groups."
   ]
  },
  {
   "cell_type": "code",
   "execution_count": 21,
   "metadata": {},
   "outputs": [],
   "source": [
    "gene_annotation3 = gene_annotation.loc[transcriptomics.index,:]"
   ]
  },
  {
   "cell_type": "code",
   "execution_count": 22,
   "metadata": {},
   "outputs": [
    {
     "data": {
      "text/html": [
       "<div>\n",
       "<style scoped>\n",
       "    .dataframe tbody tr th:only-of-type {\n",
       "        vertical-align: middle;\n",
       "    }\n",
       "\n",
       "    .dataframe tbody tr th {\n",
       "        vertical-align: top;\n",
       "    }\n",
       "\n",
       "    .dataframe thead th {\n",
       "        text-align: right;\n",
       "    }\n",
       "</style>\n",
       "<table border=\"1\" class=\"dataframe\">\n",
       "  <thead>\n",
       "    <tr style=\"text-align: right;\">\n",
       "      <th></th>\n",
       "      <th>Sample_1_preadi</th>\n",
       "      <th>Sample_2_preadi</th>\n",
       "      <th>Sample_3_preadi</th>\n",
       "      <th>Sample_4_preadi</th>\n",
       "      <th>Sample_5_preadi</th>\n",
       "      <th>Sample_6_preadi</th>\n",
       "      <th>Sample_7_preadi</th>\n",
       "      <th>Sample_8_preadi</th>\n",
       "      <th>Sample_9_preadi</th>\n",
       "      <th>Sample_10_preadi</th>\n",
       "      <th>...</th>\n",
       "      <th>Sample_72_adipo</th>\n",
       "      <th>Sample_73_adipo</th>\n",
       "      <th>Sample_74_adipo</th>\n",
       "      <th>Sample_75_adipo</th>\n",
       "      <th>Sample_76_adipo</th>\n",
       "      <th>Sample_77_adipo</th>\n",
       "      <th>Sample_78_adipo</th>\n",
       "      <th>Sample_79_adipo</th>\n",
       "      <th>Sample_80_adipo</th>\n",
       "      <th>Name</th>\n",
       "    </tr>\n",
       "    <tr>\n",
       "      <th>Gene_ID</th>\n",
       "      <th></th>\n",
       "      <th></th>\n",
       "      <th></th>\n",
       "      <th></th>\n",
       "      <th></th>\n",
       "      <th></th>\n",
       "      <th></th>\n",
       "      <th></th>\n",
       "      <th></th>\n",
       "      <th></th>\n",
       "      <th></th>\n",
       "      <th></th>\n",
       "      <th></th>\n",
       "      <th></th>\n",
       "      <th></th>\n",
       "      <th></th>\n",
       "      <th></th>\n",
       "      <th></th>\n",
       "      <th></th>\n",
       "      <th></th>\n",
       "      <th></th>\n",
       "    </tr>\n",
       "  </thead>\n",
       "  <tbody>\n",
       "    <tr>\n",
       "      <th>ENSG00000000003</th>\n",
       "      <td>18</td>\n",
       "      <td>12</td>\n",
       "      <td>9</td>\n",
       "      <td>20</td>\n",
       "      <td>9</td>\n",
       "      <td>13</td>\n",
       "      <td>20</td>\n",
       "      <td>8</td>\n",
       "      <td>4</td>\n",
       "      <td>7</td>\n",
       "      <td>...</td>\n",
       "      <td>9</td>\n",
       "      <td>30</td>\n",
       "      <td>9</td>\n",
       "      <td>23</td>\n",
       "      <td>16</td>\n",
       "      <td>3</td>\n",
       "      <td>14</td>\n",
       "      <td>11</td>\n",
       "      <td>16</td>\n",
       "      <td>TSPAN6</td>\n",
       "    </tr>\n",
       "    <tr>\n",
       "      <th>ENSG00000000005</th>\n",
       "      <td>0</td>\n",
       "      <td>0</td>\n",
       "      <td>0</td>\n",
       "      <td>2</td>\n",
       "      <td>0</td>\n",
       "      <td>0</td>\n",
       "      <td>0</td>\n",
       "      <td>0</td>\n",
       "      <td>0</td>\n",
       "      <td>0</td>\n",
       "      <td>...</td>\n",
       "      <td>1</td>\n",
       "      <td>29</td>\n",
       "      <td>2</td>\n",
       "      <td>22</td>\n",
       "      <td>3</td>\n",
       "      <td>0</td>\n",
       "      <td>2</td>\n",
       "      <td>0</td>\n",
       "      <td>5</td>\n",
       "      <td>TNMD</td>\n",
       "    </tr>\n",
       "    <tr>\n",
       "      <th>ENSG00000000419</th>\n",
       "      <td>10</td>\n",
       "      <td>9</td>\n",
       "      <td>9</td>\n",
       "      <td>8</td>\n",
       "      <td>10</td>\n",
       "      <td>10</td>\n",
       "      <td>6</td>\n",
       "      <td>35</td>\n",
       "      <td>13</td>\n",
       "      <td>15</td>\n",
       "      <td>...</td>\n",
       "      <td>9</td>\n",
       "      <td>9</td>\n",
       "      <td>15</td>\n",
       "      <td>8</td>\n",
       "      <td>9</td>\n",
       "      <td>9</td>\n",
       "      <td>4</td>\n",
       "      <td>16</td>\n",
       "      <td>5</td>\n",
       "      <td>DPM1</td>\n",
       "    </tr>\n",
       "    <tr>\n",
       "      <th>ENSG00000000457</th>\n",
       "      <td>0</td>\n",
       "      <td>11</td>\n",
       "      <td>0</td>\n",
       "      <td>6</td>\n",
       "      <td>2</td>\n",
       "      <td>12</td>\n",
       "      <td>11</td>\n",
       "      <td>1</td>\n",
       "      <td>2</td>\n",
       "      <td>0</td>\n",
       "      <td>...</td>\n",
       "      <td>8</td>\n",
       "      <td>8</td>\n",
       "      <td>5</td>\n",
       "      <td>6</td>\n",
       "      <td>0</td>\n",
       "      <td>12</td>\n",
       "      <td>13</td>\n",
       "      <td>4</td>\n",
       "      <td>11</td>\n",
       "      <td>SCYL3</td>\n",
       "    </tr>\n",
       "    <tr>\n",
       "      <th>ENSG00000000460</th>\n",
       "      <td>0</td>\n",
       "      <td>0</td>\n",
       "      <td>14</td>\n",
       "      <td>4</td>\n",
       "      <td>5</td>\n",
       "      <td>0</td>\n",
       "      <td>0</td>\n",
       "      <td>6</td>\n",
       "      <td>4</td>\n",
       "      <td>0</td>\n",
       "      <td>...</td>\n",
       "      <td>0</td>\n",
       "      <td>3</td>\n",
       "      <td>0</td>\n",
       "      <td>1</td>\n",
       "      <td>0</td>\n",
       "      <td>1</td>\n",
       "      <td>4</td>\n",
       "      <td>0</td>\n",
       "      <td>10</td>\n",
       "      <td>C1orf112</td>\n",
       "    </tr>\n",
       "    <tr>\n",
       "      <th>...</th>\n",
       "      <td>...</td>\n",
       "      <td>...</td>\n",
       "      <td>...</td>\n",
       "      <td>...</td>\n",
       "      <td>...</td>\n",
       "      <td>...</td>\n",
       "      <td>...</td>\n",
       "      <td>...</td>\n",
       "      <td>...</td>\n",
       "      <td>...</td>\n",
       "      <td>...</td>\n",
       "      <td>...</td>\n",
       "      <td>...</td>\n",
       "      <td>...</td>\n",
       "      <td>...</td>\n",
       "      <td>...</td>\n",
       "      <td>...</td>\n",
       "      <td>...</td>\n",
       "      <td>...</td>\n",
       "      <td>...</td>\n",
       "      <td>...</td>\n",
       "    </tr>\n",
       "    <tr>\n",
       "      <th>ENSG00000273485</th>\n",
       "      <td>0</td>\n",
       "      <td>0</td>\n",
       "      <td>0</td>\n",
       "      <td>1</td>\n",
       "      <td>0</td>\n",
       "      <td>5</td>\n",
       "      <td>0</td>\n",
       "      <td>0</td>\n",
       "      <td>0</td>\n",
       "      <td>0</td>\n",
       "      <td>...</td>\n",
       "      <td>0</td>\n",
       "      <td>0</td>\n",
       "      <td>0</td>\n",
       "      <td>0</td>\n",
       "      <td>12</td>\n",
       "      <td>0</td>\n",
       "      <td>0</td>\n",
       "      <td>0</td>\n",
       "      <td>0</td>\n",
       "      <td>RP11-225H22.7</td>\n",
       "    </tr>\n",
       "    <tr>\n",
       "      <th>ENSG00000273486</th>\n",
       "      <td>0</td>\n",
       "      <td>0</td>\n",
       "      <td>0</td>\n",
       "      <td>0</td>\n",
       "      <td>1</td>\n",
       "      <td>0</td>\n",
       "      <td>0</td>\n",
       "      <td>0</td>\n",
       "      <td>0</td>\n",
       "      <td>0</td>\n",
       "      <td>...</td>\n",
       "      <td>2</td>\n",
       "      <td>0</td>\n",
       "      <td>3</td>\n",
       "      <td>0</td>\n",
       "      <td>2</td>\n",
       "      <td>5</td>\n",
       "      <td>1</td>\n",
       "      <td>0</td>\n",
       "      <td>0</td>\n",
       "      <td>RP11-731C17.2</td>\n",
       "    </tr>\n",
       "    <tr>\n",
       "      <th>ENSG00000273487</th>\n",
       "      <td>0</td>\n",
       "      <td>0</td>\n",
       "      <td>0</td>\n",
       "      <td>0</td>\n",
       "      <td>0</td>\n",
       "      <td>0</td>\n",
       "      <td>0</td>\n",
       "      <td>0</td>\n",
       "      <td>0</td>\n",
       "      <td>0</td>\n",
       "      <td>...</td>\n",
       "      <td>0</td>\n",
       "      <td>0</td>\n",
       "      <td>0</td>\n",
       "      <td>0</td>\n",
       "      <td>0</td>\n",
       "      <td>0</td>\n",
       "      <td>0</td>\n",
       "      <td>0</td>\n",
       "      <td>0</td>\n",
       "      <td>RP4-621B10.8</td>\n",
       "    </tr>\n",
       "    <tr>\n",
       "      <th>ENSG00000273489</th>\n",
       "      <td>0</td>\n",
       "      <td>0</td>\n",
       "      <td>0</td>\n",
       "      <td>2</td>\n",
       "      <td>0</td>\n",
       "      <td>1</td>\n",
       "      <td>8</td>\n",
       "      <td>0</td>\n",
       "      <td>0</td>\n",
       "      <td>0</td>\n",
       "      <td>...</td>\n",
       "      <td>0</td>\n",
       "      <td>0</td>\n",
       "      <td>0</td>\n",
       "      <td>0</td>\n",
       "      <td>0</td>\n",
       "      <td>0</td>\n",
       "      <td>0</td>\n",
       "      <td>0</td>\n",
       "      <td>0</td>\n",
       "      <td>RP11-180C16.1</td>\n",
       "    </tr>\n",
       "    <tr>\n",
       "      <th>ENSG00000273493</th>\n",
       "      <td>0</td>\n",
       "      <td>0</td>\n",
       "      <td>0</td>\n",
       "      <td>0</td>\n",
       "      <td>0</td>\n",
       "      <td>0</td>\n",
       "      <td>0</td>\n",
       "      <td>0</td>\n",
       "      <td>1</td>\n",
       "      <td>0</td>\n",
       "      <td>...</td>\n",
       "      <td>0</td>\n",
       "      <td>0</td>\n",
       "      <td>0</td>\n",
       "      <td>0</td>\n",
       "      <td>0</td>\n",
       "      <td>0</td>\n",
       "      <td>0</td>\n",
       "      <td>3</td>\n",
       "      <td>0</td>\n",
       "      <td>RP11-80H18.4</td>\n",
       "    </tr>\n",
       "  </tbody>\n",
       "</table>\n",
       "<p>30238 rows × 81 columns</p>\n",
       "</div>"
      ],
      "text/plain": [
       "                 Sample_1_preadi  Sample_2_preadi  Sample_3_preadi  \\\n",
       "Gene_ID                                                              \n",
       "ENSG00000000003               18               12                9   \n",
       "ENSG00000000005                0                0                0   \n",
       "ENSG00000000419               10                9                9   \n",
       "ENSG00000000457                0               11                0   \n",
       "ENSG00000000460                0                0               14   \n",
       "...                          ...              ...              ...   \n",
       "ENSG00000273485                0                0                0   \n",
       "ENSG00000273486                0                0                0   \n",
       "ENSG00000273487                0                0                0   \n",
       "ENSG00000273489                0                0                0   \n",
       "ENSG00000273493                0                0                0   \n",
       "\n",
       "                 Sample_4_preadi  Sample_5_preadi  Sample_6_preadi  \\\n",
       "Gene_ID                                                              \n",
       "ENSG00000000003               20                9               13   \n",
       "ENSG00000000005                2                0                0   \n",
       "ENSG00000000419                8               10               10   \n",
       "ENSG00000000457                6                2               12   \n",
       "ENSG00000000460                4                5                0   \n",
       "...                          ...              ...              ...   \n",
       "ENSG00000273485                1                0                5   \n",
       "ENSG00000273486                0                1                0   \n",
       "ENSG00000273487                0                0                0   \n",
       "ENSG00000273489                2                0                1   \n",
       "ENSG00000273493                0                0                0   \n",
       "\n",
       "                 Sample_7_preadi  Sample_8_preadi  Sample_9_preadi  \\\n",
       "Gene_ID                                                              \n",
       "ENSG00000000003               20                8                4   \n",
       "ENSG00000000005                0                0                0   \n",
       "ENSG00000000419                6               35               13   \n",
       "ENSG00000000457               11                1                2   \n",
       "ENSG00000000460                0                6                4   \n",
       "...                          ...              ...              ...   \n",
       "ENSG00000273485                0                0                0   \n",
       "ENSG00000273486                0                0                0   \n",
       "ENSG00000273487                0                0                0   \n",
       "ENSG00000273489                8                0                0   \n",
       "ENSG00000273493                0                0                1   \n",
       "\n",
       "                 Sample_10_preadi  ...  Sample_72_adipo  Sample_73_adipo  \\\n",
       "Gene_ID                            ...                                     \n",
       "ENSG00000000003                 7  ...                9               30   \n",
       "ENSG00000000005                 0  ...                1               29   \n",
       "ENSG00000000419                15  ...                9                9   \n",
       "ENSG00000000457                 0  ...                8                8   \n",
       "ENSG00000000460                 0  ...                0                3   \n",
       "...                           ...  ...              ...              ...   \n",
       "ENSG00000273485                 0  ...                0                0   \n",
       "ENSG00000273486                 0  ...                2                0   \n",
       "ENSG00000273487                 0  ...                0                0   \n",
       "ENSG00000273489                 0  ...                0                0   \n",
       "ENSG00000273493                 0  ...                0                0   \n",
       "\n",
       "                 Sample_74_adipo  Sample_75_adipo  Sample_76_adipo  \\\n",
       "Gene_ID                                                              \n",
       "ENSG00000000003                9               23               16   \n",
       "ENSG00000000005                2               22                3   \n",
       "ENSG00000000419               15                8                9   \n",
       "ENSG00000000457                5                6                0   \n",
       "ENSG00000000460                0                1                0   \n",
       "...                          ...              ...              ...   \n",
       "ENSG00000273485                0                0               12   \n",
       "ENSG00000273486                3                0                2   \n",
       "ENSG00000273487                0                0                0   \n",
       "ENSG00000273489                0                0                0   \n",
       "ENSG00000273493                0                0                0   \n",
       "\n",
       "                 Sample_77_adipo  Sample_78_adipo  Sample_79_adipo  \\\n",
       "Gene_ID                                                              \n",
       "ENSG00000000003                3               14               11   \n",
       "ENSG00000000005                0                2                0   \n",
       "ENSG00000000419                9                4               16   \n",
       "ENSG00000000457               12               13                4   \n",
       "ENSG00000000460                1                4                0   \n",
       "...                          ...              ...              ...   \n",
       "ENSG00000273485                0                0                0   \n",
       "ENSG00000273486                5                1                0   \n",
       "ENSG00000273487                0                0                0   \n",
       "ENSG00000273489                0                0                0   \n",
       "ENSG00000273493                0                0                3   \n",
       "\n",
       "                 Sample_80_adipo           Name  \n",
       "Gene_ID                                          \n",
       "ENSG00000000003               16         TSPAN6  \n",
       "ENSG00000000005                5           TNMD  \n",
       "ENSG00000000419                5           DPM1  \n",
       "ENSG00000000457               11          SCYL3  \n",
       "ENSG00000000460               10       C1orf112  \n",
       "...                          ...            ...  \n",
       "ENSG00000273485                0  RP11-225H22.7  \n",
       "ENSG00000273486                0  RP11-731C17.2  \n",
       "ENSG00000273487                0   RP4-621B10.8  \n",
       "ENSG00000273489                0  RP11-180C16.1  \n",
       "ENSG00000273493                0   RP11-80H18.4  \n",
       "\n",
       "[30238 rows x 81 columns]"
      ]
     },
     "execution_count": 22,
     "metadata": {},
     "output_type": "execute_result"
    }
   ],
   "source": [
    "transcriptomics_annotate= pd.concat([transcriptomics, gene_annotation3.Name], axis=1)\n",
    "transcriptomics_annotate\n"
   ]
  },
  {
   "cell_type": "code",
   "execution_count": 23,
   "metadata": {},
   "outputs": [],
   "source": [
    "pca_output_log_df[\"top_marker_gene_expression\"] = np.array(transcriptomics.loc['ENSG00000170323'])\n",
    "pca_output_log_df[\"top_marker_gene_expression\"] = pca_output_log_df[\"top_marker_gene_expression\"].astype(float)\n"
   ]
  },
  {
   "cell_type": "code",
   "execution_count": 24,
   "metadata": {},
   "outputs": [
    {
     "data": {
      "text/plain": [
       "'FABP4'"
      ]
     },
     "execution_count": 24,
     "metadata": {},
     "output_type": "execute_result"
    }
   ],
   "source": [
    "name = transcriptomics_annotate.loc[\"ENSG00000170323\"].Name\n",
    "name"
   ]
  },
  {
   "cell_type": "code",
   "execution_count": 42,
   "metadata": {},
   "outputs": [],
   "source": [
    "cmap= sns.color_palette(\"rocket\", as_cmap=True)"
   ]
  },
  {
   "cell_type": "code",
   "execution_count": 86,
   "metadata": {},
   "outputs": [],
   "source": [
    "def top_marker_gene_plot (df, column_name, Ensembl_name, Gene_symbol):\n",
    "    fig = plt.figure(figsize=(10,10))\n",
    "    fig.suptitle(\"Expression of the top marker gene \" + Ensembl_name + \" of gene symbol \" +Gene_symbol )\n",
    "\n",
    "    #ax1 = ax1.axes(projection =\"3d\")\n",
    "    ax1 = fig.add_subplot(2, 2, 2, projection='3d')\n",
    "    ax1.scatter3D(df['PCA1'], df['PCA2'], df['PCA3'], c =df[column_name])#, cmap=cmap)\n",
    "\n",
    "    ax2 = fig.add_subplot(2, 2, 1)\n",
    "    ax2=sns.scatterplot(data=df, x='PCA1', y='PCA2', hue=column_name, palette='RdBu')\n",
    "    norm = plt.Normalize(df[column_name].min(), df[column_name].max())\n",
    "    sm = plt.cm.ScalarMappable(cmap=\"RdBu\", norm=norm)\n",
    "    sm.set_array([])\n",
    "    # Remove the legend and add a colorbar\n",
    "    ax2.get_legend().remove()\n",
    "    ax2.figure.colorbar(sm)\n",
    "    \n",
    "    ax3 = fig.add_subplot(2, 2, 3)\n",
    "    ax3.set_title(\"Adipo\")\n",
    "    ax3 = sns.boxplot(data=df[df.groups == 'Adipo'], y=column_name, palette=\"RdYlGn\")\n",
    "    \n",
    "    \n",
    "    ax4 = fig.add_subplot(2, 2, 4)\n",
    "    ax4.set_title(\"PreAdipo\")\n",
    "    ax4 = sns.boxplot(data=df[df.groups == 'PreAdipo'], y=column_name, palette=\"Purples\")\n",
    "    \n",
    "    fig.show()"
   ]
  },
  {
   "cell_type": "code",
   "execution_count": 87,
   "metadata": {},
   "outputs": [
    {
     "name": "stderr",
     "output_type": "stream",
     "text": [
      "/var/folders/xd/10nyn_j13qs58rww11sjkgy80000gn/T/ipykernel_88568/1192926447.py:27: UserWarning:\n",
      "\n",
      "Matplotlib is currently using module://matplotlib_inline.backend_inline, which is a non-GUI backend, so cannot show the figure.\n",
      "\n"
     ]
    },
    {
     "data": {
      "image/png": "[encoded data removed]",
      "text/plain": [
       "<Figure size 720x720 with 5 Axes>"
      ]
     },
     "metadata": {
      "needs_background": "light"
     },
     "output_type": "display_data"
    }
   ],
   "source": [
    "top_marker_gene_plot(pca_output_log_df,\"top_marker_gene_expression\", \"ENSG00000170323\", name)"
   ]
  },
  {
   "cell_type": "code",
   "execution_count": 49,
   "metadata": {},
   "outputs": [],
   "source": [
    "Adipo_samples = {i for i in dict_sample if dict_sample[i]==\"Adipo\"}\n",
    "PreAdipo_samples = {i for i in dict_sample if dict_sample[i]==\"PreAdipo\"}"
   ]
  },
  {
   "attachments": {},
   "cell_type": "markdown",
   "metadata": {},
   "source": [
    "3.c)"
   ]
  },
  {
   "cell_type": "code",
   "execution_count": 30,
   "metadata": {},
   "outputs": [
    {
     "data": {
      "text/html": [
       "<div>\n",
       "<style scoped>\n",
       "    .dataframe tbody tr th:only-of-type {\n",
       "        vertical-align: middle;\n",
       "    }\n",
       "\n",
       "    .dataframe tbody tr th {\n",
       "        vertical-align: top;\n",
       "    }\n",
       "\n",
       "    .dataframe thead th {\n",
       "        text-align: right;\n",
       "    }\n",
       "</style>\n",
       "<table border=\"1\" class=\"dataframe\">\n",
       "  <thead>\n",
       "    <tr style=\"text-align: right;\">\n",
       "      <th></th>\n",
       "      <th>PCA1</th>\n",
       "      <th>PCA2</th>\n",
       "      <th>PCA3</th>\n",
       "      <th>groups</th>\n",
       "      <th>top_marker_gene_expression</th>\n",
       "    </tr>\n",
       "  </thead>\n",
       "  <tbody>\n",
       "    <tr>\n",
       "      <th>0</th>\n",
       "      <td>-42.826327</td>\n",
       "      <td>58.870293</td>\n",
       "      <td>7.278356</td>\n",
       "      <td>PreAdipo</td>\n",
       "      <td>97.0</td>\n",
       "    </tr>\n",
       "    <tr>\n",
       "      <th>1</th>\n",
       "      <td>-46.518798</td>\n",
       "      <td>-5.596080</td>\n",
       "      <td>-14.508770</td>\n",
       "      <td>PreAdipo</td>\n",
       "      <td>81.0</td>\n",
       "    </tr>\n",
       "    <tr>\n",
       "      <th>2</th>\n",
       "      <td>-63.707133</td>\n",
       "      <td>-33.929072</td>\n",
       "      <td>37.002362</td>\n",
       "      <td>PreAdipo</td>\n",
       "      <td>120.0</td>\n",
       "    </tr>\n",
       "    <tr>\n",
       "      <th>3</th>\n",
       "      <td>-57.726232</td>\n",
       "      <td>-67.490797</td>\n",
       "      <td>-11.248592</td>\n",
       "      <td>PreAdipo</td>\n",
       "      <td>107.0</td>\n",
       "    </tr>\n",
       "    <tr>\n",
       "      <th>4</th>\n",
       "      <td>-49.397369</td>\n",
       "      <td>-52.324149</td>\n",
       "      <td>9.416713</td>\n",
       "      <td>PreAdipo</td>\n",
       "      <td>107.0</td>\n",
       "    </tr>\n",
       "    <tr>\n",
       "      <th>...</th>\n",
       "      <td>...</td>\n",
       "      <td>...</td>\n",
       "      <td>...</td>\n",
       "      <td>...</td>\n",
       "      <td>...</td>\n",
       "    </tr>\n",
       "    <tr>\n",
       "      <th>75</th>\n",
       "      <td>53.782770</td>\n",
       "      <td>-3.432589</td>\n",
       "      <td>-58.768038</td>\n",
       "      <td>Adipo</td>\n",
       "      <td>5547.0</td>\n",
       "    </tr>\n",
       "    <tr>\n",
       "      <th>76</th>\n",
       "      <td>69.008352</td>\n",
       "      <td>1.024685</td>\n",
       "      <td>43.881622</td>\n",
       "      <td>Adipo</td>\n",
       "      <td>14900.0</td>\n",
       "    </tr>\n",
       "    <tr>\n",
       "      <th>77</th>\n",
       "      <td>61.583718</td>\n",
       "      <td>-54.186656</td>\n",
       "      <td>4.276194</td>\n",
       "      <td>Adipo</td>\n",
       "      <td>7983.0</td>\n",
       "    </tr>\n",
       "    <tr>\n",
       "      <th>78</th>\n",
       "      <td>30.881711</td>\n",
       "      <td>-23.491805</td>\n",
       "      <td>-43.366574</td>\n",
       "      <td>Adipo</td>\n",
       "      <td>1810.0</td>\n",
       "    </tr>\n",
       "    <tr>\n",
       "      <th>79</th>\n",
       "      <td>27.239854</td>\n",
       "      <td>-28.855357</td>\n",
       "      <td>-24.871588</td>\n",
       "      <td>Adipo</td>\n",
       "      <td>2961.0</td>\n",
       "    </tr>\n",
       "  </tbody>\n",
       "</table>\n",
       "<p>80 rows × 5 columns</p>\n",
       "</div>"
      ],
      "text/plain": [
       "         PCA1       PCA2       PCA3    groups  top_marker_gene_expression\n",
       "0  -42.826327  58.870293   7.278356  PreAdipo                        97.0\n",
       "1  -46.518798  -5.596080 -14.508770  PreAdipo                        81.0\n",
       "2  -63.707133 -33.929072  37.002362  PreAdipo                       120.0\n",
       "3  -57.726232 -67.490797 -11.248592  PreAdipo                       107.0\n",
       "4  -49.397369 -52.324149   9.416713  PreAdipo                       107.0\n",
       "..        ...        ...        ...       ...                         ...\n",
       "75  53.782770  -3.432589 -58.768038     Adipo                      5547.0\n",
       "76  69.008352   1.024685  43.881622     Adipo                     14900.0\n",
       "77  61.583718 -54.186656   4.276194     Adipo                      7983.0\n",
       "78  30.881711 -23.491805 -43.366574     Adipo                      1810.0\n",
       "79  27.239854 -28.855357 -24.871588     Adipo                      2961.0\n",
       "\n",
       "[80 rows x 5 columns]"
      ]
     },
     "execution_count": 30,
     "metadata": {},
     "output_type": "execute_result"
    }
   ],
   "source": [
    "pca_output_log_df"
   ]
  },
  {
   "cell_type": "code",
   "execution_count": 41,
   "metadata": {},
   "outputs": [
    {
     "name": "stderr",
     "output_type": "stream",
     "text": [
      "/var/folders/xd/10nyn_j13qs58rww11sjkgy80000gn/T/ipykernel_88568/4194614803.py:18: UserWarning:\n",
      "\n",
      "Matplotlib is currently using module://matplotlib_inline.backend_inline, which is a non-GUI backend, so cannot show the figure.\n",
      "\n"
     ]
    },
    {
     "data": {
      "image/png": "[encoded data removed]",
      "text/plain": [
       "<Figure size 720x720 with 3 Axes>"
      ]
     },
     "metadata": {
      "needs_background": "light"
     },
     "output_type": "display_data"
    }
   ],
   "source": [
    "ADIPOQ_ensembl_name = transcriptomics_annotate[transcriptomics_annotate.Name == 'ADIPOQ'].index[0]\n",
    "top_marker_gene_plot(pca_output_log_df,\"top_marker_gene_expression\", ADIPOQ_ensembl_name, 'ADIPOQ')"
   ]
  }
 ],
 "metadata": {
  "kernelspec": {
   "display_name": "base",
   "language": "python",
   "name": "python3"
  },
  "language_info": {
   "codemirror_mode": {
    "name": "ipython",
    "version": 3
   },
   "file_extension": ".py",
   "mimetype": "text/x-python",
   "name": "python",
   "nbconvert_exporter": "python",
   "pygments_lexer": "ipython3",
   "version": "3.8.13"
  },
  "orig_nbformat": 4,
  "vscode": {
   "interpreter": {
    "hash": "6e8bd448dc932e4d186e894d045358f83e7fab8ca8948cbea594b20f28a1be96"
   }
  }
 },
 "nbformat": 4,
 "nbformat_minor": 2
}
