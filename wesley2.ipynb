{
 "cells": [
  {
   "cell_type": "code",
   "execution_count": 109,
   "metadata": {},
   "outputs": [],
   "source": [
    "import pandas as pd\n",
    "import numpy as np\n",
    "import os\n",
    "import matplotlib.pyplot as plt\n",
    "import seaborn as sns\n",
    "import plotly.express as px\n",
    "from sklearn.decomposition import PCA\n",
    "from scipy.stats import ttest_ind\n",
    "from statsmodels.stats.multitest import fdrcorrection, multipletests\n",
    "import statsmodels"
   ]
  },
  {
   "cell_type": "markdown",
   "metadata": {},
   "source": [
    "### 1. Load and visualize the data"
   ]
  },
  {
   "cell_type": "markdown",
   "metadata": {},
   "source": [
    "a) "
   ]
  },
  {
   "cell_type": "code",
   "execution_count": 110,
   "metadata": {},
   "outputs": [],
   "source": [
    "core_path = './data'\n",
    "transcriptomics = pd.read_csv( os.path.join(core_path, 'transcriptomics.dataset.txt'),sep= \"\\t\")"
   ]
  },
  {
   "cell_type": "code",
   "execution_count": 111,
   "metadata": {},
   "outputs": [],
   "source": [
    "transcriptomics.rename(columns = {\"Unnamed: 0\":'Gene_ID'}, inplace=True)\n",
    "transcriptomics.index = transcriptomics[\"Gene_ID\"]\n",
    "transcriptomics.drop(columns = ['Gene_ID'], inplace=True)"
   ]
  },
  {
   "cell_type": "markdown",
   "metadata": {},
   "source": [
    "What is the size of the matrix ?"
   ]
  },
  {
   "cell_type": "markdown",
   "metadata": {},
   "source": [
    "63677 genes and 80 samples : matrix size 63677*80"
   ]
  },
  {
   "cell_type": "markdown",
   "metadata": {},
   "source": [
    "b) What type of data do you have? Normalized or raw read counts (integer)?"
   ]
  },
  {
   "cell_type": "markdown",
   "metadata": {},
   "source": [
    "number of transcripts, raw read counts"
   ]
  },
  {
   "cell_type": "markdown",
   "metadata": {},
   "source": [
    "c)"
   ]
  },
  {
   "cell_type": "code",
   "execution_count": 112,
   "metadata": {},
   "outputs": [],
   "source": [
    "dict_sample = {}\n",
    "for idx, sample in enumerate(transcriptomics.columns.values) :\n",
    "    if ( sample == \"Sample_{}_preadi\".format(idx+1) ):\n",
    "        #dict_sample[\"Sample_{}\".format(idx+1)]=\"PreAdipo\"\n",
    "        dict_sample[sample]=\"PreAdipo\"\n",
    "    else :\n",
    "        dict_sample[sample]=\"Adipo\"\n",
    "        "
   ]
  },
  {
   "cell_type": "code",
   "execution_count": 113,
   "metadata": {},
   "outputs": [
    {
     "data": {
      "text/html": [
       "<div>\n",
       "<style scoped>\n",
       "    .dataframe tbody tr th:only-of-type {\n",
       "        vertical-align: middle;\n",
       "    }\n",
       "\n",
       "    .dataframe tbody tr th {\n",
       "        vertical-align: top;\n",
       "    }\n",
       "\n",
       "    .dataframe thead th {\n",
       "        text-align: right;\n",
       "    }\n",
       "</style>\n",
       "<table border=\"1\" class=\"dataframe\">\n",
       "  <thead>\n",
       "    <tr style=\"text-align: right;\">\n",
       "      <th></th>\n",
       "      <th>Sample_1_preadi</th>\n",
       "      <th>Sample_2_preadi</th>\n",
       "      <th>Sample_3_preadi</th>\n",
       "      <th>Sample_4_preadi</th>\n",
       "      <th>Sample_5_preadi</th>\n",
       "      <th>Sample_6_preadi</th>\n",
       "      <th>Sample_7_preadi</th>\n",
       "      <th>Sample_8_preadi</th>\n",
       "      <th>Sample_9_preadi</th>\n",
       "      <th>Sample_10_preadi</th>\n",
       "      <th>...</th>\n",
       "      <th>Sample_71_adipo</th>\n",
       "      <th>Sample_72_adipo</th>\n",
       "      <th>Sample_73_adipo</th>\n",
       "      <th>Sample_74_adipo</th>\n",
       "      <th>Sample_75_adipo</th>\n",
       "      <th>Sample_76_adipo</th>\n",
       "      <th>Sample_77_adipo</th>\n",
       "      <th>Sample_78_adipo</th>\n",
       "      <th>Sample_79_adipo</th>\n",
       "      <th>Sample_80_adipo</th>\n",
       "    </tr>\n",
       "    <tr>\n",
       "      <th>Gene_ID</th>\n",
       "      <th></th>\n",
       "      <th></th>\n",
       "      <th></th>\n",
       "      <th></th>\n",
       "      <th></th>\n",
       "      <th></th>\n",
       "      <th></th>\n",
       "      <th></th>\n",
       "      <th></th>\n",
       "      <th></th>\n",
       "      <th></th>\n",
       "      <th></th>\n",
       "      <th></th>\n",
       "      <th></th>\n",
       "      <th></th>\n",
       "      <th></th>\n",
       "      <th></th>\n",
       "      <th></th>\n",
       "      <th></th>\n",
       "      <th></th>\n",
       "      <th></th>\n",
       "    </tr>\n",
       "  </thead>\n",
       "  <tbody>\n",
       "    <tr>\n",
       "      <th>ENSG00000000003</th>\n",
       "      <td>18</td>\n",
       "      <td>12</td>\n",
       "      <td>9</td>\n",
       "      <td>20</td>\n",
       "      <td>9</td>\n",
       "      <td>13</td>\n",
       "      <td>20</td>\n",
       "      <td>8</td>\n",
       "      <td>4</td>\n",
       "      <td>7</td>\n",
       "      <td>...</td>\n",
       "      <td>9</td>\n",
       "      <td>9</td>\n",
       "      <td>30</td>\n",
       "      <td>9</td>\n",
       "      <td>23</td>\n",
       "      <td>16</td>\n",
       "      <td>3</td>\n",
       "      <td>14</td>\n",
       "      <td>11</td>\n",
       "      <td>16</td>\n",
       "    </tr>\n",
       "    <tr>\n",
       "      <th>ENSG00000000005</th>\n",
       "      <td>0</td>\n",
       "      <td>0</td>\n",
       "      <td>0</td>\n",
       "      <td>2</td>\n",
       "      <td>0</td>\n",
       "      <td>0</td>\n",
       "      <td>0</td>\n",
       "      <td>0</td>\n",
       "      <td>0</td>\n",
       "      <td>0</td>\n",
       "      <td>...</td>\n",
       "      <td>0</td>\n",
       "      <td>1</td>\n",
       "      <td>29</td>\n",
       "      <td>2</td>\n",
       "      <td>22</td>\n",
       "      <td>3</td>\n",
       "      <td>0</td>\n",
       "      <td>2</td>\n",
       "      <td>0</td>\n",
       "      <td>5</td>\n",
       "    </tr>\n",
       "    <tr>\n",
       "      <th>ENSG00000000419</th>\n",
       "      <td>10</td>\n",
       "      <td>9</td>\n",
       "      <td>9</td>\n",
       "      <td>8</td>\n",
       "      <td>10</td>\n",
       "      <td>10</td>\n",
       "      <td>6</td>\n",
       "      <td>35</td>\n",
       "      <td>13</td>\n",
       "      <td>15</td>\n",
       "      <td>...</td>\n",
       "      <td>3</td>\n",
       "      <td>9</td>\n",
       "      <td>9</td>\n",
       "      <td>15</td>\n",
       "      <td>8</td>\n",
       "      <td>9</td>\n",
       "      <td>9</td>\n",
       "      <td>4</td>\n",
       "      <td>16</td>\n",
       "      <td>5</td>\n",
       "    </tr>\n",
       "    <tr>\n",
       "      <th>ENSG00000000457</th>\n",
       "      <td>0</td>\n",
       "      <td>11</td>\n",
       "      <td>0</td>\n",
       "      <td>6</td>\n",
       "      <td>2</td>\n",
       "      <td>12</td>\n",
       "      <td>11</td>\n",
       "      <td>1</td>\n",
       "      <td>2</td>\n",
       "      <td>0</td>\n",
       "      <td>...</td>\n",
       "      <td>9</td>\n",
       "      <td>8</td>\n",
       "      <td>8</td>\n",
       "      <td>5</td>\n",
       "      <td>6</td>\n",
       "      <td>0</td>\n",
       "      <td>12</td>\n",
       "      <td>13</td>\n",
       "      <td>4</td>\n",
       "      <td>11</td>\n",
       "    </tr>\n",
       "    <tr>\n",
       "      <th>ENSG00000000460</th>\n",
       "      <td>0</td>\n",
       "      <td>0</td>\n",
       "      <td>14</td>\n",
       "      <td>4</td>\n",
       "      <td>5</td>\n",
       "      <td>0</td>\n",
       "      <td>0</td>\n",
       "      <td>6</td>\n",
       "      <td>4</td>\n",
       "      <td>0</td>\n",
       "      <td>...</td>\n",
       "      <td>0</td>\n",
       "      <td>0</td>\n",
       "      <td>3</td>\n",
       "      <td>0</td>\n",
       "      <td>1</td>\n",
       "      <td>0</td>\n",
       "      <td>1</td>\n",
       "      <td>4</td>\n",
       "      <td>0</td>\n",
       "      <td>10</td>\n",
       "    </tr>\n",
       "    <tr>\n",
       "      <th>...</th>\n",
       "      <td>...</td>\n",
       "      <td>...</td>\n",
       "      <td>...</td>\n",
       "      <td>...</td>\n",
       "      <td>...</td>\n",
       "      <td>...</td>\n",
       "      <td>...</td>\n",
       "      <td>...</td>\n",
       "      <td>...</td>\n",
       "      <td>...</td>\n",
       "      <td>...</td>\n",
       "      <td>...</td>\n",
       "      <td>...</td>\n",
       "      <td>...</td>\n",
       "      <td>...</td>\n",
       "      <td>...</td>\n",
       "      <td>...</td>\n",
       "      <td>...</td>\n",
       "      <td>...</td>\n",
       "      <td>...</td>\n",
       "      <td>...</td>\n",
       "    </tr>\n",
       "    <tr>\n",
       "      <th>ENSG00000273489</th>\n",
       "      <td>0</td>\n",
       "      <td>0</td>\n",
       "      <td>0</td>\n",
       "      <td>2</td>\n",
       "      <td>0</td>\n",
       "      <td>1</td>\n",
       "      <td>8</td>\n",
       "      <td>0</td>\n",
       "      <td>0</td>\n",
       "      <td>0</td>\n",
       "      <td>...</td>\n",
       "      <td>0</td>\n",
       "      <td>0</td>\n",
       "      <td>0</td>\n",
       "      <td>0</td>\n",
       "      <td>0</td>\n",
       "      <td>0</td>\n",
       "      <td>0</td>\n",
       "      <td>0</td>\n",
       "      <td>0</td>\n",
       "      <td>0</td>\n",
       "    </tr>\n",
       "    <tr>\n",
       "      <th>ENSG00000273490</th>\n",
       "      <td>0</td>\n",
       "      <td>0</td>\n",
       "      <td>0</td>\n",
       "      <td>0</td>\n",
       "      <td>0</td>\n",
       "      <td>0</td>\n",
       "      <td>0</td>\n",
       "      <td>0</td>\n",
       "      <td>0</td>\n",
       "      <td>0</td>\n",
       "      <td>...</td>\n",
       "      <td>0</td>\n",
       "      <td>0</td>\n",
       "      <td>0</td>\n",
       "      <td>0</td>\n",
       "      <td>0</td>\n",
       "      <td>0</td>\n",
       "      <td>0</td>\n",
       "      <td>0</td>\n",
       "      <td>0</td>\n",
       "      <td>0</td>\n",
       "    </tr>\n",
       "    <tr>\n",
       "      <th>ENSG00000273491</th>\n",
       "      <td>0</td>\n",
       "      <td>0</td>\n",
       "      <td>0</td>\n",
       "      <td>0</td>\n",
       "      <td>0</td>\n",
       "      <td>0</td>\n",
       "      <td>0</td>\n",
       "      <td>0</td>\n",
       "      <td>0</td>\n",
       "      <td>0</td>\n",
       "      <td>...</td>\n",
       "      <td>0</td>\n",
       "      <td>0</td>\n",
       "      <td>0</td>\n",
       "      <td>0</td>\n",
       "      <td>0</td>\n",
       "      <td>0</td>\n",
       "      <td>0</td>\n",
       "      <td>0</td>\n",
       "      <td>0</td>\n",
       "      <td>0</td>\n",
       "    </tr>\n",
       "    <tr>\n",
       "      <th>ENSG00000273492</th>\n",
       "      <td>0</td>\n",
       "      <td>0</td>\n",
       "      <td>0</td>\n",
       "      <td>0</td>\n",
       "      <td>0</td>\n",
       "      <td>0</td>\n",
       "      <td>0</td>\n",
       "      <td>0</td>\n",
       "      <td>0</td>\n",
       "      <td>0</td>\n",
       "      <td>...</td>\n",
       "      <td>0</td>\n",
       "      <td>0</td>\n",
       "      <td>0</td>\n",
       "      <td>0</td>\n",
       "      <td>0</td>\n",
       "      <td>0</td>\n",
       "      <td>0</td>\n",
       "      <td>0</td>\n",
       "      <td>0</td>\n",
       "      <td>0</td>\n",
       "    </tr>\n",
       "    <tr>\n",
       "      <th>ENSG00000273493</th>\n",
       "      <td>0</td>\n",
       "      <td>0</td>\n",
       "      <td>0</td>\n",
       "      <td>0</td>\n",
       "      <td>0</td>\n",
       "      <td>0</td>\n",
       "      <td>0</td>\n",
       "      <td>0</td>\n",
       "      <td>1</td>\n",
       "      <td>0</td>\n",
       "      <td>...</td>\n",
       "      <td>0</td>\n",
       "      <td>0</td>\n",
       "      <td>0</td>\n",
       "      <td>0</td>\n",
       "      <td>0</td>\n",
       "      <td>0</td>\n",
       "      <td>0</td>\n",
       "      <td>0</td>\n",
       "      <td>3</td>\n",
       "      <td>0</td>\n",
       "    </tr>\n",
       "  </tbody>\n",
       "</table>\n",
       "<p>63677 rows × 80 columns</p>\n",
       "</div>"
      ],
      "text/plain": [
       "                 Sample_1_preadi  Sample_2_preadi  Sample_3_preadi  \\\n",
       "Gene_ID                                                              \n",
       "ENSG00000000003               18               12                9   \n",
       "ENSG00000000005                0                0                0   \n",
       "ENSG00000000419               10                9                9   \n",
       "ENSG00000000457                0               11                0   \n",
       "ENSG00000000460                0                0               14   \n",
       "...                          ...              ...              ...   \n",
       "ENSG00000273489                0                0                0   \n",
       "ENSG00000273490                0                0                0   \n",
       "ENSG00000273491                0                0                0   \n",
       "ENSG00000273492                0                0                0   \n",
       "ENSG00000273493                0                0                0   \n",
       "\n",
       "                 Sample_4_preadi  Sample_5_preadi  Sample_6_preadi  \\\n",
       "Gene_ID                                                              \n",
       "ENSG00000000003               20                9               13   \n",
       "ENSG00000000005                2                0                0   \n",
       "ENSG00000000419                8               10               10   \n",
       "ENSG00000000457                6                2               12   \n",
       "ENSG00000000460                4                5                0   \n",
       "...                          ...              ...              ...   \n",
       "ENSG00000273489                2                0                1   \n",
       "ENSG00000273490                0                0                0   \n",
       "ENSG00000273491                0                0                0   \n",
       "ENSG00000273492                0                0                0   \n",
       "ENSG00000273493                0                0                0   \n",
       "\n",
       "                 Sample_7_preadi  Sample_8_preadi  Sample_9_preadi  \\\n",
       "Gene_ID                                                              \n",
       "ENSG00000000003               20                8                4   \n",
       "ENSG00000000005                0                0                0   \n",
       "ENSG00000000419                6               35               13   \n",
       "ENSG00000000457               11                1                2   \n",
       "ENSG00000000460                0                6                4   \n",
       "...                          ...              ...              ...   \n",
       "ENSG00000273489                8                0                0   \n",
       "ENSG00000273490                0                0                0   \n",
       "ENSG00000273491                0                0                0   \n",
       "ENSG00000273492                0                0                0   \n",
       "ENSG00000273493                0                0                1   \n",
       "\n",
       "                 Sample_10_preadi  ...  Sample_71_adipo  Sample_72_adipo  \\\n",
       "Gene_ID                            ...                                     \n",
       "ENSG00000000003                 7  ...                9                9   \n",
       "ENSG00000000005                 0  ...                0                1   \n",
       "ENSG00000000419                15  ...                3                9   \n",
       "ENSG00000000457                 0  ...                9                8   \n",
       "ENSG00000000460                 0  ...                0                0   \n",
       "...                           ...  ...              ...              ...   \n",
       "ENSG00000273489                 0  ...                0                0   \n",
       "ENSG00000273490                 0  ...                0                0   \n",
       "ENSG00000273491                 0  ...                0                0   \n",
       "ENSG00000273492                 0  ...                0                0   \n",
       "ENSG00000273493                 0  ...                0                0   \n",
       "\n",
       "                 Sample_73_adipo  Sample_74_adipo  Sample_75_adipo  \\\n",
       "Gene_ID                                                              \n",
       "ENSG00000000003               30                9               23   \n",
       "ENSG00000000005               29                2               22   \n",
       "ENSG00000000419                9               15                8   \n",
       "ENSG00000000457                8                5                6   \n",
       "ENSG00000000460                3                0                1   \n",
       "...                          ...              ...              ...   \n",
       "ENSG00000273489                0                0                0   \n",
       "ENSG00000273490                0                0                0   \n",
       "ENSG00000273491                0                0                0   \n",
       "ENSG00000273492                0                0                0   \n",
       "ENSG00000273493                0                0                0   \n",
       "\n",
       "                 Sample_76_adipo  Sample_77_adipo  Sample_78_adipo  \\\n",
       "Gene_ID                                                              \n",
       "ENSG00000000003               16                3               14   \n",
       "ENSG00000000005                3                0                2   \n",
       "ENSG00000000419                9                9                4   \n",
       "ENSG00000000457                0               12               13   \n",
       "ENSG00000000460                0                1                4   \n",
       "...                          ...              ...              ...   \n",
       "ENSG00000273489                0                0                0   \n",
       "ENSG00000273490                0                0                0   \n",
       "ENSG00000273491                0                0                0   \n",
       "ENSG00000273492                0                0                0   \n",
       "ENSG00000273493                0                0                0   \n",
       "\n",
       "                 Sample_79_adipo  Sample_80_adipo  \n",
       "Gene_ID                                            \n",
       "ENSG00000000003               11               16  \n",
       "ENSG00000000005                0                5  \n",
       "ENSG00000000419               16                5  \n",
       "ENSG00000000457                4               11  \n",
       "ENSG00000000460                0               10  \n",
       "...                          ...              ...  \n",
       "ENSG00000273489                0                0  \n",
       "ENSG00000273490                0                0  \n",
       "ENSG00000273491                0                0  \n",
       "ENSG00000273492                0                0  \n",
       "ENSG00000273493                3                0  \n",
       "\n",
       "[63677 rows x 80 columns]"
      ]
     },
     "execution_count": 113,
     "metadata": {},
     "output_type": "execute_result"
    }
   ],
   "source": [
    "transcriptomics"
   ]
  },
  {
   "cell_type": "markdown",
   "metadata": {},
   "source": [
    "d)"
   ]
  },
  {
   "cell_type": "code",
   "execution_count": 114,
   "metadata": {},
   "outputs": [],
   "source": [
    "transcriptomics = transcriptomics.loc[(transcriptomics != 0).any(axis=1),:]"
   ]
  },
  {
   "cell_type": "code",
   "execution_count": 115,
   "metadata": {},
   "outputs": [
    {
     "data": {
      "text/html": [
       "<div>\n",
       "<style scoped>\n",
       "    .dataframe tbody tr th:only-of-type {\n",
       "        vertical-align: middle;\n",
       "    }\n",
       "\n",
       "    .dataframe tbody tr th {\n",
       "        vertical-align: top;\n",
       "    }\n",
       "\n",
       "    .dataframe thead th {\n",
       "        text-align: right;\n",
       "    }\n",
       "</style>\n",
       "<table border=\"1\" class=\"dataframe\">\n",
       "  <thead>\n",
       "    <tr style=\"text-align: right;\">\n",
       "      <th></th>\n",
       "      <th>Sample_1_preadi</th>\n",
       "      <th>Sample_2_preadi</th>\n",
       "      <th>Sample_3_preadi</th>\n",
       "      <th>Sample_4_preadi</th>\n",
       "      <th>Sample_5_preadi</th>\n",
       "      <th>Sample_6_preadi</th>\n",
       "      <th>Sample_7_preadi</th>\n",
       "      <th>Sample_8_preadi</th>\n",
       "      <th>Sample_9_preadi</th>\n",
       "      <th>Sample_10_preadi</th>\n",
       "      <th>...</th>\n",
       "      <th>Sample_71_adipo</th>\n",
       "      <th>Sample_72_adipo</th>\n",
       "      <th>Sample_73_adipo</th>\n",
       "      <th>Sample_74_adipo</th>\n",
       "      <th>Sample_75_adipo</th>\n",
       "      <th>Sample_76_adipo</th>\n",
       "      <th>Sample_77_adipo</th>\n",
       "      <th>Sample_78_adipo</th>\n",
       "      <th>Sample_79_adipo</th>\n",
       "      <th>Sample_80_adipo</th>\n",
       "    </tr>\n",
       "    <tr>\n",
       "      <th>Gene_ID</th>\n",
       "      <th></th>\n",
       "      <th></th>\n",
       "      <th></th>\n",
       "      <th></th>\n",
       "      <th></th>\n",
       "      <th></th>\n",
       "      <th></th>\n",
       "      <th></th>\n",
       "      <th></th>\n",
       "      <th></th>\n",
       "      <th></th>\n",
       "      <th></th>\n",
       "      <th></th>\n",
       "      <th></th>\n",
       "      <th></th>\n",
       "      <th></th>\n",
       "      <th></th>\n",
       "      <th></th>\n",
       "      <th></th>\n",
       "      <th></th>\n",
       "      <th></th>\n",
       "    </tr>\n",
       "  </thead>\n",
       "  <tbody>\n",
       "    <tr>\n",
       "      <th>ENSG00000000003</th>\n",
       "      <td>18</td>\n",
       "      <td>12</td>\n",
       "      <td>9</td>\n",
       "      <td>20</td>\n",
       "      <td>9</td>\n",
       "      <td>13</td>\n",
       "      <td>20</td>\n",
       "      <td>8</td>\n",
       "      <td>4</td>\n",
       "      <td>7</td>\n",
       "      <td>...</td>\n",
       "      <td>9</td>\n",
       "      <td>9</td>\n",
       "      <td>30</td>\n",
       "      <td>9</td>\n",
       "      <td>23</td>\n",
       "      <td>16</td>\n",
       "      <td>3</td>\n",
       "      <td>14</td>\n",
       "      <td>11</td>\n",
       "      <td>16</td>\n",
       "    </tr>\n",
       "    <tr>\n",
       "      <th>ENSG00000000005</th>\n",
       "      <td>0</td>\n",
       "      <td>0</td>\n",
       "      <td>0</td>\n",
       "      <td>2</td>\n",
       "      <td>0</td>\n",
       "      <td>0</td>\n",
       "      <td>0</td>\n",
       "      <td>0</td>\n",
       "      <td>0</td>\n",
       "      <td>0</td>\n",
       "      <td>...</td>\n",
       "      <td>0</td>\n",
       "      <td>1</td>\n",
       "      <td>29</td>\n",
       "      <td>2</td>\n",
       "      <td>22</td>\n",
       "      <td>3</td>\n",
       "      <td>0</td>\n",
       "      <td>2</td>\n",
       "      <td>0</td>\n",
       "      <td>5</td>\n",
       "    </tr>\n",
       "    <tr>\n",
       "      <th>ENSG00000000419</th>\n",
       "      <td>10</td>\n",
       "      <td>9</td>\n",
       "      <td>9</td>\n",
       "      <td>8</td>\n",
       "      <td>10</td>\n",
       "      <td>10</td>\n",
       "      <td>6</td>\n",
       "      <td>35</td>\n",
       "      <td>13</td>\n",
       "      <td>15</td>\n",
       "      <td>...</td>\n",
       "      <td>3</td>\n",
       "      <td>9</td>\n",
       "      <td>9</td>\n",
       "      <td>15</td>\n",
       "      <td>8</td>\n",
       "      <td>9</td>\n",
       "      <td>9</td>\n",
       "      <td>4</td>\n",
       "      <td>16</td>\n",
       "      <td>5</td>\n",
       "    </tr>\n",
       "    <tr>\n",
       "      <th>ENSG00000000457</th>\n",
       "      <td>0</td>\n",
       "      <td>11</td>\n",
       "      <td>0</td>\n",
       "      <td>6</td>\n",
       "      <td>2</td>\n",
       "      <td>12</td>\n",
       "      <td>11</td>\n",
       "      <td>1</td>\n",
       "      <td>2</td>\n",
       "      <td>0</td>\n",
       "      <td>...</td>\n",
       "      <td>9</td>\n",
       "      <td>8</td>\n",
       "      <td>8</td>\n",
       "      <td>5</td>\n",
       "      <td>6</td>\n",
       "      <td>0</td>\n",
       "      <td>12</td>\n",
       "      <td>13</td>\n",
       "      <td>4</td>\n",
       "      <td>11</td>\n",
       "    </tr>\n",
       "    <tr>\n",
       "      <th>ENSG00000000460</th>\n",
       "      <td>0</td>\n",
       "      <td>0</td>\n",
       "      <td>14</td>\n",
       "      <td>4</td>\n",
       "      <td>5</td>\n",
       "      <td>0</td>\n",
       "      <td>0</td>\n",
       "      <td>6</td>\n",
       "      <td>4</td>\n",
       "      <td>0</td>\n",
       "      <td>...</td>\n",
       "      <td>0</td>\n",
       "      <td>0</td>\n",
       "      <td>3</td>\n",
       "      <td>0</td>\n",
       "      <td>1</td>\n",
       "      <td>0</td>\n",
       "      <td>1</td>\n",
       "      <td>4</td>\n",
       "      <td>0</td>\n",
       "      <td>10</td>\n",
       "    </tr>\n",
       "    <tr>\n",
       "      <th>...</th>\n",
       "      <td>...</td>\n",
       "      <td>...</td>\n",
       "      <td>...</td>\n",
       "      <td>...</td>\n",
       "      <td>...</td>\n",
       "      <td>...</td>\n",
       "      <td>...</td>\n",
       "      <td>...</td>\n",
       "      <td>...</td>\n",
       "      <td>...</td>\n",
       "      <td>...</td>\n",
       "      <td>...</td>\n",
       "      <td>...</td>\n",
       "      <td>...</td>\n",
       "      <td>...</td>\n",
       "      <td>...</td>\n",
       "      <td>...</td>\n",
       "      <td>...</td>\n",
       "      <td>...</td>\n",
       "      <td>...</td>\n",
       "      <td>...</td>\n",
       "    </tr>\n",
       "    <tr>\n",
       "      <th>ENSG00000273485</th>\n",
       "      <td>0</td>\n",
       "      <td>0</td>\n",
       "      <td>0</td>\n",
       "      <td>1</td>\n",
       "      <td>0</td>\n",
       "      <td>5</td>\n",
       "      <td>0</td>\n",
       "      <td>0</td>\n",
       "      <td>0</td>\n",
       "      <td>0</td>\n",
       "      <td>...</td>\n",
       "      <td>0</td>\n",
       "      <td>0</td>\n",
       "      <td>0</td>\n",
       "      <td>0</td>\n",
       "      <td>0</td>\n",
       "      <td>12</td>\n",
       "      <td>0</td>\n",
       "      <td>0</td>\n",
       "      <td>0</td>\n",
       "      <td>0</td>\n",
       "    </tr>\n",
       "    <tr>\n",
       "      <th>ENSG00000273486</th>\n",
       "      <td>0</td>\n",
       "      <td>0</td>\n",
       "      <td>0</td>\n",
       "      <td>0</td>\n",
       "      <td>1</td>\n",
       "      <td>0</td>\n",
       "      <td>0</td>\n",
       "      <td>0</td>\n",
       "      <td>0</td>\n",
       "      <td>0</td>\n",
       "      <td>...</td>\n",
       "      <td>0</td>\n",
       "      <td>2</td>\n",
       "      <td>0</td>\n",
       "      <td>3</td>\n",
       "      <td>0</td>\n",
       "      <td>2</td>\n",
       "      <td>5</td>\n",
       "      <td>1</td>\n",
       "      <td>0</td>\n",
       "      <td>0</td>\n",
       "    </tr>\n",
       "    <tr>\n",
       "      <th>ENSG00000273487</th>\n",
       "      <td>0</td>\n",
       "      <td>0</td>\n",
       "      <td>0</td>\n",
       "      <td>0</td>\n",
       "      <td>0</td>\n",
       "      <td>0</td>\n",
       "      <td>0</td>\n",
       "      <td>0</td>\n",
       "      <td>0</td>\n",
       "      <td>0</td>\n",
       "      <td>...</td>\n",
       "      <td>0</td>\n",
       "      <td>0</td>\n",
       "      <td>0</td>\n",
       "      <td>0</td>\n",
       "      <td>0</td>\n",
       "      <td>0</td>\n",
       "      <td>0</td>\n",
       "      <td>0</td>\n",
       "      <td>0</td>\n",
       "      <td>0</td>\n",
       "    </tr>\n",
       "    <tr>\n",
       "      <th>ENSG00000273489</th>\n",
       "      <td>0</td>\n",
       "      <td>0</td>\n",
       "      <td>0</td>\n",
       "      <td>2</td>\n",
       "      <td>0</td>\n",
       "      <td>1</td>\n",
       "      <td>8</td>\n",
       "      <td>0</td>\n",
       "      <td>0</td>\n",
       "      <td>0</td>\n",
       "      <td>...</td>\n",
       "      <td>0</td>\n",
       "      <td>0</td>\n",
       "      <td>0</td>\n",
       "      <td>0</td>\n",
       "      <td>0</td>\n",
       "      <td>0</td>\n",
       "      <td>0</td>\n",
       "      <td>0</td>\n",
       "      <td>0</td>\n",
       "      <td>0</td>\n",
       "    </tr>\n",
       "    <tr>\n",
       "      <th>ENSG00000273493</th>\n",
       "      <td>0</td>\n",
       "      <td>0</td>\n",
       "      <td>0</td>\n",
       "      <td>0</td>\n",
       "      <td>0</td>\n",
       "      <td>0</td>\n",
       "      <td>0</td>\n",
       "      <td>0</td>\n",
       "      <td>1</td>\n",
       "      <td>0</td>\n",
       "      <td>...</td>\n",
       "      <td>0</td>\n",
       "      <td>0</td>\n",
       "      <td>0</td>\n",
       "      <td>0</td>\n",
       "      <td>0</td>\n",
       "      <td>0</td>\n",
       "      <td>0</td>\n",
       "      <td>0</td>\n",
       "      <td>3</td>\n",
       "      <td>0</td>\n",
       "    </tr>\n",
       "  </tbody>\n",
       "</table>\n",
       "<p>30238 rows × 80 columns</p>\n",
       "</div>"
      ],
      "text/plain": [
       "                 Sample_1_preadi  Sample_2_preadi  Sample_3_preadi  \\\n",
       "Gene_ID                                                              \n",
       "ENSG00000000003               18               12                9   \n",
       "ENSG00000000005                0                0                0   \n",
       "ENSG00000000419               10                9                9   \n",
       "ENSG00000000457                0               11                0   \n",
       "ENSG00000000460                0                0               14   \n",
       "...                          ...              ...              ...   \n",
       "ENSG00000273485                0                0                0   \n",
       "ENSG00000273486                0                0                0   \n",
       "ENSG00000273487                0                0                0   \n",
       "ENSG00000273489                0                0                0   \n",
       "ENSG00000273493                0                0                0   \n",
       "\n",
       "                 Sample_4_preadi  Sample_5_preadi  Sample_6_preadi  \\\n",
       "Gene_ID                                                              \n",
       "ENSG00000000003               20                9               13   \n",
       "ENSG00000000005                2                0                0   \n",
       "ENSG00000000419                8               10               10   \n",
       "ENSG00000000457                6                2               12   \n",
       "ENSG00000000460                4                5                0   \n",
       "...                          ...              ...              ...   \n",
       "ENSG00000273485                1                0                5   \n",
       "ENSG00000273486                0                1                0   \n",
       "ENSG00000273487                0                0                0   \n",
       "ENSG00000273489                2                0                1   \n",
       "ENSG00000273493                0                0                0   \n",
       "\n",
       "                 Sample_7_preadi  Sample_8_preadi  Sample_9_preadi  \\\n",
       "Gene_ID                                                              \n",
       "ENSG00000000003               20                8                4   \n",
       "ENSG00000000005                0                0                0   \n",
       "ENSG00000000419                6               35               13   \n",
       "ENSG00000000457               11                1                2   \n",
       "ENSG00000000460                0                6                4   \n",
       "...                          ...              ...              ...   \n",
       "ENSG00000273485                0                0                0   \n",
       "ENSG00000273486                0                0                0   \n",
       "ENSG00000273487                0                0                0   \n",
       "ENSG00000273489                8                0                0   \n",
       "ENSG00000273493                0                0                1   \n",
       "\n",
       "                 Sample_10_preadi  ...  Sample_71_adipo  Sample_72_adipo  \\\n",
       "Gene_ID                            ...                                     \n",
       "ENSG00000000003                 7  ...                9                9   \n",
       "ENSG00000000005                 0  ...                0                1   \n",
       "ENSG00000000419                15  ...                3                9   \n",
       "ENSG00000000457                 0  ...                9                8   \n",
       "ENSG00000000460                 0  ...                0                0   \n",
       "...                           ...  ...              ...              ...   \n",
       "ENSG00000273485                 0  ...                0                0   \n",
       "ENSG00000273486                 0  ...                0                2   \n",
       "ENSG00000273487                 0  ...                0                0   \n",
       "ENSG00000273489                 0  ...                0                0   \n",
       "ENSG00000273493                 0  ...                0                0   \n",
       "\n",
       "                 Sample_73_adipo  Sample_74_adipo  Sample_75_adipo  \\\n",
       "Gene_ID                                                              \n",
       "ENSG00000000003               30                9               23   \n",
       "ENSG00000000005               29                2               22   \n",
       "ENSG00000000419                9               15                8   \n",
       "ENSG00000000457                8                5                6   \n",
       "ENSG00000000460                3                0                1   \n",
       "...                          ...              ...              ...   \n",
       "ENSG00000273485                0                0                0   \n",
       "ENSG00000273486                0                3                0   \n",
       "ENSG00000273487                0                0                0   \n",
       "ENSG00000273489                0                0                0   \n",
       "ENSG00000273493                0                0                0   \n",
       "\n",
       "                 Sample_76_adipo  Sample_77_adipo  Sample_78_adipo  \\\n",
       "Gene_ID                                                              \n",
       "ENSG00000000003               16                3               14   \n",
       "ENSG00000000005                3                0                2   \n",
       "ENSG00000000419                9                9                4   \n",
       "ENSG00000000457                0               12               13   \n",
       "ENSG00000000460                0                1                4   \n",
       "...                          ...              ...              ...   \n",
       "ENSG00000273485               12                0                0   \n",
       "ENSG00000273486                2                5                1   \n",
       "ENSG00000273487                0                0                0   \n",
       "ENSG00000273489                0                0                0   \n",
       "ENSG00000273493                0                0                0   \n",
       "\n",
       "                 Sample_79_adipo  Sample_80_adipo  \n",
       "Gene_ID                                            \n",
       "ENSG00000000003               11               16  \n",
       "ENSG00000000005                0                5  \n",
       "ENSG00000000419               16                5  \n",
       "ENSG00000000457                4               11  \n",
       "ENSG00000000460                0               10  \n",
       "...                          ...              ...  \n",
       "ENSG00000273485                0                0  \n",
       "ENSG00000273486                0                0  \n",
       "ENSG00000273487                0                0  \n",
       "ENSG00000273489                0                0  \n",
       "ENSG00000273493                3                0  \n",
       "\n",
       "[30238 rows x 80 columns]"
      ]
     },
     "execution_count": 115,
     "metadata": {},
     "output_type": "execute_result"
    }
   ],
   "source": [
    "transcriptomics"
   ]
  },
  {
   "cell_type": "markdown",
   "metadata": {},
   "source": [
    "e)"
   ]
  },
  {
   "cell_type": "code",
   "execution_count": 116,
   "metadata": {},
   "outputs": [
    {
     "data": {
      "text/plain": [
       "True"
      ]
     },
     "execution_count": 116,
     "metadata": {},
     "output_type": "execute_result"
    }
   ],
   "source": [
    "(transcriptomics.sum() == 1e6).all()"
   ]
  },
  {
   "cell_type": "code",
   "execution_count": 117,
   "metadata": {},
   "outputs": [
    {
     "data": {
      "image/png": "[encoded data removed]",
      "text/plain": [
       "<Figure size 1440x720 with 1 Axes>"
      ]
     },
     "metadata": {
      "needs_background": "light"
     },
     "output_type": "display_data"
    }
   ],
   "source": [
    "depth = pd.DataFrame({'Samples':list(range(0,80)), 'depth':transcriptomics.sum()})\n",
    "plt.figure(figsize=(20,10))\n",
    "ax =sns.barplot( data=depth, y='depth', x=\"Samples\")"
   ]
  },
  {
   "cell_type": "markdown",
   "metadata": {},
   "source": [
    "Do not need to normalized"
   ]
  },
  {
   "cell_type": "markdown",
   "metadata": {},
   "source": [
    "f)"
   ]
  },
  {
   "cell_type": "code",
   "execution_count": 118,
   "metadata": {},
   "outputs": [
    {
     "data": {
      "application/vnd.plotly.v1+json": {
       "config": {
        "plotlyServerURL": "https://plot.ly"
       },
       "data": [
        {
         "hovertemplate": "groups=PreAdipo<br>PCA1=%{x}<br>PCA2=%{y}<br>PCA3=%{z}<extra></extra>",
         "legendgroup": "PreAdipo",
         "marker": {
          "color": "#636efa",
          "symbol": "circle"
         },
         "mode": "markers",
         "name": "PreAdipo",
         "scene": "scene",
         "showlegend": true,
         "type": "scatter3d",
         "x": [
          59744.20487486381,
          -36447.502550047895,
          -15666.397485666932,
          -22423.413306603652,
          -15830.729625471637,
          -17332.667723431252,
          -12955.303774635087,
          -6793.369551946899,
          -38277.916083316675,
          7533.754251075829,
          12136.694134477722,
          -8674.685048862417,
          -13743.50226881735,
          -3823.192789156832,
          -26862.92502996949,
          -20949.275905316288,
          100.46620410435065,
          14153.027864329306,
          -18104.22393792627,
          -19679.39230810629,
          -21930.660054985485,
          -20557.36055326806,
          -19819.94360989578,
          -16877.79615942439,
          -19060.358388341276,
          -27097.13055498964,
          -27237.65589572315,
          -15548.502302760442,
          975.0945234178926,
          2447.336199627728,
          -27137.592455098216,
          -14665.737411881033,
          -4912.153744272386,
          -19399.051820918772,
          5677.7575741487035,
          222.5384663471652,
          -21312.39106460943,
          -17697.628157703464,
          -19136.85428251934,
          -5107.956773698241
         ],
         "y": [
          5181.484207279753,
          11214.469551465358,
          -7873.272341364929,
          -20027.140990296826,
          -13797.002922133828,
          -3597.1800412012144,
          14041.820704478396,
          -16810.345315512448,
          3570.9447011775583,
          9691.26273145373,
          -12752.484044746338,
          -18356.71517429689,
          -6222.812426911226,
          -20290.913315276775,
          -19717.963044769007,
          -16902.647454803133,
          -16815.85084468252,
          -5007.125421409383,
          -262.3659737189909,
          -13609.739742818603,
          -2584.568141256493,
          -16718.396638597857,
          -10361.694943143366,
          -25571.459647816035,
          30299.382955632827,
          13888.191538375497,
          -17274.405760917747,
          -24198.477156504938,
          -19830.051019646777,
          8865.518644955437,
          23345.7194633168,
          19074.58797105157,
          -4432.788581224067,
          -22451.848103364227,
          -2563.792541542701,
          -3215.381289766223,
          -8996.693560014875,
          10553.342367703866,
          -29585.876536315176,
          -16192.532226373114
         ],
         "z": [
          34953.67319385144,
          6564.20738104027,
          3183.1652380380124,
          -15412.563779790195,
          -8727.933106136765,
          2525.941050817493,
          15781.996739875609,
          3527.7035737438982,
          -6783.304498017152,
          26837.308224171356,
          18027.177043347343,
          6641.195236862993,
          14444.900761362498,
          4782.257096399907,
          -7147.891608301502,
          -841.2817067612825,
          16422.979307524318,
          25362.59860300468,
          -4885.658971542845,
          -3265.329395054162,
          11806.558777662618,
          4520.238492128103,
          -5042.802487202232,
          7260.86061016299,
          6163.046222034819,
          -1571.4321487644809,
          -16448.095458911183,
          13797.70773395926,
          11598.75554607713,
          26836.48450036609,
          7694.887240348264,
          15510.193538691237,
          3138.830037040718,
          -3300.2984027782377,
          16169.58272152354,
          19613.785697611616,
          -5086.666842807874,
          12100.413081769226,
          -6968.774935794174,
          1401.4947245658213
         ]
        },
        {
         "hovertemplate": "groups=Adipo<br>PCA1=%{x}<br>PCA2=%{y}<br>PCA3=%{z}<extra></extra>",
         "legendgroup": "Adipo",
         "marker": {
          "color": "#EF553B",
          "symbol": "circle"
         },
         "mode": "markers",
         "name": "Adipo",
         "scene": "scene",
         "showlegend": true,
         "type": "scatter3d",
         "x": [
          19182.98360660253,
          36821.61962364279,
          31058.72120279883,
          -5371.825310895105,
          30748.77447841278,
          28368.44766120414,
          -194.9607004020876,
          18732.17310783869,
          54855.702609182365,
          11348.213163266897,
          -27480.951624719146,
          -20259.821285716247,
          533.848795300791,
          3635.934648705078,
          72278.57264525002,
          45723.35350368412,
          -31910.38677550028,
          43759.44292771795,
          17327.521387951587,
          -23198.111487375798,
          -6584.728976739539,
          4904.440778771481,
          -28571.185287606484,
          -3436.1771606477428,
          15726.245812798386,
          6858.917857018986,
          35228.16427971711,
          13276.792248782454,
          -2399.9325226125256,
          27136.28253557536,
          -6336.925733156135,
          -5853.258820026088,
          18653.507279559533,
          15629.231660801228,
          47002.21644424802,
          39830.374617712005,
          44353.45478829568,
          -2515.0459344983287,
          -23979.413581605673,
          -22809.81593636619
         ],
         "y": [
          22856.862039326617,
          4323.41518300701,
          -4590.180382839335,
          2020.8611721185762,
          -9236.424686545113,
          -7349.032857327773,
          -7870.582508018465,
          7297.532101292783,
          6340.011538556931,
          3537.0853559096076,
          13309.65214656566,
          28378.46019916142,
          -1284.9706611666948,
          22985.806763252443,
          3022.3231518492953,
          4164.86671270617,
          37097.62802378496,
          8979.629245940363,
          -5850.235907982951,
          32896.14461922694,
          5122.016674993695,
          -8300.692287209971,
          17492.863674145177,
          1453.6160263567517,
          2301.5666453594017,
          -7864.483210205933,
          760.7498092900404,
          4570.822508843329,
          7135.6464899731745,
          -10884.204511007641,
          9892.725154914848,
          1047.5955256117254,
          -9750.767561757622,
          -6457.210005998227,
          9746.196903603437,
          16913.11644676907,
          -2109.8281064748217,
          2289.3874474949976,
          32201.099005909084,
          19705.732484106145
         ],
         "z": [
          -5510.235095140416,
          -6010.654238492389,
          4071.2268014039914,
          -5554.025883094105,
          1112.1698730778764,
          15266.097939823409,
          -15288.412637389714,
          -18381.165586669664,
          -9613.841736895034,
          -19590.39366734974,
          -11326.972768074344,
          -88.24917676800247,
          853.3559566395746,
          -11953.530277153173,
          774.2370535000302,
          -3726.0280086650446,
          -4561.825460075419,
          -4340.635521221459,
          1481.4544345196812,
          1880.5637843801196,
          -8555.932897587973,
          3162.162917247001,
          -139.9180175785387,
          -16316.012844921066,
          -28522.280432580206,
          -581.7589528378096,
          -9247.558804884162,
          -7136.199427316064,
          -2899.2123222222353,
          -15069.436207047544,
          -522.1420787543104,
          -2521.319761397516,
          -14678.95126254957,
          -12126.886439471671,
          -1171.5425925098432,
          2542.1992139754384,
          -14291.751795575805,
          -29504.06511464763,
          -2077.7827903846874,
          -1020.6552074314959
         ]
        }
       ],
       "layout": {
        "legend": {
         "title": {
          "text": "groups"
         },
         "tracegroupgap": 0
        },
        "margin": {
         "t": 60
        },
        "scene": {
         "domain": {
          "x": [
           0,
           1
          ],
          "y": [
           0,
           1
          ]
         },
         "xaxis": {
          "title": {
           "text": "PCA1"
          }
         },
         "yaxis": {
          "title": {
           "text": "PCA2"
          }
         },
         "zaxis": {
          "title": {
           "text": "PCA3"
          }
         }
        },
        "template": {
         "data": {
          "bar": [
           {
            "error_x": {
             "color": "#2a3f5f"
            },
            "error_y": {
             "color": "#2a3f5f"
            },
            "marker": {
             "line": {
              "color": "#E5ECF6",
              "width": 0.5
             },
             "pattern": {
              "fillmode": "overlay",
              "size": 10,
              "solidity": 0.2
             }
            },
            "type": "bar"
           }
          ],
          "barpolar": [
           {
            "marker": {
             "line": {
              "color": "#E5ECF6",
              "width": 0.5
             },
             "pattern": {
              "fillmode": "overlay",
              "size": 10,
              "solidity": 0.2
             }
            },
            "type": "barpolar"
           }
          ],
          "carpet": [
           {
            "aaxis": {
             "endlinecolor": "#2a3f5f",
             "gridcolor": "white",
             "linecolor": "white",
             "minorgridcolor": "white",
             "startlinecolor": "#2a3f5f"
            },
            "baxis": {
             "endlinecolor": "#2a3f5f",
             "gridcolor": "white",
             "linecolor": "white",
             "minorgridcolor": "white",
             "startlinecolor": "#2a3f5f"
            },
            "type": "carpet"
           }
          ],
          "choropleth": [
           {
            "colorbar": {
             "outlinewidth": 0,
             "ticks": ""
            },
            "type": "choropleth"
           }
          ],
          "contour": [
           {
            "colorbar": {
             "outlinewidth": 0,
             "ticks": ""
            },
            "colorscale": [
             [
              0,
              "#0d0887"
             ],
             [
              0.1111111111111111,
              "#46039f"
             ],
             [
              0.2222222222222222,
              "#7201a8"
             ],
             [
              0.3333333333333333,
              "#9c179e"
             ],
             [
              0.4444444444444444,
              "#bd3786"
             ],
             [
              0.5555555555555556,
              "#d8576b"
             ],
             [
              0.6666666666666666,
              "#ed7953"
             ],
             [
              0.7777777777777778,
              "#fb9f3a"
             ],
             [
              0.8888888888888888,
              "#fdca26"
             ],
             [
              1,
              "#f0f921"
             ]
            ],
            "type": "contour"
           }
          ],
          "contourcarpet": [
           {
            "colorbar": {
             "outlinewidth": 0,
             "ticks": ""
            },
            "type": "contourcarpet"
           }
          ],
          "heatmap": [
           {
            "colorbar": {
             "outlinewidth": 0,
             "ticks": ""
            },
            "colorscale": [
             [
              0,
              "#0d0887"
             ],
             [
              0.1111111111111111,
              "#46039f"
             ],
             [
              0.2222222222222222,
              "#7201a8"
             ],
             [
              0.3333333333333333,
              "#9c179e"
             ],
             [
              0.4444444444444444,
              "#bd3786"
             ],
             [
              0.5555555555555556,
              "#d8576b"
             ],
             [
              0.6666666666666666,
              "#ed7953"
             ],
             [
              0.7777777777777778,
              "#fb9f3a"
             ],
             [
              0.8888888888888888,
              "#fdca26"
             ],
             [
              1,
              "#f0f921"
             ]
            ],
            "type": "heatmap"
           }
          ],
          "heatmapgl": [
           {
            "colorbar": {
             "outlinewidth": 0,
             "ticks": ""
            },
            "colorscale": [
             [
              0,
              "#0d0887"
             ],
             [
              0.1111111111111111,
              "#46039f"
             ],
             [
              0.2222222222222222,
              "#7201a8"
             ],
             [
              0.3333333333333333,
              "#9c179e"
             ],
             [
              0.4444444444444444,
              "#bd3786"
             ],
             [
              0.5555555555555556,
              "#d8576b"
             ],
             [
              0.6666666666666666,
              "#ed7953"
             ],
             [
              0.7777777777777778,
              "#fb9f3a"
             ],
             [
              0.8888888888888888,
              "#fdca26"
             ],
             [
              1,
              "#f0f921"
             ]
            ],
            "type": "heatmapgl"
           }
          ],
          "histogram": [
           {
            "marker": {
             "pattern": {
              "fillmode": "overlay",
              "size": 10,
              "solidity": 0.2
             }
            },
            "type": "histogram"
           }
          ],
          "histogram2d": [
           {
            "colorbar": {
             "outlinewidth": 0,
             "ticks": ""
            },
            "colorscale": [
             [
              0,
              "#0d0887"
             ],
             [
              0.1111111111111111,
              "#46039f"
             ],
             [
              0.2222222222222222,
              "#7201a8"
             ],
             [
              0.3333333333333333,
              "#9c179e"
             ],
             [
              0.4444444444444444,
              "#bd3786"
             ],
             [
              0.5555555555555556,
              "#d8576b"
             ],
             [
              0.6666666666666666,
              "#ed7953"
             ],
             [
              0.7777777777777778,
              "#fb9f3a"
             ],
             [
              0.8888888888888888,
              "#fdca26"
             ],
             [
              1,
              "#f0f921"
             ]
            ],
            "type": "histogram2d"
           }
          ],
          "histogram2dcontour": [
           {
            "colorbar": {
             "outlinewidth": 0,
             "ticks": ""
            },
            "colorscale": [
             [
              0,
              "#0d0887"
             ],
             [
              0.1111111111111111,
              "#46039f"
             ],
             [
              0.2222222222222222,
              "#7201a8"
             ],
             [
              0.3333333333333333,
              "#9c179e"
             ],
             [
              0.4444444444444444,
              "#bd3786"
             ],
             [
              0.5555555555555556,
              "#d8576b"
             ],
             [
              0.6666666666666666,
              "#ed7953"
             ],
             [
              0.7777777777777778,
              "#fb9f3a"
             ],
             [
              0.8888888888888888,
              "#fdca26"
             ],
             [
              1,
              "#f0f921"
             ]
            ],
            "type": "histogram2dcontour"
           }
          ],
          "mesh3d": [
           {
            "colorbar": {
             "outlinewidth": 0,
             "ticks": ""
            },
            "type": "mesh3d"
           }
          ],
          "parcoords": [
           {
            "line": {
             "colorbar": {
              "outlinewidth": 0,
              "ticks": ""
             }
            },
            "type": "parcoords"
           }
          ],
          "pie": [
           {
            "automargin": true,
            "type": "pie"
           }
          ],
          "scatter": [
           {
            "fillpattern": {
             "fillmode": "overlay",
             "size": 10,
             "solidity": 0.2
            },
            "type": "scatter"
           }
          ],
          "scatter3d": [
           {
            "line": {
             "colorbar": {
              "outlinewidth": 0,
              "ticks": ""
             }
            },
            "marker": {
             "colorbar": {
              "outlinewidth": 0,
              "ticks": ""
             }
            },
            "type": "scatter3d"
           }
          ],
          "scattercarpet": [
           {
            "marker": {
             "colorbar": {
              "outlinewidth": 0,
              "ticks": ""
             }
            },
            "type": "scattercarpet"
           }
          ],
          "scattergeo": [
           {
            "marker": {
             "colorbar": {
              "outlinewidth": 0,
              "ticks": ""
             }
            },
            "type": "scattergeo"
           }
          ],
          "scattergl": [
           {
            "marker": {
             "colorbar": {
              "outlinewidth": 0,
              "ticks": ""
             }
            },
            "type": "scattergl"
           }
          ],
          "scattermapbox": [
           {
            "marker": {
             "colorbar": {
              "outlinewidth": 0,
              "ticks": ""
             }
            },
            "type": "scattermapbox"
           }
          ],
          "scatterpolar": [
           {
            "marker": {
             "colorbar": {
              "outlinewidth": 0,
              "ticks": ""
             }
            },
            "type": "scatterpolar"
           }
          ],
          "scatterpolargl": [
           {
            "marker": {
             "colorbar": {
              "outlinewidth": 0,
              "ticks": ""
             }
            },
            "type": "scatterpolargl"
           }
          ],
          "scatterternary": [
           {
            "marker": {
             "colorbar": {
              "outlinewidth": 0,
              "ticks": ""
             }
            },
            "type": "scatterternary"
           }
          ],
          "surface": [
           {
            "colorbar": {
             "outlinewidth": 0,
             "ticks": ""
            },
            "colorscale": [
             [
              0,
              "#0d0887"
             ],
             [
              0.1111111111111111,
              "#46039f"
             ],
             [
              0.2222222222222222,
              "#7201a8"
             ],
             [
              0.3333333333333333,
              "#9c179e"
             ],
             [
              0.4444444444444444,
              "#bd3786"
             ],
             [
              0.5555555555555556,
              "#d8576b"
             ],
             [
              0.6666666666666666,
              "#ed7953"
             ],
             [
              0.7777777777777778,
              "#fb9f3a"
             ],
             [
              0.8888888888888888,
              "#fdca26"
             ],
             [
              1,
              "#f0f921"
             ]
            ],
            "type": "surface"
           }
          ],
          "table": [
           {
            "cells": {
             "fill": {
              "color": "#EBF0F8"
             },
             "line": {
              "color": "white"
             }
            },
            "header": {
             "fill": {
              "color": "#C8D4E3"
             },
             "line": {
              "color": "white"
             }
            },
            "type": "table"
           }
          ]
         },
         "layout": {
          "annotationdefaults": {
           "arrowcolor": "#2a3f5f",
           "arrowhead": 0,
           "arrowwidth": 1
          },
          "autotypenumbers": "strict",
          "coloraxis": {
           "colorbar": {
            "outlinewidth": 0,
            "ticks": ""
           }
          },
          "colorscale": {
           "diverging": [
            [
             0,
             "#8e0152"
            ],
            [
             0.1,
             "#c51b7d"
            ],
            [
             0.2,
             "#de77ae"
            ],
            [
             0.3,
             "#f1b6da"
            ],
            [
             0.4,
             "#fde0ef"
            ],
            [
             0.5,
             "#f7f7f7"
            ],
            [
             0.6,
             "#e6f5d0"
            ],
            [
             0.7,
             "#b8e186"
            ],
            [
             0.8,
             "#7fbc41"
            ],
            [
             0.9,
             "#4d9221"
            ],
            [
             1,
             "#276419"
            ]
           ],
           "sequential": [
            [
             0,
             "#0d0887"
            ],
            [
             0.1111111111111111,
             "#46039f"
            ],
            [
             0.2222222222222222,
             "#7201a8"
            ],
            [
             0.3333333333333333,
             "#9c179e"
            ],
            [
             0.4444444444444444,
             "#bd3786"
            ],
            [
             0.5555555555555556,
             "#d8576b"
            ],
            [
             0.6666666666666666,
             "#ed7953"
            ],
            [
             0.7777777777777778,
             "#fb9f3a"
            ],
            [
             0.8888888888888888,
             "#fdca26"
            ],
            [
             1,
             "#f0f921"
            ]
           ],
           "sequentialminus": [
            [
             0,
             "#0d0887"
            ],
            [
             0.1111111111111111,
             "#46039f"
            ],
            [
             0.2222222222222222,
             "#7201a8"
            ],
            [
             0.3333333333333333,
             "#9c179e"
            ],
            [
             0.4444444444444444,
             "#bd3786"
            ],
            [
             0.5555555555555556,
             "#d8576b"
            ],
            [
             0.6666666666666666,
             "#ed7953"
            ],
            [
             0.7777777777777778,
             "#fb9f3a"
            ],
            [
             0.8888888888888888,
             "#fdca26"
            ],
            [
             1,
             "#f0f921"
            ]
           ]
          },
          "colorway": [
           "#636efa",
           "#EF553B",
           "#00cc96",
           "#ab63fa",
           "#FFA15A",
           "#19d3f3",
           "#FF6692",
           "#B6E880",
           "#FF97FF",
           "#FECB52"
          ],
          "font": {
           "color": "#2a3f5f"
          },
          "geo": {
           "bgcolor": "white",
           "lakecolor": "white",
           "landcolor": "#E5ECF6",
           "showlakes": true,
           "showland": true,
           "subunitcolor": "white"
          },
          "hoverlabel": {
           "align": "left"
          },
          "hovermode": "closest",
          "mapbox": {
           "style": "light"
          },
          "paper_bgcolor": "white",
          "plot_bgcolor": "#E5ECF6",
          "polar": {
           "angularaxis": {
            "gridcolor": "white",
            "linecolor": "white",
            "ticks": ""
           },
           "bgcolor": "#E5ECF6",
           "radialaxis": {
            "gridcolor": "white",
            "linecolor": "white",
            "ticks": ""
           }
          },
          "scene": {
           "xaxis": {
            "backgroundcolor": "#E5ECF6",
            "gridcolor": "white",
            "gridwidth": 2,
            "linecolor": "white",
            "showbackground": true,
            "ticks": "",
            "zerolinecolor": "white"
           },
           "yaxis": {
            "backgroundcolor": "#E5ECF6",
            "gridcolor": "white",
            "gridwidth": 2,
            "linecolor": "white",
            "showbackground": true,
            "ticks": "",
            "zerolinecolor": "white"
           },
           "zaxis": {
            "backgroundcolor": "#E5ECF6",
            "gridcolor": "white",
            "gridwidth": 2,
            "linecolor": "white",
            "showbackground": true,
            "ticks": "",
            "zerolinecolor": "white"
           }
          },
          "shapedefaults": {
           "line": {
            "color": "#2a3f5f"
           }
          },
          "ternary": {
           "aaxis": {
            "gridcolor": "white",
            "linecolor": "white",
            "ticks": ""
           },
           "baxis": {
            "gridcolor": "white",
            "linecolor": "white",
            "ticks": ""
           },
           "bgcolor": "#E5ECF6",
           "caxis": {
            "gridcolor": "white",
            "linecolor": "white",
            "ticks": ""
           }
          },
          "title": {
           "x": 0.05
          },
          "xaxis": {
           "automargin": true,
           "gridcolor": "white",
           "linecolor": "white",
           "ticks": "",
           "title": {
            "standoff": 15
           },
           "zerolinecolor": "white",
           "zerolinewidth": 2
          },
          "yaxis": {
           "automargin": true,
           "gridcolor": "white",
           "linecolor": "white",
           "ticks": "",
           "title": {
            "standoff": 15
           },
           "zerolinecolor": "white",
           "zerolinewidth": 2
          }
         }
        }
       }
      }
     },
     "metadata": {},
     "output_type": "display_data"
    }
   ],
   "source": [
    "X = transcriptomics.T.to_numpy(dtype=float)\n",
    "pca = PCA(n_components=3)\n",
    "pca_output = pca.fit_transform(X)\n",
    "pca_output_df = pd.DataFrame(pca_output, columns=['PCA1', 'PCA2', 'PCA3'])\n",
    "pca_output_df[\"groups\"] = dict_sample.values()\n",
    "\n",
    "\n",
    "fig = px.scatter_3d(pca_output_df, x='PCA1', y='PCA2', z='PCA3', color=\"groups\")\n",
    "fig.show()"
   ]
  },
  {
   "cell_type": "markdown",
   "metadata": {},
   "source": [
    "g)"
   ]
  },
  {
   "cell_type": "code",
   "execution_count": 119,
   "metadata": {},
   "outputs": [
    {
     "data": {
      "text/html": [
       "<div>\n",
       "<style scoped>\n",
       "    .dataframe tbody tr th:only-of-type {\n",
       "        vertical-align: middle;\n",
       "    }\n",
       "\n",
       "    .dataframe tbody tr th {\n",
       "        vertical-align: top;\n",
       "    }\n",
       "\n",
       "    .dataframe thead th {\n",
       "        text-align: right;\n",
       "    }\n",
       "</style>\n",
       "<table border=\"1\" class=\"dataframe\">\n",
       "  <thead>\n",
       "    <tr style=\"text-align: right;\">\n",
       "      <th></th>\n",
       "      <th>Sample_1_preadi</th>\n",
       "      <th>Sample_2_preadi</th>\n",
       "      <th>Sample_3_preadi</th>\n",
       "      <th>Sample_4_preadi</th>\n",
       "      <th>Sample_5_preadi</th>\n",
       "      <th>Sample_6_preadi</th>\n",
       "      <th>Sample_7_preadi</th>\n",
       "      <th>Sample_8_preadi</th>\n",
       "      <th>Sample_9_preadi</th>\n",
       "      <th>Sample_10_preadi</th>\n",
       "      <th>...</th>\n",
       "      <th>Sample_71_adipo</th>\n",
       "      <th>Sample_72_adipo</th>\n",
       "      <th>Sample_73_adipo</th>\n",
       "      <th>Sample_74_adipo</th>\n",
       "      <th>Sample_75_adipo</th>\n",
       "      <th>Sample_76_adipo</th>\n",
       "      <th>Sample_77_adipo</th>\n",
       "      <th>Sample_78_adipo</th>\n",
       "      <th>Sample_79_adipo</th>\n",
       "      <th>Sample_80_adipo</th>\n",
       "    </tr>\n",
       "    <tr>\n",
       "      <th>Gene_ID</th>\n",
       "      <th></th>\n",
       "      <th></th>\n",
       "      <th></th>\n",
       "      <th></th>\n",
       "      <th></th>\n",
       "      <th></th>\n",
       "      <th></th>\n",
       "      <th></th>\n",
       "      <th></th>\n",
       "      <th></th>\n",
       "      <th></th>\n",
       "      <th></th>\n",
       "      <th></th>\n",
       "      <th></th>\n",
       "      <th></th>\n",
       "      <th></th>\n",
       "      <th></th>\n",
       "      <th></th>\n",
       "      <th></th>\n",
       "      <th></th>\n",
       "      <th></th>\n",
       "    </tr>\n",
       "  </thead>\n",
       "  <tbody>\n",
       "    <tr>\n",
       "      <th>ENSG00000000003</th>\n",
       "      <td>4.247928</td>\n",
       "      <td>3.700440</td>\n",
       "      <td>3.321928</td>\n",
       "      <td>4.392317</td>\n",
       "      <td>3.321928</td>\n",
       "      <td>3.807355</td>\n",
       "      <td>4.392317</td>\n",
       "      <td>3.169925</td>\n",
       "      <td>2.321928</td>\n",
       "      <td>3.0</td>\n",
       "      <td>...</td>\n",
       "      <td>3.321928</td>\n",
       "      <td>3.321928</td>\n",
       "      <td>4.954196</td>\n",
       "      <td>3.321928</td>\n",
       "      <td>4.584963</td>\n",
       "      <td>4.087463</td>\n",
       "      <td>2.000000</td>\n",
       "      <td>3.906891</td>\n",
       "      <td>3.584963</td>\n",
       "      <td>4.087463</td>\n",
       "    </tr>\n",
       "    <tr>\n",
       "      <th>ENSG00000000005</th>\n",
       "      <td>0.000000</td>\n",
       "      <td>0.000000</td>\n",
       "      <td>0.000000</td>\n",
       "      <td>1.584963</td>\n",
       "      <td>0.000000</td>\n",
       "      <td>0.000000</td>\n",
       "      <td>0.000000</td>\n",
       "      <td>0.000000</td>\n",
       "      <td>0.000000</td>\n",
       "      <td>0.0</td>\n",
       "      <td>...</td>\n",
       "      <td>0.000000</td>\n",
       "      <td>1.000000</td>\n",
       "      <td>4.906891</td>\n",
       "      <td>1.584963</td>\n",
       "      <td>4.523562</td>\n",
       "      <td>2.000000</td>\n",
       "      <td>0.000000</td>\n",
       "      <td>1.584963</td>\n",
       "      <td>0.000000</td>\n",
       "      <td>2.584963</td>\n",
       "    </tr>\n",
       "    <tr>\n",
       "      <th>ENSG00000000419</th>\n",
       "      <td>3.459432</td>\n",
       "      <td>3.321928</td>\n",
       "      <td>3.321928</td>\n",
       "      <td>3.169925</td>\n",
       "      <td>3.459432</td>\n",
       "      <td>3.459432</td>\n",
       "      <td>2.807355</td>\n",
       "      <td>5.169925</td>\n",
       "      <td>3.807355</td>\n",
       "      <td>4.0</td>\n",
       "      <td>...</td>\n",
       "      <td>2.000000</td>\n",
       "      <td>3.321928</td>\n",
       "      <td>3.321928</td>\n",
       "      <td>4.000000</td>\n",
       "      <td>3.169925</td>\n",
       "      <td>3.321928</td>\n",
       "      <td>3.321928</td>\n",
       "      <td>2.321928</td>\n",
       "      <td>4.087463</td>\n",
       "      <td>2.584963</td>\n",
       "    </tr>\n",
       "    <tr>\n",
       "      <th>ENSG00000000457</th>\n",
       "      <td>0.000000</td>\n",
       "      <td>3.584963</td>\n",
       "      <td>0.000000</td>\n",
       "      <td>2.807355</td>\n",
       "      <td>1.584963</td>\n",
       "      <td>3.700440</td>\n",
       "      <td>3.584963</td>\n",
       "      <td>1.000000</td>\n",
       "      <td>1.584963</td>\n",
       "      <td>0.0</td>\n",
       "      <td>...</td>\n",
       "      <td>3.321928</td>\n",
       "      <td>3.169925</td>\n",
       "      <td>3.169925</td>\n",
       "      <td>2.584963</td>\n",
       "      <td>2.807355</td>\n",
       "      <td>0.000000</td>\n",
       "      <td>3.700440</td>\n",
       "      <td>3.807355</td>\n",
       "      <td>2.321928</td>\n",
       "      <td>3.584963</td>\n",
       "    </tr>\n",
       "    <tr>\n",
       "      <th>ENSG00000000460</th>\n",
       "      <td>0.000000</td>\n",
       "      <td>0.000000</td>\n",
       "      <td>3.906891</td>\n",
       "      <td>2.321928</td>\n",
       "      <td>2.584963</td>\n",
       "      <td>0.000000</td>\n",
       "      <td>0.000000</td>\n",
       "      <td>2.807355</td>\n",
       "      <td>2.321928</td>\n",
       "      <td>0.0</td>\n",
       "      <td>...</td>\n",
       "      <td>0.000000</td>\n",
       "      <td>0.000000</td>\n",
       "      <td>2.000000</td>\n",
       "      <td>0.000000</td>\n",
       "      <td>1.000000</td>\n",
       "      <td>0.000000</td>\n",
       "      <td>1.000000</td>\n",
       "      <td>2.321928</td>\n",
       "      <td>0.000000</td>\n",
       "      <td>3.459432</td>\n",
       "    </tr>\n",
       "    <tr>\n",
       "      <th>...</th>\n",
       "      <td>...</td>\n",
       "      <td>...</td>\n",
       "      <td>...</td>\n",
       "      <td>...</td>\n",
       "      <td>...</td>\n",
       "      <td>...</td>\n",
       "      <td>...</td>\n",
       "      <td>...</td>\n",
       "      <td>...</td>\n",
       "      <td>...</td>\n",
       "      <td>...</td>\n",
       "      <td>...</td>\n",
       "      <td>...</td>\n",
       "      <td>...</td>\n",
       "      <td>...</td>\n",
       "      <td>...</td>\n",
       "      <td>...</td>\n",
       "      <td>...</td>\n",
       "      <td>...</td>\n",
       "      <td>...</td>\n",
       "      <td>...</td>\n",
       "    </tr>\n",
       "    <tr>\n",
       "      <th>ENSG00000273485</th>\n",
       "      <td>0.000000</td>\n",
       "      <td>0.000000</td>\n",
       "      <td>0.000000</td>\n",
       "      <td>1.000000</td>\n",
       "      <td>0.000000</td>\n",
       "      <td>2.584963</td>\n",
       "      <td>0.000000</td>\n",
       "      <td>0.000000</td>\n",
       "      <td>0.000000</td>\n",
       "      <td>0.0</td>\n",
       "      <td>...</td>\n",
       "      <td>0.000000</td>\n",
       "      <td>0.000000</td>\n",
       "      <td>0.000000</td>\n",
       "      <td>0.000000</td>\n",
       "      <td>0.000000</td>\n",
       "      <td>3.700440</td>\n",
       "      <td>0.000000</td>\n",
       "      <td>0.000000</td>\n",
       "      <td>0.000000</td>\n",
       "      <td>0.000000</td>\n",
       "    </tr>\n",
       "    <tr>\n",
       "      <th>ENSG00000273486</th>\n",
       "      <td>0.000000</td>\n",
       "      <td>0.000000</td>\n",
       "      <td>0.000000</td>\n",
       "      <td>0.000000</td>\n",
       "      <td>1.000000</td>\n",
       "      <td>0.000000</td>\n",
       "      <td>0.000000</td>\n",
       "      <td>0.000000</td>\n",
       "      <td>0.000000</td>\n",
       "      <td>0.0</td>\n",
       "      <td>...</td>\n",
       "      <td>0.000000</td>\n",
       "      <td>1.584963</td>\n",
       "      <td>0.000000</td>\n",
       "      <td>2.000000</td>\n",
       "      <td>0.000000</td>\n",
       "      <td>1.584963</td>\n",
       "      <td>2.584963</td>\n",
       "      <td>1.000000</td>\n",
       "      <td>0.000000</td>\n",
       "      <td>0.000000</td>\n",
       "    </tr>\n",
       "    <tr>\n",
       "      <th>ENSG00000273487</th>\n",
       "      <td>0.000000</td>\n",
       "      <td>0.000000</td>\n",
       "      <td>0.000000</td>\n",
       "      <td>0.000000</td>\n",
       "      <td>0.000000</td>\n",
       "      <td>0.000000</td>\n",
       "      <td>0.000000</td>\n",
       "      <td>0.000000</td>\n",
       "      <td>0.000000</td>\n",
       "      <td>0.0</td>\n",
       "      <td>...</td>\n",
       "      <td>0.000000</td>\n",
       "      <td>0.000000</td>\n",
       "      <td>0.000000</td>\n",
       "      <td>0.000000</td>\n",
       "      <td>0.000000</td>\n",
       "      <td>0.000000</td>\n",
       "      <td>0.000000</td>\n",
       "      <td>0.000000</td>\n",
       "      <td>0.000000</td>\n",
       "      <td>0.000000</td>\n",
       "    </tr>\n",
       "    <tr>\n",
       "      <th>ENSG00000273489</th>\n",
       "      <td>0.000000</td>\n",
       "      <td>0.000000</td>\n",
       "      <td>0.000000</td>\n",
       "      <td>1.584963</td>\n",
       "      <td>0.000000</td>\n",
       "      <td>1.000000</td>\n",
       "      <td>3.169925</td>\n",
       "      <td>0.000000</td>\n",
       "      <td>0.000000</td>\n",
       "      <td>0.0</td>\n",
       "      <td>...</td>\n",
       "      <td>0.000000</td>\n",
       "      <td>0.000000</td>\n",
       "      <td>0.000000</td>\n",
       "      <td>0.000000</td>\n",
       "      <td>0.000000</td>\n",
       "      <td>0.000000</td>\n",
       "      <td>0.000000</td>\n",
       "      <td>0.000000</td>\n",
       "      <td>0.000000</td>\n",
       "      <td>0.000000</td>\n",
       "    </tr>\n",
       "    <tr>\n",
       "      <th>ENSG00000273493</th>\n",
       "      <td>0.000000</td>\n",
       "      <td>0.000000</td>\n",
       "      <td>0.000000</td>\n",
       "      <td>0.000000</td>\n",
       "      <td>0.000000</td>\n",
       "      <td>0.000000</td>\n",
       "      <td>0.000000</td>\n",
       "      <td>0.000000</td>\n",
       "      <td>1.000000</td>\n",
       "      <td>0.0</td>\n",
       "      <td>...</td>\n",
       "      <td>0.000000</td>\n",
       "      <td>0.000000</td>\n",
       "      <td>0.000000</td>\n",
       "      <td>0.000000</td>\n",
       "      <td>0.000000</td>\n",
       "      <td>0.000000</td>\n",
       "      <td>0.000000</td>\n",
       "      <td>0.000000</td>\n",
       "      <td>2.000000</td>\n",
       "      <td>0.000000</td>\n",
       "    </tr>\n",
       "  </tbody>\n",
       "</table>\n",
       "<p>30238 rows × 80 columns</p>\n",
       "</div>"
      ],
      "text/plain": [
       "                 Sample_1_preadi  Sample_2_preadi  Sample_3_preadi  \\\n",
       "Gene_ID                                                              \n",
       "ENSG00000000003         4.247928         3.700440         3.321928   \n",
       "ENSG00000000005         0.000000         0.000000         0.000000   \n",
       "ENSG00000000419         3.459432         3.321928         3.321928   \n",
       "ENSG00000000457         0.000000         3.584963         0.000000   \n",
       "ENSG00000000460         0.000000         0.000000         3.906891   \n",
       "...                          ...              ...              ...   \n",
       "ENSG00000273485         0.000000         0.000000         0.000000   \n",
       "ENSG00000273486         0.000000         0.000000         0.000000   \n",
       "ENSG00000273487         0.000000         0.000000         0.000000   \n",
       "ENSG00000273489         0.000000         0.000000         0.000000   \n",
       "ENSG00000273493         0.000000         0.000000         0.000000   \n",
       "\n",
       "                 Sample_4_preadi  Sample_5_preadi  Sample_6_preadi  \\\n",
       "Gene_ID                                                              \n",
       "ENSG00000000003         4.392317         3.321928         3.807355   \n",
       "ENSG00000000005         1.584963         0.000000         0.000000   \n",
       "ENSG00000000419         3.169925         3.459432         3.459432   \n",
       "ENSG00000000457         2.807355         1.584963         3.700440   \n",
       "ENSG00000000460         2.321928         2.584963         0.000000   \n",
       "...                          ...              ...              ...   \n",
       "ENSG00000273485         1.000000         0.000000         2.584963   \n",
       "ENSG00000273486         0.000000         1.000000         0.000000   \n",
       "ENSG00000273487         0.000000         0.000000         0.000000   \n",
       "ENSG00000273489         1.584963         0.000000         1.000000   \n",
       "ENSG00000273493         0.000000         0.000000         0.000000   \n",
       "\n",
       "                 Sample_7_preadi  Sample_8_preadi  Sample_9_preadi  \\\n",
       "Gene_ID                                                              \n",
       "ENSG00000000003         4.392317         3.169925         2.321928   \n",
       "ENSG00000000005         0.000000         0.000000         0.000000   \n",
       "ENSG00000000419         2.807355         5.169925         3.807355   \n",
       "ENSG00000000457         3.584963         1.000000         1.584963   \n",
       "ENSG00000000460         0.000000         2.807355         2.321928   \n",
       "...                          ...              ...              ...   \n",
       "ENSG00000273485         0.000000         0.000000         0.000000   \n",
       "ENSG00000273486         0.000000         0.000000         0.000000   \n",
       "ENSG00000273487         0.000000         0.000000         0.000000   \n",
       "ENSG00000273489         3.169925         0.000000         0.000000   \n",
       "ENSG00000273493         0.000000         0.000000         1.000000   \n",
       "\n",
       "                 Sample_10_preadi  ...  Sample_71_adipo  Sample_72_adipo  \\\n",
       "Gene_ID                            ...                                     \n",
       "ENSG00000000003               3.0  ...         3.321928         3.321928   \n",
       "ENSG00000000005               0.0  ...         0.000000         1.000000   \n",
       "ENSG00000000419               4.0  ...         2.000000         3.321928   \n",
       "ENSG00000000457               0.0  ...         3.321928         3.169925   \n",
       "ENSG00000000460               0.0  ...         0.000000         0.000000   \n",
       "...                           ...  ...              ...              ...   \n",
       "ENSG00000273485               0.0  ...         0.000000         0.000000   \n",
       "ENSG00000273486               0.0  ...         0.000000         1.584963   \n",
       "ENSG00000273487               0.0  ...         0.000000         0.000000   \n",
       "ENSG00000273489               0.0  ...         0.000000         0.000000   \n",
       "ENSG00000273493               0.0  ...         0.000000         0.000000   \n",
       "\n",
       "                 Sample_73_adipo  Sample_74_adipo  Sample_75_adipo  \\\n",
       "Gene_ID                                                              \n",
       "ENSG00000000003         4.954196         3.321928         4.584963   \n",
       "ENSG00000000005         4.906891         1.584963         4.523562   \n",
       "ENSG00000000419         3.321928         4.000000         3.169925   \n",
       "ENSG00000000457         3.169925         2.584963         2.807355   \n",
       "ENSG00000000460         2.000000         0.000000         1.000000   \n",
       "...                          ...              ...              ...   \n",
       "ENSG00000273485         0.000000         0.000000         0.000000   \n",
       "ENSG00000273486         0.000000         2.000000         0.000000   \n",
       "ENSG00000273487         0.000000         0.000000         0.000000   \n",
       "ENSG00000273489         0.000000         0.000000         0.000000   \n",
       "ENSG00000273493         0.000000         0.000000         0.000000   \n",
       "\n",
       "                 Sample_76_adipo  Sample_77_adipo  Sample_78_adipo  \\\n",
       "Gene_ID                                                              \n",
       "ENSG00000000003         4.087463         2.000000         3.906891   \n",
       "ENSG00000000005         2.000000         0.000000         1.584963   \n",
       "ENSG00000000419         3.321928         3.321928         2.321928   \n",
       "ENSG00000000457         0.000000         3.700440         3.807355   \n",
       "ENSG00000000460         0.000000         1.000000         2.321928   \n",
       "...                          ...              ...              ...   \n",
       "ENSG00000273485         3.700440         0.000000         0.000000   \n",
       "ENSG00000273486         1.584963         2.584963         1.000000   \n",
       "ENSG00000273487         0.000000         0.000000         0.000000   \n",
       "ENSG00000273489         0.000000         0.000000         0.000000   \n",
       "ENSG00000273493         0.000000         0.000000         0.000000   \n",
       "\n",
       "                 Sample_79_adipo  Sample_80_adipo  \n",
       "Gene_ID                                            \n",
       "ENSG00000000003         3.584963         4.087463  \n",
       "ENSG00000000005         0.000000         2.584963  \n",
       "ENSG00000000419         4.087463         2.584963  \n",
       "ENSG00000000457         2.321928         3.584963  \n",
       "ENSG00000000460         0.000000         3.459432  \n",
       "...                          ...              ...  \n",
       "ENSG00000273485         0.000000         0.000000  \n",
       "ENSG00000273486         0.000000         0.000000  \n",
       "ENSG00000273487         0.000000         0.000000  \n",
       "ENSG00000273489         0.000000         0.000000  \n",
       "ENSG00000273493         2.000000         0.000000  \n",
       "\n",
       "[30238 rows x 80 columns]"
      ]
     },
     "execution_count": 119,
     "metadata": {},
     "output_type": "execute_result"
    }
   ],
   "source": [
    "transcriptomics_transf = np.log2(1+transcriptomics)\n",
    "transcriptomics_transf"
   ]
  },
  {
   "cell_type": "markdown",
   "metadata": {},
   "source": [
    "h)"
   ]
  },
  {
   "cell_type": "code",
   "execution_count": 120,
   "metadata": {},
   "outputs": [
    {
     "data": {
      "application/vnd.plotly.v1+json": {
       "config": {
        "plotlyServerURL": "https://plot.ly"
       },
       "data": [
        {
         "hovertemplate": "groups=PreAdipo<br>PCA1=%{x}<br>PCA2=%{y}<br>PCA3=%{z}<extra></extra>",
         "legendgroup": "PreAdipo",
         "marker": {
          "color": "#636efa",
          "symbol": "circle"
         },
         "mode": "markers",
         "name": "PreAdipo",
         "scene": "scene",
         "showlegend": true,
         "type": "scatter3d",
         "x": [
          -42.82632580843386,
          -46.518797808205456,
          -63.70713256078549,
          -57.72623232168319,
          -49.39736885197478,
          -46.01465984765764,
          -37.494046921477945,
          -62.76879505912511,
          -55.11508343763164,
          -33.80119293692306,
          -37.038941438867724,
          -52.19877650895567,
          -37.748361121358634,
          -52.2896407871112,
          -68.83595652517094,
          -57.38818049188233,
          -45.85388352673792,
          -32.64755708924878,
          -53.59603201941478,
          -62.96668771119447,
          -44.64131546489862,
          -55.13605194141952,
          -63.996437764490516,
          -48.4087376114026,
          -47.621285268402225,
          -54.905111206624106,
          -66.12819996562392,
          -34.1451286361245,
          -54.240593242470794,
          -31.13633047104548,
          -36.38603656110625,
          -25.499082657964266,
          -41.46574480701767,
          -68.4998981486726,
          -37.13315499176151,
          -37.02863667412443,
          -46.10936758148852,
          -47.04360960106042,
          -55.690124648649174,
          -54.32664473907193
         ],
         "y": [
          58.87033229212383,
          -5.596104440845596,
          -33.929056347393235,
          -67.49079217124078,
          -52.324113939250935,
          -19.14941092438519,
          41.62247087734341,
          -0.2627625229130362,
          -41.72390663562198,
          77.79851655010262,
          29.101741914066917,
          -5.370317043980519,
          61.54397502949687,
          -14.660496182919495,
          -33.794312181600326,
          -25.11692591103579,
          56.6498526063751,
          84.38591005843769,
          -39.66929188382914,
          -27.329868924912887,
          52.03842611902554,
          -2.4184276183381876,
          -49.87720098139325,
          45.890466795477025,
          -13.523286257203155,
          -38.96738451760191,
          -73.26158665044787,
          58.600278586961956,
          39.974784546214806,
          60.9324677098018,
          10.440024136147784,
          12.139331385118568,
          -22.198353301088872,
          -4.349645114170647,
          45.795922792548275,
          49.04309985310722,
          -39.63512770963178,
          14.075717298554583,
          -32.24982712272675,
          9.157295748892535
         ],
         "z": [
          7.3517265433949905,
          -14.510107787792453,
          37.01226615532881,
          -11.246116119796898,
          9.424343624925,
          2.231274682819127,
          -23.685806012329106,
          32.627271996600605,
          4.931702760085144,
          -12.863037199495517,
          23.50337023130307,
          41.539287924114,
          -15.200802166119642,
          29.252699281888997,
          29.612154592366924,
          20.014259653112138,
          -6.535104453310646,
          -2.8546451829455237,
          -15.529359015907787,
          17.516083291305094,
          -1.126053794159242,
          26.36630814260834,
          21.12125986640665,
          -4.8214115290446795,
          -45.63188357563079,
          -21.83766733481018,
          14.946579413868731,
          -12.86989643021382,
          16.297310258317314,
          -1.8298283454396005,
          -22.839511360294196,
          -12.110456122357505,
          -18.501283269239348,
          28.994395018183837,
          -39.04608019030182,
          -0.9961525394124235,
          1.6662158316508116,
          -15.26932453548061,
          16.754019732788674,
          -32.950297969483636
         ]
        },
        {
         "hovertemplate": "groups=Adipo<br>PCA1=%{x}<br>PCA2=%{y}<br>PCA3=%{z}<extra></extra>",
         "legendgroup": "Adipo",
         "marker": {
          "color": "#EF553B",
          "symbol": "circle"
         },
         "mode": "markers",
         "name": "Adipo",
         "scene": "scene",
         "showlegend": true,
         "type": "scatter3d",
         "x": [
          57.58690708843671,
          62.47048095916262,
          51.33460655353497,
          46.822142926733946,
          46.82907851257297,
          34.37244864923533,
          51.969767669036926,
          61.29253644221974,
          67.56028584750716,
          61.59980412425786,
          29.624576281692825,
          42.864637508231645,
          38.32360115797901,
          59.14111760849792,
          66.00224593095102,
          63.52249908982398,
          25.16629680736442,
          68.21546357494366,
          50.72300978540061,
          32.39142148046463,
          34.094442412283506,
          26.87845195959664,
          20.40498774191051,
          38.8330668714092,
          67.61201958688936,
          29.71288385595924,
          69.90146023827288,
          48.38850657821157,
          35.71093218571773,
          62.47054733834851,
          31.918642856254877,
          35.72131294117241,
          64.15561917331286,
          55.22500074326944,
          64.1379378238334,
          53.78276963361202,
          69.0083520378672,
          61.58371764695429,
          30.881711124493737,
          27.239854009842986
         ],
         "y": [
          -24.498744781018654,
          4.259321279765363,
          48.60884158763742,
          36.81951561001219,
          34.23177727908249,
          48.289825544561445,
          -22.456998852212507,
          -29.185157266758313,
          -32.64612930725932,
          -29.959212555942617,
          -44.711004035091285,
          5.0632884552930415,
          33.64986150320075,
          -11.809974728331627,
          53.77726264330812,
          -4.613011405407845,
          -42.198166951285714,
          22.95011015701412,
          22.07034566063511,
          -15.96093080767011,
          -32.10215592424238,
          17.092945921053694,
          -6.046758393955634,
          -50.773094191137076,
          -52.20690386781364,
          -5.109195018468145,
          29.41481471716482,
          -21.229704954909348,
          -19.246639998961385,
          17.921969683856638,
          -6.815590612731704,
          -11.36998850196162,
          34.65812740389126,
          -17.459264997493335,
          15.369833935304078,
          -3.4325352939871996,
          1.0246790504591168,
          -54.18666757727231,
          -23.491754442521437,
          -28.855351883066888
         ],
         "z": [
          -10.679666894307248,
          50.038257377299054,
          57.572506033410406,
          -31.615847600333723,
          -0.6944937845280802,
          2.283421756898824,
          9.457362642606949,
          11.539757963899504,
          28.022581421264366,
          -6.53542682137405,
          -4.817534687403719,
          -17.966104325750372,
          -31.314240584514966,
          6.600932243809132,
          60.352035098936874,
          28.13990957155285,
          -58.062468567219355,
          -6.846915702980071,
          -9.2632554796941,
          -13.904063573040228,
          -22.46030460710606,
          -31.355678141869816,
          -28.069970588903306,
          -10.257244907911273,
          -9.849221874311334,
          -21.400716724685385,
          10.229744120093596,
          0.5121019972441498,
          10.633200740568709,
          17.85434202130357,
          6.706870335574295,
          -6.598635232345552,
          21.117509776137442,
          10.190344267751884,
          20.400435906514222,
          -58.77808048613085,
          43.88062563413065,
          4.279476806156632,
          -43.37421385355075,
          -24.875035344693057
         ]
        }
       ],
       "layout": {
        "legend": {
         "title": {
          "text": "groups"
         },
         "tracegroupgap": 0
        },
        "margin": {
         "t": 60
        },
        "scene": {
         "domain": {
          "x": [
           0,
           1
          ],
          "y": [
           0,
           1
          ]
         },
         "xaxis": {
          "title": {
           "text": "PCA1"
          }
         },
         "yaxis": {
          "title": {
           "text": "PCA2"
          }
         },
         "zaxis": {
          "title": {
           "text": "PCA3"
          }
         }
        },
        "template": {
         "data": {
          "bar": [
           {
            "error_x": {
             "color": "#2a3f5f"
            },
            "error_y": {
             "color": "#2a3f5f"
            },
            "marker": {
             "line": {
              "color": "#E5ECF6",
              "width": 0.5
             },
             "pattern": {
              "fillmode": "overlay",
              "size": 10,
              "solidity": 0.2
             }
            },
            "type": "bar"
           }
          ],
          "barpolar": [
           {
            "marker": {
             "line": {
              "color": "#E5ECF6",
              "width": 0.5
             },
             "pattern": {
              "fillmode": "overlay",
              "size": 10,
              "solidity": 0.2
             }
            },
            "type": "barpolar"
           }
          ],
          "carpet": [
           {
            "aaxis": {
             "endlinecolor": "#2a3f5f",
             "gridcolor": "white",
             "linecolor": "white",
             "minorgridcolor": "white",
             "startlinecolor": "#2a3f5f"
            },
            "baxis": {
             "endlinecolor": "#2a3f5f",
             "gridcolor": "white",
             "linecolor": "white",
             "minorgridcolor": "white",
             "startlinecolor": "#2a3f5f"
            },
            "type": "carpet"
           }
          ],
          "choropleth": [
           {
            "colorbar": {
             "outlinewidth": 0,
             "ticks": ""
            },
            "type": "choropleth"
           }
          ],
          "contour": [
           {
            "colorbar": {
             "outlinewidth": 0,
             "ticks": ""
            },
            "colorscale": [
             [
              0,
              "#0d0887"
             ],
             [
              0.1111111111111111,
              "#46039f"
             ],
             [
              0.2222222222222222,
              "#7201a8"
             ],
             [
              0.3333333333333333,
              "#9c179e"
             ],
             [
              0.4444444444444444,
              "#bd3786"
             ],
             [
              0.5555555555555556,
              "#d8576b"
             ],
             [
              0.6666666666666666,
              "#ed7953"
             ],
             [
              0.7777777777777778,
              "#fb9f3a"
             ],
             [
              0.8888888888888888,
              "#fdca26"
             ],
             [
              1,
              "#f0f921"
             ]
            ],
            "type": "contour"
           }
          ],
          "contourcarpet": [
           {
            "colorbar": {
             "outlinewidth": 0,
             "ticks": ""
            },
            "type": "contourcarpet"
           }
          ],
          "heatmap": [
           {
            "colorbar": {
             "outlinewidth": 0,
             "ticks": ""
            },
            "colorscale": [
             [
              0,
              "#0d0887"
             ],
             [
              0.1111111111111111,
              "#46039f"
             ],
             [
              0.2222222222222222,
              "#7201a8"
             ],
             [
              0.3333333333333333,
              "#9c179e"
             ],
             [
              0.4444444444444444,
              "#bd3786"
             ],
             [
              0.5555555555555556,
              "#d8576b"
             ],
             [
              0.6666666666666666,
              "#ed7953"
             ],
             [
              0.7777777777777778,
              "#fb9f3a"
             ],
             [
              0.8888888888888888,
              "#fdca26"
             ],
             [
              1,
              "#f0f921"
             ]
            ],
            "type": "heatmap"
           }
          ],
          "heatmapgl": [
           {
            "colorbar": {
             "outlinewidth": 0,
             "ticks": ""
            },
            "colorscale": [
             [
              0,
              "#0d0887"
             ],
             [
              0.1111111111111111,
              "#46039f"
             ],
             [
              0.2222222222222222,
              "#7201a8"
             ],
             [
              0.3333333333333333,
              "#9c179e"
             ],
             [
              0.4444444444444444,
              "#bd3786"
             ],
             [
              0.5555555555555556,
              "#d8576b"
             ],
             [
              0.6666666666666666,
              "#ed7953"
             ],
             [
              0.7777777777777778,
              "#fb9f3a"
             ],
             [
              0.8888888888888888,
              "#fdca26"
             ],
             [
              1,
              "#f0f921"
             ]
            ],
            "type": "heatmapgl"
           }
          ],
          "histogram": [
           {
            "marker": {
             "pattern": {
              "fillmode": "overlay",
              "size": 10,
              "solidity": 0.2
             }
            },
            "type": "histogram"
           }
          ],
          "histogram2d": [
           {
            "colorbar": {
             "outlinewidth": 0,
             "ticks": ""
            },
            "colorscale": [
             [
              0,
              "#0d0887"
             ],
             [
              0.1111111111111111,
              "#46039f"
             ],
             [
              0.2222222222222222,
              "#7201a8"
             ],
             [
              0.3333333333333333,
              "#9c179e"
             ],
             [
              0.4444444444444444,
              "#bd3786"
             ],
             [
              0.5555555555555556,
              "#d8576b"
             ],
             [
              0.6666666666666666,
              "#ed7953"
             ],
             [
              0.7777777777777778,
              "#fb9f3a"
             ],
             [
              0.8888888888888888,
              "#fdca26"
             ],
             [
              1,
              "#f0f921"
             ]
            ],
            "type": "histogram2d"
           }
          ],
          "histogram2dcontour": [
           {
            "colorbar": {
             "outlinewidth": 0,
             "ticks": ""
            },
            "colorscale": [
             [
              0,
              "#0d0887"
             ],
             [
              0.1111111111111111,
              "#46039f"
             ],
             [
              0.2222222222222222,
              "#7201a8"
             ],
             [
              0.3333333333333333,
              "#9c179e"
             ],
             [
              0.4444444444444444,
              "#bd3786"
             ],
             [
              0.5555555555555556,
              "#d8576b"
             ],
             [
              0.6666666666666666,
              "#ed7953"
             ],
             [
              0.7777777777777778,
              "#fb9f3a"
             ],
             [
              0.8888888888888888,
              "#fdca26"
             ],
             [
              1,
              "#f0f921"
             ]
            ],
            "type": "histogram2dcontour"
           }
          ],
          "mesh3d": [
           {
            "colorbar": {
             "outlinewidth": 0,
             "ticks": ""
            },
            "type": "mesh3d"
           }
          ],
          "parcoords": [
           {
            "line": {
             "colorbar": {
              "outlinewidth": 0,
              "ticks": ""
             }
            },
            "type": "parcoords"
           }
          ],
          "pie": [
           {
            "automargin": true,
            "type": "pie"
           }
          ],
          "scatter": [
           {
            "fillpattern": {
             "fillmode": "overlay",
             "size": 10,
             "solidity": 0.2
            },
            "type": "scatter"
           }
          ],
          "scatter3d": [
           {
            "line": {
             "colorbar": {
              "outlinewidth": 0,
              "ticks": ""
             }
            },
            "marker": {
             "colorbar": {
              "outlinewidth": 0,
              "ticks": ""
             }
            },
            "type": "scatter3d"
           }
          ],
          "scattercarpet": [
           {
            "marker": {
             "colorbar": {
              "outlinewidth": 0,
              "ticks": ""
             }
            },
            "type": "scattercarpet"
           }
          ],
          "scattergeo": [
           {
            "marker": {
             "colorbar": {
              "outlinewidth": 0,
              "ticks": ""
             }
            },
            "type": "scattergeo"
           }
          ],
          "scattergl": [
           {
            "marker": {
             "colorbar": {
              "outlinewidth": 0,
              "ticks": ""
             }
            },
            "type": "scattergl"
           }
          ],
          "scattermapbox": [
           {
            "marker": {
             "colorbar": {
              "outlinewidth": 0,
              "ticks": ""
             }
            },
            "type": "scattermapbox"
           }
          ],
          "scatterpolar": [
           {
            "marker": {
             "colorbar": {
              "outlinewidth": 0,
              "ticks": ""
             }
            },
            "type": "scatterpolar"
           }
          ],
          "scatterpolargl": [
           {
            "marker": {
             "colorbar": {
              "outlinewidth": 0,
              "ticks": ""
             }
            },
            "type": "scatterpolargl"
           }
          ],
          "scatterternary": [
           {
            "marker": {
             "colorbar": {
              "outlinewidth": 0,
              "ticks": ""
             }
            },
            "type": "scatterternary"
           }
          ],
          "surface": [
           {
            "colorbar": {
             "outlinewidth": 0,
             "ticks": ""
            },
            "colorscale": [
             [
              0,
              "#0d0887"
             ],
             [
              0.1111111111111111,
              "#46039f"
             ],
             [
              0.2222222222222222,
              "#7201a8"
             ],
             [
              0.3333333333333333,
              "#9c179e"
             ],
             [
              0.4444444444444444,
              "#bd3786"
             ],
             [
              0.5555555555555556,
              "#d8576b"
             ],
             [
              0.6666666666666666,
              "#ed7953"
             ],
             [
              0.7777777777777778,
              "#fb9f3a"
             ],
             [
              0.8888888888888888,
              "#fdca26"
             ],
             [
              1,
              "#f0f921"
             ]
            ],
            "type": "surface"
           }
          ],
          "table": [
           {
            "cells": {
             "fill": {
              "color": "#EBF0F8"
             },
             "line": {
              "color": "white"
             }
            },
            "header": {
             "fill": {
              "color": "#C8D4E3"
             },
             "line": {
              "color": "white"
             }
            },
            "type": "table"
           }
          ]
         },
         "layout": {
          "annotationdefaults": {
           "arrowcolor": "#2a3f5f",
           "arrowhead": 0,
           "arrowwidth": 1
          },
          "autotypenumbers": "strict",
          "coloraxis": {
           "colorbar": {
            "outlinewidth": 0,
            "ticks": ""
           }
          },
          "colorscale": {
           "diverging": [
            [
             0,
             "#8e0152"
            ],
            [
             0.1,
             "#c51b7d"
            ],
            [
             0.2,
             "#de77ae"
            ],
            [
             0.3,
             "#f1b6da"
            ],
            [
             0.4,
             "#fde0ef"
            ],
            [
             0.5,
             "#f7f7f7"
            ],
            [
             0.6,
             "#e6f5d0"
            ],
            [
             0.7,
             "#b8e186"
            ],
            [
             0.8,
             "#7fbc41"
            ],
            [
             0.9,
             "#4d9221"
            ],
            [
             1,
             "#276419"
            ]
           ],
           "sequential": [
            [
             0,
             "#0d0887"
            ],
            [
             0.1111111111111111,
             "#46039f"
            ],
            [
             0.2222222222222222,
             "#7201a8"
            ],
            [
             0.3333333333333333,
             "#9c179e"
            ],
            [
             0.4444444444444444,
             "#bd3786"
            ],
            [
             0.5555555555555556,
             "#d8576b"
            ],
            [
             0.6666666666666666,
             "#ed7953"
            ],
            [
             0.7777777777777778,
             "#fb9f3a"
            ],
            [
             0.8888888888888888,
             "#fdca26"
            ],
            [
             1,
             "#f0f921"
            ]
           ],
           "sequentialminus": [
            [
             0,
             "#0d0887"
            ],
            [
             0.1111111111111111,
             "#46039f"
            ],
            [
             0.2222222222222222,
             "#7201a8"
            ],
            [
             0.3333333333333333,
             "#9c179e"
            ],
            [
             0.4444444444444444,
             "#bd3786"
            ],
            [
             0.5555555555555556,
             "#d8576b"
            ],
            [
             0.6666666666666666,
             "#ed7953"
            ],
            [
             0.7777777777777778,
             "#fb9f3a"
            ],
            [
             0.8888888888888888,
             "#fdca26"
            ],
            [
             1,
             "#f0f921"
            ]
           ]
          },
          "colorway": [
           "#636efa",
           "#EF553B",
           "#00cc96",
           "#ab63fa",
           "#FFA15A",
           "#19d3f3",
           "#FF6692",
           "#B6E880",
           "#FF97FF",
           "#FECB52"
          ],
          "font": {
           "color": "#2a3f5f"
          },
          "geo": {
           "bgcolor": "white",
           "lakecolor": "white",
           "landcolor": "#E5ECF6",
           "showlakes": true,
           "showland": true,
           "subunitcolor": "white"
          },
          "hoverlabel": {
           "align": "left"
          },
          "hovermode": "closest",
          "mapbox": {
           "style": "light"
          },
          "paper_bgcolor": "white",
          "plot_bgcolor": "#E5ECF6",
          "polar": {
           "angularaxis": {
            "gridcolor": "white",
            "linecolor": "white",
            "ticks": ""
           },
           "bgcolor": "#E5ECF6",
           "radialaxis": {
            "gridcolor": "white",
            "linecolor": "white",
            "ticks": ""
           }
          },
          "scene": {
           "xaxis": {
            "backgroundcolor": "#E5ECF6",
            "gridcolor": "white",
            "gridwidth": 2,
            "linecolor": "white",
            "showbackground": true,
            "ticks": "",
            "zerolinecolor": "white"
           },
           "yaxis": {
            "backgroundcolor": "#E5ECF6",
            "gridcolor": "white",
            "gridwidth": 2,
            "linecolor": "white",
            "showbackground": true,
            "ticks": "",
            "zerolinecolor": "white"
           },
           "zaxis": {
            "backgroundcolor": "#E5ECF6",
            "gridcolor": "white",
            "gridwidth": 2,
            "linecolor": "white",
            "showbackground": true,
            "ticks": "",
            "zerolinecolor": "white"
           }
          },
          "shapedefaults": {
           "line": {
            "color": "#2a3f5f"
           }
          },
          "ternary": {
           "aaxis": {
            "gridcolor": "white",
            "linecolor": "white",
            "ticks": ""
           },
           "baxis": {
            "gridcolor": "white",
            "linecolor": "white",
            "ticks": ""
           },
           "bgcolor": "#E5ECF6",
           "caxis": {
            "gridcolor": "white",
            "linecolor": "white",
            "ticks": ""
           }
          },
          "title": {
           "x": 0.05
          },
          "xaxis": {
           "automargin": true,
           "gridcolor": "white",
           "linecolor": "white",
           "ticks": "",
           "title": {
            "standoff": 15
           },
           "zerolinecolor": "white",
           "zerolinewidth": 2
          },
          "yaxis": {
           "automargin": true,
           "gridcolor": "white",
           "linecolor": "white",
           "ticks": "",
           "title": {
            "standoff": 15
           },
           "zerolinecolor": "white",
           "zerolinewidth": 2
          }
         }
        }
       }
      }
     },
     "metadata": {},
     "output_type": "display_data"
    }
   ],
   "source": [
    "X = transcriptomics_transf.T.to_numpy(dtype=float)\n",
    "pca = PCA(n_components=3)\n",
    "pca_output_log = pca.fit_transform(X)\n",
    "pca_output_log_df = pd.DataFrame(pca_output_log, columns=['PCA1', 'PCA2', 'PCA3'])\n",
    "pca_output_log_df[\"groups\"] =dict_sample.values()\n",
    "\n",
    "fig = px.scatter_3d(pca_output_log_df, x='PCA1', y='PCA2', z='PCA3', color=\"groups\")\n",
    "fig.show()"
   ]
  },
  {
   "cell_type": "markdown",
   "metadata": {},
   "source": [
    "Transformed data has better cluster"
   ]
  },
  {
   "cell_type": "markdown",
   "metadata": {},
   "source": [
    "### 2. Differential gene expression"
   ]
  },
  {
   "cell_type": "code",
   "execution_count": 121,
   "metadata": {},
   "outputs": [],
   "source": [
    "de_results = pd.DataFrame(index = transcriptomics.index, columns = [\"pval\",\"fdr\",\"log2_mean_preadipo\",\"log2_mean_adipo\",\"log2_fold_change\"])"
   ]
  },
  {
   "cell_type": "markdown",
   "metadata": {},
   "source": [
    "a)"
   ]
  },
  {
   "cell_type": "code",
   "execution_count": 122,
   "metadata": {},
   "outputs": [],
   "source": [
    "pvalue=[]\n",
    "Adipo_samples = {i for i in dict_sample if dict_sample[i]==\"Adipo\"}\n",
    "PreAdipo_samples = {i for i in dict_sample if dict_sample[i]==\"PreAdipo\"}\n",
    "\n",
    "for index, gene in transcriptomics_transf.iterrows():\n",
    "    #_, pval = ttest_ind(gene[Adipo_samples], gene[PreAdipo_samples], equal_var=False)\n",
    "    _, pval =(ttest_ind(gene[0:40], gene[40:80], equal_var=False))\n",
    "    pvalue.append(pval)\n",
    "de_results[\"pval\"] = pvalue\n",
    "\n",
    "t_f, fdr_corrected_p_values = fdrcorrection(de_results.pval)\n",
    "de_results.fdr = fdr_corrected_p_values"
   ]
  },
  {
   "cell_type": "markdown",
   "metadata": {},
   "source": [
    "2.c)"
   ]
  },
  {
   "cell_type": "code",
   "execution_count": 123,
   "metadata": {},
   "outputs": [
    {
     "data": {
      "text/html": [
       "<div>\n",
       "<style scoped>\n",
       "    .dataframe tbody tr th:only-of-type {\n",
       "        vertical-align: middle;\n",
       "    }\n",
       "\n",
       "    .dataframe tbody tr th {\n",
       "        vertical-align: top;\n",
       "    }\n",
       "\n",
       "    .dataframe thead th {\n",
       "        text-align: right;\n",
       "    }\n",
       "</style>\n",
       "<table border=\"1\" class=\"dataframe\">\n",
       "  <thead>\n",
       "    <tr style=\"text-align: right;\">\n",
       "      <th></th>\n",
       "      <th>pval</th>\n",
       "      <th>fdr</th>\n",
       "      <th>log2_mean_preadipo</th>\n",
       "      <th>log2_mean_adipo</th>\n",
       "      <th>log2_fold_change</th>\n",
       "    </tr>\n",
       "    <tr>\n",
       "      <th>Gene_ID</th>\n",
       "      <th></th>\n",
       "      <th></th>\n",
       "      <th></th>\n",
       "      <th></th>\n",
       "      <th></th>\n",
       "    </tr>\n",
       "  </thead>\n",
       "  <tbody>\n",
       "    <tr>\n",
       "      <th>ENSG00000000003</th>\n",
       "      <td>0.029213</td>\n",
       "      <td>0.124449</td>\n",
       "      <td>NaN</td>\n",
       "      <td>NaN</td>\n",
       "      <td>NaN</td>\n",
       "    </tr>\n",
       "    <tr>\n",
       "      <th>ENSG00000000419</th>\n",
       "      <td>0.436098</td>\n",
       "      <td>0.605981</td>\n",
       "      <td>NaN</td>\n",
       "      <td>NaN</td>\n",
       "      <td>NaN</td>\n",
       "    </tr>\n",
       "    <tr>\n",
       "      <th>ENSG00000000457</th>\n",
       "      <td>0.371879</td>\n",
       "      <td>0.541478</td>\n",
       "      <td>NaN</td>\n",
       "      <td>NaN</td>\n",
       "      <td>NaN</td>\n",
       "    </tr>\n",
       "    <tr>\n",
       "      <th>ENSG00000000460</th>\n",
       "      <td>0.403271</td>\n",
       "      <td>0.574002</td>\n",
       "      <td>NaN</td>\n",
       "      <td>NaN</td>\n",
       "      <td>NaN</td>\n",
       "    </tr>\n",
       "    <tr>\n",
       "      <th>ENSG00000001167</th>\n",
       "      <td>0.032582</td>\n",
       "      <td>0.135853</td>\n",
       "      <td>NaN</td>\n",
       "      <td>NaN</td>\n",
       "      <td>NaN</td>\n",
       "    </tr>\n",
       "    <tr>\n",
       "      <th>...</th>\n",
       "      <td>...</td>\n",
       "      <td>...</td>\n",
       "      <td>...</td>\n",
       "      <td>...</td>\n",
       "      <td>...</td>\n",
       "    </tr>\n",
       "    <tr>\n",
       "      <th>ENSG00000273483</th>\n",
       "      <td>1.000000</td>\n",
       "      <td>1.000000</td>\n",
       "      <td>NaN</td>\n",
       "      <td>NaN</td>\n",
       "      <td>NaN</td>\n",
       "    </tr>\n",
       "    <tr>\n",
       "      <th>ENSG00000273485</th>\n",
       "      <td>0.767912</td>\n",
       "      <td>0.863298</td>\n",
       "      <td>NaN</td>\n",
       "      <td>NaN</td>\n",
       "      <td>NaN</td>\n",
       "    </tr>\n",
       "    <tr>\n",
       "      <th>ENSG00000273486</th>\n",
       "      <td>0.104262</td>\n",
       "      <td>0.314575</td>\n",
       "      <td>NaN</td>\n",
       "      <td>NaN</td>\n",
       "      <td>NaN</td>\n",
       "    </tr>\n",
       "    <tr>\n",
       "      <th>ENSG00000273487</th>\n",
       "      <td>0.755924</td>\n",
       "      <td>0.854810</td>\n",
       "      <td>NaN</td>\n",
       "      <td>NaN</td>\n",
       "      <td>NaN</td>\n",
       "    </tr>\n",
       "    <tr>\n",
       "      <th>ENSG00000273493</th>\n",
       "      <td>0.433540</td>\n",
       "      <td>0.603562</td>\n",
       "      <td>NaN</td>\n",
       "      <td>NaN</td>\n",
       "      <td>NaN</td>\n",
       "    </tr>\n",
       "  </tbody>\n",
       "</table>\n",
       "<p>24623 rows × 5 columns</p>\n",
       "</div>"
      ],
      "text/plain": [
       "                     pval       fdr log2_mean_preadipo log2_mean_adipo  \\\n",
       "Gene_ID                                                                  \n",
       "ENSG00000000003  0.029213  0.124449                NaN             NaN   \n",
       "ENSG00000000419  0.436098  0.605981                NaN             NaN   \n",
       "ENSG00000000457  0.371879  0.541478                NaN             NaN   \n",
       "ENSG00000000460  0.403271  0.574002                NaN             NaN   \n",
       "ENSG00000001167  0.032582  0.135853                NaN             NaN   \n",
       "...                   ...       ...                ...             ...   \n",
       "ENSG00000273483  1.000000  1.000000                NaN             NaN   \n",
       "ENSG00000273485  0.767912  0.863298                NaN             NaN   \n",
       "ENSG00000273486  0.104262  0.314575                NaN             NaN   \n",
       "ENSG00000273487  0.755924  0.854810                NaN             NaN   \n",
       "ENSG00000273493  0.433540  0.603562                NaN             NaN   \n",
       "\n",
       "                log2_fold_change  \n",
       "Gene_ID                           \n",
       "ENSG00000000003              NaN  \n",
       "ENSG00000000419              NaN  \n",
       "ENSG00000000457              NaN  \n",
       "ENSG00000000460              NaN  \n",
       "ENSG00000001167              NaN  \n",
       "...                          ...  \n",
       "ENSG00000273483              NaN  \n",
       "ENSG00000273485              NaN  \n",
       "ENSG00000273486              NaN  \n",
       "ENSG00000273487              NaN  \n",
       "ENSG00000273493              NaN  \n",
       "\n",
       "[24623 rows x 5 columns]"
      ]
     },
     "execution_count": 123,
     "metadata": {},
     "output_type": "execute_result"
    }
   ],
   "source": [
    "de_results[de_results[\"fdr\"] >= 0.05]"
   ]
  },
  {
   "cell_type": "markdown",
   "metadata": {},
   "source": [
    "##### 2.d)"
   ]
  },
  {
   "cell_type": "code",
   "execution_count": 124,
   "metadata": {},
   "outputs": [
    {
     "name": "stderr",
     "output_type": "stream",
     "text": [
      "/var/folders/xd/10nyn_j13qs58rww11sjkgy80000gn/T/ipykernel_43878/931640721.py:4: FutureWarning:\n",
      "\n",
      "Passing a set as an indexer is deprecated and will raise in a future version. Use a list instead.\n",
      "\n",
      "/var/folders/xd/10nyn_j13qs58rww11sjkgy80000gn/T/ipykernel_43878/931640721.py:5: FutureWarning:\n",
      "\n",
      "Passing a set as an indexer is deprecated and will raise in a future version. Use a list instead.\n",
      "\n"
     ]
    }
   ],
   "source": [
    "Adipo_samples = {i for i in dict_sample if dict_sample[i]==\"Adipo\"}\n",
    "PreAdipo_samples = {i for i in dict_sample if dict_sample[i]==\"PreAdipo\"}\n",
    "\n",
    "de_results[\"log2_mean_preadipo\"] = np.log2(transcriptomics[PreAdipo_samples].mean(axis=1)+1)\n",
    "de_results[\"log2_mean_adipo\"] = np.log2(transcriptomics[Adipo_samples].mean(axis=1)+1)"
   ]
  },
  {
   "cell_type": "code",
   "execution_count": 125,
   "metadata": {},
   "outputs": [
    {
     "name": "stderr",
     "output_type": "stream",
     "text": [
      "/var/folders/xd/10nyn_j13qs58rww11sjkgy80000gn/T/ipykernel_43878/1268549967.py:1: FutureWarning:\n",
      "\n",
      "Passing a set as an indexer is deprecated and will raise in a future version. Use a list instead.\n",
      "\n"
     ]
    },
    {
     "data": {
      "text/plain": [
       "Gene_ID\n",
       "ENSG00000000003    3.666757\n",
       "ENSG00000000005    0.104337\n",
       "ENSG00000000419    3.399171\n",
       "ENSG00000000457    2.887525\n",
       "ENSG00000000460    1.432959\n",
       "                     ...   \n",
       "ENSG00000273485    0.536053\n",
       "ENSG00000273486    0.655352\n",
       "ENSG00000273487    0.035624\n",
       "ENSG00000273489    0.744161\n",
       "ENSG00000273493    0.232661\n",
       "Length: 30238, dtype: float64"
      ]
     },
     "execution_count": 125,
     "metadata": {},
     "output_type": "execute_result"
    }
   ],
   "source": [
    "np.log2(transcriptomics[PreAdipo_samples].mean(axis=1)+1)"
   ]
  },
  {
   "cell_type": "markdown",
   "metadata": {},
   "source": [
    "##### 2.e)"
   ]
  },
  {
   "cell_type": "code",
   "execution_count": 126,
   "metadata": {},
   "outputs": [
    {
     "data": {
      "text/html": [
       "<div>\n",
       "<style scoped>\n",
       "    .dataframe tbody tr th:only-of-type {\n",
       "        vertical-align: middle;\n",
       "    }\n",
       "\n",
       "    .dataframe tbody tr th {\n",
       "        vertical-align: top;\n",
       "    }\n",
       "\n",
       "    .dataframe thead th {\n",
       "        text-align: right;\n",
       "    }\n",
       "</style>\n",
       "<table border=\"1\" class=\"dataframe\">\n",
       "  <thead>\n",
       "    <tr style=\"text-align: right;\">\n",
       "      <th></th>\n",
       "      <th>pval</th>\n",
       "      <th>fdr</th>\n",
       "      <th>log2_mean_preadipo</th>\n",
       "      <th>log2_mean_adipo</th>\n",
       "      <th>log2_fold_change</th>\n",
       "    </tr>\n",
       "    <tr>\n",
       "      <th>Gene_ID</th>\n",
       "      <th></th>\n",
       "      <th></th>\n",
       "      <th></th>\n",
       "      <th></th>\n",
       "      <th></th>\n",
       "    </tr>\n",
       "  </thead>\n",
       "  <tbody>\n",
       "    <tr>\n",
       "      <th>ENSG00000170323</th>\n",
       "      <td>3.144794e-46</td>\n",
       "      <td>7.404844e-42</td>\n",
       "      <td>6.845176</td>\n",
       "      <td>13.011066</td>\n",
       "      <td>6.165889</td>\n",
       "    </tr>\n",
       "    <tr>\n",
       "      <th>ENSG00000130208</th>\n",
       "      <td>8.895025e-39</td>\n",
       "      <td>1.222581e-35</td>\n",
       "      <td>7.183883</td>\n",
       "      <td>13.134579</td>\n",
       "      <td>5.950695</td>\n",
       "    </tr>\n",
       "    <tr>\n",
       "      <th>ENSG00000055957</th>\n",
       "      <td>1.698795e-39</td>\n",
       "      <td>3.210511e-36</td>\n",
       "      <td>2.255501</td>\n",
       "      <td>7.901772</td>\n",
       "      <td>5.646271</td>\n",
       "    </tr>\n",
       "    <tr>\n",
       "      <th>ENSG00000122378</th>\n",
       "      <td>4.726720e-43</td>\n",
       "      <td>2.858531e-39</td>\n",
       "      <td>3.520422</td>\n",
       "      <td>9.164656</td>\n",
       "      <td>5.644233</td>\n",
       "    </tr>\n",
       "    <tr>\n",
       "      <th>ENSG00000135447</th>\n",
       "      <td>2.149862e-40</td>\n",
       "      <td>5.909776e-37</td>\n",
       "      <td>1.419539</td>\n",
       "      <td>6.984988</td>\n",
       "      <td>5.565449</td>\n",
       "    </tr>\n",
       "    <tr>\n",
       "      <th>...</th>\n",
       "      <td>...</td>\n",
       "      <td>...</td>\n",
       "      <td>...</td>\n",
       "      <td>...</td>\n",
       "      <td>...</td>\n",
       "    </tr>\n",
       "    <tr>\n",
       "      <th>ENSG00000089685</th>\n",
       "      <td>2.943092e-11</td>\n",
       "      <td>1.105506e-09</td>\n",
       "      <td>5.984703</td>\n",
       "      <td>3.083213</td>\n",
       "      <td>-2.901490</td>\n",
       "    </tr>\n",
       "    <tr>\n",
       "      <th>ENSG00000117399</th>\n",
       "      <td>2.514095e-07</td>\n",
       "      <td>4.778202e-06</td>\n",
       "      <td>4.842979</td>\n",
       "      <td>1.877744</td>\n",
       "      <td>-2.965235</td>\n",
       "    </tr>\n",
       "    <tr>\n",
       "      <th>ENSG00000149968</th>\n",
       "      <td>3.987162e-15</td>\n",
       "      <td>2.638158e-13</td>\n",
       "      <td>4.836682</td>\n",
       "      <td>1.827819</td>\n",
       "      <td>-3.008863</td>\n",
       "    </tr>\n",
       "    <tr>\n",
       "      <th>ENSG00000264433</th>\n",
       "      <td>1.631710e-14</td>\n",
       "      <td>1.013135e-12</td>\n",
       "      <td>4.330917</td>\n",
       "      <td>1.247928</td>\n",
       "      <td>-3.082989</td>\n",
       "    </tr>\n",
       "    <tr>\n",
       "      <th>ENSG00000214100</th>\n",
       "      <td>1.321941e-25</td>\n",
       "      <td>3.359063e-23</td>\n",
       "      <td>5.807999</td>\n",
       "      <td>2.399171</td>\n",
       "      <td>-3.408828</td>\n",
       "    </tr>\n",
       "  </tbody>\n",
       "</table>\n",
       "<p>30238 rows × 5 columns</p>\n",
       "</div>"
      ],
      "text/plain": [
       "                         pval           fdr  log2_mean_preadipo  \\\n",
       "Gene_ID                                                           \n",
       "ENSG00000170323  3.144794e-46  7.404844e-42            6.845176   \n",
       "ENSG00000130208  8.895025e-39  1.222581e-35            7.183883   \n",
       "ENSG00000055957  1.698795e-39  3.210511e-36            2.255501   \n",
       "ENSG00000122378  4.726720e-43  2.858531e-39            3.520422   \n",
       "ENSG00000135447  2.149862e-40  5.909776e-37            1.419539   \n",
       "...                       ...           ...                 ...   \n",
       "ENSG00000089685  2.943092e-11  1.105506e-09            5.984703   \n",
       "ENSG00000117399  2.514095e-07  4.778202e-06            4.842979   \n",
       "ENSG00000149968  3.987162e-15  2.638158e-13            4.836682   \n",
       "ENSG00000264433  1.631710e-14  1.013135e-12            4.330917   \n",
       "ENSG00000214100  1.321941e-25  3.359063e-23            5.807999   \n",
       "\n",
       "                 log2_mean_adipo  log2_fold_change  \n",
       "Gene_ID                                             \n",
       "ENSG00000170323        13.011066          6.165889  \n",
       "ENSG00000130208        13.134579          5.950695  \n",
       "ENSG00000055957         7.901772          5.646271  \n",
       "ENSG00000122378         9.164656          5.644233  \n",
       "ENSG00000135447         6.984988          5.565449  \n",
       "...                          ...               ...  \n",
       "ENSG00000089685         3.083213         -2.901490  \n",
       "ENSG00000117399         1.877744         -2.965235  \n",
       "ENSG00000149968         1.827819         -3.008863  \n",
       "ENSG00000264433         1.247928         -3.082989  \n",
       "ENSG00000214100         2.399171         -3.408828  \n",
       "\n",
       "[30238 rows x 5 columns]"
      ]
     },
     "execution_count": 126,
     "metadata": {},
     "output_type": "execute_result"
    }
   ],
   "source": [
    "de_results[\"log2_fold_change\"] = (de_results[\"log2_mean_adipo\"] - de_results[\"log2_mean_preadipo\"])\n",
    "de_results.sort_values('log2_fold_change', ascending=False, inplace=True)\n",
    "de_results"
   ]
  },
  {
   "attachments": {},
   "cell_type": "markdown",
   "metadata": {},
   "source": [
    "2.f)"
   ]
  },
  {
   "cell_type": "code",
   "execution_count": 127,
   "metadata": {},
   "outputs": [
    {
     "data": {
      "text/html": [
       "<div>\n",
       "<style scoped>\n",
       "    .dataframe tbody tr th:only-of-type {\n",
       "        vertical-align: middle;\n",
       "    }\n",
       "\n",
       "    .dataframe tbody tr th {\n",
       "        vertical-align: top;\n",
       "    }\n",
       "\n",
       "    .dataframe thead th {\n",
       "        text-align: right;\n",
       "    }\n",
       "</style>\n",
       "<table border=\"1\" class=\"dataframe\">\n",
       "  <thead>\n",
       "    <tr style=\"text-align: right;\">\n",
       "      <th></th>\n",
       "      <th>pval</th>\n",
       "      <th>fdr</th>\n",
       "      <th>log2_mean_preadipo</th>\n",
       "      <th>log2_mean_adipo</th>\n",
       "      <th>log2_fold_change</th>\n",
       "    </tr>\n",
       "    <tr>\n",
       "      <th>Gene_ID</th>\n",
       "      <th></th>\n",
       "      <th></th>\n",
       "      <th></th>\n",
       "      <th></th>\n",
       "      <th></th>\n",
       "    </tr>\n",
       "  </thead>\n",
       "  <tbody>\n",
       "    <tr>\n",
       "      <th>ENSG00000170323</th>\n",
       "      <td>3.144794e-46</td>\n",
       "      <td>7.404844e-42</td>\n",
       "      <td>6.845176</td>\n",
       "      <td>13.011066</td>\n",
       "      <td>6.165889</td>\n",
       "    </tr>\n",
       "    <tr>\n",
       "      <th>ENSG00000130208</th>\n",
       "      <td>8.895025e-39</td>\n",
       "      <td>1.222581e-35</td>\n",
       "      <td>7.183883</td>\n",
       "      <td>13.134579</td>\n",
       "      <td>5.950695</td>\n",
       "    </tr>\n",
       "    <tr>\n",
       "      <th>ENSG00000055957</th>\n",
       "      <td>1.698795e-39</td>\n",
       "      <td>3.210511e-36</td>\n",
       "      <td>2.255501</td>\n",
       "      <td>7.901772</td>\n",
       "      <td>5.646271</td>\n",
       "    </tr>\n",
       "    <tr>\n",
       "      <th>ENSG00000122378</th>\n",
       "      <td>4.726720e-43</td>\n",
       "      <td>2.858531e-39</td>\n",
       "      <td>3.520422</td>\n",
       "      <td>9.164656</td>\n",
       "      <td>5.644233</td>\n",
       "    </tr>\n",
       "    <tr>\n",
       "      <th>ENSG00000135447</th>\n",
       "      <td>2.149862e-40</td>\n",
       "      <td>5.909776e-37</td>\n",
       "      <td>1.419539</td>\n",
       "      <td>6.984988</td>\n",
       "      <td>5.565449</td>\n",
       "    </tr>\n",
       "    <tr>\n",
       "      <th>...</th>\n",
       "      <td>...</td>\n",
       "      <td>...</td>\n",
       "      <td>...</td>\n",
       "      <td>...</td>\n",
       "      <td>...</td>\n",
       "    </tr>\n",
       "    <tr>\n",
       "      <th>ENSG00000099785</th>\n",
       "      <td>2.521863e-09</td>\n",
       "      <td>7.002395e-08</td>\n",
       "      <td>4.346957</td>\n",
       "      <td>5.350497</td>\n",
       "      <td>1.003540</td>\n",
       "    </tr>\n",
       "    <tr>\n",
       "      <th>ENSG00000187824</th>\n",
       "      <td>1.747159e-07</td>\n",
       "      <td>3.423888e-06</td>\n",
       "      <td>3.617651</td>\n",
       "      <td>4.620586</td>\n",
       "      <td>1.002935</td>\n",
       "    </tr>\n",
       "    <tr>\n",
       "      <th>ENSG00000100412</th>\n",
       "      <td>8.848764e-08</td>\n",
       "      <td>1.817724e-06</td>\n",
       "      <td>4.499846</td>\n",
       "      <td>5.500643</td>\n",
       "      <td>1.000797</td>\n",
       "    </tr>\n",
       "    <tr>\n",
       "      <th>ENSG00000120129</th>\n",
       "      <td>1.607696e-04</td>\n",
       "      <td>1.567672e-03</td>\n",
       "      <td>4.710118</td>\n",
       "      <td>5.710806</td>\n",
       "      <td>1.000689</td>\n",
       "    </tr>\n",
       "    <tr>\n",
       "      <th>ENSG00000178573</th>\n",
       "      <td>4.997932e-04</td>\n",
       "      <td>4.207335e-03</td>\n",
       "      <td>1.837943</td>\n",
       "      <td>2.837943</td>\n",
       "      <td>1.000000</td>\n",
       "    </tr>\n",
       "  </tbody>\n",
       "</table>\n",
       "<p>1204 rows × 5 columns</p>\n",
       "</div>"
      ],
      "text/plain": [
       "                         pval           fdr  log2_mean_preadipo  \\\n",
       "Gene_ID                                                           \n",
       "ENSG00000170323  3.144794e-46  7.404844e-42            6.845176   \n",
       "ENSG00000130208  8.895025e-39  1.222581e-35            7.183883   \n",
       "ENSG00000055957  1.698795e-39  3.210511e-36            2.255501   \n",
       "ENSG00000122378  4.726720e-43  2.858531e-39            3.520422   \n",
       "ENSG00000135447  2.149862e-40  5.909776e-37            1.419539   \n",
       "...                       ...           ...                 ...   \n",
       "ENSG00000099785  2.521863e-09  7.002395e-08            4.346957   \n",
       "ENSG00000187824  1.747159e-07  3.423888e-06            3.617651   \n",
       "ENSG00000100412  8.848764e-08  1.817724e-06            4.499846   \n",
       "ENSG00000120129  1.607696e-04  1.567672e-03            4.710118   \n",
       "ENSG00000178573  4.997932e-04  4.207335e-03            1.837943   \n",
       "\n",
       "                 log2_mean_adipo  log2_fold_change  \n",
       "Gene_ID                                             \n",
       "ENSG00000170323        13.011066          6.165889  \n",
       "ENSG00000130208        13.134579          5.950695  \n",
       "ENSG00000055957         7.901772          5.646271  \n",
       "ENSG00000122378         9.164656          5.644233  \n",
       "ENSG00000135447         6.984988          5.565449  \n",
       "...                          ...               ...  \n",
       "ENSG00000099785         5.350497          1.003540  \n",
       "ENSG00000187824         4.620586          1.002935  \n",
       "ENSG00000100412         5.500643          1.000797  \n",
       "ENSG00000120129         5.710806          1.000689  \n",
       "ENSG00000178573         2.837943          1.000000  \n",
       "\n",
       "[1204 rows x 5 columns]"
      ]
     },
     "execution_count": 127,
     "metadata": {},
     "output_type": "execute_result"
    }
   ],
   "source": [
    "de_results.sort_values('log2_fold_change', ascending=False, inplace=True)\n",
    "de_results = de_results[de_results[\"fdr\"] < 0.05]\n",
    "de_results = de_results[de_results[\"log2_fold_change\"] > 1]\n",
    "de_results"
   ]
  },
  {
   "attachments": {},
   "cell_type": "markdown",
   "metadata": {},
   "source": [
    "Why do we need to do that?"
   ]
  },
  {
   "attachments": {},
   "cell_type": "markdown",
   "metadata": {},
   "source": [
    "### 3. Investigating top marker genes"
   ]
  },
  {
   "attachments": {},
   "cell_type": "markdown",
   "metadata": {},
   "source": [
    "3.a)"
   ]
  },
  {
   "cell_type": "code",
   "execution_count": 128,
   "metadata": {},
   "outputs": [
    {
     "data": {
      "text/html": [
       "<div>\n",
       "<style scoped>\n",
       "    .dataframe tbody tr th:only-of-type {\n",
       "        vertical-align: middle;\n",
       "    }\n",
       "\n",
       "    .dataframe tbody tr th {\n",
       "        vertical-align: top;\n",
       "    }\n",
       "\n",
       "    .dataframe thead th {\n",
       "        text-align: right;\n",
       "    }\n",
       "</style>\n",
       "<table border=\"1\" class=\"dataframe\">\n",
       "  <thead>\n",
       "    <tr style=\"text-align: right;\">\n",
       "      <th></th>\n",
       "      <th>pval</th>\n",
       "      <th>fdr</th>\n",
       "      <th>log2_mean_preadipo</th>\n",
       "      <th>log2_mean_adipo</th>\n",
       "      <th>log2_fold_change</th>\n",
       "      <th>gene_symbol</th>\n",
       "    </tr>\n",
       "    <tr>\n",
       "      <th>Gene_ID</th>\n",
       "      <th></th>\n",
       "      <th></th>\n",
       "      <th></th>\n",
       "      <th></th>\n",
       "      <th></th>\n",
       "      <th></th>\n",
       "    </tr>\n",
       "  </thead>\n",
       "  <tbody>\n",
       "    <tr>\n",
       "      <th>ENSG00000170323</th>\n",
       "      <td>3.144794e-46</td>\n",
       "      <td>7.404844e-42</td>\n",
       "      <td>6.845176</td>\n",
       "      <td>13.011066</td>\n",
       "      <td>6.165889</td>\n",
       "      <td>FABP4</td>\n",
       "    </tr>\n",
       "    <tr>\n",
       "      <th>ENSG00000130208</th>\n",
       "      <td>8.895025e-39</td>\n",
       "      <td>1.222581e-35</td>\n",
       "      <td>7.183883</td>\n",
       "      <td>13.134579</td>\n",
       "      <td>5.950695</td>\n",
       "      <td>APOC1</td>\n",
       "    </tr>\n",
       "    <tr>\n",
       "      <th>ENSG00000055957</th>\n",
       "      <td>1.698795e-39</td>\n",
       "      <td>3.210511e-36</td>\n",
       "      <td>2.255501</td>\n",
       "      <td>7.901772</td>\n",
       "      <td>5.646271</td>\n",
       "      <td>ITIH1</td>\n",
       "    </tr>\n",
       "    <tr>\n",
       "      <th>ENSG00000122378</th>\n",
       "      <td>4.726720e-43</td>\n",
       "      <td>2.858531e-39</td>\n",
       "      <td>3.520422</td>\n",
       "      <td>9.164656</td>\n",
       "      <td>5.644233</td>\n",
       "      <td>FAM213A</td>\n",
       "    </tr>\n",
       "    <tr>\n",
       "      <th>ENSG00000135447</th>\n",
       "      <td>2.149862e-40</td>\n",
       "      <td>5.909776e-37</td>\n",
       "      <td>1.419539</td>\n",
       "      <td>6.984988</td>\n",
       "      <td>5.565449</td>\n",
       "      <td>PPP1R1A</td>\n",
       "    </tr>\n",
       "    <tr>\n",
       "      <th>...</th>\n",
       "      <td>...</td>\n",
       "      <td>...</td>\n",
       "      <td>...</td>\n",
       "      <td>...</td>\n",
       "      <td>...</td>\n",
       "      <td>...</td>\n",
       "    </tr>\n",
       "    <tr>\n",
       "      <th>ENSG00000099785</th>\n",
       "      <td>2.521863e-09</td>\n",
       "      <td>7.002395e-08</td>\n",
       "      <td>4.346957</td>\n",
       "      <td>5.350497</td>\n",
       "      <td>1.003540</td>\n",
       "      <td>MARCH2</td>\n",
       "    </tr>\n",
       "    <tr>\n",
       "      <th>ENSG00000187824</th>\n",
       "      <td>1.747159e-07</td>\n",
       "      <td>3.423888e-06</td>\n",
       "      <td>3.617651</td>\n",
       "      <td>4.620586</td>\n",
       "      <td>1.002935</td>\n",
       "      <td>TMEM220</td>\n",
       "    </tr>\n",
       "    <tr>\n",
       "      <th>ENSG00000100412</th>\n",
       "      <td>8.848764e-08</td>\n",
       "      <td>1.817724e-06</td>\n",
       "      <td>4.499846</td>\n",
       "      <td>5.500643</td>\n",
       "      <td>1.000797</td>\n",
       "      <td>ACO2</td>\n",
       "    </tr>\n",
       "    <tr>\n",
       "      <th>ENSG00000120129</th>\n",
       "      <td>1.607696e-04</td>\n",
       "      <td>1.567672e-03</td>\n",
       "      <td>4.710118</td>\n",
       "      <td>5.710806</td>\n",
       "      <td>1.000689</td>\n",
       "      <td>DUSP1</td>\n",
       "    </tr>\n",
       "    <tr>\n",
       "      <th>ENSG00000178573</th>\n",
       "      <td>4.997932e-04</td>\n",
       "      <td>4.207335e-03</td>\n",
       "      <td>1.837943</td>\n",
       "      <td>2.837943</td>\n",
       "      <td>1.000000</td>\n",
       "      <td>MAF</td>\n",
       "    </tr>\n",
       "  </tbody>\n",
       "</table>\n",
       "<p>1204 rows × 6 columns</p>\n",
       "</div>"
      ],
      "text/plain": [
       "                         pval           fdr  log2_mean_preadipo  \\\n",
       "Gene_ID                                                           \n",
       "ENSG00000170323  3.144794e-46  7.404844e-42            6.845176   \n",
       "ENSG00000130208  8.895025e-39  1.222581e-35            7.183883   \n",
       "ENSG00000055957  1.698795e-39  3.210511e-36            2.255501   \n",
       "ENSG00000122378  4.726720e-43  2.858531e-39            3.520422   \n",
       "ENSG00000135447  2.149862e-40  5.909776e-37            1.419539   \n",
       "...                       ...           ...                 ...   \n",
       "ENSG00000099785  2.521863e-09  7.002395e-08            4.346957   \n",
       "ENSG00000187824  1.747159e-07  3.423888e-06            3.617651   \n",
       "ENSG00000100412  8.848764e-08  1.817724e-06            4.499846   \n",
       "ENSG00000120129  1.607696e-04  1.567672e-03            4.710118   \n",
       "ENSG00000178573  4.997932e-04  4.207335e-03            1.837943   \n",
       "\n",
       "                 log2_mean_adipo  log2_fold_change gene_symbol  \n",
       "Gene_ID                                                         \n",
       "ENSG00000170323        13.011066          6.165889       FABP4  \n",
       "ENSG00000130208        13.134579          5.950695       APOC1  \n",
       "ENSG00000055957         7.901772          5.646271       ITIH1  \n",
       "ENSG00000122378         9.164656          5.644233     FAM213A  \n",
       "ENSG00000135447         6.984988          5.565449     PPP1R1A  \n",
       "...                          ...               ...         ...  \n",
       "ENSG00000099785         5.350497          1.003540      MARCH2  \n",
       "ENSG00000187824         4.620586          1.002935     TMEM220  \n",
       "ENSG00000100412         5.500643          1.000797        ACO2  \n",
       "ENSG00000120129         5.710806          1.000689       DUSP1  \n",
       "ENSG00000178573         2.837943          1.000000         MAF  \n",
       "\n",
       "[1204 rows x 6 columns]"
      ]
     },
     "execution_count": 128,
     "metadata": {},
     "output_type": "execute_result"
    }
   ],
   "source": [
    "gene_annotation = pd.read_csv( os.path.join(core_path, 'Homo_sapiens.GRCh37.75.gene_annotation.txt'),sep= \"\\t\")\n",
    "gene_annotation.index = gene_annotation.Ensembl\n",
    "gene_annotation2 = gene_annotation.loc[de_results.index,:]\n",
    "de_results[\"gene_symbol\"] = gene_annotation2.Name\n",
    "de_results"
   ]
  },
  {
   "attachments": {},
   "cell_type": "markdown",
   "metadata": {},
   "source": [
    "3.b)"
   ]
  },
  {
   "attachments": {},
   "cell_type": "markdown",
   "metadata": {},
   "source": [
    "Plot the expression of the top marker gene as two side-by-side plots,one with expression as a gradient color in the PCA, and another as two boxplots showing expression of this gene for each sample in the two groups."
   ]
  },
  {
   "cell_type": "code",
   "execution_count": 129,
   "metadata": {},
   "outputs": [],
   "source": [
    "gene_annotation3 = gene_annotation.loc[transcriptomics.index,:]"
   ]
  },
  {
   "cell_type": "code",
   "execution_count": 130,
   "metadata": {},
   "outputs": [
    {
     "data": {
      "text/html": [
       "<div>\n",
       "<style scoped>\n",
       "    .dataframe tbody tr th:only-of-type {\n",
       "        vertical-align: middle;\n",
       "    }\n",
       "\n",
       "    .dataframe tbody tr th {\n",
       "        vertical-align: top;\n",
       "    }\n",
       "\n",
       "    .dataframe thead th {\n",
       "        text-align: right;\n",
       "    }\n",
       "</style>\n",
       "<table border=\"1\" class=\"dataframe\">\n",
       "  <thead>\n",
       "    <tr style=\"text-align: right;\">\n",
       "      <th></th>\n",
       "      <th>Sample_1_preadi</th>\n",
       "      <th>Sample_2_preadi</th>\n",
       "      <th>Sample_3_preadi</th>\n",
       "      <th>Sample_4_preadi</th>\n",
       "      <th>Sample_5_preadi</th>\n",
       "      <th>Sample_6_preadi</th>\n",
       "      <th>Sample_7_preadi</th>\n",
       "      <th>Sample_8_preadi</th>\n",
       "      <th>Sample_9_preadi</th>\n",
       "      <th>Sample_10_preadi</th>\n",
       "      <th>...</th>\n",
       "      <th>Sample_72_adipo</th>\n",
       "      <th>Sample_73_adipo</th>\n",
       "      <th>Sample_74_adipo</th>\n",
       "      <th>Sample_75_adipo</th>\n",
       "      <th>Sample_76_adipo</th>\n",
       "      <th>Sample_77_adipo</th>\n",
       "      <th>Sample_78_adipo</th>\n",
       "      <th>Sample_79_adipo</th>\n",
       "      <th>Sample_80_adipo</th>\n",
       "      <th>Name</th>\n",
       "    </tr>\n",
       "    <tr>\n",
       "      <th>Gene_ID</th>\n",
       "      <th></th>\n",
       "      <th></th>\n",
       "      <th></th>\n",
       "      <th></th>\n",
       "      <th></th>\n",
       "      <th></th>\n",
       "      <th></th>\n",
       "      <th></th>\n",
       "      <th></th>\n",
       "      <th></th>\n",
       "      <th></th>\n",
       "      <th></th>\n",
       "      <th></th>\n",
       "      <th></th>\n",
       "      <th></th>\n",
       "      <th></th>\n",
       "      <th></th>\n",
       "      <th></th>\n",
       "      <th></th>\n",
       "      <th></th>\n",
       "      <th></th>\n",
       "    </tr>\n",
       "  </thead>\n",
       "  <tbody>\n",
       "    <tr>\n",
       "      <th>ENSG00000000003</th>\n",
       "      <td>18</td>\n",
       "      <td>12</td>\n",
       "      <td>9</td>\n",
       "      <td>20</td>\n",
       "      <td>9</td>\n",
       "      <td>13</td>\n",
       "      <td>20</td>\n",
       "      <td>8</td>\n",
       "      <td>4</td>\n",
       "      <td>7</td>\n",
       "      <td>...</td>\n",
       "      <td>9</td>\n",
       "      <td>30</td>\n",
       "      <td>9</td>\n",
       "      <td>23</td>\n",
       "      <td>16</td>\n",
       "      <td>3</td>\n",
       "      <td>14</td>\n",
       "      <td>11</td>\n",
       "      <td>16</td>\n",
       "      <td>TSPAN6</td>\n",
       "    </tr>\n",
       "    <tr>\n",
       "      <th>ENSG00000000005</th>\n",
       "      <td>0</td>\n",
       "      <td>0</td>\n",
       "      <td>0</td>\n",
       "      <td>2</td>\n",
       "      <td>0</td>\n",
       "      <td>0</td>\n",
       "      <td>0</td>\n",
       "      <td>0</td>\n",
       "      <td>0</td>\n",
       "      <td>0</td>\n",
       "      <td>...</td>\n",
       "      <td>1</td>\n",
       "      <td>29</td>\n",
       "      <td>2</td>\n",
       "      <td>22</td>\n",
       "      <td>3</td>\n",
       "      <td>0</td>\n",
       "      <td>2</td>\n",
       "      <td>0</td>\n",
       "      <td>5</td>\n",
       "      <td>TNMD</td>\n",
       "    </tr>\n",
       "    <tr>\n",
       "      <th>ENSG00000000419</th>\n",
       "      <td>10</td>\n",
       "      <td>9</td>\n",
       "      <td>9</td>\n",
       "      <td>8</td>\n",
       "      <td>10</td>\n",
       "      <td>10</td>\n",
       "      <td>6</td>\n",
       "      <td>35</td>\n",
       "      <td>13</td>\n",
       "      <td>15</td>\n",
       "      <td>...</td>\n",
       "      <td>9</td>\n",
       "      <td>9</td>\n",
       "      <td>15</td>\n",
       "      <td>8</td>\n",
       "      <td>9</td>\n",
       "      <td>9</td>\n",
       "      <td>4</td>\n",
       "      <td>16</td>\n",
       "      <td>5</td>\n",
       "      <td>DPM1</td>\n",
       "    </tr>\n",
       "    <tr>\n",
       "      <th>ENSG00000000457</th>\n",
       "      <td>0</td>\n",
       "      <td>11</td>\n",
       "      <td>0</td>\n",
       "      <td>6</td>\n",
       "      <td>2</td>\n",
       "      <td>12</td>\n",
       "      <td>11</td>\n",
       "      <td>1</td>\n",
       "      <td>2</td>\n",
       "      <td>0</td>\n",
       "      <td>...</td>\n",
       "      <td>8</td>\n",
       "      <td>8</td>\n",
       "      <td>5</td>\n",
       "      <td>6</td>\n",
       "      <td>0</td>\n",
       "      <td>12</td>\n",
       "      <td>13</td>\n",
       "      <td>4</td>\n",
       "      <td>11</td>\n",
       "      <td>SCYL3</td>\n",
       "    </tr>\n",
       "    <tr>\n",
       "      <th>ENSG00000000460</th>\n",
       "      <td>0</td>\n",
       "      <td>0</td>\n",
       "      <td>14</td>\n",
       "      <td>4</td>\n",
       "      <td>5</td>\n",
       "      <td>0</td>\n",
       "      <td>0</td>\n",
       "      <td>6</td>\n",
       "      <td>4</td>\n",
       "      <td>0</td>\n",
       "      <td>...</td>\n",
       "      <td>0</td>\n",
       "      <td>3</td>\n",
       "      <td>0</td>\n",
       "      <td>1</td>\n",
       "      <td>0</td>\n",
       "      <td>1</td>\n",
       "      <td>4</td>\n",
       "      <td>0</td>\n",
       "      <td>10</td>\n",
       "      <td>C1orf112</td>\n",
       "    </tr>\n",
       "    <tr>\n",
       "      <th>...</th>\n",
       "      <td>...</td>\n",
       "      <td>...</td>\n",
       "      <td>...</td>\n",
       "      <td>...</td>\n",
       "      <td>...</td>\n",
       "      <td>...</td>\n",
       "      <td>...</td>\n",
       "      <td>...</td>\n",
       "      <td>...</td>\n",
       "      <td>...</td>\n",
       "      <td>...</td>\n",
       "      <td>...</td>\n",
       "      <td>...</td>\n",
       "      <td>...</td>\n",
       "      <td>...</td>\n",
       "      <td>...</td>\n",
       "      <td>...</td>\n",
       "      <td>...</td>\n",
       "      <td>...</td>\n",
       "      <td>...</td>\n",
       "      <td>...</td>\n",
       "    </tr>\n",
       "    <tr>\n",
       "      <th>ENSG00000273485</th>\n",
       "      <td>0</td>\n",
       "      <td>0</td>\n",
       "      <td>0</td>\n",
       "      <td>1</td>\n",
       "      <td>0</td>\n",
       "      <td>5</td>\n",
       "      <td>0</td>\n",
       "      <td>0</td>\n",
       "      <td>0</td>\n",
       "      <td>0</td>\n",
       "      <td>...</td>\n",
       "      <td>0</td>\n",
       "      <td>0</td>\n",
       "      <td>0</td>\n",
       "      <td>0</td>\n",
       "      <td>12</td>\n",
       "      <td>0</td>\n",
       "      <td>0</td>\n",
       "      <td>0</td>\n",
       "      <td>0</td>\n",
       "      <td>RP11-225H22.7</td>\n",
       "    </tr>\n",
       "    <tr>\n",
       "      <th>ENSG00000273486</th>\n",
       "      <td>0</td>\n",
       "      <td>0</td>\n",
       "      <td>0</td>\n",
       "      <td>0</td>\n",
       "      <td>1</td>\n",
       "      <td>0</td>\n",
       "      <td>0</td>\n",
       "      <td>0</td>\n",
       "      <td>0</td>\n",
       "      <td>0</td>\n",
       "      <td>...</td>\n",
       "      <td>2</td>\n",
       "      <td>0</td>\n",
       "      <td>3</td>\n",
       "      <td>0</td>\n",
       "      <td>2</td>\n",
       "      <td>5</td>\n",
       "      <td>1</td>\n",
       "      <td>0</td>\n",
       "      <td>0</td>\n",
       "      <td>RP11-731C17.2</td>\n",
       "    </tr>\n",
       "    <tr>\n",
       "      <th>ENSG00000273487</th>\n",
       "      <td>0</td>\n",
       "      <td>0</td>\n",
       "      <td>0</td>\n",
       "      <td>0</td>\n",
       "      <td>0</td>\n",
       "      <td>0</td>\n",
       "      <td>0</td>\n",
       "      <td>0</td>\n",
       "      <td>0</td>\n",
       "      <td>0</td>\n",
       "      <td>...</td>\n",
       "      <td>0</td>\n",
       "      <td>0</td>\n",
       "      <td>0</td>\n",
       "      <td>0</td>\n",
       "      <td>0</td>\n",
       "      <td>0</td>\n",
       "      <td>0</td>\n",
       "      <td>0</td>\n",
       "      <td>0</td>\n",
       "      <td>RP4-621B10.8</td>\n",
       "    </tr>\n",
       "    <tr>\n",
       "      <th>ENSG00000273489</th>\n",
       "      <td>0</td>\n",
       "      <td>0</td>\n",
       "      <td>0</td>\n",
       "      <td>2</td>\n",
       "      <td>0</td>\n",
       "      <td>1</td>\n",
       "      <td>8</td>\n",
       "      <td>0</td>\n",
       "      <td>0</td>\n",
       "      <td>0</td>\n",
       "      <td>...</td>\n",
       "      <td>0</td>\n",
       "      <td>0</td>\n",
       "      <td>0</td>\n",
       "      <td>0</td>\n",
       "      <td>0</td>\n",
       "      <td>0</td>\n",
       "      <td>0</td>\n",
       "      <td>0</td>\n",
       "      <td>0</td>\n",
       "      <td>RP11-180C16.1</td>\n",
       "    </tr>\n",
       "    <tr>\n",
       "      <th>ENSG00000273493</th>\n",
       "      <td>0</td>\n",
       "      <td>0</td>\n",
       "      <td>0</td>\n",
       "      <td>0</td>\n",
       "      <td>0</td>\n",
       "      <td>0</td>\n",
       "      <td>0</td>\n",
       "      <td>0</td>\n",
       "      <td>1</td>\n",
       "      <td>0</td>\n",
       "      <td>...</td>\n",
       "      <td>0</td>\n",
       "      <td>0</td>\n",
       "      <td>0</td>\n",
       "      <td>0</td>\n",
       "      <td>0</td>\n",
       "      <td>0</td>\n",
       "      <td>0</td>\n",
       "      <td>3</td>\n",
       "      <td>0</td>\n",
       "      <td>RP11-80H18.4</td>\n",
       "    </tr>\n",
       "  </tbody>\n",
       "</table>\n",
       "<p>30238 rows × 81 columns</p>\n",
       "</div>"
      ],
      "text/plain": [
       "                 Sample_1_preadi  Sample_2_preadi  Sample_3_preadi  \\\n",
       "Gene_ID                                                              \n",
       "ENSG00000000003               18               12                9   \n",
       "ENSG00000000005                0                0                0   \n",
       "ENSG00000000419               10                9                9   \n",
       "ENSG00000000457                0               11                0   \n",
       "ENSG00000000460                0                0               14   \n",
       "...                          ...              ...              ...   \n",
       "ENSG00000273485                0                0                0   \n",
       "ENSG00000273486                0                0                0   \n",
       "ENSG00000273487                0                0                0   \n",
       "ENSG00000273489                0                0                0   \n",
       "ENSG00000273493                0                0                0   \n",
       "\n",
       "                 Sample_4_preadi  Sample_5_preadi  Sample_6_preadi  \\\n",
       "Gene_ID                                                              \n",
       "ENSG00000000003               20                9               13   \n",
       "ENSG00000000005                2                0                0   \n",
       "ENSG00000000419                8               10               10   \n",
       "ENSG00000000457                6                2               12   \n",
       "ENSG00000000460                4                5                0   \n",
       "...                          ...              ...              ...   \n",
       "ENSG00000273485                1                0                5   \n",
       "ENSG00000273486                0                1                0   \n",
       "ENSG00000273487                0                0                0   \n",
       "ENSG00000273489                2                0                1   \n",
       "ENSG00000273493                0                0                0   \n",
       "\n",
       "                 Sample_7_preadi  Sample_8_preadi  Sample_9_preadi  \\\n",
       "Gene_ID                                                              \n",
       "ENSG00000000003               20                8                4   \n",
       "ENSG00000000005                0                0                0   \n",
       "ENSG00000000419                6               35               13   \n",
       "ENSG00000000457               11                1                2   \n",
       "ENSG00000000460                0                6                4   \n",
       "...                          ...              ...              ...   \n",
       "ENSG00000273485                0                0                0   \n",
       "ENSG00000273486                0                0                0   \n",
       "ENSG00000273487                0                0                0   \n",
       "ENSG00000273489                8                0                0   \n",
       "ENSG00000273493                0                0                1   \n",
       "\n",
       "                 Sample_10_preadi  ...  Sample_72_adipo  Sample_73_adipo  \\\n",
       "Gene_ID                            ...                                     \n",
       "ENSG00000000003                 7  ...                9               30   \n",
       "ENSG00000000005                 0  ...                1               29   \n",
       "ENSG00000000419                15  ...                9                9   \n",
       "ENSG00000000457                 0  ...                8                8   \n",
       "ENSG00000000460                 0  ...                0                3   \n",
       "...                           ...  ...              ...              ...   \n",
       "ENSG00000273485                 0  ...                0                0   \n",
       "ENSG00000273486                 0  ...                2                0   \n",
       "ENSG00000273487                 0  ...                0                0   \n",
       "ENSG00000273489                 0  ...                0                0   \n",
       "ENSG00000273493                 0  ...                0                0   \n",
       "\n",
       "                 Sample_74_adipo  Sample_75_adipo  Sample_76_adipo  \\\n",
       "Gene_ID                                                              \n",
       "ENSG00000000003                9               23               16   \n",
       "ENSG00000000005                2               22                3   \n",
       "ENSG00000000419               15                8                9   \n",
       "ENSG00000000457                5                6                0   \n",
       "ENSG00000000460                0                1                0   \n",
       "...                          ...              ...              ...   \n",
       "ENSG00000273485                0                0               12   \n",
       "ENSG00000273486                3                0                2   \n",
       "ENSG00000273487                0                0                0   \n",
       "ENSG00000273489                0                0                0   \n",
       "ENSG00000273493                0                0                0   \n",
       "\n",
       "                 Sample_77_adipo  Sample_78_adipo  Sample_79_adipo  \\\n",
       "Gene_ID                                                              \n",
       "ENSG00000000003                3               14               11   \n",
       "ENSG00000000005                0                2                0   \n",
       "ENSG00000000419                9                4               16   \n",
       "ENSG00000000457               12               13                4   \n",
       "ENSG00000000460                1                4                0   \n",
       "...                          ...              ...              ...   \n",
       "ENSG00000273485                0                0                0   \n",
       "ENSG00000273486                5                1                0   \n",
       "ENSG00000273487                0                0                0   \n",
       "ENSG00000273489                0                0                0   \n",
       "ENSG00000273493                0                0                3   \n",
       "\n",
       "                 Sample_80_adipo           Name  \n",
       "Gene_ID                                          \n",
       "ENSG00000000003               16         TSPAN6  \n",
       "ENSG00000000005                5           TNMD  \n",
       "ENSG00000000419                5           DPM1  \n",
       "ENSG00000000457               11          SCYL3  \n",
       "ENSG00000000460               10       C1orf112  \n",
       "...                          ...            ...  \n",
       "ENSG00000273485                0  RP11-225H22.7  \n",
       "ENSG00000273486                0  RP11-731C17.2  \n",
       "ENSG00000273487                0   RP4-621B10.8  \n",
       "ENSG00000273489                0  RP11-180C16.1  \n",
       "ENSG00000273493                0   RP11-80H18.4  \n",
       "\n",
       "[30238 rows x 81 columns]"
      ]
     },
     "execution_count": 130,
     "metadata": {},
     "output_type": "execute_result"
    }
   ],
   "source": [
    "transcriptomics_annotate= pd.concat([transcriptomics, gene_annotation3.Name], axis=1)\n",
    "transcriptomics_annotate\n"
   ]
  },
  {
   "cell_type": "code",
   "execution_count": 149,
   "metadata": {},
   "outputs": [],
   "source": [
    "def gene_name_to_ensembl_name(gene_name):\n",
    "    return transcriptomics_annotate[transcriptomics_annotate.Name == gene_name].index[0]\n",
    "\n",
    "def add_gene_column_to_pca_log_df(df, gene_name):   \n",
    "    ensembl_name = gene_name_to_ensembl_name(gene_name)\n",
    "    df[gene_name] = np.array(transcriptomics.loc[ensembl_name])\n",
    "    df[gene_name] = df[gene_name].astype(float)\n",
    "\n",
    "\n",
    "def top_marker_gene_plot (df, Gene_symbol):\n",
    "    add_gene_column_to_pca_log_df(df, Gene_symbol)\n",
    "    Ensembl_name = gene_name_to_ensembl_name(Gene_symbol)\n",
    "    \n",
    "    fig = plt.figure(figsize=(10,10))\n",
    "    fig.suptitle(\"Expression of the top marker gene \" + Ensembl_name + \" of gene symbol \" +Gene_symbol )\n",
    "\n",
    "    #ax1 = ax1.axes(projection =\"3d\")\n",
    "    ax1 = fig.add_subplot(2, 2, 2, projection='3d')\n",
    "    ax1.scatter3D(df['PCA1'], df['PCA2'], df['PCA3'], c =df[Gene_symbol])#, cmap=cmap)\n",
    "\n",
    "    ax2 = fig.add_subplot(2, 2, 1)\n",
    "    ax2=sns.scatterplot(data=df, x='PCA1', y='PCA2', hue=Gene_symbol, palette='RdBu')\n",
    "    norm = plt.Normalize(df[Gene_symbol].min(), df[Gene_symbol].max())\n",
    "    sm = plt.cm.ScalarMappable(cmap=\"RdBu\", norm=norm)\n",
    "    sm.set_array([])\n",
    "    # Remove the legend and add a colorbar\n",
    "    ax2.get_legend().remove()\n",
    "    ax2.figure.colorbar(sm)\n",
    "    \n",
    "    ax3 = fig.add_subplot(2, 2, 3)\n",
    "    ax3.set_title(\"Adipo\")\n",
    "    ax3 = sns.boxplot(data=df[df.groups == 'Adipo'], y=Gene_symbol, palette=\"RdYlGn\")\n",
    "    \n",
    "    \n",
    "    ax4 = fig.add_subplot(2, 2, 4)\n",
    "    ax4.set_title(\"PreAdipo\")\n",
    "    ax4 = sns.boxplot(data=df[df.groups == 'PreAdipo'], y=Gene_symbol, palette=\"Purples\")\n",
    "    \n",
    "    fig.show()"
   ]
  },
  {
   "cell_type": "code",
   "execution_count": 150,
   "metadata": {},
   "outputs": [
    {
     "name": "stderr",
     "output_type": "stream",
     "text": [
      "/var/folders/xd/10nyn_j13qs58rww11sjkgy80000gn/T/ipykernel_43878/634095684.py:39: UserWarning:\n",
      "\n",
      "Matplotlib is currently using module://matplotlib_inline.backend_inline, which is a non-GUI backend, so cannot show the figure.\n",
      "\n"
     ]
    },
    {
     "data": {
      "image/png": "[encoded data removed]",
      "text/plain": [
       "<Figure size 720x720 with 5 Axes>"
      ]
     },
     "metadata": {
      "needs_background": "light"
     },
     "output_type": "display_data"
    }
   ],
   "source": [
    "top_marker_gene_name = transcriptomics_annotate.loc[\"ENSG00000170323\"].Name\n",
    "top_marker_gene_plot(pca_output_log_df, top_marker_gene_name)"
   ]
  },
  {
   "cell_type": "code",
   "execution_count": 133,
   "metadata": {},
   "outputs": [],
   "source": [
    "Adipo_samples = {i for i in dict_sample if dict_sample[i]==\"Adipo\"}\n",
    "PreAdipo_samples = {i for i in dict_sample if dict_sample[i]==\"PreAdipo\"}"
   ]
  },
  {
   "attachments": {},
   "cell_type": "markdown",
   "metadata": {},
   "source": [
    "3.c)"
   ]
  },
  {
   "cell_type": "code",
   "execution_count": 147,
   "metadata": {},
   "outputs": [
    {
     "data": {
      "text/plain": [
       "'ENSG00000170323'"
      ]
     },
     "execution_count": 147,
     "metadata": {},
     "output_type": "execute_result"
    }
   ],
   "source": [
    "transcriptomics_annotate[transcriptomics_annotate.Name == \"FABP4\"].index[0]"
   ]
  },
  {
   "cell_type": "code",
   "execution_count": null,
   "metadata": {},
   "outputs": [],
   "source": [
    "\n",
    "    \n",
    "\n",
    "Ensembl_name = transcriptomics_annotate[transcriptomics_annotate.Name == Gene_symbol].index[0]"
   ]
  },
  {
   "cell_type": "code",
   "execution_count": 158,
   "metadata": {},
   "outputs": [],
   "source": [
    "def find_ranking_DE(gene_name):\n",
    "    return list(de_results.index).index(gene_name_to_ensembl_name(gene_name)) + 1"
   ]
  },
  {
   "cell_type": "code",
   "execution_count": 159,
   "metadata": {},
   "outputs": [
    {
     "data": {
      "text/plain": [
       "1"
      ]
     },
     "execution_count": 159,
     "metadata": {},
     "output_type": "execute_result"
    }
   ],
   "source": [
    "find_ranking_DE(\"FABP4\")"
   ]
  },
  {
   "cell_type": "code",
   "execution_count": 160,
   "metadata": {},
   "outputs": [
    {
     "data": {
      "text/plain": [
       "14"
      ]
     },
     "execution_count": 160,
     "metadata": {},
     "output_type": "execute_result"
    }
   ],
   "source": [
    "find_ranking_DE(\"ADIPOQ\")"
   ]
  },
  {
   "cell_type": "code",
   "execution_count": 161,
   "metadata": {},
   "outputs": [
    {
     "data": {
      "text/plain": [
       "151"
      ]
     },
     "execution_count": 161,
     "metadata": {},
     "output_type": "execute_result"
    }
   ],
   "source": [
    "find_ranking_DE(\"PPARG\")"
   ]
  },
  {
   "attachments": {},
   "cell_type": "markdown",
   "metadata": {},
   "source": [
    "What is the rank of Adipoq / Fabp4 / PParg in your list of DE genes?\n",
    "\n",
    "- Adipoq : 14 th\n",
    "- Fabp4 : 1 st\n",
    "- PParg : 151 st\n"
   ]
  },
  {
   "cell_type": "code",
   "execution_count": 134,
   "metadata": {},
   "outputs": [
    {
     "name": "stderr",
     "output_type": "stream",
     "text": [
      "/var/folders/xd/10nyn_j13qs58rww11sjkgy80000gn/T/ipykernel_43878/3190617717.py:36: UserWarning:\n",
      "\n",
      "Matplotlib is currently using module://matplotlib_inline.backend_inline, which is a non-GUI backend, so cannot show the figure.\n",
      "\n"
     ]
    },
    {
     "data": {
      "image/png": "[encoded data removed]",
      "text/plain": [
       "<Figure size 720x720 with 5 Axes>"
      ]
     },
     "metadata": {
      "needs_background": "light"
     },
     "output_type": "display_data"
    }
   ],
   "source": [
    "top_marker_gene_plot(pca_output_log_df,\"ADIPOQ\")"
   ]
  },
  {
   "cell_type": "code",
   "execution_count": 136,
   "metadata": {},
   "outputs": [
    {
     "name": "stderr",
     "output_type": "stream",
     "text": [
      "/var/folders/xd/10nyn_j13qs58rww11sjkgy80000gn/T/ipykernel_43878/3190617717.py:36: UserWarning:\n",
      "\n",
      "Matplotlib is currently using module://matplotlib_inline.backend_inline, which is a non-GUI backend, so cannot show the figure.\n",
      "\n"
     ]
    },
    {
     "data": {
      "image/png": "[encoded data removed]",
      "text/plain": [
       "<Figure size 720x720 with 5 Axes>"
      ]
     },
     "metadata": {
      "needs_background": "light"
     },
     "output_type": "display_data"
    }
   ],
   "source": [
    "top_marker_gene_plot(pca_output_log_df,\"PPARG\")"
   ]
  },
  {
   "cell_type": "code",
   "execution_count": null,
   "metadata": {},
   "outputs": [],
   "source": []
  },
  {
   "cell_type": "code",
   "execution_count": null,
   "metadata": {},
   "outputs": [],
   "source": []
  }
 ],
 "metadata": {
  "kernelspec": {
   "display_name": "base",
   "language": "python",
   "name": "python3"
  },
  "language_info": {
   "codemirror_mode": {
    "name": "ipython",
    "version": 3
   },
   "file_extension": ".py",
   "mimetype": "text/x-python",
   "name": "python",
   "nbconvert_exporter": "python",
   "pygments_lexer": "ipython3",
   "version": "3.8.13"
  },
  "orig_nbformat": 4,
  "vscode": {
   "interpreter": {
    "hash": "6e8bd448dc932e4d186e894d045358f83e7fab8ca8948cbea594b20f28a1be96"
   }
  }
 },
 "nbformat": 4,
 "nbformat_minor": 2
}
