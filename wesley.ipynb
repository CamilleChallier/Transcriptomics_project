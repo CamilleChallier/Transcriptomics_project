{
 "cells": [
  {
   "cell_type": "code",
   "execution_count": 312,
   "metadata": {},
   "outputs": [],
   "source": [
    "import pandas as pd\n",
    "import numpy as np\n",
    "import os\n",
    "import matplotlib.pyplot as plt\n",
    "import seaborn as sns\n",
    "import plotly.express as px\n",
    "from sklearn.decomposition import PCA\n",
    "from scipy.stats import ttest_ind\n",
    "import statsmodels.api as sm\n",
    "from statsmodels.stats.multitest import fdrcorrection, multipletests\n",
    "import statsmodels"
   ]
  },
  {
   "cell_type": "markdown",
   "metadata": {},
   "source": [
    "### 1. Load and visualize the data"
   ]
  },
  {
   "cell_type": "markdown",
   "metadata": {},
   "source": [
    "a) "
   ]
  },
  {
   "cell_type": "code",
   "execution_count": 313,
   "metadata": {},
   "outputs": [],
   "source": [
    "core_path = './data'\n",
    "transcriptomics = pd.read_csv( os.path.join(core_path, 'transcriptomics.dataset.txt'),sep= \"\\t\")"
   ]
  },
  {
   "cell_type": "code",
   "execution_count": 314,
   "metadata": {},
   "outputs": [
    {
     "data": {
      "text/html": [
       "<div>\n",
       "<style scoped>\n",
       "    .dataframe tbody tr th:only-of-type {\n",
       "        vertical-align: middle;\n",
       "    }\n",
       "\n",
       "    .dataframe tbody tr th {\n",
       "        vertical-align: top;\n",
       "    }\n",
       "\n",
       "    .dataframe thead th {\n",
       "        text-align: right;\n",
       "    }\n",
       "</style>\n",
       "<table border=\"1\" class=\"dataframe\">\n",
       "  <thead>\n",
       "    <tr style=\"text-align: right;\">\n",
       "      <th></th>\n",
       "      <th>Gene_ID</th>\n",
       "      <th>Sample_1_preadi</th>\n",
       "      <th>Sample_2_preadi</th>\n",
       "      <th>Sample_3_preadi</th>\n",
       "      <th>Sample_4_preadi</th>\n",
       "      <th>Sample_5_preadi</th>\n",
       "      <th>Sample_6_preadi</th>\n",
       "      <th>Sample_7_preadi</th>\n",
       "      <th>Sample_8_preadi</th>\n",
       "      <th>Sample_9_preadi</th>\n",
       "      <th>...</th>\n",
       "      <th>Sample_71_adipo</th>\n",
       "      <th>Sample_72_adipo</th>\n",
       "      <th>Sample_73_adipo</th>\n",
       "      <th>Sample_74_adipo</th>\n",
       "      <th>Sample_75_adipo</th>\n",
       "      <th>Sample_76_adipo</th>\n",
       "      <th>Sample_77_adipo</th>\n",
       "      <th>Sample_78_adipo</th>\n",
       "      <th>Sample_79_adipo</th>\n",
       "      <th>Sample_80_adipo</th>\n",
       "    </tr>\n",
       "  </thead>\n",
       "  <tbody>\n",
       "    <tr>\n",
       "      <th>0</th>\n",
       "      <td>ENSG00000000003</td>\n",
       "      <td>18</td>\n",
       "      <td>12</td>\n",
       "      <td>9</td>\n",
       "      <td>20</td>\n",
       "      <td>9</td>\n",
       "      <td>13</td>\n",
       "      <td>20</td>\n",
       "      <td>8</td>\n",
       "      <td>4</td>\n",
       "      <td>...</td>\n",
       "      <td>9</td>\n",
       "      <td>9</td>\n",
       "      <td>30</td>\n",
       "      <td>9</td>\n",
       "      <td>23</td>\n",
       "      <td>16</td>\n",
       "      <td>3</td>\n",
       "      <td>14</td>\n",
       "      <td>11</td>\n",
       "      <td>16</td>\n",
       "    </tr>\n",
       "    <tr>\n",
       "      <th>1</th>\n",
       "      <td>ENSG00000000005</td>\n",
       "      <td>0</td>\n",
       "      <td>0</td>\n",
       "      <td>0</td>\n",
       "      <td>2</td>\n",
       "      <td>0</td>\n",
       "      <td>0</td>\n",
       "      <td>0</td>\n",
       "      <td>0</td>\n",
       "      <td>0</td>\n",
       "      <td>...</td>\n",
       "      <td>0</td>\n",
       "      <td>1</td>\n",
       "      <td>29</td>\n",
       "      <td>2</td>\n",
       "      <td>22</td>\n",
       "      <td>3</td>\n",
       "      <td>0</td>\n",
       "      <td>2</td>\n",
       "      <td>0</td>\n",
       "      <td>5</td>\n",
       "    </tr>\n",
       "    <tr>\n",
       "      <th>2</th>\n",
       "      <td>ENSG00000000419</td>\n",
       "      <td>10</td>\n",
       "      <td>9</td>\n",
       "      <td>9</td>\n",
       "      <td>8</td>\n",
       "      <td>10</td>\n",
       "      <td>10</td>\n",
       "      <td>6</td>\n",
       "      <td>35</td>\n",
       "      <td>13</td>\n",
       "      <td>...</td>\n",
       "      <td>3</td>\n",
       "      <td>9</td>\n",
       "      <td>9</td>\n",
       "      <td>15</td>\n",
       "      <td>8</td>\n",
       "      <td>9</td>\n",
       "      <td>9</td>\n",
       "      <td>4</td>\n",
       "      <td>16</td>\n",
       "      <td>5</td>\n",
       "    </tr>\n",
       "    <tr>\n",
       "      <th>3</th>\n",
       "      <td>ENSG00000000457</td>\n",
       "      <td>0</td>\n",
       "      <td>11</td>\n",
       "      <td>0</td>\n",
       "      <td>6</td>\n",
       "      <td>2</td>\n",
       "      <td>12</td>\n",
       "      <td>11</td>\n",
       "      <td>1</td>\n",
       "      <td>2</td>\n",
       "      <td>...</td>\n",
       "      <td>9</td>\n",
       "      <td>8</td>\n",
       "      <td>8</td>\n",
       "      <td>5</td>\n",
       "      <td>6</td>\n",
       "      <td>0</td>\n",
       "      <td>12</td>\n",
       "      <td>13</td>\n",
       "      <td>4</td>\n",
       "      <td>11</td>\n",
       "    </tr>\n",
       "    <tr>\n",
       "      <th>4</th>\n",
       "      <td>ENSG00000000460</td>\n",
       "      <td>0</td>\n",
       "      <td>0</td>\n",
       "      <td>14</td>\n",
       "      <td>4</td>\n",
       "      <td>5</td>\n",
       "      <td>0</td>\n",
       "      <td>0</td>\n",
       "      <td>6</td>\n",
       "      <td>4</td>\n",
       "      <td>...</td>\n",
       "      <td>0</td>\n",
       "      <td>0</td>\n",
       "      <td>3</td>\n",
       "      <td>0</td>\n",
       "      <td>1</td>\n",
       "      <td>0</td>\n",
       "      <td>1</td>\n",
       "      <td>4</td>\n",
       "      <td>0</td>\n",
       "      <td>10</td>\n",
       "    </tr>\n",
       "    <tr>\n",
       "      <th>...</th>\n",
       "      <td>...</td>\n",
       "      <td>...</td>\n",
       "      <td>...</td>\n",
       "      <td>...</td>\n",
       "      <td>...</td>\n",
       "      <td>...</td>\n",
       "      <td>...</td>\n",
       "      <td>...</td>\n",
       "      <td>...</td>\n",
       "      <td>...</td>\n",
       "      <td>...</td>\n",
       "      <td>...</td>\n",
       "      <td>...</td>\n",
       "      <td>...</td>\n",
       "      <td>...</td>\n",
       "      <td>...</td>\n",
       "      <td>...</td>\n",
       "      <td>...</td>\n",
       "      <td>...</td>\n",
       "      <td>...</td>\n",
       "      <td>...</td>\n",
       "    </tr>\n",
       "    <tr>\n",
       "      <th>63672</th>\n",
       "      <td>ENSG00000273489</td>\n",
       "      <td>0</td>\n",
       "      <td>0</td>\n",
       "      <td>0</td>\n",
       "      <td>2</td>\n",
       "      <td>0</td>\n",
       "      <td>1</td>\n",
       "      <td>8</td>\n",
       "      <td>0</td>\n",
       "      <td>0</td>\n",
       "      <td>...</td>\n",
       "      <td>0</td>\n",
       "      <td>0</td>\n",
       "      <td>0</td>\n",
       "      <td>0</td>\n",
       "      <td>0</td>\n",
       "      <td>0</td>\n",
       "      <td>0</td>\n",
       "      <td>0</td>\n",
       "      <td>0</td>\n",
       "      <td>0</td>\n",
       "    </tr>\n",
       "    <tr>\n",
       "      <th>63673</th>\n",
       "      <td>ENSG00000273490</td>\n",
       "      <td>0</td>\n",
       "      <td>0</td>\n",
       "      <td>0</td>\n",
       "      <td>0</td>\n",
       "      <td>0</td>\n",
       "      <td>0</td>\n",
       "      <td>0</td>\n",
       "      <td>0</td>\n",
       "      <td>0</td>\n",
       "      <td>...</td>\n",
       "      <td>0</td>\n",
       "      <td>0</td>\n",
       "      <td>0</td>\n",
       "      <td>0</td>\n",
       "      <td>0</td>\n",
       "      <td>0</td>\n",
       "      <td>0</td>\n",
       "      <td>0</td>\n",
       "      <td>0</td>\n",
       "      <td>0</td>\n",
       "    </tr>\n",
       "    <tr>\n",
       "      <th>63674</th>\n",
       "      <td>ENSG00000273491</td>\n",
       "      <td>0</td>\n",
       "      <td>0</td>\n",
       "      <td>0</td>\n",
       "      <td>0</td>\n",
       "      <td>0</td>\n",
       "      <td>0</td>\n",
       "      <td>0</td>\n",
       "      <td>0</td>\n",
       "      <td>0</td>\n",
       "      <td>...</td>\n",
       "      <td>0</td>\n",
       "      <td>0</td>\n",
       "      <td>0</td>\n",
       "      <td>0</td>\n",
       "      <td>0</td>\n",
       "      <td>0</td>\n",
       "      <td>0</td>\n",
       "      <td>0</td>\n",
       "      <td>0</td>\n",
       "      <td>0</td>\n",
       "    </tr>\n",
       "    <tr>\n",
       "      <th>63675</th>\n",
       "      <td>ENSG00000273492</td>\n",
       "      <td>0</td>\n",
       "      <td>0</td>\n",
       "      <td>0</td>\n",
       "      <td>0</td>\n",
       "      <td>0</td>\n",
       "      <td>0</td>\n",
       "      <td>0</td>\n",
       "      <td>0</td>\n",
       "      <td>0</td>\n",
       "      <td>...</td>\n",
       "      <td>0</td>\n",
       "      <td>0</td>\n",
       "      <td>0</td>\n",
       "      <td>0</td>\n",
       "      <td>0</td>\n",
       "      <td>0</td>\n",
       "      <td>0</td>\n",
       "      <td>0</td>\n",
       "      <td>0</td>\n",
       "      <td>0</td>\n",
       "    </tr>\n",
       "    <tr>\n",
       "      <th>63676</th>\n",
       "      <td>ENSG00000273493</td>\n",
       "      <td>0</td>\n",
       "      <td>0</td>\n",
       "      <td>0</td>\n",
       "      <td>0</td>\n",
       "      <td>0</td>\n",
       "      <td>0</td>\n",
       "      <td>0</td>\n",
       "      <td>0</td>\n",
       "      <td>1</td>\n",
       "      <td>...</td>\n",
       "      <td>0</td>\n",
       "      <td>0</td>\n",
       "      <td>0</td>\n",
       "      <td>0</td>\n",
       "      <td>0</td>\n",
       "      <td>0</td>\n",
       "      <td>0</td>\n",
       "      <td>0</td>\n",
       "      <td>3</td>\n",
       "      <td>0</td>\n",
       "    </tr>\n",
       "  </tbody>\n",
       "</table>\n",
       "<p>63677 rows × 81 columns</p>\n",
       "</div>"
      ],
      "text/plain": [
       "               Gene_ID  Sample_1_preadi  Sample_2_preadi  Sample_3_preadi  \\\n",
       "0      ENSG00000000003               18               12                9   \n",
       "1      ENSG00000000005                0                0                0   \n",
       "2      ENSG00000000419               10                9                9   \n",
       "3      ENSG00000000457                0               11                0   \n",
       "4      ENSG00000000460                0                0               14   \n",
       "...                ...              ...              ...              ...   \n",
       "63672  ENSG00000273489                0                0                0   \n",
       "63673  ENSG00000273490                0                0                0   \n",
       "63674  ENSG00000273491                0                0                0   \n",
       "63675  ENSG00000273492                0                0                0   \n",
       "63676  ENSG00000273493                0                0                0   \n",
       "\n",
       "       Sample_4_preadi  Sample_5_preadi  Sample_6_preadi  Sample_7_preadi  \\\n",
       "0                   20                9               13               20   \n",
       "1                    2                0                0                0   \n",
       "2                    8               10               10                6   \n",
       "3                    6                2               12               11   \n",
       "4                    4                5                0                0   \n",
       "...                ...              ...              ...              ...   \n",
       "63672                2                0                1                8   \n",
       "63673                0                0                0                0   \n",
       "63674                0                0                0                0   \n",
       "63675                0                0                0                0   \n",
       "63676                0                0                0                0   \n",
       "\n",
       "       Sample_8_preadi  Sample_9_preadi  ...  Sample_71_adipo  \\\n",
       "0                    8                4  ...                9   \n",
       "1                    0                0  ...                0   \n",
       "2                   35               13  ...                3   \n",
       "3                    1                2  ...                9   \n",
       "4                    6                4  ...                0   \n",
       "...                ...              ...  ...              ...   \n",
       "63672                0                0  ...                0   \n",
       "63673                0                0  ...                0   \n",
       "63674                0                0  ...                0   \n",
       "63675                0                0  ...                0   \n",
       "63676                0                1  ...                0   \n",
       "\n",
       "       Sample_72_adipo  Sample_73_adipo  Sample_74_adipo  Sample_75_adipo  \\\n",
       "0                    9               30                9               23   \n",
       "1                    1               29                2               22   \n",
       "2                    9                9               15                8   \n",
       "3                    8                8                5                6   \n",
       "4                    0                3                0                1   \n",
       "...                ...              ...              ...              ...   \n",
       "63672                0                0                0                0   \n",
       "63673                0                0                0                0   \n",
       "63674                0                0                0                0   \n",
       "63675                0                0                0                0   \n",
       "63676                0                0                0                0   \n",
       "\n",
       "       Sample_76_adipo  Sample_77_adipo  Sample_78_adipo  Sample_79_adipo  \\\n",
       "0                   16                3               14               11   \n",
       "1                    3                0                2                0   \n",
       "2                    9                9                4               16   \n",
       "3                    0               12               13                4   \n",
       "4                    0                1                4                0   \n",
       "...                ...              ...              ...              ...   \n",
       "63672                0                0                0                0   \n",
       "63673                0                0                0                0   \n",
       "63674                0                0                0                0   \n",
       "63675                0                0                0                0   \n",
       "63676                0                0                0                3   \n",
       "\n",
       "       Sample_80_adipo  \n",
       "0                   16  \n",
       "1                    5  \n",
       "2                    5  \n",
       "3                   11  \n",
       "4                   10  \n",
       "...                ...  \n",
       "63672                0  \n",
       "63673                0  \n",
       "63674                0  \n",
       "63675                0  \n",
       "63676                0  \n",
       "\n",
       "[63677 rows x 81 columns]"
      ]
     },
     "execution_count": 314,
     "metadata": {},
     "output_type": "execute_result"
    }
   ],
   "source": [
    "transcriptomics.rename(columns = {\"Unnamed: 0\":'Gene_ID'})"
   ]
  },
  {
   "cell_type": "markdown",
   "metadata": {},
   "source": [
    "What is the size of the matrix ?"
   ]
  },
  {
   "cell_type": "markdown",
   "metadata": {},
   "source": [
    "63677 genes and 80 samples : matrix size 63677*80"
   ]
  },
  {
   "cell_type": "markdown",
   "metadata": {},
   "source": [
    "b) What type of data do you have? Normalized or raw read counts (integer)?"
   ]
  },
  {
   "cell_type": "markdown",
   "metadata": {},
   "source": [
    "number of transcripts, raw read counts"
   ]
  },
  {
   "cell_type": "markdown",
   "metadata": {},
   "source": [
    "c)"
   ]
  },
  {
   "cell_type": "code",
   "execution_count": 315,
   "metadata": {},
   "outputs": [
    {
     "name": "stdout",
     "output_type": "stream",
     "text": [
      "['Unnamed: 0', 'Sample_1_preadi', 'Sample_2_preadi', 'Sample_3_preadi', 'Sample_4_preadi', 'Sample_5_preadi', 'Sample_6_preadi', 'Sample_7_preadi', 'Sample_8_preadi', 'Sample_9_preadi', 'Sample_10_preadi', 'Sample_11_preadi', 'Sample_12_preadi', 'Sample_13_preadi', 'Sample_14_preadi', 'Sample_15_preadi', 'Sample_16_preadi', 'Sample_17_preadi', 'Sample_18_preadi', 'Sample_19_preadi', 'Sample_20_preadi', 'Sample_21_preadi', 'Sample_22_preadi', 'Sample_23_preadi', 'Sample_24_preadi', 'Sample_25_preadi', 'Sample_26_preadi', 'Sample_27_preadi', 'Sample_28_preadi', 'Sample_29_preadi', 'Sample_30_preadi', 'Sample_31_preadi', 'Sample_32_preadi', 'Sample_33_preadi', 'Sample_34_preadi', 'Sample_35_preadi', 'Sample_36_preadi', 'Sample_37_preadi', 'Sample_38_preadi', 'Sample_39_preadi', 'Sample_40_preadi', 'Sample_41_adipo', 'Sample_42_adipo', 'Sample_43_adipo', 'Sample_44_adipo', 'Sample_45_adipo', 'Sample_46_adipo', 'Sample_47_adipo', 'Sample_48_adipo', 'Sample_49_adipo', 'Sample_50_adipo', 'Sample_51_adipo', 'Sample_52_adipo', 'Sample_53_adipo', 'Sample_54_adipo', 'Sample_55_adipo', 'Sample_56_adipo', 'Sample_57_adipo', 'Sample_58_adipo', 'Sample_59_adipo', 'Sample_60_adipo', 'Sample_61_adipo', 'Sample_62_adipo', 'Sample_63_adipo', 'Sample_64_adipo', 'Sample_65_adipo', 'Sample_66_adipo', 'Sample_67_adipo', 'Sample_68_adipo', 'Sample_69_adipo', 'Sample_70_adipo', 'Sample_71_adipo', 'Sample_72_adipo', 'Sample_73_adipo', 'Sample_74_adipo', 'Sample_75_adipo', 'Sample_76_adipo', 'Sample_77_adipo', 'Sample_78_adipo', 'Sample_79_adipo', 'Sample_80_adipo']\n"
     ]
    }
   ],
   "source": [
    "print(list(transcriptomics.columns.values))"
   ]
  },
  {
   "cell_type": "code",
   "execution_count": 316,
   "metadata": {},
   "outputs": [],
   "source": [
    "dict_sample = {}\n",
    "for idx, sample in enumerate(transcriptomics.columns.values[1:]) :\n",
    "    if ( sample == \"Sample_{}_preadi\".format(idx+1) ):\n",
    "        #dict_sample[\"Sample_{}\".format(idx+1)]=\"PreAdipo\"\n",
    "        dict_sample[sample]=\"PreAdipo\"\n",
    "    else :\n",
    "        dict_sample[sample]=\"Adipo\"\n",
    "        "
   ]
  },
  {
   "cell_type": "code",
   "execution_count": 317,
   "metadata": {},
   "outputs": [
    {
     "data": {
      "text/html": [
       "<div>\n",
       "<style scoped>\n",
       "    .dataframe tbody tr th:only-of-type {\n",
       "        vertical-align: middle;\n",
       "    }\n",
       "\n",
       "    .dataframe tbody tr th {\n",
       "        vertical-align: top;\n",
       "    }\n",
       "\n",
       "    .dataframe thead th {\n",
       "        text-align: right;\n",
       "    }\n",
       "</style>\n",
       "<table border=\"1\" class=\"dataframe\">\n",
       "  <thead>\n",
       "    <tr style=\"text-align: right;\">\n",
       "      <th></th>\n",
       "      <th>Unnamed: 0</th>\n",
       "      <th>Sample_1_preadi</th>\n",
       "      <th>Sample_2_preadi</th>\n",
       "      <th>Sample_3_preadi</th>\n",
       "      <th>Sample_4_preadi</th>\n",
       "      <th>Sample_5_preadi</th>\n",
       "      <th>Sample_6_preadi</th>\n",
       "      <th>Sample_7_preadi</th>\n",
       "      <th>Sample_8_preadi</th>\n",
       "      <th>Sample_9_preadi</th>\n",
       "      <th>...</th>\n",
       "      <th>Sample_71_adipo</th>\n",
       "      <th>Sample_72_adipo</th>\n",
       "      <th>Sample_73_adipo</th>\n",
       "      <th>Sample_74_adipo</th>\n",
       "      <th>Sample_75_adipo</th>\n",
       "      <th>Sample_76_adipo</th>\n",
       "      <th>Sample_77_adipo</th>\n",
       "      <th>Sample_78_adipo</th>\n",
       "      <th>Sample_79_adipo</th>\n",
       "      <th>Sample_80_adipo</th>\n",
       "    </tr>\n",
       "  </thead>\n",
       "  <tbody>\n",
       "    <tr>\n",
       "      <th>0</th>\n",
       "      <td>ENSG00000000003</td>\n",
       "      <td>18</td>\n",
       "      <td>12</td>\n",
       "      <td>9</td>\n",
       "      <td>20</td>\n",
       "      <td>9</td>\n",
       "      <td>13</td>\n",
       "      <td>20</td>\n",
       "      <td>8</td>\n",
       "      <td>4</td>\n",
       "      <td>...</td>\n",
       "      <td>9</td>\n",
       "      <td>9</td>\n",
       "      <td>30</td>\n",
       "      <td>9</td>\n",
       "      <td>23</td>\n",
       "      <td>16</td>\n",
       "      <td>3</td>\n",
       "      <td>14</td>\n",
       "      <td>11</td>\n",
       "      <td>16</td>\n",
       "    </tr>\n",
       "    <tr>\n",
       "      <th>1</th>\n",
       "      <td>ENSG00000000005</td>\n",
       "      <td>0</td>\n",
       "      <td>0</td>\n",
       "      <td>0</td>\n",
       "      <td>2</td>\n",
       "      <td>0</td>\n",
       "      <td>0</td>\n",
       "      <td>0</td>\n",
       "      <td>0</td>\n",
       "      <td>0</td>\n",
       "      <td>...</td>\n",
       "      <td>0</td>\n",
       "      <td>1</td>\n",
       "      <td>29</td>\n",
       "      <td>2</td>\n",
       "      <td>22</td>\n",
       "      <td>3</td>\n",
       "      <td>0</td>\n",
       "      <td>2</td>\n",
       "      <td>0</td>\n",
       "      <td>5</td>\n",
       "    </tr>\n",
       "    <tr>\n",
       "      <th>2</th>\n",
       "      <td>ENSG00000000419</td>\n",
       "      <td>10</td>\n",
       "      <td>9</td>\n",
       "      <td>9</td>\n",
       "      <td>8</td>\n",
       "      <td>10</td>\n",
       "      <td>10</td>\n",
       "      <td>6</td>\n",
       "      <td>35</td>\n",
       "      <td>13</td>\n",
       "      <td>...</td>\n",
       "      <td>3</td>\n",
       "      <td>9</td>\n",
       "      <td>9</td>\n",
       "      <td>15</td>\n",
       "      <td>8</td>\n",
       "      <td>9</td>\n",
       "      <td>9</td>\n",
       "      <td>4</td>\n",
       "      <td>16</td>\n",
       "      <td>5</td>\n",
       "    </tr>\n",
       "    <tr>\n",
       "      <th>3</th>\n",
       "      <td>ENSG00000000457</td>\n",
       "      <td>0</td>\n",
       "      <td>11</td>\n",
       "      <td>0</td>\n",
       "      <td>6</td>\n",
       "      <td>2</td>\n",
       "      <td>12</td>\n",
       "      <td>11</td>\n",
       "      <td>1</td>\n",
       "      <td>2</td>\n",
       "      <td>...</td>\n",
       "      <td>9</td>\n",
       "      <td>8</td>\n",
       "      <td>8</td>\n",
       "      <td>5</td>\n",
       "      <td>6</td>\n",
       "      <td>0</td>\n",
       "      <td>12</td>\n",
       "      <td>13</td>\n",
       "      <td>4</td>\n",
       "      <td>11</td>\n",
       "    </tr>\n",
       "    <tr>\n",
       "      <th>4</th>\n",
       "      <td>ENSG00000000460</td>\n",
       "      <td>0</td>\n",
       "      <td>0</td>\n",
       "      <td>14</td>\n",
       "      <td>4</td>\n",
       "      <td>5</td>\n",
       "      <td>0</td>\n",
       "      <td>0</td>\n",
       "      <td>6</td>\n",
       "      <td>4</td>\n",
       "      <td>...</td>\n",
       "      <td>0</td>\n",
       "      <td>0</td>\n",
       "      <td>3</td>\n",
       "      <td>0</td>\n",
       "      <td>1</td>\n",
       "      <td>0</td>\n",
       "      <td>1</td>\n",
       "      <td>4</td>\n",
       "      <td>0</td>\n",
       "      <td>10</td>\n",
       "    </tr>\n",
       "    <tr>\n",
       "      <th>...</th>\n",
       "      <td>...</td>\n",
       "      <td>...</td>\n",
       "      <td>...</td>\n",
       "      <td>...</td>\n",
       "      <td>...</td>\n",
       "      <td>...</td>\n",
       "      <td>...</td>\n",
       "      <td>...</td>\n",
       "      <td>...</td>\n",
       "      <td>...</td>\n",
       "      <td>...</td>\n",
       "      <td>...</td>\n",
       "      <td>...</td>\n",
       "      <td>...</td>\n",
       "      <td>...</td>\n",
       "      <td>...</td>\n",
       "      <td>...</td>\n",
       "      <td>...</td>\n",
       "      <td>...</td>\n",
       "      <td>...</td>\n",
       "      <td>...</td>\n",
       "    </tr>\n",
       "    <tr>\n",
       "      <th>63672</th>\n",
       "      <td>ENSG00000273489</td>\n",
       "      <td>0</td>\n",
       "      <td>0</td>\n",
       "      <td>0</td>\n",
       "      <td>2</td>\n",
       "      <td>0</td>\n",
       "      <td>1</td>\n",
       "      <td>8</td>\n",
       "      <td>0</td>\n",
       "      <td>0</td>\n",
       "      <td>...</td>\n",
       "      <td>0</td>\n",
       "      <td>0</td>\n",
       "      <td>0</td>\n",
       "      <td>0</td>\n",
       "      <td>0</td>\n",
       "      <td>0</td>\n",
       "      <td>0</td>\n",
       "      <td>0</td>\n",
       "      <td>0</td>\n",
       "      <td>0</td>\n",
       "    </tr>\n",
       "    <tr>\n",
       "      <th>63673</th>\n",
       "      <td>ENSG00000273490</td>\n",
       "      <td>0</td>\n",
       "      <td>0</td>\n",
       "      <td>0</td>\n",
       "      <td>0</td>\n",
       "      <td>0</td>\n",
       "      <td>0</td>\n",
       "      <td>0</td>\n",
       "      <td>0</td>\n",
       "      <td>0</td>\n",
       "      <td>...</td>\n",
       "      <td>0</td>\n",
       "      <td>0</td>\n",
       "      <td>0</td>\n",
       "      <td>0</td>\n",
       "      <td>0</td>\n",
       "      <td>0</td>\n",
       "      <td>0</td>\n",
       "      <td>0</td>\n",
       "      <td>0</td>\n",
       "      <td>0</td>\n",
       "    </tr>\n",
       "    <tr>\n",
       "      <th>63674</th>\n",
       "      <td>ENSG00000273491</td>\n",
       "      <td>0</td>\n",
       "      <td>0</td>\n",
       "      <td>0</td>\n",
       "      <td>0</td>\n",
       "      <td>0</td>\n",
       "      <td>0</td>\n",
       "      <td>0</td>\n",
       "      <td>0</td>\n",
       "      <td>0</td>\n",
       "      <td>...</td>\n",
       "      <td>0</td>\n",
       "      <td>0</td>\n",
       "      <td>0</td>\n",
       "      <td>0</td>\n",
       "      <td>0</td>\n",
       "      <td>0</td>\n",
       "      <td>0</td>\n",
       "      <td>0</td>\n",
       "      <td>0</td>\n",
       "      <td>0</td>\n",
       "    </tr>\n",
       "    <tr>\n",
       "      <th>63675</th>\n",
       "      <td>ENSG00000273492</td>\n",
       "      <td>0</td>\n",
       "      <td>0</td>\n",
       "      <td>0</td>\n",
       "      <td>0</td>\n",
       "      <td>0</td>\n",
       "      <td>0</td>\n",
       "      <td>0</td>\n",
       "      <td>0</td>\n",
       "      <td>0</td>\n",
       "      <td>...</td>\n",
       "      <td>0</td>\n",
       "      <td>0</td>\n",
       "      <td>0</td>\n",
       "      <td>0</td>\n",
       "      <td>0</td>\n",
       "      <td>0</td>\n",
       "      <td>0</td>\n",
       "      <td>0</td>\n",
       "      <td>0</td>\n",
       "      <td>0</td>\n",
       "    </tr>\n",
       "    <tr>\n",
       "      <th>63676</th>\n",
       "      <td>ENSG00000273493</td>\n",
       "      <td>0</td>\n",
       "      <td>0</td>\n",
       "      <td>0</td>\n",
       "      <td>0</td>\n",
       "      <td>0</td>\n",
       "      <td>0</td>\n",
       "      <td>0</td>\n",
       "      <td>0</td>\n",
       "      <td>1</td>\n",
       "      <td>...</td>\n",
       "      <td>0</td>\n",
       "      <td>0</td>\n",
       "      <td>0</td>\n",
       "      <td>0</td>\n",
       "      <td>0</td>\n",
       "      <td>0</td>\n",
       "      <td>0</td>\n",
       "      <td>0</td>\n",
       "      <td>3</td>\n",
       "      <td>0</td>\n",
       "    </tr>\n",
       "  </tbody>\n",
       "</table>\n",
       "<p>63677 rows × 81 columns</p>\n",
       "</div>"
      ],
      "text/plain": [
       "            Unnamed: 0  Sample_1_preadi  Sample_2_preadi  Sample_3_preadi  \\\n",
       "0      ENSG00000000003               18               12                9   \n",
       "1      ENSG00000000005                0                0                0   \n",
       "2      ENSG00000000419               10                9                9   \n",
       "3      ENSG00000000457                0               11                0   \n",
       "4      ENSG00000000460                0                0               14   \n",
       "...                ...              ...              ...              ...   \n",
       "63672  ENSG00000273489                0                0                0   \n",
       "63673  ENSG00000273490                0                0                0   \n",
       "63674  ENSG00000273491                0                0                0   \n",
       "63675  ENSG00000273492                0                0                0   \n",
       "63676  ENSG00000273493                0                0                0   \n",
       "\n",
       "       Sample_4_preadi  Sample_5_preadi  Sample_6_preadi  Sample_7_preadi  \\\n",
       "0                   20                9               13               20   \n",
       "1                    2                0                0                0   \n",
       "2                    8               10               10                6   \n",
       "3                    6                2               12               11   \n",
       "4                    4                5                0                0   \n",
       "...                ...              ...              ...              ...   \n",
       "63672                2                0                1                8   \n",
       "63673                0                0                0                0   \n",
       "63674                0                0                0                0   \n",
       "63675                0                0                0                0   \n",
       "63676                0                0                0                0   \n",
       "\n",
       "       Sample_8_preadi  Sample_9_preadi  ...  Sample_71_adipo  \\\n",
       "0                    8                4  ...                9   \n",
       "1                    0                0  ...                0   \n",
       "2                   35               13  ...                3   \n",
       "3                    1                2  ...                9   \n",
       "4                    6                4  ...                0   \n",
       "...                ...              ...  ...              ...   \n",
       "63672                0                0  ...                0   \n",
       "63673                0                0  ...                0   \n",
       "63674                0                0  ...                0   \n",
       "63675                0                0  ...                0   \n",
       "63676                0                1  ...                0   \n",
       "\n",
       "       Sample_72_adipo  Sample_73_adipo  Sample_74_adipo  Sample_75_adipo  \\\n",
       "0                    9               30                9               23   \n",
       "1                    1               29                2               22   \n",
       "2                    9                9               15                8   \n",
       "3                    8                8                5                6   \n",
       "4                    0                3                0                1   \n",
       "...                ...              ...              ...              ...   \n",
       "63672                0                0                0                0   \n",
       "63673                0                0                0                0   \n",
       "63674                0                0                0                0   \n",
       "63675                0                0                0                0   \n",
       "63676                0                0                0                0   \n",
       "\n",
       "       Sample_76_adipo  Sample_77_adipo  Sample_78_adipo  Sample_79_adipo  \\\n",
       "0                   16                3               14               11   \n",
       "1                    3                0                2                0   \n",
       "2                    9                9                4               16   \n",
       "3                    0               12               13                4   \n",
       "4                    0                1                4                0   \n",
       "...                ...              ...              ...              ...   \n",
       "63672                0                0                0                0   \n",
       "63673                0                0                0                0   \n",
       "63674                0                0                0                0   \n",
       "63675                0                0                0                0   \n",
       "63676                0                0                0                3   \n",
       "\n",
       "       Sample_80_adipo  \n",
       "0                   16  \n",
       "1                    5  \n",
       "2                    5  \n",
       "3                   11  \n",
       "4                   10  \n",
       "...                ...  \n",
       "63672                0  \n",
       "63673                0  \n",
       "63674                0  \n",
       "63675                0  \n",
       "63676                0  \n",
       "\n",
       "[63677 rows x 81 columns]"
      ]
     },
     "execution_count": 317,
     "metadata": {},
     "output_type": "execute_result"
    }
   ],
   "source": [
    "transcriptomics"
   ]
  },
  {
   "cell_type": "markdown",
   "metadata": {},
   "source": [
    "d)"
   ]
  },
  {
   "cell_type": "code",
   "execution_count": 318,
   "metadata": {},
   "outputs": [
    {
     "data": {
      "text/html": [
       "<div>\n",
       "<style scoped>\n",
       "    .dataframe tbody tr th:only-of-type {\n",
       "        vertical-align: middle;\n",
       "    }\n",
       "\n",
       "    .dataframe tbody tr th {\n",
       "        vertical-align: top;\n",
       "    }\n",
       "\n",
       "    .dataframe thead th {\n",
       "        text-align: right;\n",
       "    }\n",
       "</style>\n",
       "<table border=\"1\" class=\"dataframe\">\n",
       "  <thead>\n",
       "    <tr style=\"text-align: right;\">\n",
       "      <th></th>\n",
       "      <th>Sample_1_preadi</th>\n",
       "      <th>Sample_2_preadi</th>\n",
       "      <th>Sample_3_preadi</th>\n",
       "      <th>Sample_4_preadi</th>\n",
       "      <th>Sample_5_preadi</th>\n",
       "      <th>Sample_6_preadi</th>\n",
       "      <th>Sample_7_preadi</th>\n",
       "      <th>Sample_8_preadi</th>\n",
       "      <th>Sample_9_preadi</th>\n",
       "      <th>Sample_10_preadi</th>\n",
       "      <th>...</th>\n",
       "      <th>Sample_71_adipo</th>\n",
       "      <th>Sample_72_adipo</th>\n",
       "      <th>Sample_73_adipo</th>\n",
       "      <th>Sample_74_adipo</th>\n",
       "      <th>Sample_75_adipo</th>\n",
       "      <th>Sample_76_adipo</th>\n",
       "      <th>Sample_77_adipo</th>\n",
       "      <th>Sample_78_adipo</th>\n",
       "      <th>Sample_79_adipo</th>\n",
       "      <th>Sample_80_adipo</th>\n",
       "    </tr>\n",
       "  </thead>\n",
       "  <tbody>\n",
       "    <tr>\n",
       "      <th>0</th>\n",
       "      <td>18</td>\n",
       "      <td>12</td>\n",
       "      <td>9</td>\n",
       "      <td>20</td>\n",
       "      <td>9</td>\n",
       "      <td>13</td>\n",
       "      <td>20</td>\n",
       "      <td>8</td>\n",
       "      <td>4</td>\n",
       "      <td>7</td>\n",
       "      <td>...</td>\n",
       "      <td>9</td>\n",
       "      <td>9</td>\n",
       "      <td>30</td>\n",
       "      <td>9</td>\n",
       "      <td>23</td>\n",
       "      <td>16</td>\n",
       "      <td>3</td>\n",
       "      <td>14</td>\n",
       "      <td>11</td>\n",
       "      <td>16</td>\n",
       "    </tr>\n",
       "    <tr>\n",
       "      <th>1</th>\n",
       "      <td>0</td>\n",
       "      <td>0</td>\n",
       "      <td>0</td>\n",
       "      <td>2</td>\n",
       "      <td>0</td>\n",
       "      <td>0</td>\n",
       "      <td>0</td>\n",
       "      <td>0</td>\n",
       "      <td>0</td>\n",
       "      <td>0</td>\n",
       "      <td>...</td>\n",
       "      <td>0</td>\n",
       "      <td>1</td>\n",
       "      <td>29</td>\n",
       "      <td>2</td>\n",
       "      <td>22</td>\n",
       "      <td>3</td>\n",
       "      <td>0</td>\n",
       "      <td>2</td>\n",
       "      <td>0</td>\n",
       "      <td>5</td>\n",
       "    </tr>\n",
       "    <tr>\n",
       "      <th>2</th>\n",
       "      <td>10</td>\n",
       "      <td>9</td>\n",
       "      <td>9</td>\n",
       "      <td>8</td>\n",
       "      <td>10</td>\n",
       "      <td>10</td>\n",
       "      <td>6</td>\n",
       "      <td>35</td>\n",
       "      <td>13</td>\n",
       "      <td>15</td>\n",
       "      <td>...</td>\n",
       "      <td>3</td>\n",
       "      <td>9</td>\n",
       "      <td>9</td>\n",
       "      <td>15</td>\n",
       "      <td>8</td>\n",
       "      <td>9</td>\n",
       "      <td>9</td>\n",
       "      <td>4</td>\n",
       "      <td>16</td>\n",
       "      <td>5</td>\n",
       "    </tr>\n",
       "    <tr>\n",
       "      <th>3</th>\n",
       "      <td>0</td>\n",
       "      <td>11</td>\n",
       "      <td>0</td>\n",
       "      <td>6</td>\n",
       "      <td>2</td>\n",
       "      <td>12</td>\n",
       "      <td>11</td>\n",
       "      <td>1</td>\n",
       "      <td>2</td>\n",
       "      <td>0</td>\n",
       "      <td>...</td>\n",
       "      <td>9</td>\n",
       "      <td>8</td>\n",
       "      <td>8</td>\n",
       "      <td>5</td>\n",
       "      <td>6</td>\n",
       "      <td>0</td>\n",
       "      <td>12</td>\n",
       "      <td>13</td>\n",
       "      <td>4</td>\n",
       "      <td>11</td>\n",
       "    </tr>\n",
       "    <tr>\n",
       "      <th>4</th>\n",
       "      <td>0</td>\n",
       "      <td>0</td>\n",
       "      <td>14</td>\n",
       "      <td>4</td>\n",
       "      <td>5</td>\n",
       "      <td>0</td>\n",
       "      <td>0</td>\n",
       "      <td>6</td>\n",
       "      <td>4</td>\n",
       "      <td>0</td>\n",
       "      <td>...</td>\n",
       "      <td>0</td>\n",
       "      <td>0</td>\n",
       "      <td>3</td>\n",
       "      <td>0</td>\n",
       "      <td>1</td>\n",
       "      <td>0</td>\n",
       "      <td>1</td>\n",
       "      <td>4</td>\n",
       "      <td>0</td>\n",
       "      <td>10</td>\n",
       "    </tr>\n",
       "    <tr>\n",
       "      <th>...</th>\n",
       "      <td>...</td>\n",
       "      <td>...</td>\n",
       "      <td>...</td>\n",
       "      <td>...</td>\n",
       "      <td>...</td>\n",
       "      <td>...</td>\n",
       "      <td>...</td>\n",
       "      <td>...</td>\n",
       "      <td>...</td>\n",
       "      <td>...</td>\n",
       "      <td>...</td>\n",
       "      <td>...</td>\n",
       "      <td>...</td>\n",
       "      <td>...</td>\n",
       "      <td>...</td>\n",
       "      <td>...</td>\n",
       "      <td>...</td>\n",
       "      <td>...</td>\n",
       "      <td>...</td>\n",
       "      <td>...</td>\n",
       "      <td>...</td>\n",
       "    </tr>\n",
       "    <tr>\n",
       "      <th>63672</th>\n",
       "      <td>0</td>\n",
       "      <td>0</td>\n",
       "      <td>0</td>\n",
       "      <td>2</td>\n",
       "      <td>0</td>\n",
       "      <td>1</td>\n",
       "      <td>8</td>\n",
       "      <td>0</td>\n",
       "      <td>0</td>\n",
       "      <td>0</td>\n",
       "      <td>...</td>\n",
       "      <td>0</td>\n",
       "      <td>0</td>\n",
       "      <td>0</td>\n",
       "      <td>0</td>\n",
       "      <td>0</td>\n",
       "      <td>0</td>\n",
       "      <td>0</td>\n",
       "      <td>0</td>\n",
       "      <td>0</td>\n",
       "      <td>0</td>\n",
       "    </tr>\n",
       "    <tr>\n",
       "      <th>63673</th>\n",
       "      <td>0</td>\n",
       "      <td>0</td>\n",
       "      <td>0</td>\n",
       "      <td>0</td>\n",
       "      <td>0</td>\n",
       "      <td>0</td>\n",
       "      <td>0</td>\n",
       "      <td>0</td>\n",
       "      <td>0</td>\n",
       "      <td>0</td>\n",
       "      <td>...</td>\n",
       "      <td>0</td>\n",
       "      <td>0</td>\n",
       "      <td>0</td>\n",
       "      <td>0</td>\n",
       "      <td>0</td>\n",
       "      <td>0</td>\n",
       "      <td>0</td>\n",
       "      <td>0</td>\n",
       "      <td>0</td>\n",
       "      <td>0</td>\n",
       "    </tr>\n",
       "    <tr>\n",
       "      <th>63674</th>\n",
       "      <td>0</td>\n",
       "      <td>0</td>\n",
       "      <td>0</td>\n",
       "      <td>0</td>\n",
       "      <td>0</td>\n",
       "      <td>0</td>\n",
       "      <td>0</td>\n",
       "      <td>0</td>\n",
       "      <td>0</td>\n",
       "      <td>0</td>\n",
       "      <td>...</td>\n",
       "      <td>0</td>\n",
       "      <td>0</td>\n",
       "      <td>0</td>\n",
       "      <td>0</td>\n",
       "      <td>0</td>\n",
       "      <td>0</td>\n",
       "      <td>0</td>\n",
       "      <td>0</td>\n",
       "      <td>0</td>\n",
       "      <td>0</td>\n",
       "    </tr>\n",
       "    <tr>\n",
       "      <th>63675</th>\n",
       "      <td>0</td>\n",
       "      <td>0</td>\n",
       "      <td>0</td>\n",
       "      <td>0</td>\n",
       "      <td>0</td>\n",
       "      <td>0</td>\n",
       "      <td>0</td>\n",
       "      <td>0</td>\n",
       "      <td>0</td>\n",
       "      <td>0</td>\n",
       "      <td>...</td>\n",
       "      <td>0</td>\n",
       "      <td>0</td>\n",
       "      <td>0</td>\n",
       "      <td>0</td>\n",
       "      <td>0</td>\n",
       "      <td>0</td>\n",
       "      <td>0</td>\n",
       "      <td>0</td>\n",
       "      <td>0</td>\n",
       "      <td>0</td>\n",
       "    </tr>\n",
       "    <tr>\n",
       "      <th>63676</th>\n",
       "      <td>0</td>\n",
       "      <td>0</td>\n",
       "      <td>0</td>\n",
       "      <td>0</td>\n",
       "      <td>0</td>\n",
       "      <td>0</td>\n",
       "      <td>0</td>\n",
       "      <td>0</td>\n",
       "      <td>1</td>\n",
       "      <td>0</td>\n",
       "      <td>...</td>\n",
       "      <td>0</td>\n",
       "      <td>0</td>\n",
       "      <td>0</td>\n",
       "      <td>0</td>\n",
       "      <td>0</td>\n",
       "      <td>0</td>\n",
       "      <td>0</td>\n",
       "      <td>0</td>\n",
       "      <td>3</td>\n",
       "      <td>0</td>\n",
       "    </tr>\n",
       "  </tbody>\n",
       "</table>\n",
       "<p>63677 rows × 80 columns</p>\n",
       "</div>"
      ],
      "text/plain": [
       "       Sample_1_preadi  Sample_2_preadi  Sample_3_preadi  Sample_4_preadi  \\\n",
       "0                   18               12                9               20   \n",
       "1                    0                0                0                2   \n",
       "2                   10                9                9                8   \n",
       "3                    0               11                0                6   \n",
       "4                    0                0               14                4   \n",
       "...                ...              ...              ...              ...   \n",
       "63672                0                0                0                2   \n",
       "63673                0                0                0                0   \n",
       "63674                0                0                0                0   \n",
       "63675                0                0                0                0   \n",
       "63676                0                0                0                0   \n",
       "\n",
       "       Sample_5_preadi  Sample_6_preadi  Sample_7_preadi  Sample_8_preadi  \\\n",
       "0                    9               13               20                8   \n",
       "1                    0                0                0                0   \n",
       "2                   10               10                6               35   \n",
       "3                    2               12               11                1   \n",
       "4                    5                0                0                6   \n",
       "...                ...              ...              ...              ...   \n",
       "63672                0                1                8                0   \n",
       "63673                0                0                0                0   \n",
       "63674                0                0                0                0   \n",
       "63675                0                0                0                0   \n",
       "63676                0                0                0                0   \n",
       "\n",
       "       Sample_9_preadi  Sample_10_preadi  ...  Sample_71_adipo  \\\n",
       "0                    4                 7  ...                9   \n",
       "1                    0                 0  ...                0   \n",
       "2                   13                15  ...                3   \n",
       "3                    2                 0  ...                9   \n",
       "4                    4                 0  ...                0   \n",
       "...                ...               ...  ...              ...   \n",
       "63672                0                 0  ...                0   \n",
       "63673                0                 0  ...                0   \n",
       "63674                0                 0  ...                0   \n",
       "63675                0                 0  ...                0   \n",
       "63676                1                 0  ...                0   \n",
       "\n",
       "       Sample_72_adipo  Sample_73_adipo  Sample_74_adipo  Sample_75_adipo  \\\n",
       "0                    9               30                9               23   \n",
       "1                    1               29                2               22   \n",
       "2                    9                9               15                8   \n",
       "3                    8                8                5                6   \n",
       "4                    0                3                0                1   \n",
       "...                ...              ...              ...              ...   \n",
       "63672                0                0                0                0   \n",
       "63673                0                0                0                0   \n",
       "63674                0                0                0                0   \n",
       "63675                0                0                0                0   \n",
       "63676                0                0                0                0   \n",
       "\n",
       "       Sample_76_adipo  Sample_77_adipo  Sample_78_adipo  Sample_79_adipo  \\\n",
       "0                   16                3               14               11   \n",
       "1                    3                0                2                0   \n",
       "2                    9                9                4               16   \n",
       "3                    0               12               13                4   \n",
       "4                    0                1                4                0   \n",
       "...                ...              ...              ...              ...   \n",
       "63672                0                0                0                0   \n",
       "63673                0                0                0                0   \n",
       "63674                0                0                0                0   \n",
       "63675                0                0                0                0   \n",
       "63676                0                0                0                3   \n",
       "\n",
       "       Sample_80_adipo  \n",
       "0                   16  \n",
       "1                    5  \n",
       "2                    5  \n",
       "3                   11  \n",
       "4                   10  \n",
       "...                ...  \n",
       "63672                0  \n",
       "63673                0  \n",
       "63674                0  \n",
       "63675                0  \n",
       "63676                0  \n",
       "\n",
       "[63677 rows x 80 columns]"
      ]
     },
     "execution_count": 318,
     "metadata": {},
     "output_type": "execute_result"
    }
   ],
   "source": [
    "transcriptomics.iloc[:,1:]"
   ]
  },
  {
   "cell_type": "code",
   "execution_count": 319,
   "metadata": {},
   "outputs": [
    {
     "data": {
      "text/plain": [
       "0         True\n",
       "1         True\n",
       "2         True\n",
       "3         True\n",
       "4         True\n",
       "         ...  \n",
       "63672     True\n",
       "63673    False\n",
       "63674    False\n",
       "63675    False\n",
       "63676     True\n",
       "Length: 63677, dtype: bool"
      ]
     },
     "execution_count": 319,
     "metadata": {},
     "output_type": "execute_result"
    }
   ],
   "source": [
    "(transcriptomics.iloc[:,1:] != 0).any(axis=1)"
   ]
  },
  {
   "cell_type": "code",
   "execution_count": 320,
   "metadata": {},
   "outputs": [],
   "source": [
    "transcriptomics = transcriptomics.loc[(transcriptomics.iloc[:,1:] != 0).any(axis=1),:]"
   ]
  },
  {
   "cell_type": "code",
   "execution_count": 321,
   "metadata": {},
   "outputs": [
    {
     "data": {
      "text/html": [
       "<div>\n",
       "<style scoped>\n",
       "    .dataframe tbody tr th:only-of-type {\n",
       "        vertical-align: middle;\n",
       "    }\n",
       "\n",
       "    .dataframe tbody tr th {\n",
       "        vertical-align: top;\n",
       "    }\n",
       "\n",
       "    .dataframe thead th {\n",
       "        text-align: right;\n",
       "    }\n",
       "</style>\n",
       "<table border=\"1\" class=\"dataframe\">\n",
       "  <thead>\n",
       "    <tr style=\"text-align: right;\">\n",
       "      <th></th>\n",
       "      <th>Unnamed: 0</th>\n",
       "      <th>Sample_1_preadi</th>\n",
       "      <th>Sample_2_preadi</th>\n",
       "      <th>Sample_3_preadi</th>\n",
       "      <th>Sample_4_preadi</th>\n",
       "      <th>Sample_5_preadi</th>\n",
       "      <th>Sample_6_preadi</th>\n",
       "      <th>Sample_7_preadi</th>\n",
       "      <th>Sample_8_preadi</th>\n",
       "      <th>Sample_9_preadi</th>\n",
       "      <th>...</th>\n",
       "      <th>Sample_71_adipo</th>\n",
       "      <th>Sample_72_adipo</th>\n",
       "      <th>Sample_73_adipo</th>\n",
       "      <th>Sample_74_adipo</th>\n",
       "      <th>Sample_75_adipo</th>\n",
       "      <th>Sample_76_adipo</th>\n",
       "      <th>Sample_77_adipo</th>\n",
       "      <th>Sample_78_adipo</th>\n",
       "      <th>Sample_79_adipo</th>\n",
       "      <th>Sample_80_adipo</th>\n",
       "    </tr>\n",
       "  </thead>\n",
       "  <tbody>\n",
       "    <tr>\n",
       "      <th>0</th>\n",
       "      <td>ENSG00000000003</td>\n",
       "      <td>18</td>\n",
       "      <td>12</td>\n",
       "      <td>9</td>\n",
       "      <td>20</td>\n",
       "      <td>9</td>\n",
       "      <td>13</td>\n",
       "      <td>20</td>\n",
       "      <td>8</td>\n",
       "      <td>4</td>\n",
       "      <td>...</td>\n",
       "      <td>9</td>\n",
       "      <td>9</td>\n",
       "      <td>30</td>\n",
       "      <td>9</td>\n",
       "      <td>23</td>\n",
       "      <td>16</td>\n",
       "      <td>3</td>\n",
       "      <td>14</td>\n",
       "      <td>11</td>\n",
       "      <td>16</td>\n",
       "    </tr>\n",
       "    <tr>\n",
       "      <th>1</th>\n",
       "      <td>ENSG00000000005</td>\n",
       "      <td>0</td>\n",
       "      <td>0</td>\n",
       "      <td>0</td>\n",
       "      <td>2</td>\n",
       "      <td>0</td>\n",
       "      <td>0</td>\n",
       "      <td>0</td>\n",
       "      <td>0</td>\n",
       "      <td>0</td>\n",
       "      <td>...</td>\n",
       "      <td>0</td>\n",
       "      <td>1</td>\n",
       "      <td>29</td>\n",
       "      <td>2</td>\n",
       "      <td>22</td>\n",
       "      <td>3</td>\n",
       "      <td>0</td>\n",
       "      <td>2</td>\n",
       "      <td>0</td>\n",
       "      <td>5</td>\n",
       "    </tr>\n",
       "    <tr>\n",
       "      <th>2</th>\n",
       "      <td>ENSG00000000419</td>\n",
       "      <td>10</td>\n",
       "      <td>9</td>\n",
       "      <td>9</td>\n",
       "      <td>8</td>\n",
       "      <td>10</td>\n",
       "      <td>10</td>\n",
       "      <td>6</td>\n",
       "      <td>35</td>\n",
       "      <td>13</td>\n",
       "      <td>...</td>\n",
       "      <td>3</td>\n",
       "      <td>9</td>\n",
       "      <td>9</td>\n",
       "      <td>15</td>\n",
       "      <td>8</td>\n",
       "      <td>9</td>\n",
       "      <td>9</td>\n",
       "      <td>4</td>\n",
       "      <td>16</td>\n",
       "      <td>5</td>\n",
       "    </tr>\n",
       "    <tr>\n",
       "      <th>3</th>\n",
       "      <td>ENSG00000000457</td>\n",
       "      <td>0</td>\n",
       "      <td>11</td>\n",
       "      <td>0</td>\n",
       "      <td>6</td>\n",
       "      <td>2</td>\n",
       "      <td>12</td>\n",
       "      <td>11</td>\n",
       "      <td>1</td>\n",
       "      <td>2</td>\n",
       "      <td>...</td>\n",
       "      <td>9</td>\n",
       "      <td>8</td>\n",
       "      <td>8</td>\n",
       "      <td>5</td>\n",
       "      <td>6</td>\n",
       "      <td>0</td>\n",
       "      <td>12</td>\n",
       "      <td>13</td>\n",
       "      <td>4</td>\n",
       "      <td>11</td>\n",
       "    </tr>\n",
       "    <tr>\n",
       "      <th>4</th>\n",
       "      <td>ENSG00000000460</td>\n",
       "      <td>0</td>\n",
       "      <td>0</td>\n",
       "      <td>14</td>\n",
       "      <td>4</td>\n",
       "      <td>5</td>\n",
       "      <td>0</td>\n",
       "      <td>0</td>\n",
       "      <td>6</td>\n",
       "      <td>4</td>\n",
       "      <td>...</td>\n",
       "      <td>0</td>\n",
       "      <td>0</td>\n",
       "      <td>3</td>\n",
       "      <td>0</td>\n",
       "      <td>1</td>\n",
       "      <td>0</td>\n",
       "      <td>1</td>\n",
       "      <td>4</td>\n",
       "      <td>0</td>\n",
       "      <td>10</td>\n",
       "    </tr>\n",
       "    <tr>\n",
       "      <th>...</th>\n",
       "      <td>...</td>\n",
       "      <td>...</td>\n",
       "      <td>...</td>\n",
       "      <td>...</td>\n",
       "      <td>...</td>\n",
       "      <td>...</td>\n",
       "      <td>...</td>\n",
       "      <td>...</td>\n",
       "      <td>...</td>\n",
       "      <td>...</td>\n",
       "      <td>...</td>\n",
       "      <td>...</td>\n",
       "      <td>...</td>\n",
       "      <td>...</td>\n",
       "      <td>...</td>\n",
       "      <td>...</td>\n",
       "      <td>...</td>\n",
       "      <td>...</td>\n",
       "      <td>...</td>\n",
       "      <td>...</td>\n",
       "      <td>...</td>\n",
       "    </tr>\n",
       "    <tr>\n",
       "      <th>63668</th>\n",
       "      <td>ENSG00000273485</td>\n",
       "      <td>0</td>\n",
       "      <td>0</td>\n",
       "      <td>0</td>\n",
       "      <td>1</td>\n",
       "      <td>0</td>\n",
       "      <td>5</td>\n",
       "      <td>0</td>\n",
       "      <td>0</td>\n",
       "      <td>0</td>\n",
       "      <td>...</td>\n",
       "      <td>0</td>\n",
       "      <td>0</td>\n",
       "      <td>0</td>\n",
       "      <td>0</td>\n",
       "      <td>0</td>\n",
       "      <td>12</td>\n",
       "      <td>0</td>\n",
       "      <td>0</td>\n",
       "      <td>0</td>\n",
       "      <td>0</td>\n",
       "    </tr>\n",
       "    <tr>\n",
       "      <th>63669</th>\n",
       "      <td>ENSG00000273486</td>\n",
       "      <td>0</td>\n",
       "      <td>0</td>\n",
       "      <td>0</td>\n",
       "      <td>0</td>\n",
       "      <td>1</td>\n",
       "      <td>0</td>\n",
       "      <td>0</td>\n",
       "      <td>0</td>\n",
       "      <td>0</td>\n",
       "      <td>...</td>\n",
       "      <td>0</td>\n",
       "      <td>2</td>\n",
       "      <td>0</td>\n",
       "      <td>3</td>\n",
       "      <td>0</td>\n",
       "      <td>2</td>\n",
       "      <td>5</td>\n",
       "      <td>1</td>\n",
       "      <td>0</td>\n",
       "      <td>0</td>\n",
       "    </tr>\n",
       "    <tr>\n",
       "      <th>63670</th>\n",
       "      <td>ENSG00000273487</td>\n",
       "      <td>0</td>\n",
       "      <td>0</td>\n",
       "      <td>0</td>\n",
       "      <td>0</td>\n",
       "      <td>0</td>\n",
       "      <td>0</td>\n",
       "      <td>0</td>\n",
       "      <td>0</td>\n",
       "      <td>0</td>\n",
       "      <td>...</td>\n",
       "      <td>0</td>\n",
       "      <td>0</td>\n",
       "      <td>0</td>\n",
       "      <td>0</td>\n",
       "      <td>0</td>\n",
       "      <td>0</td>\n",
       "      <td>0</td>\n",
       "      <td>0</td>\n",
       "      <td>0</td>\n",
       "      <td>0</td>\n",
       "    </tr>\n",
       "    <tr>\n",
       "      <th>63672</th>\n",
       "      <td>ENSG00000273489</td>\n",
       "      <td>0</td>\n",
       "      <td>0</td>\n",
       "      <td>0</td>\n",
       "      <td>2</td>\n",
       "      <td>0</td>\n",
       "      <td>1</td>\n",
       "      <td>8</td>\n",
       "      <td>0</td>\n",
       "      <td>0</td>\n",
       "      <td>...</td>\n",
       "      <td>0</td>\n",
       "      <td>0</td>\n",
       "      <td>0</td>\n",
       "      <td>0</td>\n",
       "      <td>0</td>\n",
       "      <td>0</td>\n",
       "      <td>0</td>\n",
       "      <td>0</td>\n",
       "      <td>0</td>\n",
       "      <td>0</td>\n",
       "    </tr>\n",
       "    <tr>\n",
       "      <th>63676</th>\n",
       "      <td>ENSG00000273493</td>\n",
       "      <td>0</td>\n",
       "      <td>0</td>\n",
       "      <td>0</td>\n",
       "      <td>0</td>\n",
       "      <td>0</td>\n",
       "      <td>0</td>\n",
       "      <td>0</td>\n",
       "      <td>0</td>\n",
       "      <td>1</td>\n",
       "      <td>...</td>\n",
       "      <td>0</td>\n",
       "      <td>0</td>\n",
       "      <td>0</td>\n",
       "      <td>0</td>\n",
       "      <td>0</td>\n",
       "      <td>0</td>\n",
       "      <td>0</td>\n",
       "      <td>0</td>\n",
       "      <td>3</td>\n",
       "      <td>0</td>\n",
       "    </tr>\n",
       "  </tbody>\n",
       "</table>\n",
       "<p>30238 rows × 81 columns</p>\n",
       "</div>"
      ],
      "text/plain": [
       "            Unnamed: 0  Sample_1_preadi  Sample_2_preadi  Sample_3_preadi  \\\n",
       "0      ENSG00000000003               18               12                9   \n",
       "1      ENSG00000000005                0                0                0   \n",
       "2      ENSG00000000419               10                9                9   \n",
       "3      ENSG00000000457                0               11                0   \n",
       "4      ENSG00000000460                0                0               14   \n",
       "...                ...              ...              ...              ...   \n",
       "63668  ENSG00000273485                0                0                0   \n",
       "63669  ENSG00000273486                0                0                0   \n",
       "63670  ENSG00000273487                0                0                0   \n",
       "63672  ENSG00000273489                0                0                0   \n",
       "63676  ENSG00000273493                0                0                0   \n",
       "\n",
       "       Sample_4_preadi  Sample_5_preadi  Sample_6_preadi  Sample_7_preadi  \\\n",
       "0                   20                9               13               20   \n",
       "1                    2                0                0                0   \n",
       "2                    8               10               10                6   \n",
       "3                    6                2               12               11   \n",
       "4                    4                5                0                0   \n",
       "...                ...              ...              ...              ...   \n",
       "63668                1                0                5                0   \n",
       "63669                0                1                0                0   \n",
       "63670                0                0                0                0   \n",
       "63672                2                0                1                8   \n",
       "63676                0                0                0                0   \n",
       "\n",
       "       Sample_8_preadi  Sample_9_preadi  ...  Sample_71_adipo  \\\n",
       "0                    8                4  ...                9   \n",
       "1                    0                0  ...                0   \n",
       "2                   35               13  ...                3   \n",
       "3                    1                2  ...                9   \n",
       "4                    6                4  ...                0   \n",
       "...                ...              ...  ...              ...   \n",
       "63668                0                0  ...                0   \n",
       "63669                0                0  ...                0   \n",
       "63670                0                0  ...                0   \n",
       "63672                0                0  ...                0   \n",
       "63676                0                1  ...                0   \n",
       "\n",
       "       Sample_72_adipo  Sample_73_adipo  Sample_74_adipo  Sample_75_adipo  \\\n",
       "0                    9               30                9               23   \n",
       "1                    1               29                2               22   \n",
       "2                    9                9               15                8   \n",
       "3                    8                8                5                6   \n",
       "4                    0                3                0                1   \n",
       "...                ...              ...              ...              ...   \n",
       "63668                0                0                0                0   \n",
       "63669                2                0                3                0   \n",
       "63670                0                0                0                0   \n",
       "63672                0                0                0                0   \n",
       "63676                0                0                0                0   \n",
       "\n",
       "       Sample_76_adipo  Sample_77_adipo  Sample_78_adipo  Sample_79_adipo  \\\n",
       "0                   16                3               14               11   \n",
       "1                    3                0                2                0   \n",
       "2                    9                9                4               16   \n",
       "3                    0               12               13                4   \n",
       "4                    0                1                4                0   \n",
       "...                ...              ...              ...              ...   \n",
       "63668               12                0                0                0   \n",
       "63669                2                5                1                0   \n",
       "63670                0                0                0                0   \n",
       "63672                0                0                0                0   \n",
       "63676                0                0                0                3   \n",
       "\n",
       "       Sample_80_adipo  \n",
       "0                   16  \n",
       "1                    5  \n",
       "2                    5  \n",
       "3                   11  \n",
       "4                   10  \n",
       "...                ...  \n",
       "63668                0  \n",
       "63669                0  \n",
       "63670                0  \n",
       "63672                0  \n",
       "63676                0  \n",
       "\n",
       "[30238 rows x 81 columns]"
      ]
     },
     "execution_count": 321,
     "metadata": {},
     "output_type": "execute_result"
    }
   ],
   "source": [
    "transcriptomics"
   ]
  },
  {
   "cell_type": "markdown",
   "metadata": {},
   "source": [
    "e)"
   ]
  },
  {
   "cell_type": "code",
   "execution_count": 322,
   "metadata": {},
   "outputs": [
    {
     "data": {
      "text/plain": [
       "Sample_1_preadi    1000000\n",
       "Sample_2_preadi    1000000\n",
       "Sample_3_preadi    1000000\n",
       "Sample_4_preadi    1000000\n",
       "Sample_5_preadi    1000000\n",
       "                    ...   \n",
       "Sample_76_adipo    1000000\n",
       "Sample_77_adipo    1000000\n",
       "Sample_78_adipo    1000000\n",
       "Sample_79_adipo    1000000\n",
       "Sample_80_adipo    1000000\n",
       "Length: 80, dtype: int64"
      ]
     },
     "execution_count": 322,
     "metadata": {},
     "output_type": "execute_result"
    }
   ],
   "source": [
    "transcriptomics.iloc[:,1:].sum()"
   ]
  },
  {
   "cell_type": "code",
   "execution_count": 323,
   "metadata": {},
   "outputs": [],
   "source": [
    "depth = pd.DataFrame({'Samples':list(range(1,81)), 'depth':transcriptomics.iloc[:,1:].sum()})"
   ]
  },
  {
   "cell_type": "code",
   "execution_count": 324,
   "metadata": {},
   "outputs": [
    {
     "data": {
      "text/plain": [
       "True"
      ]
     },
     "execution_count": 324,
     "metadata": {},
     "output_type": "execute_result"
    }
   ],
   "source": [
    "(transcriptomics.iloc[:,1:].sum() == 1000000).all()"
   ]
  },
  {
   "cell_type": "code",
   "execution_count": 325,
   "metadata": {},
   "outputs": [
    {
     "data": {
      "image/png": "[encoded data removed]",
      "text/plain": [
       "<Figure size 1440x720 with 1 Axes>"
      ]
     },
     "metadata": {
      "needs_background": "light"
     },
     "output_type": "display_data"
    }
   ],
   "source": [
    "plt.figure(figsize=(20,10))\n",
    "ax =sns.barplot( data=depth, y='depth', x=\"Samples\")"
   ]
  },
  {
   "cell_type": "markdown",
   "metadata": {},
   "source": [
    "Do not need to normalized"
   ]
  },
  {
   "cell_type": "markdown",
   "metadata": {},
   "source": [
    "f)"
   ]
  },
  {
   "cell_type": "code",
   "execution_count": 326,
   "metadata": {},
   "outputs": [
    {
     "data": {
      "text/plain": [
       "dict_values(['PreAdipo', 'PreAdipo', 'PreAdipo', 'PreAdipo', 'PreAdipo', 'PreAdipo', 'PreAdipo', 'PreAdipo', 'PreAdipo', 'PreAdipo', 'PreAdipo', 'PreAdipo', 'PreAdipo', 'PreAdipo', 'PreAdipo', 'PreAdipo', 'PreAdipo', 'PreAdipo', 'PreAdipo', 'PreAdipo', 'PreAdipo', 'PreAdipo', 'PreAdipo', 'PreAdipo', 'PreAdipo', 'PreAdipo', 'PreAdipo', 'PreAdipo', 'PreAdipo', 'PreAdipo', 'PreAdipo', 'PreAdipo', 'PreAdipo', 'PreAdipo', 'PreAdipo', 'PreAdipo', 'PreAdipo', 'PreAdipo', 'PreAdipo', 'PreAdipo', 'Adipo', 'Adipo', 'Adipo', 'Adipo', 'Adipo', 'Adipo', 'Adipo', 'Adipo', 'Adipo', 'Adipo', 'Adipo', 'Adipo', 'Adipo', 'Adipo', 'Adipo', 'Adipo', 'Adipo', 'Adipo', 'Adipo', 'Adipo', 'Adipo', 'Adipo', 'Adipo', 'Adipo', 'Adipo', 'Adipo', 'Adipo', 'Adipo', 'Adipo', 'Adipo', 'Adipo', 'Adipo', 'Adipo', 'Adipo', 'Adipo', 'Adipo', 'Adipo', 'Adipo', 'Adipo', 'Adipo'])"
      ]
     },
     "execution_count": 326,
     "metadata": {},
     "output_type": "execute_result"
    }
   ],
   "source": [
    "dict_sample.values()"
   ]
  },
  {
   "cell_type": "code",
   "execution_count": 327,
   "metadata": {},
   "outputs": [
    {
     "data": {
      "text/html": [
       "<div>\n",
       "<style scoped>\n",
       "    .dataframe tbody tr th:only-of-type {\n",
       "        vertical-align: middle;\n",
       "    }\n",
       "\n",
       "    .dataframe tbody tr th {\n",
       "        vertical-align: top;\n",
       "    }\n",
       "\n",
       "    .dataframe thead th {\n",
       "        text-align: right;\n",
       "    }\n",
       "</style>\n",
       "<table border=\"1\" class=\"dataframe\">\n",
       "  <thead>\n",
       "    <tr style=\"text-align: right;\">\n",
       "      <th></th>\n",
       "      <th>PCA1</th>\n",
       "      <th>PCA2</th>\n",
       "      <th>PCA3</th>\n",
       "      <th>groups</th>\n",
       "    </tr>\n",
       "  </thead>\n",
       "  <tbody>\n",
       "    <tr>\n",
       "      <th>0</th>\n",
       "      <td>59744.204875</td>\n",
       "      <td>5181.484207</td>\n",
       "      <td>34953.673194</td>\n",
       "      <td>PreAdipo</td>\n",
       "    </tr>\n",
       "    <tr>\n",
       "      <th>1</th>\n",
       "      <td>-36447.502550</td>\n",
       "      <td>11214.469551</td>\n",
       "      <td>6564.207381</td>\n",
       "      <td>PreAdipo</td>\n",
       "    </tr>\n",
       "    <tr>\n",
       "      <th>2</th>\n",
       "      <td>-15666.397486</td>\n",
       "      <td>-7873.272341</td>\n",
       "      <td>3183.165238</td>\n",
       "      <td>PreAdipo</td>\n",
       "    </tr>\n",
       "    <tr>\n",
       "      <th>3</th>\n",
       "      <td>-22423.413307</td>\n",
       "      <td>-20027.140990</td>\n",
       "      <td>-15412.563780</td>\n",
       "      <td>PreAdipo</td>\n",
       "    </tr>\n",
       "    <tr>\n",
       "      <th>4</th>\n",
       "      <td>-15830.729625</td>\n",
       "      <td>-13797.002922</td>\n",
       "      <td>-8727.933106</td>\n",
       "      <td>PreAdipo</td>\n",
       "    </tr>\n",
       "    <tr>\n",
       "      <th>...</th>\n",
       "      <td>...</td>\n",
       "      <td>...</td>\n",
       "      <td>...</td>\n",
       "      <td>...</td>\n",
       "    </tr>\n",
       "    <tr>\n",
       "      <th>75</th>\n",
       "      <td>39830.374618</td>\n",
       "      <td>16913.116447</td>\n",
       "      <td>2542.199214</td>\n",
       "      <td>Adipo</td>\n",
       "    </tr>\n",
       "    <tr>\n",
       "      <th>76</th>\n",
       "      <td>44353.454788</td>\n",
       "      <td>-2109.828106</td>\n",
       "      <td>-14291.751796</td>\n",
       "      <td>Adipo</td>\n",
       "    </tr>\n",
       "    <tr>\n",
       "      <th>77</th>\n",
       "      <td>-2515.045934</td>\n",
       "      <td>2289.387447</td>\n",
       "      <td>-29504.065115</td>\n",
       "      <td>Adipo</td>\n",
       "    </tr>\n",
       "    <tr>\n",
       "      <th>78</th>\n",
       "      <td>-23979.413582</td>\n",
       "      <td>32201.099006</td>\n",
       "      <td>-2077.782790</td>\n",
       "      <td>Adipo</td>\n",
       "    </tr>\n",
       "    <tr>\n",
       "      <th>79</th>\n",
       "      <td>-22809.815936</td>\n",
       "      <td>19705.732484</td>\n",
       "      <td>-1020.655207</td>\n",
       "      <td>Adipo</td>\n",
       "    </tr>\n",
       "  </tbody>\n",
       "</table>\n",
       "<p>80 rows × 4 columns</p>\n",
       "</div>"
      ],
      "text/plain": [
       "            PCA1          PCA2          PCA3    groups\n",
       "0   59744.204875   5181.484207  34953.673194  PreAdipo\n",
       "1  -36447.502550  11214.469551   6564.207381  PreAdipo\n",
       "2  -15666.397486  -7873.272341   3183.165238  PreAdipo\n",
       "3  -22423.413307 -20027.140990 -15412.563780  PreAdipo\n",
       "4  -15830.729625 -13797.002922  -8727.933106  PreAdipo\n",
       "..           ...           ...           ...       ...\n",
       "75  39830.374618  16913.116447   2542.199214     Adipo\n",
       "76  44353.454788  -2109.828106 -14291.751796     Adipo\n",
       "77  -2515.045934   2289.387447 -29504.065115     Adipo\n",
       "78 -23979.413582  32201.099006  -2077.782790     Adipo\n",
       "79 -22809.815936  19705.732484  -1020.655207     Adipo\n",
       "\n",
       "[80 rows x 4 columns]"
      ]
     },
     "execution_count": 327,
     "metadata": {},
     "output_type": "execute_result"
    }
   ],
   "source": [
    "X = transcriptomics.iloc[:,1:].T.to_numpy(dtype=float)\n",
    "pca = PCA(n_components=3)\n",
    "pca_output = pca.fit_transform(X)\n",
    "pca_output_df = pd.DataFrame(pca_output, columns=['PCA1', 'PCA2', 'PCA3'])\n",
    "pca_output_df[\"groups\"] =dict_sample.values()\n",
    "pca_output_df"
   ]
  },
  {
   "cell_type": "code",
   "execution_count": 328,
   "metadata": {},
   "outputs": [
    {
     "data": {
      "application/vnd.plotly.v1+json": {
       "config": {
        "plotlyServerURL": "https://plot.ly"
       },
       "data": [
        {
         "hovertemplate": "groups=PreAdipo<br>PCA1=%{x}<br>PCA2=%{y}<br>PCA3=%{z}<extra></extra>",
         "legendgroup": "PreAdipo",
         "marker": {
          "color": "#636efa",
          "symbol": "circle"
         },
         "mode": "markers",
         "name": "PreAdipo",
         "scene": "scene",
         "showlegend": true,
         "type": "scatter3d",
         "x": [
          59744.20487486391,
          -36447.502550047924,
          -15666.39748566692,
          -22423.41330660372,
          -15830.729625471655,
          -17332.667723431256,
          -12955.30377463506,
          -6793.369551946886,
          -38277.91608331671,
          7533.754251075869,
          12136.694134477773,
          -8674.685048862404,
          -13743.50226881734,
          -3823.1927891568184,
          -26862.925029969556,
          -20949.27590531632,
          100.46620410439427,
          14153.027864329351,
          -18104.223937926294,
          -19679.39230810631,
          -21930.66005498547,
          -20557.360553268078,
          -19819.943609895814,
          -16877.7961594244,
          -19060.35838834126,
          -27097.13055498964,
          -27237.655895723245,
          -15548.502302760427,
          975.0945234179133,
          2447.336199627776,
          -27137.59245509822,
          -14665.737411880982,
          -4912.153744272376,
          -19399.05182091879,
          5677.757574148734,
          222.53846634721256,
          -21312.39106460947,
          -17697.628157703442,
          -19136.85428251937,
          -5107.9567736982435
         ],
         "y": [
          5181.484207279658,
          11214.469551465289,
          -7873.272341364919,
          -20027.140990296775,
          -13797.00292213379,
          -3597.1800412012017,
          14041.820704478343,
          -16810.345315512437,
          3570.9447011775587,
          9691.26273145365,
          -12752.484044746361,
          -18356.715174296874,
          -6222.812426911267,
          -20290.913315276746,
          -19717.963044768963,
          -16902.647454803115,
          -16815.850844682544,
          -5007.12542140945,
          -262.36597371896767,
          -13609.739742818594,
          -2584.56814125654,
          -16718.396638597853,
          -10361.694943143339,
          -25571.45964781607,
          30299.382955632813,
          13888.191538375508,
          -17274.405760917685,
          -24198.47715650498,
          -19830.051019646784,
          8865.518644955375,
          23345.719463316746,
          19074.587971051547,
          -4432.788581224051,
          -22451.8481033642,
          -2563.7925415427435,
          -3215.38128976627,
          -8996.693560014844,
          10553.342367703839,
          -29585.876536315143,
          -16192.532226373101
         ],
         "z": [
          34953.673193851544,
          6564.207381040374,
          3183.1652380380638,
          -15412.56377979023,
          -8727.933106136812,
          2525.94105081754,
          15781.996739875667,
          3527.7035737438696,
          -6783.3044980171035,
          26837.308224171466,
          18027.177043347314,
          6641.195236862968,
          14444.900761362484,
          4782.257096399872,
          -7147.891608301524,
          -841.2817067613202,
          16422.979307524358,
          25362.5986030047,
          -4885.658971542814,
          -3265.3293950541624,
          11806.558777662685,
          4520.23849212815,
          -5042.802487202253,
          7260.860610162977,
          6163.046222034899,
          -1571.4321487644347,
          -16448.095458911197,
          13797.707733959316,
          11598.755546077118,
          26836.48450036619,
          7694.887240348352,
          15510.19353869132,
          3138.8300370407064,
          -3300.2984027782823,
          16169.582721523597,
          19613.785697611613,
          -5086.666842807854,
          12100.413081769279,
          -6968.774935794229,
          1401.4947245657736
         ]
        },
        {
         "hovertemplate": "groups=Adipo<br>PCA1=%{x}<br>PCA2=%{y}<br>PCA3=%{z}<extra></extra>",
         "legendgroup": "Adipo",
         "marker": {
          "color": "#EF553B",
          "symbol": "circle"
         },
         "mode": "markers",
         "name": "Adipo",
         "scene": "scene",
         "showlegend": true,
         "type": "scatter3d",
         "x": [
          19182.983606602505,
          36821.61962364276,
          31058.721202798853,
          -5371.825310895112,
          30748.774478412786,
          28368.447661204144,
          -194.96070040211674,
          18732.173107838655,
          54855.70260918238,
          11348.213163266864,
          -27480.951624719208,
          -20259.82128571625,
          533.8487953007862,
          3635.934648705057,
          72278.57264525004,
          45723.35350368417,
          -31910.38677550031,
          43759.4429277179,
          17327.52138795159,
          -23198.111487375783,
          -6584.728976739551,
          4904.440778771485,
          -28571.185287606524,
          -3436.1771606477637,
          15726.245812798332,
          6858.917857018982,
          35228.164279717064,
          13276.792248782442,
          -2399.9325226125275,
          27136.28253557533,
          -6336.925733156142,
          -5853.25882002609,
          18653.507279559508,
          15629.231660801212,
          47002.216444248006,
          39830.37461771204,
          44353.45478829563,
          -2515.0459344983865,
          -23979.41358160568,
          -22809.815936366187
         ],
         "y": [
          22856.862039326596,
          4323.415183007034,
          -4590.180382839344,
          2020.8611721185762,
          -9236.424686545111,
          -7349.032857327804,
          -7870.582508018436,
          7297.532101292823,
          6340.011538556955,
          3537.085355909646,
          13309.652146565713,
          28378.460199161385,
          -1284.9706611667114,
          22985.806763252494,
          3022.3231518492667,
          4164.866712706159,
          37097.62802378495,
          8979.629245940352,
          -5850.2359079829685,
          32896.14461922691,
          5122.016674993709,
          -8300.692287209984,
          17492.863674145137,
          1453.6160263567956,
          2301.5666453594495,
          -7864.483210205921,
          760.7498092900623,
          4570.822508843337,
          7135.646489973181,
          -10884.204511007649,
          9892.725154914835,
          1047.5955256117252,
          -9750.7675617576,
          -6457.210005998196,
          9746.196903603432,
          16913.11644676908,
          -2109.8281064747957,
          2289.3874474950544,
          32201.09900590908,
          19705.732484106127
         ],
         "z": [
          -5510.235095140418,
          -6010.654238492393,
          4071.2268014039455,
          -5554.025883094072,
          1112.169873077851,
          15266.097939823425,
          -15288.412637389763,
          -18381.165586669747,
          -9613.841736895101,
          -19590.39366734973,
          -11326.972768074324,
          -88.24917676790066,
          853.3559566395625,
          -11953.530277153166,
          774.2370535000118,
          -3726.028008665103,
          -4561.825460075328,
          -4340.635521221512,
          1481.45443451965,
          1880.5637843801871,
          -8555.932897587994,
          3162.162917246951,
          -139.9180175785502,
          -16316.012844921117,
          -28522.28043258027,
          -581.7589528378652,
          -9247.558804884198,
          -7136.199427316063,
          -2899.212322222221,
          -15069.436207047564,
          -522.1420787542804,
          -2521.319761397621,
          -14678.951262549546,
          -12126.886439471673,
          -1171.5425925098875,
          2542.1992139754675,
          -14291.751795575836,
          -29504.065114647685,
          -2077.782790384655,
          -1020.6552074315168
         ]
        }
       ],
       "layout": {
        "legend": {
         "title": {
          "text": "groups"
         },
         "tracegroupgap": 0
        },
        "margin": {
         "t": 60
        },
        "scene": {
         "domain": {
          "x": [
           0,
           1
          ],
          "y": [
           0,
           1
          ]
         },
         "xaxis": {
          "title": {
           "text": "PCA1"
          }
         },
         "yaxis": {
          "title": {
           "text": "PCA2"
          }
         },
         "zaxis": {
          "title": {
           "text": "PCA3"
          }
         }
        },
        "template": {
         "data": {
          "bar": [
           {
            "error_x": {
             "color": "#2a3f5f"
            },
            "error_y": {
             "color": "#2a3f5f"
            },
            "marker": {
             "line": {
              "color": "#E5ECF6",
              "width": 0.5
             },
             "pattern": {
              "fillmode": "overlay",
              "size": 10,
              "solidity": 0.2
             }
            },
            "type": "bar"
           }
          ],
          "barpolar": [
           {
            "marker": {
             "line": {
              "color": "#E5ECF6",
              "width": 0.5
             },
             "pattern": {
              "fillmode": "overlay",
              "size": 10,
              "solidity": 0.2
             }
            },
            "type": "barpolar"
           }
          ],
          "carpet": [
           {
            "aaxis": {
             "endlinecolor": "#2a3f5f",
             "gridcolor": "white",
             "linecolor": "white",
             "minorgridcolor": "white",
             "startlinecolor": "#2a3f5f"
            },
            "baxis": {
             "endlinecolor": "#2a3f5f",
             "gridcolor": "white",
             "linecolor": "white",
             "minorgridcolor": "white",
             "startlinecolor": "#2a3f5f"
            },
            "type": "carpet"
           }
          ],
          "choropleth": [
           {
            "colorbar": {
             "outlinewidth": 0,
             "ticks": ""
            },
            "type": "choropleth"
           }
          ],
          "contour": [
           {
            "colorbar": {
             "outlinewidth": 0,
             "ticks": ""
            },
            "colorscale": [
             [
              0,
              "#0d0887"
             ],
             [
              0.1111111111111111,
              "#46039f"
             ],
             [
              0.2222222222222222,
              "#7201a8"
             ],
             [
              0.3333333333333333,
              "#9c179e"
             ],
             [
              0.4444444444444444,
              "#bd3786"
             ],
             [
              0.5555555555555556,
              "#d8576b"
             ],
             [
              0.6666666666666666,
              "#ed7953"
             ],
             [
              0.7777777777777778,
              "#fb9f3a"
             ],
             [
              0.8888888888888888,
              "#fdca26"
             ],
             [
              1,
              "#f0f921"
             ]
            ],
            "type": "contour"
           }
          ],
          "contourcarpet": [
           {
            "colorbar": {
             "outlinewidth": 0,
             "ticks": ""
            },
            "type": "contourcarpet"
           }
          ],
          "heatmap": [
           {
            "colorbar": {
             "outlinewidth": 0,
             "ticks": ""
            },
            "colorscale": [
             [
              0,
              "#0d0887"
             ],
             [
              0.1111111111111111,
              "#46039f"
             ],
             [
              0.2222222222222222,
              "#7201a8"
             ],
             [
              0.3333333333333333,
              "#9c179e"
             ],
             [
              0.4444444444444444,
              "#bd3786"
             ],
             [
              0.5555555555555556,
              "#d8576b"
             ],
             [
              0.6666666666666666,
              "#ed7953"
             ],
             [
              0.7777777777777778,
              "#fb9f3a"
             ],
             [
              0.8888888888888888,
              "#fdca26"
             ],
             [
              1,
              "#f0f921"
             ]
            ],
            "type": "heatmap"
           }
          ],
          "heatmapgl": [
           {
            "colorbar": {
             "outlinewidth": 0,
             "ticks": ""
            },
            "colorscale": [
             [
              0,
              "#0d0887"
             ],
             [
              0.1111111111111111,
              "#46039f"
             ],
             [
              0.2222222222222222,
              "#7201a8"
             ],
             [
              0.3333333333333333,
              "#9c179e"
             ],
             [
              0.4444444444444444,
              "#bd3786"
             ],
             [
              0.5555555555555556,
              "#d8576b"
             ],
             [
              0.6666666666666666,
              "#ed7953"
             ],
             [
              0.7777777777777778,
              "#fb9f3a"
             ],
             [
              0.8888888888888888,
              "#fdca26"
             ],
             [
              1,
              "#f0f921"
             ]
            ],
            "type": "heatmapgl"
           }
          ],
          "histogram": [
           {
            "marker": {
             "pattern": {
              "fillmode": "overlay",
              "size": 10,
              "solidity": 0.2
             }
            },
            "type": "histogram"
           }
          ],
          "histogram2d": [
           {
            "colorbar": {
             "outlinewidth": 0,
             "ticks": ""
            },
            "colorscale": [
             [
              0,
              "#0d0887"
             ],
             [
              0.1111111111111111,
              "#46039f"
             ],
             [
              0.2222222222222222,
              "#7201a8"
             ],
             [
              0.3333333333333333,
              "#9c179e"
             ],
             [
              0.4444444444444444,
              "#bd3786"
             ],
             [
              0.5555555555555556,
              "#d8576b"
             ],
             [
              0.6666666666666666,
              "#ed7953"
             ],
             [
              0.7777777777777778,
              "#fb9f3a"
             ],
             [
              0.8888888888888888,
              "#fdca26"
             ],
             [
              1,
              "#f0f921"
             ]
            ],
            "type": "histogram2d"
           }
          ],
          "histogram2dcontour": [
           {
            "colorbar": {
             "outlinewidth": 0,
             "ticks": ""
            },
            "colorscale": [
             [
              0,
              "#0d0887"
             ],
             [
              0.1111111111111111,
              "#46039f"
             ],
             [
              0.2222222222222222,
              "#7201a8"
             ],
             [
              0.3333333333333333,
              "#9c179e"
             ],
             [
              0.4444444444444444,
              "#bd3786"
             ],
             [
              0.5555555555555556,
              "#d8576b"
             ],
             [
              0.6666666666666666,
              "#ed7953"
             ],
             [
              0.7777777777777778,
              "#fb9f3a"
             ],
             [
              0.8888888888888888,
              "#fdca26"
             ],
             [
              1,
              "#f0f921"
             ]
            ],
            "type": "histogram2dcontour"
           }
          ],
          "mesh3d": [
           {
            "colorbar": {
             "outlinewidth": 0,
             "ticks": ""
            },
            "type": "mesh3d"
           }
          ],
          "parcoords": [
           {
            "line": {
             "colorbar": {
              "outlinewidth": 0,
              "ticks": ""
             }
            },
            "type": "parcoords"
           }
          ],
          "pie": [
           {
            "automargin": true,
            "type": "pie"
           }
          ],
          "scatter": [
           {
            "fillpattern": {
             "fillmode": "overlay",
             "size": 10,
             "solidity": 0.2
            },
            "type": "scatter"
           }
          ],
          "scatter3d": [
           {
            "line": {
             "colorbar": {
              "outlinewidth": 0,
              "ticks": ""
             }
            },
            "marker": {
             "colorbar": {
              "outlinewidth": 0,
              "ticks": ""
             }
            },
            "type": "scatter3d"
           }
          ],
          "scattercarpet": [
           {
            "marker": {
             "colorbar": {
              "outlinewidth": 0,
              "ticks": ""
             }
            },
            "type": "scattercarpet"
           }
          ],
          "scattergeo": [
           {
            "marker": {
             "colorbar": {
              "outlinewidth": 0,
              "ticks": ""
             }
            },
            "type": "scattergeo"
           }
          ],
          "scattergl": [
           {
            "marker": {
             "colorbar": {
              "outlinewidth": 0,
              "ticks": ""
             }
            },
            "type": "scattergl"
           }
          ],
          "scattermapbox": [
           {
            "marker": {
             "colorbar": {
              "outlinewidth": 0,
              "ticks": ""
             }
            },
            "type": "scattermapbox"
           }
          ],
          "scatterpolar": [
           {
            "marker": {
             "colorbar": {
              "outlinewidth": 0,
              "ticks": ""
             }
            },
            "type": "scatterpolar"
           }
          ],
          "scatterpolargl": [
           {
            "marker": {
             "colorbar": {
              "outlinewidth": 0,
              "ticks": ""
             }
            },
            "type": "scatterpolargl"
           }
          ],
          "scatterternary": [
           {
            "marker": {
             "colorbar": {
              "outlinewidth": 0,
              "ticks": ""
             }
            },
            "type": "scatterternary"
           }
          ],
          "surface": [
           {
            "colorbar": {
             "outlinewidth": 0,
             "ticks": ""
            },
            "colorscale": [
             [
              0,
              "#0d0887"
             ],
             [
              0.1111111111111111,
              "#46039f"
             ],
             [
              0.2222222222222222,
              "#7201a8"
             ],
             [
              0.3333333333333333,
              "#9c179e"
             ],
             [
              0.4444444444444444,
              "#bd3786"
             ],
             [
              0.5555555555555556,
              "#d8576b"
             ],
             [
              0.6666666666666666,
              "#ed7953"
             ],
             [
              0.7777777777777778,
              "#fb9f3a"
             ],
             [
              0.8888888888888888,
              "#fdca26"
             ],
             [
              1,
              "#f0f921"
             ]
            ],
            "type": "surface"
           }
          ],
          "table": [
           {
            "cells": {
             "fill": {
              "color": "#EBF0F8"
             },
             "line": {
              "color": "white"
             }
            },
            "header": {
             "fill": {
              "color": "#C8D4E3"
             },
             "line": {
              "color": "white"
             }
            },
            "type": "table"
           }
          ]
         },
         "layout": {
          "annotationdefaults": {
           "arrowcolor": "#2a3f5f",
           "arrowhead": 0,
           "arrowwidth": 1
          },
          "autotypenumbers": "strict",
          "coloraxis": {
           "colorbar": {
            "outlinewidth": 0,
            "ticks": ""
           }
          },
          "colorscale": {
           "diverging": [
            [
             0,
             "#8e0152"
            ],
            [
             0.1,
             "#c51b7d"
            ],
            [
             0.2,
             "#de77ae"
            ],
            [
             0.3,
             "#f1b6da"
            ],
            [
             0.4,
             "#fde0ef"
            ],
            [
             0.5,
             "#f7f7f7"
            ],
            [
             0.6,
             "#e6f5d0"
            ],
            [
             0.7,
             "#b8e186"
            ],
            [
             0.8,
             "#7fbc41"
            ],
            [
             0.9,
             "#4d9221"
            ],
            [
             1,
             "#276419"
            ]
           ],
           "sequential": [
            [
             0,
             "#0d0887"
            ],
            [
             0.1111111111111111,
             "#46039f"
            ],
            [
             0.2222222222222222,
             "#7201a8"
            ],
            [
             0.3333333333333333,
             "#9c179e"
            ],
            [
             0.4444444444444444,
             "#bd3786"
            ],
            [
             0.5555555555555556,
             "#d8576b"
            ],
            [
             0.6666666666666666,
             "#ed7953"
            ],
            [
             0.7777777777777778,
             "#fb9f3a"
            ],
            [
             0.8888888888888888,
             "#fdca26"
            ],
            [
             1,
             "#f0f921"
            ]
           ],
           "sequentialminus": [
            [
             0,
             "#0d0887"
            ],
            [
             0.1111111111111111,
             "#46039f"
            ],
            [
             0.2222222222222222,
             "#7201a8"
            ],
            [
             0.3333333333333333,
             "#9c179e"
            ],
            [
             0.4444444444444444,
             "#bd3786"
            ],
            [
             0.5555555555555556,
             "#d8576b"
            ],
            [
             0.6666666666666666,
             "#ed7953"
            ],
            [
             0.7777777777777778,
             "#fb9f3a"
            ],
            [
             0.8888888888888888,
             "#fdca26"
            ],
            [
             1,
             "#f0f921"
            ]
           ]
          },
          "colorway": [
           "#636efa",
           "#EF553B",
           "#00cc96",
           "#ab63fa",
           "#FFA15A",
           "#19d3f3",
           "#FF6692",
           "#B6E880",
           "#FF97FF",
           "#FECB52"
          ],
          "font": {
           "color": "#2a3f5f"
          },
          "geo": {
           "bgcolor": "white",
           "lakecolor": "white",
           "landcolor": "#E5ECF6",
           "showlakes": true,
           "showland": true,
           "subunitcolor": "white"
          },
          "hoverlabel": {
           "align": "left"
          },
          "hovermode": "closest",
          "mapbox": {
           "style": "light"
          },
          "paper_bgcolor": "white",
          "plot_bgcolor": "#E5ECF6",
          "polar": {
           "angularaxis": {
            "gridcolor": "white",
            "linecolor": "white",
            "ticks": ""
           },
           "bgcolor": "#E5ECF6",
           "radialaxis": {
            "gridcolor": "white",
            "linecolor": "white",
            "ticks": ""
           }
          },
          "scene": {
           "xaxis": {
            "backgroundcolor": "#E5ECF6",
            "gridcolor": "white",
            "gridwidth": 2,
            "linecolor": "white",
            "showbackground": true,
            "ticks": "",
            "zerolinecolor": "white"
           },
           "yaxis": {
            "backgroundcolor": "#E5ECF6",
            "gridcolor": "white",
            "gridwidth": 2,
            "linecolor": "white",
            "showbackground": true,
            "ticks": "",
            "zerolinecolor": "white"
           },
           "zaxis": {
            "backgroundcolor": "#E5ECF6",
            "gridcolor": "white",
            "gridwidth": 2,
            "linecolor": "white",
            "showbackground": true,
            "ticks": "",
            "zerolinecolor": "white"
           }
          },
          "shapedefaults": {
           "line": {
            "color": "#2a3f5f"
           }
          },
          "ternary": {
           "aaxis": {
            "gridcolor": "white",
            "linecolor": "white",
            "ticks": ""
           },
           "baxis": {
            "gridcolor": "white",
            "linecolor": "white",
            "ticks": ""
           },
           "bgcolor": "#E5ECF6",
           "caxis": {
            "gridcolor": "white",
            "linecolor": "white",
            "ticks": ""
           }
          },
          "title": {
           "x": 0.05
          },
          "xaxis": {
           "automargin": true,
           "gridcolor": "white",
           "linecolor": "white",
           "ticks": "",
           "title": {
            "standoff": 15
           },
           "zerolinecolor": "white",
           "zerolinewidth": 2
          },
          "yaxis": {
           "automargin": true,
           "gridcolor": "white",
           "linecolor": "white",
           "ticks": "",
           "title": {
            "standoff": 15
           },
           "zerolinecolor": "white",
           "zerolinewidth": 2
          }
         }
        }
       }
      }
     },
     "metadata": {},
     "output_type": "display_data"
    }
   ],
   "source": [
    "fig = px.scatter_3d(pca_output_df, x='PCA1', y='PCA2', z='PCA3', color=\"groups\")\n",
    "fig.show()"
   ]
  },
  {
   "cell_type": "markdown",
   "metadata": {},
   "source": [
    "g)"
   ]
  },
  {
   "cell_type": "code",
   "execution_count": 329,
   "metadata": {},
   "outputs": [],
   "source": [
    "transcriptomics_transf =pd.DataFrame(np.log2(1+transcriptomics.iloc[:,1:]))"
   ]
  },
  {
   "cell_type": "code",
   "execution_count": 330,
   "metadata": {},
   "outputs": [],
   "source": [
    "transcriptomics_transf.insert(0, 'Gene_ID', transcriptomics.iloc[:,0])"
   ]
  },
  {
   "cell_type": "code",
   "execution_count": 331,
   "metadata": {},
   "outputs": [
    {
     "data": {
      "text/html": [
       "<div>\n",
       "<style scoped>\n",
       "    .dataframe tbody tr th:only-of-type {\n",
       "        vertical-align: middle;\n",
       "    }\n",
       "\n",
       "    .dataframe tbody tr th {\n",
       "        vertical-align: top;\n",
       "    }\n",
       "\n",
       "    .dataframe thead th {\n",
       "        text-align: right;\n",
       "    }\n",
       "</style>\n",
       "<table border=\"1\" class=\"dataframe\">\n",
       "  <thead>\n",
       "    <tr style=\"text-align: right;\">\n",
       "      <th></th>\n",
       "      <th>Gene_ID</th>\n",
       "      <th>Sample_1_preadi</th>\n",
       "      <th>Sample_2_preadi</th>\n",
       "      <th>Sample_3_preadi</th>\n",
       "      <th>Sample_4_preadi</th>\n",
       "      <th>Sample_5_preadi</th>\n",
       "      <th>Sample_6_preadi</th>\n",
       "      <th>Sample_7_preadi</th>\n",
       "      <th>Sample_8_preadi</th>\n",
       "      <th>Sample_9_preadi</th>\n",
       "      <th>...</th>\n",
       "      <th>Sample_71_adipo</th>\n",
       "      <th>Sample_72_adipo</th>\n",
       "      <th>Sample_73_adipo</th>\n",
       "      <th>Sample_74_adipo</th>\n",
       "      <th>Sample_75_adipo</th>\n",
       "      <th>Sample_76_adipo</th>\n",
       "      <th>Sample_77_adipo</th>\n",
       "      <th>Sample_78_adipo</th>\n",
       "      <th>Sample_79_adipo</th>\n",
       "      <th>Sample_80_adipo</th>\n",
       "    </tr>\n",
       "  </thead>\n",
       "  <tbody>\n",
       "    <tr>\n",
       "      <th>0</th>\n",
       "      <td>ENSG00000000003</td>\n",
       "      <td>4.247928</td>\n",
       "      <td>3.700440</td>\n",
       "      <td>3.321928</td>\n",
       "      <td>4.392317</td>\n",
       "      <td>3.321928</td>\n",
       "      <td>3.807355</td>\n",
       "      <td>4.392317</td>\n",
       "      <td>3.169925</td>\n",
       "      <td>2.321928</td>\n",
       "      <td>...</td>\n",
       "      <td>3.321928</td>\n",
       "      <td>3.321928</td>\n",
       "      <td>4.954196</td>\n",
       "      <td>3.321928</td>\n",
       "      <td>4.584963</td>\n",
       "      <td>4.087463</td>\n",
       "      <td>2.000000</td>\n",
       "      <td>3.906891</td>\n",
       "      <td>3.584963</td>\n",
       "      <td>4.087463</td>\n",
       "    </tr>\n",
       "    <tr>\n",
       "      <th>1</th>\n",
       "      <td>ENSG00000000005</td>\n",
       "      <td>0.000000</td>\n",
       "      <td>0.000000</td>\n",
       "      <td>0.000000</td>\n",
       "      <td>1.584963</td>\n",
       "      <td>0.000000</td>\n",
       "      <td>0.000000</td>\n",
       "      <td>0.000000</td>\n",
       "      <td>0.000000</td>\n",
       "      <td>0.000000</td>\n",
       "      <td>...</td>\n",
       "      <td>0.000000</td>\n",
       "      <td>1.000000</td>\n",
       "      <td>4.906891</td>\n",
       "      <td>1.584963</td>\n",
       "      <td>4.523562</td>\n",
       "      <td>2.000000</td>\n",
       "      <td>0.000000</td>\n",
       "      <td>1.584963</td>\n",
       "      <td>0.000000</td>\n",
       "      <td>2.584963</td>\n",
       "    </tr>\n",
       "    <tr>\n",
       "      <th>2</th>\n",
       "      <td>ENSG00000000419</td>\n",
       "      <td>3.459432</td>\n",
       "      <td>3.321928</td>\n",
       "      <td>3.321928</td>\n",
       "      <td>3.169925</td>\n",
       "      <td>3.459432</td>\n",
       "      <td>3.459432</td>\n",
       "      <td>2.807355</td>\n",
       "      <td>5.169925</td>\n",
       "      <td>3.807355</td>\n",
       "      <td>...</td>\n",
       "      <td>2.000000</td>\n",
       "      <td>3.321928</td>\n",
       "      <td>3.321928</td>\n",
       "      <td>4.000000</td>\n",
       "      <td>3.169925</td>\n",
       "      <td>3.321928</td>\n",
       "      <td>3.321928</td>\n",
       "      <td>2.321928</td>\n",
       "      <td>4.087463</td>\n",
       "      <td>2.584963</td>\n",
       "    </tr>\n",
       "    <tr>\n",
       "      <th>3</th>\n",
       "      <td>ENSG00000000457</td>\n",
       "      <td>0.000000</td>\n",
       "      <td>3.584963</td>\n",
       "      <td>0.000000</td>\n",
       "      <td>2.807355</td>\n",
       "      <td>1.584963</td>\n",
       "      <td>3.700440</td>\n",
       "      <td>3.584963</td>\n",
       "      <td>1.000000</td>\n",
       "      <td>1.584963</td>\n",
       "      <td>...</td>\n",
       "      <td>3.321928</td>\n",
       "      <td>3.169925</td>\n",
       "      <td>3.169925</td>\n",
       "      <td>2.584963</td>\n",
       "      <td>2.807355</td>\n",
       "      <td>0.000000</td>\n",
       "      <td>3.700440</td>\n",
       "      <td>3.807355</td>\n",
       "      <td>2.321928</td>\n",
       "      <td>3.584963</td>\n",
       "    </tr>\n",
       "    <tr>\n",
       "      <th>4</th>\n",
       "      <td>ENSG00000000460</td>\n",
       "      <td>0.000000</td>\n",
       "      <td>0.000000</td>\n",
       "      <td>3.906891</td>\n",
       "      <td>2.321928</td>\n",
       "      <td>2.584963</td>\n",
       "      <td>0.000000</td>\n",
       "      <td>0.000000</td>\n",
       "      <td>2.807355</td>\n",
       "      <td>2.321928</td>\n",
       "      <td>...</td>\n",
       "      <td>0.000000</td>\n",
       "      <td>0.000000</td>\n",
       "      <td>2.000000</td>\n",
       "      <td>0.000000</td>\n",
       "      <td>1.000000</td>\n",
       "      <td>0.000000</td>\n",
       "      <td>1.000000</td>\n",
       "      <td>2.321928</td>\n",
       "      <td>0.000000</td>\n",
       "      <td>3.459432</td>\n",
       "    </tr>\n",
       "    <tr>\n",
       "      <th>...</th>\n",
       "      <td>...</td>\n",
       "      <td>...</td>\n",
       "      <td>...</td>\n",
       "      <td>...</td>\n",
       "      <td>...</td>\n",
       "      <td>...</td>\n",
       "      <td>...</td>\n",
       "      <td>...</td>\n",
       "      <td>...</td>\n",
       "      <td>...</td>\n",
       "      <td>...</td>\n",
       "      <td>...</td>\n",
       "      <td>...</td>\n",
       "      <td>...</td>\n",
       "      <td>...</td>\n",
       "      <td>...</td>\n",
       "      <td>...</td>\n",
       "      <td>...</td>\n",
       "      <td>...</td>\n",
       "      <td>...</td>\n",
       "      <td>...</td>\n",
       "    </tr>\n",
       "    <tr>\n",
       "      <th>63668</th>\n",
       "      <td>ENSG00000273485</td>\n",
       "      <td>0.000000</td>\n",
       "      <td>0.000000</td>\n",
       "      <td>0.000000</td>\n",
       "      <td>1.000000</td>\n",
       "      <td>0.000000</td>\n",
       "      <td>2.584963</td>\n",
       "      <td>0.000000</td>\n",
       "      <td>0.000000</td>\n",
       "      <td>0.000000</td>\n",
       "      <td>...</td>\n",
       "      <td>0.000000</td>\n",
       "      <td>0.000000</td>\n",
       "      <td>0.000000</td>\n",
       "      <td>0.000000</td>\n",
       "      <td>0.000000</td>\n",
       "      <td>3.700440</td>\n",
       "      <td>0.000000</td>\n",
       "      <td>0.000000</td>\n",
       "      <td>0.000000</td>\n",
       "      <td>0.000000</td>\n",
       "    </tr>\n",
       "    <tr>\n",
       "      <th>63669</th>\n",
       "      <td>ENSG00000273486</td>\n",
       "      <td>0.000000</td>\n",
       "      <td>0.000000</td>\n",
       "      <td>0.000000</td>\n",
       "      <td>0.000000</td>\n",
       "      <td>1.000000</td>\n",
       "      <td>0.000000</td>\n",
       "      <td>0.000000</td>\n",
       "      <td>0.000000</td>\n",
       "      <td>0.000000</td>\n",
       "      <td>...</td>\n",
       "      <td>0.000000</td>\n",
       "      <td>1.584963</td>\n",
       "      <td>0.000000</td>\n",
       "      <td>2.000000</td>\n",
       "      <td>0.000000</td>\n",
       "      <td>1.584963</td>\n",
       "      <td>2.584963</td>\n",
       "      <td>1.000000</td>\n",
       "      <td>0.000000</td>\n",
       "      <td>0.000000</td>\n",
       "    </tr>\n",
       "    <tr>\n",
       "      <th>63670</th>\n",
       "      <td>ENSG00000273487</td>\n",
       "      <td>0.000000</td>\n",
       "      <td>0.000000</td>\n",
       "      <td>0.000000</td>\n",
       "      <td>0.000000</td>\n",
       "      <td>0.000000</td>\n",
       "      <td>0.000000</td>\n",
       "      <td>0.000000</td>\n",
       "      <td>0.000000</td>\n",
       "      <td>0.000000</td>\n",
       "      <td>...</td>\n",
       "      <td>0.000000</td>\n",
       "      <td>0.000000</td>\n",
       "      <td>0.000000</td>\n",
       "      <td>0.000000</td>\n",
       "      <td>0.000000</td>\n",
       "      <td>0.000000</td>\n",
       "      <td>0.000000</td>\n",
       "      <td>0.000000</td>\n",
       "      <td>0.000000</td>\n",
       "      <td>0.000000</td>\n",
       "    </tr>\n",
       "    <tr>\n",
       "      <th>63672</th>\n",
       "      <td>ENSG00000273489</td>\n",
       "      <td>0.000000</td>\n",
       "      <td>0.000000</td>\n",
       "      <td>0.000000</td>\n",
       "      <td>1.584963</td>\n",
       "      <td>0.000000</td>\n",
       "      <td>1.000000</td>\n",
       "      <td>3.169925</td>\n",
       "      <td>0.000000</td>\n",
       "      <td>0.000000</td>\n",
       "      <td>...</td>\n",
       "      <td>0.000000</td>\n",
       "      <td>0.000000</td>\n",
       "      <td>0.000000</td>\n",
       "      <td>0.000000</td>\n",
       "      <td>0.000000</td>\n",
       "      <td>0.000000</td>\n",
       "      <td>0.000000</td>\n",
       "      <td>0.000000</td>\n",
       "      <td>0.000000</td>\n",
       "      <td>0.000000</td>\n",
       "    </tr>\n",
       "    <tr>\n",
       "      <th>63676</th>\n",
       "      <td>ENSG00000273493</td>\n",
       "      <td>0.000000</td>\n",
       "      <td>0.000000</td>\n",
       "      <td>0.000000</td>\n",
       "      <td>0.000000</td>\n",
       "      <td>0.000000</td>\n",
       "      <td>0.000000</td>\n",
       "      <td>0.000000</td>\n",
       "      <td>0.000000</td>\n",
       "      <td>1.000000</td>\n",
       "      <td>...</td>\n",
       "      <td>0.000000</td>\n",
       "      <td>0.000000</td>\n",
       "      <td>0.000000</td>\n",
       "      <td>0.000000</td>\n",
       "      <td>0.000000</td>\n",
       "      <td>0.000000</td>\n",
       "      <td>0.000000</td>\n",
       "      <td>0.000000</td>\n",
       "      <td>2.000000</td>\n",
       "      <td>0.000000</td>\n",
       "    </tr>\n",
       "  </tbody>\n",
       "</table>\n",
       "<p>30238 rows × 81 columns</p>\n",
       "</div>"
      ],
      "text/plain": [
       "               Gene_ID  Sample_1_preadi  Sample_2_preadi  Sample_3_preadi  \\\n",
       "0      ENSG00000000003         4.247928         3.700440         3.321928   \n",
       "1      ENSG00000000005         0.000000         0.000000         0.000000   \n",
       "2      ENSG00000000419         3.459432         3.321928         3.321928   \n",
       "3      ENSG00000000457         0.000000         3.584963         0.000000   \n",
       "4      ENSG00000000460         0.000000         0.000000         3.906891   \n",
       "...                ...              ...              ...              ...   \n",
       "63668  ENSG00000273485         0.000000         0.000000         0.000000   \n",
       "63669  ENSG00000273486         0.000000         0.000000         0.000000   \n",
       "63670  ENSG00000273487         0.000000         0.000000         0.000000   \n",
       "63672  ENSG00000273489         0.000000         0.000000         0.000000   \n",
       "63676  ENSG00000273493         0.000000         0.000000         0.000000   \n",
       "\n",
       "       Sample_4_preadi  Sample_5_preadi  Sample_6_preadi  Sample_7_preadi  \\\n",
       "0             4.392317         3.321928         3.807355         4.392317   \n",
       "1             1.584963         0.000000         0.000000         0.000000   \n",
       "2             3.169925         3.459432         3.459432         2.807355   \n",
       "3             2.807355         1.584963         3.700440         3.584963   \n",
       "4             2.321928         2.584963         0.000000         0.000000   \n",
       "...                ...              ...              ...              ...   \n",
       "63668         1.000000         0.000000         2.584963         0.000000   \n",
       "63669         0.000000         1.000000         0.000000         0.000000   \n",
       "63670         0.000000         0.000000         0.000000         0.000000   \n",
       "63672         1.584963         0.000000         1.000000         3.169925   \n",
       "63676         0.000000         0.000000         0.000000         0.000000   \n",
       "\n",
       "       Sample_8_preadi  Sample_9_preadi  ...  Sample_71_adipo  \\\n",
       "0             3.169925         2.321928  ...         3.321928   \n",
       "1             0.000000         0.000000  ...         0.000000   \n",
       "2             5.169925         3.807355  ...         2.000000   \n",
       "3             1.000000         1.584963  ...         3.321928   \n",
       "4             2.807355         2.321928  ...         0.000000   \n",
       "...                ...              ...  ...              ...   \n",
       "63668         0.000000         0.000000  ...         0.000000   \n",
       "63669         0.000000         0.000000  ...         0.000000   \n",
       "63670         0.000000         0.000000  ...         0.000000   \n",
       "63672         0.000000         0.000000  ...         0.000000   \n",
       "63676         0.000000         1.000000  ...         0.000000   \n",
       "\n",
       "       Sample_72_adipo  Sample_73_adipo  Sample_74_adipo  Sample_75_adipo  \\\n",
       "0             3.321928         4.954196         3.321928         4.584963   \n",
       "1             1.000000         4.906891         1.584963         4.523562   \n",
       "2             3.321928         3.321928         4.000000         3.169925   \n",
       "3             3.169925         3.169925         2.584963         2.807355   \n",
       "4             0.000000         2.000000         0.000000         1.000000   \n",
       "...                ...              ...              ...              ...   \n",
       "63668         0.000000         0.000000         0.000000         0.000000   \n",
       "63669         1.584963         0.000000         2.000000         0.000000   \n",
       "63670         0.000000         0.000000         0.000000         0.000000   \n",
       "63672         0.000000         0.000000         0.000000         0.000000   \n",
       "63676         0.000000         0.000000         0.000000         0.000000   \n",
       "\n",
       "       Sample_76_adipo  Sample_77_adipo  Sample_78_adipo  Sample_79_adipo  \\\n",
       "0             4.087463         2.000000         3.906891         3.584963   \n",
       "1             2.000000         0.000000         1.584963         0.000000   \n",
       "2             3.321928         3.321928         2.321928         4.087463   \n",
       "3             0.000000         3.700440         3.807355         2.321928   \n",
       "4             0.000000         1.000000         2.321928         0.000000   \n",
       "...                ...              ...              ...              ...   \n",
       "63668         3.700440         0.000000         0.000000         0.000000   \n",
       "63669         1.584963         2.584963         1.000000         0.000000   \n",
       "63670         0.000000         0.000000         0.000000         0.000000   \n",
       "63672         0.000000         0.000000         0.000000         0.000000   \n",
       "63676         0.000000         0.000000         0.000000         2.000000   \n",
       "\n",
       "       Sample_80_adipo  \n",
       "0             4.087463  \n",
       "1             2.584963  \n",
       "2             2.584963  \n",
       "3             3.584963  \n",
       "4             3.459432  \n",
       "...                ...  \n",
       "63668         0.000000  \n",
       "63669         0.000000  \n",
       "63670         0.000000  \n",
       "63672         0.000000  \n",
       "63676         0.000000  \n",
       "\n",
       "[30238 rows x 81 columns]"
      ]
     },
     "execution_count": 331,
     "metadata": {},
     "output_type": "execute_result"
    }
   ],
   "source": [
    "transcriptomics_transf"
   ]
  },
  {
   "cell_type": "markdown",
   "metadata": {},
   "source": [
    "h)"
   ]
  },
  {
   "cell_type": "code",
   "execution_count": 332,
   "metadata": {},
   "outputs": [
    {
     "data": {
      "text/html": [
       "<div>\n",
       "<style scoped>\n",
       "    .dataframe tbody tr th:only-of-type {\n",
       "        vertical-align: middle;\n",
       "    }\n",
       "\n",
       "    .dataframe tbody tr th {\n",
       "        vertical-align: top;\n",
       "    }\n",
       "\n",
       "    .dataframe thead th {\n",
       "        text-align: right;\n",
       "    }\n",
       "</style>\n",
       "<table border=\"1\" class=\"dataframe\">\n",
       "  <thead>\n",
       "    <tr style=\"text-align: right;\">\n",
       "      <th></th>\n",
       "      <th>PCA1</th>\n",
       "      <th>PCA2</th>\n",
       "      <th>PCA3</th>\n",
       "      <th>groups</th>\n",
       "    </tr>\n",
       "  </thead>\n",
       "  <tbody>\n",
       "    <tr>\n",
       "      <th>0</th>\n",
       "      <td>-42.826325</td>\n",
       "      <td>58.870454</td>\n",
       "      <td>7.373568</td>\n",
       "      <td>PreAdipo</td>\n",
       "    </tr>\n",
       "    <tr>\n",
       "      <th>1</th>\n",
       "      <td>-46.518798</td>\n",
       "      <td>-5.596100</td>\n",
       "      <td>-14.508786</td>\n",
       "      <td>PreAdipo</td>\n",
       "    </tr>\n",
       "    <tr>\n",
       "      <th>2</th>\n",
       "      <td>-63.707133</td>\n",
       "      <td>-33.929024</td>\n",
       "      <td>37.018309</td>\n",
       "      <td>PreAdipo</td>\n",
       "    </tr>\n",
       "    <tr>\n",
       "      <th>3</th>\n",
       "      <td>-57.726232</td>\n",
       "      <td>-67.490809</td>\n",
       "      <td>-11.262911</td>\n",
       "      <td>PreAdipo</td>\n",
       "    </tr>\n",
       "    <tr>\n",
       "      <th>4</th>\n",
       "      <td>-49.397369</td>\n",
       "      <td>-52.324098</td>\n",
       "      <td>9.429046</td>\n",
       "      <td>PreAdipo</td>\n",
       "    </tr>\n",
       "    <tr>\n",
       "      <th>...</th>\n",
       "      <td>...</td>\n",
       "      <td>...</td>\n",
       "      <td>...</td>\n",
       "      <td>...</td>\n",
       "    </tr>\n",
       "    <tr>\n",
       "      <th>75</th>\n",
       "      <td>53.782769</td>\n",
       "      <td>-3.432689</td>\n",
       "      <td>-58.769944</td>\n",
       "      <td>Adipo</td>\n",
       "    </tr>\n",
       "    <tr>\n",
       "      <th>76</th>\n",
       "      <td>69.008352</td>\n",
       "      <td>1.024680</td>\n",
       "      <td>43.864694</td>\n",
       "      <td>Adipo</td>\n",
       "    </tr>\n",
       "    <tr>\n",
       "      <th>77</th>\n",
       "      <td>61.583718</td>\n",
       "      <td>-54.186683</td>\n",
       "      <td>4.247139</td>\n",
       "      <td>Adipo</td>\n",
       "    </tr>\n",
       "    <tr>\n",
       "      <th>78</th>\n",
       "      <td>30.881711</td>\n",
       "      <td>-23.491756</td>\n",
       "      <td>-43.344795</td>\n",
       "      <td>Adipo</td>\n",
       "    </tr>\n",
       "    <tr>\n",
       "      <th>79</th>\n",
       "      <td>27.239854</td>\n",
       "      <td>-28.855330</td>\n",
       "      <td>-24.864379</td>\n",
       "      <td>Adipo</td>\n",
       "    </tr>\n",
       "  </tbody>\n",
       "</table>\n",
       "<p>80 rows × 4 columns</p>\n",
       "</div>"
      ],
      "text/plain": [
       "         PCA1       PCA2       PCA3    groups\n",
       "0  -42.826325  58.870454   7.373568  PreAdipo\n",
       "1  -46.518798  -5.596100 -14.508786  PreAdipo\n",
       "2  -63.707133 -33.929024  37.018309  PreAdipo\n",
       "3  -57.726232 -67.490809 -11.262911  PreAdipo\n",
       "4  -49.397369 -52.324098   9.429046  PreAdipo\n",
       "..        ...        ...        ...       ...\n",
       "75  53.782769  -3.432689 -58.769944     Adipo\n",
       "76  69.008352   1.024680  43.864694     Adipo\n",
       "77  61.583718 -54.186683   4.247139     Adipo\n",
       "78  30.881711 -23.491756 -43.344795     Adipo\n",
       "79  27.239854 -28.855330 -24.864379     Adipo\n",
       "\n",
       "[80 rows x 4 columns]"
      ]
     },
     "execution_count": 332,
     "metadata": {},
     "output_type": "execute_result"
    }
   ],
   "source": [
    "X = transcriptomics_transf.iloc[:,1:].T.to_numpy(dtype=float)\n",
    "pca = PCA(n_components=3)\n",
    "pca_output_log = pca.fit_transform(X)\n",
    "pca_output_log_df = pd.DataFrame(pca_output_log, columns=['PCA1', 'PCA2', 'PCA3'])\n",
    "pca_output_log_df[\"groups\"] =dict_sample.values()\n",
    "pca_output_log_df"
   ]
  },
  {
   "cell_type": "code",
   "execution_count": 333,
   "metadata": {},
   "outputs": [
    {
     "data": {
      "application/vnd.plotly.v1+json": {
       "config": {
        "plotlyServerURL": "https://plot.ly"
       },
       "data": [
        {
         "hovertemplate": "groups=PreAdipo<br>PCA1=%{x}<br>PCA2=%{y}<br>PCA3=%{z}<extra></extra>",
         "legendgroup": "PreAdipo",
         "marker": {
          "color": "#636efa",
          "symbol": "circle"
         },
         "mode": "markers",
         "name": "PreAdipo",
         "scene": "scene",
         "showlegend": true,
         "type": "scatter3d",
         "x": [
          -42.82632549458167,
          -46.51879789669865,
          -63.7071327152649,
          -57.72623235596019,
          -49.39736882530683,
          -46.01465999290972,
          -37.49404687749037,
          -62.7687956956311,
          -55.11508353343225,
          -33.801194005064325,
          -37.03894104556939,
          -52.19877663606092,
          -37.74836103355242,
          -52.289640702241925,
          -68.83595669017426,
          -57.388180427496046,
          -45.8538830646329,
          -32.647558158540605,
          -53.59603210201488,
          -62.96668773295442,
          -44.64131564246817,
          -55.13605224717735,
          -63.996437799262324,
          -48.408736830387284,
          -47.62128564595091,
          -54.90511147487283,
          -66.12820020374673,
          -34.14512824052814,
          -54.24059207523126,
          -31.136330820641188,
          -36.386036942754814,
          -25.499082688646354,
          -41.46574469585813,
          -68.4998977744006,
          -37.13315578842433,
          -37.028636440583156,
          -46.109367584018415,
          -47.04360979750522,
          -55.690124691599706,
          -54.32664444036418
         ],
         "y": [
          58.87045367632964,
          -5.596099977093192,
          -33.92902352102089,
          -67.49080913011083,
          -52.32409816111626,
          -19.149394830777183,
          41.62247910935201,
          -0.2628316659553475,
          -41.7238939442011,
          77.79861101159634,
          29.101725869185135,
          -5.370343871704991,
          61.54397599294023,
          -14.660474548263242,
          -33.794271272183956,
          -25.11694548352279,
          56.64997081339074,
          84.38546480533485,
          -39.66928522529381,
          -27.329887121363186,
          52.03828750785724,
          -2.4184512891841448,
          -49.87718309259072,
          45.890587443962886,
          -13.523326978772214,
          -38.96740636377389,
          -73.26157039426924,
          58.600350325429616,
          39.97492358804113,
          60.93248127533884,
          10.4401037893509,
          12.139343504119703,
          -22.198367645932223,
          -4.349843772708523,
          45.79578706766722,
          49.04315584395716,
          -39.63517339727595,
          14.07572084842715,
          -32.2498599186409,
          9.15732851372393
         ],
         "z": [
          7.3735676137747825,
          -14.508786121735165,
          37.01830881138682,
          -11.262910573344987,
          9.429045890752096,
          2.2345648805002236,
          -23.670247613185825,
          32.7868062228351,
          4.933737556345749,
          -12.856801069979127,
          23.476854038879072,
          41.53711749488638,
          -15.183577069150406,
          29.24503660462233,
          29.62133994922173,
          20.011915924733568,
          -6.525170096412299,
          -2.9252411684917505,
          -15.52928088980761,
          17.516980989762377,
          -1.175780669938258,
          26.39593798145308,
          21.124237590572957,
          -4.809840217184475,
          -45.619401692474554,
          -21.845395492028977,
          14.95497613429834,
          -12.919836414315771,
          16.288548299835647,
          -1.8263371386787206,
          -22.79397843808666,
          -12.109590467207703,
          -18.526970921829445,
          28.929900020867194,
          -39.02042929012469,
          -1.0065734525973393,
          1.6444492648689402,
          -15.274449790612213,
          16.737713269352806,
          -32.96807087212729
         ]
        },
        {
         "hovertemplate": "groups=Adipo<br>PCA1=%{x}<br>PCA2=%{y}<br>PCA3=%{z}<extra></extra>",
         "legendgroup": "Adipo",
         "marker": {
          "color": "#EF553B",
          "symbol": "circle"
         },
         "mode": "markers",
         "name": "Adipo",
         "scene": "scene",
         "showlegend": true,
         "type": "scatter3d",
         "x": [
          57.58690675561511,
          62.47048107031746,
          51.33460663627541,
          46.82214388878663,
          46.829076580855165,
          34.372448721466554,
          51.969767308354825,
          61.29253643311922,
          67.5602855029143,
          61.59980347041971,
          29.624576656963825,
          42.86463785131522,
          38.32360020680384,
          59.14111739498742,
          66.00224814287753,
          63.522498588714676,
          25.16629704560117,
          68.21546301764857,
          50.723010283864014,
          32.391422045811176,
          34.09444280043979,
          26.878453048458756,
          20.404988463477977,
          38.833067052282736,
          67.61201915593989,
          29.712885011127373,
          69.90145974970864,
          48.38850675261678,
          35.71093243679315,
          62.470546863977894,
          31.91864371213372,
          35.72131296382363,
          64.15561859237586,
          55.225000717429715,
          64.13793733154327,
          53.78276945929502,
          69.00835164256705,
          61.583717527740944,
          30.88171144656595,
          27.239854478989688
         ],
         "y": [
          -24.498772295304818,
          4.259396173956942,
          48.6087142290972,
          36.81967170554132,
          34.231629587305065,
          48.28996229936616,
          -22.45705086504457,
          -29.185120977115428,
          -32.646139820947774,
          -29.959280916208808,
          -44.71093127496947,
          5.063255643759298,
          33.64982890479565,
          -11.809970650781775,
          53.777458945538434,
          -4.613024844747092,
          -42.198179176699746,
          22.950010854490042,
          22.070344923909005,
          -15.9608979208704,
          -32.10214095125346,
          17.09320507895045,
          -6.046689423134778,
          -50.773098265239355,
          -52.2069645654836,
          -5.109149051351712,
          29.41469801451138,
          -21.229684531325823,
          -19.246590511599678,
          17.92197234195309,
          -6.815512219335972,
          -11.369982138246808,
          34.6581176787513,
          -17.45926226327581,
          15.369746162852598,
          -3.432689489835104,
          1.0246801126560698,
          -54.18668349307956,
          -23.4917561792207,
          -28.85533021260708
         ],
         "z": [
          -10.658717872639654,
          50.0092157266728,
          57.620533121039045,
          -31.49679748232679,
          -0.7553587333024051,
          2.3047600859140696,
          9.450004078289805,
          11.512584599836272,
          28.00053407070622,
          -6.51282225054211,
          -4.842917390080307,
          -17.92596598224951,
          -31.484832697922794,
          6.597736563614722,
          60.25454613957004,
          28.14375822166808,
          -58.05674939876453,
          -6.811945906465859,
          -9.255559723121383,
          -13.890710378603156,
          -22.462184975773955,
          -31.403011207705315,
          -28.05000137940533,
          -10.276162565003114,
          -9.870095719061394,
          -21.43860442976626,
          10.232993616874372,
          0.5035338489478387,
          10.614738272990227,
          17.867277775171313,
          6.719522931891335,
          -6.557272577153864,
          21.259531149327067,
          10.18148329100587,
          20.441873932116767,
          -58.76994411913492,
          43.864693642772515,
          4.247138573706949,
          -43.34479458250859,
          -24.864379350217384
         ]
        }
       ],
       "layout": {
        "legend": {
         "title": {
          "text": "groups"
         },
         "tracegroupgap": 0
        },
        "margin": {
         "t": 60
        },
        "scene": {
         "domain": {
          "x": [
           0,
           1
          ],
          "y": [
           0,
           1
          ]
         },
         "xaxis": {
          "title": {
           "text": "PCA1"
          }
         },
         "yaxis": {
          "title": {
           "text": "PCA2"
          }
         },
         "zaxis": {
          "title": {
           "text": "PCA3"
          }
         }
        },
        "template": {
         "data": {
          "bar": [
           {
            "error_x": {
             "color": "#2a3f5f"
            },
            "error_y": {
             "color": "#2a3f5f"
            },
            "marker": {
             "line": {
              "color": "#E5ECF6",
              "width": 0.5
             },
             "pattern": {
              "fillmode": "overlay",
              "size": 10,
              "solidity": 0.2
             }
            },
            "type": "bar"
           }
          ],
          "barpolar": [
           {
            "marker": {
             "line": {
              "color": "#E5ECF6",
              "width": 0.5
             },
             "pattern": {
              "fillmode": "overlay",
              "size": 10,
              "solidity": 0.2
             }
            },
            "type": "barpolar"
           }
          ],
          "carpet": [
           {
            "aaxis": {
             "endlinecolor": "#2a3f5f",
             "gridcolor": "white",
             "linecolor": "white",
             "minorgridcolor": "white",
             "startlinecolor": "#2a3f5f"
            },
            "baxis": {
             "endlinecolor": "#2a3f5f",
             "gridcolor": "white",
             "linecolor": "white",
             "minorgridcolor": "white",
             "startlinecolor": "#2a3f5f"
            },
            "type": "carpet"
           }
          ],
          "choropleth": [
           {
            "colorbar": {
             "outlinewidth": 0,
             "ticks": ""
            },
            "type": "choropleth"
           }
          ],
          "contour": [
           {
            "colorbar": {
             "outlinewidth": 0,
             "ticks": ""
            },
            "colorscale": [
             [
              0,
              "#0d0887"
             ],
             [
              0.1111111111111111,
              "#46039f"
             ],
             [
              0.2222222222222222,
              "#7201a8"
             ],
             [
              0.3333333333333333,
              "#9c179e"
             ],
             [
              0.4444444444444444,
              "#bd3786"
             ],
             [
              0.5555555555555556,
              "#d8576b"
             ],
             [
              0.6666666666666666,
              "#ed7953"
             ],
             [
              0.7777777777777778,
              "#fb9f3a"
             ],
             [
              0.8888888888888888,
              "#fdca26"
             ],
             [
              1,
              "#f0f921"
             ]
            ],
            "type": "contour"
           }
          ],
          "contourcarpet": [
           {
            "colorbar": {
             "outlinewidth": 0,
             "ticks": ""
            },
            "type": "contourcarpet"
           }
          ],
          "heatmap": [
           {
            "colorbar": {
             "outlinewidth": 0,
             "ticks": ""
            },
            "colorscale": [
             [
              0,
              "#0d0887"
             ],
             [
              0.1111111111111111,
              "#46039f"
             ],
             [
              0.2222222222222222,
              "#7201a8"
             ],
             [
              0.3333333333333333,
              "#9c179e"
             ],
             [
              0.4444444444444444,
              "#bd3786"
             ],
             [
              0.5555555555555556,
              "#d8576b"
             ],
             [
              0.6666666666666666,
              "#ed7953"
             ],
             [
              0.7777777777777778,
              "#fb9f3a"
             ],
             [
              0.8888888888888888,
              "#fdca26"
             ],
             [
              1,
              "#f0f921"
             ]
            ],
            "type": "heatmap"
           }
          ],
          "heatmapgl": [
           {
            "colorbar": {
             "outlinewidth": 0,
             "ticks": ""
            },
            "colorscale": [
             [
              0,
              "#0d0887"
             ],
             [
              0.1111111111111111,
              "#46039f"
             ],
             [
              0.2222222222222222,
              "#7201a8"
             ],
             [
              0.3333333333333333,
              "#9c179e"
             ],
             [
              0.4444444444444444,
              "#bd3786"
             ],
             [
              0.5555555555555556,
              "#d8576b"
             ],
             [
              0.6666666666666666,
              "#ed7953"
             ],
             [
              0.7777777777777778,
              "#fb9f3a"
             ],
             [
              0.8888888888888888,
              "#fdca26"
             ],
             [
              1,
              "#f0f921"
             ]
            ],
            "type": "heatmapgl"
           }
          ],
          "histogram": [
           {
            "marker": {
             "pattern": {
              "fillmode": "overlay",
              "size": 10,
              "solidity": 0.2
             }
            },
            "type": "histogram"
           }
          ],
          "histogram2d": [
           {
            "colorbar": {
             "outlinewidth": 0,
             "ticks": ""
            },
            "colorscale": [
             [
              0,
              "#0d0887"
             ],
             [
              0.1111111111111111,
              "#46039f"
             ],
             [
              0.2222222222222222,
              "#7201a8"
             ],
             [
              0.3333333333333333,
              "#9c179e"
             ],
             [
              0.4444444444444444,
              "#bd3786"
             ],
             [
              0.5555555555555556,
              "#d8576b"
             ],
             [
              0.6666666666666666,
              "#ed7953"
             ],
             [
              0.7777777777777778,
              "#fb9f3a"
             ],
             [
              0.8888888888888888,
              "#fdca26"
             ],
             [
              1,
              "#f0f921"
             ]
            ],
            "type": "histogram2d"
           }
          ],
          "histogram2dcontour": [
           {
            "colorbar": {
             "outlinewidth": 0,
             "ticks": ""
            },
            "colorscale": [
             [
              0,
              "#0d0887"
             ],
             [
              0.1111111111111111,
              "#46039f"
             ],
             [
              0.2222222222222222,
              "#7201a8"
             ],
             [
              0.3333333333333333,
              "#9c179e"
             ],
             [
              0.4444444444444444,
              "#bd3786"
             ],
             [
              0.5555555555555556,
              "#d8576b"
             ],
             [
              0.6666666666666666,
              "#ed7953"
             ],
             [
              0.7777777777777778,
              "#fb9f3a"
             ],
             [
              0.8888888888888888,
              "#fdca26"
             ],
             [
              1,
              "#f0f921"
             ]
            ],
            "type": "histogram2dcontour"
           }
          ],
          "mesh3d": [
           {
            "colorbar": {
             "outlinewidth": 0,
             "ticks": ""
            },
            "type": "mesh3d"
           }
          ],
          "parcoords": [
           {
            "line": {
             "colorbar": {
              "outlinewidth": 0,
              "ticks": ""
             }
            },
            "type": "parcoords"
           }
          ],
          "pie": [
           {
            "automargin": true,
            "type": "pie"
           }
          ],
          "scatter": [
           {
            "fillpattern": {
             "fillmode": "overlay",
             "size": 10,
             "solidity": 0.2
            },
            "type": "scatter"
           }
          ],
          "scatter3d": [
           {
            "line": {
             "colorbar": {
              "outlinewidth": 0,
              "ticks": ""
             }
            },
            "marker": {
             "colorbar": {
              "outlinewidth": 0,
              "ticks": ""
             }
            },
            "type": "scatter3d"
           }
          ],
          "scattercarpet": [
           {
            "marker": {
             "colorbar": {
              "outlinewidth": 0,
              "ticks": ""
             }
            },
            "type": "scattercarpet"
           }
          ],
          "scattergeo": [
           {
            "marker": {
             "colorbar": {
              "outlinewidth": 0,
              "ticks": ""
             }
            },
            "type": "scattergeo"
           }
          ],
          "scattergl": [
           {
            "marker": {
             "colorbar": {
              "outlinewidth": 0,
              "ticks": ""
             }
            },
            "type": "scattergl"
           }
          ],
          "scattermapbox": [
           {
            "marker": {
             "colorbar": {
              "outlinewidth": 0,
              "ticks": ""
             }
            },
            "type": "scattermapbox"
           }
          ],
          "scatterpolar": [
           {
            "marker": {
             "colorbar": {
              "outlinewidth": 0,
              "ticks": ""
             }
            },
            "type": "scatterpolar"
           }
          ],
          "scatterpolargl": [
           {
            "marker": {
             "colorbar": {
              "outlinewidth": 0,
              "ticks": ""
             }
            },
            "type": "scatterpolargl"
           }
          ],
          "scatterternary": [
           {
            "marker": {
             "colorbar": {
              "outlinewidth": 0,
              "ticks": ""
             }
            },
            "type": "scatterternary"
           }
          ],
          "surface": [
           {
            "colorbar": {
             "outlinewidth": 0,
             "ticks": ""
            },
            "colorscale": [
             [
              0,
              "#0d0887"
             ],
             [
              0.1111111111111111,
              "#46039f"
             ],
             [
              0.2222222222222222,
              "#7201a8"
             ],
             [
              0.3333333333333333,
              "#9c179e"
             ],
             [
              0.4444444444444444,
              "#bd3786"
             ],
             [
              0.5555555555555556,
              "#d8576b"
             ],
             [
              0.6666666666666666,
              "#ed7953"
             ],
             [
              0.7777777777777778,
              "#fb9f3a"
             ],
             [
              0.8888888888888888,
              "#fdca26"
             ],
             [
              1,
              "#f0f921"
             ]
            ],
            "type": "surface"
           }
          ],
          "table": [
           {
            "cells": {
             "fill": {
              "color": "#EBF0F8"
             },
             "line": {
              "color": "white"
             }
            },
            "header": {
             "fill": {
              "color": "#C8D4E3"
             },
             "line": {
              "color": "white"
             }
            },
            "type": "table"
           }
          ]
         },
         "layout": {
          "annotationdefaults": {
           "arrowcolor": "#2a3f5f",
           "arrowhead": 0,
           "arrowwidth": 1
          },
          "autotypenumbers": "strict",
          "coloraxis": {
           "colorbar": {
            "outlinewidth": 0,
            "ticks": ""
           }
          },
          "colorscale": {
           "diverging": [
            [
             0,
             "#8e0152"
            ],
            [
             0.1,
             "#c51b7d"
            ],
            [
             0.2,
             "#de77ae"
            ],
            [
             0.3,
             "#f1b6da"
            ],
            [
             0.4,
             "#fde0ef"
            ],
            [
             0.5,
             "#f7f7f7"
            ],
            [
             0.6,
             "#e6f5d0"
            ],
            [
             0.7,
             "#b8e186"
            ],
            [
             0.8,
             "#7fbc41"
            ],
            [
             0.9,
             "#4d9221"
            ],
            [
             1,
             "#276419"
            ]
           ],
           "sequential": [
            [
             0,
             "#0d0887"
            ],
            [
             0.1111111111111111,
             "#46039f"
            ],
            [
             0.2222222222222222,
             "#7201a8"
            ],
            [
             0.3333333333333333,
             "#9c179e"
            ],
            [
             0.4444444444444444,
             "#bd3786"
            ],
            [
             0.5555555555555556,
             "#d8576b"
            ],
            [
             0.6666666666666666,
             "#ed7953"
            ],
            [
             0.7777777777777778,
             "#fb9f3a"
            ],
            [
             0.8888888888888888,
             "#fdca26"
            ],
            [
             1,
             "#f0f921"
            ]
           ],
           "sequentialminus": [
            [
             0,
             "#0d0887"
            ],
            [
             0.1111111111111111,
             "#46039f"
            ],
            [
             0.2222222222222222,
             "#7201a8"
            ],
            [
             0.3333333333333333,
             "#9c179e"
            ],
            [
             0.4444444444444444,
             "#bd3786"
            ],
            [
             0.5555555555555556,
             "#d8576b"
            ],
            [
             0.6666666666666666,
             "#ed7953"
            ],
            [
             0.7777777777777778,
             "#fb9f3a"
            ],
            [
             0.8888888888888888,
             "#fdca26"
            ],
            [
             1,
             "#f0f921"
            ]
           ]
          },
          "colorway": [
           "#636efa",
           "#EF553B",
           "#00cc96",
           "#ab63fa",
           "#FFA15A",
           "#19d3f3",
           "#FF6692",
           "#B6E880",
           "#FF97FF",
           "#FECB52"
          ],
          "font": {
           "color": "#2a3f5f"
          },
          "geo": {
           "bgcolor": "white",
           "lakecolor": "white",
           "landcolor": "#E5ECF6",
           "showlakes": true,
           "showland": true,
           "subunitcolor": "white"
          },
          "hoverlabel": {
           "align": "left"
          },
          "hovermode": "closest",
          "mapbox": {
           "style": "light"
          },
          "paper_bgcolor": "white",
          "plot_bgcolor": "#E5ECF6",
          "polar": {
           "angularaxis": {
            "gridcolor": "white",
            "linecolor": "white",
            "ticks": ""
           },
           "bgcolor": "#E5ECF6",
           "radialaxis": {
            "gridcolor": "white",
            "linecolor": "white",
            "ticks": ""
           }
          },
          "scene": {
           "xaxis": {
            "backgroundcolor": "#E5ECF6",
            "gridcolor": "white",
            "gridwidth": 2,
            "linecolor": "white",
            "showbackground": true,
            "ticks": "",
            "zerolinecolor": "white"
           },
           "yaxis": {
            "backgroundcolor": "#E5ECF6",
            "gridcolor": "white",
            "gridwidth": 2,
            "linecolor": "white",
            "showbackground": true,
            "ticks": "",
            "zerolinecolor": "white"
           },
           "zaxis": {
            "backgroundcolor": "#E5ECF6",
            "gridcolor": "white",
            "gridwidth": 2,
            "linecolor": "white",
            "showbackground": true,
            "ticks": "",
            "zerolinecolor": "white"
           }
          },
          "shapedefaults": {
           "line": {
            "color": "#2a3f5f"
           }
          },
          "ternary": {
           "aaxis": {
            "gridcolor": "white",
            "linecolor": "white",
            "ticks": ""
           },
           "baxis": {
            "gridcolor": "white",
            "linecolor": "white",
            "ticks": ""
           },
           "bgcolor": "#E5ECF6",
           "caxis": {
            "gridcolor": "white",
            "linecolor": "white",
            "ticks": ""
           }
          },
          "title": {
           "x": 0.05
          },
          "xaxis": {
           "automargin": true,
           "gridcolor": "white",
           "linecolor": "white",
           "ticks": "",
           "title": {
            "standoff": 15
           },
           "zerolinecolor": "white",
           "zerolinewidth": 2
          },
          "yaxis": {
           "automargin": true,
           "gridcolor": "white",
           "linecolor": "white",
           "ticks": "",
           "title": {
            "standoff": 15
           },
           "zerolinecolor": "white",
           "zerolinewidth": 2
          }
         }
        }
       }
      }
     },
     "metadata": {},
     "output_type": "display_data"
    }
   ],
   "source": [
    "fig = px.scatter_3d(pca_output_log_df, x='PCA1', y='PCA2', z='PCA3', color=\"groups\")\n",
    "fig.show()"
   ]
  },
  {
   "cell_type": "markdown",
   "metadata": {},
   "source": [
    "TRansformed data has better cluster"
   ]
  },
  {
   "cell_type": "markdown",
   "metadata": {},
   "source": [
    "### 2. Differential gene expression"
   ]
  },
  {
   "cell_type": "code",
   "execution_count": 334,
   "metadata": {},
   "outputs": [],
   "source": [
    "de_results = pd.DataFrame(columns = [\"pval\",\"fdr\",\"log2_mean_preadipo\",\"log2_mean_adipo\",\"log2_fold_change\"])"
   ]
  },
  {
   "cell_type": "markdown",
   "metadata": {},
   "source": [
    "a)"
   ]
  },
  {
   "cell_type": "markdown",
   "metadata": {},
   "source": [
    "next step Welch test guys (enfin chais pas jai pas verif la variance)"
   ]
  },
  {
   "cell_type": "code",
   "execution_count": 335,
   "metadata": {},
   "outputs": [],
   "source": [
    "pvalue=[]\n",
    "for index, gene in transcriptomics_transf.iterrows():\n",
    "    #Adipo_samples = {i for i in dict_sample if dict_sample[i]==\"Adipo\"}\n",
    "    # PreAdipo_samples = {i for i in dict_sample if dict_sample[i]==\"PreAdipo\"}\n",
    "    # ttest_ind(gene[Adipo_samples], gene[PreAdipo_samples])\n",
    "    _, pval =(ttest_ind(gene[1:41], gene[41:81], equal_var=False))\n",
    "    pvalue.append(pval)\n",
    "de_results[\"pval\"] = pvalue\n",
    "de_results"
   ]
  },
  {
   "cell_type": "code",
   "execution_count": 336,
   "metadata": {},
   "outputs": [],
   "source": [
    "# preadip = transcriptomics_transf.columns[1:41]\n",
    "# adipo = transcriptomics_transf.columns[41:82]\n",
    "# _, pval = ttest_ind(transcriptomics_transf[preadip], transcriptomics_transf[adipo], equal_var=False)\n",
    "# pval"
   ]
  },
  {
   "attachments": {},
   "cell_type": "markdown",
   "metadata": {},
   "source": [
    "b)"
   ]
  },
  {
   "cell_type": "code",
   "execution_count": 343,
   "metadata": {},
   "outputs": [],
   "source": [
    "t_f, fdr_corrected_p_values = fdrcorrection(de_results.pval)\n",
    "de_results.fdr = fdr_corrected_p_values\n",
    "de_results"
   ]
  },
  {
   "attachments": {},
   "cell_type": "markdown",
   "metadata": {},
   "source": [
    "Why do we need to do that?\n",
    "\n",
    "The false discovery rate (FDR) is a method of conceptualizing the rate of type I errors in null hypothesis testing when conducting multiple comparisons. FDR-controlling procedures are designed to control the FDR.\n"
   ]
  },
  {
   "attachments": {},
   "cell_type": "markdown",
   "metadata": {},
   "source": [
    "c)"
   ]
  },
  {
   "cell_type": "code",
   "execution_count": 349,
   "metadata": {},
   "outputs": [
    {
     "data": {
      "text/html": [
       "<div>\n",
       "<style scoped>\n",
       "    .dataframe tbody tr th:only-of-type {\n",
       "        vertical-align: middle;\n",
       "    }\n",
       "\n",
       "    .dataframe tbody tr th {\n",
       "        vertical-align: top;\n",
       "    }\n",
       "\n",
       "    .dataframe thead th {\n",
       "        text-align: right;\n",
       "    }\n",
       "</style>\n",
       "<table border=\"1\" class=\"dataframe\">\n",
       "  <thead>\n",
       "    <tr style=\"text-align: right;\">\n",
       "      <th></th>\n",
       "      <th>pval</th>\n",
       "      <th>fdr</th>\n",
       "      <th>log2_mean_preadipo</th>\n",
       "      <th>log2_mean_adipo</th>\n",
       "      <th>log2_fold_change</th>\n",
       "    </tr>\n",
       "  </thead>\n",
       "  <tbody>\n",
       "    <tr>\n",
       "      <th>0</th>\n",
       "      <td>0.029213</td>\n",
       "      <td>0.124449</td>\n",
       "      <td>NaN</td>\n",
       "      <td>NaN</td>\n",
       "      <td>NaN</td>\n",
       "    </tr>\n",
       "    <tr>\n",
       "      <th>2</th>\n",
       "      <td>0.436098</td>\n",
       "      <td>0.605981</td>\n",
       "      <td>NaN</td>\n",
       "      <td>NaN</td>\n",
       "      <td>NaN</td>\n",
       "    </tr>\n",
       "    <tr>\n",
       "      <th>3</th>\n",
       "      <td>0.371879</td>\n",
       "      <td>0.541478</td>\n",
       "      <td>NaN</td>\n",
       "      <td>NaN</td>\n",
       "      <td>NaN</td>\n",
       "    </tr>\n",
       "    <tr>\n",
       "      <th>4</th>\n",
       "      <td>0.403271</td>\n",
       "      <td>0.574002</td>\n",
       "      <td>NaN</td>\n",
       "      <td>NaN</td>\n",
       "      <td>NaN</td>\n",
       "    </tr>\n",
       "    <tr>\n",
       "      <th>9</th>\n",
       "      <td>0.032582</td>\n",
       "      <td>0.135853</td>\n",
       "      <td>NaN</td>\n",
       "      <td>NaN</td>\n",
       "      <td>NaN</td>\n",
       "    </tr>\n",
       "    <tr>\n",
       "      <th>...</th>\n",
       "      <td>...</td>\n",
       "      <td>...</td>\n",
       "      <td>...</td>\n",
       "      <td>...</td>\n",
       "      <td>...</td>\n",
       "    </tr>\n",
       "    <tr>\n",
       "      <th>30232</th>\n",
       "      <td>1.000000</td>\n",
       "      <td>1.000000</td>\n",
       "      <td>NaN</td>\n",
       "      <td>NaN</td>\n",
       "      <td>NaN</td>\n",
       "    </tr>\n",
       "    <tr>\n",
       "      <th>30233</th>\n",
       "      <td>0.767912</td>\n",
       "      <td>0.863298</td>\n",
       "      <td>NaN</td>\n",
       "      <td>NaN</td>\n",
       "      <td>NaN</td>\n",
       "    </tr>\n",
       "    <tr>\n",
       "      <th>30234</th>\n",
       "      <td>0.104262</td>\n",
       "      <td>0.314575</td>\n",
       "      <td>NaN</td>\n",
       "      <td>NaN</td>\n",
       "      <td>NaN</td>\n",
       "    </tr>\n",
       "    <tr>\n",
       "      <th>30235</th>\n",
       "      <td>0.755924</td>\n",
       "      <td>0.854810</td>\n",
       "      <td>NaN</td>\n",
       "      <td>NaN</td>\n",
       "      <td>NaN</td>\n",
       "    </tr>\n",
       "    <tr>\n",
       "      <th>30237</th>\n",
       "      <td>0.433540</td>\n",
       "      <td>0.603562</td>\n",
       "      <td>NaN</td>\n",
       "      <td>NaN</td>\n",
       "      <td>NaN</td>\n",
       "    </tr>\n",
       "  </tbody>\n",
       "</table>\n",
       "<p>24623 rows × 5 columns</p>\n",
       "</div>"
      ],
      "text/plain": [
       "           pval       fdr log2_mean_preadipo log2_mean_adipo log2_fold_change\n",
       "0      0.029213  0.124449                NaN             NaN              NaN\n",
       "2      0.436098  0.605981                NaN             NaN              NaN\n",
       "3      0.371879  0.541478                NaN             NaN              NaN\n",
       "4      0.403271  0.574002                NaN             NaN              NaN\n",
       "9      0.032582  0.135853                NaN             NaN              NaN\n",
       "...         ...       ...                ...             ...              ...\n",
       "30232  1.000000  1.000000                NaN             NaN              NaN\n",
       "30233  0.767912  0.863298                NaN             NaN              NaN\n",
       "30234  0.104262  0.314575                NaN             NaN              NaN\n",
       "30235  0.755924  0.854810                NaN             NaN              NaN\n",
       "30237  0.433540  0.603562                NaN             NaN              NaN\n",
       "\n",
       "[24623 rows x 5 columns]"
      ]
     },
     "execution_count": 349,
     "metadata": {},
     "output_type": "execute_result"
    }
   ],
   "source": [
    "de_results[de_results[\"fdr\"] >= 0.05]"
   ]
  },
  {
   "attachments": {},
   "cell_type": "markdown",
   "metadata": {},
   "source": [
    "24623 genes are differentially expressed (DE) based on this calculation"
   ]
  },
  {
   "attachments": {},
   "cell_type": "markdown",
   "metadata": {},
   "source": [
    "d)"
   ]
  },
  {
   "cell_type": "code",
   "execution_count": 352,
   "metadata": {},
   "outputs": [
    {
     "data": {
      "text/plain": [
       "0        3.666757\n",
       "1        0.104337\n",
       "2        3.399171\n",
       "3        2.887525\n",
       "4        1.432959\n",
       "           ...   \n",
       "30233    0.536053\n",
       "30234    0.655352\n",
       "30235    0.035624\n",
       "30236    0.744161\n",
       "30237    0.232661\n",
       "Length: 30238, dtype: float64"
      ]
     },
     "execution_count": 352,
     "metadata": {},
     "output_type": "execute_result"
    }
   ],
   "source": [
    "np.log2(transcriptomics.iloc[:,1:41].mean(axis=1)+1).reset_index(drop=True)\n",
    "de_results[\"log2_mean_preadipo\"] = np.log2(transcriptomics.iloc[:,1:41].mean(axis=1)+1).reset_index(drop=True)\n",
    "de_results[\"log2_mean_adipo\"] = np.log2(transcriptomics.iloc[:,41:81].mean(axis=1)+1).reset_index(drop=True)\n",
    "de_results"
   ]
  },
  {
   "attachments": {},
   "cell_type": "markdown",
   "metadata": {},
   "source": [
    "e)"
   ]
  },
  {
   "cell_type": "code",
   "execution_count": 354,
   "metadata": {},
   "outputs": [
    {
     "data": {
      "text/html": [
       "<div>\n",
       "<style scoped>\n",
       "    .dataframe tbody tr th:only-of-type {\n",
       "        vertical-align: middle;\n",
       "    }\n",
       "\n",
       "    .dataframe tbody tr th {\n",
       "        vertical-align: top;\n",
       "    }\n",
       "\n",
       "    .dataframe thead th {\n",
       "        text-align: right;\n",
       "    }\n",
       "</style>\n",
       "<table border=\"1\" class=\"dataframe\">\n",
       "  <thead>\n",
       "    <tr style=\"text-align: right;\">\n",
       "      <th></th>\n",
       "      <th>pval</th>\n",
       "      <th>fdr</th>\n",
       "      <th>log2_mean_preadipo</th>\n",
       "      <th>log2_mean_adipo</th>\n",
       "      <th>log2_fold_change</th>\n",
       "    </tr>\n",
       "    <tr>\n",
       "      <th>Unnamed: 0</th>\n",
       "      <th></th>\n",
       "      <th></th>\n",
       "      <th></th>\n",
       "      <th></th>\n",
       "      <th></th>\n",
       "    </tr>\n",
       "  </thead>\n",
       "  <tbody>\n",
       "    <tr>\n",
       "      <th>ENSG00000000003</th>\n",
       "      <td>2.921284e-02</td>\n",
       "      <td>1.244489e-01</td>\n",
       "      <td>3.666757</td>\n",
       "      <td>4.053111</td>\n",
       "      <td>0.386355</td>\n",
       "    </tr>\n",
       "    <tr>\n",
       "      <th>ENSG00000000005</th>\n",
       "      <td>7.456877e-09</td>\n",
       "      <td>1.877444e-07</td>\n",
       "      <td>0.104337</td>\n",
       "      <td>2.378512</td>\n",
       "      <td>2.274175</td>\n",
       "    </tr>\n",
       "    <tr>\n",
       "      <th>ENSG00000000419</th>\n",
       "      <td>4.360984e-01</td>\n",
       "      <td>6.059806e-01</td>\n",
       "      <td>3.399171</td>\n",
       "      <td>3.251719</td>\n",
       "      <td>-0.147452</td>\n",
       "    </tr>\n",
       "    <tr>\n",
       "      <th>ENSG00000000457</th>\n",
       "      <td>3.718791e-01</td>\n",
       "      <td>5.414783e-01</td>\n",
       "      <td>2.887525</td>\n",
       "      <td>3.031219</td>\n",
       "      <td>0.143693</td>\n",
       "    </tr>\n",
       "    <tr>\n",
       "      <th>ENSG00000000460</th>\n",
       "      <td>4.032710e-01</td>\n",
       "      <td>5.740024e-01</td>\n",
       "      <td>1.432959</td>\n",
       "      <td>1.201634</td>\n",
       "      <td>-0.231326</td>\n",
       "    </tr>\n",
       "    <tr>\n",
       "      <th>...</th>\n",
       "      <td>...</td>\n",
       "      <td>...</td>\n",
       "      <td>...</td>\n",
       "      <td>...</td>\n",
       "      <td>...</td>\n",
       "    </tr>\n",
       "    <tr>\n",
       "      <th>ENSG00000273485</th>\n",
       "      <td>7.679125e-01</td>\n",
       "      <td>8.632984e-01</td>\n",
       "      <td>0.536053</td>\n",
       "      <td>0.944858</td>\n",
       "      <td>0.408806</td>\n",
       "    </tr>\n",
       "    <tr>\n",
       "      <th>ENSG00000273486</th>\n",
       "      <td>1.042618e-01</td>\n",
       "      <td>3.145747e-01</td>\n",
       "      <td>0.655352</td>\n",
       "      <td>1.035624</td>\n",
       "      <td>0.380272</td>\n",
       "    </tr>\n",
       "    <tr>\n",
       "      <th>ENSG00000273487</th>\n",
       "      <td>7.559239e-01</td>\n",
       "      <td>8.548103e-01</td>\n",
       "      <td>0.035624</td>\n",
       "      <td>0.070389</td>\n",
       "      <td>0.034765</td>\n",
       "    </tr>\n",
       "    <tr>\n",
       "      <th>ENSG00000273489</th>\n",
       "      <td>7.549140e-03</td>\n",
       "      <td>4.241880e-02</td>\n",
       "      <td>0.744161</td>\n",
       "      <td>0.070389</td>\n",
       "      <td>-0.673772</td>\n",
       "    </tr>\n",
       "    <tr>\n",
       "      <th>ENSG00000273493</th>\n",
       "      <td>4.335396e-01</td>\n",
       "      <td>6.035621e-01</td>\n",
       "      <td>0.232661</td>\n",
       "      <td>0.405992</td>\n",
       "      <td>0.173332</td>\n",
       "    </tr>\n",
       "  </tbody>\n",
       "</table>\n",
       "<p>30238 rows × 5 columns</p>\n",
       "</div>"
      ],
      "text/plain": [
       "                         pval           fdr  log2_mean_preadipo  \\\n",
       "Unnamed: 0                                                        \n",
       "ENSG00000000003  2.921284e-02  1.244489e-01            3.666757   \n",
       "ENSG00000000005  7.456877e-09  1.877444e-07            0.104337   \n",
       "ENSG00000000419  4.360984e-01  6.059806e-01            3.399171   \n",
       "ENSG00000000457  3.718791e-01  5.414783e-01            2.887525   \n",
       "ENSG00000000460  4.032710e-01  5.740024e-01            1.432959   \n",
       "...                       ...           ...                 ...   \n",
       "ENSG00000273485  7.679125e-01  8.632984e-01            0.536053   \n",
       "ENSG00000273486  1.042618e-01  3.145747e-01            0.655352   \n",
       "ENSG00000273487  7.559239e-01  8.548103e-01            0.035624   \n",
       "ENSG00000273489  7.549140e-03  4.241880e-02            0.744161   \n",
       "ENSG00000273493  4.335396e-01  6.035621e-01            0.232661   \n",
       "\n",
       "                 log2_mean_adipo  log2_fold_change  \n",
       "Unnamed: 0                                          \n",
       "ENSG00000000003         4.053111          0.386355  \n",
       "ENSG00000000005         2.378512          2.274175  \n",
       "ENSG00000000419         3.251719         -0.147452  \n",
       "ENSG00000000457         3.031219          0.143693  \n",
       "ENSG00000000460         1.201634         -0.231326  \n",
       "...                          ...               ...  \n",
       "ENSG00000273485         0.944858          0.408806  \n",
       "ENSG00000273486         1.035624          0.380272  \n",
       "ENSG00000273487         0.070389          0.034765  \n",
       "ENSG00000273489         0.070389         -0.673772  \n",
       "ENSG00000273493         0.405992          0.173332  \n",
       "\n",
       "[30238 rows x 5 columns]"
      ]
     },
     "execution_count": 354,
     "metadata": {},
     "output_type": "execute_result"
    }
   ],
   "source": [
    "de_results[\"log2_fold_change\"] = de_results[\"log2_mean_adipo\"] - de_results[\"log2_mean_preadipo\"]\n",
    "de_results.index = transcriptomics[\"Unnamed: 0\"]\n",
    "de_results"
   ]
  },
  {
   "attachments": {},
   "cell_type": "markdown",
   "metadata": {},
   "source": [
    "f)"
   ]
  },
  {
   "cell_type": "code",
   "execution_count": 355,
   "metadata": {},
   "outputs": [
    {
     "data": {
      "text/html": [
       "<div>\n",
       "<style scoped>\n",
       "    .dataframe tbody tr th:only-of-type {\n",
       "        vertical-align: middle;\n",
       "    }\n",
       "\n",
       "    .dataframe tbody tr th {\n",
       "        vertical-align: top;\n",
       "    }\n",
       "\n",
       "    .dataframe thead th {\n",
       "        text-align: right;\n",
       "    }\n",
       "</style>\n",
       "<table border=\"1\" class=\"dataframe\">\n",
       "  <thead>\n",
       "    <tr style=\"text-align: right;\">\n",
       "      <th></th>\n",
       "      <th>pval</th>\n",
       "      <th>fdr</th>\n",
       "      <th>log2_mean_preadipo</th>\n",
       "      <th>log2_mean_adipo</th>\n",
       "      <th>log2_fold_change</th>\n",
       "    </tr>\n",
       "    <tr>\n",
       "      <th>Unnamed: 0</th>\n",
       "      <th></th>\n",
       "      <th></th>\n",
       "      <th></th>\n",
       "      <th></th>\n",
       "      <th></th>\n",
       "    </tr>\n",
       "  </thead>\n",
       "  <tbody>\n",
       "    <tr>\n",
       "      <th>ENSG00000170323</th>\n",
       "      <td>3.144794e-46</td>\n",
       "      <td>7.404844e-42</td>\n",
       "      <td>6.845176</td>\n",
       "      <td>13.011066</td>\n",
       "      <td>6.165889</td>\n",
       "    </tr>\n",
       "    <tr>\n",
       "      <th>ENSG00000130208</th>\n",
       "      <td>8.895025e-39</td>\n",
       "      <td>1.222581e-35</td>\n",
       "      <td>7.183883</td>\n",
       "      <td>13.134579</td>\n",
       "      <td>5.950695</td>\n",
       "    </tr>\n",
       "    <tr>\n",
       "      <th>ENSG00000055957</th>\n",
       "      <td>1.698795e-39</td>\n",
       "      <td>3.210511e-36</td>\n",
       "      <td>2.255501</td>\n",
       "      <td>7.901772</td>\n",
       "      <td>5.646271</td>\n",
       "    </tr>\n",
       "    <tr>\n",
       "      <th>ENSG00000122378</th>\n",
       "      <td>4.726720e-43</td>\n",
       "      <td>2.858531e-39</td>\n",
       "      <td>3.520422</td>\n",
       "      <td>9.164656</td>\n",
       "      <td>5.644233</td>\n",
       "    </tr>\n",
       "    <tr>\n",
       "      <th>ENSG00000135447</th>\n",
       "      <td>2.149862e-40</td>\n",
       "      <td>5.909776e-37</td>\n",
       "      <td>1.419539</td>\n",
       "      <td>6.984988</td>\n",
       "      <td>5.565449</td>\n",
       "    </tr>\n",
       "    <tr>\n",
       "      <th>...</th>\n",
       "      <td>...</td>\n",
       "      <td>...</td>\n",
       "      <td>...</td>\n",
       "      <td>...</td>\n",
       "      <td>...</td>\n",
       "    </tr>\n",
       "    <tr>\n",
       "      <th>ENSG00000089685</th>\n",
       "      <td>2.943092e-11</td>\n",
       "      <td>1.105506e-09</td>\n",
       "      <td>5.984703</td>\n",
       "      <td>3.083213</td>\n",
       "      <td>-2.901490</td>\n",
       "    </tr>\n",
       "    <tr>\n",
       "      <th>ENSG00000117399</th>\n",
       "      <td>2.514095e-07</td>\n",
       "      <td>4.778202e-06</td>\n",
       "      <td>4.842979</td>\n",
       "      <td>1.877744</td>\n",
       "      <td>-2.965235</td>\n",
       "    </tr>\n",
       "    <tr>\n",
       "      <th>ENSG00000149968</th>\n",
       "      <td>3.987162e-15</td>\n",
       "      <td>2.638158e-13</td>\n",
       "      <td>4.836682</td>\n",
       "      <td>1.827819</td>\n",
       "      <td>-3.008863</td>\n",
       "    </tr>\n",
       "    <tr>\n",
       "      <th>ENSG00000264433</th>\n",
       "      <td>1.631710e-14</td>\n",
       "      <td>1.013135e-12</td>\n",
       "      <td>4.330917</td>\n",
       "      <td>1.247928</td>\n",
       "      <td>-3.082989</td>\n",
       "    </tr>\n",
       "    <tr>\n",
       "      <th>ENSG00000214100</th>\n",
       "      <td>1.321941e-25</td>\n",
       "      <td>3.359063e-23</td>\n",
       "      <td>5.807999</td>\n",
       "      <td>2.399171</td>\n",
       "      <td>-3.408828</td>\n",
       "    </tr>\n",
       "  </tbody>\n",
       "</table>\n",
       "<p>30238 rows × 5 columns</p>\n",
       "</div>"
      ],
      "text/plain": [
       "                         pval           fdr  log2_mean_preadipo  \\\n",
       "Unnamed: 0                                                        \n",
       "ENSG00000170323  3.144794e-46  7.404844e-42            6.845176   \n",
       "ENSG00000130208  8.895025e-39  1.222581e-35            7.183883   \n",
       "ENSG00000055957  1.698795e-39  3.210511e-36            2.255501   \n",
       "ENSG00000122378  4.726720e-43  2.858531e-39            3.520422   \n",
       "ENSG00000135447  2.149862e-40  5.909776e-37            1.419539   \n",
       "...                       ...           ...                 ...   \n",
       "ENSG00000089685  2.943092e-11  1.105506e-09            5.984703   \n",
       "ENSG00000117399  2.514095e-07  4.778202e-06            4.842979   \n",
       "ENSG00000149968  3.987162e-15  2.638158e-13            4.836682   \n",
       "ENSG00000264433  1.631710e-14  1.013135e-12            4.330917   \n",
       "ENSG00000214100  1.321941e-25  3.359063e-23            5.807999   \n",
       "\n",
       "                 log2_mean_adipo  log2_fold_change  \n",
       "Unnamed: 0                                          \n",
       "ENSG00000170323        13.011066          6.165889  \n",
       "ENSG00000130208        13.134579          5.950695  \n",
       "ENSG00000055957         7.901772          5.646271  \n",
       "ENSG00000122378         9.164656          5.644233  \n",
       "ENSG00000135447         6.984988          5.565449  \n",
       "...                          ...               ...  \n",
       "ENSG00000089685         3.083213         -2.901490  \n",
       "ENSG00000117399         1.877744         -2.965235  \n",
       "ENSG00000149968         1.827819         -3.008863  \n",
       "ENSG00000264433         1.247928         -3.082989  \n",
       "ENSG00000214100         2.399171         -3.408828  \n",
       "\n",
       "[30238 rows x 5 columns]"
      ]
     },
     "execution_count": 355,
     "metadata": {},
     "output_type": "execute_result"
    }
   ],
   "source": [
    "de_results.sort_values('log2_fold_change', ascending=False, inplace=True)\n",
    "de_results = de_results[de_results[\"fdr\"] < 0.05]\n",
    "de_results = de_results[de_results[\"log2_fold_change\"] > 1]\n",
    "de_results"
   ]
  },
  {
   "attachments": {},
   "cell_type": "markdown",
   "metadata": {},
   "source": [
    "3) a)"
   ]
  },
  {
   "cell_type": "code",
   "execution_count": 357,
   "metadata": {},
   "outputs": [
    {
     "data": {
      "text/html": [
       "<div>\n",
       "<style scoped>\n",
       "    .dataframe tbody tr th:only-of-type {\n",
       "        vertical-align: middle;\n",
       "    }\n",
       "\n",
       "    .dataframe tbody tr th {\n",
       "        vertical-align: top;\n",
       "    }\n",
       "\n",
       "    .dataframe thead th {\n",
       "        text-align: right;\n",
       "    }\n",
       "</style>\n",
       "<table border=\"1\" class=\"dataframe\">\n",
       "  <thead>\n",
       "    <tr style=\"text-align: right;\">\n",
       "      <th></th>\n",
       "      <th>pval</th>\n",
       "      <th>fdr</th>\n",
       "      <th>log2_mean_preadipo</th>\n",
       "      <th>log2_mean_adipo</th>\n",
       "      <th>log2_fold_change</th>\n",
       "      <th>gene_symbol</th>\n",
       "    </tr>\n",
       "    <tr>\n",
       "      <th>Unnamed: 0</th>\n",
       "      <th></th>\n",
       "      <th></th>\n",
       "      <th></th>\n",
       "      <th></th>\n",
       "      <th></th>\n",
       "      <th></th>\n",
       "    </tr>\n",
       "  </thead>\n",
       "  <tbody>\n",
       "    <tr>\n",
       "      <th>ENSG00000170323</th>\n",
       "      <td>3.144794e-46</td>\n",
       "      <td>7.404844e-42</td>\n",
       "      <td>6.845176</td>\n",
       "      <td>13.011066</td>\n",
       "      <td>6.165889</td>\n",
       "      <td>NaN</td>\n",
       "    </tr>\n",
       "    <tr>\n",
       "      <th>ENSG00000130208</th>\n",
       "      <td>8.895025e-39</td>\n",
       "      <td>1.222581e-35</td>\n",
       "      <td>7.183883</td>\n",
       "      <td>13.134579</td>\n",
       "      <td>5.950695</td>\n",
       "      <td>NaN</td>\n",
       "    </tr>\n",
       "    <tr>\n",
       "      <th>ENSG00000055957</th>\n",
       "      <td>1.698795e-39</td>\n",
       "      <td>3.210511e-36</td>\n",
       "      <td>2.255501</td>\n",
       "      <td>7.901772</td>\n",
       "      <td>5.646271</td>\n",
       "      <td>NaN</td>\n",
       "    </tr>\n",
       "    <tr>\n",
       "      <th>ENSG00000122378</th>\n",
       "      <td>4.726720e-43</td>\n",
       "      <td>2.858531e-39</td>\n",
       "      <td>3.520422</td>\n",
       "      <td>9.164656</td>\n",
       "      <td>5.644233</td>\n",
       "      <td>NaN</td>\n",
       "    </tr>\n",
       "    <tr>\n",
       "      <th>ENSG00000135447</th>\n",
       "      <td>2.149862e-40</td>\n",
       "      <td>5.909776e-37</td>\n",
       "      <td>1.419539</td>\n",
       "      <td>6.984988</td>\n",
       "      <td>5.565449</td>\n",
       "      <td>NaN</td>\n",
       "    </tr>\n",
       "    <tr>\n",
       "      <th>...</th>\n",
       "      <td>...</td>\n",
       "      <td>...</td>\n",
       "      <td>...</td>\n",
       "      <td>...</td>\n",
       "      <td>...</td>\n",
       "      <td>...</td>\n",
       "    </tr>\n",
       "    <tr>\n",
       "      <th>ENSG00000099785</th>\n",
       "      <td>2.521863e-09</td>\n",
       "      <td>7.002395e-08</td>\n",
       "      <td>4.346957</td>\n",
       "      <td>5.350497</td>\n",
       "      <td>1.003540</td>\n",
       "      <td>NaN</td>\n",
       "    </tr>\n",
       "    <tr>\n",
       "      <th>ENSG00000187824</th>\n",
       "      <td>1.747159e-07</td>\n",
       "      <td>3.423888e-06</td>\n",
       "      <td>3.617651</td>\n",
       "      <td>4.620586</td>\n",
       "      <td>1.002935</td>\n",
       "      <td>NaN</td>\n",
       "    </tr>\n",
       "    <tr>\n",
       "      <th>ENSG00000100412</th>\n",
       "      <td>8.848764e-08</td>\n",
       "      <td>1.817724e-06</td>\n",
       "      <td>4.499846</td>\n",
       "      <td>5.500643</td>\n",
       "      <td>1.000797</td>\n",
       "      <td>NaN</td>\n",
       "    </tr>\n",
       "    <tr>\n",
       "      <th>ENSG00000120129</th>\n",
       "      <td>1.607696e-04</td>\n",
       "      <td>1.567672e-03</td>\n",
       "      <td>4.710118</td>\n",
       "      <td>5.710806</td>\n",
       "      <td>1.000689</td>\n",
       "      <td>NaN</td>\n",
       "    </tr>\n",
       "    <tr>\n",
       "      <th>ENSG00000178573</th>\n",
       "      <td>4.997932e-04</td>\n",
       "      <td>4.207335e-03</td>\n",
       "      <td>1.837943</td>\n",
       "      <td>2.837943</td>\n",
       "      <td>1.000000</td>\n",
       "      <td>NaN</td>\n",
       "    </tr>\n",
       "  </tbody>\n",
       "</table>\n",
       "<p>1204 rows × 6 columns</p>\n",
       "</div>"
      ],
      "text/plain": [
       "                         pval           fdr  log2_mean_preadipo  \\\n",
       "Unnamed: 0                                                        \n",
       "ENSG00000170323  3.144794e-46  7.404844e-42            6.845176   \n",
       "ENSG00000130208  8.895025e-39  1.222581e-35            7.183883   \n",
       "ENSG00000055957  1.698795e-39  3.210511e-36            2.255501   \n",
       "ENSG00000122378  4.726720e-43  2.858531e-39            3.520422   \n",
       "ENSG00000135447  2.149862e-40  5.909776e-37            1.419539   \n",
       "...                       ...           ...                 ...   \n",
       "ENSG00000099785  2.521863e-09  7.002395e-08            4.346957   \n",
       "ENSG00000187824  1.747159e-07  3.423888e-06            3.617651   \n",
       "ENSG00000100412  8.848764e-08  1.817724e-06            4.499846   \n",
       "ENSG00000120129  1.607696e-04  1.567672e-03            4.710118   \n",
       "ENSG00000178573  4.997932e-04  4.207335e-03            1.837943   \n",
       "\n",
       "                 log2_mean_adipo  log2_fold_change gene_symbol  \n",
       "Unnamed: 0                                                      \n",
       "ENSG00000170323        13.011066          6.165889         NaN  \n",
       "ENSG00000130208        13.134579          5.950695         NaN  \n",
       "ENSG00000055957         7.901772          5.646271         NaN  \n",
       "ENSG00000122378         9.164656          5.644233         NaN  \n",
       "ENSG00000135447         6.984988          5.565449         NaN  \n",
       "...                          ...               ...         ...  \n",
       "ENSG00000099785         5.350497          1.003540         NaN  \n",
       "ENSG00000187824         4.620586          1.002935         NaN  \n",
       "ENSG00000100412         5.500643          1.000797         NaN  \n",
       "ENSG00000120129         5.710806          1.000689         NaN  \n",
       "ENSG00000178573         2.837943          1.000000         NaN  \n",
       "\n",
       "[1204 rows x 6 columns]"
      ]
     },
     "execution_count": 357,
     "metadata": {},
     "output_type": "execute_result"
    }
   ],
   "source": [
    "gene_annotation = pd.read_csv( os.path.join(core_path, 'Homo_sapiens.GRCh37.75.gene_annotation.txt'),sep= \"\\t\")\n",
    "gene_annotation.iloc[transcriptomics.index,:]\n",
    "de_results[\"gene_symbol\"] = gene_annotation.Name\n",
    "de_results"
   ]
  },
  {
   "cell_type": "code",
   "execution_count": 362,
   "metadata": {},
   "outputs": [
    {
     "data": {
      "text/html": [
       "<div>\n",
       "<style scoped>\n",
       "    .dataframe tbody tr th:only-of-type {\n",
       "        vertical-align: middle;\n",
       "    }\n",
       "\n",
       "    .dataframe tbody tr th {\n",
       "        vertical-align: top;\n",
       "    }\n",
       "\n",
       "    .dataframe thead th {\n",
       "        text-align: right;\n",
       "    }\n",
       "</style>\n",
       "<table border=\"1\" class=\"dataframe\">\n",
       "  <thead>\n",
       "    <tr style=\"text-align: right;\">\n",
       "      <th></th>\n",
       "      <th>Unnamed: 0</th>\n",
       "      <th>Sample_1_preadi</th>\n",
       "      <th>Sample_2_preadi</th>\n",
       "      <th>Sample_3_preadi</th>\n",
       "      <th>Sample_4_preadi</th>\n",
       "      <th>Sample_5_preadi</th>\n",
       "      <th>Sample_6_preadi</th>\n",
       "      <th>Sample_7_preadi</th>\n",
       "      <th>Sample_8_preadi</th>\n",
       "      <th>Sample_9_preadi</th>\n",
       "      <th>...</th>\n",
       "      <th>Sample_72_adipo</th>\n",
       "      <th>Sample_73_adipo</th>\n",
       "      <th>Sample_74_adipo</th>\n",
       "      <th>Sample_75_adipo</th>\n",
       "      <th>Sample_76_adipo</th>\n",
       "      <th>Sample_77_adipo</th>\n",
       "      <th>Sample_78_adipo</th>\n",
       "      <th>Sample_79_adipo</th>\n",
       "      <th>Sample_80_adipo</th>\n",
       "      <th>Name</th>\n",
       "    </tr>\n",
       "  </thead>\n",
       "  <tbody>\n",
       "    <tr>\n",
       "      <th>0</th>\n",
       "      <td>ENSG00000000003</td>\n",
       "      <td>18.0</td>\n",
       "      <td>12.0</td>\n",
       "      <td>9.0</td>\n",
       "      <td>20.0</td>\n",
       "      <td>9.0</td>\n",
       "      <td>13.0</td>\n",
       "      <td>20.0</td>\n",
       "      <td>8.0</td>\n",
       "      <td>4.0</td>\n",
       "      <td>...</td>\n",
       "      <td>9.0</td>\n",
       "      <td>30.0</td>\n",
       "      <td>9.0</td>\n",
       "      <td>23.0</td>\n",
       "      <td>16.0</td>\n",
       "      <td>3.0</td>\n",
       "      <td>14.0</td>\n",
       "      <td>11.0</td>\n",
       "      <td>16.0</td>\n",
       "      <td>RN7SL575P</td>\n",
       "    </tr>\n",
       "    <tr>\n",
       "      <th>1</th>\n",
       "      <td>ENSG00000000005</td>\n",
       "      <td>0.0</td>\n",
       "      <td>0.0</td>\n",
       "      <td>0.0</td>\n",
       "      <td>2.0</td>\n",
       "      <td>0.0</td>\n",
       "      <td>0.0</td>\n",
       "      <td>0.0</td>\n",
       "      <td>0.0</td>\n",
       "      <td>0.0</td>\n",
       "      <td>...</td>\n",
       "      <td>1.0</td>\n",
       "      <td>29.0</td>\n",
       "      <td>2.0</td>\n",
       "      <td>22.0</td>\n",
       "      <td>3.0</td>\n",
       "      <td>0.0</td>\n",
       "      <td>2.0</td>\n",
       "      <td>0.0</td>\n",
       "      <td>5.0</td>\n",
       "      <td>HLA-DPB2</td>\n",
       "    </tr>\n",
       "    <tr>\n",
       "      <th>2</th>\n",
       "      <td>ENSG00000000419</td>\n",
       "      <td>10.0</td>\n",
       "      <td>9.0</td>\n",
       "      <td>9.0</td>\n",
       "      <td>8.0</td>\n",
       "      <td>10.0</td>\n",
       "      <td>10.0</td>\n",
       "      <td>6.0</td>\n",
       "      <td>35.0</td>\n",
       "      <td>13.0</td>\n",
       "      <td>...</td>\n",
       "      <td>9.0</td>\n",
       "      <td>9.0</td>\n",
       "      <td>15.0</td>\n",
       "      <td>8.0</td>\n",
       "      <td>9.0</td>\n",
       "      <td>9.0</td>\n",
       "      <td>4.0</td>\n",
       "      <td>16.0</td>\n",
       "      <td>5.0</td>\n",
       "      <td>ARF4</td>\n",
       "    </tr>\n",
       "    <tr>\n",
       "      <th>3</th>\n",
       "      <td>ENSG00000000457</td>\n",
       "      <td>0.0</td>\n",
       "      <td>11.0</td>\n",
       "      <td>0.0</td>\n",
       "      <td>6.0</td>\n",
       "      <td>2.0</td>\n",
       "      <td>12.0</td>\n",
       "      <td>11.0</td>\n",
       "      <td>1.0</td>\n",
       "      <td>2.0</td>\n",
       "      <td>...</td>\n",
       "      <td>8.0</td>\n",
       "      <td>8.0</td>\n",
       "      <td>5.0</td>\n",
       "      <td>6.0</td>\n",
       "      <td>0.0</td>\n",
       "      <td>12.0</td>\n",
       "      <td>13.0</td>\n",
       "      <td>4.0</td>\n",
       "      <td>11.0</td>\n",
       "      <td>HIST1H4PS1</td>\n",
       "    </tr>\n",
       "    <tr>\n",
       "      <th>4</th>\n",
       "      <td>ENSG00000000460</td>\n",
       "      <td>0.0</td>\n",
       "      <td>0.0</td>\n",
       "      <td>14.0</td>\n",
       "      <td>4.0</td>\n",
       "      <td>5.0</td>\n",
       "      <td>0.0</td>\n",
       "      <td>0.0</td>\n",
       "      <td>6.0</td>\n",
       "      <td>4.0</td>\n",
       "      <td>...</td>\n",
       "      <td>0.0</td>\n",
       "      <td>3.0</td>\n",
       "      <td>0.0</td>\n",
       "      <td>1.0</td>\n",
       "      <td>0.0</td>\n",
       "      <td>1.0</td>\n",
       "      <td>4.0</td>\n",
       "      <td>0.0</td>\n",
       "      <td>10.0</td>\n",
       "      <td>RP11-768G7.3</td>\n",
       "    </tr>\n",
       "    <tr>\n",
       "      <th>...</th>\n",
       "      <td>...</td>\n",
       "      <td>...</td>\n",
       "      <td>...</td>\n",
       "      <td>...</td>\n",
       "      <td>...</td>\n",
       "      <td>...</td>\n",
       "      <td>...</td>\n",
       "      <td>...</td>\n",
       "      <td>...</td>\n",
       "      <td>...</td>\n",
       "      <td>...</td>\n",
       "      <td>...</td>\n",
       "      <td>...</td>\n",
       "      <td>...</td>\n",
       "      <td>...</td>\n",
       "      <td>...</td>\n",
       "      <td>...</td>\n",
       "      <td>...</td>\n",
       "      <td>...</td>\n",
       "      <td>...</td>\n",
       "      <td>...</td>\n",
       "    </tr>\n",
       "    <tr>\n",
       "      <th>63667</th>\n",
       "      <td>NaN</td>\n",
       "      <td>NaN</td>\n",
       "      <td>NaN</td>\n",
       "      <td>NaN</td>\n",
       "      <td>NaN</td>\n",
       "      <td>NaN</td>\n",
       "      <td>NaN</td>\n",
       "      <td>NaN</td>\n",
       "      <td>NaN</td>\n",
       "      <td>NaN</td>\n",
       "      <td>...</td>\n",
       "      <td>NaN</td>\n",
       "      <td>NaN</td>\n",
       "      <td>NaN</td>\n",
       "      <td>NaN</td>\n",
       "      <td>NaN</td>\n",
       "      <td>NaN</td>\n",
       "      <td>NaN</td>\n",
       "      <td>NaN</td>\n",
       "      <td>NaN</td>\n",
       "      <td>BX322559.3</td>\n",
       "    </tr>\n",
       "    <tr>\n",
       "      <th>63671</th>\n",
       "      <td>NaN</td>\n",
       "      <td>NaN</td>\n",
       "      <td>NaN</td>\n",
       "      <td>NaN</td>\n",
       "      <td>NaN</td>\n",
       "      <td>NaN</td>\n",
       "      <td>NaN</td>\n",
       "      <td>NaN</td>\n",
       "      <td>NaN</td>\n",
       "      <td>NaN</td>\n",
       "      <td>...</td>\n",
       "      <td>NaN</td>\n",
       "      <td>NaN</td>\n",
       "      <td>NaN</td>\n",
       "      <td>NaN</td>\n",
       "      <td>NaN</td>\n",
       "      <td>NaN</td>\n",
       "      <td>NaN</td>\n",
       "      <td>NaN</td>\n",
       "      <td>NaN</td>\n",
       "      <td>RP11-184A2.2</td>\n",
       "    </tr>\n",
       "    <tr>\n",
       "      <th>63673</th>\n",
       "      <td>NaN</td>\n",
       "      <td>NaN</td>\n",
       "      <td>NaN</td>\n",
       "      <td>NaN</td>\n",
       "      <td>NaN</td>\n",
       "      <td>NaN</td>\n",
       "      <td>NaN</td>\n",
       "      <td>NaN</td>\n",
       "      <td>NaN</td>\n",
       "      <td>NaN</td>\n",
       "      <td>...</td>\n",
       "      <td>NaN</td>\n",
       "      <td>NaN</td>\n",
       "      <td>NaN</td>\n",
       "      <td>NaN</td>\n",
       "      <td>NaN</td>\n",
       "      <td>NaN</td>\n",
       "      <td>NaN</td>\n",
       "      <td>NaN</td>\n",
       "      <td>NaN</td>\n",
       "      <td>AC113617.1</td>\n",
       "    </tr>\n",
       "    <tr>\n",
       "      <th>63674</th>\n",
       "      <td>NaN</td>\n",
       "      <td>NaN</td>\n",
       "      <td>NaN</td>\n",
       "      <td>NaN</td>\n",
       "      <td>NaN</td>\n",
       "      <td>NaN</td>\n",
       "      <td>NaN</td>\n",
       "      <td>NaN</td>\n",
       "      <td>NaN</td>\n",
       "      <td>NaN</td>\n",
       "      <td>...</td>\n",
       "      <td>NaN</td>\n",
       "      <td>NaN</td>\n",
       "      <td>NaN</td>\n",
       "      <td>NaN</td>\n",
       "      <td>NaN</td>\n",
       "      <td>NaN</td>\n",
       "      <td>NaN</td>\n",
       "      <td>NaN</td>\n",
       "      <td>NaN</td>\n",
       "      <td>HSD17B8</td>\n",
       "    </tr>\n",
       "    <tr>\n",
       "      <th>63675</th>\n",
       "      <td>NaN</td>\n",
       "      <td>NaN</td>\n",
       "      <td>NaN</td>\n",
       "      <td>NaN</td>\n",
       "      <td>NaN</td>\n",
       "      <td>NaN</td>\n",
       "      <td>NaN</td>\n",
       "      <td>NaN</td>\n",
       "      <td>NaN</td>\n",
       "      <td>NaN</td>\n",
       "      <td>...</td>\n",
       "      <td>NaN</td>\n",
       "      <td>NaN</td>\n",
       "      <td>NaN</td>\n",
       "      <td>NaN</td>\n",
       "      <td>NaN</td>\n",
       "      <td>NaN</td>\n",
       "      <td>NaN</td>\n",
       "      <td>NaN</td>\n",
       "      <td>NaN</td>\n",
       "      <td>VPREB1</td>\n",
       "    </tr>\n",
       "  </tbody>\n",
       "</table>\n",
       "<p>63677 rows × 82 columns</p>\n",
       "</div>"
      ],
      "text/plain": [
       "            Unnamed: 0  Sample_1_preadi  Sample_2_preadi  Sample_3_preadi  \\\n",
       "0      ENSG00000000003             18.0             12.0              9.0   \n",
       "1      ENSG00000000005              0.0              0.0              0.0   \n",
       "2      ENSG00000000419             10.0              9.0              9.0   \n",
       "3      ENSG00000000457              0.0             11.0              0.0   \n",
       "4      ENSG00000000460              0.0              0.0             14.0   \n",
       "...                ...              ...              ...              ...   \n",
       "63667              NaN              NaN              NaN              NaN   \n",
       "63671              NaN              NaN              NaN              NaN   \n",
       "63673              NaN              NaN              NaN              NaN   \n",
       "63674              NaN              NaN              NaN              NaN   \n",
       "63675              NaN              NaN              NaN              NaN   \n",
       "\n",
       "       Sample_4_preadi  Sample_5_preadi  Sample_6_preadi  Sample_7_preadi  \\\n",
       "0                 20.0              9.0             13.0             20.0   \n",
       "1                  2.0              0.0              0.0              0.0   \n",
       "2                  8.0             10.0             10.0              6.0   \n",
       "3                  6.0              2.0             12.0             11.0   \n",
       "4                  4.0              5.0              0.0              0.0   \n",
       "...                ...              ...              ...              ...   \n",
       "63667              NaN              NaN              NaN              NaN   \n",
       "63671              NaN              NaN              NaN              NaN   \n",
       "63673              NaN              NaN              NaN              NaN   \n",
       "63674              NaN              NaN              NaN              NaN   \n",
       "63675              NaN              NaN              NaN              NaN   \n",
       "\n",
       "       Sample_8_preadi  Sample_9_preadi  ...  Sample_72_adipo  \\\n",
       "0                  8.0              4.0  ...              9.0   \n",
       "1                  0.0              0.0  ...              1.0   \n",
       "2                 35.0             13.0  ...              9.0   \n",
       "3                  1.0              2.0  ...              8.0   \n",
       "4                  6.0              4.0  ...              0.0   \n",
       "...                ...              ...  ...              ...   \n",
       "63667              NaN              NaN  ...              NaN   \n",
       "63671              NaN              NaN  ...              NaN   \n",
       "63673              NaN              NaN  ...              NaN   \n",
       "63674              NaN              NaN  ...              NaN   \n",
       "63675              NaN              NaN  ...              NaN   \n",
       "\n",
       "       Sample_73_adipo  Sample_74_adipo  Sample_75_adipo  Sample_76_adipo  \\\n",
       "0                 30.0              9.0             23.0             16.0   \n",
       "1                 29.0              2.0             22.0              3.0   \n",
       "2                  9.0             15.0              8.0              9.0   \n",
       "3                  8.0              5.0              6.0              0.0   \n",
       "4                  3.0              0.0              1.0              0.0   \n",
       "...                ...              ...              ...              ...   \n",
       "63667              NaN              NaN              NaN              NaN   \n",
       "63671              NaN              NaN              NaN              NaN   \n",
       "63673              NaN              NaN              NaN              NaN   \n",
       "63674              NaN              NaN              NaN              NaN   \n",
       "63675              NaN              NaN              NaN              NaN   \n",
       "\n",
       "       Sample_77_adipo  Sample_78_adipo  Sample_79_adipo  Sample_80_adipo  \\\n",
       "0                  3.0             14.0             11.0             16.0   \n",
       "1                  0.0              2.0              0.0              5.0   \n",
       "2                  9.0              4.0             16.0              5.0   \n",
       "3                 12.0             13.0              4.0             11.0   \n",
       "4                  1.0              4.0              0.0             10.0   \n",
       "...                ...              ...              ...              ...   \n",
       "63667              NaN              NaN              NaN              NaN   \n",
       "63671              NaN              NaN              NaN              NaN   \n",
       "63673              NaN              NaN              NaN              NaN   \n",
       "63674              NaN              NaN              NaN              NaN   \n",
       "63675              NaN              NaN              NaN              NaN   \n",
       "\n",
       "               Name  \n",
       "0         RN7SL575P  \n",
       "1          HLA-DPB2  \n",
       "2              ARF4  \n",
       "3        HIST1H4PS1  \n",
       "4      RP11-768G7.3  \n",
       "...             ...  \n",
       "63667    BX322559.3  \n",
       "63671  RP11-184A2.2  \n",
       "63673    AC113617.1  \n",
       "63674       HSD17B8  \n",
       "63675        VPREB1  \n",
       "\n",
       "[63677 rows x 82 columns]"
      ]
     },
     "execution_count": 362,
     "metadata": {},
     "output_type": "execute_result"
    }
   ],
   "source": [
    "pd.concat([transcriptomics, gene_annotation.Name], axis=1)"
   ]
  },
  {
   "cell_type": "code",
   "execution_count": 359,
   "metadata": {},
   "outputs": [
    {
     "data": {
      "text/plain": [
       "0           RN7SL575P\n",
       "1            HLA-DPB2\n",
       "2                ARF4\n",
       "3          HIST1H4PS1\n",
       "4        RP11-768G7.3\n",
       "             ...     \n",
       "63672            CDH2\n",
       "63673      AC113617.1\n",
       "63674         HSD17B8\n",
       "63675          VPREB1\n",
       "63676         SLC35A2\n",
       "Name: Name, Length: 63677, dtype: object"
      ]
     },
     "execution_count": 359,
     "metadata": {},
     "output_type": "execute_result"
    }
   ],
   "source": [
    "gene_annotation.Name"
   ]
  },
  {
   "cell_type": "code",
   "execution_count": 364,
   "metadata": {},
   "outputs": [
    {
     "data": {
      "text/html": [
       "<div>\n",
       "<style scoped>\n",
       "    .dataframe tbody tr th:only-of-type {\n",
       "        vertical-align: middle;\n",
       "    }\n",
       "\n",
       "    .dataframe tbody tr th {\n",
       "        vertical-align: top;\n",
       "    }\n",
       "\n",
       "    .dataframe thead th {\n",
       "        text-align: right;\n",
       "    }\n",
       "</style>\n",
       "<table border=\"1\" class=\"dataframe\">\n",
       "  <thead>\n",
       "    <tr style=\"text-align: right;\">\n",
       "      <th></th>\n",
       "      <th>PCA1</th>\n",
       "      <th>PCA2</th>\n",
       "      <th>PCA3</th>\n",
       "      <th>groups</th>\n",
       "    </tr>\n",
       "  </thead>\n",
       "  <tbody>\n",
       "    <tr>\n",
       "      <th>0</th>\n",
       "      <td>-42.826325</td>\n",
       "      <td>58.870454</td>\n",
       "      <td>7.373568</td>\n",
       "      <td>PreAdipo</td>\n",
       "    </tr>\n",
       "    <tr>\n",
       "      <th>1</th>\n",
       "      <td>-46.518798</td>\n",
       "      <td>-5.596100</td>\n",
       "      <td>-14.508786</td>\n",
       "      <td>PreAdipo</td>\n",
       "    </tr>\n",
       "    <tr>\n",
       "      <th>2</th>\n",
       "      <td>-63.707133</td>\n",
       "      <td>-33.929024</td>\n",
       "      <td>37.018309</td>\n",
       "      <td>PreAdipo</td>\n",
       "    </tr>\n",
       "    <tr>\n",
       "      <th>3</th>\n",
       "      <td>-57.726232</td>\n",
       "      <td>-67.490809</td>\n",
       "      <td>-11.262911</td>\n",
       "      <td>PreAdipo</td>\n",
       "    </tr>\n",
       "    <tr>\n",
       "      <th>4</th>\n",
       "      <td>-49.397369</td>\n",
       "      <td>-52.324098</td>\n",
       "      <td>9.429046</td>\n",
       "      <td>PreAdipo</td>\n",
       "    </tr>\n",
       "    <tr>\n",
       "      <th>...</th>\n",
       "      <td>...</td>\n",
       "      <td>...</td>\n",
       "      <td>...</td>\n",
       "      <td>...</td>\n",
       "    </tr>\n",
       "    <tr>\n",
       "      <th>75</th>\n",
       "      <td>53.782769</td>\n",
       "      <td>-3.432689</td>\n",
       "      <td>-58.769944</td>\n",
       "      <td>Adipo</td>\n",
       "    </tr>\n",
       "    <tr>\n",
       "      <th>76</th>\n",
       "      <td>69.008352</td>\n",
       "      <td>1.024680</td>\n",
       "      <td>43.864694</td>\n",
       "      <td>Adipo</td>\n",
       "    </tr>\n",
       "    <tr>\n",
       "      <th>77</th>\n",
       "      <td>61.583718</td>\n",
       "      <td>-54.186683</td>\n",
       "      <td>4.247139</td>\n",
       "      <td>Adipo</td>\n",
       "    </tr>\n",
       "    <tr>\n",
       "      <th>78</th>\n",
       "      <td>30.881711</td>\n",
       "      <td>-23.491756</td>\n",
       "      <td>-43.344795</td>\n",
       "      <td>Adipo</td>\n",
       "    </tr>\n",
       "    <tr>\n",
       "      <th>79</th>\n",
       "      <td>27.239854</td>\n",
       "      <td>-28.855330</td>\n",
       "      <td>-24.864379</td>\n",
       "      <td>Adipo</td>\n",
       "    </tr>\n",
       "  </tbody>\n",
       "</table>\n",
       "<p>80 rows × 4 columns</p>\n",
       "</div>"
      ],
      "text/plain": [
       "         PCA1       PCA2       PCA3    groups\n",
       "0  -42.826325  58.870454   7.373568  PreAdipo\n",
       "1  -46.518798  -5.596100 -14.508786  PreAdipo\n",
       "2  -63.707133 -33.929024  37.018309  PreAdipo\n",
       "3  -57.726232 -67.490809 -11.262911  PreAdipo\n",
       "4  -49.397369 -52.324098   9.429046  PreAdipo\n",
       "..        ...        ...        ...       ...\n",
       "75  53.782769  -3.432689 -58.769944     Adipo\n",
       "76  69.008352   1.024680  43.864694     Adipo\n",
       "77  61.583718 -54.186683   4.247139     Adipo\n",
       "78  30.881711 -23.491756 -43.344795     Adipo\n",
       "79  27.239854 -28.855330 -24.864379     Adipo\n",
       "\n",
       "[80 rows x 4 columns]"
      ]
     },
     "execution_count": 364,
     "metadata": {},
     "output_type": "execute_result"
    }
   ],
   "source": [
    "pca_output_log_df"
   ]
  },
  {
   "cell_type": "code",
   "execution_count": 366,
   "metadata": {},
   "outputs": [
    {
     "ename": "KeyError",
     "evalue": "'ENSG00000170323'",
     "output_type": "error",
     "traceback": [
      "\u001b[0;31m---------------------------------------------------------------------------\u001b[0m",
      "\u001b[0;31mKeyError\u001b[0m                                  Traceback (most recent call last)",
      "File \u001b[0;32m~/opt/anaconda3/lib/python3.8/site-packages/pandas/core/indexes/base.py:3621\u001b[0m, in \u001b[0;36mIndex.get_loc\u001b[0;34m(self, key, method, tolerance)\u001b[0m\n\u001b[1;32m   3620\u001b[0m \u001b[39mtry\u001b[39;00m:\n\u001b[0;32m-> 3621\u001b[0m     \u001b[39mreturn\u001b[39;00m \u001b[39mself\u001b[39;49m\u001b[39m.\u001b[39;49m_engine\u001b[39m.\u001b[39;49mget_loc(casted_key)\n\u001b[1;32m   3622\u001b[0m \u001b[39mexcept\u001b[39;00m \u001b[39mKeyError\u001b[39;00m \u001b[39mas\u001b[39;00m err:\n",
      "File \u001b[0;32m~/opt/anaconda3/lib/python3.8/site-packages/pandas/_libs/index.pyx:136\u001b[0m, in \u001b[0;36mpandas._libs.index.IndexEngine.get_loc\u001b[0;34m()\u001b[0m\n",
      "File \u001b[0;32m~/opt/anaconda3/lib/python3.8/site-packages/pandas/_libs/index.pyx:144\u001b[0m, in \u001b[0;36mpandas._libs.index.IndexEngine.get_loc\u001b[0;34m()\u001b[0m\n",
      "File \u001b[0;32mpandas/_libs/index_class_helper.pxi:41\u001b[0m, in \u001b[0;36mpandas._libs.index.Int64Engine._check_type\u001b[0;34m()\u001b[0m\n",
      "\u001b[0;31mKeyError\u001b[0m: 'ENSG00000170323'",
      "\nThe above exception was the direct cause of the following exception:\n",
      "\u001b[0;31mKeyError\u001b[0m                                  Traceback (most recent call last)",
      "\u001b[1;32m/Users/wesleymonteith/Documents/EPFL/BA5/Genetics_Genomics/Transcriptomics_project/wesley.ipynb Cell 60\u001b[0m in \u001b[0;36m<cell line: 1>\u001b[0;34m()\u001b[0m\n\u001b[0;32m----> <a href='vscode-notebook-cell:/Users/wesleymonteith/Documents/EPFL/BA5/Genetics_Genomics/Transcriptomics_project/wesley.ipynb#Y221sZmlsZQ%3D%3D?line=0'>1</a>\u001b[0m transcriptomics\u001b[39m.\u001b[39;49mloc[\u001b[39m'\u001b[39;49m\u001b[39mENSG00000170323\u001b[39;49m\u001b[39m'\u001b[39;49m]\n",
      "File \u001b[0;32m~/opt/anaconda3/lib/python3.8/site-packages/pandas/core/indexing.py:967\u001b[0m, in \u001b[0;36m_LocationIndexer.__getitem__\u001b[0;34m(self, key)\u001b[0m\n\u001b[1;32m    964\u001b[0m axis \u001b[39m=\u001b[39m \u001b[39mself\u001b[39m\u001b[39m.\u001b[39maxis \u001b[39mor\u001b[39;00m \u001b[39m0\u001b[39m\n\u001b[1;32m    966\u001b[0m maybe_callable \u001b[39m=\u001b[39m com\u001b[39m.\u001b[39mapply_if_callable(key, \u001b[39mself\u001b[39m\u001b[39m.\u001b[39mobj)\n\u001b[0;32m--> 967\u001b[0m \u001b[39mreturn\u001b[39;00m \u001b[39mself\u001b[39;49m\u001b[39m.\u001b[39;49m_getitem_axis(maybe_callable, axis\u001b[39m=\u001b[39;49maxis)\n",
      "File \u001b[0;32m~/opt/anaconda3/lib/python3.8/site-packages/pandas/core/indexing.py:1202\u001b[0m, in \u001b[0;36m_LocIndexer._getitem_axis\u001b[0;34m(self, key, axis)\u001b[0m\n\u001b[1;32m   1200\u001b[0m \u001b[39m# fall thru to straight lookup\u001b[39;00m\n\u001b[1;32m   1201\u001b[0m \u001b[39mself\u001b[39m\u001b[39m.\u001b[39m_validate_key(key, axis)\n\u001b[0;32m-> 1202\u001b[0m \u001b[39mreturn\u001b[39;00m \u001b[39mself\u001b[39;49m\u001b[39m.\u001b[39;49m_get_label(key, axis\u001b[39m=\u001b[39;49maxis)\n",
      "File \u001b[0;32m~/opt/anaconda3/lib/python3.8/site-packages/pandas/core/indexing.py:1153\u001b[0m, in \u001b[0;36m_LocIndexer._get_label\u001b[0;34m(self, label, axis)\u001b[0m\n\u001b[1;32m   1151\u001b[0m \u001b[39mdef\u001b[39;00m \u001b[39m_get_label\u001b[39m(\u001b[39mself\u001b[39m, label, axis: \u001b[39mint\u001b[39m):\n\u001b[1;32m   1152\u001b[0m     \u001b[39m# GH#5667 this will fail if the label is not present in the axis.\u001b[39;00m\n\u001b[0;32m-> 1153\u001b[0m     \u001b[39mreturn\u001b[39;00m \u001b[39mself\u001b[39;49m\u001b[39m.\u001b[39;49mobj\u001b[39m.\u001b[39;49mxs(label, axis\u001b[39m=\u001b[39;49maxis)\n",
      "File \u001b[0;32m~/opt/anaconda3/lib/python3.8/site-packages/pandas/core/generic.py:3864\u001b[0m, in \u001b[0;36mNDFrame.xs\u001b[0;34m(self, key, axis, level, drop_level)\u001b[0m\n\u001b[1;32m   3862\u001b[0m             new_index \u001b[39m=\u001b[39m index[loc]\n\u001b[1;32m   3863\u001b[0m \u001b[39melse\u001b[39;00m:\n\u001b[0;32m-> 3864\u001b[0m     loc \u001b[39m=\u001b[39m index\u001b[39m.\u001b[39;49mget_loc(key)\n\u001b[1;32m   3866\u001b[0m     \u001b[39mif\u001b[39;00m \u001b[39misinstance\u001b[39m(loc, np\u001b[39m.\u001b[39mndarray):\n\u001b[1;32m   3867\u001b[0m         \u001b[39mif\u001b[39;00m loc\u001b[39m.\u001b[39mdtype \u001b[39m==\u001b[39m np\u001b[39m.\u001b[39mbool_:\n",
      "File \u001b[0;32m~/opt/anaconda3/lib/python3.8/site-packages/pandas/core/indexes/base.py:3623\u001b[0m, in \u001b[0;36mIndex.get_loc\u001b[0;34m(self, key, method, tolerance)\u001b[0m\n\u001b[1;32m   3621\u001b[0m     \u001b[39mreturn\u001b[39;00m \u001b[39mself\u001b[39m\u001b[39m.\u001b[39m_engine\u001b[39m.\u001b[39mget_loc(casted_key)\n\u001b[1;32m   3622\u001b[0m \u001b[39mexcept\u001b[39;00m \u001b[39mKeyError\u001b[39;00m \u001b[39mas\u001b[39;00m err:\n\u001b[0;32m-> 3623\u001b[0m     \u001b[39mraise\u001b[39;00m \u001b[39mKeyError\u001b[39;00m(key) \u001b[39mfrom\u001b[39;00m \u001b[39merr\u001b[39;00m\n\u001b[1;32m   3624\u001b[0m \u001b[39mexcept\u001b[39;00m \u001b[39mTypeError\u001b[39;00m:\n\u001b[1;32m   3625\u001b[0m     \u001b[39m# If we have a listlike key, _check_indexing_error will raise\u001b[39;00m\n\u001b[1;32m   3626\u001b[0m     \u001b[39m#  InvalidIndexError. Otherwise we fall through and re-raise\u001b[39;00m\n\u001b[1;32m   3627\u001b[0m     \u001b[39m#  the TypeError.\u001b[39;00m\n\u001b[1;32m   3628\u001b[0m     \u001b[39mself\u001b[39m\u001b[39m.\u001b[39m_check_indexing_error(key)\n",
      "\u001b[0;31mKeyError\u001b[0m: 'ENSG00000170323'"
     ]
    }
   ],
   "source": [
    "transcriptomics.loc['ENSG00000170323']"
   ]
  },
  {
   "cell_type": "code",
   "execution_count": 369,
   "metadata": {},
   "outputs": [
    {
     "data": {
      "text/html": [
       "<div>\n",
       "<style scoped>\n",
       "    .dataframe tbody tr th:only-of-type {\n",
       "        vertical-align: middle;\n",
       "    }\n",
       "\n",
       "    .dataframe tbody tr th {\n",
       "        vertical-align: top;\n",
       "    }\n",
       "\n",
       "    .dataframe thead th {\n",
       "        text-align: right;\n",
       "    }\n",
       "</style>\n",
       "<table border=\"1\" class=\"dataframe\">\n",
       "  <thead>\n",
       "    <tr style=\"text-align: right;\">\n",
       "      <th></th>\n",
       "      <th>Unnamed: 0</th>\n",
       "      <th>Sample_1_preadi</th>\n",
       "      <th>Sample_2_preadi</th>\n",
       "      <th>Sample_3_preadi</th>\n",
       "      <th>Sample_4_preadi</th>\n",
       "      <th>Sample_5_preadi</th>\n",
       "      <th>Sample_6_preadi</th>\n",
       "      <th>Sample_7_preadi</th>\n",
       "      <th>Sample_8_preadi</th>\n",
       "      <th>Sample_9_preadi</th>\n",
       "      <th>...</th>\n",
       "      <th>Sample_71_adipo</th>\n",
       "      <th>Sample_72_adipo</th>\n",
       "      <th>Sample_73_adipo</th>\n",
       "      <th>Sample_74_adipo</th>\n",
       "      <th>Sample_75_adipo</th>\n",
       "      <th>Sample_76_adipo</th>\n",
       "      <th>Sample_77_adipo</th>\n",
       "      <th>Sample_78_adipo</th>\n",
       "      <th>Sample_79_adipo</th>\n",
       "      <th>Sample_80_adipo</th>\n",
       "    </tr>\n",
       "    <tr>\n",
       "      <th>Unnamed: 0</th>\n",
       "      <th></th>\n",
       "      <th></th>\n",
       "      <th></th>\n",
       "      <th></th>\n",
       "      <th></th>\n",
       "      <th></th>\n",
       "      <th></th>\n",
       "      <th></th>\n",
       "      <th></th>\n",
       "      <th></th>\n",
       "      <th></th>\n",
       "      <th></th>\n",
       "      <th></th>\n",
       "      <th></th>\n",
       "      <th></th>\n",
       "      <th></th>\n",
       "      <th></th>\n",
       "      <th></th>\n",
       "      <th></th>\n",
       "      <th></th>\n",
       "      <th></th>\n",
       "    </tr>\n",
       "  </thead>\n",
       "  <tbody>\n",
       "    <tr>\n",
       "      <th>ENSG00000000003</th>\n",
       "      <td>ENSG00000000003</td>\n",
       "      <td>18</td>\n",
       "      <td>12</td>\n",
       "      <td>9</td>\n",
       "      <td>20</td>\n",
       "      <td>9</td>\n",
       "      <td>13</td>\n",
       "      <td>20</td>\n",
       "      <td>8</td>\n",
       "      <td>4</td>\n",
       "      <td>...</td>\n",
       "      <td>9</td>\n",
       "      <td>9</td>\n",
       "      <td>30</td>\n",
       "      <td>9</td>\n",
       "      <td>23</td>\n",
       "      <td>16</td>\n",
       "      <td>3</td>\n",
       "      <td>14</td>\n",
       "      <td>11</td>\n",
       "      <td>16</td>\n",
       "    </tr>\n",
       "    <tr>\n",
       "      <th>ENSG00000000005</th>\n",
       "      <td>ENSG00000000005</td>\n",
       "      <td>0</td>\n",
       "      <td>0</td>\n",
       "      <td>0</td>\n",
       "      <td>2</td>\n",
       "      <td>0</td>\n",
       "      <td>0</td>\n",
       "      <td>0</td>\n",
       "      <td>0</td>\n",
       "      <td>0</td>\n",
       "      <td>...</td>\n",
       "      <td>0</td>\n",
       "      <td>1</td>\n",
       "      <td>29</td>\n",
       "      <td>2</td>\n",
       "      <td>22</td>\n",
       "      <td>3</td>\n",
       "      <td>0</td>\n",
       "      <td>2</td>\n",
       "      <td>0</td>\n",
       "      <td>5</td>\n",
       "    </tr>\n",
       "    <tr>\n",
       "      <th>ENSG00000000419</th>\n",
       "      <td>ENSG00000000419</td>\n",
       "      <td>10</td>\n",
       "      <td>9</td>\n",
       "      <td>9</td>\n",
       "      <td>8</td>\n",
       "      <td>10</td>\n",
       "      <td>10</td>\n",
       "      <td>6</td>\n",
       "      <td>35</td>\n",
       "      <td>13</td>\n",
       "      <td>...</td>\n",
       "      <td>3</td>\n",
       "      <td>9</td>\n",
       "      <td>9</td>\n",
       "      <td>15</td>\n",
       "      <td>8</td>\n",
       "      <td>9</td>\n",
       "      <td>9</td>\n",
       "      <td>4</td>\n",
       "      <td>16</td>\n",
       "      <td>5</td>\n",
       "    </tr>\n",
       "    <tr>\n",
       "      <th>ENSG00000000457</th>\n",
       "      <td>ENSG00000000457</td>\n",
       "      <td>0</td>\n",
       "      <td>11</td>\n",
       "      <td>0</td>\n",
       "      <td>6</td>\n",
       "      <td>2</td>\n",
       "      <td>12</td>\n",
       "      <td>11</td>\n",
       "      <td>1</td>\n",
       "      <td>2</td>\n",
       "      <td>...</td>\n",
       "      <td>9</td>\n",
       "      <td>8</td>\n",
       "      <td>8</td>\n",
       "      <td>5</td>\n",
       "      <td>6</td>\n",
       "      <td>0</td>\n",
       "      <td>12</td>\n",
       "      <td>13</td>\n",
       "      <td>4</td>\n",
       "      <td>11</td>\n",
       "    </tr>\n",
       "    <tr>\n",
       "      <th>ENSG00000000460</th>\n",
       "      <td>ENSG00000000460</td>\n",
       "      <td>0</td>\n",
       "      <td>0</td>\n",
       "      <td>14</td>\n",
       "      <td>4</td>\n",
       "      <td>5</td>\n",
       "      <td>0</td>\n",
       "      <td>0</td>\n",
       "      <td>6</td>\n",
       "      <td>4</td>\n",
       "      <td>...</td>\n",
       "      <td>0</td>\n",
       "      <td>0</td>\n",
       "      <td>3</td>\n",
       "      <td>0</td>\n",
       "      <td>1</td>\n",
       "      <td>0</td>\n",
       "      <td>1</td>\n",
       "      <td>4</td>\n",
       "      <td>0</td>\n",
       "      <td>10</td>\n",
       "    </tr>\n",
       "    <tr>\n",
       "      <th>...</th>\n",
       "      <td>...</td>\n",
       "      <td>...</td>\n",
       "      <td>...</td>\n",
       "      <td>...</td>\n",
       "      <td>...</td>\n",
       "      <td>...</td>\n",
       "      <td>...</td>\n",
       "      <td>...</td>\n",
       "      <td>...</td>\n",
       "      <td>...</td>\n",
       "      <td>...</td>\n",
       "      <td>...</td>\n",
       "      <td>...</td>\n",
       "      <td>...</td>\n",
       "      <td>...</td>\n",
       "      <td>...</td>\n",
       "      <td>...</td>\n",
       "      <td>...</td>\n",
       "      <td>...</td>\n",
       "      <td>...</td>\n",
       "      <td>...</td>\n",
       "    </tr>\n",
       "    <tr>\n",
       "      <th>ENSG00000273485</th>\n",
       "      <td>ENSG00000273485</td>\n",
       "      <td>0</td>\n",
       "      <td>0</td>\n",
       "      <td>0</td>\n",
       "      <td>1</td>\n",
       "      <td>0</td>\n",
       "      <td>5</td>\n",
       "      <td>0</td>\n",
       "      <td>0</td>\n",
       "      <td>0</td>\n",
       "      <td>...</td>\n",
       "      <td>0</td>\n",
       "      <td>0</td>\n",
       "      <td>0</td>\n",
       "      <td>0</td>\n",
       "      <td>0</td>\n",
       "      <td>12</td>\n",
       "      <td>0</td>\n",
       "      <td>0</td>\n",
       "      <td>0</td>\n",
       "      <td>0</td>\n",
       "    </tr>\n",
       "    <tr>\n",
       "      <th>ENSG00000273486</th>\n",
       "      <td>ENSG00000273486</td>\n",
       "      <td>0</td>\n",
       "      <td>0</td>\n",
       "      <td>0</td>\n",
       "      <td>0</td>\n",
       "      <td>1</td>\n",
       "      <td>0</td>\n",
       "      <td>0</td>\n",
       "      <td>0</td>\n",
       "      <td>0</td>\n",
       "      <td>...</td>\n",
       "      <td>0</td>\n",
       "      <td>2</td>\n",
       "      <td>0</td>\n",
       "      <td>3</td>\n",
       "      <td>0</td>\n",
       "      <td>2</td>\n",
       "      <td>5</td>\n",
       "      <td>1</td>\n",
       "      <td>0</td>\n",
       "      <td>0</td>\n",
       "    </tr>\n",
       "    <tr>\n",
       "      <th>ENSG00000273487</th>\n",
       "      <td>ENSG00000273487</td>\n",
       "      <td>0</td>\n",
       "      <td>0</td>\n",
       "      <td>0</td>\n",
       "      <td>0</td>\n",
       "      <td>0</td>\n",
       "      <td>0</td>\n",
       "      <td>0</td>\n",
       "      <td>0</td>\n",
       "      <td>0</td>\n",
       "      <td>...</td>\n",
       "      <td>0</td>\n",
       "      <td>0</td>\n",
       "      <td>0</td>\n",
       "      <td>0</td>\n",
       "      <td>0</td>\n",
       "      <td>0</td>\n",
       "      <td>0</td>\n",
       "      <td>0</td>\n",
       "      <td>0</td>\n",
       "      <td>0</td>\n",
       "    </tr>\n",
       "    <tr>\n",
       "      <th>ENSG00000273489</th>\n",
       "      <td>ENSG00000273489</td>\n",
       "      <td>0</td>\n",
       "      <td>0</td>\n",
       "      <td>0</td>\n",
       "      <td>2</td>\n",
       "      <td>0</td>\n",
       "      <td>1</td>\n",
       "      <td>8</td>\n",
       "      <td>0</td>\n",
       "      <td>0</td>\n",
       "      <td>...</td>\n",
       "      <td>0</td>\n",
       "      <td>0</td>\n",
       "      <td>0</td>\n",
       "      <td>0</td>\n",
       "      <td>0</td>\n",
       "      <td>0</td>\n",
       "      <td>0</td>\n",
       "      <td>0</td>\n",
       "      <td>0</td>\n",
       "      <td>0</td>\n",
       "    </tr>\n",
       "    <tr>\n",
       "      <th>ENSG00000273493</th>\n",
       "      <td>ENSG00000273493</td>\n",
       "      <td>0</td>\n",
       "      <td>0</td>\n",
       "      <td>0</td>\n",
       "      <td>0</td>\n",
       "      <td>0</td>\n",
       "      <td>0</td>\n",
       "      <td>0</td>\n",
       "      <td>0</td>\n",
       "      <td>1</td>\n",
       "      <td>...</td>\n",
       "      <td>0</td>\n",
       "      <td>0</td>\n",
       "      <td>0</td>\n",
       "      <td>0</td>\n",
       "      <td>0</td>\n",
       "      <td>0</td>\n",
       "      <td>0</td>\n",
       "      <td>0</td>\n",
       "      <td>3</td>\n",
       "      <td>0</td>\n",
       "    </tr>\n",
       "  </tbody>\n",
       "</table>\n",
       "<p>30238 rows × 81 columns</p>\n",
       "</div>"
      ],
      "text/plain": [
       "                      Unnamed: 0  Sample_1_preadi  Sample_2_preadi  \\\n",
       "Unnamed: 0                                                           \n",
       "ENSG00000000003  ENSG00000000003               18               12   \n",
       "ENSG00000000005  ENSG00000000005                0                0   \n",
       "ENSG00000000419  ENSG00000000419               10                9   \n",
       "ENSG00000000457  ENSG00000000457                0               11   \n",
       "ENSG00000000460  ENSG00000000460                0                0   \n",
       "...                          ...              ...              ...   \n",
       "ENSG00000273485  ENSG00000273485                0                0   \n",
       "ENSG00000273486  ENSG00000273486                0                0   \n",
       "ENSG00000273487  ENSG00000273487                0                0   \n",
       "ENSG00000273489  ENSG00000273489                0                0   \n",
       "ENSG00000273493  ENSG00000273493                0                0   \n",
       "\n",
       "                 Sample_3_preadi  Sample_4_preadi  Sample_5_preadi  \\\n",
       "Unnamed: 0                                                           \n",
       "ENSG00000000003                9               20                9   \n",
       "ENSG00000000005                0                2                0   \n",
       "ENSG00000000419                9                8               10   \n",
       "ENSG00000000457                0                6                2   \n",
       "ENSG00000000460               14                4                5   \n",
       "...                          ...              ...              ...   \n",
       "ENSG00000273485                0                1                0   \n",
       "ENSG00000273486                0                0                1   \n",
       "ENSG00000273487                0                0                0   \n",
       "ENSG00000273489                0                2                0   \n",
       "ENSG00000273493                0                0                0   \n",
       "\n",
       "                 Sample_6_preadi  Sample_7_preadi  Sample_8_preadi  \\\n",
       "Unnamed: 0                                                           \n",
       "ENSG00000000003               13               20                8   \n",
       "ENSG00000000005                0                0                0   \n",
       "ENSG00000000419               10                6               35   \n",
       "ENSG00000000457               12               11                1   \n",
       "ENSG00000000460                0                0                6   \n",
       "...                          ...              ...              ...   \n",
       "ENSG00000273485                5                0                0   \n",
       "ENSG00000273486                0                0                0   \n",
       "ENSG00000273487                0                0                0   \n",
       "ENSG00000273489                1                8                0   \n",
       "ENSG00000273493                0                0                0   \n",
       "\n",
       "                 Sample_9_preadi  ...  Sample_71_adipo  Sample_72_adipo  \\\n",
       "Unnamed: 0                        ...                                     \n",
       "ENSG00000000003                4  ...                9                9   \n",
       "ENSG00000000005                0  ...                0                1   \n",
       "ENSG00000000419               13  ...                3                9   \n",
       "ENSG00000000457                2  ...                9                8   \n",
       "ENSG00000000460                4  ...                0                0   \n",
       "...                          ...  ...              ...              ...   \n",
       "ENSG00000273485                0  ...                0                0   \n",
       "ENSG00000273486                0  ...                0                2   \n",
       "ENSG00000273487                0  ...                0                0   \n",
       "ENSG00000273489                0  ...                0                0   \n",
       "ENSG00000273493                1  ...                0                0   \n",
       "\n",
       "                 Sample_73_adipo  Sample_74_adipo  Sample_75_adipo  \\\n",
       "Unnamed: 0                                                           \n",
       "ENSG00000000003               30                9               23   \n",
       "ENSG00000000005               29                2               22   \n",
       "ENSG00000000419                9               15                8   \n",
       "ENSG00000000457                8                5                6   \n",
       "ENSG00000000460                3                0                1   \n",
       "...                          ...              ...              ...   \n",
       "ENSG00000273485                0                0                0   \n",
       "ENSG00000273486                0                3                0   \n",
       "ENSG00000273487                0                0                0   \n",
       "ENSG00000273489                0                0                0   \n",
       "ENSG00000273493                0                0                0   \n",
       "\n",
       "                 Sample_76_adipo  Sample_77_adipo  Sample_78_adipo  \\\n",
       "Unnamed: 0                                                           \n",
       "ENSG00000000003               16                3               14   \n",
       "ENSG00000000005                3                0                2   \n",
       "ENSG00000000419                9                9                4   \n",
       "ENSG00000000457                0               12               13   \n",
       "ENSG00000000460                0                1                4   \n",
       "...                          ...              ...              ...   \n",
       "ENSG00000273485               12                0                0   \n",
       "ENSG00000273486                2                5                1   \n",
       "ENSG00000273487                0                0                0   \n",
       "ENSG00000273489                0                0                0   \n",
       "ENSG00000273493                0                0                0   \n",
       "\n",
       "                 Sample_79_adipo  Sample_80_adipo  \n",
       "Unnamed: 0                                         \n",
       "ENSG00000000003               11               16  \n",
       "ENSG00000000005                0                5  \n",
       "ENSG00000000419               16                5  \n",
       "ENSG00000000457                4               11  \n",
       "ENSG00000000460                0               10  \n",
       "...                          ...              ...  \n",
       "ENSG00000273485                0                0  \n",
       "ENSG00000273486                0                0  \n",
       "ENSG00000273487                0                0  \n",
       "ENSG00000273489                0                0  \n",
       "ENSG00000273493                3                0  \n",
       "\n",
       "[30238 rows x 81 columns]"
      ]
     },
     "execution_count": 369,
     "metadata": {},
     "output_type": "execute_result"
    }
   ],
   "source": [
    "transcriptomics_id = transcriptomics\n",
    "transcriptomics_id.index = transcriptomics[\"Unnamed: 0\"]\n",
    "transcriptomics_id"
   ]
  },
  {
   "cell_type": "code",
   "execution_count": 373,
   "metadata": {},
   "outputs": [
    {
     "data": {
      "text/plain": [
       "array(['ENSG00000170323', 97, 81, 120, 107, 107, 107, 85, 97, 136, 52,\n",
       "       121, 98, 60, 103, 67, 89, 63, 114, 218, 152, 104, 107, 123, 160,\n",
       "       88, 97, 90, 115, 85, 98, 114, 497, 88, 87, 80, 98, 174, 82, 152,\n",
       "       46, 8920, 12203, 10760, 6432, 7107, 4696, 6093, 10604, 13193, 9896,\n",
       "       4430, 4408, 6910, 12422, 20950, 11865, 1815, 12311, 7877, 2425,\n",
       "       3293, 5594, 2464, 5211, 12502, 4678, 13465, 8075, 6139, 16416,\n",
       "       5492, 6194, 13964, 9743, 8415, 5547, 14900, 7983, 1810, 2961],\n",
       "      dtype=object)"
      ]
     },
     "execution_count": 373,
     "metadata": {},
     "output_type": "execute_result"
    }
   ],
   "source": [
    "np.array(transcriptomics_id.loc['ENSG00000170323'])"
   ]
  },
  {
   "cell_type": "code",
   "execution_count": 377,
   "metadata": {},
   "outputs": [],
   "source": [
    "pca_output_log_df[\"top_marker_gene_expression\"] = np.array(transcriptomics_id.loc['ENSG00000170323'])[1:]\n",
    "pca_output_log_df[\"top_marker_gene_expression\"] = pca_output_log_df[\"top_marker_gene_expression\"].astype(float)"
   ]
  },
  {
   "cell_type": "code",
   "execution_count": 378,
   "metadata": {},
   "outputs": [
    {
     "data": {
      "text/html": [
       "<div>\n",
       "<style scoped>\n",
       "    .dataframe tbody tr th:only-of-type {\n",
       "        vertical-align: middle;\n",
       "    }\n",
       "\n",
       "    .dataframe tbody tr th {\n",
       "        vertical-align: top;\n",
       "    }\n",
       "\n",
       "    .dataframe thead th {\n",
       "        text-align: right;\n",
       "    }\n",
       "</style>\n",
       "<table border=\"1\" class=\"dataframe\">\n",
       "  <thead>\n",
       "    <tr style=\"text-align: right;\">\n",
       "      <th></th>\n",
       "      <th>PCA1</th>\n",
       "      <th>PCA2</th>\n",
       "      <th>PCA3</th>\n",
       "      <th>groups</th>\n",
       "      <th>top_marker_gene_expression</th>\n",
       "    </tr>\n",
       "  </thead>\n",
       "  <tbody>\n",
       "    <tr>\n",
       "      <th>0</th>\n",
       "      <td>-42.826325</td>\n",
       "      <td>58.870454</td>\n",
       "      <td>7.373568</td>\n",
       "      <td>PreAdipo</td>\n",
       "      <td>97.0</td>\n",
       "    </tr>\n",
       "    <tr>\n",
       "      <th>1</th>\n",
       "      <td>-46.518798</td>\n",
       "      <td>-5.596100</td>\n",
       "      <td>-14.508786</td>\n",
       "      <td>PreAdipo</td>\n",
       "      <td>81.0</td>\n",
       "    </tr>\n",
       "    <tr>\n",
       "      <th>2</th>\n",
       "      <td>-63.707133</td>\n",
       "      <td>-33.929024</td>\n",
       "      <td>37.018309</td>\n",
       "      <td>PreAdipo</td>\n",
       "      <td>120.0</td>\n",
       "    </tr>\n",
       "    <tr>\n",
       "      <th>3</th>\n",
       "      <td>-57.726232</td>\n",
       "      <td>-67.490809</td>\n",
       "      <td>-11.262911</td>\n",
       "      <td>PreAdipo</td>\n",
       "      <td>107.0</td>\n",
       "    </tr>\n",
       "    <tr>\n",
       "      <th>4</th>\n",
       "      <td>-49.397369</td>\n",
       "      <td>-52.324098</td>\n",
       "      <td>9.429046</td>\n",
       "      <td>PreAdipo</td>\n",
       "      <td>107.0</td>\n",
       "    </tr>\n",
       "    <tr>\n",
       "      <th>...</th>\n",
       "      <td>...</td>\n",
       "      <td>...</td>\n",
       "      <td>...</td>\n",
       "      <td>...</td>\n",
       "      <td>...</td>\n",
       "    </tr>\n",
       "    <tr>\n",
       "      <th>75</th>\n",
       "      <td>53.782769</td>\n",
       "      <td>-3.432689</td>\n",
       "      <td>-58.769944</td>\n",
       "      <td>Adipo</td>\n",
       "      <td>5547.0</td>\n",
       "    </tr>\n",
       "    <tr>\n",
       "      <th>76</th>\n",
       "      <td>69.008352</td>\n",
       "      <td>1.024680</td>\n",
       "      <td>43.864694</td>\n",
       "      <td>Adipo</td>\n",
       "      <td>14900.0</td>\n",
       "    </tr>\n",
       "    <tr>\n",
       "      <th>77</th>\n",
       "      <td>61.583718</td>\n",
       "      <td>-54.186683</td>\n",
       "      <td>4.247139</td>\n",
       "      <td>Adipo</td>\n",
       "      <td>7983.0</td>\n",
       "    </tr>\n",
       "    <tr>\n",
       "      <th>78</th>\n",
       "      <td>30.881711</td>\n",
       "      <td>-23.491756</td>\n",
       "      <td>-43.344795</td>\n",
       "      <td>Adipo</td>\n",
       "      <td>1810.0</td>\n",
       "    </tr>\n",
       "    <tr>\n",
       "      <th>79</th>\n",
       "      <td>27.239854</td>\n",
       "      <td>-28.855330</td>\n",
       "      <td>-24.864379</td>\n",
       "      <td>Adipo</td>\n",
       "      <td>2961.0</td>\n",
       "    </tr>\n",
       "  </tbody>\n",
       "</table>\n",
       "<p>80 rows × 5 columns</p>\n",
       "</div>"
      ],
      "text/plain": [
       "         PCA1       PCA2       PCA3    groups  top_marker_gene_expression\n",
       "0  -42.826325  58.870454   7.373568  PreAdipo                        97.0\n",
       "1  -46.518798  -5.596100 -14.508786  PreAdipo                        81.0\n",
       "2  -63.707133 -33.929024  37.018309  PreAdipo                       120.0\n",
       "3  -57.726232 -67.490809 -11.262911  PreAdipo                       107.0\n",
       "4  -49.397369 -52.324098   9.429046  PreAdipo                       107.0\n",
       "..        ...        ...        ...       ...                         ...\n",
       "75  53.782769  -3.432689 -58.769944     Adipo                      5547.0\n",
       "76  69.008352   1.024680  43.864694     Adipo                     14900.0\n",
       "77  61.583718 -54.186683   4.247139     Adipo                      7983.0\n",
       "78  30.881711 -23.491756 -43.344795     Adipo                      1810.0\n",
       "79  27.239854 -28.855330 -24.864379     Adipo                      2961.0\n",
       "\n",
       "[80 rows x 5 columns]"
      ]
     },
     "execution_count": 378,
     "metadata": {},
     "output_type": "execute_result"
    }
   ],
   "source": [
    "pca_output_log_df"
   ]
  },
  {
   "cell_type": "code",
   "execution_count": 379,
   "metadata": {},
   "outputs": [
    {
     "data": {
      "application/vnd.plotly.v1+json": {
       "config": {
        "plotlyServerURL": "https://plot.ly"
       },
       "data": [
        {
         "hovertemplate": "PCA1=%{x}<br>PCA2=%{y}<br>PCA3=%{z}<br>top_marker_gene_expression=%{marker.color}<extra></extra>",
         "legendgroup": "",
         "marker": {
          "color": [
           97,
           81,
           120,
           107,
           107,
           107,
           85,
           97,
           136,
           52,
           121,
           98,
           60,
           103,
           67,
           89,
           63,
           114,
           218,
           152,
           104,
           107,
           123,
           160,
           88,
           97,
           90,
           115,
           85,
           98,
           114,
           497,
           88,
           87,
           80,
           98,
           174,
           82,
           152,
           46,
           8920,
           12203,
           10760,
           6432,
           7107,
           4696,
           6093,
           10604,
           13193,
           9896,
           4430,
           4408,
           6910,
           12422,
           20950,
           11865,
           1815,
           12311,
           7877,
           2425,
           3293,
           5594,
           2464,
           5211,
           12502,
           4678,
           13465,
           8075,
           6139,
           16416,
           5492,
           6194,
           13964,
           9743,
           8415,
           5547,
           14900,
           7983,
           1810,
           2961
          ],
          "coloraxis": "coloraxis",
          "symbol": "circle"
         },
         "mode": "markers",
         "name": "",
         "scene": "scene",
         "showlegend": false,
         "type": "scatter3d",
         "x": [
          -42.82632549458167,
          -46.51879789669865,
          -63.7071327152649,
          -57.72623235596019,
          -49.39736882530683,
          -46.01465999290972,
          -37.49404687749037,
          -62.7687956956311,
          -55.11508353343225,
          -33.801194005064325,
          -37.03894104556939,
          -52.19877663606092,
          -37.74836103355242,
          -52.289640702241925,
          -68.83595669017426,
          -57.388180427496046,
          -45.8538830646329,
          -32.647558158540605,
          -53.59603210201488,
          -62.96668773295442,
          -44.64131564246817,
          -55.13605224717735,
          -63.996437799262324,
          -48.408736830387284,
          -47.62128564595091,
          -54.90511147487283,
          -66.12820020374673,
          -34.14512824052814,
          -54.24059207523126,
          -31.136330820641188,
          -36.386036942754814,
          -25.499082688646354,
          -41.46574469585813,
          -68.4998977744006,
          -37.13315578842433,
          -37.028636440583156,
          -46.109367584018415,
          -47.04360979750522,
          -55.690124691599706,
          -54.32664444036418,
          57.58690675561511,
          62.47048107031746,
          51.33460663627541,
          46.82214388878663,
          46.829076580855165,
          34.372448721466554,
          51.969767308354825,
          61.29253643311922,
          67.5602855029143,
          61.59980347041971,
          29.624576656963825,
          42.86463785131522,
          38.32360020680384,
          59.14111739498742,
          66.00224814287753,
          63.522498588714676,
          25.16629704560117,
          68.21546301764857,
          50.723010283864014,
          32.391422045811176,
          34.09444280043979,
          26.878453048458756,
          20.404988463477977,
          38.833067052282736,
          67.61201915593989,
          29.712885011127373,
          69.90145974970864,
          48.38850675261678,
          35.71093243679315,
          62.470546863977894,
          31.91864371213372,
          35.72131296382363,
          64.15561859237586,
          55.225000717429715,
          64.13793733154327,
          53.78276945929502,
          69.00835164256705,
          61.583717527740944,
          30.88171144656595,
          27.239854478989688
         ],
         "y": [
          58.87045367632964,
          -5.596099977093192,
          -33.92902352102089,
          -67.49080913011083,
          -52.32409816111626,
          -19.149394830777183,
          41.62247910935201,
          -0.2628316659553475,
          -41.7238939442011,
          77.79861101159634,
          29.101725869185135,
          -5.370343871704991,
          61.54397599294023,
          -14.660474548263242,
          -33.794271272183956,
          -25.11694548352279,
          56.64997081339074,
          84.38546480533485,
          -39.66928522529381,
          -27.329887121363186,
          52.03828750785724,
          -2.4184512891841448,
          -49.87718309259072,
          45.890587443962886,
          -13.523326978772214,
          -38.96740636377389,
          -73.26157039426924,
          58.600350325429616,
          39.97492358804113,
          60.93248127533884,
          10.4401037893509,
          12.139343504119703,
          -22.198367645932223,
          -4.349843772708523,
          45.79578706766722,
          49.04315584395716,
          -39.63517339727595,
          14.07572084842715,
          -32.2498599186409,
          9.15732851372393,
          -24.498772295304818,
          4.259396173956942,
          48.6087142290972,
          36.81967170554132,
          34.231629587305065,
          48.28996229936616,
          -22.45705086504457,
          -29.185120977115428,
          -32.646139820947774,
          -29.959280916208808,
          -44.71093127496947,
          5.063255643759298,
          33.64982890479565,
          -11.809970650781775,
          53.777458945538434,
          -4.613024844747092,
          -42.198179176699746,
          22.950010854490042,
          22.070344923909005,
          -15.9608979208704,
          -32.10214095125346,
          17.09320507895045,
          -6.046689423134778,
          -50.773098265239355,
          -52.2069645654836,
          -5.109149051351712,
          29.41469801451138,
          -21.229684531325823,
          -19.246590511599678,
          17.92197234195309,
          -6.815512219335972,
          -11.369982138246808,
          34.6581176787513,
          -17.45926226327581,
          15.369746162852598,
          -3.432689489835104,
          1.0246801126560698,
          -54.18668349307956,
          -23.4917561792207,
          -28.85533021260708
         ],
         "z": [
          7.3735676137747825,
          -14.508786121735165,
          37.01830881138682,
          -11.262910573344987,
          9.429045890752096,
          2.2345648805002236,
          -23.670247613185825,
          32.7868062228351,
          4.933737556345749,
          -12.856801069979127,
          23.476854038879072,
          41.53711749488638,
          -15.183577069150406,
          29.24503660462233,
          29.62133994922173,
          20.011915924733568,
          -6.525170096412299,
          -2.9252411684917505,
          -15.52928088980761,
          17.516980989762377,
          -1.175780669938258,
          26.39593798145308,
          21.124237590572957,
          -4.809840217184475,
          -45.619401692474554,
          -21.845395492028977,
          14.95497613429834,
          -12.919836414315771,
          16.288548299835647,
          -1.8263371386787206,
          -22.79397843808666,
          -12.109590467207703,
          -18.526970921829445,
          28.929900020867194,
          -39.02042929012469,
          -1.0065734525973393,
          1.6444492648689402,
          -15.274449790612213,
          16.737713269352806,
          -32.96807087212729,
          -10.658717872639654,
          50.0092157266728,
          57.620533121039045,
          -31.49679748232679,
          -0.7553587333024051,
          2.3047600859140696,
          9.450004078289805,
          11.512584599836272,
          28.00053407070622,
          -6.51282225054211,
          -4.842917390080307,
          -17.92596598224951,
          -31.484832697922794,
          6.597736563614722,
          60.25454613957004,
          28.14375822166808,
          -58.05674939876453,
          -6.811945906465859,
          -9.255559723121383,
          -13.890710378603156,
          -22.462184975773955,
          -31.403011207705315,
          -28.05000137940533,
          -10.276162565003114,
          -9.870095719061394,
          -21.43860442976626,
          10.232993616874372,
          0.5035338489478387,
          10.614738272990227,
          17.867277775171313,
          6.719522931891335,
          -6.557272577153864,
          21.259531149327067,
          10.18148329100587,
          20.441873932116767,
          -58.76994411913492,
          43.864693642772515,
          4.247138573706949,
          -43.34479458250859,
          -24.864379350217384
         ]
        }
       ],
       "layout": {
        "coloraxis": {
         "colorbar": {
          "title": {
           "text": "top_marker_gene_expression"
          }
         },
         "colorscale": [
          [
           0,
           "#0d0887"
          ],
          [
           0.1111111111111111,
           "#46039f"
          ],
          [
           0.2222222222222222,
           "#7201a8"
          ],
          [
           0.3333333333333333,
           "#9c179e"
          ],
          [
           0.4444444444444444,
           "#bd3786"
          ],
          [
           0.5555555555555556,
           "#d8576b"
          ],
          [
           0.6666666666666666,
           "#ed7953"
          ],
          [
           0.7777777777777778,
           "#fb9f3a"
          ],
          [
           0.8888888888888888,
           "#fdca26"
          ],
          [
           1,
           "#f0f921"
          ]
         ]
        },
        "legend": {
         "tracegroupgap": 0
        },
        "margin": {
         "t": 60
        },
        "scene": {
         "domain": {
          "x": [
           0,
           1
          ],
          "y": [
           0,
           1
          ]
         },
         "xaxis": {
          "title": {
           "text": "PCA1"
          }
         },
         "yaxis": {
          "title": {
           "text": "PCA2"
          }
         },
         "zaxis": {
          "title": {
           "text": "PCA3"
          }
         }
        },
        "template": {
         "data": {
          "bar": [
           {
            "error_x": {
             "color": "#2a3f5f"
            },
            "error_y": {
             "color": "#2a3f5f"
            },
            "marker": {
             "line": {
              "color": "#E5ECF6",
              "width": 0.5
             },
             "pattern": {
              "fillmode": "overlay",
              "size": 10,
              "solidity": 0.2
             }
            },
            "type": "bar"
           }
          ],
          "barpolar": [
           {
            "marker": {
             "line": {
              "color": "#E5ECF6",
              "width": 0.5
             },
             "pattern": {
              "fillmode": "overlay",
              "size": 10,
              "solidity": 0.2
             }
            },
            "type": "barpolar"
           }
          ],
          "carpet": [
           {
            "aaxis": {
             "endlinecolor": "#2a3f5f",
             "gridcolor": "white",
             "linecolor": "white",
             "minorgridcolor": "white",
             "startlinecolor": "#2a3f5f"
            },
            "baxis": {
             "endlinecolor": "#2a3f5f",
             "gridcolor": "white",
             "linecolor": "white",
             "minorgridcolor": "white",
             "startlinecolor": "#2a3f5f"
            },
            "type": "carpet"
           }
          ],
          "choropleth": [
           {
            "colorbar": {
             "outlinewidth": 0,
             "ticks": ""
            },
            "type": "choropleth"
           }
          ],
          "contour": [
           {
            "colorbar": {
             "outlinewidth": 0,
             "ticks": ""
            },
            "colorscale": [
             [
              0,
              "#0d0887"
             ],
             [
              0.1111111111111111,
              "#46039f"
             ],
             [
              0.2222222222222222,
              "#7201a8"
             ],
             [
              0.3333333333333333,
              "#9c179e"
             ],
             [
              0.4444444444444444,
              "#bd3786"
             ],
             [
              0.5555555555555556,
              "#d8576b"
             ],
             [
              0.6666666666666666,
              "#ed7953"
             ],
             [
              0.7777777777777778,
              "#fb9f3a"
             ],
             [
              0.8888888888888888,
              "#fdca26"
             ],
             [
              1,
              "#f0f921"
             ]
            ],
            "type": "contour"
           }
          ],
          "contourcarpet": [
           {
            "colorbar": {
             "outlinewidth": 0,
             "ticks": ""
            },
            "type": "contourcarpet"
           }
          ],
          "heatmap": [
           {
            "colorbar": {
             "outlinewidth": 0,
             "ticks": ""
            },
            "colorscale": [
             [
              0,
              "#0d0887"
             ],
             [
              0.1111111111111111,
              "#46039f"
             ],
             [
              0.2222222222222222,
              "#7201a8"
             ],
             [
              0.3333333333333333,
              "#9c179e"
             ],
             [
              0.4444444444444444,
              "#bd3786"
             ],
             [
              0.5555555555555556,
              "#d8576b"
             ],
             [
              0.6666666666666666,
              "#ed7953"
             ],
             [
              0.7777777777777778,
              "#fb9f3a"
             ],
             [
              0.8888888888888888,
              "#fdca26"
             ],
             [
              1,
              "#f0f921"
             ]
            ],
            "type": "heatmap"
           }
          ],
          "heatmapgl": [
           {
            "colorbar": {
             "outlinewidth": 0,
             "ticks": ""
            },
            "colorscale": [
             [
              0,
              "#0d0887"
             ],
             [
              0.1111111111111111,
              "#46039f"
             ],
             [
              0.2222222222222222,
              "#7201a8"
             ],
             [
              0.3333333333333333,
              "#9c179e"
             ],
             [
              0.4444444444444444,
              "#bd3786"
             ],
             [
              0.5555555555555556,
              "#d8576b"
             ],
             [
              0.6666666666666666,
              "#ed7953"
             ],
             [
              0.7777777777777778,
              "#fb9f3a"
             ],
             [
              0.8888888888888888,
              "#fdca26"
             ],
             [
              1,
              "#f0f921"
             ]
            ],
            "type": "heatmapgl"
           }
          ],
          "histogram": [
           {
            "marker": {
             "pattern": {
              "fillmode": "overlay",
              "size": 10,
              "solidity": 0.2
             }
            },
            "type": "histogram"
           }
          ],
          "histogram2d": [
           {
            "colorbar": {
             "outlinewidth": 0,
             "ticks": ""
            },
            "colorscale": [
             [
              0,
              "#0d0887"
             ],
             [
              0.1111111111111111,
              "#46039f"
             ],
             [
              0.2222222222222222,
              "#7201a8"
             ],
             [
              0.3333333333333333,
              "#9c179e"
             ],
             [
              0.4444444444444444,
              "#bd3786"
             ],
             [
              0.5555555555555556,
              "#d8576b"
             ],
             [
              0.6666666666666666,
              "#ed7953"
             ],
             [
              0.7777777777777778,
              "#fb9f3a"
             ],
             [
              0.8888888888888888,
              "#fdca26"
             ],
             [
              1,
              "#f0f921"
             ]
            ],
            "type": "histogram2d"
           }
          ],
          "histogram2dcontour": [
           {
            "colorbar": {
             "outlinewidth": 0,
             "ticks": ""
            },
            "colorscale": [
             [
              0,
              "#0d0887"
             ],
             [
              0.1111111111111111,
              "#46039f"
             ],
             [
              0.2222222222222222,
              "#7201a8"
             ],
             [
              0.3333333333333333,
              "#9c179e"
             ],
             [
              0.4444444444444444,
              "#bd3786"
             ],
             [
              0.5555555555555556,
              "#d8576b"
             ],
             [
              0.6666666666666666,
              "#ed7953"
             ],
             [
              0.7777777777777778,
              "#fb9f3a"
             ],
             [
              0.8888888888888888,
              "#fdca26"
             ],
             [
              1,
              "#f0f921"
             ]
            ],
            "type": "histogram2dcontour"
           }
          ],
          "mesh3d": [
           {
            "colorbar": {
             "outlinewidth": 0,
             "ticks": ""
            },
            "type": "mesh3d"
           }
          ],
          "parcoords": [
           {
            "line": {
             "colorbar": {
              "outlinewidth": 0,
              "ticks": ""
             }
            },
            "type": "parcoords"
           }
          ],
          "pie": [
           {
            "automargin": true,
            "type": "pie"
           }
          ],
          "scatter": [
           {
            "fillpattern": {
             "fillmode": "overlay",
             "size": 10,
             "solidity": 0.2
            },
            "type": "scatter"
           }
          ],
          "scatter3d": [
           {
            "line": {
             "colorbar": {
              "outlinewidth": 0,
              "ticks": ""
             }
            },
            "marker": {
             "colorbar": {
              "outlinewidth": 0,
              "ticks": ""
             }
            },
            "type": "scatter3d"
           }
          ],
          "scattercarpet": [
           {
            "marker": {
             "colorbar": {
              "outlinewidth": 0,
              "ticks": ""
             }
            },
            "type": "scattercarpet"
           }
          ],
          "scattergeo": [
           {
            "marker": {
             "colorbar": {
              "outlinewidth": 0,
              "ticks": ""
             }
            },
            "type": "scattergeo"
           }
          ],
          "scattergl": [
           {
            "marker": {
             "colorbar": {
              "outlinewidth": 0,
              "ticks": ""
             }
            },
            "type": "scattergl"
           }
          ],
          "scattermapbox": [
           {
            "marker": {
             "colorbar": {
              "outlinewidth": 0,
              "ticks": ""
             }
            },
            "type": "scattermapbox"
           }
          ],
          "scatterpolar": [
           {
            "marker": {
             "colorbar": {
              "outlinewidth": 0,
              "ticks": ""
             }
            },
            "type": "scatterpolar"
           }
          ],
          "scatterpolargl": [
           {
            "marker": {
             "colorbar": {
              "outlinewidth": 0,
              "ticks": ""
             }
            },
            "type": "scatterpolargl"
           }
          ],
          "scatterternary": [
           {
            "marker": {
             "colorbar": {
              "outlinewidth": 0,
              "ticks": ""
             }
            },
            "type": "scatterternary"
           }
          ],
          "surface": [
           {
            "colorbar": {
             "outlinewidth": 0,
             "ticks": ""
            },
            "colorscale": [
             [
              0,
              "#0d0887"
             ],
             [
              0.1111111111111111,
              "#46039f"
             ],
             [
              0.2222222222222222,
              "#7201a8"
             ],
             [
              0.3333333333333333,
              "#9c179e"
             ],
             [
              0.4444444444444444,
              "#bd3786"
             ],
             [
              0.5555555555555556,
              "#d8576b"
             ],
             [
              0.6666666666666666,
              "#ed7953"
             ],
             [
              0.7777777777777778,
              "#fb9f3a"
             ],
             [
              0.8888888888888888,
              "#fdca26"
             ],
             [
              1,
              "#f0f921"
             ]
            ],
            "type": "surface"
           }
          ],
          "table": [
           {
            "cells": {
             "fill": {
              "color": "#EBF0F8"
             },
             "line": {
              "color": "white"
             }
            },
            "header": {
             "fill": {
              "color": "#C8D4E3"
             },
             "line": {
              "color": "white"
             }
            },
            "type": "table"
           }
          ]
         },
         "layout": {
          "annotationdefaults": {
           "arrowcolor": "#2a3f5f",
           "arrowhead": 0,
           "arrowwidth": 1
          },
          "autotypenumbers": "strict",
          "coloraxis": {
           "colorbar": {
            "outlinewidth": 0,
            "ticks": ""
           }
          },
          "colorscale": {
           "diverging": [
            [
             0,
             "#8e0152"
            ],
            [
             0.1,
             "#c51b7d"
            ],
            [
             0.2,
             "#de77ae"
            ],
            [
             0.3,
             "#f1b6da"
            ],
            [
             0.4,
             "#fde0ef"
            ],
            [
             0.5,
             "#f7f7f7"
            ],
            [
             0.6,
             "#e6f5d0"
            ],
            [
             0.7,
             "#b8e186"
            ],
            [
             0.8,
             "#7fbc41"
            ],
            [
             0.9,
             "#4d9221"
            ],
            [
             1,
             "#276419"
            ]
           ],
           "sequential": [
            [
             0,
             "#0d0887"
            ],
            [
             0.1111111111111111,
             "#46039f"
            ],
            [
             0.2222222222222222,
             "#7201a8"
            ],
            [
             0.3333333333333333,
             "#9c179e"
            ],
            [
             0.4444444444444444,
             "#bd3786"
            ],
            [
             0.5555555555555556,
             "#d8576b"
            ],
            [
             0.6666666666666666,
             "#ed7953"
            ],
            [
             0.7777777777777778,
             "#fb9f3a"
            ],
            [
             0.8888888888888888,
             "#fdca26"
            ],
            [
             1,
             "#f0f921"
            ]
           ],
           "sequentialminus": [
            [
             0,
             "#0d0887"
            ],
            [
             0.1111111111111111,
             "#46039f"
            ],
            [
             0.2222222222222222,
             "#7201a8"
            ],
            [
             0.3333333333333333,
             "#9c179e"
            ],
            [
             0.4444444444444444,
             "#bd3786"
            ],
            [
             0.5555555555555556,
             "#d8576b"
            ],
            [
             0.6666666666666666,
             "#ed7953"
            ],
            [
             0.7777777777777778,
             "#fb9f3a"
            ],
            [
             0.8888888888888888,
             "#fdca26"
            ],
            [
             1,
             "#f0f921"
            ]
           ]
          },
          "colorway": [
           "#636efa",
           "#EF553B",
           "#00cc96",
           "#ab63fa",
           "#FFA15A",
           "#19d3f3",
           "#FF6692",
           "#B6E880",
           "#FF97FF",
           "#FECB52"
          ],
          "font": {
           "color": "#2a3f5f"
          },
          "geo": {
           "bgcolor": "white",
           "lakecolor": "white",
           "landcolor": "#E5ECF6",
           "showlakes": true,
           "showland": true,
           "subunitcolor": "white"
          },
          "hoverlabel": {
           "align": "left"
          },
          "hovermode": "closest",
          "mapbox": {
           "style": "light"
          },
          "paper_bgcolor": "white",
          "plot_bgcolor": "#E5ECF6",
          "polar": {
           "angularaxis": {
            "gridcolor": "white",
            "linecolor": "white",
            "ticks": ""
           },
           "bgcolor": "#E5ECF6",
           "radialaxis": {
            "gridcolor": "white",
            "linecolor": "white",
            "ticks": ""
           }
          },
          "scene": {
           "xaxis": {
            "backgroundcolor": "#E5ECF6",
            "gridcolor": "white",
            "gridwidth": 2,
            "linecolor": "white",
            "showbackground": true,
            "ticks": "",
            "zerolinecolor": "white"
           },
           "yaxis": {
            "backgroundcolor": "#E5ECF6",
            "gridcolor": "white",
            "gridwidth": 2,
            "linecolor": "white",
            "showbackground": true,
            "ticks": "",
            "zerolinecolor": "white"
           },
           "zaxis": {
            "backgroundcolor": "#E5ECF6",
            "gridcolor": "white",
            "gridwidth": 2,
            "linecolor": "white",
            "showbackground": true,
            "ticks": "",
            "zerolinecolor": "white"
           }
          },
          "shapedefaults": {
           "line": {
            "color": "#2a3f5f"
           }
          },
          "ternary": {
           "aaxis": {
            "gridcolor": "white",
            "linecolor": "white",
            "ticks": ""
           },
           "baxis": {
            "gridcolor": "white",
            "linecolor": "white",
            "ticks": ""
           },
           "bgcolor": "#E5ECF6",
           "caxis": {
            "gridcolor": "white",
            "linecolor": "white",
            "ticks": ""
           }
          },
          "title": {
           "x": 0.05
          },
          "xaxis": {
           "automargin": true,
           "gridcolor": "white",
           "linecolor": "white",
           "ticks": "",
           "title": {
            "standoff": 15
           },
           "zerolinecolor": "white",
           "zerolinewidth": 2
          },
          "yaxis": {
           "automargin": true,
           "gridcolor": "white",
           "linecolor": "white",
           "ticks": "",
           "title": {
            "standoff": 15
           },
           "zerolinecolor": "white",
           "zerolinewidth": 2
          }
         }
        }
       }
      }
     },
     "metadata": {},
     "output_type": "display_data"
    }
   ],
   "source": [
    "fig = px.scatter_3d(pca_output_log_df, x='PCA1', y='PCA2', z='PCA3', color=\"top_marker_gene_expression\")\n",
    "fig.show()"
   ]
  },
  {
   "cell_type": "code",
   "execution_count": 385,
   "metadata": {},
   "outputs": [
    {
     "data": {
      "image/png": "[encoded data removed]",
      "text/html": [
       "<div style=\"vertical-align: middle;\"><strong>rocket</strong> </div><div class=\"cmap\"><img alt=\"rocket colormap\" title=\"rocket\" style=\"border: 1px solid #555;\" src=\"data:image/png;base64,iVBORw0KGgoAAAANSUhEUgAAAgAAAABACAYAAABsv8+/AAAAFXRFWHRUaXRsZQByb2NrZXQgY29sb3JtYXCDKv+2AAAAG3RFWHREZXNjcmlwdGlvbgByb2NrZXQgY29sb3JtYXDKvedSAAAAMHRFWHRBdXRob3IATWF0cGxvdGxpYiB2My41LjEsIGh0dHBzOi8vbWF0cGxvdGxpYi5vcmf3t87PAAAAMnRFWHRTb2Z0d2FyZQBNYXRwbG90bGliIHYzLjUuMSwgaHR0cHM6Ly9tYXRwbG90bGliLm9yZ9kRUegAAAITSURBVHic7dZLVuwgAEVRoJyE8x8odpJyBUIR7d69Oy7+8fkap7av715KKbXWUkoptRw/j3HbzZ/jzblx/2p+uqdszv13/PSd1b7h3tX87z3l2fcc+9rTe8Zz0/eUj+P5vsX++tfzx3xfzK/2L+8/5ntZnBvu6+N943fdz+/Otd7v16dz/fN90z19+H1W8/3zfL3fd/z5Sqv9fv85Xzfz7XrfPD+sj/Nt+I7Feh3faffrZbl+/MMs58dxvY7f99Zh/3X8e65exrv55fr7D9UW+9qj/ee4btZ358/1+l5fnfvv/Ord1b7rzzrt273zenb/9v37e+bvefre65jevf/03fv94/3nf2MAIIgAAIBAAgAAAgkAAAgkAAAgkAAAgEACAAACCQAACCQAACCQAACAQAIAAAIJAAAIJAAAIJAAAIBAAgAAAgkAAAgkAAAgkAAAgEACAAACCQAACCQAACCQAACAQAIAAAIJAAAIJAAAIJAAAIBAAgAAAgkAAAgkAAAgkAAAgEACAAACCQAACCQAACCQAACAQAIAAAIJAAAIJAAAIJAAAIBAAgAAAgkAAAgkAAAgkAAAgEACAAACCQAACCQAACCQAACAQAIAAAIJAAAIJAAAIJAAAIBAAgAAAgkAAAgkAAAgkAAAgEACAAACCQAACCQAACCQAACAQAIAAAIJAAAIJAAAIJAAAIBAAgAAAv0AU3UrP5ppht0AAAAASUVORK5CYII=\"></div><div style=\"vertical-align: middle; max-width: 514px; display: flex; justify-content: space-between;\"><div style=\"float: left;\"><div title=\"#03051aff\" style=\"display: inline-block; width: 1em; height: 1em; margin: 0; vertical-align: middle; border: 1px solid #555; background-color: #03051aff;\"></div> under</div><div style=\"margin: 0 auto; display: inline-block;\">bad <div title=\"#00000000\" style=\"display: inline-block; width: 1em; height: 1em; margin: 0; vertical-align: middle; border: 1px solid #555; background-color: #00000000;\"></div></div><div style=\"float: right;\">over <div title=\"#faebddff\" style=\"display: inline-block; width: 1em; height: 1em; margin: 0; vertical-align: middle; border: 1px solid #555; background-color: #faebddff;\"></div></div>"
      ],
      "text/plain": [
       "<matplotlib.colors.ListedColormap at 0x7fca42a83fa0>"
      ]
     },
     "execution_count": 385,
     "metadata": {},
     "output_type": "execute_result"
    }
   ],
   "source": [
    "cmap= sns.color_palette(\"rocket\", as_cmap=True)\n",
    "cmap"
   ]
  },
  {
   "cell_type": "code",
   "execution_count": 388,
   "metadata": {},
   "outputs": [
    {
     "data": {
      "text/plain": [
       "<AxesSubplot:xlabel='PCA1', ylabel='PCA2'>"
      ]
     },
     "execution_count": 388,
     "metadata": {},
     "output_type": "execute_result"
    },
    {
     "data": {
      "image/png": "[encoded data removed]",
      "text/plain": [
       "<Figure size 432x288 with 1 Axes>"
      ]
     },
     "metadata": {
      "needs_background": "light"
     },
     "output_type": "display_data"
    }
   ],
   "source": [
    "sns.scatterplot(data=pca_output_log_df, x='PCA1', y='PCA2', hue=\"top_marker_gene_expression\", cmap=cmap)\n",
    "\n",
    "# SOLVE : https://stackoverflow.com/questions/62884183/trying-to-add-a-colorbar-to-a-seaborn-scatterplot"
   ]
  }
 ],
 "metadata": {
  "kernelspec": {
   "display_name": "base",
   "language": "python",
   "name": "python3"
  },
  "language_info": {
   "codemirror_mode": {
    "name": "ipython",
    "version": 3
   },
   "file_extension": ".py",
   "mimetype": "text/x-python",
   "name": "python",
   "nbconvert_exporter": "python",
   "pygments_lexer": "ipython3",
   "version": "3.8.13"
  },
  "orig_nbformat": 4,
  "vscode": {
   "interpreter": {
    "hash": "6e8bd448dc932e4d186e894d045358f83e7fab8ca8948cbea594b20f28a1be96"
   }
  }
 },
 "nbformat": 4,
 "nbformat_minor": 2
}
