{
 "cells": [
  {
   "cell_type": "code",
   "execution_count": 145,
   "metadata": {},
   "outputs": [],
   "source": [
    "import pandas as pd\n",
    "import numpy as np\n",
    "import os\n",
    "import matplotlib.pyplot as plt\n",
    "import seaborn as sns\n",
    "import plotly.express as px\n",
    "from sklearn.decomposition import PCA\n",
    "from scipy.stats import ttest_ind\n",
    "from statsmodels.stats.multitest import fdrcorrection, multipletests\n",
    "import statsmodels\n",
    "from matplotlib.patches import Patch"
   ]
  },
  {
   "cell_type": "markdown",
   "metadata": {},
   "source": [
    "### 1. Load and visualize the data"
   ]
  },
  {
   "cell_type": "markdown",
   "metadata": {},
   "source": [
    "a) "
   ]
  },
  {
   "cell_type": "code",
   "execution_count": 94,
   "metadata": {},
   "outputs": [
    {
     "data": {
      "text/html": [
       "<div>\n",
       "<style scoped>\n",
       "    .dataframe tbody tr th:only-of-type {\n",
       "        vertical-align: middle;\n",
       "    }\n",
       "\n",
       "    .dataframe tbody tr th {\n",
       "        vertical-align: top;\n",
       "    }\n",
       "\n",
       "    .dataframe thead th {\n",
       "        text-align: right;\n",
       "    }\n",
       "</style>\n",
       "<table border=\"1\" class=\"dataframe\">\n",
       "  <thead>\n",
       "    <tr style=\"text-align: right;\">\n",
       "      <th></th>\n",
       "      <th>Sample_1_preadi</th>\n",
       "      <th>Sample_2_preadi</th>\n",
       "      <th>Sample_3_preadi</th>\n",
       "      <th>Sample_4_preadi</th>\n",
       "      <th>Sample_5_preadi</th>\n",
       "      <th>Sample_6_preadi</th>\n",
       "      <th>Sample_7_preadi</th>\n",
       "      <th>Sample_8_preadi</th>\n",
       "      <th>Sample_9_preadi</th>\n",
       "      <th>Sample_10_preadi</th>\n",
       "      <th>...</th>\n",
       "      <th>Sample_71_adipo</th>\n",
       "      <th>Sample_72_adipo</th>\n",
       "      <th>Sample_73_adipo</th>\n",
       "      <th>Sample_74_adipo</th>\n",
       "      <th>Sample_75_adipo</th>\n",
       "      <th>Sample_76_adipo</th>\n",
       "      <th>Sample_77_adipo</th>\n",
       "      <th>Sample_78_adipo</th>\n",
       "      <th>Sample_79_adipo</th>\n",
       "      <th>Sample_80_adipo</th>\n",
       "    </tr>\n",
       "    <tr>\n",
       "      <th>Gene_ID</th>\n",
       "      <th></th>\n",
       "      <th></th>\n",
       "      <th></th>\n",
       "      <th></th>\n",
       "      <th></th>\n",
       "      <th></th>\n",
       "      <th></th>\n",
       "      <th></th>\n",
       "      <th></th>\n",
       "      <th></th>\n",
       "      <th></th>\n",
       "      <th></th>\n",
       "      <th></th>\n",
       "      <th></th>\n",
       "      <th></th>\n",
       "      <th></th>\n",
       "      <th></th>\n",
       "      <th></th>\n",
       "      <th></th>\n",
       "      <th></th>\n",
       "      <th></th>\n",
       "    </tr>\n",
       "  </thead>\n",
       "  <tbody>\n",
       "    <tr>\n",
       "      <th>ENSG00000000003</th>\n",
       "      <td>18</td>\n",
       "      <td>12</td>\n",
       "      <td>9</td>\n",
       "      <td>20</td>\n",
       "      <td>9</td>\n",
       "      <td>13</td>\n",
       "      <td>20</td>\n",
       "      <td>8</td>\n",
       "      <td>4</td>\n",
       "      <td>7</td>\n",
       "      <td>...</td>\n",
       "      <td>9</td>\n",
       "      <td>9</td>\n",
       "      <td>30</td>\n",
       "      <td>9</td>\n",
       "      <td>23</td>\n",
       "      <td>16</td>\n",
       "      <td>3</td>\n",
       "      <td>14</td>\n",
       "      <td>11</td>\n",
       "      <td>16</td>\n",
       "    </tr>\n",
       "    <tr>\n",
       "      <th>ENSG00000000005</th>\n",
       "      <td>0</td>\n",
       "      <td>0</td>\n",
       "      <td>0</td>\n",
       "      <td>2</td>\n",
       "      <td>0</td>\n",
       "      <td>0</td>\n",
       "      <td>0</td>\n",
       "      <td>0</td>\n",
       "      <td>0</td>\n",
       "      <td>0</td>\n",
       "      <td>...</td>\n",
       "      <td>0</td>\n",
       "      <td>1</td>\n",
       "      <td>29</td>\n",
       "      <td>2</td>\n",
       "      <td>22</td>\n",
       "      <td>3</td>\n",
       "      <td>0</td>\n",
       "      <td>2</td>\n",
       "      <td>0</td>\n",
       "      <td>5</td>\n",
       "    </tr>\n",
       "    <tr>\n",
       "      <th>ENSG00000000419</th>\n",
       "      <td>10</td>\n",
       "      <td>9</td>\n",
       "      <td>9</td>\n",
       "      <td>8</td>\n",
       "      <td>10</td>\n",
       "      <td>10</td>\n",
       "      <td>6</td>\n",
       "      <td>35</td>\n",
       "      <td>13</td>\n",
       "      <td>15</td>\n",
       "      <td>...</td>\n",
       "      <td>3</td>\n",
       "      <td>9</td>\n",
       "      <td>9</td>\n",
       "      <td>15</td>\n",
       "      <td>8</td>\n",
       "      <td>9</td>\n",
       "      <td>9</td>\n",
       "      <td>4</td>\n",
       "      <td>16</td>\n",
       "      <td>5</td>\n",
       "    </tr>\n",
       "    <tr>\n",
       "      <th>ENSG00000000457</th>\n",
       "      <td>0</td>\n",
       "      <td>11</td>\n",
       "      <td>0</td>\n",
       "      <td>6</td>\n",
       "      <td>2</td>\n",
       "      <td>12</td>\n",
       "      <td>11</td>\n",
       "      <td>1</td>\n",
       "      <td>2</td>\n",
       "      <td>0</td>\n",
       "      <td>...</td>\n",
       "      <td>9</td>\n",
       "      <td>8</td>\n",
       "      <td>8</td>\n",
       "      <td>5</td>\n",
       "      <td>6</td>\n",
       "      <td>0</td>\n",
       "      <td>12</td>\n",
       "      <td>13</td>\n",
       "      <td>4</td>\n",
       "      <td>11</td>\n",
       "    </tr>\n",
       "    <tr>\n",
       "      <th>ENSG00000000460</th>\n",
       "      <td>0</td>\n",
       "      <td>0</td>\n",
       "      <td>14</td>\n",
       "      <td>4</td>\n",
       "      <td>5</td>\n",
       "      <td>0</td>\n",
       "      <td>0</td>\n",
       "      <td>6</td>\n",
       "      <td>4</td>\n",
       "      <td>0</td>\n",
       "      <td>...</td>\n",
       "      <td>0</td>\n",
       "      <td>0</td>\n",
       "      <td>3</td>\n",
       "      <td>0</td>\n",
       "      <td>1</td>\n",
       "      <td>0</td>\n",
       "      <td>1</td>\n",
       "      <td>4</td>\n",
       "      <td>0</td>\n",
       "      <td>10</td>\n",
       "    </tr>\n",
       "    <tr>\n",
       "      <th>...</th>\n",
       "      <td>...</td>\n",
       "      <td>...</td>\n",
       "      <td>...</td>\n",
       "      <td>...</td>\n",
       "      <td>...</td>\n",
       "      <td>...</td>\n",
       "      <td>...</td>\n",
       "      <td>...</td>\n",
       "      <td>...</td>\n",
       "      <td>...</td>\n",
       "      <td>...</td>\n",
       "      <td>...</td>\n",
       "      <td>...</td>\n",
       "      <td>...</td>\n",
       "      <td>...</td>\n",
       "      <td>...</td>\n",
       "      <td>...</td>\n",
       "      <td>...</td>\n",
       "      <td>...</td>\n",
       "      <td>...</td>\n",
       "      <td>...</td>\n",
       "    </tr>\n",
       "    <tr>\n",
       "      <th>ENSG00000273489</th>\n",
       "      <td>0</td>\n",
       "      <td>0</td>\n",
       "      <td>0</td>\n",
       "      <td>2</td>\n",
       "      <td>0</td>\n",
       "      <td>1</td>\n",
       "      <td>8</td>\n",
       "      <td>0</td>\n",
       "      <td>0</td>\n",
       "      <td>0</td>\n",
       "      <td>...</td>\n",
       "      <td>0</td>\n",
       "      <td>0</td>\n",
       "      <td>0</td>\n",
       "      <td>0</td>\n",
       "      <td>0</td>\n",
       "      <td>0</td>\n",
       "      <td>0</td>\n",
       "      <td>0</td>\n",
       "      <td>0</td>\n",
       "      <td>0</td>\n",
       "    </tr>\n",
       "    <tr>\n",
       "      <th>ENSG00000273490</th>\n",
       "      <td>0</td>\n",
       "      <td>0</td>\n",
       "      <td>0</td>\n",
       "      <td>0</td>\n",
       "      <td>0</td>\n",
       "      <td>0</td>\n",
       "      <td>0</td>\n",
       "      <td>0</td>\n",
       "      <td>0</td>\n",
       "      <td>0</td>\n",
       "      <td>...</td>\n",
       "      <td>0</td>\n",
       "      <td>0</td>\n",
       "      <td>0</td>\n",
       "      <td>0</td>\n",
       "      <td>0</td>\n",
       "      <td>0</td>\n",
       "      <td>0</td>\n",
       "      <td>0</td>\n",
       "      <td>0</td>\n",
       "      <td>0</td>\n",
       "    </tr>\n",
       "    <tr>\n",
       "      <th>ENSG00000273491</th>\n",
       "      <td>0</td>\n",
       "      <td>0</td>\n",
       "      <td>0</td>\n",
       "      <td>0</td>\n",
       "      <td>0</td>\n",
       "      <td>0</td>\n",
       "      <td>0</td>\n",
       "      <td>0</td>\n",
       "      <td>0</td>\n",
       "      <td>0</td>\n",
       "      <td>...</td>\n",
       "      <td>0</td>\n",
       "      <td>0</td>\n",
       "      <td>0</td>\n",
       "      <td>0</td>\n",
       "      <td>0</td>\n",
       "      <td>0</td>\n",
       "      <td>0</td>\n",
       "      <td>0</td>\n",
       "      <td>0</td>\n",
       "      <td>0</td>\n",
       "    </tr>\n",
       "    <tr>\n",
       "      <th>ENSG00000273492</th>\n",
       "      <td>0</td>\n",
       "      <td>0</td>\n",
       "      <td>0</td>\n",
       "      <td>0</td>\n",
       "      <td>0</td>\n",
       "      <td>0</td>\n",
       "      <td>0</td>\n",
       "      <td>0</td>\n",
       "      <td>0</td>\n",
       "      <td>0</td>\n",
       "      <td>...</td>\n",
       "      <td>0</td>\n",
       "      <td>0</td>\n",
       "      <td>0</td>\n",
       "      <td>0</td>\n",
       "      <td>0</td>\n",
       "      <td>0</td>\n",
       "      <td>0</td>\n",
       "      <td>0</td>\n",
       "      <td>0</td>\n",
       "      <td>0</td>\n",
       "    </tr>\n",
       "    <tr>\n",
       "      <th>ENSG00000273493</th>\n",
       "      <td>0</td>\n",
       "      <td>0</td>\n",
       "      <td>0</td>\n",
       "      <td>0</td>\n",
       "      <td>0</td>\n",
       "      <td>0</td>\n",
       "      <td>0</td>\n",
       "      <td>0</td>\n",
       "      <td>1</td>\n",
       "      <td>0</td>\n",
       "      <td>...</td>\n",
       "      <td>0</td>\n",
       "      <td>0</td>\n",
       "      <td>0</td>\n",
       "      <td>0</td>\n",
       "      <td>0</td>\n",
       "      <td>0</td>\n",
       "      <td>0</td>\n",
       "      <td>0</td>\n",
       "      <td>3</td>\n",
       "      <td>0</td>\n",
       "    </tr>\n",
       "  </tbody>\n",
       "</table>\n",
       "<p>63677 rows × 80 columns</p>\n",
       "</div>"
      ],
      "text/plain": [
       "                 Sample_1_preadi  Sample_2_preadi  Sample_3_preadi  \\\n",
       "Gene_ID                                                              \n",
       "ENSG00000000003               18               12                9   \n",
       "ENSG00000000005                0                0                0   \n",
       "ENSG00000000419               10                9                9   \n",
       "ENSG00000000457                0               11                0   \n",
       "ENSG00000000460                0                0               14   \n",
       "...                          ...              ...              ...   \n",
       "ENSG00000273489                0                0                0   \n",
       "ENSG00000273490                0                0                0   \n",
       "ENSG00000273491                0                0                0   \n",
       "ENSG00000273492                0                0                0   \n",
       "ENSG00000273493                0                0                0   \n",
       "\n",
       "                 Sample_4_preadi  Sample_5_preadi  Sample_6_preadi  \\\n",
       "Gene_ID                                                              \n",
       "ENSG00000000003               20                9               13   \n",
       "ENSG00000000005                2                0                0   \n",
       "ENSG00000000419                8               10               10   \n",
       "ENSG00000000457                6                2               12   \n",
       "ENSG00000000460                4                5                0   \n",
       "...                          ...              ...              ...   \n",
       "ENSG00000273489                2                0                1   \n",
       "ENSG00000273490                0                0                0   \n",
       "ENSG00000273491                0                0                0   \n",
       "ENSG00000273492                0                0                0   \n",
       "ENSG00000273493                0                0                0   \n",
       "\n",
       "                 Sample_7_preadi  Sample_8_preadi  Sample_9_preadi  \\\n",
       "Gene_ID                                                              \n",
       "ENSG00000000003               20                8                4   \n",
       "ENSG00000000005                0                0                0   \n",
       "ENSG00000000419                6               35               13   \n",
       "ENSG00000000457               11                1                2   \n",
       "ENSG00000000460                0                6                4   \n",
       "...                          ...              ...              ...   \n",
       "ENSG00000273489                8                0                0   \n",
       "ENSG00000273490                0                0                0   \n",
       "ENSG00000273491                0                0                0   \n",
       "ENSG00000273492                0                0                0   \n",
       "ENSG00000273493                0                0                1   \n",
       "\n",
       "                 Sample_10_preadi  ...  Sample_71_adipo  Sample_72_adipo  \\\n",
       "Gene_ID                            ...                                     \n",
       "ENSG00000000003                 7  ...                9                9   \n",
       "ENSG00000000005                 0  ...                0                1   \n",
       "ENSG00000000419                15  ...                3                9   \n",
       "ENSG00000000457                 0  ...                9                8   \n",
       "ENSG00000000460                 0  ...                0                0   \n",
       "...                           ...  ...              ...              ...   \n",
       "ENSG00000273489                 0  ...                0                0   \n",
       "ENSG00000273490                 0  ...                0                0   \n",
       "ENSG00000273491                 0  ...                0                0   \n",
       "ENSG00000273492                 0  ...                0                0   \n",
       "ENSG00000273493                 0  ...                0                0   \n",
       "\n",
       "                 Sample_73_adipo  Sample_74_adipo  Sample_75_adipo  \\\n",
       "Gene_ID                                                              \n",
       "ENSG00000000003               30                9               23   \n",
       "ENSG00000000005               29                2               22   \n",
       "ENSG00000000419                9               15                8   \n",
       "ENSG00000000457                8                5                6   \n",
       "ENSG00000000460                3                0                1   \n",
       "...                          ...              ...              ...   \n",
       "ENSG00000273489                0                0                0   \n",
       "ENSG00000273490                0                0                0   \n",
       "ENSG00000273491                0                0                0   \n",
       "ENSG00000273492                0                0                0   \n",
       "ENSG00000273493                0                0                0   \n",
       "\n",
       "                 Sample_76_adipo  Sample_77_adipo  Sample_78_adipo  \\\n",
       "Gene_ID                                                              \n",
       "ENSG00000000003               16                3               14   \n",
       "ENSG00000000005                3                0                2   \n",
       "ENSG00000000419                9                9                4   \n",
       "ENSG00000000457                0               12               13   \n",
       "ENSG00000000460                0                1                4   \n",
       "...                          ...              ...              ...   \n",
       "ENSG00000273489                0                0                0   \n",
       "ENSG00000273490                0                0                0   \n",
       "ENSG00000273491                0                0                0   \n",
       "ENSG00000273492                0                0                0   \n",
       "ENSG00000273493                0                0                0   \n",
       "\n",
       "                 Sample_79_adipo  Sample_80_adipo  \n",
       "Gene_ID                                            \n",
       "ENSG00000000003               11               16  \n",
       "ENSG00000000005                0                5  \n",
       "ENSG00000000419               16                5  \n",
       "ENSG00000000457                4               11  \n",
       "ENSG00000000460                0               10  \n",
       "...                          ...              ...  \n",
       "ENSG00000273489                0                0  \n",
       "ENSG00000273490                0                0  \n",
       "ENSG00000273491                0                0  \n",
       "ENSG00000273492                0                0  \n",
       "ENSG00000273493                3                0  \n",
       "\n",
       "[63677 rows x 80 columns]"
      ]
     },
     "execution_count": 94,
     "metadata": {},
     "output_type": "execute_result"
    }
   ],
   "source": [
    "#import data\n",
    "core_path = './data'\n",
    "transcriptomics = pd.read_csv( os.path.join(core_path, 'transcriptomics.dataset.txt'),sep= \"\\t\")\n",
    "\n",
    "# rename gene id and set it to index\n",
    "transcriptomics.rename(columns = {\"Unnamed: 0\":'Gene_ID'}, inplace=True)\n",
    "transcriptomics.index = transcriptomics[\"Gene_ID\"]\n",
    "transcriptomics.drop(columns = ['Gene_ID'], inplace=True)\n",
    "\n",
    "transcriptomics"
   ]
  },
  {
   "cell_type": "markdown",
   "metadata": {},
   "source": [
    "What is the size of the matrix ?"
   ]
  },
  {
   "cell_type": "markdown",
   "metadata": {},
   "source": [
    "63677 genes and 80 samples : matrix size 63677*80"
   ]
  },
  {
   "cell_type": "markdown",
   "metadata": {},
   "source": [
    "b) What type of data do you have? Normalized or raw read counts (integer)?"
   ]
  },
  {
   "attachments": {},
   "cell_type": "markdown",
   "metadata": {},
   "source": [
    "We have a transcriptomics dataset containing 80 samples. Each row correspond to different genes. Each value for each gene and sample correspond to a raw read counts."
   ]
  },
  {
   "cell_type": "markdown",
   "metadata": {},
   "source": [
    "c)"
   ]
  },
  {
   "cell_type": "code",
   "execution_count": 62,
   "metadata": {},
   "outputs": [],
   "source": [
    "# creation of a dictionnary with mapping the sample names to their groups\n",
    "dict_sample = {}\n",
    "for idx, sample in enumerate(transcriptomics.columns.values) :\n",
    "    if ( sample == \"Sample_{}_preadi\".format(idx+1) ):\n",
    "        #dict_sample[\"Sample_{}\".format(idx+1)]=\"PreAdipo\"\n",
    "        dict_sample[sample]=\"PreAdipo\"\n",
    "    else :\n",
    "        dict_sample[sample]=\"Adipo\"\n",
    "        "
   ]
  },
  {
   "cell_type": "markdown",
   "metadata": {},
   "source": [
    "d)"
   ]
  },
  {
   "cell_type": "code",
   "execution_count": 93,
   "metadata": {},
   "outputs": [
    {
     "data": {
      "text/html": [
       "<div>\n",
       "<style scoped>\n",
       "    .dataframe tbody tr th:only-of-type {\n",
       "        vertical-align: middle;\n",
       "    }\n",
       "\n",
       "    .dataframe tbody tr th {\n",
       "        vertical-align: top;\n",
       "    }\n",
       "\n",
       "    .dataframe thead th {\n",
       "        text-align: right;\n",
       "    }\n",
       "</style>\n",
       "<table border=\"1\" class=\"dataframe\">\n",
       "  <thead>\n",
       "    <tr style=\"text-align: right;\">\n",
       "      <th></th>\n",
       "      <th>Sample_1_preadi</th>\n",
       "      <th>Sample_2_preadi</th>\n",
       "      <th>Sample_3_preadi</th>\n",
       "      <th>Sample_4_preadi</th>\n",
       "      <th>Sample_5_preadi</th>\n",
       "      <th>Sample_6_preadi</th>\n",
       "      <th>Sample_7_preadi</th>\n",
       "      <th>Sample_8_preadi</th>\n",
       "      <th>Sample_9_preadi</th>\n",
       "      <th>Sample_10_preadi</th>\n",
       "      <th>...</th>\n",
       "      <th>Sample_71_adipo</th>\n",
       "      <th>Sample_72_adipo</th>\n",
       "      <th>Sample_73_adipo</th>\n",
       "      <th>Sample_74_adipo</th>\n",
       "      <th>Sample_75_adipo</th>\n",
       "      <th>Sample_76_adipo</th>\n",
       "      <th>Sample_77_adipo</th>\n",
       "      <th>Sample_78_adipo</th>\n",
       "      <th>Sample_79_adipo</th>\n",
       "      <th>Sample_80_adipo</th>\n",
       "    </tr>\n",
       "    <tr>\n",
       "      <th>Gene_ID</th>\n",
       "      <th></th>\n",
       "      <th></th>\n",
       "      <th></th>\n",
       "      <th></th>\n",
       "      <th></th>\n",
       "      <th></th>\n",
       "      <th></th>\n",
       "      <th></th>\n",
       "      <th></th>\n",
       "      <th></th>\n",
       "      <th></th>\n",
       "      <th></th>\n",
       "      <th></th>\n",
       "      <th></th>\n",
       "      <th></th>\n",
       "      <th></th>\n",
       "      <th></th>\n",
       "      <th></th>\n",
       "      <th></th>\n",
       "      <th></th>\n",
       "      <th></th>\n",
       "    </tr>\n",
       "  </thead>\n",
       "  <tbody>\n",
       "    <tr>\n",
       "      <th>ENSG00000000003</th>\n",
       "      <td>18</td>\n",
       "      <td>12</td>\n",
       "      <td>9</td>\n",
       "      <td>20</td>\n",
       "      <td>9</td>\n",
       "      <td>13</td>\n",
       "      <td>20</td>\n",
       "      <td>8</td>\n",
       "      <td>4</td>\n",
       "      <td>7</td>\n",
       "      <td>...</td>\n",
       "      <td>9</td>\n",
       "      <td>9</td>\n",
       "      <td>30</td>\n",
       "      <td>9</td>\n",
       "      <td>23</td>\n",
       "      <td>16</td>\n",
       "      <td>3</td>\n",
       "      <td>14</td>\n",
       "      <td>11</td>\n",
       "      <td>16</td>\n",
       "    </tr>\n",
       "    <tr>\n",
       "      <th>ENSG00000000005</th>\n",
       "      <td>0</td>\n",
       "      <td>0</td>\n",
       "      <td>0</td>\n",
       "      <td>2</td>\n",
       "      <td>0</td>\n",
       "      <td>0</td>\n",
       "      <td>0</td>\n",
       "      <td>0</td>\n",
       "      <td>0</td>\n",
       "      <td>0</td>\n",
       "      <td>...</td>\n",
       "      <td>0</td>\n",
       "      <td>1</td>\n",
       "      <td>29</td>\n",
       "      <td>2</td>\n",
       "      <td>22</td>\n",
       "      <td>3</td>\n",
       "      <td>0</td>\n",
       "      <td>2</td>\n",
       "      <td>0</td>\n",
       "      <td>5</td>\n",
       "    </tr>\n",
       "    <tr>\n",
       "      <th>ENSG00000000419</th>\n",
       "      <td>10</td>\n",
       "      <td>9</td>\n",
       "      <td>9</td>\n",
       "      <td>8</td>\n",
       "      <td>10</td>\n",
       "      <td>10</td>\n",
       "      <td>6</td>\n",
       "      <td>35</td>\n",
       "      <td>13</td>\n",
       "      <td>15</td>\n",
       "      <td>...</td>\n",
       "      <td>3</td>\n",
       "      <td>9</td>\n",
       "      <td>9</td>\n",
       "      <td>15</td>\n",
       "      <td>8</td>\n",
       "      <td>9</td>\n",
       "      <td>9</td>\n",
       "      <td>4</td>\n",
       "      <td>16</td>\n",
       "      <td>5</td>\n",
       "    </tr>\n",
       "    <tr>\n",
       "      <th>ENSG00000000457</th>\n",
       "      <td>0</td>\n",
       "      <td>11</td>\n",
       "      <td>0</td>\n",
       "      <td>6</td>\n",
       "      <td>2</td>\n",
       "      <td>12</td>\n",
       "      <td>11</td>\n",
       "      <td>1</td>\n",
       "      <td>2</td>\n",
       "      <td>0</td>\n",
       "      <td>...</td>\n",
       "      <td>9</td>\n",
       "      <td>8</td>\n",
       "      <td>8</td>\n",
       "      <td>5</td>\n",
       "      <td>6</td>\n",
       "      <td>0</td>\n",
       "      <td>12</td>\n",
       "      <td>13</td>\n",
       "      <td>4</td>\n",
       "      <td>11</td>\n",
       "    </tr>\n",
       "    <tr>\n",
       "      <th>ENSG00000000460</th>\n",
       "      <td>0</td>\n",
       "      <td>0</td>\n",
       "      <td>14</td>\n",
       "      <td>4</td>\n",
       "      <td>5</td>\n",
       "      <td>0</td>\n",
       "      <td>0</td>\n",
       "      <td>6</td>\n",
       "      <td>4</td>\n",
       "      <td>0</td>\n",
       "      <td>...</td>\n",
       "      <td>0</td>\n",
       "      <td>0</td>\n",
       "      <td>3</td>\n",
       "      <td>0</td>\n",
       "      <td>1</td>\n",
       "      <td>0</td>\n",
       "      <td>1</td>\n",
       "      <td>4</td>\n",
       "      <td>0</td>\n",
       "      <td>10</td>\n",
       "    </tr>\n",
       "    <tr>\n",
       "      <th>...</th>\n",
       "      <td>...</td>\n",
       "      <td>...</td>\n",
       "      <td>...</td>\n",
       "      <td>...</td>\n",
       "      <td>...</td>\n",
       "      <td>...</td>\n",
       "      <td>...</td>\n",
       "      <td>...</td>\n",
       "      <td>...</td>\n",
       "      <td>...</td>\n",
       "      <td>...</td>\n",
       "      <td>...</td>\n",
       "      <td>...</td>\n",
       "      <td>...</td>\n",
       "      <td>...</td>\n",
       "      <td>...</td>\n",
       "      <td>...</td>\n",
       "      <td>...</td>\n",
       "      <td>...</td>\n",
       "      <td>...</td>\n",
       "      <td>...</td>\n",
       "    </tr>\n",
       "    <tr>\n",
       "      <th>ENSG00000273485</th>\n",
       "      <td>0</td>\n",
       "      <td>0</td>\n",
       "      <td>0</td>\n",
       "      <td>1</td>\n",
       "      <td>0</td>\n",
       "      <td>5</td>\n",
       "      <td>0</td>\n",
       "      <td>0</td>\n",
       "      <td>0</td>\n",
       "      <td>0</td>\n",
       "      <td>...</td>\n",
       "      <td>0</td>\n",
       "      <td>0</td>\n",
       "      <td>0</td>\n",
       "      <td>0</td>\n",
       "      <td>0</td>\n",
       "      <td>12</td>\n",
       "      <td>0</td>\n",
       "      <td>0</td>\n",
       "      <td>0</td>\n",
       "      <td>0</td>\n",
       "    </tr>\n",
       "    <tr>\n",
       "      <th>ENSG00000273486</th>\n",
       "      <td>0</td>\n",
       "      <td>0</td>\n",
       "      <td>0</td>\n",
       "      <td>0</td>\n",
       "      <td>1</td>\n",
       "      <td>0</td>\n",
       "      <td>0</td>\n",
       "      <td>0</td>\n",
       "      <td>0</td>\n",
       "      <td>0</td>\n",
       "      <td>...</td>\n",
       "      <td>0</td>\n",
       "      <td>2</td>\n",
       "      <td>0</td>\n",
       "      <td>3</td>\n",
       "      <td>0</td>\n",
       "      <td>2</td>\n",
       "      <td>5</td>\n",
       "      <td>1</td>\n",
       "      <td>0</td>\n",
       "      <td>0</td>\n",
       "    </tr>\n",
       "    <tr>\n",
       "      <th>ENSG00000273487</th>\n",
       "      <td>0</td>\n",
       "      <td>0</td>\n",
       "      <td>0</td>\n",
       "      <td>0</td>\n",
       "      <td>0</td>\n",
       "      <td>0</td>\n",
       "      <td>0</td>\n",
       "      <td>0</td>\n",
       "      <td>0</td>\n",
       "      <td>0</td>\n",
       "      <td>...</td>\n",
       "      <td>0</td>\n",
       "      <td>0</td>\n",
       "      <td>0</td>\n",
       "      <td>0</td>\n",
       "      <td>0</td>\n",
       "      <td>0</td>\n",
       "      <td>0</td>\n",
       "      <td>0</td>\n",
       "      <td>0</td>\n",
       "      <td>0</td>\n",
       "    </tr>\n",
       "    <tr>\n",
       "      <th>ENSG00000273489</th>\n",
       "      <td>0</td>\n",
       "      <td>0</td>\n",
       "      <td>0</td>\n",
       "      <td>2</td>\n",
       "      <td>0</td>\n",
       "      <td>1</td>\n",
       "      <td>8</td>\n",
       "      <td>0</td>\n",
       "      <td>0</td>\n",
       "      <td>0</td>\n",
       "      <td>...</td>\n",
       "      <td>0</td>\n",
       "      <td>0</td>\n",
       "      <td>0</td>\n",
       "      <td>0</td>\n",
       "      <td>0</td>\n",
       "      <td>0</td>\n",
       "      <td>0</td>\n",
       "      <td>0</td>\n",
       "      <td>0</td>\n",
       "      <td>0</td>\n",
       "    </tr>\n",
       "    <tr>\n",
       "      <th>ENSG00000273493</th>\n",
       "      <td>0</td>\n",
       "      <td>0</td>\n",
       "      <td>0</td>\n",
       "      <td>0</td>\n",
       "      <td>0</td>\n",
       "      <td>0</td>\n",
       "      <td>0</td>\n",
       "      <td>0</td>\n",
       "      <td>1</td>\n",
       "      <td>0</td>\n",
       "      <td>...</td>\n",
       "      <td>0</td>\n",
       "      <td>0</td>\n",
       "      <td>0</td>\n",
       "      <td>0</td>\n",
       "      <td>0</td>\n",
       "      <td>0</td>\n",
       "      <td>0</td>\n",
       "      <td>0</td>\n",
       "      <td>3</td>\n",
       "      <td>0</td>\n",
       "    </tr>\n",
       "  </tbody>\n",
       "</table>\n",
       "<p>30238 rows × 80 columns</p>\n",
       "</div>"
      ],
      "text/plain": [
       "                 Sample_1_preadi  Sample_2_preadi  Sample_3_preadi  \\\n",
       "Gene_ID                                                              \n",
       "ENSG00000000003               18               12                9   \n",
       "ENSG00000000005                0                0                0   \n",
       "ENSG00000000419               10                9                9   \n",
       "ENSG00000000457                0               11                0   \n",
       "ENSG00000000460                0                0               14   \n",
       "...                          ...              ...              ...   \n",
       "ENSG00000273485                0                0                0   \n",
       "ENSG00000273486                0                0                0   \n",
       "ENSG00000273487                0                0                0   \n",
       "ENSG00000273489                0                0                0   \n",
       "ENSG00000273493                0                0                0   \n",
       "\n",
       "                 Sample_4_preadi  Sample_5_preadi  Sample_6_preadi  \\\n",
       "Gene_ID                                                              \n",
       "ENSG00000000003               20                9               13   \n",
       "ENSG00000000005                2                0                0   \n",
       "ENSG00000000419                8               10               10   \n",
       "ENSG00000000457                6                2               12   \n",
       "ENSG00000000460                4                5                0   \n",
       "...                          ...              ...              ...   \n",
       "ENSG00000273485                1                0                5   \n",
       "ENSG00000273486                0                1                0   \n",
       "ENSG00000273487                0                0                0   \n",
       "ENSG00000273489                2                0                1   \n",
       "ENSG00000273493                0                0                0   \n",
       "\n",
       "                 Sample_7_preadi  Sample_8_preadi  Sample_9_preadi  \\\n",
       "Gene_ID                                                              \n",
       "ENSG00000000003               20                8                4   \n",
       "ENSG00000000005                0                0                0   \n",
       "ENSG00000000419                6               35               13   \n",
       "ENSG00000000457               11                1                2   \n",
       "ENSG00000000460                0                6                4   \n",
       "...                          ...              ...              ...   \n",
       "ENSG00000273485                0                0                0   \n",
       "ENSG00000273486                0                0                0   \n",
       "ENSG00000273487                0                0                0   \n",
       "ENSG00000273489                8                0                0   \n",
       "ENSG00000273493                0                0                1   \n",
       "\n",
       "                 Sample_10_preadi  ...  Sample_71_adipo  Sample_72_adipo  \\\n",
       "Gene_ID                            ...                                     \n",
       "ENSG00000000003                 7  ...                9                9   \n",
       "ENSG00000000005                 0  ...                0                1   \n",
       "ENSG00000000419                15  ...                3                9   \n",
       "ENSG00000000457                 0  ...                9                8   \n",
       "ENSG00000000460                 0  ...                0                0   \n",
       "...                           ...  ...              ...              ...   \n",
       "ENSG00000273485                 0  ...                0                0   \n",
       "ENSG00000273486                 0  ...                0                2   \n",
       "ENSG00000273487                 0  ...                0                0   \n",
       "ENSG00000273489                 0  ...                0                0   \n",
       "ENSG00000273493                 0  ...                0                0   \n",
       "\n",
       "                 Sample_73_adipo  Sample_74_adipo  Sample_75_adipo  \\\n",
       "Gene_ID                                                              \n",
       "ENSG00000000003               30                9               23   \n",
       "ENSG00000000005               29                2               22   \n",
       "ENSG00000000419                9               15                8   \n",
       "ENSG00000000457                8                5                6   \n",
       "ENSG00000000460                3                0                1   \n",
       "...                          ...              ...              ...   \n",
       "ENSG00000273485                0                0                0   \n",
       "ENSG00000273486                0                3                0   \n",
       "ENSG00000273487                0                0                0   \n",
       "ENSG00000273489                0                0                0   \n",
       "ENSG00000273493                0                0                0   \n",
       "\n",
       "                 Sample_76_adipo  Sample_77_adipo  Sample_78_adipo  \\\n",
       "Gene_ID                                                              \n",
       "ENSG00000000003               16                3               14   \n",
       "ENSG00000000005                3                0                2   \n",
       "ENSG00000000419                9                9                4   \n",
       "ENSG00000000457                0               12               13   \n",
       "ENSG00000000460                0                1                4   \n",
       "...                          ...              ...              ...   \n",
       "ENSG00000273485               12                0                0   \n",
       "ENSG00000273486                2                5                1   \n",
       "ENSG00000273487                0                0                0   \n",
       "ENSG00000273489                0                0                0   \n",
       "ENSG00000273493                0                0                0   \n",
       "\n",
       "                 Sample_79_adipo  Sample_80_adipo  \n",
       "Gene_ID                                            \n",
       "ENSG00000000003               11               16  \n",
       "ENSG00000000005                0                5  \n",
       "ENSG00000000419               16                5  \n",
       "ENSG00000000457                4               11  \n",
       "ENSG00000000460                0               10  \n",
       "...                          ...              ...  \n",
       "ENSG00000273485                0                0  \n",
       "ENSG00000273486                0                0  \n",
       "ENSG00000273487                0                0  \n",
       "ENSG00000273489                0                0  \n",
       "ENSG00000273493                3                0  \n",
       "\n",
       "[30238 rows x 80 columns]"
      ]
     },
     "execution_count": 93,
     "metadata": {},
     "output_type": "execute_result"
    }
   ],
   "source": [
    "#Remove the genes that are not expressed in any sample \n",
    "transcriptomics = transcriptomics.loc[(transcriptomics != 0).any(axis=1),:]\n",
    "transcriptomics"
   ]
  },
  {
   "cell_type": "markdown",
   "metadata": {},
   "source": [
    "e)"
   ]
  },
  {
   "cell_type": "code",
   "execution_count": 66,
   "metadata": {},
   "outputs": [
    {
     "data": {
      "image/png": "[encoded data removed]",
      "text/plain": [
       "<Figure size 1440x720 with 1 Axes>"
      ]
     },
     "metadata": {
      "needs_background": "light"
     },
     "output_type": "display_data"
    }
   ],
   "source": [
    "depth = pd.DataFrame({'Samples':list(range(0,80)), 'depth':transcriptomics.sum()})\n",
    "plt.figure(figsize=(20,10))\n",
    "ax =sns.barplot( data=depth, y='depth', x=\"Samples\")"
   ]
  },
  {
   "cell_type": "code",
   "execution_count": 110,
   "metadata": {},
   "outputs": [
    {
     "data": {
      "text/plain": [
       "True"
      ]
     },
     "execution_count": 110,
     "metadata": {},
     "output_type": "execute_result"
    }
   ],
   "source": [
    "(transcriptomics.sum() == 1e6).all()"
   ]
  },
  {
   "attachments": {},
   "cell_type": "markdown",
   "metadata": {},
   "source": [
    "We observed that all samples have the same sum of the reads/counts. THus we do not need to normalize."
   ]
  },
  {
   "cell_type": "markdown",
   "metadata": {},
   "source": [
    "f)"
   ]
  },
  {
   "cell_type": "code",
   "execution_count": 67,
   "metadata": {},
   "outputs": [
    {
     "data": {
      "application/vnd.plotly.v1+json": {
       "config": {
        "plotlyServerURL": "https://plot.ly"
       },
       "data": [
        {
         "hovertemplate": "groups=PreAdipo<br>PCA1=%{x}<br>PCA2=%{y}<br>PCA3=%{z}<extra></extra>",
         "legendgroup": "PreAdipo",
         "marker": {
          "color": "#636efa",
          "symbol": "circle"
         },
         "mode": "markers",
         "name": "PreAdipo",
         "scene": "scene",
         "showlegend": true,
         "type": "scatter3d",
         "x": [
          59744.204874863884,
          -36447.50255004798,
          -15666.397485666914,
          -22423.41330660363,
          -15830.729625471624,
          -17332.667723431266,
          -12955.303774635144,
          -6793.369551946859,
          -38277.916083316726,
          7533.754251075817,
          12136.69413447779,
          -8674.685048862368,
          -13743.502268817349,
          -3823.192789156773,
          -26862.92502996949,
          -20949.275905316288,
          100.46620410440688,
          14153.027864329342,
          -18104.2239379263,
          -19679.392308106315,
          -21930.660054985503,
          -20557.36055326802,
          -19819.943609895774,
          -16877.79615942435,
          -19060.358388341392,
          -27097.130554989722,
          -27237.655895723172,
          -15548.502302760415,
          975.0945234179477,
          2447.3361996277204,
          -27137.592455098336,
          -14665.737411881095,
          -4912.1537442723775,
          -19399.051820918732,
          5677.757574148714,
          222.5384663471846,
          -21312.39106460943,
          -17697.62815770351,
          -19136.85428251931,
          -5107.956773698213
         ],
         "y": [
          5181.484207279801,
          11214.469551465372,
          -7873.272341364952,
          -20027.14099029686,
          -13797.002922133854,
          -3597.180041201226,
          14041.820704478383,
          -16810.345315512466,
          3570.944701177516,
          9691.262731453715,
          -12752.484044746372,
          -18356.715174296925,
          -6222.81242691127,
          -20290.91331527681,
          -19717.963044769058,
          -16902.647454803166,
          -16815.850844682547,
          -5007.125421409408,
          -262.3659737189959,
          -13609.739742818652,
          -2584.568141256544,
          -16718.396638597904,
          -10361.6949431434,
          -25571.45964781612,
          30299.382955632856,
          13888.191538375513,
          -17274.40576091779,
          -24198.47715650502,
          -19830.05101964681,
          8865.51864495544,
          23345.719463316796,
          19074.58797105156,
          -4432.788581224065,
          -22451.84810336428,
          -2563.792541542711,
          -3215.3812897662438,
          -8996.693560014897,
          10553.342367703857,
          -29585.876536315252,
          -16192.53222637314
         ],
         "z": [
          34953.67319385145,
          6564.207381040307,
          3183.165238038014,
          -15412.56377979023,
          -8727.93310613677,
          2525.941050817505,
          15781.996739875633,
          3527.7035737439046,
          -6783.304498017155,
          26837.308224171393,
          18027.177043347358,
          6641.195236863006,
          14444.90076136249,
          4782.257096399895,
          -7147.891608301518,
          -841.2817067612875,
          16422.979307524332,
          25362.598603004702,
          -4885.658971542843,
          -3265.3293950541824,
          11806.558777662645,
          4520.238492128119,
          -5042.802487202258,
          7260.860610162984,
          6163.04622203482,
          -1571.4321487645038,
          -16448.095458911233,
          13797.70773395929,
          11598.755546077145,
          26836.484500366136,
          7694.887240348269,
          15510.193538691248,
          3138.8300370407255,
          -3300.2984027782604,
          16169.582721523551,
          19613.78569761163,
          -5086.666842807877,
          12100.413081769226,
          -6968.774935794194,
          1401.4947245658082
         ]
        },
        {
         "hovertemplate": "groups=Adipo<br>PCA1=%{x}<br>PCA2=%{y}<br>PCA3=%{z}<extra></extra>",
         "legendgroup": "Adipo",
         "marker": {
          "color": "#EF553B",
          "symbol": "circle"
         },
         "mode": "markers",
         "name": "Adipo",
         "scene": "scene",
         "showlegend": true,
         "type": "scatter3d",
         "x": [
          19182.983606602487,
          36821.6196236428,
          31058.7212027989,
          -5371.825310895116,
          30748.774478412844,
          28368.447661204198,
          -194.96070040205962,
          18732.17310783869,
          54855.70260918246,
          11348.2131632669,
          -27480.951624719222,
          -20259.821285716363,
          533.8487953007879,
          3635.9346487050116,
          72278.57264525023,
          45723.353503684244,
          -31910.386775500432,
          43759.44292771791,
          17327.52138795164,
          -23198.111487375892,
          -6584.728976739565,
          4904.4407787715145,
          -28571.18528760661,
          -3436.1771606477428,
          15726.245812798386,
          6858.917857019012,
          35228.16427971715,
          13276.792248782447,
          -2399.9325226125416,
          27136.282535575414,
          -6336.925733156171,
          -5853.258820026093,
          18653.50727955958,
          15629.231660801266,
          47002.21644424811,
          39830.37461771205,
          44353.45478829573,
          -2515.045934498355,
          -23979.413581605808,
          -22809.815936366267
         ],
         "y": [
          22856.86203932665,
          4323.415183007064,
          -4590.1803828393195,
          2020.8611721185657,
          -9236.424686545097,
          -7349.032857327785,
          -7870.58250801847,
          7297.532101292828,
          6340.011538557031,
          3537.0853559096367,
          13309.652146565672,
          28378.460199161436,
          -1284.9706611667104,
          22985.80676325252,
          3022.3231518493594,
          4164.866712706212,
          37097.62802378494,
          8979.6292459404,
          -5850.235907982943,
          32896.144619226965,
          5122.016674993699,
          -8300.692287209988,
          17492.863674145163,
          1453.616026356765,
          2301.5666453594326,
          -7864.483210205945,
          760.7498092900717,
          4570.822508843347,
          7135.646489973176,
          -10884.204511007656,
          9892.725154914859,
          1047.595525611723,
          -9750.767561757628,
          -6457.210005998214,
          9746.1969036035,
          16913.116446769145,
          -2109.8281064747885,
          2289.3874474950144,
          32201.09900590916,
          19705.73248410614
         ],
         "z": [
          -5510.235095140409,
          -6010.654238492398,
          4071.226801403986,
          -5554.025883094096,
          1112.1698730778648,
          15266.097939823432,
          -15288.412637389729,
          -18381.16558666969,
          -9613.841736895021,
          -19590.393667349752,
          -11326.972768074344,
          -88.24917676794985,
          853.3559566395794,
          -11953.530277153151,
          774.2370535000122,
          -3726.0280086650705,
          -4561.825460075405,
          -4340.635521221476,
          1481.4544345196734,
          1880.5637843801617,
          -8555.932897587969,
          3162.162917246992,
          -139.91801757852588,
          -16316.01284492108,
          -28522.28043258023,
          -581.7589528378222,
          -9247.558804884195,
          -7136.199427316066,
          -2899.212322222233,
          -15069.436207047534,
          -522.142078754301,
          -2521.319761397524,
          -14678.951262549592,
          -12126.886439471671,
          -1171.542592509863,
          2542.1992139754625,
          -14291.751795575823,
          -29504.06511464764,
          -2077.7827903846733,
          -1020.6552074314942
         ]
        }
       ],
       "layout": {
        "legend": {
         "title": {
          "text": "groups"
         },
         "tracegroupgap": 0
        },
        "margin": {
         "t": 60
        },
        "scene": {
         "domain": {
          "x": [
           0,
           1
          ],
          "y": [
           0,
           1
          ]
         },
         "xaxis": {
          "title": {
           "text": "PCA1"
          }
         },
         "yaxis": {
          "title": {
           "text": "PCA2"
          }
         },
         "zaxis": {
          "title": {
           "text": "PCA3"
          }
         }
        },
        "template": {
         "data": {
          "bar": [
           {
            "error_x": {
             "color": "#2a3f5f"
            },
            "error_y": {
             "color": "#2a3f5f"
            },
            "marker": {
             "line": {
              "color": "#E5ECF6",
              "width": 0.5
             },
             "pattern": {
              "fillmode": "overlay",
              "size": 10,
              "solidity": 0.2
             }
            },
            "type": "bar"
           }
          ],
          "barpolar": [
           {
            "marker": {
             "line": {
              "color": "#E5ECF6",
              "width": 0.5
             },
             "pattern": {
              "fillmode": "overlay",
              "size": 10,
              "solidity": 0.2
             }
            },
            "type": "barpolar"
           }
          ],
          "carpet": [
           {
            "aaxis": {
             "endlinecolor": "#2a3f5f",
             "gridcolor": "white",
             "linecolor": "white",
             "minorgridcolor": "white",
             "startlinecolor": "#2a3f5f"
            },
            "baxis": {
             "endlinecolor": "#2a3f5f",
             "gridcolor": "white",
             "linecolor": "white",
             "minorgridcolor": "white",
             "startlinecolor": "#2a3f5f"
            },
            "type": "carpet"
           }
          ],
          "choropleth": [
           {
            "colorbar": {
             "outlinewidth": 0,
             "ticks": ""
            },
            "type": "choropleth"
           }
          ],
          "contour": [
           {
            "colorbar": {
             "outlinewidth": 0,
             "ticks": ""
            },
            "colorscale": [
             [
              0,
              "#0d0887"
             ],
             [
              0.1111111111111111,
              "#46039f"
             ],
             [
              0.2222222222222222,
              "#7201a8"
             ],
             [
              0.3333333333333333,
              "#9c179e"
             ],
             [
              0.4444444444444444,
              "#bd3786"
             ],
             [
              0.5555555555555556,
              "#d8576b"
             ],
             [
              0.6666666666666666,
              "#ed7953"
             ],
             [
              0.7777777777777778,
              "#fb9f3a"
             ],
             [
              0.8888888888888888,
              "#fdca26"
             ],
             [
              1,
              "#f0f921"
             ]
            ],
            "type": "contour"
           }
          ],
          "contourcarpet": [
           {
            "colorbar": {
             "outlinewidth": 0,
             "ticks": ""
            },
            "type": "contourcarpet"
           }
          ],
          "heatmap": [
           {
            "colorbar": {
             "outlinewidth": 0,
             "ticks": ""
            },
            "colorscale": [
             [
              0,
              "#0d0887"
             ],
             [
              0.1111111111111111,
              "#46039f"
             ],
             [
              0.2222222222222222,
              "#7201a8"
             ],
             [
              0.3333333333333333,
              "#9c179e"
             ],
             [
              0.4444444444444444,
              "#bd3786"
             ],
             [
              0.5555555555555556,
              "#d8576b"
             ],
             [
              0.6666666666666666,
              "#ed7953"
             ],
             [
              0.7777777777777778,
              "#fb9f3a"
             ],
             [
              0.8888888888888888,
              "#fdca26"
             ],
             [
              1,
              "#f0f921"
             ]
            ],
            "type": "heatmap"
           }
          ],
          "heatmapgl": [
           {
            "colorbar": {
             "outlinewidth": 0,
             "ticks": ""
            },
            "colorscale": [
             [
              0,
              "#0d0887"
             ],
             [
              0.1111111111111111,
              "#46039f"
             ],
             [
              0.2222222222222222,
              "#7201a8"
             ],
             [
              0.3333333333333333,
              "#9c179e"
             ],
             [
              0.4444444444444444,
              "#bd3786"
             ],
             [
              0.5555555555555556,
              "#d8576b"
             ],
             [
              0.6666666666666666,
              "#ed7953"
             ],
             [
              0.7777777777777778,
              "#fb9f3a"
             ],
             [
              0.8888888888888888,
              "#fdca26"
             ],
             [
              1,
              "#f0f921"
             ]
            ],
            "type": "heatmapgl"
           }
          ],
          "histogram": [
           {
            "marker": {
             "pattern": {
              "fillmode": "overlay",
              "size": 10,
              "solidity": 0.2
             }
            },
            "type": "histogram"
           }
          ],
          "histogram2d": [
           {
            "colorbar": {
             "outlinewidth": 0,
             "ticks": ""
            },
            "colorscale": [
             [
              0,
              "#0d0887"
             ],
             [
              0.1111111111111111,
              "#46039f"
             ],
             [
              0.2222222222222222,
              "#7201a8"
             ],
             [
              0.3333333333333333,
              "#9c179e"
             ],
             [
              0.4444444444444444,
              "#bd3786"
             ],
             [
              0.5555555555555556,
              "#d8576b"
             ],
             [
              0.6666666666666666,
              "#ed7953"
             ],
             [
              0.7777777777777778,
              "#fb9f3a"
             ],
             [
              0.8888888888888888,
              "#fdca26"
             ],
             [
              1,
              "#f0f921"
             ]
            ],
            "type": "histogram2d"
           }
          ],
          "histogram2dcontour": [
           {
            "colorbar": {
             "outlinewidth": 0,
             "ticks": ""
            },
            "colorscale": [
             [
              0,
              "#0d0887"
             ],
             [
              0.1111111111111111,
              "#46039f"
             ],
             [
              0.2222222222222222,
              "#7201a8"
             ],
             [
              0.3333333333333333,
              "#9c179e"
             ],
             [
              0.4444444444444444,
              "#bd3786"
             ],
             [
              0.5555555555555556,
              "#d8576b"
             ],
             [
              0.6666666666666666,
              "#ed7953"
             ],
             [
              0.7777777777777778,
              "#fb9f3a"
             ],
             [
              0.8888888888888888,
              "#fdca26"
             ],
             [
              1,
              "#f0f921"
             ]
            ],
            "type": "histogram2dcontour"
           }
          ],
          "mesh3d": [
           {
            "colorbar": {
             "outlinewidth": 0,
             "ticks": ""
            },
            "type": "mesh3d"
           }
          ],
          "parcoords": [
           {
            "line": {
             "colorbar": {
              "outlinewidth": 0,
              "ticks": ""
             }
            },
            "type": "parcoords"
           }
          ],
          "pie": [
           {
            "automargin": true,
            "type": "pie"
           }
          ],
          "scatter": [
           {
            "fillpattern": {
             "fillmode": "overlay",
             "size": 10,
             "solidity": 0.2
            },
            "type": "scatter"
           }
          ],
          "scatter3d": [
           {
            "line": {
             "colorbar": {
              "outlinewidth": 0,
              "ticks": ""
             }
            },
            "marker": {
             "colorbar": {
              "outlinewidth": 0,
              "ticks": ""
             }
            },
            "type": "scatter3d"
           }
          ],
          "scattercarpet": [
           {
            "marker": {
             "colorbar": {
              "outlinewidth": 0,
              "ticks": ""
             }
            },
            "type": "scattercarpet"
           }
          ],
          "scattergeo": [
           {
            "marker": {
             "colorbar": {
              "outlinewidth": 0,
              "ticks": ""
             }
            },
            "type": "scattergeo"
           }
          ],
          "scattergl": [
           {
            "marker": {
             "colorbar": {
              "outlinewidth": 0,
              "ticks": ""
             }
            },
            "type": "scattergl"
           }
          ],
          "scattermapbox": [
           {
            "marker": {
             "colorbar": {
              "outlinewidth": 0,
              "ticks": ""
             }
            },
            "type": "scattermapbox"
           }
          ],
          "scatterpolar": [
           {
            "marker": {
             "colorbar": {
              "outlinewidth": 0,
              "ticks": ""
             }
            },
            "type": "scatterpolar"
           }
          ],
          "scatterpolargl": [
           {
            "marker": {
             "colorbar": {
              "outlinewidth": 0,
              "ticks": ""
             }
            },
            "type": "scatterpolargl"
           }
          ],
          "scatterternary": [
           {
            "marker": {
             "colorbar": {
              "outlinewidth": 0,
              "ticks": ""
             }
            },
            "type": "scatterternary"
           }
          ],
          "surface": [
           {
            "colorbar": {
             "outlinewidth": 0,
             "ticks": ""
            },
            "colorscale": [
             [
              0,
              "#0d0887"
             ],
             [
              0.1111111111111111,
              "#46039f"
             ],
             [
              0.2222222222222222,
              "#7201a8"
             ],
             [
              0.3333333333333333,
              "#9c179e"
             ],
             [
              0.4444444444444444,
              "#bd3786"
             ],
             [
              0.5555555555555556,
              "#d8576b"
             ],
             [
              0.6666666666666666,
              "#ed7953"
             ],
             [
              0.7777777777777778,
              "#fb9f3a"
             ],
             [
              0.8888888888888888,
              "#fdca26"
             ],
             [
              1,
              "#f0f921"
             ]
            ],
            "type": "surface"
           }
          ],
          "table": [
           {
            "cells": {
             "fill": {
              "color": "#EBF0F8"
             },
             "line": {
              "color": "white"
             }
            },
            "header": {
             "fill": {
              "color": "#C8D4E3"
             },
             "line": {
              "color": "white"
             }
            },
            "type": "table"
           }
          ]
         },
         "layout": {
          "annotationdefaults": {
           "arrowcolor": "#2a3f5f",
           "arrowhead": 0,
           "arrowwidth": 1
          },
          "autotypenumbers": "strict",
          "coloraxis": {
           "colorbar": {
            "outlinewidth": 0,
            "ticks": ""
           }
          },
          "colorscale": {
           "diverging": [
            [
             0,
             "#8e0152"
            ],
            [
             0.1,
             "#c51b7d"
            ],
            [
             0.2,
             "#de77ae"
            ],
            [
             0.3,
             "#f1b6da"
            ],
            [
             0.4,
             "#fde0ef"
            ],
            [
             0.5,
             "#f7f7f7"
            ],
            [
             0.6,
             "#e6f5d0"
            ],
            [
             0.7,
             "#b8e186"
            ],
            [
             0.8,
             "#7fbc41"
            ],
            [
             0.9,
             "#4d9221"
            ],
            [
             1,
             "#276419"
            ]
           ],
           "sequential": [
            [
             0,
             "#0d0887"
            ],
            [
             0.1111111111111111,
             "#46039f"
            ],
            [
             0.2222222222222222,
             "#7201a8"
            ],
            [
             0.3333333333333333,
             "#9c179e"
            ],
            [
             0.4444444444444444,
             "#bd3786"
            ],
            [
             0.5555555555555556,
             "#d8576b"
            ],
            [
             0.6666666666666666,
             "#ed7953"
            ],
            [
             0.7777777777777778,
             "#fb9f3a"
            ],
            [
             0.8888888888888888,
             "#fdca26"
            ],
            [
             1,
             "#f0f921"
            ]
           ],
           "sequentialminus": [
            [
             0,
             "#0d0887"
            ],
            [
             0.1111111111111111,
             "#46039f"
            ],
            [
             0.2222222222222222,
             "#7201a8"
            ],
            [
             0.3333333333333333,
             "#9c179e"
            ],
            [
             0.4444444444444444,
             "#bd3786"
            ],
            [
             0.5555555555555556,
             "#d8576b"
            ],
            [
             0.6666666666666666,
             "#ed7953"
            ],
            [
             0.7777777777777778,
             "#fb9f3a"
            ],
            [
             0.8888888888888888,
             "#fdca26"
            ],
            [
             1,
             "#f0f921"
            ]
           ]
          },
          "colorway": [
           "#636efa",
           "#EF553B",
           "#00cc96",
           "#ab63fa",
           "#FFA15A",
           "#19d3f3",
           "#FF6692",
           "#B6E880",
           "#FF97FF",
           "#FECB52"
          ],
          "font": {
           "color": "#2a3f5f"
          },
          "geo": {
           "bgcolor": "white",
           "lakecolor": "white",
           "landcolor": "#E5ECF6",
           "showlakes": true,
           "showland": true,
           "subunitcolor": "white"
          },
          "hoverlabel": {
           "align": "left"
          },
          "hovermode": "closest",
          "mapbox": {
           "style": "light"
          },
          "paper_bgcolor": "white",
          "plot_bgcolor": "#E5ECF6",
          "polar": {
           "angularaxis": {
            "gridcolor": "white",
            "linecolor": "white",
            "ticks": ""
           },
           "bgcolor": "#E5ECF6",
           "radialaxis": {
            "gridcolor": "white",
            "linecolor": "white",
            "ticks": ""
           }
          },
          "scene": {
           "xaxis": {
            "backgroundcolor": "#E5ECF6",
            "gridcolor": "white",
            "gridwidth": 2,
            "linecolor": "white",
            "showbackground": true,
            "ticks": "",
            "zerolinecolor": "white"
           },
           "yaxis": {
            "backgroundcolor": "#E5ECF6",
            "gridcolor": "white",
            "gridwidth": 2,
            "linecolor": "white",
            "showbackground": true,
            "ticks": "",
            "zerolinecolor": "white"
           },
           "zaxis": {
            "backgroundcolor": "#E5ECF6",
            "gridcolor": "white",
            "gridwidth": 2,
            "linecolor": "white",
            "showbackground": true,
            "ticks": "",
            "zerolinecolor": "white"
           }
          },
          "shapedefaults": {
           "line": {
            "color": "#2a3f5f"
           }
          },
          "ternary": {
           "aaxis": {
            "gridcolor": "white",
            "linecolor": "white",
            "ticks": ""
           },
           "baxis": {
            "gridcolor": "white",
            "linecolor": "white",
            "ticks": ""
           },
           "bgcolor": "#E5ECF6",
           "caxis": {
            "gridcolor": "white",
            "linecolor": "white",
            "ticks": ""
           }
          },
          "title": {
           "x": 0.05
          },
          "xaxis": {
           "automargin": true,
           "gridcolor": "white",
           "linecolor": "white",
           "ticks": "",
           "title": {
            "standoff": 15
           },
           "zerolinecolor": "white",
           "zerolinewidth": 2
          },
          "yaxis": {
           "automargin": true,
           "gridcolor": "white",
           "linecolor": "white",
           "ticks": "",
           "title": {
            "standoff": 15
           },
           "zerolinecolor": "white",
           "zerolinewidth": 2
          }
         }
        }
       }
      }
     },
     "metadata": {},
     "output_type": "display_data"
    }
   ],
   "source": [
    "X = transcriptomics.T.to_numpy(dtype=float)\n",
    "\n",
    "# PCA of the 3 most important components\n",
    "pca = PCA(n_components=3)\n",
    "pca_output = pca.fit_transform(X)\n",
    "pca_output_df = pd.DataFrame(pca_output, columns=['PCA1', 'PCA2', 'PCA3'])\n",
    "pca_output_df[\"groups\"] = dict_sample.values()\n",
    "\n",
    "fig = px.scatter_3d(pca_output_df, x='PCA1', y='PCA2', z='PCA3', color=\"groups\")\n",
    "fig.show()"
   ]
  },
  {
   "cell_type": "markdown",
   "metadata": {},
   "source": [
    "g)"
   ]
  },
  {
   "cell_type": "code",
   "execution_count": 68,
   "metadata": {},
   "outputs": [
    {
     "data": {
      "text/html": [
       "<div>\n",
       "<style scoped>\n",
       "    .dataframe tbody tr th:only-of-type {\n",
       "        vertical-align: middle;\n",
       "    }\n",
       "\n",
       "    .dataframe tbody tr th {\n",
       "        vertical-align: top;\n",
       "    }\n",
       "\n",
       "    .dataframe thead th {\n",
       "        text-align: right;\n",
       "    }\n",
       "</style>\n",
       "<table border=\"1\" class=\"dataframe\">\n",
       "  <thead>\n",
       "    <tr style=\"text-align: right;\">\n",
       "      <th></th>\n",
       "      <th>Sample_1_preadi</th>\n",
       "      <th>Sample_2_preadi</th>\n",
       "      <th>Sample_3_preadi</th>\n",
       "      <th>Sample_4_preadi</th>\n",
       "      <th>Sample_5_preadi</th>\n",
       "      <th>Sample_6_preadi</th>\n",
       "      <th>Sample_7_preadi</th>\n",
       "      <th>Sample_8_preadi</th>\n",
       "      <th>Sample_9_preadi</th>\n",
       "      <th>Sample_10_preadi</th>\n",
       "      <th>...</th>\n",
       "      <th>Sample_71_adipo</th>\n",
       "      <th>Sample_72_adipo</th>\n",
       "      <th>Sample_73_adipo</th>\n",
       "      <th>Sample_74_adipo</th>\n",
       "      <th>Sample_75_adipo</th>\n",
       "      <th>Sample_76_adipo</th>\n",
       "      <th>Sample_77_adipo</th>\n",
       "      <th>Sample_78_adipo</th>\n",
       "      <th>Sample_79_adipo</th>\n",
       "      <th>Sample_80_adipo</th>\n",
       "    </tr>\n",
       "    <tr>\n",
       "      <th>Gene_ID</th>\n",
       "      <th></th>\n",
       "      <th></th>\n",
       "      <th></th>\n",
       "      <th></th>\n",
       "      <th></th>\n",
       "      <th></th>\n",
       "      <th></th>\n",
       "      <th></th>\n",
       "      <th></th>\n",
       "      <th></th>\n",
       "      <th></th>\n",
       "      <th></th>\n",
       "      <th></th>\n",
       "      <th></th>\n",
       "      <th></th>\n",
       "      <th></th>\n",
       "      <th></th>\n",
       "      <th></th>\n",
       "      <th></th>\n",
       "      <th></th>\n",
       "      <th></th>\n",
       "    </tr>\n",
       "  </thead>\n",
       "  <tbody>\n",
       "    <tr>\n",
       "      <th>ENSG00000000003</th>\n",
       "      <td>4.247928</td>\n",
       "      <td>3.700440</td>\n",
       "      <td>3.321928</td>\n",
       "      <td>4.392317</td>\n",
       "      <td>3.321928</td>\n",
       "      <td>3.807355</td>\n",
       "      <td>4.392317</td>\n",
       "      <td>3.169925</td>\n",
       "      <td>2.321928</td>\n",
       "      <td>3.0</td>\n",
       "      <td>...</td>\n",
       "      <td>3.321928</td>\n",
       "      <td>3.321928</td>\n",
       "      <td>4.954196</td>\n",
       "      <td>3.321928</td>\n",
       "      <td>4.584963</td>\n",
       "      <td>4.087463</td>\n",
       "      <td>2.000000</td>\n",
       "      <td>3.906891</td>\n",
       "      <td>3.584963</td>\n",
       "      <td>4.087463</td>\n",
       "    </tr>\n",
       "    <tr>\n",
       "      <th>ENSG00000000005</th>\n",
       "      <td>0.000000</td>\n",
       "      <td>0.000000</td>\n",
       "      <td>0.000000</td>\n",
       "      <td>1.584963</td>\n",
       "      <td>0.000000</td>\n",
       "      <td>0.000000</td>\n",
       "      <td>0.000000</td>\n",
       "      <td>0.000000</td>\n",
       "      <td>0.000000</td>\n",
       "      <td>0.0</td>\n",
       "      <td>...</td>\n",
       "      <td>0.000000</td>\n",
       "      <td>1.000000</td>\n",
       "      <td>4.906891</td>\n",
       "      <td>1.584963</td>\n",
       "      <td>4.523562</td>\n",
       "      <td>2.000000</td>\n",
       "      <td>0.000000</td>\n",
       "      <td>1.584963</td>\n",
       "      <td>0.000000</td>\n",
       "      <td>2.584963</td>\n",
       "    </tr>\n",
       "    <tr>\n",
       "      <th>ENSG00000000419</th>\n",
       "      <td>3.459432</td>\n",
       "      <td>3.321928</td>\n",
       "      <td>3.321928</td>\n",
       "      <td>3.169925</td>\n",
       "      <td>3.459432</td>\n",
       "      <td>3.459432</td>\n",
       "      <td>2.807355</td>\n",
       "      <td>5.169925</td>\n",
       "      <td>3.807355</td>\n",
       "      <td>4.0</td>\n",
       "      <td>...</td>\n",
       "      <td>2.000000</td>\n",
       "      <td>3.321928</td>\n",
       "      <td>3.321928</td>\n",
       "      <td>4.000000</td>\n",
       "      <td>3.169925</td>\n",
       "      <td>3.321928</td>\n",
       "      <td>3.321928</td>\n",
       "      <td>2.321928</td>\n",
       "      <td>4.087463</td>\n",
       "      <td>2.584963</td>\n",
       "    </tr>\n",
       "    <tr>\n",
       "      <th>ENSG00000000457</th>\n",
       "      <td>0.000000</td>\n",
       "      <td>3.584963</td>\n",
       "      <td>0.000000</td>\n",
       "      <td>2.807355</td>\n",
       "      <td>1.584963</td>\n",
       "      <td>3.700440</td>\n",
       "      <td>3.584963</td>\n",
       "      <td>1.000000</td>\n",
       "      <td>1.584963</td>\n",
       "      <td>0.0</td>\n",
       "      <td>...</td>\n",
       "      <td>3.321928</td>\n",
       "      <td>3.169925</td>\n",
       "      <td>3.169925</td>\n",
       "      <td>2.584963</td>\n",
       "      <td>2.807355</td>\n",
       "      <td>0.000000</td>\n",
       "      <td>3.700440</td>\n",
       "      <td>3.807355</td>\n",
       "      <td>2.321928</td>\n",
       "      <td>3.584963</td>\n",
       "    </tr>\n",
       "    <tr>\n",
       "      <th>ENSG00000000460</th>\n",
       "      <td>0.000000</td>\n",
       "      <td>0.000000</td>\n",
       "      <td>3.906891</td>\n",
       "      <td>2.321928</td>\n",
       "      <td>2.584963</td>\n",
       "      <td>0.000000</td>\n",
       "      <td>0.000000</td>\n",
       "      <td>2.807355</td>\n",
       "      <td>2.321928</td>\n",
       "      <td>0.0</td>\n",
       "      <td>...</td>\n",
       "      <td>0.000000</td>\n",
       "      <td>0.000000</td>\n",
       "      <td>2.000000</td>\n",
       "      <td>0.000000</td>\n",
       "      <td>1.000000</td>\n",
       "      <td>0.000000</td>\n",
       "      <td>1.000000</td>\n",
       "      <td>2.321928</td>\n",
       "      <td>0.000000</td>\n",
       "      <td>3.459432</td>\n",
       "    </tr>\n",
       "    <tr>\n",
       "      <th>...</th>\n",
       "      <td>...</td>\n",
       "      <td>...</td>\n",
       "      <td>...</td>\n",
       "      <td>...</td>\n",
       "      <td>...</td>\n",
       "      <td>...</td>\n",
       "      <td>...</td>\n",
       "      <td>...</td>\n",
       "      <td>...</td>\n",
       "      <td>...</td>\n",
       "      <td>...</td>\n",
       "      <td>...</td>\n",
       "      <td>...</td>\n",
       "      <td>...</td>\n",
       "      <td>...</td>\n",
       "      <td>...</td>\n",
       "      <td>...</td>\n",
       "      <td>...</td>\n",
       "      <td>...</td>\n",
       "      <td>...</td>\n",
       "      <td>...</td>\n",
       "    </tr>\n",
       "    <tr>\n",
       "      <th>ENSG00000273485</th>\n",
       "      <td>0.000000</td>\n",
       "      <td>0.000000</td>\n",
       "      <td>0.000000</td>\n",
       "      <td>1.000000</td>\n",
       "      <td>0.000000</td>\n",
       "      <td>2.584963</td>\n",
       "      <td>0.000000</td>\n",
       "      <td>0.000000</td>\n",
       "      <td>0.000000</td>\n",
       "      <td>0.0</td>\n",
       "      <td>...</td>\n",
       "      <td>0.000000</td>\n",
       "      <td>0.000000</td>\n",
       "      <td>0.000000</td>\n",
       "      <td>0.000000</td>\n",
       "      <td>0.000000</td>\n",
       "      <td>3.700440</td>\n",
       "      <td>0.000000</td>\n",
       "      <td>0.000000</td>\n",
       "      <td>0.000000</td>\n",
       "      <td>0.000000</td>\n",
       "    </tr>\n",
       "    <tr>\n",
       "      <th>ENSG00000273486</th>\n",
       "      <td>0.000000</td>\n",
       "      <td>0.000000</td>\n",
       "      <td>0.000000</td>\n",
       "      <td>0.000000</td>\n",
       "      <td>1.000000</td>\n",
       "      <td>0.000000</td>\n",
       "      <td>0.000000</td>\n",
       "      <td>0.000000</td>\n",
       "      <td>0.000000</td>\n",
       "      <td>0.0</td>\n",
       "      <td>...</td>\n",
       "      <td>0.000000</td>\n",
       "      <td>1.584963</td>\n",
       "      <td>0.000000</td>\n",
       "      <td>2.000000</td>\n",
       "      <td>0.000000</td>\n",
       "      <td>1.584963</td>\n",
       "      <td>2.584963</td>\n",
       "      <td>1.000000</td>\n",
       "      <td>0.000000</td>\n",
       "      <td>0.000000</td>\n",
       "    </tr>\n",
       "    <tr>\n",
       "      <th>ENSG00000273487</th>\n",
       "      <td>0.000000</td>\n",
       "      <td>0.000000</td>\n",
       "      <td>0.000000</td>\n",
       "      <td>0.000000</td>\n",
       "      <td>0.000000</td>\n",
       "      <td>0.000000</td>\n",
       "      <td>0.000000</td>\n",
       "      <td>0.000000</td>\n",
       "      <td>0.000000</td>\n",
       "      <td>0.0</td>\n",
       "      <td>...</td>\n",
       "      <td>0.000000</td>\n",
       "      <td>0.000000</td>\n",
       "      <td>0.000000</td>\n",
       "      <td>0.000000</td>\n",
       "      <td>0.000000</td>\n",
       "      <td>0.000000</td>\n",
       "      <td>0.000000</td>\n",
       "      <td>0.000000</td>\n",
       "      <td>0.000000</td>\n",
       "      <td>0.000000</td>\n",
       "    </tr>\n",
       "    <tr>\n",
       "      <th>ENSG00000273489</th>\n",
       "      <td>0.000000</td>\n",
       "      <td>0.000000</td>\n",
       "      <td>0.000000</td>\n",
       "      <td>1.584963</td>\n",
       "      <td>0.000000</td>\n",
       "      <td>1.000000</td>\n",
       "      <td>3.169925</td>\n",
       "      <td>0.000000</td>\n",
       "      <td>0.000000</td>\n",
       "      <td>0.0</td>\n",
       "      <td>...</td>\n",
       "      <td>0.000000</td>\n",
       "      <td>0.000000</td>\n",
       "      <td>0.000000</td>\n",
       "      <td>0.000000</td>\n",
       "      <td>0.000000</td>\n",
       "      <td>0.000000</td>\n",
       "      <td>0.000000</td>\n",
       "      <td>0.000000</td>\n",
       "      <td>0.000000</td>\n",
       "      <td>0.000000</td>\n",
       "    </tr>\n",
       "    <tr>\n",
       "      <th>ENSG00000273493</th>\n",
       "      <td>0.000000</td>\n",
       "      <td>0.000000</td>\n",
       "      <td>0.000000</td>\n",
       "      <td>0.000000</td>\n",
       "      <td>0.000000</td>\n",
       "      <td>0.000000</td>\n",
       "      <td>0.000000</td>\n",
       "      <td>0.000000</td>\n",
       "      <td>1.000000</td>\n",
       "      <td>0.0</td>\n",
       "      <td>...</td>\n",
       "      <td>0.000000</td>\n",
       "      <td>0.000000</td>\n",
       "      <td>0.000000</td>\n",
       "      <td>0.000000</td>\n",
       "      <td>0.000000</td>\n",
       "      <td>0.000000</td>\n",
       "      <td>0.000000</td>\n",
       "      <td>0.000000</td>\n",
       "      <td>2.000000</td>\n",
       "      <td>0.000000</td>\n",
       "    </tr>\n",
       "  </tbody>\n",
       "</table>\n",
       "<p>30238 rows × 80 columns</p>\n",
       "</div>"
      ],
      "text/plain": [
       "                 Sample_1_preadi  Sample_2_preadi  Sample_3_preadi  \\\n",
       "Gene_ID                                                              \n",
       "ENSG00000000003         4.247928         3.700440         3.321928   \n",
       "ENSG00000000005         0.000000         0.000000         0.000000   \n",
       "ENSG00000000419         3.459432         3.321928         3.321928   \n",
       "ENSG00000000457         0.000000         3.584963         0.000000   \n",
       "ENSG00000000460         0.000000         0.000000         3.906891   \n",
       "...                          ...              ...              ...   \n",
       "ENSG00000273485         0.000000         0.000000         0.000000   \n",
       "ENSG00000273486         0.000000         0.000000         0.000000   \n",
       "ENSG00000273487         0.000000         0.000000         0.000000   \n",
       "ENSG00000273489         0.000000         0.000000         0.000000   \n",
       "ENSG00000273493         0.000000         0.000000         0.000000   \n",
       "\n",
       "                 Sample_4_preadi  Sample_5_preadi  Sample_6_preadi  \\\n",
       "Gene_ID                                                              \n",
       "ENSG00000000003         4.392317         3.321928         3.807355   \n",
       "ENSG00000000005         1.584963         0.000000         0.000000   \n",
       "ENSG00000000419         3.169925         3.459432         3.459432   \n",
       "ENSG00000000457         2.807355         1.584963         3.700440   \n",
       "ENSG00000000460         2.321928         2.584963         0.000000   \n",
       "...                          ...              ...              ...   \n",
       "ENSG00000273485         1.000000         0.000000         2.584963   \n",
       "ENSG00000273486         0.000000         1.000000         0.000000   \n",
       "ENSG00000273487         0.000000         0.000000         0.000000   \n",
       "ENSG00000273489         1.584963         0.000000         1.000000   \n",
       "ENSG00000273493         0.000000         0.000000         0.000000   \n",
       "\n",
       "                 Sample_7_preadi  Sample_8_preadi  Sample_9_preadi  \\\n",
       "Gene_ID                                                              \n",
       "ENSG00000000003         4.392317         3.169925         2.321928   \n",
       "ENSG00000000005         0.000000         0.000000         0.000000   \n",
       "ENSG00000000419         2.807355         5.169925         3.807355   \n",
       "ENSG00000000457         3.584963         1.000000         1.584963   \n",
       "ENSG00000000460         0.000000         2.807355         2.321928   \n",
       "...                          ...              ...              ...   \n",
       "ENSG00000273485         0.000000         0.000000         0.000000   \n",
       "ENSG00000273486         0.000000         0.000000         0.000000   \n",
       "ENSG00000273487         0.000000         0.000000         0.000000   \n",
       "ENSG00000273489         3.169925         0.000000         0.000000   \n",
       "ENSG00000273493         0.000000         0.000000         1.000000   \n",
       "\n",
       "                 Sample_10_preadi  ...  Sample_71_adipo  Sample_72_adipo  \\\n",
       "Gene_ID                            ...                                     \n",
       "ENSG00000000003               3.0  ...         3.321928         3.321928   \n",
       "ENSG00000000005               0.0  ...         0.000000         1.000000   \n",
       "ENSG00000000419               4.0  ...         2.000000         3.321928   \n",
       "ENSG00000000457               0.0  ...         3.321928         3.169925   \n",
       "ENSG00000000460               0.0  ...         0.000000         0.000000   \n",
       "...                           ...  ...              ...              ...   \n",
       "ENSG00000273485               0.0  ...         0.000000         0.000000   \n",
       "ENSG00000273486               0.0  ...         0.000000         1.584963   \n",
       "ENSG00000273487               0.0  ...         0.000000         0.000000   \n",
       "ENSG00000273489               0.0  ...         0.000000         0.000000   \n",
       "ENSG00000273493               0.0  ...         0.000000         0.000000   \n",
       "\n",
       "                 Sample_73_adipo  Sample_74_adipo  Sample_75_adipo  \\\n",
       "Gene_ID                                                              \n",
       "ENSG00000000003         4.954196         3.321928         4.584963   \n",
       "ENSG00000000005         4.906891         1.584963         4.523562   \n",
       "ENSG00000000419         3.321928         4.000000         3.169925   \n",
       "ENSG00000000457         3.169925         2.584963         2.807355   \n",
       "ENSG00000000460         2.000000         0.000000         1.000000   \n",
       "...                          ...              ...              ...   \n",
       "ENSG00000273485         0.000000         0.000000         0.000000   \n",
       "ENSG00000273486         0.000000         2.000000         0.000000   \n",
       "ENSG00000273487         0.000000         0.000000         0.000000   \n",
       "ENSG00000273489         0.000000         0.000000         0.000000   \n",
       "ENSG00000273493         0.000000         0.000000         0.000000   \n",
       "\n",
       "                 Sample_76_adipo  Sample_77_adipo  Sample_78_adipo  \\\n",
       "Gene_ID                                                              \n",
       "ENSG00000000003         4.087463         2.000000         3.906891   \n",
       "ENSG00000000005         2.000000         0.000000         1.584963   \n",
       "ENSG00000000419         3.321928         3.321928         2.321928   \n",
       "ENSG00000000457         0.000000         3.700440         3.807355   \n",
       "ENSG00000000460         0.000000         1.000000         2.321928   \n",
       "...                          ...              ...              ...   \n",
       "ENSG00000273485         3.700440         0.000000         0.000000   \n",
       "ENSG00000273486         1.584963         2.584963         1.000000   \n",
       "ENSG00000273487         0.000000         0.000000         0.000000   \n",
       "ENSG00000273489         0.000000         0.000000         0.000000   \n",
       "ENSG00000273493         0.000000         0.000000         0.000000   \n",
       "\n",
       "                 Sample_79_adipo  Sample_80_adipo  \n",
       "Gene_ID                                            \n",
       "ENSG00000000003         3.584963         4.087463  \n",
       "ENSG00000000005         0.000000         2.584963  \n",
       "ENSG00000000419         4.087463         2.584963  \n",
       "ENSG00000000457         2.321928         3.584963  \n",
       "ENSG00000000460         0.000000         3.459432  \n",
       "...                          ...              ...  \n",
       "ENSG00000273485         0.000000         0.000000  \n",
       "ENSG00000273486         0.000000         0.000000  \n",
       "ENSG00000273487         0.000000         0.000000  \n",
       "ENSG00000273489         0.000000         0.000000  \n",
       "ENSG00000273493         2.000000         0.000000  \n",
       "\n",
       "[30238 rows x 80 columns]"
      ]
     },
     "execution_count": 68,
     "metadata": {},
     "output_type": "execute_result"
    }
   ],
   "source": [
    "transcriptomics_transf = np.log2(1+transcriptomics)\n",
    "transcriptomics_transf"
   ]
  },
  {
   "cell_type": "markdown",
   "metadata": {},
   "source": [
    "h)"
   ]
  },
  {
   "cell_type": "code",
   "execution_count": 69,
   "metadata": {},
   "outputs": [
    {
     "data": {
      "application/vnd.plotly.v1+json": {
       "config": {
        "plotlyServerURL": "https://plot.ly"
       },
       "data": [
        {
         "hovertemplate": "groups=PreAdipo<br>PCA1=%{x}<br>PCA2=%{y}<br>PCA3=%{z}<extra></extra>",
         "legendgroup": "PreAdipo",
         "marker": {
          "color": "#636efa",
          "symbol": "circle"
         },
         "mode": "markers",
         "name": "PreAdipo",
         "scene": "scene",
         "showlegend": true,
         "type": "scatter3d",
         "x": [
          -42.82632443039939,
          -46.51879773005687,
          -63.707132927321176,
          -57.72623231489788,
          -49.39736858864484,
          -46.01465968794789,
          -37.49404680981293,
          -62.76879497481945,
          -55.1150833729863,
          -33.801194278405596,
          -37.03894117887511,
          -52.19877644465299,
          -37.74836093453437,
          -52.289640850316395,
          -68.8359569941331,
          -57.388180443452256,
          -45.85388342787312,
          -32.647556832001214,
          -53.59603195658021,
          -62.96668778590134,
          -44.641315902431224,
          -55.13605189873508,
          -63.99643798420808,
          -48.40873604000834,
          -47.62128506990571,
          -54.905111205100546,
          -66.12820019731032,
          -34.14512930932223,
          -54.24059321772614,
          -31.136330662344943,
          -36.38603604929582,
          -25.49908264016517,
          -41.465744561526805,
          -68.49989945879791,
          -37.13315579490759,
          -37.02863677521775,
          -46.109367398468805,
          -47.04360968616837,
          -55.69012461720405,
          -54.32664449333822
         ],
         "y": [
          58.87048570511475,
          -5.596083199191798,
          -33.9290571531031,
          -67.49080013722914,
          -52.32409844756032,
          -19.149379718256345,
          41.622491101115145,
          -0.26287175392479034,
          -41.72388220702422,
          77.79840968173733,
          29.101722469270705,
          -5.370314772689149,
          61.54397941298256,
          -14.660498993718303,
          -33.794319752903256,
          -25.116927258239993,
          56.649919888370356,
          84.38575654335328,
          -39.66927689660042,
          -27.329883168847456,
          52.03842697700331,
          -2.418401589637328,
          -49.87720749064056,
          45.890683248187656,
          -13.523256967122803,
          -38.96738120928719,
          -73.26157974242071,
          58.600234681974555,
          39.97473754900573,
          60.93246423631985,
          10.44013395611132,
          12.139351957344298,
          -22.198358743844498,
          -4.349809182904423,
          45.79586839102652,
          49.043124584003664,
          -39.63514939545701,
          14.07573583897169,
          -32.24984126788507,
          9.15727153320164
         ],
         "z": [
          7.172901508782425,
          -14.518418793235378,
          37.00562535701824,
          -11.24415526945736,
          9.416112042187894,
          2.2200361511109032,
          -23.69206294650537,
          32.678383078879456,
          4.916078183843422,
          -12.883725126661144,
          23.520713948577747,
          41.525178062351976,
          -15.204164682367786,
          29.251833691998133,
          29.60991402787743,
          20.021982782621723,
          -6.624106223456768,
          -2.7576227841877996,
          -15.539940273923628,
          17.52626258966829,
          -1.0666661295261841,
          26.361319218685953,
          21.121435418705676,
          -4.860853215588164,
          -45.624079469576074,
          -21.842544942671445,
          14.937295885994516,
          -12.873037936717251,
          16.326127717701958,
          -1.8262380672074596,
          -22.860050277785504,
          -12.112754702660574,
          -18.500442562959936,
          29.05659690226514,
          -38.98898565174813,
          -1.0132689142716602,
          1.6737330350639323,
          -15.276197695959628,
          16.761097991716788,
          -32.892602130614726
         ]
        },
        {
         "hovertemplate": "groups=Adipo<br>PCA1=%{x}<br>PCA2=%{y}<br>PCA3=%{z}<extra></extra>",
         "legendgroup": "Adipo",
         "marker": {
          "color": "#EF553B",
          "symbol": "circle"
         },
         "mode": "markers",
         "name": "Adipo",
         "scene": "scene",
         "showlegend": true,
         "type": "scatter3d",
         "x": [
          57.58690686388306,
          62.470481051722295,
          51.33460695207477,
          46.82214382441103,
          46.829079240732106,
          34.372447438016465,
          51.969767506172296,
          61.29253655862735,
          67.56028569994675,
          61.59980440504282,
          29.624576418253653,
          42.86463768165024,
          38.32359988717425,
          59.14111748325561,
          66.00224687267523,
          63.52249879438384,
          25.166296909857593,
          68.21546333087251,
          50.723009575733265,
          32.391421761206594,
          34.094442656107795,
          26.878452089740954,
          20.40498790871355,
          38.83306700765307,
          67.61201938029427,
          29.71288413054346,
          69.90145941565846,
          48.388506609252474,
          35.7109323355564,
          62.470546044378736,
          31.918643375713597,
          35.72131302018086,
          64.15562013487741,
          55.225000730983574,
          64.13793801476793,
          53.78276920615558,
          69.00835162628545,
          61.583717524623815,
          30.88171133533436,
          27.239854123282672
         ],
         "y": [
          -24.498754970488,
          4.259354875041919,
          48.60881592403542,
          36.81953390250149,
          34.23194806520073,
          48.28974933244759,
          -22.457012113548696,
          -29.18514180901983,
          -32.646128562110384,
          -29.959177797502836,
          -44.71098692167751,
          5.063294967431921,
          33.64983464979916,
          -11.809962208781617,
          53.777385539826696,
          -4.6130421238728765,
          -42.198170763322025,
          22.95007073637638,
          22.070301963725257,
          -15.960907449837686,
          -32.10215543460902,
          17.09296862130281,
          -6.0467426966887174,
          -50.773094110766465,
          -52.20693013222862,
          -5.109230434174842,
          29.414701320813414,
          -21.229704714009365,
          -19.24662443968934,
          17.921937044525865,
          -6.8155498318476955,
          -11.369987020233067,
          34.65816922473677,
          -17.45926019538893,
          15.369832490654556,
          -3.4326262599834196,
          1.0246463362221883,
          -54.186676590522794,
          -23.491742463237077,
          -28.85535465770323
         ],
         "z": [
          -10.670438707249966,
          50.00133668048681,
          57.58659653884975,
          -31.570823865766013,
          -0.7767069079640626,
          2.317483531161009,
          9.46385712595019,
          11.529296027168606,
          28.010945250936338,
          -6.533729043075286,
          -4.82501639179305,
          -17.965220860621447,
          -31.38818327781377,
          6.59253415583104,
          60.37017581700053,
          28.16033503167553,
          -58.0566628955982,
          -6.828217843240424,
          -9.21832639463233,
          -13.907217124539834,
          -22.461714606052755,
          -31.356383896121596,
          -28.055959924209716,
          -10.256946679178403,
          -9.852713301375555,
          -21.392632984666566,
          10.250123636591297,
          0.5034709760429522,
          10.624778226374822,
          17.841085740023956,
          6.6879575584402,
          -6.588145184525695,
          21.148980155391747,
          10.191182270954753,
          20.374679687433115,
          -58.773438652396464,
          43.89860122595768,
          4.274542461625581,
          -43.38725342728489,
          -24.862939927756862
         ]
        }
       ],
       "layout": {
        "legend": {
         "title": {
          "text": "groups"
         },
         "tracegroupgap": 0
        },
        "margin": {
         "t": 60
        },
        "scene": {
         "domain": {
          "x": [
           0,
           1
          ],
          "y": [
           0,
           1
          ]
         },
         "xaxis": {
          "title": {
           "text": "PCA1"
          }
         },
         "yaxis": {
          "title": {
           "text": "PCA2"
          }
         },
         "zaxis": {
          "title": {
           "text": "PCA3"
          }
         }
        },
        "template": {
         "data": {
          "bar": [
           {
            "error_x": {
             "color": "#2a3f5f"
            },
            "error_y": {
             "color": "#2a3f5f"
            },
            "marker": {
             "line": {
              "color": "#E5ECF6",
              "width": 0.5
             },
             "pattern": {
              "fillmode": "overlay",
              "size": 10,
              "solidity": 0.2
             }
            },
            "type": "bar"
           }
          ],
          "barpolar": [
           {
            "marker": {
             "line": {
              "color": "#E5ECF6",
              "width": 0.5
             },
             "pattern": {
              "fillmode": "overlay",
              "size": 10,
              "solidity": 0.2
             }
            },
            "type": "barpolar"
           }
          ],
          "carpet": [
           {
            "aaxis": {
             "endlinecolor": "#2a3f5f",
             "gridcolor": "white",
             "linecolor": "white",
             "minorgridcolor": "white",
             "startlinecolor": "#2a3f5f"
            },
            "baxis": {
             "endlinecolor": "#2a3f5f",
             "gridcolor": "white",
             "linecolor": "white",
             "minorgridcolor": "white",
             "startlinecolor": "#2a3f5f"
            },
            "type": "carpet"
           }
          ],
          "choropleth": [
           {
            "colorbar": {
             "outlinewidth": 0,
             "ticks": ""
            },
            "type": "choropleth"
           }
          ],
          "contour": [
           {
            "colorbar": {
             "outlinewidth": 0,
             "ticks": ""
            },
            "colorscale": [
             [
              0,
              "#0d0887"
             ],
             [
              0.1111111111111111,
              "#46039f"
             ],
             [
              0.2222222222222222,
              "#7201a8"
             ],
             [
              0.3333333333333333,
              "#9c179e"
             ],
             [
              0.4444444444444444,
              "#bd3786"
             ],
             [
              0.5555555555555556,
              "#d8576b"
             ],
             [
              0.6666666666666666,
              "#ed7953"
             ],
             [
              0.7777777777777778,
              "#fb9f3a"
             ],
             [
              0.8888888888888888,
              "#fdca26"
             ],
             [
              1,
              "#f0f921"
             ]
            ],
            "type": "contour"
           }
          ],
          "contourcarpet": [
           {
            "colorbar": {
             "outlinewidth": 0,
             "ticks": ""
            },
            "type": "contourcarpet"
           }
          ],
          "heatmap": [
           {
            "colorbar": {
             "outlinewidth": 0,
             "ticks": ""
            },
            "colorscale": [
             [
              0,
              "#0d0887"
             ],
             [
              0.1111111111111111,
              "#46039f"
             ],
             [
              0.2222222222222222,
              "#7201a8"
             ],
             [
              0.3333333333333333,
              "#9c179e"
             ],
             [
              0.4444444444444444,
              "#bd3786"
             ],
             [
              0.5555555555555556,
              "#d8576b"
             ],
             [
              0.6666666666666666,
              "#ed7953"
             ],
             [
              0.7777777777777778,
              "#fb9f3a"
             ],
             [
              0.8888888888888888,
              "#fdca26"
             ],
             [
              1,
              "#f0f921"
             ]
            ],
            "type": "heatmap"
           }
          ],
          "heatmapgl": [
           {
            "colorbar": {
             "outlinewidth": 0,
             "ticks": ""
            },
            "colorscale": [
             [
              0,
              "#0d0887"
             ],
             [
              0.1111111111111111,
              "#46039f"
             ],
             [
              0.2222222222222222,
              "#7201a8"
             ],
             [
              0.3333333333333333,
              "#9c179e"
             ],
             [
              0.4444444444444444,
              "#bd3786"
             ],
             [
              0.5555555555555556,
              "#d8576b"
             ],
             [
              0.6666666666666666,
              "#ed7953"
             ],
             [
              0.7777777777777778,
              "#fb9f3a"
             ],
             [
              0.8888888888888888,
              "#fdca26"
             ],
             [
              1,
              "#f0f921"
             ]
            ],
            "type": "heatmapgl"
           }
          ],
          "histogram": [
           {
            "marker": {
             "pattern": {
              "fillmode": "overlay",
              "size": 10,
              "solidity": 0.2
             }
            },
            "type": "histogram"
           }
          ],
          "histogram2d": [
           {
            "colorbar": {
             "outlinewidth": 0,
             "ticks": ""
            },
            "colorscale": [
             [
              0,
              "#0d0887"
             ],
             [
              0.1111111111111111,
              "#46039f"
             ],
             [
              0.2222222222222222,
              "#7201a8"
             ],
             [
              0.3333333333333333,
              "#9c179e"
             ],
             [
              0.4444444444444444,
              "#bd3786"
             ],
             [
              0.5555555555555556,
              "#d8576b"
             ],
             [
              0.6666666666666666,
              "#ed7953"
             ],
             [
              0.7777777777777778,
              "#fb9f3a"
             ],
             [
              0.8888888888888888,
              "#fdca26"
             ],
             [
              1,
              "#f0f921"
             ]
            ],
            "type": "histogram2d"
           }
          ],
          "histogram2dcontour": [
           {
            "colorbar": {
             "outlinewidth": 0,
             "ticks": ""
            },
            "colorscale": [
             [
              0,
              "#0d0887"
             ],
             [
              0.1111111111111111,
              "#46039f"
             ],
             [
              0.2222222222222222,
              "#7201a8"
             ],
             [
              0.3333333333333333,
              "#9c179e"
             ],
             [
              0.4444444444444444,
              "#bd3786"
             ],
             [
              0.5555555555555556,
              "#d8576b"
             ],
             [
              0.6666666666666666,
              "#ed7953"
             ],
             [
              0.7777777777777778,
              "#fb9f3a"
             ],
             [
              0.8888888888888888,
              "#fdca26"
             ],
             [
              1,
              "#f0f921"
             ]
            ],
            "type": "histogram2dcontour"
           }
          ],
          "mesh3d": [
           {
            "colorbar": {
             "outlinewidth": 0,
             "ticks": ""
            },
            "type": "mesh3d"
           }
          ],
          "parcoords": [
           {
            "line": {
             "colorbar": {
              "outlinewidth": 0,
              "ticks": ""
             }
            },
            "type": "parcoords"
           }
          ],
          "pie": [
           {
            "automargin": true,
            "type": "pie"
           }
          ],
          "scatter": [
           {
            "fillpattern": {
             "fillmode": "overlay",
             "size": 10,
             "solidity": 0.2
            },
            "type": "scatter"
           }
          ],
          "scatter3d": [
           {
            "line": {
             "colorbar": {
              "outlinewidth": 0,
              "ticks": ""
             }
            },
            "marker": {
             "colorbar": {
              "outlinewidth": 0,
              "ticks": ""
             }
            },
            "type": "scatter3d"
           }
          ],
          "scattercarpet": [
           {
            "marker": {
             "colorbar": {
              "outlinewidth": 0,
              "ticks": ""
             }
            },
            "type": "scattercarpet"
           }
          ],
          "scattergeo": [
           {
            "marker": {
             "colorbar": {
              "outlinewidth": 0,
              "ticks": ""
             }
            },
            "type": "scattergeo"
           }
          ],
          "scattergl": [
           {
            "marker": {
             "colorbar": {
              "outlinewidth": 0,
              "ticks": ""
             }
            },
            "type": "scattergl"
           }
          ],
          "scattermapbox": [
           {
            "marker": {
             "colorbar": {
              "outlinewidth": 0,
              "ticks": ""
             }
            },
            "type": "scattermapbox"
           }
          ],
          "scatterpolar": [
           {
            "marker": {
             "colorbar": {
              "outlinewidth": 0,
              "ticks": ""
             }
            },
            "type": "scatterpolar"
           }
          ],
          "scatterpolargl": [
           {
            "marker": {
             "colorbar": {
              "outlinewidth": 0,
              "ticks": ""
             }
            },
            "type": "scatterpolargl"
           }
          ],
          "scatterternary": [
           {
            "marker": {
             "colorbar": {
              "outlinewidth": 0,
              "ticks": ""
             }
            },
            "type": "scatterternary"
           }
          ],
          "surface": [
           {
            "colorbar": {
             "outlinewidth": 0,
             "ticks": ""
            },
            "colorscale": [
             [
              0,
              "#0d0887"
             ],
             [
              0.1111111111111111,
              "#46039f"
             ],
             [
              0.2222222222222222,
              "#7201a8"
             ],
             [
              0.3333333333333333,
              "#9c179e"
             ],
             [
              0.4444444444444444,
              "#bd3786"
             ],
             [
              0.5555555555555556,
              "#d8576b"
             ],
             [
              0.6666666666666666,
              "#ed7953"
             ],
             [
              0.7777777777777778,
              "#fb9f3a"
             ],
             [
              0.8888888888888888,
              "#fdca26"
             ],
             [
              1,
              "#f0f921"
             ]
            ],
            "type": "surface"
           }
          ],
          "table": [
           {
            "cells": {
             "fill": {
              "color": "#EBF0F8"
             },
             "line": {
              "color": "white"
             }
            },
            "header": {
             "fill": {
              "color": "#C8D4E3"
             },
             "line": {
              "color": "white"
             }
            },
            "type": "table"
           }
          ]
         },
         "layout": {
          "annotationdefaults": {
           "arrowcolor": "#2a3f5f",
           "arrowhead": 0,
           "arrowwidth": 1
          },
          "autotypenumbers": "strict",
          "coloraxis": {
           "colorbar": {
            "outlinewidth": 0,
            "ticks": ""
           }
          },
          "colorscale": {
           "diverging": [
            [
             0,
             "#8e0152"
            ],
            [
             0.1,
             "#c51b7d"
            ],
            [
             0.2,
             "#de77ae"
            ],
            [
             0.3,
             "#f1b6da"
            ],
            [
             0.4,
             "#fde0ef"
            ],
            [
             0.5,
             "#f7f7f7"
            ],
            [
             0.6,
             "#e6f5d0"
            ],
            [
             0.7,
             "#b8e186"
            ],
            [
             0.8,
             "#7fbc41"
            ],
            [
             0.9,
             "#4d9221"
            ],
            [
             1,
             "#276419"
            ]
           ],
           "sequential": [
            [
             0,
             "#0d0887"
            ],
            [
             0.1111111111111111,
             "#46039f"
            ],
            [
             0.2222222222222222,
             "#7201a8"
            ],
            [
             0.3333333333333333,
             "#9c179e"
            ],
            [
             0.4444444444444444,
             "#bd3786"
            ],
            [
             0.5555555555555556,
             "#d8576b"
            ],
            [
             0.6666666666666666,
             "#ed7953"
            ],
            [
             0.7777777777777778,
             "#fb9f3a"
            ],
            [
             0.8888888888888888,
             "#fdca26"
            ],
            [
             1,
             "#f0f921"
            ]
           ],
           "sequentialminus": [
            [
             0,
             "#0d0887"
            ],
            [
             0.1111111111111111,
             "#46039f"
            ],
            [
             0.2222222222222222,
             "#7201a8"
            ],
            [
             0.3333333333333333,
             "#9c179e"
            ],
            [
             0.4444444444444444,
             "#bd3786"
            ],
            [
             0.5555555555555556,
             "#d8576b"
            ],
            [
             0.6666666666666666,
             "#ed7953"
            ],
            [
             0.7777777777777778,
             "#fb9f3a"
            ],
            [
             0.8888888888888888,
             "#fdca26"
            ],
            [
             1,
             "#f0f921"
            ]
           ]
          },
          "colorway": [
           "#636efa",
           "#EF553B",
           "#00cc96",
           "#ab63fa",
           "#FFA15A",
           "#19d3f3",
           "#FF6692",
           "#B6E880",
           "#FF97FF",
           "#FECB52"
          ],
          "font": {
           "color": "#2a3f5f"
          },
          "geo": {
           "bgcolor": "white",
           "lakecolor": "white",
           "landcolor": "#E5ECF6",
           "showlakes": true,
           "showland": true,
           "subunitcolor": "white"
          },
          "hoverlabel": {
           "align": "left"
          },
          "hovermode": "closest",
          "mapbox": {
           "style": "light"
          },
          "paper_bgcolor": "white",
          "plot_bgcolor": "#E5ECF6",
          "polar": {
           "angularaxis": {
            "gridcolor": "white",
            "linecolor": "white",
            "ticks": ""
           },
           "bgcolor": "#E5ECF6",
           "radialaxis": {
            "gridcolor": "white",
            "linecolor": "white",
            "ticks": ""
           }
          },
          "scene": {
           "xaxis": {
            "backgroundcolor": "#E5ECF6",
            "gridcolor": "white",
            "gridwidth": 2,
            "linecolor": "white",
            "showbackground": true,
            "ticks": "",
            "zerolinecolor": "white"
           },
           "yaxis": {
            "backgroundcolor": "#E5ECF6",
            "gridcolor": "white",
            "gridwidth": 2,
            "linecolor": "white",
            "showbackground": true,
            "ticks": "",
            "zerolinecolor": "white"
           },
           "zaxis": {
            "backgroundcolor": "#E5ECF6",
            "gridcolor": "white",
            "gridwidth": 2,
            "linecolor": "white",
            "showbackground": true,
            "ticks": "",
            "zerolinecolor": "white"
           }
          },
          "shapedefaults": {
           "line": {
            "color": "#2a3f5f"
           }
          },
          "ternary": {
           "aaxis": {
            "gridcolor": "white",
            "linecolor": "white",
            "ticks": ""
           },
           "baxis": {
            "gridcolor": "white",
            "linecolor": "white",
            "ticks": ""
           },
           "bgcolor": "#E5ECF6",
           "caxis": {
            "gridcolor": "white",
            "linecolor": "white",
            "ticks": ""
           }
          },
          "title": {
           "x": 0.05
          },
          "xaxis": {
           "automargin": true,
           "gridcolor": "white",
           "linecolor": "white",
           "ticks": "",
           "title": {
            "standoff": 15
           },
           "zerolinecolor": "white",
           "zerolinewidth": 2
          },
          "yaxis": {
           "automargin": true,
           "gridcolor": "white",
           "linecolor": "white",
           "ticks": "",
           "title": {
            "standoff": 15
           },
           "zerolinecolor": "white",
           "zerolinewidth": 2
          }
         }
        }
       }
      }
     },
     "metadata": {},
     "output_type": "display_data"
    }
   ],
   "source": [
    "X = transcriptomics_transf.T.to_numpy(dtype=float)\n",
    "pca = PCA(n_components=3)\n",
    "pca_output_log = pca.fit_transform(X)\n",
    "pca_output_log_df = pd.DataFrame(pca_output_log, columns=['PCA1', 'PCA2', 'PCA3'])\n",
    "pca_output_log_df[\"groups\"] =dict_sample.values()\n",
    "\n",
    "fig = px.scatter_3d(pca_output_log_df, x='PCA1', y='PCA2', z='PCA3', color=\"groups\")\n",
    "fig.show()"
   ]
  },
  {
   "attachments": {},
   "cell_type": "markdown",
   "metadata": {},
   "source": [
    "By comparing the 2 PCA plots, we can observe that the transformed data has a better clusters' differentiation. For the next questions we will use the transformed dataset."
   ]
  },
  {
   "cell_type": "markdown",
   "metadata": {},
   "source": [
    "### 2. Differential gene expression"
   ]
  },
  {
   "cell_type": "code",
   "execution_count": 70,
   "metadata": {},
   "outputs": [],
   "source": [
    "de_results = pd.DataFrame(index = transcriptomics.index, columns = [\"pval\",\"fdr\",\"log2_mean_preadipo\",\"log2_mean_adipo\",\"log2_fold_change\"])"
   ]
  },
  {
   "attachments": {},
   "cell_type": "markdown",
   "metadata": {},
   "source": [
    "2.a)"
   ]
  },
  {
   "cell_type": "code",
   "execution_count": 71,
   "metadata": {},
   "outputs": [],
   "source": [
    "pvalue=[]\n",
    "Adipo_samples = {i for i in dict_sample if dict_sample[i]==\"Adipo\"}\n",
    "PreAdipo_samples = {i for i in dict_sample if dict_sample[i]==\"PreAdipo\"}\n",
    "\n",
    "#two-tailed independent t-test\n",
    "for index, gene in transcriptomics_transf.iterrows():\n",
    "    #_, pval = ttest_ind(gene[Adipo_samples], gene[PreAdipo_samples], equal_var=False)\n",
    "    _, pval =(ttest_ind(gene[0:40], gene[40:80], equal_var=False))\n",
    "    pvalue.append(pval)\n",
    "de_results[\"pval\"] = pvalue\n",
    "\n",
    "t_f, fdr_corrected_p_values = fdrcorrection(de_results.pval)\n",
    "de_results.fdr = fdr_corrected_p_values"
   ]
  },
  {
   "attachments": {},
   "cell_type": "markdown",
   "metadata": {},
   "source": [
    "2.b)"
   ]
  },
  {
   "cell_type": "code",
   "execution_count": 72,
   "metadata": {},
   "outputs": [],
   "source": [
    "#FDR correction\n",
    "t_f, fdr_corrected_p_values = fdrcorrection(de_results.pval)\n",
    "de_results.fdr = fdr_corrected_p_values"
   ]
  },
  {
   "cell_type": "markdown",
   "metadata": {},
   "source": [
    "2.c)"
   ]
  },
  {
   "cell_type": "code",
   "execution_count": 73,
   "metadata": {},
   "outputs": [
    {
     "data": {
      "text/html": [
       "<div>\n",
       "<style scoped>\n",
       "    .dataframe tbody tr th:only-of-type {\n",
       "        vertical-align: middle;\n",
       "    }\n",
       "\n",
       "    .dataframe tbody tr th {\n",
       "        vertical-align: top;\n",
       "    }\n",
       "\n",
       "    .dataframe thead th {\n",
       "        text-align: right;\n",
       "    }\n",
       "</style>\n",
       "<table border=\"1\" class=\"dataframe\">\n",
       "  <thead>\n",
       "    <tr style=\"text-align: right;\">\n",
       "      <th></th>\n",
       "      <th>pval</th>\n",
       "      <th>fdr</th>\n",
       "      <th>log2_mean_preadipo</th>\n",
       "      <th>log2_mean_adipo</th>\n",
       "      <th>log2_fold_change</th>\n",
       "    </tr>\n",
       "    <tr>\n",
       "      <th>Gene_ID</th>\n",
       "      <th></th>\n",
       "      <th></th>\n",
       "      <th></th>\n",
       "      <th></th>\n",
       "      <th></th>\n",
       "    </tr>\n",
       "  </thead>\n",
       "  <tbody>\n",
       "    <tr>\n",
       "      <th>ENSG00000000003</th>\n",
       "      <td>0.029213</td>\n",
       "      <td>0.124449</td>\n",
       "      <td>NaN</td>\n",
       "      <td>NaN</td>\n",
       "      <td>NaN</td>\n",
       "    </tr>\n",
       "    <tr>\n",
       "      <th>ENSG00000000419</th>\n",
       "      <td>0.436098</td>\n",
       "      <td>0.605981</td>\n",
       "      <td>NaN</td>\n",
       "      <td>NaN</td>\n",
       "      <td>NaN</td>\n",
       "    </tr>\n",
       "    <tr>\n",
       "      <th>ENSG00000000457</th>\n",
       "      <td>0.371879</td>\n",
       "      <td>0.541478</td>\n",
       "      <td>NaN</td>\n",
       "      <td>NaN</td>\n",
       "      <td>NaN</td>\n",
       "    </tr>\n",
       "    <tr>\n",
       "      <th>ENSG00000000460</th>\n",
       "      <td>0.403271</td>\n",
       "      <td>0.574002</td>\n",
       "      <td>NaN</td>\n",
       "      <td>NaN</td>\n",
       "      <td>NaN</td>\n",
       "    </tr>\n",
       "    <tr>\n",
       "      <th>ENSG00000001167</th>\n",
       "      <td>0.032582</td>\n",
       "      <td>0.135853</td>\n",
       "      <td>NaN</td>\n",
       "      <td>NaN</td>\n",
       "      <td>NaN</td>\n",
       "    </tr>\n",
       "    <tr>\n",
       "      <th>...</th>\n",
       "      <td>...</td>\n",
       "      <td>...</td>\n",
       "      <td>...</td>\n",
       "      <td>...</td>\n",
       "      <td>...</td>\n",
       "    </tr>\n",
       "    <tr>\n",
       "      <th>ENSG00000273483</th>\n",
       "      <td>1.000000</td>\n",
       "      <td>1.000000</td>\n",
       "      <td>NaN</td>\n",
       "      <td>NaN</td>\n",
       "      <td>NaN</td>\n",
       "    </tr>\n",
       "    <tr>\n",
       "      <th>ENSG00000273485</th>\n",
       "      <td>0.767912</td>\n",
       "      <td>0.863298</td>\n",
       "      <td>NaN</td>\n",
       "      <td>NaN</td>\n",
       "      <td>NaN</td>\n",
       "    </tr>\n",
       "    <tr>\n",
       "      <th>ENSG00000273486</th>\n",
       "      <td>0.104262</td>\n",
       "      <td>0.314575</td>\n",
       "      <td>NaN</td>\n",
       "      <td>NaN</td>\n",
       "      <td>NaN</td>\n",
       "    </tr>\n",
       "    <tr>\n",
       "      <th>ENSG00000273487</th>\n",
       "      <td>0.755924</td>\n",
       "      <td>0.854810</td>\n",
       "      <td>NaN</td>\n",
       "      <td>NaN</td>\n",
       "      <td>NaN</td>\n",
       "    </tr>\n",
       "    <tr>\n",
       "      <th>ENSG00000273493</th>\n",
       "      <td>0.433540</td>\n",
       "      <td>0.603562</td>\n",
       "      <td>NaN</td>\n",
       "      <td>NaN</td>\n",
       "      <td>NaN</td>\n",
       "    </tr>\n",
       "  </tbody>\n",
       "</table>\n",
       "<p>24623 rows × 5 columns</p>\n",
       "</div>"
      ],
      "text/plain": [
       "                     pval       fdr log2_mean_preadipo log2_mean_adipo  \\\n",
       "Gene_ID                                                                  \n",
       "ENSG00000000003  0.029213  0.124449                NaN             NaN   \n",
       "ENSG00000000419  0.436098  0.605981                NaN             NaN   \n",
       "ENSG00000000457  0.371879  0.541478                NaN             NaN   \n",
       "ENSG00000000460  0.403271  0.574002                NaN             NaN   \n",
       "ENSG00000001167  0.032582  0.135853                NaN             NaN   \n",
       "...                   ...       ...                ...             ...   \n",
       "ENSG00000273483  1.000000  1.000000                NaN             NaN   \n",
       "ENSG00000273485  0.767912  0.863298                NaN             NaN   \n",
       "ENSG00000273486  0.104262  0.314575                NaN             NaN   \n",
       "ENSG00000273487  0.755924  0.854810                NaN             NaN   \n",
       "ENSG00000273493  0.433540  0.603562                NaN             NaN   \n",
       "\n",
       "                log2_fold_change  \n",
       "Gene_ID                           \n",
       "ENSG00000000003              NaN  \n",
       "ENSG00000000419              NaN  \n",
       "ENSG00000000457              NaN  \n",
       "ENSG00000000460              NaN  \n",
       "ENSG00000001167              NaN  \n",
       "...                          ...  \n",
       "ENSG00000273483              NaN  \n",
       "ENSG00000273485              NaN  \n",
       "ENSG00000273486              NaN  \n",
       "ENSG00000273487              NaN  \n",
       "ENSG00000273493              NaN  \n",
       "\n",
       "[24623 rows x 5 columns]"
      ]
     },
     "execution_count": 73,
     "metadata": {},
     "output_type": "execute_result"
    }
   ],
   "source": [
    "#Selection of the  differentially expressed (DE) genes\n",
    "de_results[de_results[\"fdr\"] >= 0.05]"
   ]
  },
  {
   "cell_type": "markdown",
   "metadata": {},
   "source": [
    "##### 2.d)"
   ]
  },
  {
   "cell_type": "code",
   "execution_count": 74,
   "metadata": {},
   "outputs": [
    {
     "name": "stderr",
     "output_type": "stream",
     "text": [
      "/tmp/ipykernel_10747/931640721.py:4: FutureWarning:\n",
      "\n",
      "Passing a set as an indexer is deprecated and will raise in a future version. Use a list instead.\n",
      "\n",
      "/tmp/ipykernel_10747/931640721.py:5: FutureWarning:\n",
      "\n",
      "Passing a set as an indexer is deprecated and will raise in a future version. Use a list instead.\n",
      "\n"
     ]
    }
   ],
   "source": [
    "Adipo_samples = {i for i in dict_sample if dict_sample[i]==\"Adipo\"}\n",
    "PreAdipo_samples = {i for i in dict_sample if dict_sample[i]==\"PreAdipo\"}\n",
    "\n",
    "de_results[\"log2_mean_preadipo\"] = np.log2(transcriptomics[PreAdipo_samples].mean(axis=1)+1)\n",
    "de_results[\"log2_mean_adipo\"] = np.log2(transcriptomics[Adipo_samples].mean(axis=1)+1)\n",
    "\n",
    "np.log2(transcriptomics[PreAdipo_samples].mean(axis=1)+1)"
   ]
  },
  {
   "cell_type": "markdown",
   "metadata": {},
   "source": [
    "##### 2.e)"
   ]
  },
  {
   "cell_type": "code",
   "execution_count": 76,
   "metadata": {},
   "outputs": [
    {
     "data": {
      "text/html": [
       "<div>\n",
       "<style scoped>\n",
       "    .dataframe tbody tr th:only-of-type {\n",
       "        vertical-align: middle;\n",
       "    }\n",
       "\n",
       "    .dataframe tbody tr th {\n",
       "        vertical-align: top;\n",
       "    }\n",
       "\n",
       "    .dataframe thead th {\n",
       "        text-align: right;\n",
       "    }\n",
       "</style>\n",
       "<table border=\"1\" class=\"dataframe\">\n",
       "  <thead>\n",
       "    <tr style=\"text-align: right;\">\n",
       "      <th></th>\n",
       "      <th>pval</th>\n",
       "      <th>fdr</th>\n",
       "      <th>log2_mean_preadipo</th>\n",
       "      <th>log2_mean_adipo</th>\n",
       "      <th>log2_fold_change</th>\n",
       "    </tr>\n",
       "    <tr>\n",
       "      <th>Gene_ID</th>\n",
       "      <th></th>\n",
       "      <th></th>\n",
       "      <th></th>\n",
       "      <th></th>\n",
       "      <th></th>\n",
       "    </tr>\n",
       "  </thead>\n",
       "  <tbody>\n",
       "    <tr>\n",
       "      <th>ENSG00000170323</th>\n",
       "      <td>3.144794e-46</td>\n",
       "      <td>7.404844e-42</td>\n",
       "      <td>6.845176</td>\n",
       "      <td>13.011066</td>\n",
       "      <td>6.165889</td>\n",
       "    </tr>\n",
       "    <tr>\n",
       "      <th>ENSG00000130208</th>\n",
       "      <td>8.895025e-39</td>\n",
       "      <td>1.222581e-35</td>\n",
       "      <td>7.183883</td>\n",
       "      <td>13.134579</td>\n",
       "      <td>5.950695</td>\n",
       "    </tr>\n",
       "    <tr>\n",
       "      <th>ENSG00000055957</th>\n",
       "      <td>1.698795e-39</td>\n",
       "      <td>3.210511e-36</td>\n",
       "      <td>2.255501</td>\n",
       "      <td>7.901772</td>\n",
       "      <td>5.646271</td>\n",
       "    </tr>\n",
       "    <tr>\n",
       "      <th>ENSG00000122378</th>\n",
       "      <td>4.726720e-43</td>\n",
       "      <td>2.858531e-39</td>\n",
       "      <td>3.520422</td>\n",
       "      <td>9.164656</td>\n",
       "      <td>5.644233</td>\n",
       "    </tr>\n",
       "    <tr>\n",
       "      <th>ENSG00000135447</th>\n",
       "      <td>2.149862e-40</td>\n",
       "      <td>5.909776e-37</td>\n",
       "      <td>1.419539</td>\n",
       "      <td>6.984988</td>\n",
       "      <td>5.565449</td>\n",
       "    </tr>\n",
       "    <tr>\n",
       "      <th>...</th>\n",
       "      <td>...</td>\n",
       "      <td>...</td>\n",
       "      <td>...</td>\n",
       "      <td>...</td>\n",
       "      <td>...</td>\n",
       "    </tr>\n",
       "    <tr>\n",
       "      <th>ENSG00000089685</th>\n",
       "      <td>2.943092e-11</td>\n",
       "      <td>1.105506e-09</td>\n",
       "      <td>5.984703</td>\n",
       "      <td>3.083213</td>\n",
       "      <td>-2.901490</td>\n",
       "    </tr>\n",
       "    <tr>\n",
       "      <th>ENSG00000117399</th>\n",
       "      <td>2.514095e-07</td>\n",
       "      <td>4.778202e-06</td>\n",
       "      <td>4.842979</td>\n",
       "      <td>1.877744</td>\n",
       "      <td>-2.965235</td>\n",
       "    </tr>\n",
       "    <tr>\n",
       "      <th>ENSG00000149968</th>\n",
       "      <td>3.987162e-15</td>\n",
       "      <td>2.638158e-13</td>\n",
       "      <td>4.836682</td>\n",
       "      <td>1.827819</td>\n",
       "      <td>-3.008863</td>\n",
       "    </tr>\n",
       "    <tr>\n",
       "      <th>ENSG00000264433</th>\n",
       "      <td>1.631710e-14</td>\n",
       "      <td>1.013135e-12</td>\n",
       "      <td>4.330917</td>\n",
       "      <td>1.247928</td>\n",
       "      <td>-3.082989</td>\n",
       "    </tr>\n",
       "    <tr>\n",
       "      <th>ENSG00000214100</th>\n",
       "      <td>1.321941e-25</td>\n",
       "      <td>3.359063e-23</td>\n",
       "      <td>5.807999</td>\n",
       "      <td>2.399171</td>\n",
       "      <td>-3.408828</td>\n",
       "    </tr>\n",
       "  </tbody>\n",
       "</table>\n",
       "<p>30238 rows × 5 columns</p>\n",
       "</div>"
      ],
      "text/plain": [
       "                         pval           fdr  log2_mean_preadipo  \\\n",
       "Gene_ID                                                           \n",
       "ENSG00000170323  3.144794e-46  7.404844e-42            6.845176   \n",
       "ENSG00000130208  8.895025e-39  1.222581e-35            7.183883   \n",
       "ENSG00000055957  1.698795e-39  3.210511e-36            2.255501   \n",
       "ENSG00000122378  4.726720e-43  2.858531e-39            3.520422   \n",
       "ENSG00000135447  2.149862e-40  5.909776e-37            1.419539   \n",
       "...                       ...           ...                 ...   \n",
       "ENSG00000089685  2.943092e-11  1.105506e-09            5.984703   \n",
       "ENSG00000117399  2.514095e-07  4.778202e-06            4.842979   \n",
       "ENSG00000149968  3.987162e-15  2.638158e-13            4.836682   \n",
       "ENSG00000264433  1.631710e-14  1.013135e-12            4.330917   \n",
       "ENSG00000214100  1.321941e-25  3.359063e-23            5.807999   \n",
       "\n",
       "                 log2_mean_adipo  log2_fold_change  \n",
       "Gene_ID                                             \n",
       "ENSG00000170323        13.011066          6.165889  \n",
       "ENSG00000130208        13.134579          5.950695  \n",
       "ENSG00000055957         7.901772          5.646271  \n",
       "ENSG00000122378         9.164656          5.644233  \n",
       "ENSG00000135447         6.984988          5.565449  \n",
       "...                          ...               ...  \n",
       "ENSG00000089685         3.083213         -2.901490  \n",
       "ENSG00000117399         1.877744         -2.965235  \n",
       "ENSG00000149968         1.827819         -3.008863  \n",
       "ENSG00000264433         1.247928         -3.082989  \n",
       "ENSG00000214100         2.399171         -3.408828  \n",
       "\n",
       "[30238 rows x 5 columns]"
      ]
     },
     "execution_count": 76,
     "metadata": {},
     "output_type": "execute_result"
    }
   ],
   "source": [
    "de_results[\"log2_fold_change\"] = (de_results[\"log2_mean_adipo\"] - de_results[\"log2_mean_preadipo\"])\n",
    "de_results.sort_values('log2_fold_change', ascending=False, inplace=True)\n",
    "de_results"
   ]
  },
  {
   "attachments": {},
   "cell_type": "markdown",
   "metadata": {},
   "source": [
    "2.f)"
   ]
  },
  {
   "cell_type": "code",
   "execution_count": 77,
   "metadata": {},
   "outputs": [
    {
     "data": {
      "text/html": [
       "<div>\n",
       "<style scoped>\n",
       "    .dataframe tbody tr th:only-of-type {\n",
       "        vertical-align: middle;\n",
       "    }\n",
       "\n",
       "    .dataframe tbody tr th {\n",
       "        vertical-align: top;\n",
       "    }\n",
       "\n",
       "    .dataframe thead th {\n",
       "        text-align: right;\n",
       "    }\n",
       "</style>\n",
       "<table border=\"1\" class=\"dataframe\">\n",
       "  <thead>\n",
       "    <tr style=\"text-align: right;\">\n",
       "      <th></th>\n",
       "      <th>pval</th>\n",
       "      <th>fdr</th>\n",
       "      <th>log2_mean_preadipo</th>\n",
       "      <th>log2_mean_adipo</th>\n",
       "      <th>log2_fold_change</th>\n",
       "    </tr>\n",
       "    <tr>\n",
       "      <th>Gene_ID</th>\n",
       "      <th></th>\n",
       "      <th></th>\n",
       "      <th></th>\n",
       "      <th></th>\n",
       "      <th></th>\n",
       "    </tr>\n",
       "  </thead>\n",
       "  <tbody>\n",
       "    <tr>\n",
       "      <th>ENSG00000170323</th>\n",
       "      <td>3.144794e-46</td>\n",
       "      <td>7.404844e-42</td>\n",
       "      <td>6.845176</td>\n",
       "      <td>13.011066</td>\n",
       "      <td>6.165889</td>\n",
       "    </tr>\n",
       "    <tr>\n",
       "      <th>ENSG00000130208</th>\n",
       "      <td>8.895025e-39</td>\n",
       "      <td>1.222581e-35</td>\n",
       "      <td>7.183883</td>\n",
       "      <td>13.134579</td>\n",
       "      <td>5.950695</td>\n",
       "    </tr>\n",
       "    <tr>\n",
       "      <th>ENSG00000055957</th>\n",
       "      <td>1.698795e-39</td>\n",
       "      <td>3.210511e-36</td>\n",
       "      <td>2.255501</td>\n",
       "      <td>7.901772</td>\n",
       "      <td>5.646271</td>\n",
       "    </tr>\n",
       "    <tr>\n",
       "      <th>ENSG00000122378</th>\n",
       "      <td>4.726720e-43</td>\n",
       "      <td>2.858531e-39</td>\n",
       "      <td>3.520422</td>\n",
       "      <td>9.164656</td>\n",
       "      <td>5.644233</td>\n",
       "    </tr>\n",
       "    <tr>\n",
       "      <th>ENSG00000135447</th>\n",
       "      <td>2.149862e-40</td>\n",
       "      <td>5.909776e-37</td>\n",
       "      <td>1.419539</td>\n",
       "      <td>6.984988</td>\n",
       "      <td>5.565449</td>\n",
       "    </tr>\n",
       "    <tr>\n",
       "      <th>...</th>\n",
       "      <td>...</td>\n",
       "      <td>...</td>\n",
       "      <td>...</td>\n",
       "      <td>...</td>\n",
       "      <td>...</td>\n",
       "    </tr>\n",
       "    <tr>\n",
       "      <th>ENSG00000099785</th>\n",
       "      <td>2.521863e-09</td>\n",
       "      <td>7.002395e-08</td>\n",
       "      <td>4.346957</td>\n",
       "      <td>5.350497</td>\n",
       "      <td>1.003540</td>\n",
       "    </tr>\n",
       "    <tr>\n",
       "      <th>ENSG00000187824</th>\n",
       "      <td>1.747159e-07</td>\n",
       "      <td>3.423888e-06</td>\n",
       "      <td>3.617651</td>\n",
       "      <td>4.620586</td>\n",
       "      <td>1.002935</td>\n",
       "    </tr>\n",
       "    <tr>\n",
       "      <th>ENSG00000100412</th>\n",
       "      <td>8.848764e-08</td>\n",
       "      <td>1.817724e-06</td>\n",
       "      <td>4.499846</td>\n",
       "      <td>5.500643</td>\n",
       "      <td>1.000797</td>\n",
       "    </tr>\n",
       "    <tr>\n",
       "      <th>ENSG00000120129</th>\n",
       "      <td>1.607696e-04</td>\n",
       "      <td>1.567672e-03</td>\n",
       "      <td>4.710118</td>\n",
       "      <td>5.710806</td>\n",
       "      <td>1.000689</td>\n",
       "    </tr>\n",
       "    <tr>\n",
       "      <th>ENSG00000178573</th>\n",
       "      <td>4.997932e-04</td>\n",
       "      <td>4.207335e-03</td>\n",
       "      <td>1.837943</td>\n",
       "      <td>2.837943</td>\n",
       "      <td>1.000000</td>\n",
       "    </tr>\n",
       "  </tbody>\n",
       "</table>\n",
       "<p>1204 rows × 5 columns</p>\n",
       "</div>"
      ],
      "text/plain": [
       "                         pval           fdr  log2_mean_preadipo  \\\n",
       "Gene_ID                                                           \n",
       "ENSG00000170323  3.144794e-46  7.404844e-42            6.845176   \n",
       "ENSG00000130208  8.895025e-39  1.222581e-35            7.183883   \n",
       "ENSG00000055957  1.698795e-39  3.210511e-36            2.255501   \n",
       "ENSG00000122378  4.726720e-43  2.858531e-39            3.520422   \n",
       "ENSG00000135447  2.149862e-40  5.909776e-37            1.419539   \n",
       "...                       ...           ...                 ...   \n",
       "ENSG00000099785  2.521863e-09  7.002395e-08            4.346957   \n",
       "ENSG00000187824  1.747159e-07  3.423888e-06            3.617651   \n",
       "ENSG00000100412  8.848764e-08  1.817724e-06            4.499846   \n",
       "ENSG00000120129  1.607696e-04  1.567672e-03            4.710118   \n",
       "ENSG00000178573  4.997932e-04  4.207335e-03            1.837943   \n",
       "\n",
       "                 log2_mean_adipo  log2_fold_change  \n",
       "Gene_ID                                             \n",
       "ENSG00000170323        13.011066          6.165889  \n",
       "ENSG00000130208        13.134579          5.950695  \n",
       "ENSG00000055957         7.901772          5.646271  \n",
       "ENSG00000122378         9.164656          5.644233  \n",
       "ENSG00000135447         6.984988          5.565449  \n",
       "...                          ...               ...  \n",
       "ENSG00000099785         5.350497          1.003540  \n",
       "ENSG00000187824         4.620586          1.002935  \n",
       "ENSG00000100412         5.500643          1.000797  \n",
       "ENSG00000120129         5.710806          1.000689  \n",
       "ENSG00000178573         2.837943          1.000000  \n",
       "\n",
       "[1204 rows x 5 columns]"
      ]
     },
     "execution_count": 77,
     "metadata": {},
     "output_type": "execute_result"
    }
   ],
   "source": [
    "de_results.sort_values('log2_fold_change', ascending=False, inplace=True)\n",
    "de_results = de_results[de_results[\"fdr\"] < 0.05]\n",
    "de_results = de_results[de_results[\"log2_fold_change\"] > 1]\n",
    "de_results"
   ]
  },
  {
   "attachments": {},
   "cell_type": "markdown",
   "metadata": {},
   "source": [
    "Why do we need to do that?"
   ]
  },
  {
   "attachments": {},
   "cell_type": "markdown",
   "metadata": {},
   "source": [
    "### 3. Investigating top marker genes"
   ]
  },
  {
   "attachments": {},
   "cell_type": "markdown",
   "metadata": {},
   "source": [
    "3.a)"
   ]
  },
  {
   "cell_type": "code",
   "execution_count": 132,
   "metadata": {},
   "outputs": [
    {
     "data": {
      "text/html": [
       "<div>\n",
       "<style scoped>\n",
       "    .dataframe tbody tr th:only-of-type {\n",
       "        vertical-align: middle;\n",
       "    }\n",
       "\n",
       "    .dataframe tbody tr th {\n",
       "        vertical-align: top;\n",
       "    }\n",
       "\n",
       "    .dataframe thead th {\n",
       "        text-align: right;\n",
       "    }\n",
       "</style>\n",
       "<table border=\"1\" class=\"dataframe\">\n",
       "  <thead>\n",
       "    <tr style=\"text-align: right;\">\n",
       "      <th></th>\n",
       "      <th>pval</th>\n",
       "      <th>fdr</th>\n",
       "      <th>log2_mean_preadipo</th>\n",
       "      <th>log2_mean_adipo</th>\n",
       "      <th>log2_fold_change</th>\n",
       "      <th>gene_symbol</th>\n",
       "    </tr>\n",
       "    <tr>\n",
       "      <th>Gene_ID</th>\n",
       "      <th></th>\n",
       "      <th></th>\n",
       "      <th></th>\n",
       "      <th></th>\n",
       "      <th></th>\n",
       "      <th></th>\n",
       "    </tr>\n",
       "  </thead>\n",
       "  <tbody>\n",
       "    <tr>\n",
       "      <th>ENSG00000170323</th>\n",
       "      <td>3.144794e-46</td>\n",
       "      <td>7.404844e-42</td>\n",
       "      <td>6.845176</td>\n",
       "      <td>13.011066</td>\n",
       "      <td>6.165889</td>\n",
       "      <td>FABP4</td>\n",
       "    </tr>\n",
       "    <tr>\n",
       "      <th>ENSG00000130208</th>\n",
       "      <td>8.895025e-39</td>\n",
       "      <td>1.222581e-35</td>\n",
       "      <td>7.183883</td>\n",
       "      <td>13.134579</td>\n",
       "      <td>5.950695</td>\n",
       "      <td>APOC1</td>\n",
       "    </tr>\n",
       "    <tr>\n",
       "      <th>ENSG00000055957</th>\n",
       "      <td>1.698795e-39</td>\n",
       "      <td>3.210511e-36</td>\n",
       "      <td>2.255501</td>\n",
       "      <td>7.901772</td>\n",
       "      <td>5.646271</td>\n",
       "      <td>ITIH1</td>\n",
       "    </tr>\n",
       "    <tr>\n",
       "      <th>ENSG00000122378</th>\n",
       "      <td>4.726720e-43</td>\n",
       "      <td>2.858531e-39</td>\n",
       "      <td>3.520422</td>\n",
       "      <td>9.164656</td>\n",
       "      <td>5.644233</td>\n",
       "      <td>FAM213A</td>\n",
       "    </tr>\n",
       "    <tr>\n",
       "      <th>ENSG00000135447</th>\n",
       "      <td>2.149862e-40</td>\n",
       "      <td>5.909776e-37</td>\n",
       "      <td>1.419539</td>\n",
       "      <td>6.984988</td>\n",
       "      <td>5.565449</td>\n",
       "      <td>PPP1R1A</td>\n",
       "    </tr>\n",
       "    <tr>\n",
       "      <th>...</th>\n",
       "      <td>...</td>\n",
       "      <td>...</td>\n",
       "      <td>...</td>\n",
       "      <td>...</td>\n",
       "      <td>...</td>\n",
       "      <td>...</td>\n",
       "    </tr>\n",
       "    <tr>\n",
       "      <th>ENSG00000099785</th>\n",
       "      <td>2.521863e-09</td>\n",
       "      <td>7.002395e-08</td>\n",
       "      <td>4.346957</td>\n",
       "      <td>5.350497</td>\n",
       "      <td>1.003540</td>\n",
       "      <td>MARCH2</td>\n",
       "    </tr>\n",
       "    <tr>\n",
       "      <th>ENSG00000187824</th>\n",
       "      <td>1.747159e-07</td>\n",
       "      <td>3.423888e-06</td>\n",
       "      <td>3.617651</td>\n",
       "      <td>4.620586</td>\n",
       "      <td>1.002935</td>\n",
       "      <td>TMEM220</td>\n",
       "    </tr>\n",
       "    <tr>\n",
       "      <th>ENSG00000100412</th>\n",
       "      <td>8.848764e-08</td>\n",
       "      <td>1.817724e-06</td>\n",
       "      <td>4.499846</td>\n",
       "      <td>5.500643</td>\n",
       "      <td>1.000797</td>\n",
       "      <td>ACO2</td>\n",
       "    </tr>\n",
       "    <tr>\n",
       "      <th>ENSG00000120129</th>\n",
       "      <td>1.607696e-04</td>\n",
       "      <td>1.567672e-03</td>\n",
       "      <td>4.710118</td>\n",
       "      <td>5.710806</td>\n",
       "      <td>1.000689</td>\n",
       "      <td>DUSP1</td>\n",
       "    </tr>\n",
       "    <tr>\n",
       "      <th>ENSG00000178573</th>\n",
       "      <td>4.997932e-04</td>\n",
       "      <td>4.207335e-03</td>\n",
       "      <td>1.837943</td>\n",
       "      <td>2.837943</td>\n",
       "      <td>1.000000</td>\n",
       "      <td>MAF</td>\n",
       "    </tr>\n",
       "  </tbody>\n",
       "</table>\n",
       "<p>1204 rows × 6 columns</p>\n",
       "</div>"
      ],
      "text/plain": [
       "                         pval           fdr  log2_mean_preadipo  \\\n",
       "Gene_ID                                                           \n",
       "ENSG00000170323  3.144794e-46  7.404844e-42            6.845176   \n",
       "ENSG00000130208  8.895025e-39  1.222581e-35            7.183883   \n",
       "ENSG00000055957  1.698795e-39  3.210511e-36            2.255501   \n",
       "ENSG00000122378  4.726720e-43  2.858531e-39            3.520422   \n",
       "ENSG00000135447  2.149862e-40  5.909776e-37            1.419539   \n",
       "...                       ...           ...                 ...   \n",
       "ENSG00000099785  2.521863e-09  7.002395e-08            4.346957   \n",
       "ENSG00000187824  1.747159e-07  3.423888e-06            3.617651   \n",
       "ENSG00000100412  8.848764e-08  1.817724e-06            4.499846   \n",
       "ENSG00000120129  1.607696e-04  1.567672e-03            4.710118   \n",
       "ENSG00000178573  4.997932e-04  4.207335e-03            1.837943   \n",
       "\n",
       "                 log2_mean_adipo  log2_fold_change gene_symbol  \n",
       "Gene_ID                                                         \n",
       "ENSG00000170323        13.011066          6.165889       FABP4  \n",
       "ENSG00000130208        13.134579          5.950695       APOC1  \n",
       "ENSG00000055957         7.901772          5.646271       ITIH1  \n",
       "ENSG00000122378         9.164656          5.644233     FAM213A  \n",
       "ENSG00000135447         6.984988          5.565449     PPP1R1A  \n",
       "...                          ...               ...         ...  \n",
       "ENSG00000099785         5.350497          1.003540      MARCH2  \n",
       "ENSG00000187824         4.620586          1.002935     TMEM220  \n",
       "ENSG00000100412         5.500643          1.000797        ACO2  \n",
       "ENSG00000120129         5.710806          1.000689       DUSP1  \n",
       "ENSG00000178573         2.837943          1.000000         MAF  \n",
       "\n",
       "[1204 rows x 6 columns]"
      ]
     },
     "execution_count": 132,
     "metadata": {},
     "output_type": "execute_result"
    }
   ],
   "source": [
    "# import gene annotation file \n",
    "gene_annotation = pd.read_csv( os.path.join(core_path, 'Homo_sapiens.GRCh37.75.gene_annotation.txt'),sep= \"\\t\")\n",
    "gene_annotation.index = gene_annotation.Ensembl\n",
    "gene_annotation2 = gene_annotation.loc[de_results.index,:]\n",
    "de_results[\"gene_symbol\"] = gene_annotation2.Name\n",
    "de_results"
   ]
  },
  {
   "attachments": {},
   "cell_type": "markdown",
   "metadata": {},
   "source": [
    "3.b)"
   ]
  },
  {
   "attachments": {},
   "cell_type": "markdown",
   "metadata": {},
   "source": [
    "Plot the expression of the top marker gene as two side-by-side plots,one with expression as a gradient color in the PCA, and another as two boxplots showing expression of this gene for each sample in the two groups."
   ]
  },
  {
   "cell_type": "code",
   "execution_count": 133,
   "metadata": {},
   "outputs": [
    {
     "data": {
      "text/html": [
       "<div>\n",
       "<style scoped>\n",
       "    .dataframe tbody tr th:only-of-type {\n",
       "        vertical-align: middle;\n",
       "    }\n",
       "\n",
       "    .dataframe tbody tr th {\n",
       "        vertical-align: top;\n",
       "    }\n",
       "\n",
       "    .dataframe thead th {\n",
       "        text-align: right;\n",
       "    }\n",
       "</style>\n",
       "<table border=\"1\" class=\"dataframe\">\n",
       "  <thead>\n",
       "    <tr style=\"text-align: right;\">\n",
       "      <th></th>\n",
       "      <th>Sample_1_preadi</th>\n",
       "      <th>Sample_2_preadi</th>\n",
       "      <th>Sample_3_preadi</th>\n",
       "      <th>Sample_4_preadi</th>\n",
       "      <th>Sample_5_preadi</th>\n",
       "      <th>Sample_6_preadi</th>\n",
       "      <th>Sample_7_preadi</th>\n",
       "      <th>Sample_8_preadi</th>\n",
       "      <th>Sample_9_preadi</th>\n",
       "      <th>Sample_10_preadi</th>\n",
       "      <th>...</th>\n",
       "      <th>Sample_72_adipo</th>\n",
       "      <th>Sample_73_adipo</th>\n",
       "      <th>Sample_74_adipo</th>\n",
       "      <th>Sample_75_adipo</th>\n",
       "      <th>Sample_76_adipo</th>\n",
       "      <th>Sample_77_adipo</th>\n",
       "      <th>Sample_78_adipo</th>\n",
       "      <th>Sample_79_adipo</th>\n",
       "      <th>Sample_80_adipo</th>\n",
       "      <th>Name</th>\n",
       "    </tr>\n",
       "    <tr>\n",
       "      <th>Gene_ID</th>\n",
       "      <th></th>\n",
       "      <th></th>\n",
       "      <th></th>\n",
       "      <th></th>\n",
       "      <th></th>\n",
       "      <th></th>\n",
       "      <th></th>\n",
       "      <th></th>\n",
       "      <th></th>\n",
       "      <th></th>\n",
       "      <th></th>\n",
       "      <th></th>\n",
       "      <th></th>\n",
       "      <th></th>\n",
       "      <th></th>\n",
       "      <th></th>\n",
       "      <th></th>\n",
       "      <th></th>\n",
       "      <th></th>\n",
       "      <th></th>\n",
       "      <th></th>\n",
       "    </tr>\n",
       "  </thead>\n",
       "  <tbody>\n",
       "    <tr>\n",
       "      <th>ENSG00000000003</th>\n",
       "      <td>18</td>\n",
       "      <td>12</td>\n",
       "      <td>9</td>\n",
       "      <td>20</td>\n",
       "      <td>9</td>\n",
       "      <td>13</td>\n",
       "      <td>20</td>\n",
       "      <td>8</td>\n",
       "      <td>4</td>\n",
       "      <td>7</td>\n",
       "      <td>...</td>\n",
       "      <td>9</td>\n",
       "      <td>30</td>\n",
       "      <td>9</td>\n",
       "      <td>23</td>\n",
       "      <td>16</td>\n",
       "      <td>3</td>\n",
       "      <td>14</td>\n",
       "      <td>11</td>\n",
       "      <td>16</td>\n",
       "      <td>TSPAN6</td>\n",
       "    </tr>\n",
       "    <tr>\n",
       "      <th>ENSG00000000005</th>\n",
       "      <td>0</td>\n",
       "      <td>0</td>\n",
       "      <td>0</td>\n",
       "      <td>2</td>\n",
       "      <td>0</td>\n",
       "      <td>0</td>\n",
       "      <td>0</td>\n",
       "      <td>0</td>\n",
       "      <td>0</td>\n",
       "      <td>0</td>\n",
       "      <td>...</td>\n",
       "      <td>1</td>\n",
       "      <td>29</td>\n",
       "      <td>2</td>\n",
       "      <td>22</td>\n",
       "      <td>3</td>\n",
       "      <td>0</td>\n",
       "      <td>2</td>\n",
       "      <td>0</td>\n",
       "      <td>5</td>\n",
       "      <td>TNMD</td>\n",
       "    </tr>\n",
       "    <tr>\n",
       "      <th>ENSG00000000419</th>\n",
       "      <td>10</td>\n",
       "      <td>9</td>\n",
       "      <td>9</td>\n",
       "      <td>8</td>\n",
       "      <td>10</td>\n",
       "      <td>10</td>\n",
       "      <td>6</td>\n",
       "      <td>35</td>\n",
       "      <td>13</td>\n",
       "      <td>15</td>\n",
       "      <td>...</td>\n",
       "      <td>9</td>\n",
       "      <td>9</td>\n",
       "      <td>15</td>\n",
       "      <td>8</td>\n",
       "      <td>9</td>\n",
       "      <td>9</td>\n",
       "      <td>4</td>\n",
       "      <td>16</td>\n",
       "      <td>5</td>\n",
       "      <td>DPM1</td>\n",
       "    </tr>\n",
       "    <tr>\n",
       "      <th>ENSG00000000457</th>\n",
       "      <td>0</td>\n",
       "      <td>11</td>\n",
       "      <td>0</td>\n",
       "      <td>6</td>\n",
       "      <td>2</td>\n",
       "      <td>12</td>\n",
       "      <td>11</td>\n",
       "      <td>1</td>\n",
       "      <td>2</td>\n",
       "      <td>0</td>\n",
       "      <td>...</td>\n",
       "      <td>8</td>\n",
       "      <td>8</td>\n",
       "      <td>5</td>\n",
       "      <td>6</td>\n",
       "      <td>0</td>\n",
       "      <td>12</td>\n",
       "      <td>13</td>\n",
       "      <td>4</td>\n",
       "      <td>11</td>\n",
       "      <td>SCYL3</td>\n",
       "    </tr>\n",
       "    <tr>\n",
       "      <th>ENSG00000000460</th>\n",
       "      <td>0</td>\n",
       "      <td>0</td>\n",
       "      <td>14</td>\n",
       "      <td>4</td>\n",
       "      <td>5</td>\n",
       "      <td>0</td>\n",
       "      <td>0</td>\n",
       "      <td>6</td>\n",
       "      <td>4</td>\n",
       "      <td>0</td>\n",
       "      <td>...</td>\n",
       "      <td>0</td>\n",
       "      <td>3</td>\n",
       "      <td>0</td>\n",
       "      <td>1</td>\n",
       "      <td>0</td>\n",
       "      <td>1</td>\n",
       "      <td>4</td>\n",
       "      <td>0</td>\n",
       "      <td>10</td>\n",
       "      <td>C1orf112</td>\n",
       "    </tr>\n",
       "    <tr>\n",
       "      <th>...</th>\n",
       "      <td>...</td>\n",
       "      <td>...</td>\n",
       "      <td>...</td>\n",
       "      <td>...</td>\n",
       "      <td>...</td>\n",
       "      <td>...</td>\n",
       "      <td>...</td>\n",
       "      <td>...</td>\n",
       "      <td>...</td>\n",
       "      <td>...</td>\n",
       "      <td>...</td>\n",
       "      <td>...</td>\n",
       "      <td>...</td>\n",
       "      <td>...</td>\n",
       "      <td>...</td>\n",
       "      <td>...</td>\n",
       "      <td>...</td>\n",
       "      <td>...</td>\n",
       "      <td>...</td>\n",
       "      <td>...</td>\n",
       "      <td>...</td>\n",
       "    </tr>\n",
       "    <tr>\n",
       "      <th>ENSG00000273489</th>\n",
       "      <td>0</td>\n",
       "      <td>0</td>\n",
       "      <td>0</td>\n",
       "      <td>2</td>\n",
       "      <td>0</td>\n",
       "      <td>1</td>\n",
       "      <td>8</td>\n",
       "      <td>0</td>\n",
       "      <td>0</td>\n",
       "      <td>0</td>\n",
       "      <td>...</td>\n",
       "      <td>0</td>\n",
       "      <td>0</td>\n",
       "      <td>0</td>\n",
       "      <td>0</td>\n",
       "      <td>0</td>\n",
       "      <td>0</td>\n",
       "      <td>0</td>\n",
       "      <td>0</td>\n",
       "      <td>0</td>\n",
       "      <td>RP11-180C16.1</td>\n",
       "    </tr>\n",
       "    <tr>\n",
       "      <th>ENSG00000273490</th>\n",
       "      <td>0</td>\n",
       "      <td>0</td>\n",
       "      <td>0</td>\n",
       "      <td>0</td>\n",
       "      <td>0</td>\n",
       "      <td>0</td>\n",
       "      <td>0</td>\n",
       "      <td>0</td>\n",
       "      <td>0</td>\n",
       "      <td>0</td>\n",
       "      <td>...</td>\n",
       "      <td>0</td>\n",
       "      <td>0</td>\n",
       "      <td>0</td>\n",
       "      <td>0</td>\n",
       "      <td>0</td>\n",
       "      <td>0</td>\n",
       "      <td>0</td>\n",
       "      <td>0</td>\n",
       "      <td>0</td>\n",
       "      <td>TSEN34</td>\n",
       "    </tr>\n",
       "    <tr>\n",
       "      <th>ENSG00000273491</th>\n",
       "      <td>0</td>\n",
       "      <td>0</td>\n",
       "      <td>0</td>\n",
       "      <td>0</td>\n",
       "      <td>0</td>\n",
       "      <td>0</td>\n",
       "      <td>0</td>\n",
       "      <td>0</td>\n",
       "      <td>0</td>\n",
       "      <td>0</td>\n",
       "      <td>...</td>\n",
       "      <td>0</td>\n",
       "      <td>0</td>\n",
       "      <td>0</td>\n",
       "      <td>0</td>\n",
       "      <td>0</td>\n",
       "      <td>0</td>\n",
       "      <td>0</td>\n",
       "      <td>0</td>\n",
       "      <td>0</td>\n",
       "      <td>RP11-138A9.2</td>\n",
       "    </tr>\n",
       "    <tr>\n",
       "      <th>ENSG00000273492</th>\n",
       "      <td>0</td>\n",
       "      <td>0</td>\n",
       "      <td>0</td>\n",
       "      <td>0</td>\n",
       "      <td>0</td>\n",
       "      <td>0</td>\n",
       "      <td>0</td>\n",
       "      <td>0</td>\n",
       "      <td>0</td>\n",
       "      <td>0</td>\n",
       "      <td>...</td>\n",
       "      <td>0</td>\n",
       "      <td>0</td>\n",
       "      <td>0</td>\n",
       "      <td>0</td>\n",
       "      <td>0</td>\n",
       "      <td>0</td>\n",
       "      <td>0</td>\n",
       "      <td>0</td>\n",
       "      <td>0</td>\n",
       "      <td>AP000230.1</td>\n",
       "    </tr>\n",
       "    <tr>\n",
       "      <th>ENSG00000273493</th>\n",
       "      <td>0</td>\n",
       "      <td>0</td>\n",
       "      <td>0</td>\n",
       "      <td>0</td>\n",
       "      <td>0</td>\n",
       "      <td>0</td>\n",
       "      <td>0</td>\n",
       "      <td>0</td>\n",
       "      <td>1</td>\n",
       "      <td>0</td>\n",
       "      <td>...</td>\n",
       "      <td>0</td>\n",
       "      <td>0</td>\n",
       "      <td>0</td>\n",
       "      <td>0</td>\n",
       "      <td>0</td>\n",
       "      <td>0</td>\n",
       "      <td>0</td>\n",
       "      <td>3</td>\n",
       "      <td>0</td>\n",
       "      <td>RP11-80H18.4</td>\n",
       "    </tr>\n",
       "  </tbody>\n",
       "</table>\n",
       "<p>63677 rows × 81 columns</p>\n",
       "</div>"
      ],
      "text/plain": [
       "                 Sample_1_preadi  Sample_2_preadi  Sample_3_preadi  \\\n",
       "Gene_ID                                                              \n",
       "ENSG00000000003               18               12                9   \n",
       "ENSG00000000005                0                0                0   \n",
       "ENSG00000000419               10                9                9   \n",
       "ENSG00000000457                0               11                0   \n",
       "ENSG00000000460                0                0               14   \n",
       "...                          ...              ...              ...   \n",
       "ENSG00000273489                0                0                0   \n",
       "ENSG00000273490                0                0                0   \n",
       "ENSG00000273491                0                0                0   \n",
       "ENSG00000273492                0                0                0   \n",
       "ENSG00000273493                0                0                0   \n",
       "\n",
       "                 Sample_4_preadi  Sample_5_preadi  Sample_6_preadi  \\\n",
       "Gene_ID                                                              \n",
       "ENSG00000000003               20                9               13   \n",
       "ENSG00000000005                2                0                0   \n",
       "ENSG00000000419                8               10               10   \n",
       "ENSG00000000457                6                2               12   \n",
       "ENSG00000000460                4                5                0   \n",
       "...                          ...              ...              ...   \n",
       "ENSG00000273489                2                0                1   \n",
       "ENSG00000273490                0                0                0   \n",
       "ENSG00000273491                0                0                0   \n",
       "ENSG00000273492                0                0                0   \n",
       "ENSG00000273493                0                0                0   \n",
       "\n",
       "                 Sample_7_preadi  Sample_8_preadi  Sample_9_preadi  \\\n",
       "Gene_ID                                                              \n",
       "ENSG00000000003               20                8                4   \n",
       "ENSG00000000005                0                0                0   \n",
       "ENSG00000000419                6               35               13   \n",
       "ENSG00000000457               11                1                2   \n",
       "ENSG00000000460                0                6                4   \n",
       "...                          ...              ...              ...   \n",
       "ENSG00000273489                8                0                0   \n",
       "ENSG00000273490                0                0                0   \n",
       "ENSG00000273491                0                0                0   \n",
       "ENSG00000273492                0                0                0   \n",
       "ENSG00000273493                0                0                1   \n",
       "\n",
       "                 Sample_10_preadi  ...  Sample_72_adipo  Sample_73_adipo  \\\n",
       "Gene_ID                            ...                                     \n",
       "ENSG00000000003                 7  ...                9               30   \n",
       "ENSG00000000005                 0  ...                1               29   \n",
       "ENSG00000000419                15  ...                9                9   \n",
       "ENSG00000000457                 0  ...                8                8   \n",
       "ENSG00000000460                 0  ...                0                3   \n",
       "...                           ...  ...              ...              ...   \n",
       "ENSG00000273489                 0  ...                0                0   \n",
       "ENSG00000273490                 0  ...                0                0   \n",
       "ENSG00000273491                 0  ...                0                0   \n",
       "ENSG00000273492                 0  ...                0                0   \n",
       "ENSG00000273493                 0  ...                0                0   \n",
       "\n",
       "                 Sample_74_adipo  Sample_75_adipo  Sample_76_adipo  \\\n",
       "Gene_ID                                                              \n",
       "ENSG00000000003                9               23               16   \n",
       "ENSG00000000005                2               22                3   \n",
       "ENSG00000000419               15                8                9   \n",
       "ENSG00000000457                5                6                0   \n",
       "ENSG00000000460                0                1                0   \n",
       "...                          ...              ...              ...   \n",
       "ENSG00000273489                0                0                0   \n",
       "ENSG00000273490                0                0                0   \n",
       "ENSG00000273491                0                0                0   \n",
       "ENSG00000273492                0                0                0   \n",
       "ENSG00000273493                0                0                0   \n",
       "\n",
       "                 Sample_77_adipo  Sample_78_adipo  Sample_79_adipo  \\\n",
       "Gene_ID                                                              \n",
       "ENSG00000000003                3               14               11   \n",
       "ENSG00000000005                0                2                0   \n",
       "ENSG00000000419                9                4               16   \n",
       "ENSG00000000457               12               13                4   \n",
       "ENSG00000000460                1                4                0   \n",
       "...                          ...              ...              ...   \n",
       "ENSG00000273489                0                0                0   \n",
       "ENSG00000273490                0                0                0   \n",
       "ENSG00000273491                0                0                0   \n",
       "ENSG00000273492                0                0                0   \n",
       "ENSG00000273493                0                0                3   \n",
       "\n",
       "                 Sample_80_adipo           Name  \n",
       "Gene_ID                                          \n",
       "ENSG00000000003               16         TSPAN6  \n",
       "ENSG00000000005                5           TNMD  \n",
       "ENSG00000000419                5           DPM1  \n",
       "ENSG00000000457               11          SCYL3  \n",
       "ENSG00000000460               10       C1orf112  \n",
       "...                          ...            ...  \n",
       "ENSG00000273489                0  RP11-180C16.1  \n",
       "ENSG00000273490                0         TSEN34  \n",
       "ENSG00000273491                0   RP11-138A9.2  \n",
       "ENSG00000273492                0     AP000230.1  \n",
       "ENSG00000273493                0   RP11-80H18.4  \n",
       "\n",
       "[63677 rows x 81 columns]"
      ]
     },
     "execution_count": 133,
     "metadata": {},
     "output_type": "execute_result"
    }
   ],
   "source": [
    "gene_annotation3 = gene_annotation.loc[transcriptomics.index,:]\n",
    "transcriptomics_annotate = pd.concat([transcriptomics, gene_annotation3.Name], axis=1)\n",
    "transcriptomics_annotate"
   ]
  },
  {
   "cell_type": "code",
   "execution_count": 134,
   "metadata": {},
   "outputs": [],
   "source": [
    "def gene_name_to_ensembl_name(gene_name):\n",
    "    return transcriptomics_annotate[transcriptomics_annotate.Name == gene_name].index[0]\n",
    "\n",
    "def ensembl_name_to_gene_name(ensembl_name):\n",
    "    return transcriptomics_annotate.loc[ensembl_name].Name\n",
    "\n",
    "def add_gene_column_to_pca_log_df(df, gene_name):   \n",
    "    ensembl_name = gene_name_to_ensembl_name(gene_name)\n",
    "    df[gene_name] = np.array(transcriptomics.loc[ensembl_name])\n",
    "    df[gene_name] = df[gene_name].astype(float)\n",
    "\n",
    "def expression_gene_plot (df, Gene_symbol):\n",
    "    add_gene_column_to_pca_log_df(df, Gene_symbol)\n",
    "    Ensembl_name = gene_name_to_ensembl_name(Gene_symbol)\n",
    "    \n",
    "    fig = plt.figure(figsize=(20,5))\n",
    "    fig.suptitle(\"Expression of the gene \" + Ensembl_name + \" of gene symbol \" +Gene_symbol )\n",
    "\n",
    "    # ax1 = fig.add_subplot(3, 2, 1, projection='3d')\n",
    "    # ax1.scatter3D(df['PCA1'], df['PCA2'], df['PCA3'], c =df[Gene_symbol], cmap=cmap)\n",
    "\n",
    "    ax1 = fig.add_subplot(1, 3, 1)\n",
    "    ax1=sns.scatterplot(data=df, x='PCA1', y='PCA2', hue=Gene_symbol, palette='CMRmap')\n",
    "    norm = plt.Normalize(df[Gene_symbol].min(), df[Gene_symbol].max())\n",
    "    sm = plt.cm.ScalarMappable(cmap=\"CMRmap\", norm=norm)\n",
    "    sm.set_array([])\n",
    "    # Remove the legend and add a colorbar\n",
    "    ax1.get_legend().remove()\n",
    "    ax1.figure.colorbar(sm)\n",
    "    \n",
    "    ax2 = fig.add_subplot(1, 3, 2)\n",
    "    ax2.set_title(\"Adipo\")\n",
    "    ax2 = sns.boxplot(data=df[df.groups == 'Adipo'], y=Gene_symbol, palette=\"RdYlGn\")\n",
    "    \n",
    "    ax3 = fig.add_subplot(1, 3, 3)\n",
    "    ax3.set_title(\"PreAdipo\")\n",
    "    ax3 = sns.boxplot(data=df[df.groups == 'PreAdipo'], y=Gene_symbol, palette=\"Purples\")\n",
    "    \n",
    "    fig.show()"
   ]
  },
  {
   "cell_type": "code",
   "execution_count": 135,
   "metadata": {},
   "outputs": [
    {
     "name": "stdout",
     "output_type": "stream",
     "text": [
      "top marker gene : ENSG00000170323\n",
      "top marker gene name : FABP4\n"
     ]
    }
   ],
   "source": [
    "#Selection of the gene that has the highest log2_fold_change (de_results previously sort)\n",
    "top_marker_gene = de_results.index[0]\n",
    "top_marker_gene\n",
    "top_marker_gene_name = ensembl_name_to_gene_name(top_marker_gene)\n",
    "print(\"top marker gene : \" + top_marker_gene +  \"\\ntop marker gene name : \" + top_marker_gene_name)"
   ]
  },
  {
   "cell_type": "code",
   "execution_count": 136,
   "metadata": {},
   "outputs": [
    {
     "name": "stderr",
     "output_type": "stream",
     "text": [
      "/tmp/ipykernel_10747/2860893196.py:39: UserWarning:\n",
      "\n",
      "Matplotlib is currently using module://matplotlib_inline.backend_inline, which is a non-GUI backend, so cannot show the figure.\n",
      "\n"
     ]
    },
    {
     "data": {
      "image/png": "[encoded data removed]",
      "text/plain": [
       "<Figure size 1440x360 with 4 Axes>"
      ]
     },
     "metadata": {
      "needs_background": "light"
     },
     "output_type": "display_data"
    }
   ],
   "source": [
    "expression_gene_plot(pca_output_log_df, top_marker_gene_name)"
   ]
  },
  {
   "attachments": {},
   "cell_type": "markdown",
   "metadata": {},
   "source": [
    "3.c)"
   ]
  },
  {
   "cell_type": "code",
   "execution_count": 137,
   "metadata": {},
   "outputs": [],
   "source": [
    "def find_ranking_DE(gene_name):\n",
    "    return list(de_results.index).index(gene_name_to_ensembl_name(gene_name)) + 1"
   ]
  },
  {
   "cell_type": "code",
   "execution_count": 138,
   "metadata": {},
   "outputs": [
    {
     "data": {
      "text/plain": [
       "1"
      ]
     },
     "execution_count": 138,
     "metadata": {},
     "output_type": "execute_result"
    }
   ],
   "source": [
    "find_ranking_DE(\"FABP4\")"
   ]
  },
  {
   "cell_type": "code",
   "execution_count": 139,
   "metadata": {},
   "outputs": [
    {
     "data": {
      "text/plain": [
       "14"
      ]
     },
     "execution_count": 139,
     "metadata": {},
     "output_type": "execute_result"
    }
   ],
   "source": [
    "find_ranking_DE(\"ADIPOQ\")"
   ]
  },
  {
   "cell_type": "code",
   "execution_count": 140,
   "metadata": {},
   "outputs": [
    {
     "data": {
      "text/plain": [
       "151"
      ]
     },
     "execution_count": 140,
     "metadata": {},
     "output_type": "execute_result"
    }
   ],
   "source": [
    "find_ranking_DE(\"PPARG\")"
   ]
  },
  {
   "cell_type": "markdown",
   "metadata": {},
   "source": [
    "What is the rank of Adipoq / Fabp4 / PParg in your list of DE genes?\n",
    "\n",
    "- Adipoq : 14 th\n",
    "- Fabp4 : 1 st\n",
    "- PParg : 151 st"
   ]
  },
  {
   "cell_type": "code",
   "execution_count": 141,
   "metadata": {},
   "outputs": [
    {
     "name": "stderr",
     "output_type": "stream",
     "text": [
      "/tmp/ipykernel_10747/2860893196.py:39: UserWarning:\n",
      "\n",
      "Matplotlib is currently using module://matplotlib_inline.backend_inline, which is a non-GUI backend, so cannot show the figure.\n",
      "\n"
     ]
    },
    {
     "data": {
      "image/png": "[encoded data removed]",
      "text/plain": [
       "<Figure size 1440x360 with 4 Axes>"
      ]
     },
     "metadata": {
      "needs_background": "light"
     },
     "output_type": "display_data"
    }
   ],
   "source": [
    "expression_gene_plot(pca_output_log_df,\"ADIPOQ\")"
   ]
  },
  {
   "cell_type": "code",
   "execution_count": 142,
   "metadata": {},
   "outputs": [
    {
     "name": "stderr",
     "output_type": "stream",
     "text": [
      "/tmp/ipykernel_10747/2860893196.py:39: UserWarning:\n",
      "\n",
      "Matplotlib is currently using module://matplotlib_inline.backend_inline, which is a non-GUI backend, so cannot show the figure.\n",
      "\n"
     ]
    },
    {
     "data": {
      "image/png": "[encoded data removed]",
      "text/plain": [
       "<Figure size 1440x360 with 4 Axes>"
      ]
     },
     "metadata": {
      "needs_background": "light"
     },
     "output_type": "display_data"
    }
   ],
   "source": [
    "expression_gene_plot(pca_output_log_df,\"PPARG\")"
   ]
  },
  {
   "attachments": {},
   "cell_type": "markdown",
   "metadata": {},
   "source": [
    "3.d)"
   ]
  },
  {
   "cell_type": "code",
   "execution_count": 146,
   "metadata": {},
   "outputs": [
    {
     "name": "stderr",
     "output_type": "stream",
     "text": [
      "/tmp/ipykernel_10747/3938452292.py:6: FutureWarning:\n",
      "\n",
      "Passing a set as an indexer is deprecated and will raise in a future version. Use a list instead.\n",
      "\n",
      "/tmp/ipykernel_10747/3938452292.py:7: FutureWarning:\n",
      "\n",
      "Passing a set as an indexer is deprecated and will raise in a future version. Use a list instead.\n",
      "\n"
     ]
    }
   ],
   "source": [
    "Adipo_samples = {i for i in dict_sample if dict_sample[i]==\"Adipo\"}\n",
    "PreAdipo_samples = {i for i in dict_sample if dict_sample[i]==\"PreAdipo\"}\n",
    "\n",
    "up_down_reg = pd.DataFrame(index = transcriptomics.index, columns = [\"log2_mean_preadipo\",\"log2_mean_adipo\",\"log2_fold_change\"])\n",
    "\n",
    "up_down_reg[\"log2_mean_preadipo\"] = np.log2(transcriptomics[PreAdipo_samples].mean(axis=1)+1)\n",
    "up_down_reg[\"log2_mean_adipo\"] = np.log2(transcriptomics[Adipo_samples].mean(axis=1)+1)\n",
    "up_down_reg[\"log2_fold_change\"] = (up_down_reg[\"log2_mean_adipo\"] - up_down_reg[\"log2_mean_preadipo\"])\n",
    "up_reg = up_down_reg.sort_values('log2_fold_change', ascending=False).iloc[:20]\n",
    "down_reg = up_down_reg.sort_values('log2_fold_change', ascending=True).iloc[:20]"
   ]
  },
  {
   "cell_type": "code",
   "execution_count": 147,
   "metadata": {},
   "outputs": [
    {
     "name": "stderr",
     "output_type": "stream",
     "text": [
      "/tmp/ipykernel_10747/4247201826.py:1: FutureWarning:\n",
      "\n",
      "Passing a set as an indexer is deprecated and will raise in a future version. Use a list instead.\n",
      "\n",
      "/tmp/ipykernel_10747/4247201826.py:3: FutureWarning:\n",
      "\n",
      "Passing a set as an indexer is deprecated and will raise in a future version. Use a list instead.\n",
      "\n"
     ]
    },
    {
     "data": {
      "text/html": [
       "<div>\n",
       "<style scoped>\n",
       "    .dataframe tbody tr th:only-of-type {\n",
       "        vertical-align: middle;\n",
       "    }\n",
       "\n",
       "    .dataframe tbody tr th {\n",
       "        vertical-align: top;\n",
       "    }\n",
       "\n",
       "    .dataframe thead th {\n",
       "        text-align: right;\n",
       "    }\n",
       "</style>\n",
       "<table border=\"1\" class=\"dataframe\">\n",
       "  <thead>\n",
       "    <tr style=\"text-align: right;\">\n",
       "      <th>Gene_ID</th>\n",
       "      <th>FABP4</th>\n",
       "      <th>APOC1</th>\n",
       "      <th>ITIH1</th>\n",
       "      <th>FAM213A</th>\n",
       "      <th>PPP1R1A</th>\n",
       "      <th>SLC2A4</th>\n",
       "      <th>LPL</th>\n",
       "      <th>AP3B2</th>\n",
       "      <th>G0S2</th>\n",
       "      <th>GPD1</th>\n",
       "      <th>...</th>\n",
       "      <th>PAFAH1B3</th>\n",
       "      <th>COL7A1</th>\n",
       "      <th>COLEC12</th>\n",
       "      <th>CCDC34</th>\n",
       "      <th>WNT7B</th>\n",
       "      <th>TROAP</th>\n",
       "      <th>MKI67</th>\n",
       "      <th>CXCL1</th>\n",
       "      <th>LYPD1</th>\n",
       "      <th>label</th>\n",
       "    </tr>\n",
       "  </thead>\n",
       "  <tbody>\n",
       "    <tr>\n",
       "      <th>Sample_12_preadi</th>\n",
       "      <td>98</td>\n",
       "      <td>192</td>\n",
       "      <td>8</td>\n",
       "      <td>13</td>\n",
       "      <td>2</td>\n",
       "      <td>8</td>\n",
       "      <td>6</td>\n",
       "      <td>0</td>\n",
       "      <td>34</td>\n",
       "      <td>19</td>\n",
       "      <td>...</td>\n",
       "      <td>70</td>\n",
       "      <td>13</td>\n",
       "      <td>44</td>\n",
       "      <td>99</td>\n",
       "      <td>5</td>\n",
       "      <td>21</td>\n",
       "      <td>24</td>\n",
       "      <td>60</td>\n",
       "      <td>7</td>\n",
       "      <td>PreAdipo</td>\n",
       "    </tr>\n",
       "    <tr>\n",
       "      <th>Sample_26_preadi</th>\n",
       "      <td>97</td>\n",
       "      <td>113</td>\n",
       "      <td>3</td>\n",
       "      <td>15</td>\n",
       "      <td>1</td>\n",
       "      <td>3</td>\n",
       "      <td>6</td>\n",
       "      <td>0</td>\n",
       "      <td>48</td>\n",
       "      <td>17</td>\n",
       "      <td>...</td>\n",
       "      <td>46</td>\n",
       "      <td>35</td>\n",
       "      <td>26</td>\n",
       "      <td>165</td>\n",
       "      <td>6</td>\n",
       "      <td>9</td>\n",
       "      <td>29</td>\n",
       "      <td>15</td>\n",
       "      <td>11</td>\n",
       "      <td>PreAdipo</td>\n",
       "    </tr>\n",
       "    <tr>\n",
       "      <th>Sample_33_preadi</th>\n",
       "      <td>88</td>\n",
       "      <td>142</td>\n",
       "      <td>2</td>\n",
       "      <td>3</td>\n",
       "      <td>2</td>\n",
       "      <td>3</td>\n",
       "      <td>12</td>\n",
       "      <td>1</td>\n",
       "      <td>41</td>\n",
       "      <td>18</td>\n",
       "      <td>...</td>\n",
       "      <td>48</td>\n",
       "      <td>35</td>\n",
       "      <td>46</td>\n",
       "      <td>144</td>\n",
       "      <td>0</td>\n",
       "      <td>11</td>\n",
       "      <td>22</td>\n",
       "      <td>15</td>\n",
       "      <td>7</td>\n",
       "      <td>PreAdipo</td>\n",
       "    </tr>\n",
       "    <tr>\n",
       "      <th>Sample_32_preadi</th>\n",
       "      <td>497</td>\n",
       "      <td>456</td>\n",
       "      <td>6</td>\n",
       "      <td>37</td>\n",
       "      <td>11</td>\n",
       "      <td>14</td>\n",
       "      <td>17</td>\n",
       "      <td>2</td>\n",
       "      <td>156</td>\n",
       "      <td>55</td>\n",
       "      <td>...</td>\n",
       "      <td>21</td>\n",
       "      <td>11</td>\n",
       "      <td>14</td>\n",
       "      <td>83</td>\n",
       "      <td>2</td>\n",
       "      <td>2</td>\n",
       "      <td>6</td>\n",
       "      <td>0</td>\n",
       "      <td>23</td>\n",
       "      <td>PreAdipo</td>\n",
       "    </tr>\n",
       "    <tr>\n",
       "      <th>Sample_4_preadi</th>\n",
       "      <td>107</td>\n",
       "      <td>158</td>\n",
       "      <td>4</td>\n",
       "      <td>15</td>\n",
       "      <td>0</td>\n",
       "      <td>0</td>\n",
       "      <td>7</td>\n",
       "      <td>0</td>\n",
       "      <td>40</td>\n",
       "      <td>24</td>\n",
       "      <td>...</td>\n",
       "      <td>38</td>\n",
       "      <td>32</td>\n",
       "      <td>56</td>\n",
       "      <td>124</td>\n",
       "      <td>5</td>\n",
       "      <td>15</td>\n",
       "      <td>83</td>\n",
       "      <td>36</td>\n",
       "      <td>8</td>\n",
       "      <td>PreAdipo</td>\n",
       "    </tr>\n",
       "    <tr>\n",
       "      <th>...</th>\n",
       "      <td>...</td>\n",
       "      <td>...</td>\n",
       "      <td>...</td>\n",
       "      <td>...</td>\n",
       "      <td>...</td>\n",
       "      <td>...</td>\n",
       "      <td>...</td>\n",
       "      <td>...</td>\n",
       "      <td>...</td>\n",
       "      <td>...</td>\n",
       "      <td>...</td>\n",
       "      <td>...</td>\n",
       "      <td>...</td>\n",
       "      <td>...</td>\n",
       "      <td>...</td>\n",
       "      <td>...</td>\n",
       "      <td>...</td>\n",
       "      <td>...</td>\n",
       "      <td>...</td>\n",
       "      <td>...</td>\n",
       "      <td>...</td>\n",
       "    </tr>\n",
       "    <tr>\n",
       "      <th>Sample_45_adipo</th>\n",
       "      <td>7107</td>\n",
       "      <td>9615</td>\n",
       "      <td>221</td>\n",
       "      <td>339</td>\n",
       "      <td>102</td>\n",
       "      <td>86</td>\n",
       "      <td>542</td>\n",
       "      <td>113</td>\n",
       "      <td>2805</td>\n",
       "      <td>818</td>\n",
       "      <td>...</td>\n",
       "      <td>9</td>\n",
       "      <td>0</td>\n",
       "      <td>0</td>\n",
       "      <td>28</td>\n",
       "      <td>0</td>\n",
       "      <td>0</td>\n",
       "      <td>0</td>\n",
       "      <td>4</td>\n",
       "      <td>0</td>\n",
       "      <td>Adipo</td>\n",
       "    </tr>\n",
       "    <tr>\n",
       "      <th>Sample_78_adipo</th>\n",
       "      <td>7983</td>\n",
       "      <td>18094</td>\n",
       "      <td>293</td>\n",
       "      <td>975</td>\n",
       "      <td>184</td>\n",
       "      <td>463</td>\n",
       "      <td>437</td>\n",
       "      <td>88</td>\n",
       "      <td>3428</td>\n",
       "      <td>2027</td>\n",
       "      <td>...</td>\n",
       "      <td>4</td>\n",
       "      <td>5</td>\n",
       "      <td>3</td>\n",
       "      <td>20</td>\n",
       "      <td>1</td>\n",
       "      <td>3</td>\n",
       "      <td>3</td>\n",
       "      <td>3</td>\n",
       "      <td>3</td>\n",
       "      <td>Adipo</td>\n",
       "    </tr>\n",
       "    <tr>\n",
       "      <th>Sample_73_adipo</th>\n",
       "      <td>13964</td>\n",
       "      <td>11194</td>\n",
       "      <td>273</td>\n",
       "      <td>541</td>\n",
       "      <td>145</td>\n",
       "      <td>123</td>\n",
       "      <td>599</td>\n",
       "      <td>122</td>\n",
       "      <td>4833</td>\n",
       "      <td>1107</td>\n",
       "      <td>...</td>\n",
       "      <td>2</td>\n",
       "      <td>0</td>\n",
       "      <td>0</td>\n",
       "      <td>9</td>\n",
       "      <td>0</td>\n",
       "      <td>2</td>\n",
       "      <td>6</td>\n",
       "      <td>0</td>\n",
       "      <td>0</td>\n",
       "      <td>Adipo</td>\n",
       "    </tr>\n",
       "    <tr>\n",
       "      <th>Sample_46_adipo</th>\n",
       "      <td>4696</td>\n",
       "      <td>4068</td>\n",
       "      <td>72</td>\n",
       "      <td>175</td>\n",
       "      <td>79</td>\n",
       "      <td>57</td>\n",
       "      <td>134</td>\n",
       "      <td>27</td>\n",
       "      <td>1126</td>\n",
       "      <td>412</td>\n",
       "      <td>...</td>\n",
       "      <td>4</td>\n",
       "      <td>1</td>\n",
       "      <td>0</td>\n",
       "      <td>12</td>\n",
       "      <td>0</td>\n",
       "      <td>0</td>\n",
       "      <td>0</td>\n",
       "      <td>3</td>\n",
       "      <td>0</td>\n",
       "      <td>Adipo</td>\n",
       "    </tr>\n",
       "    <tr>\n",
       "      <th>Sample_56_adipo</th>\n",
       "      <td>11865</td>\n",
       "      <td>9758</td>\n",
       "      <td>440</td>\n",
       "      <td>637</td>\n",
       "      <td>169</td>\n",
       "      <td>443</td>\n",
       "      <td>489</td>\n",
       "      <td>195</td>\n",
       "      <td>4275</td>\n",
       "      <td>1134</td>\n",
       "      <td>...</td>\n",
       "      <td>6</td>\n",
       "      <td>0</td>\n",
       "      <td>15</td>\n",
       "      <td>17</td>\n",
       "      <td>0</td>\n",
       "      <td>2</td>\n",
       "      <td>3</td>\n",
       "      <td>4</td>\n",
       "      <td>4</td>\n",
       "      <td>Adipo</td>\n",
       "    </tr>\n",
       "  </tbody>\n",
       "</table>\n",
       "<p>80 rows × 41 columns</p>\n",
       "</div>"
      ],
      "text/plain": [
       "Gene_ID           FABP4  APOC1  ITIH1  FAM213A  PPP1R1A  SLC2A4  LPL  AP3B2  \\\n",
       "Sample_12_preadi     98    192      8       13        2       8    6      0   \n",
       "Sample_26_preadi     97    113      3       15        1       3    6      0   \n",
       "Sample_33_preadi     88    142      2        3        2       3   12      1   \n",
       "Sample_32_preadi    497    456      6       37       11      14   17      2   \n",
       "Sample_4_preadi     107    158      4       15        0       0    7      0   \n",
       "...                 ...    ...    ...      ...      ...     ...  ...    ...   \n",
       "Sample_45_adipo    7107   9615    221      339      102      86  542    113   \n",
       "Sample_78_adipo    7983  18094    293      975      184     463  437     88   \n",
       "Sample_73_adipo   13964  11194    273      541      145     123  599    122   \n",
       "Sample_46_adipo    4696   4068     72      175       79      57  134     27   \n",
       "Sample_56_adipo   11865   9758    440      637      169     443  489    195   \n",
       "\n",
       "Gene_ID           G0S2  GPD1  ...  PAFAH1B3  COL7A1  COLEC12  CCDC34  WNT7B  \\\n",
       "Sample_12_preadi    34    19  ...        70      13       44      99      5   \n",
       "Sample_26_preadi    48    17  ...        46      35       26     165      6   \n",
       "Sample_33_preadi    41    18  ...        48      35       46     144      0   \n",
       "Sample_32_preadi   156    55  ...        21      11       14      83      2   \n",
       "Sample_4_preadi     40    24  ...        38      32       56     124      5   \n",
       "...                ...   ...  ...       ...     ...      ...     ...    ...   \n",
       "Sample_45_adipo   2805   818  ...         9       0        0      28      0   \n",
       "Sample_78_adipo   3428  2027  ...         4       5        3      20      1   \n",
       "Sample_73_adipo   4833  1107  ...         2       0        0       9      0   \n",
       "Sample_46_adipo   1126   412  ...         4       1        0      12      0   \n",
       "Sample_56_adipo   4275  1134  ...         6       0       15      17      0   \n",
       "\n",
       "Gene_ID           TROAP  MKI67  CXCL1  LYPD1     label  \n",
       "Sample_12_preadi     21     24     60      7  PreAdipo  \n",
       "Sample_26_preadi      9     29     15     11  PreAdipo  \n",
       "Sample_33_preadi     11     22     15      7  PreAdipo  \n",
       "Sample_32_preadi      2      6      0     23  PreAdipo  \n",
       "Sample_4_preadi      15     83     36      8  PreAdipo  \n",
       "...                 ...    ...    ...    ...       ...  \n",
       "Sample_45_adipo       0      0      4      0     Adipo  \n",
       "Sample_78_adipo       3      3      3      3     Adipo  \n",
       "Sample_73_adipo       2      6      0      0     Adipo  \n",
       "Sample_46_adipo       0      0      3      0     Adipo  \n",
       "Sample_56_adipo       2      3      4      4     Adipo  \n",
       "\n",
       "[80 rows x 41 columns]"
      ]
     },
     "execution_count": 147,
     "metadata": {},
     "output_type": "execute_result"
    }
   ],
   "source": [
    "preadipo = transcriptomics[PreAdipo_samples].T[list(up_reg.index) + list(down_reg.index)]\n",
    "preadipo['label'] = 40*['PreAdipo']\n",
    "adipo = transcriptomics[Adipo_samples].T[list(up_reg.index) + list(down_reg.index)]\n",
    "adipo['label'] = 40*['Adipo']\n",
    "cluster_df = pd.concat([preadipo, adipo], axis = 0)\n",
    "genes = [ensembl_name_to_gene_name(name) for name in preadipo.columns[:-1]]\n",
    "cluster_df.rename(columns = dict(zip(list(preadipo.columns[:-1]),  genes)), inplace = True)\n",
    "cluster_df"
   ]
  },
  {
   "cell_type": "code",
   "execution_count": 148,
   "metadata": {},
   "outputs": [
    {
     "data": {
      "text/plain": [
       "<matplotlib.legend.Legend at 0x7f9dcb42ba60>"
      ]
     },
     "execution_count": 148,
     "metadata": {},
     "output_type": "execute_result"
    },
    {
     "data": {
      "image/png": "[encoded data removed]",
      "text/plain": [
       "<Figure size 720x720 with 5 Axes>"
      ]
     },
     "metadata": {
      "needs_background": "light"
     },
     "output_type": "display_data"
    }
   ],
   "source": [
    "labels = cluster_df.pop(\"label\")\n",
    "lut = dict(zip(labels.unique(), [\"indigo\", \"plum\"]))\n",
    "row_colors = labels.map(lut)\n",
    "sns.clustermap(cluster_df.iloc[:,:-1], standard_scale=1, row_colors=row_colors, metric = \"correlation\", cbar_kws = {\"label\": \"Standardized gene expression\"}, xticklabels=True, yticklabels= False)\n",
    "legend_elements = [Patch(facecolor='indigo',\n",
    "                         label='PreAdipo'),\n",
    "                   Patch(facecolor='pink',\n",
    "                         label='Adipo')]\n",
    "\n",
    "plt.legend(handles=legend_elements, loc = \"center\", bbox_to_anchor = (1,-2.5))"
   ]
  },
  {
   "attachments": {},
   "cell_type": "markdown",
   "metadata": {},
   "source": [
    "4. Functional enrichment (Bonus)"
   ]
  },
  {
   "cell_type": "code",
   "execution_count": 84,
   "metadata": {},
   "outputs": [
    {
     "ename": "SyntaxError",
     "evalue": "invalid syntax (3075749113.py, line 1)",
     "output_type": "error",
     "traceback": [
      "\u001b[0;36m  Input \u001b[0;32mIn [84]\u001b[0;36m\u001b[0m\n\u001b[0;31m    contingency_table =\u001b[0m\n\u001b[0m                        ^\u001b[0m\n\u001b[0;31mSyntaxError\u001b[0m\u001b[0;31m:\u001b[0m invalid syntax\n"
     ]
    }
   ],
   "source": [
    "contingency_table = "
   ]
  }
 ],
 "metadata": {
  "kernelspec": {
   "display_name": "Python 3.9.12 ('base')",
   "language": "python",
   "name": "python3"
  },
  "language_info": {
   "codemirror_mode": {
    "name": "ipython",
    "version": 3
   },
   "file_extension": ".py",
   "mimetype": "text/x-python",
   "name": "python",
   "nbconvert_exporter": "python",
   "pygments_lexer": "ipython3",
   "version": "3.9.12"
  },
  "orig_nbformat": 4,
  "vscode": {
   "interpreter": {
    "hash": "c0051bf15e6f5eb8fc38ebe6dca754a8fad5e89bb348636e1a79e96b02f6ad09"
   }
  }
 },
 "nbformat": 4,
 "nbformat_minor": 2
}
