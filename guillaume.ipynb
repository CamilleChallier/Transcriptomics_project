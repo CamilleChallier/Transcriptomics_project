{
 "cells": [
  {
   "cell_type": "code",
   "execution_count": 1,
   "metadata": {},
   "outputs": [],
   "source": [
    "import pandas as pd\n",
    "import numpy as np\n",
    "import os\n",
    "import matplotlib.pyplot as plt\n",
    "import seaborn as sns\n",
    "import plotly.express as px\n",
    "from sklearn.decomposition import PCA\n",
    "from scipy.stats import ttest_ind\n",
    "from statsmodels.stats.multitest import fdrcorrection, multipletests\n",
    "import statsmodels"
   ]
  },
  {
   "cell_type": "markdown",
   "metadata": {},
   "source": [
    "### 1. Load and visualize the data"
   ]
  },
  {
   "cell_type": "markdown",
   "metadata": {},
   "source": [
    "a) "
   ]
  },
  {
   "cell_type": "code",
   "execution_count": 2,
   "metadata": {},
   "outputs": [],
   "source": [
    "core_path = './data'\n",
    "transcriptomics = pd.read_csv( os.path.join(core_path, 'transcriptomics.dataset.txt'),sep= \"\\t\")"
   ]
  },
  {
   "cell_type": "code",
   "execution_count": 3,
   "metadata": {},
   "outputs": [],
   "source": [
    "transcriptomics.rename(columns = {\"Unnamed: 0\":'Gene_ID'}, inplace=True)\n",
    "transcriptomics.index = transcriptomics[\"Gene_ID\"]\n",
    "transcriptomics.drop(columns = ['Gene_ID'], inplace=True)"
   ]
  },
  {
   "cell_type": "markdown",
   "metadata": {},
   "source": [
    "What is the size of the matrix ?"
   ]
  },
  {
   "cell_type": "markdown",
   "metadata": {},
   "source": [
    "63677 genes and 80 samples : matrix size 63677*80"
   ]
  },
  {
   "cell_type": "markdown",
   "metadata": {},
   "source": [
    "b) What type of data do you have? Normalized or raw read counts (integer)?"
   ]
  },
  {
   "cell_type": "markdown",
   "metadata": {},
   "source": [
    "number of transcripts, raw read counts"
   ]
  },
  {
   "cell_type": "markdown",
   "metadata": {},
   "source": [
    "c)"
   ]
  },
  {
   "cell_type": "code",
   "execution_count": 4,
   "metadata": {},
   "outputs": [],
   "source": [
    "dict_sample = {}\n",
    "for idx, sample in enumerate(transcriptomics.columns.values) :\n",
    "    if ( sample == \"Sample_{}_preadi\".format(idx+1) ):\n",
    "        #dict_sample[\"Sample_{}\".format(idx+1)]=\"PreAdipo\"\n",
    "        dict_sample[sample]=\"PreAdipo\"\n",
    "    else :\n",
    "        dict_sample[sample]=\"Adipo\"\n",
    "        "
   ]
  },
  {
   "cell_type": "code",
   "execution_count": 5,
   "metadata": {},
   "outputs": [
    {
     "data": {
      "text/html": [
       "<div>\n",
       "<style scoped>\n",
       "    .dataframe tbody tr th:only-of-type {\n",
       "        vertical-align: middle;\n",
       "    }\n",
       "\n",
       "    .dataframe tbody tr th {\n",
       "        vertical-align: top;\n",
       "    }\n",
       "\n",
       "    .dataframe thead th {\n",
       "        text-align: right;\n",
       "    }\n",
       "</style>\n",
       "<table border=\"1\" class=\"dataframe\">\n",
       "  <thead>\n",
       "    <tr style=\"text-align: right;\">\n",
       "      <th></th>\n",
       "      <th>Sample_1_preadi</th>\n",
       "      <th>Sample_2_preadi</th>\n",
       "      <th>Sample_3_preadi</th>\n",
       "      <th>Sample_4_preadi</th>\n",
       "      <th>Sample_5_preadi</th>\n",
       "      <th>Sample_6_preadi</th>\n",
       "      <th>Sample_7_preadi</th>\n",
       "      <th>Sample_8_preadi</th>\n",
       "      <th>Sample_9_preadi</th>\n",
       "      <th>Sample_10_preadi</th>\n",
       "      <th>...</th>\n",
       "      <th>Sample_71_adipo</th>\n",
       "      <th>Sample_72_adipo</th>\n",
       "      <th>Sample_73_adipo</th>\n",
       "      <th>Sample_74_adipo</th>\n",
       "      <th>Sample_75_adipo</th>\n",
       "      <th>Sample_76_adipo</th>\n",
       "      <th>Sample_77_adipo</th>\n",
       "      <th>Sample_78_adipo</th>\n",
       "      <th>Sample_79_adipo</th>\n",
       "      <th>Sample_80_adipo</th>\n",
       "    </tr>\n",
       "    <tr>\n",
       "      <th>Gene_ID</th>\n",
       "      <th></th>\n",
       "      <th></th>\n",
       "      <th></th>\n",
       "      <th></th>\n",
       "      <th></th>\n",
       "      <th></th>\n",
       "      <th></th>\n",
       "      <th></th>\n",
       "      <th></th>\n",
       "      <th></th>\n",
       "      <th></th>\n",
       "      <th></th>\n",
       "      <th></th>\n",
       "      <th></th>\n",
       "      <th></th>\n",
       "      <th></th>\n",
       "      <th></th>\n",
       "      <th></th>\n",
       "      <th></th>\n",
       "      <th></th>\n",
       "      <th></th>\n",
       "    </tr>\n",
       "  </thead>\n",
       "  <tbody>\n",
       "    <tr>\n",
       "      <th>ENSG00000000003</th>\n",
       "      <td>18</td>\n",
       "      <td>12</td>\n",
       "      <td>9</td>\n",
       "      <td>20</td>\n",
       "      <td>9</td>\n",
       "      <td>13</td>\n",
       "      <td>20</td>\n",
       "      <td>8</td>\n",
       "      <td>4</td>\n",
       "      <td>7</td>\n",
       "      <td>...</td>\n",
       "      <td>9</td>\n",
       "      <td>9</td>\n",
       "      <td>30</td>\n",
       "      <td>9</td>\n",
       "      <td>23</td>\n",
       "      <td>16</td>\n",
       "      <td>3</td>\n",
       "      <td>14</td>\n",
       "      <td>11</td>\n",
       "      <td>16</td>\n",
       "    </tr>\n",
       "    <tr>\n",
       "      <th>ENSG00000000005</th>\n",
       "      <td>0</td>\n",
       "      <td>0</td>\n",
       "      <td>0</td>\n",
       "      <td>2</td>\n",
       "      <td>0</td>\n",
       "      <td>0</td>\n",
       "      <td>0</td>\n",
       "      <td>0</td>\n",
       "      <td>0</td>\n",
       "      <td>0</td>\n",
       "      <td>...</td>\n",
       "      <td>0</td>\n",
       "      <td>1</td>\n",
       "      <td>29</td>\n",
       "      <td>2</td>\n",
       "      <td>22</td>\n",
       "      <td>3</td>\n",
       "      <td>0</td>\n",
       "      <td>2</td>\n",
       "      <td>0</td>\n",
       "      <td>5</td>\n",
       "    </tr>\n",
       "    <tr>\n",
       "      <th>ENSG00000000419</th>\n",
       "      <td>10</td>\n",
       "      <td>9</td>\n",
       "      <td>9</td>\n",
       "      <td>8</td>\n",
       "      <td>10</td>\n",
       "      <td>10</td>\n",
       "      <td>6</td>\n",
       "      <td>35</td>\n",
       "      <td>13</td>\n",
       "      <td>15</td>\n",
       "      <td>...</td>\n",
       "      <td>3</td>\n",
       "      <td>9</td>\n",
       "      <td>9</td>\n",
       "      <td>15</td>\n",
       "      <td>8</td>\n",
       "      <td>9</td>\n",
       "      <td>9</td>\n",
       "      <td>4</td>\n",
       "      <td>16</td>\n",
       "      <td>5</td>\n",
       "    </tr>\n",
       "    <tr>\n",
       "      <th>ENSG00000000457</th>\n",
       "      <td>0</td>\n",
       "      <td>11</td>\n",
       "      <td>0</td>\n",
       "      <td>6</td>\n",
       "      <td>2</td>\n",
       "      <td>12</td>\n",
       "      <td>11</td>\n",
       "      <td>1</td>\n",
       "      <td>2</td>\n",
       "      <td>0</td>\n",
       "      <td>...</td>\n",
       "      <td>9</td>\n",
       "      <td>8</td>\n",
       "      <td>8</td>\n",
       "      <td>5</td>\n",
       "      <td>6</td>\n",
       "      <td>0</td>\n",
       "      <td>12</td>\n",
       "      <td>13</td>\n",
       "      <td>4</td>\n",
       "      <td>11</td>\n",
       "    </tr>\n",
       "    <tr>\n",
       "      <th>ENSG00000000460</th>\n",
       "      <td>0</td>\n",
       "      <td>0</td>\n",
       "      <td>14</td>\n",
       "      <td>4</td>\n",
       "      <td>5</td>\n",
       "      <td>0</td>\n",
       "      <td>0</td>\n",
       "      <td>6</td>\n",
       "      <td>4</td>\n",
       "      <td>0</td>\n",
       "      <td>...</td>\n",
       "      <td>0</td>\n",
       "      <td>0</td>\n",
       "      <td>3</td>\n",
       "      <td>0</td>\n",
       "      <td>1</td>\n",
       "      <td>0</td>\n",
       "      <td>1</td>\n",
       "      <td>4</td>\n",
       "      <td>0</td>\n",
       "      <td>10</td>\n",
       "    </tr>\n",
       "    <tr>\n",
       "      <th>...</th>\n",
       "      <td>...</td>\n",
       "      <td>...</td>\n",
       "      <td>...</td>\n",
       "      <td>...</td>\n",
       "      <td>...</td>\n",
       "      <td>...</td>\n",
       "      <td>...</td>\n",
       "      <td>...</td>\n",
       "      <td>...</td>\n",
       "      <td>...</td>\n",
       "      <td>...</td>\n",
       "      <td>...</td>\n",
       "      <td>...</td>\n",
       "      <td>...</td>\n",
       "      <td>...</td>\n",
       "      <td>...</td>\n",
       "      <td>...</td>\n",
       "      <td>...</td>\n",
       "      <td>...</td>\n",
       "      <td>...</td>\n",
       "      <td>...</td>\n",
       "    </tr>\n",
       "    <tr>\n",
       "      <th>ENSG00000273489</th>\n",
       "      <td>0</td>\n",
       "      <td>0</td>\n",
       "      <td>0</td>\n",
       "      <td>2</td>\n",
       "      <td>0</td>\n",
       "      <td>1</td>\n",
       "      <td>8</td>\n",
       "      <td>0</td>\n",
       "      <td>0</td>\n",
       "      <td>0</td>\n",
       "      <td>...</td>\n",
       "      <td>0</td>\n",
       "      <td>0</td>\n",
       "      <td>0</td>\n",
       "      <td>0</td>\n",
       "      <td>0</td>\n",
       "      <td>0</td>\n",
       "      <td>0</td>\n",
       "      <td>0</td>\n",
       "      <td>0</td>\n",
       "      <td>0</td>\n",
       "    </tr>\n",
       "    <tr>\n",
       "      <th>ENSG00000273490</th>\n",
       "      <td>0</td>\n",
       "      <td>0</td>\n",
       "      <td>0</td>\n",
       "      <td>0</td>\n",
       "      <td>0</td>\n",
       "      <td>0</td>\n",
       "      <td>0</td>\n",
       "      <td>0</td>\n",
       "      <td>0</td>\n",
       "      <td>0</td>\n",
       "      <td>...</td>\n",
       "      <td>0</td>\n",
       "      <td>0</td>\n",
       "      <td>0</td>\n",
       "      <td>0</td>\n",
       "      <td>0</td>\n",
       "      <td>0</td>\n",
       "      <td>0</td>\n",
       "      <td>0</td>\n",
       "      <td>0</td>\n",
       "      <td>0</td>\n",
       "    </tr>\n",
       "    <tr>\n",
       "      <th>ENSG00000273491</th>\n",
       "      <td>0</td>\n",
       "      <td>0</td>\n",
       "      <td>0</td>\n",
       "      <td>0</td>\n",
       "      <td>0</td>\n",
       "      <td>0</td>\n",
       "      <td>0</td>\n",
       "      <td>0</td>\n",
       "      <td>0</td>\n",
       "      <td>0</td>\n",
       "      <td>...</td>\n",
       "      <td>0</td>\n",
       "      <td>0</td>\n",
       "      <td>0</td>\n",
       "      <td>0</td>\n",
       "      <td>0</td>\n",
       "      <td>0</td>\n",
       "      <td>0</td>\n",
       "      <td>0</td>\n",
       "      <td>0</td>\n",
       "      <td>0</td>\n",
       "    </tr>\n",
       "    <tr>\n",
       "      <th>ENSG00000273492</th>\n",
       "      <td>0</td>\n",
       "      <td>0</td>\n",
       "      <td>0</td>\n",
       "      <td>0</td>\n",
       "      <td>0</td>\n",
       "      <td>0</td>\n",
       "      <td>0</td>\n",
       "      <td>0</td>\n",
       "      <td>0</td>\n",
       "      <td>0</td>\n",
       "      <td>...</td>\n",
       "      <td>0</td>\n",
       "      <td>0</td>\n",
       "      <td>0</td>\n",
       "      <td>0</td>\n",
       "      <td>0</td>\n",
       "      <td>0</td>\n",
       "      <td>0</td>\n",
       "      <td>0</td>\n",
       "      <td>0</td>\n",
       "      <td>0</td>\n",
       "    </tr>\n",
       "    <tr>\n",
       "      <th>ENSG00000273493</th>\n",
       "      <td>0</td>\n",
       "      <td>0</td>\n",
       "      <td>0</td>\n",
       "      <td>0</td>\n",
       "      <td>0</td>\n",
       "      <td>0</td>\n",
       "      <td>0</td>\n",
       "      <td>0</td>\n",
       "      <td>1</td>\n",
       "      <td>0</td>\n",
       "      <td>...</td>\n",
       "      <td>0</td>\n",
       "      <td>0</td>\n",
       "      <td>0</td>\n",
       "      <td>0</td>\n",
       "      <td>0</td>\n",
       "      <td>0</td>\n",
       "      <td>0</td>\n",
       "      <td>0</td>\n",
       "      <td>3</td>\n",
       "      <td>0</td>\n",
       "    </tr>\n",
       "  </tbody>\n",
       "</table>\n",
       "<p>63677 rows × 80 columns</p>\n",
       "</div>"
      ],
      "text/plain": [
       "                 Sample_1_preadi  Sample_2_preadi  Sample_3_preadi  \\\n",
       "Gene_ID                                                              \n",
       "ENSG00000000003               18               12                9   \n",
       "ENSG00000000005                0                0                0   \n",
       "ENSG00000000419               10                9                9   \n",
       "ENSG00000000457                0               11                0   \n",
       "ENSG00000000460                0                0               14   \n",
       "...                          ...              ...              ...   \n",
       "ENSG00000273489                0                0                0   \n",
       "ENSG00000273490                0                0                0   \n",
       "ENSG00000273491                0                0                0   \n",
       "ENSG00000273492                0                0                0   \n",
       "ENSG00000273493                0                0                0   \n",
       "\n",
       "                 Sample_4_preadi  Sample_5_preadi  Sample_6_preadi  \\\n",
       "Gene_ID                                                              \n",
       "ENSG00000000003               20                9               13   \n",
       "ENSG00000000005                2                0                0   \n",
       "ENSG00000000419                8               10               10   \n",
       "ENSG00000000457                6                2               12   \n",
       "ENSG00000000460                4                5                0   \n",
       "...                          ...              ...              ...   \n",
       "ENSG00000273489                2                0                1   \n",
       "ENSG00000273490                0                0                0   \n",
       "ENSG00000273491                0                0                0   \n",
       "ENSG00000273492                0                0                0   \n",
       "ENSG00000273493                0                0                0   \n",
       "\n",
       "                 Sample_7_preadi  Sample_8_preadi  Sample_9_preadi  \\\n",
       "Gene_ID                                                              \n",
       "ENSG00000000003               20                8                4   \n",
       "ENSG00000000005                0                0                0   \n",
       "ENSG00000000419                6               35               13   \n",
       "ENSG00000000457               11                1                2   \n",
       "ENSG00000000460                0                6                4   \n",
       "...                          ...              ...              ...   \n",
       "ENSG00000273489                8                0                0   \n",
       "ENSG00000273490                0                0                0   \n",
       "ENSG00000273491                0                0                0   \n",
       "ENSG00000273492                0                0                0   \n",
       "ENSG00000273493                0                0                1   \n",
       "\n",
       "                 Sample_10_preadi  ...  Sample_71_adipo  Sample_72_adipo  \\\n",
       "Gene_ID                            ...                                     \n",
       "ENSG00000000003                 7  ...                9                9   \n",
       "ENSG00000000005                 0  ...                0                1   \n",
       "ENSG00000000419                15  ...                3                9   \n",
       "ENSG00000000457                 0  ...                9                8   \n",
       "ENSG00000000460                 0  ...                0                0   \n",
       "...                           ...  ...              ...              ...   \n",
       "ENSG00000273489                 0  ...                0                0   \n",
       "ENSG00000273490                 0  ...                0                0   \n",
       "ENSG00000273491                 0  ...                0                0   \n",
       "ENSG00000273492                 0  ...                0                0   \n",
       "ENSG00000273493                 0  ...                0                0   \n",
       "\n",
       "                 Sample_73_adipo  Sample_74_adipo  Sample_75_adipo  \\\n",
       "Gene_ID                                                              \n",
       "ENSG00000000003               30                9               23   \n",
       "ENSG00000000005               29                2               22   \n",
       "ENSG00000000419                9               15                8   \n",
       "ENSG00000000457                8                5                6   \n",
       "ENSG00000000460                3                0                1   \n",
       "...                          ...              ...              ...   \n",
       "ENSG00000273489                0                0                0   \n",
       "ENSG00000273490                0                0                0   \n",
       "ENSG00000273491                0                0                0   \n",
       "ENSG00000273492                0                0                0   \n",
       "ENSG00000273493                0                0                0   \n",
       "\n",
       "                 Sample_76_adipo  Sample_77_adipo  Sample_78_adipo  \\\n",
       "Gene_ID                                                              \n",
       "ENSG00000000003               16                3               14   \n",
       "ENSG00000000005                3                0                2   \n",
       "ENSG00000000419                9                9                4   \n",
       "ENSG00000000457                0               12               13   \n",
       "ENSG00000000460                0                1                4   \n",
       "...                          ...              ...              ...   \n",
       "ENSG00000273489                0                0                0   \n",
       "ENSG00000273490                0                0                0   \n",
       "ENSG00000273491                0                0                0   \n",
       "ENSG00000273492                0                0                0   \n",
       "ENSG00000273493                0                0                0   \n",
       "\n",
       "                 Sample_79_adipo  Sample_80_adipo  \n",
       "Gene_ID                                            \n",
       "ENSG00000000003               11               16  \n",
       "ENSG00000000005                0                5  \n",
       "ENSG00000000419               16                5  \n",
       "ENSG00000000457                4               11  \n",
       "ENSG00000000460                0               10  \n",
       "...                          ...              ...  \n",
       "ENSG00000273489                0                0  \n",
       "ENSG00000273490                0                0  \n",
       "ENSG00000273491                0                0  \n",
       "ENSG00000273492                0                0  \n",
       "ENSG00000273493                3                0  \n",
       "\n",
       "[63677 rows x 80 columns]"
      ]
     },
     "execution_count": 5,
     "metadata": {},
     "output_type": "execute_result"
    }
   ],
   "source": [
    "transcriptomics"
   ]
  },
  {
   "cell_type": "markdown",
   "metadata": {},
   "source": [
    "d)"
   ]
  },
  {
   "cell_type": "code",
   "execution_count": 6,
   "metadata": {},
   "outputs": [],
   "source": [
    "transcriptomics = transcriptomics.loc[(transcriptomics != 0).any(axis=1),:]"
   ]
  },
  {
   "cell_type": "code",
   "execution_count": 7,
   "metadata": {},
   "outputs": [
    {
     "data": {
      "text/html": [
       "<div>\n",
       "<style scoped>\n",
       "    .dataframe tbody tr th:only-of-type {\n",
       "        vertical-align: middle;\n",
       "    }\n",
       "\n",
       "    .dataframe tbody tr th {\n",
       "        vertical-align: top;\n",
       "    }\n",
       "\n",
       "    .dataframe thead th {\n",
       "        text-align: right;\n",
       "    }\n",
       "</style>\n",
       "<table border=\"1\" class=\"dataframe\">\n",
       "  <thead>\n",
       "    <tr style=\"text-align: right;\">\n",
       "      <th></th>\n",
       "      <th>Sample_1_preadi</th>\n",
       "      <th>Sample_2_preadi</th>\n",
       "      <th>Sample_3_preadi</th>\n",
       "      <th>Sample_4_preadi</th>\n",
       "      <th>Sample_5_preadi</th>\n",
       "      <th>Sample_6_preadi</th>\n",
       "      <th>Sample_7_preadi</th>\n",
       "      <th>Sample_8_preadi</th>\n",
       "      <th>Sample_9_preadi</th>\n",
       "      <th>Sample_10_preadi</th>\n",
       "      <th>...</th>\n",
       "      <th>Sample_71_adipo</th>\n",
       "      <th>Sample_72_adipo</th>\n",
       "      <th>Sample_73_adipo</th>\n",
       "      <th>Sample_74_adipo</th>\n",
       "      <th>Sample_75_adipo</th>\n",
       "      <th>Sample_76_adipo</th>\n",
       "      <th>Sample_77_adipo</th>\n",
       "      <th>Sample_78_adipo</th>\n",
       "      <th>Sample_79_adipo</th>\n",
       "      <th>Sample_80_adipo</th>\n",
       "    </tr>\n",
       "    <tr>\n",
       "      <th>Gene_ID</th>\n",
       "      <th></th>\n",
       "      <th></th>\n",
       "      <th></th>\n",
       "      <th></th>\n",
       "      <th></th>\n",
       "      <th></th>\n",
       "      <th></th>\n",
       "      <th></th>\n",
       "      <th></th>\n",
       "      <th></th>\n",
       "      <th></th>\n",
       "      <th></th>\n",
       "      <th></th>\n",
       "      <th></th>\n",
       "      <th></th>\n",
       "      <th></th>\n",
       "      <th></th>\n",
       "      <th></th>\n",
       "      <th></th>\n",
       "      <th></th>\n",
       "      <th></th>\n",
       "    </tr>\n",
       "  </thead>\n",
       "  <tbody>\n",
       "    <tr>\n",
       "      <th>ENSG00000000003</th>\n",
       "      <td>18</td>\n",
       "      <td>12</td>\n",
       "      <td>9</td>\n",
       "      <td>20</td>\n",
       "      <td>9</td>\n",
       "      <td>13</td>\n",
       "      <td>20</td>\n",
       "      <td>8</td>\n",
       "      <td>4</td>\n",
       "      <td>7</td>\n",
       "      <td>...</td>\n",
       "      <td>9</td>\n",
       "      <td>9</td>\n",
       "      <td>30</td>\n",
       "      <td>9</td>\n",
       "      <td>23</td>\n",
       "      <td>16</td>\n",
       "      <td>3</td>\n",
       "      <td>14</td>\n",
       "      <td>11</td>\n",
       "      <td>16</td>\n",
       "    </tr>\n",
       "    <tr>\n",
       "      <th>ENSG00000000005</th>\n",
       "      <td>0</td>\n",
       "      <td>0</td>\n",
       "      <td>0</td>\n",
       "      <td>2</td>\n",
       "      <td>0</td>\n",
       "      <td>0</td>\n",
       "      <td>0</td>\n",
       "      <td>0</td>\n",
       "      <td>0</td>\n",
       "      <td>0</td>\n",
       "      <td>...</td>\n",
       "      <td>0</td>\n",
       "      <td>1</td>\n",
       "      <td>29</td>\n",
       "      <td>2</td>\n",
       "      <td>22</td>\n",
       "      <td>3</td>\n",
       "      <td>0</td>\n",
       "      <td>2</td>\n",
       "      <td>0</td>\n",
       "      <td>5</td>\n",
       "    </tr>\n",
       "    <tr>\n",
       "      <th>ENSG00000000419</th>\n",
       "      <td>10</td>\n",
       "      <td>9</td>\n",
       "      <td>9</td>\n",
       "      <td>8</td>\n",
       "      <td>10</td>\n",
       "      <td>10</td>\n",
       "      <td>6</td>\n",
       "      <td>35</td>\n",
       "      <td>13</td>\n",
       "      <td>15</td>\n",
       "      <td>...</td>\n",
       "      <td>3</td>\n",
       "      <td>9</td>\n",
       "      <td>9</td>\n",
       "      <td>15</td>\n",
       "      <td>8</td>\n",
       "      <td>9</td>\n",
       "      <td>9</td>\n",
       "      <td>4</td>\n",
       "      <td>16</td>\n",
       "      <td>5</td>\n",
       "    </tr>\n",
       "    <tr>\n",
       "      <th>ENSG00000000457</th>\n",
       "      <td>0</td>\n",
       "      <td>11</td>\n",
       "      <td>0</td>\n",
       "      <td>6</td>\n",
       "      <td>2</td>\n",
       "      <td>12</td>\n",
       "      <td>11</td>\n",
       "      <td>1</td>\n",
       "      <td>2</td>\n",
       "      <td>0</td>\n",
       "      <td>...</td>\n",
       "      <td>9</td>\n",
       "      <td>8</td>\n",
       "      <td>8</td>\n",
       "      <td>5</td>\n",
       "      <td>6</td>\n",
       "      <td>0</td>\n",
       "      <td>12</td>\n",
       "      <td>13</td>\n",
       "      <td>4</td>\n",
       "      <td>11</td>\n",
       "    </tr>\n",
       "    <tr>\n",
       "      <th>ENSG00000000460</th>\n",
       "      <td>0</td>\n",
       "      <td>0</td>\n",
       "      <td>14</td>\n",
       "      <td>4</td>\n",
       "      <td>5</td>\n",
       "      <td>0</td>\n",
       "      <td>0</td>\n",
       "      <td>6</td>\n",
       "      <td>4</td>\n",
       "      <td>0</td>\n",
       "      <td>...</td>\n",
       "      <td>0</td>\n",
       "      <td>0</td>\n",
       "      <td>3</td>\n",
       "      <td>0</td>\n",
       "      <td>1</td>\n",
       "      <td>0</td>\n",
       "      <td>1</td>\n",
       "      <td>4</td>\n",
       "      <td>0</td>\n",
       "      <td>10</td>\n",
       "    </tr>\n",
       "    <tr>\n",
       "      <th>...</th>\n",
       "      <td>...</td>\n",
       "      <td>...</td>\n",
       "      <td>...</td>\n",
       "      <td>...</td>\n",
       "      <td>...</td>\n",
       "      <td>...</td>\n",
       "      <td>...</td>\n",
       "      <td>...</td>\n",
       "      <td>...</td>\n",
       "      <td>...</td>\n",
       "      <td>...</td>\n",
       "      <td>...</td>\n",
       "      <td>...</td>\n",
       "      <td>...</td>\n",
       "      <td>...</td>\n",
       "      <td>...</td>\n",
       "      <td>...</td>\n",
       "      <td>...</td>\n",
       "      <td>...</td>\n",
       "      <td>...</td>\n",
       "      <td>...</td>\n",
       "    </tr>\n",
       "    <tr>\n",
       "      <th>ENSG00000273485</th>\n",
       "      <td>0</td>\n",
       "      <td>0</td>\n",
       "      <td>0</td>\n",
       "      <td>1</td>\n",
       "      <td>0</td>\n",
       "      <td>5</td>\n",
       "      <td>0</td>\n",
       "      <td>0</td>\n",
       "      <td>0</td>\n",
       "      <td>0</td>\n",
       "      <td>...</td>\n",
       "      <td>0</td>\n",
       "      <td>0</td>\n",
       "      <td>0</td>\n",
       "      <td>0</td>\n",
       "      <td>0</td>\n",
       "      <td>12</td>\n",
       "      <td>0</td>\n",
       "      <td>0</td>\n",
       "      <td>0</td>\n",
       "      <td>0</td>\n",
       "    </tr>\n",
       "    <tr>\n",
       "      <th>ENSG00000273486</th>\n",
       "      <td>0</td>\n",
       "      <td>0</td>\n",
       "      <td>0</td>\n",
       "      <td>0</td>\n",
       "      <td>1</td>\n",
       "      <td>0</td>\n",
       "      <td>0</td>\n",
       "      <td>0</td>\n",
       "      <td>0</td>\n",
       "      <td>0</td>\n",
       "      <td>...</td>\n",
       "      <td>0</td>\n",
       "      <td>2</td>\n",
       "      <td>0</td>\n",
       "      <td>3</td>\n",
       "      <td>0</td>\n",
       "      <td>2</td>\n",
       "      <td>5</td>\n",
       "      <td>1</td>\n",
       "      <td>0</td>\n",
       "      <td>0</td>\n",
       "    </tr>\n",
       "    <tr>\n",
       "      <th>ENSG00000273487</th>\n",
       "      <td>0</td>\n",
       "      <td>0</td>\n",
       "      <td>0</td>\n",
       "      <td>0</td>\n",
       "      <td>0</td>\n",
       "      <td>0</td>\n",
       "      <td>0</td>\n",
       "      <td>0</td>\n",
       "      <td>0</td>\n",
       "      <td>0</td>\n",
       "      <td>...</td>\n",
       "      <td>0</td>\n",
       "      <td>0</td>\n",
       "      <td>0</td>\n",
       "      <td>0</td>\n",
       "      <td>0</td>\n",
       "      <td>0</td>\n",
       "      <td>0</td>\n",
       "      <td>0</td>\n",
       "      <td>0</td>\n",
       "      <td>0</td>\n",
       "    </tr>\n",
       "    <tr>\n",
       "      <th>ENSG00000273489</th>\n",
       "      <td>0</td>\n",
       "      <td>0</td>\n",
       "      <td>0</td>\n",
       "      <td>2</td>\n",
       "      <td>0</td>\n",
       "      <td>1</td>\n",
       "      <td>8</td>\n",
       "      <td>0</td>\n",
       "      <td>0</td>\n",
       "      <td>0</td>\n",
       "      <td>...</td>\n",
       "      <td>0</td>\n",
       "      <td>0</td>\n",
       "      <td>0</td>\n",
       "      <td>0</td>\n",
       "      <td>0</td>\n",
       "      <td>0</td>\n",
       "      <td>0</td>\n",
       "      <td>0</td>\n",
       "      <td>0</td>\n",
       "      <td>0</td>\n",
       "    </tr>\n",
       "    <tr>\n",
       "      <th>ENSG00000273493</th>\n",
       "      <td>0</td>\n",
       "      <td>0</td>\n",
       "      <td>0</td>\n",
       "      <td>0</td>\n",
       "      <td>0</td>\n",
       "      <td>0</td>\n",
       "      <td>0</td>\n",
       "      <td>0</td>\n",
       "      <td>1</td>\n",
       "      <td>0</td>\n",
       "      <td>...</td>\n",
       "      <td>0</td>\n",
       "      <td>0</td>\n",
       "      <td>0</td>\n",
       "      <td>0</td>\n",
       "      <td>0</td>\n",
       "      <td>0</td>\n",
       "      <td>0</td>\n",
       "      <td>0</td>\n",
       "      <td>3</td>\n",
       "      <td>0</td>\n",
       "    </tr>\n",
       "  </tbody>\n",
       "</table>\n",
       "<p>30238 rows × 80 columns</p>\n",
       "</div>"
      ],
      "text/plain": [
       "                 Sample_1_preadi  Sample_2_preadi  Sample_3_preadi  \\\n",
       "Gene_ID                                                              \n",
       "ENSG00000000003               18               12                9   \n",
       "ENSG00000000005                0                0                0   \n",
       "ENSG00000000419               10                9                9   \n",
       "ENSG00000000457                0               11                0   \n",
       "ENSG00000000460                0                0               14   \n",
       "...                          ...              ...              ...   \n",
       "ENSG00000273485                0                0                0   \n",
       "ENSG00000273486                0                0                0   \n",
       "ENSG00000273487                0                0                0   \n",
       "ENSG00000273489                0                0                0   \n",
       "ENSG00000273493                0                0                0   \n",
       "\n",
       "                 Sample_4_preadi  Sample_5_preadi  Sample_6_preadi  \\\n",
       "Gene_ID                                                              \n",
       "ENSG00000000003               20                9               13   \n",
       "ENSG00000000005                2                0                0   \n",
       "ENSG00000000419                8               10               10   \n",
       "ENSG00000000457                6                2               12   \n",
       "ENSG00000000460                4                5                0   \n",
       "...                          ...              ...              ...   \n",
       "ENSG00000273485                1                0                5   \n",
       "ENSG00000273486                0                1                0   \n",
       "ENSG00000273487                0                0                0   \n",
       "ENSG00000273489                2                0                1   \n",
       "ENSG00000273493                0                0                0   \n",
       "\n",
       "                 Sample_7_preadi  Sample_8_preadi  Sample_9_preadi  \\\n",
       "Gene_ID                                                              \n",
       "ENSG00000000003               20                8                4   \n",
       "ENSG00000000005                0                0                0   \n",
       "ENSG00000000419                6               35               13   \n",
       "ENSG00000000457               11                1                2   \n",
       "ENSG00000000460                0                6                4   \n",
       "...                          ...              ...              ...   \n",
       "ENSG00000273485                0                0                0   \n",
       "ENSG00000273486                0                0                0   \n",
       "ENSG00000273487                0                0                0   \n",
       "ENSG00000273489                8                0                0   \n",
       "ENSG00000273493                0                0                1   \n",
       "\n",
       "                 Sample_10_preadi  ...  Sample_71_adipo  Sample_72_adipo  \\\n",
       "Gene_ID                            ...                                     \n",
       "ENSG00000000003                 7  ...                9                9   \n",
       "ENSG00000000005                 0  ...                0                1   \n",
       "ENSG00000000419                15  ...                3                9   \n",
       "ENSG00000000457                 0  ...                9                8   \n",
       "ENSG00000000460                 0  ...                0                0   \n",
       "...                           ...  ...              ...              ...   \n",
       "ENSG00000273485                 0  ...                0                0   \n",
       "ENSG00000273486                 0  ...                0                2   \n",
       "ENSG00000273487                 0  ...                0                0   \n",
       "ENSG00000273489                 0  ...                0                0   \n",
       "ENSG00000273493                 0  ...                0                0   \n",
       "\n",
       "                 Sample_73_adipo  Sample_74_adipo  Sample_75_adipo  \\\n",
       "Gene_ID                                                              \n",
       "ENSG00000000003               30                9               23   \n",
       "ENSG00000000005               29                2               22   \n",
       "ENSG00000000419                9               15                8   \n",
       "ENSG00000000457                8                5                6   \n",
       "ENSG00000000460                3                0                1   \n",
       "...                          ...              ...              ...   \n",
       "ENSG00000273485                0                0                0   \n",
       "ENSG00000273486                0                3                0   \n",
       "ENSG00000273487                0                0                0   \n",
       "ENSG00000273489                0                0                0   \n",
       "ENSG00000273493                0                0                0   \n",
       "\n",
       "                 Sample_76_adipo  Sample_77_adipo  Sample_78_adipo  \\\n",
       "Gene_ID                                                              \n",
       "ENSG00000000003               16                3               14   \n",
       "ENSG00000000005                3                0                2   \n",
       "ENSG00000000419                9                9                4   \n",
       "ENSG00000000457                0               12               13   \n",
       "ENSG00000000460                0                1                4   \n",
       "...                          ...              ...              ...   \n",
       "ENSG00000273485               12                0                0   \n",
       "ENSG00000273486                2                5                1   \n",
       "ENSG00000273487                0                0                0   \n",
       "ENSG00000273489                0                0                0   \n",
       "ENSG00000273493                0                0                0   \n",
       "\n",
       "                 Sample_79_adipo  Sample_80_adipo  \n",
       "Gene_ID                                            \n",
       "ENSG00000000003               11               16  \n",
       "ENSG00000000005                0                5  \n",
       "ENSG00000000419               16                5  \n",
       "ENSG00000000457                4               11  \n",
       "ENSG00000000460                0               10  \n",
       "...                          ...              ...  \n",
       "ENSG00000273485                0                0  \n",
       "ENSG00000273486                0                0  \n",
       "ENSG00000273487                0                0  \n",
       "ENSG00000273489                0                0  \n",
       "ENSG00000273493                3                0  \n",
       "\n",
       "[30238 rows x 80 columns]"
      ]
     },
     "execution_count": 7,
     "metadata": {},
     "output_type": "execute_result"
    }
   ],
   "source": [
    "transcriptomics"
   ]
  },
  {
   "cell_type": "markdown",
   "metadata": {},
   "source": [
    "e)"
   ]
  },
  {
   "cell_type": "code",
   "execution_count": 8,
   "metadata": {},
   "outputs": [
    {
     "data": {
      "text/plain": [
       "True"
      ]
     },
     "execution_count": 8,
     "metadata": {},
     "output_type": "execute_result"
    }
   ],
   "source": [
    "(transcriptomics.sum() == 1e6).all()"
   ]
  },
  {
   "cell_type": "code",
   "execution_count": 9,
   "metadata": {},
   "outputs": [
    {
     "data": {
      "image/png": "[encoded data removed]",
      "text/plain": [
       "<Figure size 1440x720 with 1 Axes>"
      ]
     },
     "metadata": {
      "needs_background": "light"
     },
     "output_type": "display_data"
    }
   ],
   "source": [
    "depth = pd.DataFrame({'Samples':list(range(0,80)), 'depth':transcriptomics.sum()})\n",
    "plt.figure(figsize=(20,10))\n",
    "ax =sns.barplot( data=depth, y='depth', x=\"Samples\")"
   ]
  },
  {
   "cell_type": "markdown",
   "metadata": {},
   "source": [
    "Do not need to normalized"
   ]
  },
  {
   "cell_type": "markdown",
   "metadata": {},
   "source": [
    "f)"
   ]
  },
  {
   "cell_type": "code",
   "execution_count": 10,
   "metadata": {},
   "outputs": [
    {
     "data": {
      "application/vnd.plotly.v1+json": {
       "config": {
        "plotlyServerURL": "https://plot.ly"
       },
       "data": [
        {
         "hovertemplate": "groups=PreAdipo<br>PCA1=%{x}<br>PCA2=%{y}<br>PCA3=%{z}<extra></extra>",
         "legendgroup": "PreAdipo",
         "marker": {
          "color": "#636efa",
          "symbol": "circle"
         },
         "mode": "markers",
         "name": "PreAdipo",
         "scene": "scene",
         "showlegend": true,
         "type": "scatter3d",
         "x": [
          59744.20487486384,
          -36447.50255004795,
          -15666.397485666928,
          -22423.413306603645,
          -15830.729625471624,
          -17332.667723431266,
          -12955.303774635118,
          -6793.369551946869,
          -38277.9160833167,
          7533.754251075792,
          12136.69413447774,
          -8674.68504886239,
          -13743.502268817367,
          -3823.192789156798,
          -26862.92502996952,
          -20949.27590531629,
          100.46620410437014,
          14153.02786432931,
          -18104.223937926294,
          -19679.392308106275,
          -21930.660054985514,
          -20557.36055326806,
          -19819.94360989576,
          -16877.796159424393,
          -19060.358388341323,
          -27097.13055498967,
          -27237.65589572316,
          -15548.502302760446,
          975.0945234179115,
          2447.3361996276967,
          -27137.592455098285,
          -14665.737411881059,
          -4912.153744272383,
          -19399.05182091876,
          5677.757574148707,
          222.53846634716987,
          -21312.391064609452,
          -17697.628157703497,
          -19136.854282519318,
          -5107.956773698221
         ],
         "y": [
          5181.484207279657,
          11214.46955146532,
          -7873.272341364932,
          -20027.140990296793,
          -13797.002922133792,
          -3597.1800412012026,
          14041.820704478327,
          -16810.34531551247,
          3570.94470117758,
          9691.262731453622,
          -12752.484044746383,
          -18356.715174296914,
          -6222.812426911329,
          -20290.913315276786,
          -19717.963044769025,
          -16902.647454803147,
          -16815.850844682616,
          -5007.125421409498,
          -262.3659737189478,
          -13609.73974281862,
          -2584.568141256579,
          -16718.39663859789,
          -10361.694943143348,
          -25571.45964781616,
          30299.382955632853,
          13888.191538375519,
          -17274.405760917703,
          -24198.477156505087,
          -19830.051019646846,
          8865.518644955335,
          23345.719463316822,
          19074.587971051547,
          -4432.788581224051,
          -22451.848103364267,
          -2563.7925415427785,
          -3215.3812897663097,
          -8996.693560014843,
          10553.342367703826,
          -29585.876536315216,
          -16192.53222637313
         ],
         "z": [
          34953.67319385139,
          6564.207381040271,
          3183.16523803805,
          -15412.563779790293,
          -8727.933106136814,
          2525.941050817509,
          15781.996739875674,
          3527.7035737438478,
          -6783.304498017158,
          26837.30822417138,
          18027.177043347278,
          6641.195236862966,
          14444.900761362549,
          4782.257096399874,
          -7147.891608301527,
          -841.2817067612867,
          16422.979307524267,
          25362.598603004746,
          -4885.658971542857,
          -3265.3293950542106,
          11806.558777662653,
          4520.238492128096,
          -5042.802487202222,
          7260.86061016292,
          6163.046222034899,
          -1571.4321487644836,
          -16448.095458911263,
          13797.70773395913,
          11598.755546077133,
          26836.484500366172,
          7694.887240348322,
          15510.193538691303,
          3138.8300370406982,
          -3300.298402778307,
          16169.582721523528,
          19613.78569761165,
          -5086.666842807947,
          12100.413081769266,
          -6968.774935794268,
          1401.494724565778
         ]
        },
        {
         "hovertemplate": "groups=Adipo<br>PCA1=%{x}<br>PCA2=%{y}<br>PCA3=%{z}<extra></extra>",
         "legendgroup": "Adipo",
         "marker": {
          "color": "#EF553B",
          "symbol": "circle"
         },
         "mode": "markers",
         "name": "Adipo",
         "scene": "scene",
         "showlegend": true,
         "type": "scatter3d",
         "x": [
          19182.9836066025,
          36821.61962364275,
          31058.721202798857,
          -5371.825310895098,
          30748.774478412804,
          28368.44766120412,
          -194.96070040207064,
          18732.173107838695,
          54855.70260918238,
          11348.213163266904,
          -27480.95162471919,
          -20259.821285716298,
          533.8487953007909,
          3635.9346487050498,
          72278.57264525005,
          45723.35350368418,
          -31910.386775500338,
          43759.442927717915,
          17327.521387951612,
          -23198.11148737583,
          -6584.728976739536,
          4904.440778771492,
          -28571.185287606528,
          -3436.1771606477296,
          15726.24581279841,
          6858.917857019003,
          35228.16427971711,
          13276.792248782456,
          -2399.932522612534,
          27136.282535575403,
          -6336.925733156154,
          -5853.258820026081,
          18653.507279559562,
          15629.231660801257,
          47002.21644424805,
          39830.374617712056,
          44353.4547882957,
          -2515.045934498332,
          -23979.41358160574,
          -22809.81593636622
         ],
         "y": [
          22856.862039326657,
          4323.415183007079,
          -4590.180382839363,
          2020.861172118578,
          -9236.424686545104,
          -7349.032857327857,
          -7870.582508018432,
          7297.532101292876,
          6340.011538557037,
          3537.0853559096827,
          13309.652146565708,
          28378.460199161425,
          -1284.9706611667418,
          22985.806763252553,
          3022.323151849309,
          4164.866712706217,
          37097.62802378496,
          8979.62924594038,
          -5850.235907983002,
          32896.14461922696,
          5122.01667499372,
          -8300.692287210002,
          17492.86367414514,
          1453.6160263568165,
          2301.566645359501,
          -7864.483210205955,
          760.7498092900673,
          4570.822508843358,
          7135.6464899732,
          -10884.204511007641,
          9892.72515491486,
          1047.5955256117147,
          -9750.767561757599,
          -6457.210005998184,
          9746.196903603499,
          16913.116446769134,
          -2109.8281064747657,
          2289.387447495103,
          32201.099005909102,
          19705.732484106167
         ],
         "z": [
          -5510.235095140342,
          -6010.654238492344,
          4071.226801403962,
          -5554.025883094148,
          1112.1698730777919,
          15266.097939823354,
          -15288.412637389783,
          -18381.16558666961,
          -9613.841736894921,
          -19590.393667349814,
          -11326.972768074287,
          -88.24917676794749,
          853.3559566396069,
          -11953.53027715319,
          774.2370534999941,
          -3726.0280086650346,
          -4561.825460075397,
          -4340.635521221345,
          1481.4544345197057,
          1880.563784380227,
          -8555.932897587982,
          3162.1629172469843,
          -139.91801757850143,
          -16316.01284492103,
          -28522.280432580177,
          -581.7589528378105,
          -9247.558804884156,
          -7136.199427316006,
          -2899.2123222222376,
          -15069.436207047609,
          -522.1420787543101,
          -2521.319761397461,
          -14678.951262549637,
          -12126.886439471755,
          -1171.5425925097975,
          2542.1992139754802,
          -14291.751795575856,
          -29504.06511464767,
          -2077.782790384603,
          -1020.6552074314421
         ]
        }
       ],
       "layout": {
        "legend": {
         "title": {
          "text": "groups"
         },
         "tracegroupgap": 0
        },
        "margin": {
         "t": 60
        },
        "scene": {
         "domain": {
          "x": [
           0,
           1
          ],
          "y": [
           0,
           1
          ]
         },
         "xaxis": {
          "title": {
           "text": "PCA1"
          }
         },
         "yaxis": {
          "title": {
           "text": "PCA2"
          }
         },
         "zaxis": {
          "title": {
           "text": "PCA3"
          }
         }
        },
        "template": {
         "data": {
          "bar": [
           {
            "error_x": {
             "color": "#2a3f5f"
            },
            "error_y": {
             "color": "#2a3f5f"
            },
            "marker": {
             "line": {
              "color": "#E5ECF6",
              "width": 0.5
             },
             "pattern": {
              "fillmode": "overlay",
              "size": 10,
              "solidity": 0.2
             }
            },
            "type": "bar"
           }
          ],
          "barpolar": [
           {
            "marker": {
             "line": {
              "color": "#E5ECF6",
              "width": 0.5
             },
             "pattern": {
              "fillmode": "overlay",
              "size": 10,
              "solidity": 0.2
             }
            },
            "type": "barpolar"
           }
          ],
          "carpet": [
           {
            "aaxis": {
             "endlinecolor": "#2a3f5f",
             "gridcolor": "white",
             "linecolor": "white",
             "minorgridcolor": "white",
             "startlinecolor": "#2a3f5f"
            },
            "baxis": {
             "endlinecolor": "#2a3f5f",
             "gridcolor": "white",
             "linecolor": "white",
             "minorgridcolor": "white",
             "startlinecolor": "#2a3f5f"
            },
            "type": "carpet"
           }
          ],
          "choropleth": [
           {
            "colorbar": {
             "outlinewidth": 0,
             "ticks": ""
            },
            "type": "choropleth"
           }
          ],
          "contour": [
           {
            "colorbar": {
             "outlinewidth": 0,
             "ticks": ""
            },
            "colorscale": [
             [
              0,
              "#0d0887"
             ],
             [
              0.1111111111111111,
              "#46039f"
             ],
             [
              0.2222222222222222,
              "#7201a8"
             ],
             [
              0.3333333333333333,
              "#9c179e"
             ],
             [
              0.4444444444444444,
              "#bd3786"
             ],
             [
              0.5555555555555556,
              "#d8576b"
             ],
             [
              0.6666666666666666,
              "#ed7953"
             ],
             [
              0.7777777777777778,
              "#fb9f3a"
             ],
             [
              0.8888888888888888,
              "#fdca26"
             ],
             [
              1,
              "#f0f921"
             ]
            ],
            "type": "contour"
           }
          ],
          "contourcarpet": [
           {
            "colorbar": {
             "outlinewidth": 0,
             "ticks": ""
            },
            "type": "contourcarpet"
           }
          ],
          "heatmap": [
           {
            "colorbar": {
             "outlinewidth": 0,
             "ticks": ""
            },
            "colorscale": [
             [
              0,
              "#0d0887"
             ],
             [
              0.1111111111111111,
              "#46039f"
             ],
             [
              0.2222222222222222,
              "#7201a8"
             ],
             [
              0.3333333333333333,
              "#9c179e"
             ],
             [
              0.4444444444444444,
              "#bd3786"
             ],
             [
              0.5555555555555556,
              "#d8576b"
             ],
             [
              0.6666666666666666,
              "#ed7953"
             ],
             [
              0.7777777777777778,
              "#fb9f3a"
             ],
             [
              0.8888888888888888,
              "#fdca26"
             ],
             [
              1,
              "#f0f921"
             ]
            ],
            "type": "heatmap"
           }
          ],
          "heatmapgl": [
           {
            "colorbar": {
             "outlinewidth": 0,
             "ticks": ""
            },
            "colorscale": [
             [
              0,
              "#0d0887"
             ],
             [
              0.1111111111111111,
              "#46039f"
             ],
             [
              0.2222222222222222,
              "#7201a8"
             ],
             [
              0.3333333333333333,
              "#9c179e"
             ],
             [
              0.4444444444444444,
              "#bd3786"
             ],
             [
              0.5555555555555556,
              "#d8576b"
             ],
             [
              0.6666666666666666,
              "#ed7953"
             ],
             [
              0.7777777777777778,
              "#fb9f3a"
             ],
             [
              0.8888888888888888,
              "#fdca26"
             ],
             [
              1,
              "#f0f921"
             ]
            ],
            "type": "heatmapgl"
           }
          ],
          "histogram": [
           {
            "marker": {
             "pattern": {
              "fillmode": "overlay",
              "size": 10,
              "solidity": 0.2
             }
            },
            "type": "histogram"
           }
          ],
          "histogram2d": [
           {
            "colorbar": {
             "outlinewidth": 0,
             "ticks": ""
            },
            "colorscale": [
             [
              0,
              "#0d0887"
             ],
             [
              0.1111111111111111,
              "#46039f"
             ],
             [
              0.2222222222222222,
              "#7201a8"
             ],
             [
              0.3333333333333333,
              "#9c179e"
             ],
             [
              0.4444444444444444,
              "#bd3786"
             ],
             [
              0.5555555555555556,
              "#d8576b"
             ],
             [
              0.6666666666666666,
              "#ed7953"
             ],
             [
              0.7777777777777778,
              "#fb9f3a"
             ],
             [
              0.8888888888888888,
              "#fdca26"
             ],
             [
              1,
              "#f0f921"
             ]
            ],
            "type": "histogram2d"
           }
          ],
          "histogram2dcontour": [
           {
            "colorbar": {
             "outlinewidth": 0,
             "ticks": ""
            },
            "colorscale": [
             [
              0,
              "#0d0887"
             ],
             [
              0.1111111111111111,
              "#46039f"
             ],
             [
              0.2222222222222222,
              "#7201a8"
             ],
             [
              0.3333333333333333,
              "#9c179e"
             ],
             [
              0.4444444444444444,
              "#bd3786"
             ],
             [
              0.5555555555555556,
              "#d8576b"
             ],
             [
              0.6666666666666666,
              "#ed7953"
             ],
             [
              0.7777777777777778,
              "#fb9f3a"
             ],
             [
              0.8888888888888888,
              "#fdca26"
             ],
             [
              1,
              "#f0f921"
             ]
            ],
            "type": "histogram2dcontour"
           }
          ],
          "mesh3d": [
           {
            "colorbar": {
             "outlinewidth": 0,
             "ticks": ""
            },
            "type": "mesh3d"
           }
          ],
          "parcoords": [
           {
            "line": {
             "colorbar": {
              "outlinewidth": 0,
              "ticks": ""
             }
            },
            "type": "parcoords"
           }
          ],
          "pie": [
           {
            "automargin": true,
            "type": "pie"
           }
          ],
          "scatter": [
           {
            "fillpattern": {
             "fillmode": "overlay",
             "size": 10,
             "solidity": 0.2
            },
            "type": "scatter"
           }
          ],
          "scatter3d": [
           {
            "line": {
             "colorbar": {
              "outlinewidth": 0,
              "ticks": ""
             }
            },
            "marker": {
             "colorbar": {
              "outlinewidth": 0,
              "ticks": ""
             }
            },
            "type": "scatter3d"
           }
          ],
          "scattercarpet": [
           {
            "marker": {
             "colorbar": {
              "outlinewidth": 0,
              "ticks": ""
             }
            },
            "type": "scattercarpet"
           }
          ],
          "scattergeo": [
           {
            "marker": {
             "colorbar": {
              "outlinewidth": 0,
              "ticks": ""
             }
            },
            "type": "scattergeo"
           }
          ],
          "scattergl": [
           {
            "marker": {
             "colorbar": {
              "outlinewidth": 0,
              "ticks": ""
             }
            },
            "type": "scattergl"
           }
          ],
          "scattermapbox": [
           {
            "marker": {
             "colorbar": {
              "outlinewidth": 0,
              "ticks": ""
             }
            },
            "type": "scattermapbox"
           }
          ],
          "scatterpolar": [
           {
            "marker": {
             "colorbar": {
              "outlinewidth": 0,
              "ticks": ""
             }
            },
            "type": "scatterpolar"
           }
          ],
          "scatterpolargl": [
           {
            "marker": {
             "colorbar": {
              "outlinewidth": 0,
              "ticks": ""
             }
            },
            "type": "scatterpolargl"
           }
          ],
          "scatterternary": [
           {
            "marker": {
             "colorbar": {
              "outlinewidth": 0,
              "ticks": ""
             }
            },
            "type": "scatterternary"
           }
          ],
          "surface": [
           {
            "colorbar": {
             "outlinewidth": 0,
             "ticks": ""
            },
            "colorscale": [
             [
              0,
              "#0d0887"
             ],
             [
              0.1111111111111111,
              "#46039f"
             ],
             [
              0.2222222222222222,
              "#7201a8"
             ],
             [
              0.3333333333333333,
              "#9c179e"
             ],
             [
              0.4444444444444444,
              "#bd3786"
             ],
             [
              0.5555555555555556,
              "#d8576b"
             ],
             [
              0.6666666666666666,
              "#ed7953"
             ],
             [
              0.7777777777777778,
              "#fb9f3a"
             ],
             [
              0.8888888888888888,
              "#fdca26"
             ],
             [
              1,
              "#f0f921"
             ]
            ],
            "type": "surface"
           }
          ],
          "table": [
           {
            "cells": {
             "fill": {
              "color": "#EBF0F8"
             },
             "line": {
              "color": "white"
             }
            },
            "header": {
             "fill": {
              "color": "#C8D4E3"
             },
             "line": {
              "color": "white"
             }
            },
            "type": "table"
           }
          ]
         },
         "layout": {
          "annotationdefaults": {
           "arrowcolor": "#2a3f5f",
           "arrowhead": 0,
           "arrowwidth": 1
          },
          "autotypenumbers": "strict",
          "coloraxis": {
           "colorbar": {
            "outlinewidth": 0,
            "ticks": ""
           }
          },
          "colorscale": {
           "diverging": [
            [
             0,
             "#8e0152"
            ],
            [
             0.1,
             "#c51b7d"
            ],
            [
             0.2,
             "#de77ae"
            ],
            [
             0.3,
             "#f1b6da"
            ],
            [
             0.4,
             "#fde0ef"
            ],
            [
             0.5,
             "#f7f7f7"
            ],
            [
             0.6,
             "#e6f5d0"
            ],
            [
             0.7,
             "#b8e186"
            ],
            [
             0.8,
             "#7fbc41"
            ],
            [
             0.9,
             "#4d9221"
            ],
            [
             1,
             "#276419"
            ]
           ],
           "sequential": [
            [
             0,
             "#0d0887"
            ],
            [
             0.1111111111111111,
             "#46039f"
            ],
            [
             0.2222222222222222,
             "#7201a8"
            ],
            [
             0.3333333333333333,
             "#9c179e"
            ],
            [
             0.4444444444444444,
             "#bd3786"
            ],
            [
             0.5555555555555556,
             "#d8576b"
            ],
            [
             0.6666666666666666,
             "#ed7953"
            ],
            [
             0.7777777777777778,
             "#fb9f3a"
            ],
            [
             0.8888888888888888,
             "#fdca26"
            ],
            [
             1,
             "#f0f921"
            ]
           ],
           "sequentialminus": [
            [
             0,
             "#0d0887"
            ],
            [
             0.1111111111111111,
             "#46039f"
            ],
            [
             0.2222222222222222,
             "#7201a8"
            ],
            [
             0.3333333333333333,
             "#9c179e"
            ],
            [
             0.4444444444444444,
             "#bd3786"
            ],
            [
             0.5555555555555556,
             "#d8576b"
            ],
            [
             0.6666666666666666,
             "#ed7953"
            ],
            [
             0.7777777777777778,
             "#fb9f3a"
            ],
            [
             0.8888888888888888,
             "#fdca26"
            ],
            [
             1,
             "#f0f921"
            ]
           ]
          },
          "colorway": [
           "#636efa",
           "#EF553B",
           "#00cc96",
           "#ab63fa",
           "#FFA15A",
           "#19d3f3",
           "#FF6692",
           "#B6E880",
           "#FF97FF",
           "#FECB52"
          ],
          "font": {
           "color": "#2a3f5f"
          },
          "geo": {
           "bgcolor": "white",
           "lakecolor": "white",
           "landcolor": "#E5ECF6",
           "showlakes": true,
           "showland": true,
           "subunitcolor": "white"
          },
          "hoverlabel": {
           "align": "left"
          },
          "hovermode": "closest",
          "mapbox": {
           "style": "light"
          },
          "paper_bgcolor": "white",
          "plot_bgcolor": "#E5ECF6",
          "polar": {
           "angularaxis": {
            "gridcolor": "white",
            "linecolor": "white",
            "ticks": ""
           },
           "bgcolor": "#E5ECF6",
           "radialaxis": {
            "gridcolor": "white",
            "linecolor": "white",
            "ticks": ""
           }
          },
          "scene": {
           "xaxis": {
            "backgroundcolor": "#E5ECF6",
            "gridcolor": "white",
            "gridwidth": 2,
            "linecolor": "white",
            "showbackground": true,
            "ticks": "",
            "zerolinecolor": "white"
           },
           "yaxis": {
            "backgroundcolor": "#E5ECF6",
            "gridcolor": "white",
            "gridwidth": 2,
            "linecolor": "white",
            "showbackground": true,
            "ticks": "",
            "zerolinecolor": "white"
           },
           "zaxis": {
            "backgroundcolor": "#E5ECF6",
            "gridcolor": "white",
            "gridwidth": 2,
            "linecolor": "white",
            "showbackground": true,
            "ticks": "",
            "zerolinecolor": "white"
           }
          },
          "shapedefaults": {
           "line": {
            "color": "#2a3f5f"
           }
          },
          "ternary": {
           "aaxis": {
            "gridcolor": "white",
            "linecolor": "white",
            "ticks": ""
           },
           "baxis": {
            "gridcolor": "white",
            "linecolor": "white",
            "ticks": ""
           },
           "bgcolor": "#E5ECF6",
           "caxis": {
            "gridcolor": "white",
            "linecolor": "white",
            "ticks": ""
           }
          },
          "title": {
           "x": 0.05
          },
          "xaxis": {
           "automargin": true,
           "gridcolor": "white",
           "linecolor": "white",
           "ticks": "",
           "title": {
            "standoff": 15
           },
           "zerolinecolor": "white",
           "zerolinewidth": 2
          },
          "yaxis": {
           "automargin": true,
           "gridcolor": "white",
           "linecolor": "white",
           "ticks": "",
           "title": {
            "standoff": 15
           },
           "zerolinecolor": "white",
           "zerolinewidth": 2
          }
         }
        }
       }
      }
     },
     "metadata": {},
     "output_type": "display_data"
    }
   ],
   "source": [
    "X = transcriptomics.T.to_numpy(dtype=float)\n",
    "pca = PCA(n_components=3)\n",
    "pca_output = pca.fit_transform(X)\n",
    "pca_output_df = pd.DataFrame(pca_output, columns=['PCA1', 'PCA2', 'PCA3'])\n",
    "pca_output_df[\"groups\"] = dict_sample.values()\n",
    "\n",
    "\n",
    "fig = px.scatter_3d(pca_output_df, x='PCA1', y='PCA2', z='PCA3', color=\"groups\")\n",
    "fig.show()"
   ]
  },
  {
   "cell_type": "markdown",
   "metadata": {},
   "source": [
    "g)"
   ]
  },
  {
   "cell_type": "code",
   "execution_count": 11,
   "metadata": {},
   "outputs": [
    {
     "data": {
      "text/html": [
       "<div>\n",
       "<style scoped>\n",
       "    .dataframe tbody tr th:only-of-type {\n",
       "        vertical-align: middle;\n",
       "    }\n",
       "\n",
       "    .dataframe tbody tr th {\n",
       "        vertical-align: top;\n",
       "    }\n",
       "\n",
       "    .dataframe thead th {\n",
       "        text-align: right;\n",
       "    }\n",
       "</style>\n",
       "<table border=\"1\" class=\"dataframe\">\n",
       "  <thead>\n",
       "    <tr style=\"text-align: right;\">\n",
       "      <th></th>\n",
       "      <th>Sample_1_preadi</th>\n",
       "      <th>Sample_2_preadi</th>\n",
       "      <th>Sample_3_preadi</th>\n",
       "      <th>Sample_4_preadi</th>\n",
       "      <th>Sample_5_preadi</th>\n",
       "      <th>Sample_6_preadi</th>\n",
       "      <th>Sample_7_preadi</th>\n",
       "      <th>Sample_8_preadi</th>\n",
       "      <th>Sample_9_preadi</th>\n",
       "      <th>Sample_10_preadi</th>\n",
       "      <th>...</th>\n",
       "      <th>Sample_71_adipo</th>\n",
       "      <th>Sample_72_adipo</th>\n",
       "      <th>Sample_73_adipo</th>\n",
       "      <th>Sample_74_adipo</th>\n",
       "      <th>Sample_75_adipo</th>\n",
       "      <th>Sample_76_adipo</th>\n",
       "      <th>Sample_77_adipo</th>\n",
       "      <th>Sample_78_adipo</th>\n",
       "      <th>Sample_79_adipo</th>\n",
       "      <th>Sample_80_adipo</th>\n",
       "    </tr>\n",
       "    <tr>\n",
       "      <th>Gene_ID</th>\n",
       "      <th></th>\n",
       "      <th></th>\n",
       "      <th></th>\n",
       "      <th></th>\n",
       "      <th></th>\n",
       "      <th></th>\n",
       "      <th></th>\n",
       "      <th></th>\n",
       "      <th></th>\n",
       "      <th></th>\n",
       "      <th></th>\n",
       "      <th></th>\n",
       "      <th></th>\n",
       "      <th></th>\n",
       "      <th></th>\n",
       "      <th></th>\n",
       "      <th></th>\n",
       "      <th></th>\n",
       "      <th></th>\n",
       "      <th></th>\n",
       "      <th></th>\n",
       "    </tr>\n",
       "  </thead>\n",
       "  <tbody>\n",
       "    <tr>\n",
       "      <th>ENSG00000000003</th>\n",
       "      <td>4.247928</td>\n",
       "      <td>3.700440</td>\n",
       "      <td>3.321928</td>\n",
       "      <td>4.392317</td>\n",
       "      <td>3.321928</td>\n",
       "      <td>3.807355</td>\n",
       "      <td>4.392317</td>\n",
       "      <td>3.169925</td>\n",
       "      <td>2.321928</td>\n",
       "      <td>3.0</td>\n",
       "      <td>...</td>\n",
       "      <td>3.321928</td>\n",
       "      <td>3.321928</td>\n",
       "      <td>4.954196</td>\n",
       "      <td>3.321928</td>\n",
       "      <td>4.584963</td>\n",
       "      <td>4.087463</td>\n",
       "      <td>2.000000</td>\n",
       "      <td>3.906891</td>\n",
       "      <td>3.584963</td>\n",
       "      <td>4.087463</td>\n",
       "    </tr>\n",
       "    <tr>\n",
       "      <th>ENSG00000000005</th>\n",
       "      <td>0.000000</td>\n",
       "      <td>0.000000</td>\n",
       "      <td>0.000000</td>\n",
       "      <td>1.584963</td>\n",
       "      <td>0.000000</td>\n",
       "      <td>0.000000</td>\n",
       "      <td>0.000000</td>\n",
       "      <td>0.000000</td>\n",
       "      <td>0.000000</td>\n",
       "      <td>0.0</td>\n",
       "      <td>...</td>\n",
       "      <td>0.000000</td>\n",
       "      <td>1.000000</td>\n",
       "      <td>4.906891</td>\n",
       "      <td>1.584963</td>\n",
       "      <td>4.523562</td>\n",
       "      <td>2.000000</td>\n",
       "      <td>0.000000</td>\n",
       "      <td>1.584963</td>\n",
       "      <td>0.000000</td>\n",
       "      <td>2.584963</td>\n",
       "    </tr>\n",
       "    <tr>\n",
       "      <th>ENSG00000000419</th>\n",
       "      <td>3.459432</td>\n",
       "      <td>3.321928</td>\n",
       "      <td>3.321928</td>\n",
       "      <td>3.169925</td>\n",
       "      <td>3.459432</td>\n",
       "      <td>3.459432</td>\n",
       "      <td>2.807355</td>\n",
       "      <td>5.169925</td>\n",
       "      <td>3.807355</td>\n",
       "      <td>4.0</td>\n",
       "      <td>...</td>\n",
       "      <td>2.000000</td>\n",
       "      <td>3.321928</td>\n",
       "      <td>3.321928</td>\n",
       "      <td>4.000000</td>\n",
       "      <td>3.169925</td>\n",
       "      <td>3.321928</td>\n",
       "      <td>3.321928</td>\n",
       "      <td>2.321928</td>\n",
       "      <td>4.087463</td>\n",
       "      <td>2.584963</td>\n",
       "    </tr>\n",
       "    <tr>\n",
       "      <th>ENSG00000000457</th>\n",
       "      <td>0.000000</td>\n",
       "      <td>3.584963</td>\n",
       "      <td>0.000000</td>\n",
       "      <td>2.807355</td>\n",
       "      <td>1.584963</td>\n",
       "      <td>3.700440</td>\n",
       "      <td>3.584963</td>\n",
       "      <td>1.000000</td>\n",
       "      <td>1.584963</td>\n",
       "      <td>0.0</td>\n",
       "      <td>...</td>\n",
       "      <td>3.321928</td>\n",
       "      <td>3.169925</td>\n",
       "      <td>3.169925</td>\n",
       "      <td>2.584963</td>\n",
       "      <td>2.807355</td>\n",
       "      <td>0.000000</td>\n",
       "      <td>3.700440</td>\n",
       "      <td>3.807355</td>\n",
       "      <td>2.321928</td>\n",
       "      <td>3.584963</td>\n",
       "    </tr>\n",
       "    <tr>\n",
       "      <th>ENSG00000000460</th>\n",
       "      <td>0.000000</td>\n",
       "      <td>0.000000</td>\n",
       "      <td>3.906891</td>\n",
       "      <td>2.321928</td>\n",
       "      <td>2.584963</td>\n",
       "      <td>0.000000</td>\n",
       "      <td>0.000000</td>\n",
       "      <td>2.807355</td>\n",
       "      <td>2.321928</td>\n",
       "      <td>0.0</td>\n",
       "      <td>...</td>\n",
       "      <td>0.000000</td>\n",
       "      <td>0.000000</td>\n",
       "      <td>2.000000</td>\n",
       "      <td>0.000000</td>\n",
       "      <td>1.000000</td>\n",
       "      <td>0.000000</td>\n",
       "      <td>1.000000</td>\n",
       "      <td>2.321928</td>\n",
       "      <td>0.000000</td>\n",
       "      <td>3.459432</td>\n",
       "    </tr>\n",
       "    <tr>\n",
       "      <th>...</th>\n",
       "      <td>...</td>\n",
       "      <td>...</td>\n",
       "      <td>...</td>\n",
       "      <td>...</td>\n",
       "      <td>...</td>\n",
       "      <td>...</td>\n",
       "      <td>...</td>\n",
       "      <td>...</td>\n",
       "      <td>...</td>\n",
       "      <td>...</td>\n",
       "      <td>...</td>\n",
       "      <td>...</td>\n",
       "      <td>...</td>\n",
       "      <td>...</td>\n",
       "      <td>...</td>\n",
       "      <td>...</td>\n",
       "      <td>...</td>\n",
       "      <td>...</td>\n",
       "      <td>...</td>\n",
       "      <td>...</td>\n",
       "      <td>...</td>\n",
       "    </tr>\n",
       "    <tr>\n",
       "      <th>ENSG00000273485</th>\n",
       "      <td>0.000000</td>\n",
       "      <td>0.000000</td>\n",
       "      <td>0.000000</td>\n",
       "      <td>1.000000</td>\n",
       "      <td>0.000000</td>\n",
       "      <td>2.584963</td>\n",
       "      <td>0.000000</td>\n",
       "      <td>0.000000</td>\n",
       "      <td>0.000000</td>\n",
       "      <td>0.0</td>\n",
       "      <td>...</td>\n",
       "      <td>0.000000</td>\n",
       "      <td>0.000000</td>\n",
       "      <td>0.000000</td>\n",
       "      <td>0.000000</td>\n",
       "      <td>0.000000</td>\n",
       "      <td>3.700440</td>\n",
       "      <td>0.000000</td>\n",
       "      <td>0.000000</td>\n",
       "      <td>0.000000</td>\n",
       "      <td>0.000000</td>\n",
       "    </tr>\n",
       "    <tr>\n",
       "      <th>ENSG00000273486</th>\n",
       "      <td>0.000000</td>\n",
       "      <td>0.000000</td>\n",
       "      <td>0.000000</td>\n",
       "      <td>0.000000</td>\n",
       "      <td>1.000000</td>\n",
       "      <td>0.000000</td>\n",
       "      <td>0.000000</td>\n",
       "      <td>0.000000</td>\n",
       "      <td>0.000000</td>\n",
       "      <td>0.0</td>\n",
       "      <td>...</td>\n",
       "      <td>0.000000</td>\n",
       "      <td>1.584963</td>\n",
       "      <td>0.000000</td>\n",
       "      <td>2.000000</td>\n",
       "      <td>0.000000</td>\n",
       "      <td>1.584963</td>\n",
       "      <td>2.584963</td>\n",
       "      <td>1.000000</td>\n",
       "      <td>0.000000</td>\n",
       "      <td>0.000000</td>\n",
       "    </tr>\n",
       "    <tr>\n",
       "      <th>ENSG00000273487</th>\n",
       "      <td>0.000000</td>\n",
       "      <td>0.000000</td>\n",
       "      <td>0.000000</td>\n",
       "      <td>0.000000</td>\n",
       "      <td>0.000000</td>\n",
       "      <td>0.000000</td>\n",
       "      <td>0.000000</td>\n",
       "      <td>0.000000</td>\n",
       "      <td>0.000000</td>\n",
       "      <td>0.0</td>\n",
       "      <td>...</td>\n",
       "      <td>0.000000</td>\n",
       "      <td>0.000000</td>\n",
       "      <td>0.000000</td>\n",
       "      <td>0.000000</td>\n",
       "      <td>0.000000</td>\n",
       "      <td>0.000000</td>\n",
       "      <td>0.000000</td>\n",
       "      <td>0.000000</td>\n",
       "      <td>0.000000</td>\n",
       "      <td>0.000000</td>\n",
       "    </tr>\n",
       "    <tr>\n",
       "      <th>ENSG00000273489</th>\n",
       "      <td>0.000000</td>\n",
       "      <td>0.000000</td>\n",
       "      <td>0.000000</td>\n",
       "      <td>1.584963</td>\n",
       "      <td>0.000000</td>\n",
       "      <td>1.000000</td>\n",
       "      <td>3.169925</td>\n",
       "      <td>0.000000</td>\n",
       "      <td>0.000000</td>\n",
       "      <td>0.0</td>\n",
       "      <td>...</td>\n",
       "      <td>0.000000</td>\n",
       "      <td>0.000000</td>\n",
       "      <td>0.000000</td>\n",
       "      <td>0.000000</td>\n",
       "      <td>0.000000</td>\n",
       "      <td>0.000000</td>\n",
       "      <td>0.000000</td>\n",
       "      <td>0.000000</td>\n",
       "      <td>0.000000</td>\n",
       "      <td>0.000000</td>\n",
       "    </tr>\n",
       "    <tr>\n",
       "      <th>ENSG00000273493</th>\n",
       "      <td>0.000000</td>\n",
       "      <td>0.000000</td>\n",
       "      <td>0.000000</td>\n",
       "      <td>0.000000</td>\n",
       "      <td>0.000000</td>\n",
       "      <td>0.000000</td>\n",
       "      <td>0.000000</td>\n",
       "      <td>0.000000</td>\n",
       "      <td>1.000000</td>\n",
       "      <td>0.0</td>\n",
       "      <td>...</td>\n",
       "      <td>0.000000</td>\n",
       "      <td>0.000000</td>\n",
       "      <td>0.000000</td>\n",
       "      <td>0.000000</td>\n",
       "      <td>0.000000</td>\n",
       "      <td>0.000000</td>\n",
       "      <td>0.000000</td>\n",
       "      <td>0.000000</td>\n",
       "      <td>2.000000</td>\n",
       "      <td>0.000000</td>\n",
       "    </tr>\n",
       "  </tbody>\n",
       "</table>\n",
       "<p>30238 rows × 80 columns</p>\n",
       "</div>"
      ],
      "text/plain": [
       "                 Sample_1_preadi  Sample_2_preadi  Sample_3_preadi  \\\n",
       "Gene_ID                                                              \n",
       "ENSG00000000003         4.247928         3.700440         3.321928   \n",
       "ENSG00000000005         0.000000         0.000000         0.000000   \n",
       "ENSG00000000419         3.459432         3.321928         3.321928   \n",
       "ENSG00000000457         0.000000         3.584963         0.000000   \n",
       "ENSG00000000460         0.000000         0.000000         3.906891   \n",
       "...                          ...              ...              ...   \n",
       "ENSG00000273485         0.000000         0.000000         0.000000   \n",
       "ENSG00000273486         0.000000         0.000000         0.000000   \n",
       "ENSG00000273487         0.000000         0.000000         0.000000   \n",
       "ENSG00000273489         0.000000         0.000000         0.000000   \n",
       "ENSG00000273493         0.000000         0.000000         0.000000   \n",
       "\n",
       "                 Sample_4_preadi  Sample_5_preadi  Sample_6_preadi  \\\n",
       "Gene_ID                                                              \n",
       "ENSG00000000003         4.392317         3.321928         3.807355   \n",
       "ENSG00000000005         1.584963         0.000000         0.000000   \n",
       "ENSG00000000419         3.169925         3.459432         3.459432   \n",
       "ENSG00000000457         2.807355         1.584963         3.700440   \n",
       "ENSG00000000460         2.321928         2.584963         0.000000   \n",
       "...                          ...              ...              ...   \n",
       "ENSG00000273485         1.000000         0.000000         2.584963   \n",
       "ENSG00000273486         0.000000         1.000000         0.000000   \n",
       "ENSG00000273487         0.000000         0.000000         0.000000   \n",
       "ENSG00000273489         1.584963         0.000000         1.000000   \n",
       "ENSG00000273493         0.000000         0.000000         0.000000   \n",
       "\n",
       "                 Sample_7_preadi  Sample_8_preadi  Sample_9_preadi  \\\n",
       "Gene_ID                                                              \n",
       "ENSG00000000003         4.392317         3.169925         2.321928   \n",
       "ENSG00000000005         0.000000         0.000000         0.000000   \n",
       "ENSG00000000419         2.807355         5.169925         3.807355   \n",
       "ENSG00000000457         3.584963         1.000000         1.584963   \n",
       "ENSG00000000460         0.000000         2.807355         2.321928   \n",
       "...                          ...              ...              ...   \n",
       "ENSG00000273485         0.000000         0.000000         0.000000   \n",
       "ENSG00000273486         0.000000         0.000000         0.000000   \n",
       "ENSG00000273487         0.000000         0.000000         0.000000   \n",
       "ENSG00000273489         3.169925         0.000000         0.000000   \n",
       "ENSG00000273493         0.000000         0.000000         1.000000   \n",
       "\n",
       "                 Sample_10_preadi  ...  Sample_71_adipo  Sample_72_adipo  \\\n",
       "Gene_ID                            ...                                     \n",
       "ENSG00000000003               3.0  ...         3.321928         3.321928   \n",
       "ENSG00000000005               0.0  ...         0.000000         1.000000   \n",
       "ENSG00000000419               4.0  ...         2.000000         3.321928   \n",
       "ENSG00000000457               0.0  ...         3.321928         3.169925   \n",
       "ENSG00000000460               0.0  ...         0.000000         0.000000   \n",
       "...                           ...  ...              ...              ...   \n",
       "ENSG00000273485               0.0  ...         0.000000         0.000000   \n",
       "ENSG00000273486               0.0  ...         0.000000         1.584963   \n",
       "ENSG00000273487               0.0  ...         0.000000         0.000000   \n",
       "ENSG00000273489               0.0  ...         0.000000         0.000000   \n",
       "ENSG00000273493               0.0  ...         0.000000         0.000000   \n",
       "\n",
       "                 Sample_73_adipo  Sample_74_adipo  Sample_75_adipo  \\\n",
       "Gene_ID                                                              \n",
       "ENSG00000000003         4.954196         3.321928         4.584963   \n",
       "ENSG00000000005         4.906891         1.584963         4.523562   \n",
       "ENSG00000000419         3.321928         4.000000         3.169925   \n",
       "ENSG00000000457         3.169925         2.584963         2.807355   \n",
       "ENSG00000000460         2.000000         0.000000         1.000000   \n",
       "...                          ...              ...              ...   \n",
       "ENSG00000273485         0.000000         0.000000         0.000000   \n",
       "ENSG00000273486         0.000000         2.000000         0.000000   \n",
       "ENSG00000273487         0.000000         0.000000         0.000000   \n",
       "ENSG00000273489         0.000000         0.000000         0.000000   \n",
       "ENSG00000273493         0.000000         0.000000         0.000000   \n",
       "\n",
       "                 Sample_76_adipo  Sample_77_adipo  Sample_78_adipo  \\\n",
       "Gene_ID                                                              \n",
       "ENSG00000000003         4.087463         2.000000         3.906891   \n",
       "ENSG00000000005         2.000000         0.000000         1.584963   \n",
       "ENSG00000000419         3.321928         3.321928         2.321928   \n",
       "ENSG00000000457         0.000000         3.700440         3.807355   \n",
       "ENSG00000000460         0.000000         1.000000         2.321928   \n",
       "...                          ...              ...              ...   \n",
       "ENSG00000273485         3.700440         0.000000         0.000000   \n",
       "ENSG00000273486         1.584963         2.584963         1.000000   \n",
       "ENSG00000273487         0.000000         0.000000         0.000000   \n",
       "ENSG00000273489         0.000000         0.000000         0.000000   \n",
       "ENSG00000273493         0.000000         0.000000         0.000000   \n",
       "\n",
       "                 Sample_79_adipo  Sample_80_adipo  \n",
       "Gene_ID                                            \n",
       "ENSG00000000003         3.584963         4.087463  \n",
       "ENSG00000000005         0.000000         2.584963  \n",
       "ENSG00000000419         4.087463         2.584963  \n",
       "ENSG00000000457         2.321928         3.584963  \n",
       "ENSG00000000460         0.000000         3.459432  \n",
       "...                          ...              ...  \n",
       "ENSG00000273485         0.000000         0.000000  \n",
       "ENSG00000273486         0.000000         0.000000  \n",
       "ENSG00000273487         0.000000         0.000000  \n",
       "ENSG00000273489         0.000000         0.000000  \n",
       "ENSG00000273493         2.000000         0.000000  \n",
       "\n",
       "[30238 rows x 80 columns]"
      ]
     },
     "execution_count": 11,
     "metadata": {},
     "output_type": "execute_result"
    }
   ],
   "source": [
    "transcriptomics_transf = np.log2(1+transcriptomics)\n",
    "transcriptomics_transf"
   ]
  },
  {
   "cell_type": "markdown",
   "metadata": {},
   "source": [
    "h)"
   ]
  },
  {
   "cell_type": "code",
   "execution_count": 12,
   "metadata": {},
   "outputs": [
    {
     "data": {
      "application/vnd.plotly.v1+json": {
       "config": {
        "plotlyServerURL": "https://plot.ly"
       },
       "data": [
        {
         "hovertemplate": "groups=PreAdipo<br>PCA1=%{x}<br>PCA2=%{y}<br>PCA3=%{z}<extra></extra>",
         "legendgroup": "PreAdipo",
         "marker": {
          "color": "#636efa",
          "symbol": "circle"
         },
         "mode": "markers",
         "name": "PreAdipo",
         "scene": "scene",
         "showlegend": true,
         "type": "scatter3d",
         "x": [
          -42.82632629374657,
          -46.51879795689763,
          -63.70713280007647,
          -57.72623248159414,
          -49.397369105789046,
          -46.01466007950943,
          -37.494046713716216,
          -62.768794275976255,
          -55.11508346580769,
          -33.80119426171741,
          -37.03894122025685,
          -52.198776707322104,
          -37.74836132243823,
          -52.28964100481607,
          -68.83595670551999,
          -57.388180394995125,
          -45.853883720439995,
          -32.64755714180868,
          -53.59603213516707,
          -62.96668762812539,
          -44.64131308537693,
          -55.136052245738405,
          -63.99643793818799,
          -48.408736941714736,
          -47.62128510212632,
          -54.905111313596606,
          -66.12820018388958,
          -34.14512901463939,
          -54.24059346958675,
          -31.136330511467687,
          -36.38603665189867,
          -25.49908265660053,
          -41.46574490872409,
          -68.49989718367338,
          -37.133153661344906,
          -37.02863691957247,
          -46.10936762223284,
          -47.0436096107427,
          -55.69012454337134,
          -54.32664528462079
         ],
         "y": [
          58.87023295864522,
          -5.5961068977359165,
          -33.929069513263414,
          -67.4907868878267,
          -52.3240973430007,
          -19.149379481491103,
          41.622529816187956,
          -0.2628825836493172,
          -41.723908240369006,
          77.7985352655997,
          29.101809725735645,
          -5.370330500929638,
          61.543916841638215,
          -14.660499138926442,
          -33.7943297815077,
          -25.116919442246633,
          56.64955896563902,
          84.38586497653152,
          -39.669289371704174,
          -27.329868467673524,
          52.038703304794154,
          -2.4184582484394457,
          -49.877222045529244,
          45.890520145365485,
          -13.52326149891442,
          -38.96739635678676,
          -73.26160716778662,
          58.60026077564698,
          39.974871025426125,
          60.93249248494028,
          10.44003168631487,
          12.139340185471745,
          -22.198334516803467,
          -4.349641409810336,
          45.79607387866094,
          49.043084391699956,
          -39.635083597757955,
          14.075719278658497,
          -32.249804667409265,
          9.157301163606316
         ],
         "z": [
          7.285215858669123,
          -14.512810416395515,
          37.00649737149786,
          -11.240019943666574,
          9.440557710800498,
          2.2449691353481533,
          -23.69822335541545,
          32.66943064981257,
          4.918076545236045,
          -12.86336157739841,
          23.562990883045533,
          41.55720259136522,
          -15.229175600132203,
          29.271483759983344,
          29.59720677329144,
          20.027032484591746,
          -6.622427231801221,
          -2.7983376495481505,
          -15.541645783765205,
          17.52667869483165,
          -1.1670875627922201,
          26.367078792413146,
          21.115335376151243,
          -4.8055174348056235,
          -45.6440778557601,
          -21.85417889299486,
          14.931558410405925,
          -12.868042124035625,
          16.34252501118902,
          -1.8422779441649517,
          -22.87248960753311,
          -12.115559444921795,
          -18.47955423652519,
          28.967473473854653,
          -38.98769610494231,
          -1.0080924974098338,
          1.7041344268407375,
          -15.2819829509031,
          16.787681813960035,
          -32.96719303903249
         ]
        },
        {
         "hovertemplate": "groups=Adipo<br>PCA1=%{x}<br>PCA2=%{y}<br>PCA3=%{z}<extra></extra>",
         "legendgroup": "Adipo",
         "marker": {
          "color": "#EF553B",
          "symbol": "circle"
         },
         "mode": "markers",
         "name": "Adipo",
         "scene": "scene",
         "showlegend": true,
         "type": "scatter3d",
         "x": [
          57.586907130031584,
          62.47048088381291,
          51.33460616311314,
          46.822145141875644,
          46.82907609737683,
          34.372447801558955,
          51.96976781978174,
          61.29253649923091,
          67.56028599413384,
          61.59980411242802,
          29.624576142197608,
          42.8646373235572,
          38.323600072034594,
          59.14111762957123,
          66.00224626329918,
          63.52249943334993,
          25.166296747861825,
          68.2154634774444,
          50.72301001135519,
          32.39142161328266,
          34.09444239188108,
          26.8784520795238,
          20.404987677612176,
          38.833066879511094,
          67.61201991554628,
          29.712883807671986,
          69.9014597280001,
          48.38850668598939,
          35.71093202548245,
          62.470547545956975,
          31.918642880229243,
          35.72131271087137,
          64.15561980559917,
          55.22500071813334,
          64.13793800614889,
          53.7827696774501,
          69.00835240689739,
          61.58371784110044,
          30.881711029450166,
          27.239854094474598
         ],
         "y": [
          -24.498763553279254,
          4.259344811469731,
          48.6087121300929,
          36.81967847963141,
          34.23180880573309,
          48.28975281193801,
          -22.456982614930666,
          -29.18513387365184,
          -32.64611149174011,
          -29.95919102557824,
          -44.711026935339085,
          5.0632670569814024,
          33.6496239812855,
          -11.809966832881827,
          53.77736573156954,
          -4.612966745762931,
          -42.19817833317808,
          22.950100076507958,
          22.070359568340262,
          -15.96090073291323,
          -32.10217952632998,
          17.092961413869144,
          -6.0467707689450725,
          -50.77309562904568,
          -52.20688460433685,
          -5.1092289350607825,
          29.414726905483718,
          -21.22971499785978,
          -19.246646173984907,
          17.921931942459253,
          -6.815593073420375,
          -11.370060973213258,
          34.658251943493305,
          -17.459277673673597,
          15.369861965172575,
          -3.4325377535204153,
          1.0247016277289074,
          -54.186664316449914,
          -23.491785642967375,
          -28.855356754689524
         ],
         "z": [
          -10.68314564326624,
          50.01073219855087,
          57.588581880126775,
          -31.553373929301717,
          -0.6436783459498642,
          2.244475796387102,
          9.462863789751943,
          11.514359141092333,
          28.005298662328826,
          -6.532572970718225,
          -4.841427997637379,
          -17.938115871411622,
          -31.400983832120147,
          6.594481399308795,
          60.31976569264167,
          28.148365357087503,
          -58.06014297683441,
          -6.813345438352746,
          -9.217090270479765,
          -13.88383561583917,
          -22.462463879769814,
          -31.38043827296943,
          -28.074630798367544,
          -10.262905079501637,
          -9.869573002430702,
          -21.403147354311763,
          10.249983952646344,
          0.4989393762980555,
          10.622023339190257,
          17.806993668943697,
          6.719320072567146,
          -6.599880745379814,
          21.148723634678014,
          10.182930990313329,
          20.41439235149176,
          -58.74298558003165,
          43.88200206298321,
          4.263612283187962,
          -43.36345243050574,
          -24.874034123737694
         ]
        }
       ],
       "layout": {
        "legend": {
         "title": {
          "text": "groups"
         },
         "tracegroupgap": 0
        },
        "margin": {
         "t": 60
        },
        "scene": {
         "domain": {
          "x": [
           0,
           1
          ],
          "y": [
           0,
           1
          ]
         },
         "xaxis": {
          "title": {
           "text": "PCA1"
          }
         },
         "yaxis": {
          "title": {
           "text": "PCA2"
          }
         },
         "zaxis": {
          "title": {
           "text": "PCA3"
          }
         }
        },
        "template": {
         "data": {
          "bar": [
           {
            "error_x": {
             "color": "#2a3f5f"
            },
            "error_y": {
             "color": "#2a3f5f"
            },
            "marker": {
             "line": {
              "color": "#E5ECF6",
              "width": 0.5
             },
             "pattern": {
              "fillmode": "overlay",
              "size": 10,
              "solidity": 0.2
             }
            },
            "type": "bar"
           }
          ],
          "barpolar": [
           {
            "marker": {
             "line": {
              "color": "#E5ECF6",
              "width": 0.5
             },
             "pattern": {
              "fillmode": "overlay",
              "size": 10,
              "solidity": 0.2
             }
            },
            "type": "barpolar"
           }
          ],
          "carpet": [
           {
            "aaxis": {
             "endlinecolor": "#2a3f5f",
             "gridcolor": "white",
             "linecolor": "white",
             "minorgridcolor": "white",
             "startlinecolor": "#2a3f5f"
            },
            "baxis": {
             "endlinecolor": "#2a3f5f",
             "gridcolor": "white",
             "linecolor": "white",
             "minorgridcolor": "white",
             "startlinecolor": "#2a3f5f"
            },
            "type": "carpet"
           }
          ],
          "choropleth": [
           {
            "colorbar": {
             "outlinewidth": 0,
             "ticks": ""
            },
            "type": "choropleth"
           }
          ],
          "contour": [
           {
            "colorbar": {
             "outlinewidth": 0,
             "ticks": ""
            },
            "colorscale": [
             [
              0,
              "#0d0887"
             ],
             [
              0.1111111111111111,
              "#46039f"
             ],
             [
              0.2222222222222222,
              "#7201a8"
             ],
             [
              0.3333333333333333,
              "#9c179e"
             ],
             [
              0.4444444444444444,
              "#bd3786"
             ],
             [
              0.5555555555555556,
              "#d8576b"
             ],
             [
              0.6666666666666666,
              "#ed7953"
             ],
             [
              0.7777777777777778,
              "#fb9f3a"
             ],
             [
              0.8888888888888888,
              "#fdca26"
             ],
             [
              1,
              "#f0f921"
             ]
            ],
            "type": "contour"
           }
          ],
          "contourcarpet": [
           {
            "colorbar": {
             "outlinewidth": 0,
             "ticks": ""
            },
            "type": "contourcarpet"
           }
          ],
          "heatmap": [
           {
            "colorbar": {
             "outlinewidth": 0,
             "ticks": ""
            },
            "colorscale": [
             [
              0,
              "#0d0887"
             ],
             [
              0.1111111111111111,
              "#46039f"
             ],
             [
              0.2222222222222222,
              "#7201a8"
             ],
             [
              0.3333333333333333,
              "#9c179e"
             ],
             [
              0.4444444444444444,
              "#bd3786"
             ],
             [
              0.5555555555555556,
              "#d8576b"
             ],
             [
              0.6666666666666666,
              "#ed7953"
             ],
             [
              0.7777777777777778,
              "#fb9f3a"
             ],
             [
              0.8888888888888888,
              "#fdca26"
             ],
             [
              1,
              "#f0f921"
             ]
            ],
            "type": "heatmap"
           }
          ],
          "heatmapgl": [
           {
            "colorbar": {
             "outlinewidth": 0,
             "ticks": ""
            },
            "colorscale": [
             [
              0,
              "#0d0887"
             ],
             [
              0.1111111111111111,
              "#46039f"
             ],
             [
              0.2222222222222222,
              "#7201a8"
             ],
             [
              0.3333333333333333,
              "#9c179e"
             ],
             [
              0.4444444444444444,
              "#bd3786"
             ],
             [
              0.5555555555555556,
              "#d8576b"
             ],
             [
              0.6666666666666666,
              "#ed7953"
             ],
             [
              0.7777777777777778,
              "#fb9f3a"
             ],
             [
              0.8888888888888888,
              "#fdca26"
             ],
             [
              1,
              "#f0f921"
             ]
            ],
            "type": "heatmapgl"
           }
          ],
          "histogram": [
           {
            "marker": {
             "pattern": {
              "fillmode": "overlay",
              "size": 10,
              "solidity": 0.2
             }
            },
            "type": "histogram"
           }
          ],
          "histogram2d": [
           {
            "colorbar": {
             "outlinewidth": 0,
             "ticks": ""
            },
            "colorscale": [
             [
              0,
              "#0d0887"
             ],
             [
              0.1111111111111111,
              "#46039f"
             ],
             [
              0.2222222222222222,
              "#7201a8"
             ],
             [
              0.3333333333333333,
              "#9c179e"
             ],
             [
              0.4444444444444444,
              "#bd3786"
             ],
             [
              0.5555555555555556,
              "#d8576b"
             ],
             [
              0.6666666666666666,
              "#ed7953"
             ],
             [
              0.7777777777777778,
              "#fb9f3a"
             ],
             [
              0.8888888888888888,
              "#fdca26"
             ],
             [
              1,
              "#f0f921"
             ]
            ],
            "type": "histogram2d"
           }
          ],
          "histogram2dcontour": [
           {
            "colorbar": {
             "outlinewidth": 0,
             "ticks": ""
            },
            "colorscale": [
             [
              0,
              "#0d0887"
             ],
             [
              0.1111111111111111,
              "#46039f"
             ],
             [
              0.2222222222222222,
              "#7201a8"
             ],
             [
              0.3333333333333333,
              "#9c179e"
             ],
             [
              0.4444444444444444,
              "#bd3786"
             ],
             [
              0.5555555555555556,
              "#d8576b"
             ],
             [
              0.6666666666666666,
              "#ed7953"
             ],
             [
              0.7777777777777778,
              "#fb9f3a"
             ],
             [
              0.8888888888888888,
              "#fdca26"
             ],
             [
              1,
              "#f0f921"
             ]
            ],
            "type": "histogram2dcontour"
           }
          ],
          "mesh3d": [
           {
            "colorbar": {
             "outlinewidth": 0,
             "ticks": ""
            },
            "type": "mesh3d"
           }
          ],
          "parcoords": [
           {
            "line": {
             "colorbar": {
              "outlinewidth": 0,
              "ticks": ""
             }
            },
            "type": "parcoords"
           }
          ],
          "pie": [
           {
            "automargin": true,
            "type": "pie"
           }
          ],
          "scatter": [
           {
            "fillpattern": {
             "fillmode": "overlay",
             "size": 10,
             "solidity": 0.2
            },
            "type": "scatter"
           }
          ],
          "scatter3d": [
           {
            "line": {
             "colorbar": {
              "outlinewidth": 0,
              "ticks": ""
             }
            },
            "marker": {
             "colorbar": {
              "outlinewidth": 0,
              "ticks": ""
             }
            },
            "type": "scatter3d"
           }
          ],
          "scattercarpet": [
           {
            "marker": {
             "colorbar": {
              "outlinewidth": 0,
              "ticks": ""
             }
            },
            "type": "scattercarpet"
           }
          ],
          "scattergeo": [
           {
            "marker": {
             "colorbar": {
              "outlinewidth": 0,
              "ticks": ""
             }
            },
            "type": "scattergeo"
           }
          ],
          "scattergl": [
           {
            "marker": {
             "colorbar": {
              "outlinewidth": 0,
              "ticks": ""
             }
            },
            "type": "scattergl"
           }
          ],
          "scattermapbox": [
           {
            "marker": {
             "colorbar": {
              "outlinewidth": 0,
              "ticks": ""
             }
            },
            "type": "scattermapbox"
           }
          ],
          "scatterpolar": [
           {
            "marker": {
             "colorbar": {
              "outlinewidth": 0,
              "ticks": ""
             }
            },
            "type": "scatterpolar"
           }
          ],
          "scatterpolargl": [
           {
            "marker": {
             "colorbar": {
              "outlinewidth": 0,
              "ticks": ""
             }
            },
            "type": "scatterpolargl"
           }
          ],
          "scatterternary": [
           {
            "marker": {
             "colorbar": {
              "outlinewidth": 0,
              "ticks": ""
             }
            },
            "type": "scatterternary"
           }
          ],
          "surface": [
           {
            "colorbar": {
             "outlinewidth": 0,
             "ticks": ""
            },
            "colorscale": [
             [
              0,
              "#0d0887"
             ],
             [
              0.1111111111111111,
              "#46039f"
             ],
             [
              0.2222222222222222,
              "#7201a8"
             ],
             [
              0.3333333333333333,
              "#9c179e"
             ],
             [
              0.4444444444444444,
              "#bd3786"
             ],
             [
              0.5555555555555556,
              "#d8576b"
             ],
             [
              0.6666666666666666,
              "#ed7953"
             ],
             [
              0.7777777777777778,
              "#fb9f3a"
             ],
             [
              0.8888888888888888,
              "#fdca26"
             ],
             [
              1,
              "#f0f921"
             ]
            ],
            "type": "surface"
           }
          ],
          "table": [
           {
            "cells": {
             "fill": {
              "color": "#EBF0F8"
             },
             "line": {
              "color": "white"
             }
            },
            "header": {
             "fill": {
              "color": "#C8D4E3"
             },
             "line": {
              "color": "white"
             }
            },
            "type": "table"
           }
          ]
         },
         "layout": {
          "annotationdefaults": {
           "arrowcolor": "#2a3f5f",
           "arrowhead": 0,
           "arrowwidth": 1
          },
          "autotypenumbers": "strict",
          "coloraxis": {
           "colorbar": {
            "outlinewidth": 0,
            "ticks": ""
           }
          },
          "colorscale": {
           "diverging": [
            [
             0,
             "#8e0152"
            ],
            [
             0.1,
             "#c51b7d"
            ],
            [
             0.2,
             "#de77ae"
            ],
            [
             0.3,
             "#f1b6da"
            ],
            [
             0.4,
             "#fde0ef"
            ],
            [
             0.5,
             "#f7f7f7"
            ],
            [
             0.6,
             "#e6f5d0"
            ],
            [
             0.7,
             "#b8e186"
            ],
            [
             0.8,
             "#7fbc41"
            ],
            [
             0.9,
             "#4d9221"
            ],
            [
             1,
             "#276419"
            ]
           ],
           "sequential": [
            [
             0,
             "#0d0887"
            ],
            [
             0.1111111111111111,
             "#46039f"
            ],
            [
             0.2222222222222222,
             "#7201a8"
            ],
            [
             0.3333333333333333,
             "#9c179e"
            ],
            [
             0.4444444444444444,
             "#bd3786"
            ],
            [
             0.5555555555555556,
             "#d8576b"
            ],
            [
             0.6666666666666666,
             "#ed7953"
            ],
            [
             0.7777777777777778,
             "#fb9f3a"
            ],
            [
             0.8888888888888888,
             "#fdca26"
            ],
            [
             1,
             "#f0f921"
            ]
           ],
           "sequentialminus": [
            [
             0,
             "#0d0887"
            ],
            [
             0.1111111111111111,
             "#46039f"
            ],
            [
             0.2222222222222222,
             "#7201a8"
            ],
            [
             0.3333333333333333,
             "#9c179e"
            ],
            [
             0.4444444444444444,
             "#bd3786"
            ],
            [
             0.5555555555555556,
             "#d8576b"
            ],
            [
             0.6666666666666666,
             "#ed7953"
            ],
            [
             0.7777777777777778,
             "#fb9f3a"
            ],
            [
             0.8888888888888888,
             "#fdca26"
            ],
            [
             1,
             "#f0f921"
            ]
           ]
          },
          "colorway": [
           "#636efa",
           "#EF553B",
           "#00cc96",
           "#ab63fa",
           "#FFA15A",
           "#19d3f3",
           "#FF6692",
           "#B6E880",
           "#FF97FF",
           "#FECB52"
          ],
          "font": {
           "color": "#2a3f5f"
          },
          "geo": {
           "bgcolor": "white",
           "lakecolor": "white",
           "landcolor": "#E5ECF6",
           "showlakes": true,
           "showland": true,
           "subunitcolor": "white"
          },
          "hoverlabel": {
           "align": "left"
          },
          "hovermode": "closest",
          "mapbox": {
           "style": "light"
          },
          "paper_bgcolor": "white",
          "plot_bgcolor": "#E5ECF6",
          "polar": {
           "angularaxis": {
            "gridcolor": "white",
            "linecolor": "white",
            "ticks": ""
           },
           "bgcolor": "#E5ECF6",
           "radialaxis": {
            "gridcolor": "white",
            "linecolor": "white",
            "ticks": ""
           }
          },
          "scene": {
           "xaxis": {
            "backgroundcolor": "#E5ECF6",
            "gridcolor": "white",
            "gridwidth": 2,
            "linecolor": "white",
            "showbackground": true,
            "ticks": "",
            "zerolinecolor": "white"
           },
           "yaxis": {
            "backgroundcolor": "#E5ECF6",
            "gridcolor": "white",
            "gridwidth": 2,
            "linecolor": "white",
            "showbackground": true,
            "ticks": "",
            "zerolinecolor": "white"
           },
           "zaxis": {
            "backgroundcolor": "#E5ECF6",
            "gridcolor": "white",
            "gridwidth": 2,
            "linecolor": "white",
            "showbackground": true,
            "ticks": "",
            "zerolinecolor": "white"
           }
          },
          "shapedefaults": {
           "line": {
            "color": "#2a3f5f"
           }
          },
          "ternary": {
           "aaxis": {
            "gridcolor": "white",
            "linecolor": "white",
            "ticks": ""
           },
           "baxis": {
            "gridcolor": "white",
            "linecolor": "white",
            "ticks": ""
           },
           "bgcolor": "#E5ECF6",
           "caxis": {
            "gridcolor": "white",
            "linecolor": "white",
            "ticks": ""
           }
          },
          "title": {
           "x": 0.05
          },
          "xaxis": {
           "automargin": true,
           "gridcolor": "white",
           "linecolor": "white",
           "ticks": "",
           "title": {
            "standoff": 15
           },
           "zerolinecolor": "white",
           "zerolinewidth": 2
          },
          "yaxis": {
           "automargin": true,
           "gridcolor": "white",
           "linecolor": "white",
           "ticks": "",
           "title": {
            "standoff": 15
           },
           "zerolinecolor": "white",
           "zerolinewidth": 2
          }
         }
        }
       }
      }
     },
     "metadata": {},
     "output_type": "display_data"
    }
   ],
   "source": [
    "X = transcriptomics_transf.T.to_numpy(dtype=float)\n",
    "pca = PCA(n_components=3)\n",
    "pca_output_log = pca.fit_transform(X)\n",
    "pca_output_log_df = pd.DataFrame(pca_output_log, columns=['PCA1', 'PCA2', 'PCA3'])\n",
    "pca_output_log_df[\"groups\"] =dict_sample.values()\n",
    "\n",
    "fig = px.scatter_3d(pca_output_log_df, x='PCA1', y='PCA2', z='PCA3', color=\"groups\")\n",
    "fig.show()"
   ]
  },
  {
   "cell_type": "markdown",
   "metadata": {},
   "source": [
    "Transformed data has better cluster"
   ]
  },
  {
   "cell_type": "markdown",
   "metadata": {},
   "source": [
    "### 2. Differential gene expression"
   ]
  },
  {
   "cell_type": "code",
   "execution_count": 13,
   "metadata": {},
   "outputs": [],
   "source": [
    "de_results = pd.DataFrame(index = transcriptomics.index, columns = [\"pval\",\"fdr\",\"log2_mean_preadipo\",\"log2_mean_adipo\",\"log2_fold_change\"])"
   ]
  },
  {
   "cell_type": "markdown",
   "metadata": {},
   "source": [
    "a)"
   ]
  },
  {
   "cell_type": "code",
   "execution_count": 14,
   "metadata": {},
   "outputs": [],
   "source": [
    "pvalue=[]\n",
    "Adipo_samples = {i for i in dict_sample if dict_sample[i]==\"Adipo\"}\n",
    "PreAdipo_samples = {i for i in dict_sample if dict_sample[i]==\"PreAdipo\"}\n",
    "\n",
    "for index, gene in transcriptomics_transf.iterrows():\n",
    "    _, pval = ttest_ind(gene[Adipo_samples], gene[PreAdipo_samples], equal_var=False)\n",
    "    # _, pval =(ttest_ind(gene[0:40], gene[40:80], equal_var=False))\n",
    "    pvalue.append(pval)\n",
    "de_results[\"pval\"] = pvalue\n",
    "\n",
    "t_f, fdr_corrected_p_values = fdrcorrection(de_results.pval)\n",
    "de_results.fdr = fdr_corrected_p_values"
   ]
  },
  {
   "cell_type": "markdown",
   "metadata": {},
   "source": [
    "2.c)"
   ]
  },
  {
   "cell_type": "code",
   "execution_count": 15,
   "metadata": {},
   "outputs": [
    {
     "data": {
      "text/html": [
       "<div>\n",
       "<style scoped>\n",
       "    .dataframe tbody tr th:only-of-type {\n",
       "        vertical-align: middle;\n",
       "    }\n",
       "\n",
       "    .dataframe tbody tr th {\n",
       "        vertical-align: top;\n",
       "    }\n",
       "\n",
       "    .dataframe thead th {\n",
       "        text-align: right;\n",
       "    }\n",
       "</style>\n",
       "<table border=\"1\" class=\"dataframe\">\n",
       "  <thead>\n",
       "    <tr style=\"text-align: right;\">\n",
       "      <th></th>\n",
       "      <th>pval</th>\n",
       "      <th>fdr</th>\n",
       "      <th>log2_mean_preadipo</th>\n",
       "      <th>log2_mean_adipo</th>\n",
       "      <th>log2_fold_change</th>\n",
       "    </tr>\n",
       "    <tr>\n",
       "      <th>Gene_ID</th>\n",
       "      <th></th>\n",
       "      <th></th>\n",
       "      <th></th>\n",
       "      <th></th>\n",
       "      <th></th>\n",
       "    </tr>\n",
       "  </thead>\n",
       "  <tbody>\n",
       "    <tr>\n",
       "      <th>ENSG00000000003</th>\n",
       "      <td>0.029213</td>\n",
       "      <td>0.124449</td>\n",
       "      <td>NaN</td>\n",
       "      <td>NaN</td>\n",
       "      <td>NaN</td>\n",
       "    </tr>\n",
       "    <tr>\n",
       "      <th>ENSG00000000419</th>\n",
       "      <td>0.436098</td>\n",
       "      <td>0.605981</td>\n",
       "      <td>NaN</td>\n",
       "      <td>NaN</td>\n",
       "      <td>NaN</td>\n",
       "    </tr>\n",
       "    <tr>\n",
       "      <th>ENSG00000000457</th>\n",
       "      <td>0.371879</td>\n",
       "      <td>0.541478</td>\n",
       "      <td>NaN</td>\n",
       "      <td>NaN</td>\n",
       "      <td>NaN</td>\n",
       "    </tr>\n",
       "    <tr>\n",
       "      <th>ENSG00000000460</th>\n",
       "      <td>0.403271</td>\n",
       "      <td>0.574002</td>\n",
       "      <td>NaN</td>\n",
       "      <td>NaN</td>\n",
       "      <td>NaN</td>\n",
       "    </tr>\n",
       "    <tr>\n",
       "      <th>ENSG00000001167</th>\n",
       "      <td>0.032582</td>\n",
       "      <td>0.135853</td>\n",
       "      <td>NaN</td>\n",
       "      <td>NaN</td>\n",
       "      <td>NaN</td>\n",
       "    </tr>\n",
       "    <tr>\n",
       "      <th>...</th>\n",
       "      <td>...</td>\n",
       "      <td>...</td>\n",
       "      <td>...</td>\n",
       "      <td>...</td>\n",
       "      <td>...</td>\n",
       "    </tr>\n",
       "    <tr>\n",
       "      <th>ENSG00000273483</th>\n",
       "      <td>1.000000</td>\n",
       "      <td>1.000000</td>\n",
       "      <td>NaN</td>\n",
       "      <td>NaN</td>\n",
       "      <td>NaN</td>\n",
       "    </tr>\n",
       "    <tr>\n",
       "      <th>ENSG00000273485</th>\n",
       "      <td>0.767912</td>\n",
       "      <td>0.863298</td>\n",
       "      <td>NaN</td>\n",
       "      <td>NaN</td>\n",
       "      <td>NaN</td>\n",
       "    </tr>\n",
       "    <tr>\n",
       "      <th>ENSG00000273486</th>\n",
       "      <td>0.104262</td>\n",
       "      <td>0.314575</td>\n",
       "      <td>NaN</td>\n",
       "      <td>NaN</td>\n",
       "      <td>NaN</td>\n",
       "    </tr>\n",
       "    <tr>\n",
       "      <th>ENSG00000273487</th>\n",
       "      <td>0.755924</td>\n",
       "      <td>0.854810</td>\n",
       "      <td>NaN</td>\n",
       "      <td>NaN</td>\n",
       "      <td>NaN</td>\n",
       "    </tr>\n",
       "    <tr>\n",
       "      <th>ENSG00000273493</th>\n",
       "      <td>0.433540</td>\n",
       "      <td>0.603562</td>\n",
       "      <td>NaN</td>\n",
       "      <td>NaN</td>\n",
       "      <td>NaN</td>\n",
       "    </tr>\n",
       "  </tbody>\n",
       "</table>\n",
       "<p>24623 rows × 5 columns</p>\n",
       "</div>"
      ],
      "text/plain": [
       "                     pval       fdr log2_mean_preadipo log2_mean_adipo  \\\n",
       "Gene_ID                                                                  \n",
       "ENSG00000000003  0.029213  0.124449                NaN             NaN   \n",
       "ENSG00000000419  0.436098  0.605981                NaN             NaN   \n",
       "ENSG00000000457  0.371879  0.541478                NaN             NaN   \n",
       "ENSG00000000460  0.403271  0.574002                NaN             NaN   \n",
       "ENSG00000001167  0.032582  0.135853                NaN             NaN   \n",
       "...                   ...       ...                ...             ...   \n",
       "ENSG00000273483  1.000000  1.000000                NaN             NaN   \n",
       "ENSG00000273485  0.767912  0.863298                NaN             NaN   \n",
       "ENSG00000273486  0.104262  0.314575                NaN             NaN   \n",
       "ENSG00000273487  0.755924  0.854810                NaN             NaN   \n",
       "ENSG00000273493  0.433540  0.603562                NaN             NaN   \n",
       "\n",
       "                log2_fold_change  \n",
       "Gene_ID                           \n",
       "ENSG00000000003              NaN  \n",
       "ENSG00000000419              NaN  \n",
       "ENSG00000000457              NaN  \n",
       "ENSG00000000460              NaN  \n",
       "ENSG00000001167              NaN  \n",
       "...                          ...  \n",
       "ENSG00000273483              NaN  \n",
       "ENSG00000273485              NaN  \n",
       "ENSG00000273486              NaN  \n",
       "ENSG00000273487              NaN  \n",
       "ENSG00000273493              NaN  \n",
       "\n",
       "[24623 rows x 5 columns]"
      ]
     },
     "execution_count": 15,
     "metadata": {},
     "output_type": "execute_result"
    }
   ],
   "source": [
    "de_results[de_results[\"fdr\"] >= 0.05]"
   ]
  },
  {
   "cell_type": "markdown",
   "metadata": {},
   "source": [
    "##### 2.d)"
   ]
  },
  {
   "cell_type": "code",
   "execution_count": 16,
   "metadata": {},
   "outputs": [],
   "source": [
    "Adipo_samples = {i for i in dict_sample if dict_sample[i]==\"Adipo\"}\n",
    "PreAdipo_samples = {i for i in dict_sample if dict_sample[i]==\"PreAdipo\"}\n",
    "\n",
    "de_results[\"log2_mean_preadipo\"] = np.log2(transcriptomics[PreAdipo_samples].mean(axis=1)+1)\n",
    "de_results[\"log2_mean_adipo\"] = np.log2(transcriptomics[Adipo_samples].mean(axis=1)+1)"
   ]
  },
  {
   "cell_type": "markdown",
   "metadata": {},
   "source": [
    "##### 2.e)"
   ]
  },
  {
   "cell_type": "code",
   "execution_count": 17,
   "metadata": {},
   "outputs": [
    {
     "data": {
      "text/html": [
       "<div>\n",
       "<style scoped>\n",
       "    .dataframe tbody tr th:only-of-type {\n",
       "        vertical-align: middle;\n",
       "    }\n",
       "\n",
       "    .dataframe tbody tr th {\n",
       "        vertical-align: top;\n",
       "    }\n",
       "\n",
       "    .dataframe thead th {\n",
       "        text-align: right;\n",
       "    }\n",
       "</style>\n",
       "<table border=\"1\" class=\"dataframe\">\n",
       "  <thead>\n",
       "    <tr style=\"text-align: right;\">\n",
       "      <th></th>\n",
       "      <th>pval</th>\n",
       "      <th>fdr</th>\n",
       "      <th>log2_mean_preadipo</th>\n",
       "      <th>log2_mean_adipo</th>\n",
       "      <th>log2_fold_change</th>\n",
       "    </tr>\n",
       "    <tr>\n",
       "      <th>Gene_ID</th>\n",
       "      <th></th>\n",
       "      <th></th>\n",
       "      <th></th>\n",
       "      <th></th>\n",
       "      <th></th>\n",
       "    </tr>\n",
       "  </thead>\n",
       "  <tbody>\n",
       "    <tr>\n",
       "      <th>ENSG00000170323</th>\n",
       "      <td>3.144794e-46</td>\n",
       "      <td>7.404844e-42</td>\n",
       "      <td>6.845176</td>\n",
       "      <td>13.011066</td>\n",
       "      <td>6.165889</td>\n",
       "    </tr>\n",
       "    <tr>\n",
       "      <th>ENSG00000130208</th>\n",
       "      <td>8.895025e-39</td>\n",
       "      <td>1.222581e-35</td>\n",
       "      <td>7.183883</td>\n",
       "      <td>13.134579</td>\n",
       "      <td>5.950695</td>\n",
       "    </tr>\n",
       "    <tr>\n",
       "      <th>ENSG00000055957</th>\n",
       "      <td>1.698795e-39</td>\n",
       "      <td>3.210511e-36</td>\n",
       "      <td>2.255501</td>\n",
       "      <td>7.901772</td>\n",
       "      <td>5.646271</td>\n",
       "    </tr>\n",
       "    <tr>\n",
       "      <th>ENSG00000122378</th>\n",
       "      <td>4.726720e-43</td>\n",
       "      <td>2.858531e-39</td>\n",
       "      <td>3.520422</td>\n",
       "      <td>9.164656</td>\n",
       "      <td>5.644233</td>\n",
       "    </tr>\n",
       "    <tr>\n",
       "      <th>ENSG00000135447</th>\n",
       "      <td>2.149862e-40</td>\n",
       "      <td>5.909776e-37</td>\n",
       "      <td>1.419539</td>\n",
       "      <td>6.984988</td>\n",
       "      <td>5.565449</td>\n",
       "    </tr>\n",
       "    <tr>\n",
       "      <th>...</th>\n",
       "      <td>...</td>\n",
       "      <td>...</td>\n",
       "      <td>...</td>\n",
       "      <td>...</td>\n",
       "      <td>...</td>\n",
       "    </tr>\n",
       "    <tr>\n",
       "      <th>ENSG00000089685</th>\n",
       "      <td>2.943092e-11</td>\n",
       "      <td>1.105506e-09</td>\n",
       "      <td>5.984703</td>\n",
       "      <td>3.083213</td>\n",
       "      <td>-2.901490</td>\n",
       "    </tr>\n",
       "    <tr>\n",
       "      <th>ENSG00000117399</th>\n",
       "      <td>2.514095e-07</td>\n",
       "      <td>4.778202e-06</td>\n",
       "      <td>4.842979</td>\n",
       "      <td>1.877744</td>\n",
       "      <td>-2.965235</td>\n",
       "    </tr>\n",
       "    <tr>\n",
       "      <th>ENSG00000149968</th>\n",
       "      <td>3.987162e-15</td>\n",
       "      <td>2.638158e-13</td>\n",
       "      <td>4.836682</td>\n",
       "      <td>1.827819</td>\n",
       "      <td>-3.008863</td>\n",
       "    </tr>\n",
       "    <tr>\n",
       "      <th>ENSG00000264433</th>\n",
       "      <td>1.631710e-14</td>\n",
       "      <td>1.013135e-12</td>\n",
       "      <td>4.330917</td>\n",
       "      <td>1.247928</td>\n",
       "      <td>-3.082989</td>\n",
       "    </tr>\n",
       "    <tr>\n",
       "      <th>ENSG00000214100</th>\n",
       "      <td>1.321941e-25</td>\n",
       "      <td>3.359063e-23</td>\n",
       "      <td>5.807999</td>\n",
       "      <td>2.399171</td>\n",
       "      <td>-3.408828</td>\n",
       "    </tr>\n",
       "  </tbody>\n",
       "</table>\n",
       "<p>30238 rows × 5 columns</p>\n",
       "</div>"
      ],
      "text/plain": [
       "                         pval           fdr  log2_mean_preadipo  \\\n",
       "Gene_ID                                                           \n",
       "ENSG00000170323  3.144794e-46  7.404844e-42            6.845176   \n",
       "ENSG00000130208  8.895025e-39  1.222581e-35            7.183883   \n",
       "ENSG00000055957  1.698795e-39  3.210511e-36            2.255501   \n",
       "ENSG00000122378  4.726720e-43  2.858531e-39            3.520422   \n",
       "ENSG00000135447  2.149862e-40  5.909776e-37            1.419539   \n",
       "...                       ...           ...                 ...   \n",
       "ENSG00000089685  2.943092e-11  1.105506e-09            5.984703   \n",
       "ENSG00000117399  2.514095e-07  4.778202e-06            4.842979   \n",
       "ENSG00000149968  3.987162e-15  2.638158e-13            4.836682   \n",
       "ENSG00000264433  1.631710e-14  1.013135e-12            4.330917   \n",
       "ENSG00000214100  1.321941e-25  3.359063e-23            5.807999   \n",
       "\n",
       "                 log2_mean_adipo  log2_fold_change  \n",
       "Gene_ID                                             \n",
       "ENSG00000170323        13.011066          6.165889  \n",
       "ENSG00000130208        13.134579          5.950695  \n",
       "ENSG00000055957         7.901772          5.646271  \n",
       "ENSG00000122378         9.164656          5.644233  \n",
       "ENSG00000135447         6.984988          5.565449  \n",
       "...                          ...               ...  \n",
       "ENSG00000089685         3.083213         -2.901490  \n",
       "ENSG00000117399         1.877744         -2.965235  \n",
       "ENSG00000149968         1.827819         -3.008863  \n",
       "ENSG00000264433         1.247928         -3.082989  \n",
       "ENSG00000214100         2.399171         -3.408828  \n",
       "\n",
       "[30238 rows x 5 columns]"
      ]
     },
     "execution_count": 17,
     "metadata": {},
     "output_type": "execute_result"
    }
   ],
   "source": [
    "de_results[\"log2_fold_change\"] = (de_results[\"log2_mean_adipo\"] - de_results[\"log2_mean_preadipo\"])\n",
    "de_results.sort_values('log2_fold_change', ascending=False, inplace=True)\n",
    "de_results"
   ]
  },
  {
   "cell_type": "markdown",
   "metadata": {},
   "source": [
    "#### 2.f)"
   ]
  },
  {
   "cell_type": "code",
   "execution_count": 18,
   "metadata": {},
   "outputs": [
    {
     "data": {
      "text/html": [
       "<div>\n",
       "<style scoped>\n",
       "    .dataframe tbody tr th:only-of-type {\n",
       "        vertical-align: middle;\n",
       "    }\n",
       "\n",
       "    .dataframe tbody tr th {\n",
       "        vertical-align: top;\n",
       "    }\n",
       "\n",
       "    .dataframe thead th {\n",
       "        text-align: right;\n",
       "    }\n",
       "</style>\n",
       "<table border=\"1\" class=\"dataframe\">\n",
       "  <thead>\n",
       "    <tr style=\"text-align: right;\">\n",
       "      <th></th>\n",
       "      <th>pval</th>\n",
       "      <th>fdr</th>\n",
       "      <th>log2_mean_preadipo</th>\n",
       "      <th>log2_mean_adipo</th>\n",
       "      <th>log2_fold_change</th>\n",
       "    </tr>\n",
       "    <tr>\n",
       "      <th>Gene_ID</th>\n",
       "      <th></th>\n",
       "      <th></th>\n",
       "      <th></th>\n",
       "      <th></th>\n",
       "      <th></th>\n",
       "    </tr>\n",
       "  </thead>\n",
       "  <tbody>\n",
       "    <tr>\n",
       "      <th>ENSG00000170323</th>\n",
       "      <td>3.144794e-46</td>\n",
       "      <td>7.404844e-42</td>\n",
       "      <td>6.845176</td>\n",
       "      <td>13.011066</td>\n",
       "      <td>6.165889</td>\n",
       "    </tr>\n",
       "    <tr>\n",
       "      <th>ENSG00000130208</th>\n",
       "      <td>8.895025e-39</td>\n",
       "      <td>1.222581e-35</td>\n",
       "      <td>7.183883</td>\n",
       "      <td>13.134579</td>\n",
       "      <td>5.950695</td>\n",
       "    </tr>\n",
       "    <tr>\n",
       "      <th>ENSG00000055957</th>\n",
       "      <td>1.698795e-39</td>\n",
       "      <td>3.210511e-36</td>\n",
       "      <td>2.255501</td>\n",
       "      <td>7.901772</td>\n",
       "      <td>5.646271</td>\n",
       "    </tr>\n",
       "    <tr>\n",
       "      <th>ENSG00000122378</th>\n",
       "      <td>4.726720e-43</td>\n",
       "      <td>2.858531e-39</td>\n",
       "      <td>3.520422</td>\n",
       "      <td>9.164656</td>\n",
       "      <td>5.644233</td>\n",
       "    </tr>\n",
       "    <tr>\n",
       "      <th>ENSG00000135447</th>\n",
       "      <td>2.149862e-40</td>\n",
       "      <td>5.909776e-37</td>\n",
       "      <td>1.419539</td>\n",
       "      <td>6.984988</td>\n",
       "      <td>5.565449</td>\n",
       "    </tr>\n",
       "    <tr>\n",
       "      <th>...</th>\n",
       "      <td>...</td>\n",
       "      <td>...</td>\n",
       "      <td>...</td>\n",
       "      <td>...</td>\n",
       "      <td>...</td>\n",
       "    </tr>\n",
       "    <tr>\n",
       "      <th>ENSG00000099785</th>\n",
       "      <td>2.521863e-09</td>\n",
       "      <td>7.002395e-08</td>\n",
       "      <td>4.346957</td>\n",
       "      <td>5.350497</td>\n",
       "      <td>1.003540</td>\n",
       "    </tr>\n",
       "    <tr>\n",
       "      <th>ENSG00000187824</th>\n",
       "      <td>1.747159e-07</td>\n",
       "      <td>3.423888e-06</td>\n",
       "      <td>3.617651</td>\n",
       "      <td>4.620586</td>\n",
       "      <td>1.002935</td>\n",
       "    </tr>\n",
       "    <tr>\n",
       "      <th>ENSG00000100412</th>\n",
       "      <td>8.848764e-08</td>\n",
       "      <td>1.817724e-06</td>\n",
       "      <td>4.499846</td>\n",
       "      <td>5.500643</td>\n",
       "      <td>1.000797</td>\n",
       "    </tr>\n",
       "    <tr>\n",
       "      <th>ENSG00000120129</th>\n",
       "      <td>1.607696e-04</td>\n",
       "      <td>1.567672e-03</td>\n",
       "      <td>4.710118</td>\n",
       "      <td>5.710806</td>\n",
       "      <td>1.000689</td>\n",
       "    </tr>\n",
       "    <tr>\n",
       "      <th>ENSG00000178573</th>\n",
       "      <td>4.997932e-04</td>\n",
       "      <td>4.207335e-03</td>\n",
       "      <td>1.837943</td>\n",
       "      <td>2.837943</td>\n",
       "      <td>1.000000</td>\n",
       "    </tr>\n",
       "  </tbody>\n",
       "</table>\n",
       "<p>1204 rows × 5 columns</p>\n",
       "</div>"
      ],
      "text/plain": [
       "                         pval           fdr  log2_mean_preadipo  \\\n",
       "Gene_ID                                                           \n",
       "ENSG00000170323  3.144794e-46  7.404844e-42            6.845176   \n",
       "ENSG00000130208  8.895025e-39  1.222581e-35            7.183883   \n",
       "ENSG00000055957  1.698795e-39  3.210511e-36            2.255501   \n",
       "ENSG00000122378  4.726720e-43  2.858531e-39            3.520422   \n",
       "ENSG00000135447  2.149862e-40  5.909776e-37            1.419539   \n",
       "...                       ...           ...                 ...   \n",
       "ENSG00000099785  2.521863e-09  7.002395e-08            4.346957   \n",
       "ENSG00000187824  1.747159e-07  3.423888e-06            3.617651   \n",
       "ENSG00000100412  8.848764e-08  1.817724e-06            4.499846   \n",
       "ENSG00000120129  1.607696e-04  1.567672e-03            4.710118   \n",
       "ENSG00000178573  4.997932e-04  4.207335e-03            1.837943   \n",
       "\n",
       "                 log2_mean_adipo  log2_fold_change  \n",
       "Gene_ID                                             \n",
       "ENSG00000170323        13.011066          6.165889  \n",
       "ENSG00000130208        13.134579          5.950695  \n",
       "ENSG00000055957         7.901772          5.646271  \n",
       "ENSG00000122378         9.164656          5.644233  \n",
       "ENSG00000135447         6.984988          5.565449  \n",
       "...                          ...               ...  \n",
       "ENSG00000099785         5.350497          1.003540  \n",
       "ENSG00000187824         4.620586          1.002935  \n",
       "ENSG00000100412         5.500643          1.000797  \n",
       "ENSG00000120129         5.710806          1.000689  \n",
       "ENSG00000178573         2.837943          1.000000  \n",
       "\n",
       "[1204 rows x 5 columns]"
      ]
     },
     "execution_count": 18,
     "metadata": {},
     "output_type": "execute_result"
    }
   ],
   "source": [
    "de_results.sort_values('log2_fold_change', ascending=False, inplace=True)\n",
    "de_results = de_results[de_results[\"fdr\"] < 0.05]\n",
    "de_results = de_results[de_results[\"log2_fold_change\"] > 1]\n",
    "de_results"
   ]
  },
  {
   "cell_type": "markdown",
   "metadata": {},
   "source": [
    "\n",
    "## 3. Investigating top marker genes\n",
    "#### 3.a)"
   ]
  },
  {
   "cell_type": "code",
   "execution_count": 19,
   "metadata": {},
   "outputs": [
    {
     "data": {
      "text/html": [
       "<div>\n",
       "<style scoped>\n",
       "    .dataframe tbody tr th:only-of-type {\n",
       "        vertical-align: middle;\n",
       "    }\n",
       "\n",
       "    .dataframe tbody tr th {\n",
       "        vertical-align: top;\n",
       "    }\n",
       "\n",
       "    .dataframe thead th {\n",
       "        text-align: right;\n",
       "    }\n",
       "</style>\n",
       "<table border=\"1\" class=\"dataframe\">\n",
       "  <thead>\n",
       "    <tr style=\"text-align: right;\">\n",
       "      <th></th>\n",
       "      <th>pval</th>\n",
       "      <th>fdr</th>\n",
       "      <th>log2_mean_preadipo</th>\n",
       "      <th>log2_mean_adipo</th>\n",
       "      <th>log2_fold_change</th>\n",
       "      <th>gene_symbol</th>\n",
       "    </tr>\n",
       "    <tr>\n",
       "      <th>Gene_ID</th>\n",
       "      <th></th>\n",
       "      <th></th>\n",
       "      <th></th>\n",
       "      <th></th>\n",
       "      <th></th>\n",
       "      <th></th>\n",
       "    </tr>\n",
       "  </thead>\n",
       "  <tbody>\n",
       "    <tr>\n",
       "      <th>ENSG00000170323</th>\n",
       "      <td>3.144794e-46</td>\n",
       "      <td>7.404844e-42</td>\n",
       "      <td>6.845176</td>\n",
       "      <td>13.011066</td>\n",
       "      <td>6.165889</td>\n",
       "      <td>FABP4</td>\n",
       "    </tr>\n",
       "    <tr>\n",
       "      <th>ENSG00000130208</th>\n",
       "      <td>8.895025e-39</td>\n",
       "      <td>1.222581e-35</td>\n",
       "      <td>7.183883</td>\n",
       "      <td>13.134579</td>\n",
       "      <td>5.950695</td>\n",
       "      <td>APOC1</td>\n",
       "    </tr>\n",
       "    <tr>\n",
       "      <th>ENSG00000055957</th>\n",
       "      <td>1.698795e-39</td>\n",
       "      <td>3.210511e-36</td>\n",
       "      <td>2.255501</td>\n",
       "      <td>7.901772</td>\n",
       "      <td>5.646271</td>\n",
       "      <td>ITIH1</td>\n",
       "    </tr>\n",
       "    <tr>\n",
       "      <th>ENSG00000122378</th>\n",
       "      <td>4.726720e-43</td>\n",
       "      <td>2.858531e-39</td>\n",
       "      <td>3.520422</td>\n",
       "      <td>9.164656</td>\n",
       "      <td>5.644233</td>\n",
       "      <td>FAM213A</td>\n",
       "    </tr>\n",
       "    <tr>\n",
       "      <th>ENSG00000135447</th>\n",
       "      <td>2.149862e-40</td>\n",
       "      <td>5.909776e-37</td>\n",
       "      <td>1.419539</td>\n",
       "      <td>6.984988</td>\n",
       "      <td>5.565449</td>\n",
       "      <td>PPP1R1A</td>\n",
       "    </tr>\n",
       "    <tr>\n",
       "      <th>...</th>\n",
       "      <td>...</td>\n",
       "      <td>...</td>\n",
       "      <td>...</td>\n",
       "      <td>...</td>\n",
       "      <td>...</td>\n",
       "      <td>...</td>\n",
       "    </tr>\n",
       "    <tr>\n",
       "      <th>ENSG00000099785</th>\n",
       "      <td>2.521863e-09</td>\n",
       "      <td>7.002395e-08</td>\n",
       "      <td>4.346957</td>\n",
       "      <td>5.350497</td>\n",
       "      <td>1.003540</td>\n",
       "      <td>MARCH2</td>\n",
       "    </tr>\n",
       "    <tr>\n",
       "      <th>ENSG00000187824</th>\n",
       "      <td>1.747159e-07</td>\n",
       "      <td>3.423888e-06</td>\n",
       "      <td>3.617651</td>\n",
       "      <td>4.620586</td>\n",
       "      <td>1.002935</td>\n",
       "      <td>TMEM220</td>\n",
       "    </tr>\n",
       "    <tr>\n",
       "      <th>ENSG00000100412</th>\n",
       "      <td>8.848764e-08</td>\n",
       "      <td>1.817724e-06</td>\n",
       "      <td>4.499846</td>\n",
       "      <td>5.500643</td>\n",
       "      <td>1.000797</td>\n",
       "      <td>ACO2</td>\n",
       "    </tr>\n",
       "    <tr>\n",
       "      <th>ENSG00000120129</th>\n",
       "      <td>1.607696e-04</td>\n",
       "      <td>1.567672e-03</td>\n",
       "      <td>4.710118</td>\n",
       "      <td>5.710806</td>\n",
       "      <td>1.000689</td>\n",
       "      <td>DUSP1</td>\n",
       "    </tr>\n",
       "    <tr>\n",
       "      <th>ENSG00000178573</th>\n",
       "      <td>4.997932e-04</td>\n",
       "      <td>4.207335e-03</td>\n",
       "      <td>1.837943</td>\n",
       "      <td>2.837943</td>\n",
       "      <td>1.000000</td>\n",
       "      <td>MAF</td>\n",
       "    </tr>\n",
       "  </tbody>\n",
       "</table>\n",
       "<p>1204 rows × 6 columns</p>\n",
       "</div>"
      ],
      "text/plain": [
       "                         pval           fdr  log2_mean_preadipo  \\\n",
       "Gene_ID                                                           \n",
       "ENSG00000170323  3.144794e-46  7.404844e-42            6.845176   \n",
       "ENSG00000130208  8.895025e-39  1.222581e-35            7.183883   \n",
       "ENSG00000055957  1.698795e-39  3.210511e-36            2.255501   \n",
       "ENSG00000122378  4.726720e-43  2.858531e-39            3.520422   \n",
       "ENSG00000135447  2.149862e-40  5.909776e-37            1.419539   \n",
       "...                       ...           ...                 ...   \n",
       "ENSG00000099785  2.521863e-09  7.002395e-08            4.346957   \n",
       "ENSG00000187824  1.747159e-07  3.423888e-06            3.617651   \n",
       "ENSG00000100412  8.848764e-08  1.817724e-06            4.499846   \n",
       "ENSG00000120129  1.607696e-04  1.567672e-03            4.710118   \n",
       "ENSG00000178573  4.997932e-04  4.207335e-03            1.837943   \n",
       "\n",
       "                 log2_mean_adipo  log2_fold_change gene_symbol  \n",
       "Gene_ID                                                         \n",
       "ENSG00000170323        13.011066          6.165889       FABP4  \n",
       "ENSG00000130208        13.134579          5.950695       APOC1  \n",
       "ENSG00000055957         7.901772          5.646271       ITIH1  \n",
       "ENSG00000122378         9.164656          5.644233     FAM213A  \n",
       "ENSG00000135447         6.984988          5.565449     PPP1R1A  \n",
       "...                          ...               ...         ...  \n",
       "ENSG00000099785         5.350497          1.003540      MARCH2  \n",
       "ENSG00000187824         4.620586          1.002935     TMEM220  \n",
       "ENSG00000100412         5.500643          1.000797        ACO2  \n",
       "ENSG00000120129         5.710806          1.000689       DUSP1  \n",
       "ENSG00000178573         2.837943          1.000000         MAF  \n",
       "\n",
       "[1204 rows x 6 columns]"
      ]
     },
     "execution_count": 19,
     "metadata": {},
     "output_type": "execute_result"
    }
   ],
   "source": [
    "gene_annotation = pd.read_csv( os.path.join(core_path, 'Homo_sapiens.GRCh37.75.gene_annotation.txt'),sep= \"\\t\")\n",
    "gene_annotation.index = gene_annotation.Ensembl\n",
    "gene_annotation2 = gene_annotation.loc[de_results.index,:]\n",
    "de_results[\"gene_symbol\"] = gene_annotation2.Name\n",
    "de_results"
   ]
  },
  {
   "cell_type": "markdown",
   "metadata": {},
   "source": [
    "#### 3.b)"
   ]
  },
  {
   "cell_type": "code",
   "execution_count": 20,
   "metadata": {},
   "outputs": [
    {
     "data": {
      "text/html": [
       "<div>\n",
       "<style scoped>\n",
       "    .dataframe tbody tr th:only-of-type {\n",
       "        vertical-align: middle;\n",
       "    }\n",
       "\n",
       "    .dataframe tbody tr th {\n",
       "        vertical-align: top;\n",
       "    }\n",
       "\n",
       "    .dataframe thead th {\n",
       "        text-align: right;\n",
       "    }\n",
       "</style>\n",
       "<table border=\"1\" class=\"dataframe\">\n",
       "  <thead>\n",
       "    <tr style=\"text-align: right;\">\n",
       "      <th></th>\n",
       "      <th>Sample_1_preadi</th>\n",
       "      <th>Sample_2_preadi</th>\n",
       "      <th>Sample_3_preadi</th>\n",
       "      <th>Sample_4_preadi</th>\n",
       "      <th>Sample_5_preadi</th>\n",
       "      <th>Sample_6_preadi</th>\n",
       "      <th>Sample_7_preadi</th>\n",
       "      <th>Sample_8_preadi</th>\n",
       "      <th>Sample_9_preadi</th>\n",
       "      <th>Sample_10_preadi</th>\n",
       "      <th>...</th>\n",
       "      <th>Sample_72_adipo</th>\n",
       "      <th>Sample_73_adipo</th>\n",
       "      <th>Sample_74_adipo</th>\n",
       "      <th>Sample_75_adipo</th>\n",
       "      <th>Sample_76_adipo</th>\n",
       "      <th>Sample_77_adipo</th>\n",
       "      <th>Sample_78_adipo</th>\n",
       "      <th>Sample_79_adipo</th>\n",
       "      <th>Sample_80_adipo</th>\n",
       "      <th>Name</th>\n",
       "    </tr>\n",
       "    <tr>\n",
       "      <th>Gene_ID</th>\n",
       "      <th></th>\n",
       "      <th></th>\n",
       "      <th></th>\n",
       "      <th></th>\n",
       "      <th></th>\n",
       "      <th></th>\n",
       "      <th></th>\n",
       "      <th></th>\n",
       "      <th></th>\n",
       "      <th></th>\n",
       "      <th></th>\n",
       "      <th></th>\n",
       "      <th></th>\n",
       "      <th></th>\n",
       "      <th></th>\n",
       "      <th></th>\n",
       "      <th></th>\n",
       "      <th></th>\n",
       "      <th></th>\n",
       "      <th></th>\n",
       "      <th></th>\n",
       "    </tr>\n",
       "  </thead>\n",
       "  <tbody>\n",
       "    <tr>\n",
       "      <th>ENSG00000000003</th>\n",
       "      <td>18</td>\n",
       "      <td>12</td>\n",
       "      <td>9</td>\n",
       "      <td>20</td>\n",
       "      <td>9</td>\n",
       "      <td>13</td>\n",
       "      <td>20</td>\n",
       "      <td>8</td>\n",
       "      <td>4</td>\n",
       "      <td>7</td>\n",
       "      <td>...</td>\n",
       "      <td>9</td>\n",
       "      <td>30</td>\n",
       "      <td>9</td>\n",
       "      <td>23</td>\n",
       "      <td>16</td>\n",
       "      <td>3</td>\n",
       "      <td>14</td>\n",
       "      <td>11</td>\n",
       "      <td>16</td>\n",
       "      <td>TSPAN6</td>\n",
       "    </tr>\n",
       "    <tr>\n",
       "      <th>ENSG00000000005</th>\n",
       "      <td>0</td>\n",
       "      <td>0</td>\n",
       "      <td>0</td>\n",
       "      <td>2</td>\n",
       "      <td>0</td>\n",
       "      <td>0</td>\n",
       "      <td>0</td>\n",
       "      <td>0</td>\n",
       "      <td>0</td>\n",
       "      <td>0</td>\n",
       "      <td>...</td>\n",
       "      <td>1</td>\n",
       "      <td>29</td>\n",
       "      <td>2</td>\n",
       "      <td>22</td>\n",
       "      <td>3</td>\n",
       "      <td>0</td>\n",
       "      <td>2</td>\n",
       "      <td>0</td>\n",
       "      <td>5</td>\n",
       "      <td>TNMD</td>\n",
       "    </tr>\n",
       "    <tr>\n",
       "      <th>ENSG00000000419</th>\n",
       "      <td>10</td>\n",
       "      <td>9</td>\n",
       "      <td>9</td>\n",
       "      <td>8</td>\n",
       "      <td>10</td>\n",
       "      <td>10</td>\n",
       "      <td>6</td>\n",
       "      <td>35</td>\n",
       "      <td>13</td>\n",
       "      <td>15</td>\n",
       "      <td>...</td>\n",
       "      <td>9</td>\n",
       "      <td>9</td>\n",
       "      <td>15</td>\n",
       "      <td>8</td>\n",
       "      <td>9</td>\n",
       "      <td>9</td>\n",
       "      <td>4</td>\n",
       "      <td>16</td>\n",
       "      <td>5</td>\n",
       "      <td>DPM1</td>\n",
       "    </tr>\n",
       "    <tr>\n",
       "      <th>ENSG00000000457</th>\n",
       "      <td>0</td>\n",
       "      <td>11</td>\n",
       "      <td>0</td>\n",
       "      <td>6</td>\n",
       "      <td>2</td>\n",
       "      <td>12</td>\n",
       "      <td>11</td>\n",
       "      <td>1</td>\n",
       "      <td>2</td>\n",
       "      <td>0</td>\n",
       "      <td>...</td>\n",
       "      <td>8</td>\n",
       "      <td>8</td>\n",
       "      <td>5</td>\n",
       "      <td>6</td>\n",
       "      <td>0</td>\n",
       "      <td>12</td>\n",
       "      <td>13</td>\n",
       "      <td>4</td>\n",
       "      <td>11</td>\n",
       "      <td>SCYL3</td>\n",
       "    </tr>\n",
       "    <tr>\n",
       "      <th>ENSG00000000460</th>\n",
       "      <td>0</td>\n",
       "      <td>0</td>\n",
       "      <td>14</td>\n",
       "      <td>4</td>\n",
       "      <td>5</td>\n",
       "      <td>0</td>\n",
       "      <td>0</td>\n",
       "      <td>6</td>\n",
       "      <td>4</td>\n",
       "      <td>0</td>\n",
       "      <td>...</td>\n",
       "      <td>0</td>\n",
       "      <td>3</td>\n",
       "      <td>0</td>\n",
       "      <td>1</td>\n",
       "      <td>0</td>\n",
       "      <td>1</td>\n",
       "      <td>4</td>\n",
       "      <td>0</td>\n",
       "      <td>10</td>\n",
       "      <td>C1orf112</td>\n",
       "    </tr>\n",
       "    <tr>\n",
       "      <th>...</th>\n",
       "      <td>...</td>\n",
       "      <td>...</td>\n",
       "      <td>...</td>\n",
       "      <td>...</td>\n",
       "      <td>...</td>\n",
       "      <td>...</td>\n",
       "      <td>...</td>\n",
       "      <td>...</td>\n",
       "      <td>...</td>\n",
       "      <td>...</td>\n",
       "      <td>...</td>\n",
       "      <td>...</td>\n",
       "      <td>...</td>\n",
       "      <td>...</td>\n",
       "      <td>...</td>\n",
       "      <td>...</td>\n",
       "      <td>...</td>\n",
       "      <td>...</td>\n",
       "      <td>...</td>\n",
       "      <td>...</td>\n",
       "      <td>...</td>\n",
       "    </tr>\n",
       "    <tr>\n",
       "      <th>ENSG00000273485</th>\n",
       "      <td>0</td>\n",
       "      <td>0</td>\n",
       "      <td>0</td>\n",
       "      <td>1</td>\n",
       "      <td>0</td>\n",
       "      <td>5</td>\n",
       "      <td>0</td>\n",
       "      <td>0</td>\n",
       "      <td>0</td>\n",
       "      <td>0</td>\n",
       "      <td>...</td>\n",
       "      <td>0</td>\n",
       "      <td>0</td>\n",
       "      <td>0</td>\n",
       "      <td>0</td>\n",
       "      <td>12</td>\n",
       "      <td>0</td>\n",
       "      <td>0</td>\n",
       "      <td>0</td>\n",
       "      <td>0</td>\n",
       "      <td>RP11-225H22.7</td>\n",
       "    </tr>\n",
       "    <tr>\n",
       "      <th>ENSG00000273486</th>\n",
       "      <td>0</td>\n",
       "      <td>0</td>\n",
       "      <td>0</td>\n",
       "      <td>0</td>\n",
       "      <td>1</td>\n",
       "      <td>0</td>\n",
       "      <td>0</td>\n",
       "      <td>0</td>\n",
       "      <td>0</td>\n",
       "      <td>0</td>\n",
       "      <td>...</td>\n",
       "      <td>2</td>\n",
       "      <td>0</td>\n",
       "      <td>3</td>\n",
       "      <td>0</td>\n",
       "      <td>2</td>\n",
       "      <td>5</td>\n",
       "      <td>1</td>\n",
       "      <td>0</td>\n",
       "      <td>0</td>\n",
       "      <td>RP11-731C17.2</td>\n",
       "    </tr>\n",
       "    <tr>\n",
       "      <th>ENSG00000273487</th>\n",
       "      <td>0</td>\n",
       "      <td>0</td>\n",
       "      <td>0</td>\n",
       "      <td>0</td>\n",
       "      <td>0</td>\n",
       "      <td>0</td>\n",
       "      <td>0</td>\n",
       "      <td>0</td>\n",
       "      <td>0</td>\n",
       "      <td>0</td>\n",
       "      <td>...</td>\n",
       "      <td>0</td>\n",
       "      <td>0</td>\n",
       "      <td>0</td>\n",
       "      <td>0</td>\n",
       "      <td>0</td>\n",
       "      <td>0</td>\n",
       "      <td>0</td>\n",
       "      <td>0</td>\n",
       "      <td>0</td>\n",
       "      <td>RP4-621B10.8</td>\n",
       "    </tr>\n",
       "    <tr>\n",
       "      <th>ENSG00000273489</th>\n",
       "      <td>0</td>\n",
       "      <td>0</td>\n",
       "      <td>0</td>\n",
       "      <td>2</td>\n",
       "      <td>0</td>\n",
       "      <td>1</td>\n",
       "      <td>8</td>\n",
       "      <td>0</td>\n",
       "      <td>0</td>\n",
       "      <td>0</td>\n",
       "      <td>...</td>\n",
       "      <td>0</td>\n",
       "      <td>0</td>\n",
       "      <td>0</td>\n",
       "      <td>0</td>\n",
       "      <td>0</td>\n",
       "      <td>0</td>\n",
       "      <td>0</td>\n",
       "      <td>0</td>\n",
       "      <td>0</td>\n",
       "      <td>RP11-180C16.1</td>\n",
       "    </tr>\n",
       "    <tr>\n",
       "      <th>ENSG00000273493</th>\n",
       "      <td>0</td>\n",
       "      <td>0</td>\n",
       "      <td>0</td>\n",
       "      <td>0</td>\n",
       "      <td>0</td>\n",
       "      <td>0</td>\n",
       "      <td>0</td>\n",
       "      <td>0</td>\n",
       "      <td>1</td>\n",
       "      <td>0</td>\n",
       "      <td>...</td>\n",
       "      <td>0</td>\n",
       "      <td>0</td>\n",
       "      <td>0</td>\n",
       "      <td>0</td>\n",
       "      <td>0</td>\n",
       "      <td>0</td>\n",
       "      <td>0</td>\n",
       "      <td>3</td>\n",
       "      <td>0</td>\n",
       "      <td>RP11-80H18.4</td>\n",
       "    </tr>\n",
       "  </tbody>\n",
       "</table>\n",
       "<p>30238 rows × 81 columns</p>\n",
       "</div>"
      ],
      "text/plain": [
       "                 Sample_1_preadi  Sample_2_preadi  Sample_3_preadi  \\\n",
       "Gene_ID                                                              \n",
       "ENSG00000000003               18               12                9   \n",
       "ENSG00000000005                0                0                0   \n",
       "ENSG00000000419               10                9                9   \n",
       "ENSG00000000457                0               11                0   \n",
       "ENSG00000000460                0                0               14   \n",
       "...                          ...              ...              ...   \n",
       "ENSG00000273485                0                0                0   \n",
       "ENSG00000273486                0                0                0   \n",
       "ENSG00000273487                0                0                0   \n",
       "ENSG00000273489                0                0                0   \n",
       "ENSG00000273493                0                0                0   \n",
       "\n",
       "                 Sample_4_preadi  Sample_5_preadi  Sample_6_preadi  \\\n",
       "Gene_ID                                                              \n",
       "ENSG00000000003               20                9               13   \n",
       "ENSG00000000005                2                0                0   \n",
       "ENSG00000000419                8               10               10   \n",
       "ENSG00000000457                6                2               12   \n",
       "ENSG00000000460                4                5                0   \n",
       "...                          ...              ...              ...   \n",
       "ENSG00000273485                1                0                5   \n",
       "ENSG00000273486                0                1                0   \n",
       "ENSG00000273487                0                0                0   \n",
       "ENSG00000273489                2                0                1   \n",
       "ENSG00000273493                0                0                0   \n",
       "\n",
       "                 Sample_7_preadi  Sample_8_preadi  Sample_9_preadi  \\\n",
       "Gene_ID                                                              \n",
       "ENSG00000000003               20                8                4   \n",
       "ENSG00000000005                0                0                0   \n",
       "ENSG00000000419                6               35               13   \n",
       "ENSG00000000457               11                1                2   \n",
       "ENSG00000000460                0                6                4   \n",
       "...                          ...              ...              ...   \n",
       "ENSG00000273485                0                0                0   \n",
       "ENSG00000273486                0                0                0   \n",
       "ENSG00000273487                0                0                0   \n",
       "ENSG00000273489                8                0                0   \n",
       "ENSG00000273493                0                0                1   \n",
       "\n",
       "                 Sample_10_preadi  ...  Sample_72_adipo  Sample_73_adipo  \\\n",
       "Gene_ID                            ...                                     \n",
       "ENSG00000000003                 7  ...                9               30   \n",
       "ENSG00000000005                 0  ...                1               29   \n",
       "ENSG00000000419                15  ...                9                9   \n",
       "ENSG00000000457                 0  ...                8                8   \n",
       "ENSG00000000460                 0  ...                0                3   \n",
       "...                           ...  ...              ...              ...   \n",
       "ENSG00000273485                 0  ...                0                0   \n",
       "ENSG00000273486                 0  ...                2                0   \n",
       "ENSG00000273487                 0  ...                0                0   \n",
       "ENSG00000273489                 0  ...                0                0   \n",
       "ENSG00000273493                 0  ...                0                0   \n",
       "\n",
       "                 Sample_74_adipo  Sample_75_adipo  Sample_76_adipo  \\\n",
       "Gene_ID                                                              \n",
       "ENSG00000000003                9               23               16   \n",
       "ENSG00000000005                2               22                3   \n",
       "ENSG00000000419               15                8                9   \n",
       "ENSG00000000457                5                6                0   \n",
       "ENSG00000000460                0                1                0   \n",
       "...                          ...              ...              ...   \n",
       "ENSG00000273485                0                0               12   \n",
       "ENSG00000273486                3                0                2   \n",
       "ENSG00000273487                0                0                0   \n",
       "ENSG00000273489                0                0                0   \n",
       "ENSG00000273493                0                0                0   \n",
       "\n",
       "                 Sample_77_adipo  Sample_78_adipo  Sample_79_adipo  \\\n",
       "Gene_ID                                                              \n",
       "ENSG00000000003                3               14               11   \n",
       "ENSG00000000005                0                2                0   \n",
       "ENSG00000000419                9                4               16   \n",
       "ENSG00000000457               12               13                4   \n",
       "ENSG00000000460                1                4                0   \n",
       "...                          ...              ...              ...   \n",
       "ENSG00000273485                0                0                0   \n",
       "ENSG00000273486                5                1                0   \n",
       "ENSG00000273487                0                0                0   \n",
       "ENSG00000273489                0                0                0   \n",
       "ENSG00000273493                0                0                3   \n",
       "\n",
       "                 Sample_80_adipo           Name  \n",
       "Gene_ID                                          \n",
       "ENSG00000000003               16         TSPAN6  \n",
       "ENSG00000000005                5           TNMD  \n",
       "ENSG00000000419                5           DPM1  \n",
       "ENSG00000000457               11          SCYL3  \n",
       "ENSG00000000460               10       C1orf112  \n",
       "...                          ...            ...  \n",
       "ENSG00000273485                0  RP11-225H22.7  \n",
       "ENSG00000273486                0  RP11-731C17.2  \n",
       "ENSG00000273487                0   RP4-621B10.8  \n",
       "ENSG00000273489                0  RP11-180C16.1  \n",
       "ENSG00000273493                0   RP11-80H18.4  \n",
       "\n",
       "[30238 rows x 81 columns]"
      ]
     },
     "execution_count": 20,
     "metadata": {},
     "output_type": "execute_result"
    }
   ],
   "source": [
    "gene_annotation3 = gene_annotation.loc[transcriptomics.index,:]\n",
    "transcriptomics_annotate = pd.concat([transcriptomics, gene_annotation3.Name], axis=1)\n",
    "transcriptomics_annotate\n"
   ]
  },
  {
   "cell_type": "code",
   "execution_count": 21,
   "metadata": {},
   "outputs": [],
   "source": [
    "pca_output_log_df[\"top_marker_gene_expression\"] = np.array(transcriptomics.loc['ENSG00000170323'])\n",
    "pca_output_log_df[\"top_marker_gene_expression\"] = pca_output_log_df[\"top_marker_gene_expression\"].astype(float)"
   ]
  },
  {
   "cell_type": "code",
   "execution_count": 22,
   "metadata": {},
   "outputs": [],
   "source": [
    "def top_marker_gene_plot (df, column_name, Ensembl_name, Gene_symbol):\n",
    "    fig = plt.figure(figsize=(10,10))\n",
    "    fig.suptitle(\"Expression of the top marker gene \" + Ensembl_name + \" of gene symbol \" +Gene_symbol )\n",
    "\n",
    "    #ax1 = ax1.axes(projection =\"3d\")\n",
    "    ax1 = fig.add_subplot(2, 2, 2, projection='3d')\n",
    "    ax1.scatter3D(df['PCA1'], df['PCA2'], df['PCA3'], c =df[column_name])#, cmap=cmap)\n",
    "\n",
    "    ax2 = fig.add_subplot(2, 2, 1)\n",
    "    ax2 = sns.scatterplot(x=df['PCA1'], y=df['PCA2'], hue=df[column_name] , cmap=cmap)\n",
    "    fig.show()\n"
   ]
  },
  {
   "cell_type": "code",
   "execution_count": 23,
   "metadata": {},
   "outputs": [
    {
     "name": "stderr",
     "output_type": "stream",
     "text": [
      "<ipython-input-22-9d2ca4949a6c>:11: UserWarning:\n",
      "\n",
      "Matplotlib is currently using module://ipykernel.pylab.backend_inline, which is a non-GUI backend, so cannot show the figure.\n",
      "\n"
     ]
    },
    {
     "data": {
      "image/png": "[encoded data removed]",
      "text/plain": [
       "<Figure size 720x720 with 2 Axes>"
      ]
     },
     "metadata": {
      "needs_background": "light"
     },
     "output_type": "display_data"
    }
   ],
   "source": [
    "name = transcriptomics_annotate.loc[\"ENSG00000170323\"].Name\n",
    "cmap= sns.color_palette(\"rocket\", as_cmap=True)\n",
    "top_marker_gene_plot(pca_output_log_df,\"top_marker_gene_expression\", \"ENSG00000170323\", name)"
   ]
  },
  {
   "cell_type": "markdown",
   "metadata": {},
   "source": [
    "3.d"
   ]
  },
  {
   "cell_type": "code",
   "execution_count": 24,
   "metadata": {},
   "outputs": [],
   "source": [
    "Adipo_samples = {i for i in dict_sample if dict_sample[i]==\"Adipo\"}\n",
    "PreAdipo_samples = {i for i in dict_sample if dict_sample[i]==\"PreAdipo\"}\n",
    "\n",
    "up_down_reg = pd.DataFrame(index = transcriptomics.index, columns = [\"log2_mean_preadipo\",\"log2_mean_adipo\",\"log2_fold_change\"])\n",
    "\n",
    "up_down_reg[\"log2_mean_preadipo\"] = np.log2(transcriptomics[PreAdipo_samples].mean(axis=1)+1)\n",
    "up_down_reg[\"log2_mean_adipo\"] = np.log2(transcriptomics[Adipo_samples].mean(axis=1)+1)\n",
    "up_down_reg[\"log2_fold_change\"] = (up_down_reg[\"log2_mean_adipo\"] - up_down_reg[\"log2_mean_preadipo\"])\n",
    "up_reg = up_down_reg.sort_values('log2_fold_change', ascending=False).iloc[:20]\n",
    "down_reg = up_down_reg.sort_values('log2_fold_change', ascending=True).iloc[:20]\n"
   ]
  },
  {
   "cell_type": "code",
   "execution_count": 30,
   "metadata": {},
   "outputs": [
    {
     "data": {
      "text/plain": [
       "['ENSG00000170323',\n",
       " 'ENSG00000130208',\n",
       " 'ENSG00000055957',\n",
       " 'ENSG00000122378',\n",
       " 'ENSG00000135447',\n",
       " 'ENSG00000181856',\n",
       " 'ENSG00000175445',\n",
       " 'ENSG00000103723',\n",
       " 'ENSG00000123689',\n",
       " 'ENSG00000167588',\n",
       " 'ENSG00000091513',\n",
       " 'ENSG00000131471',\n",
       " 'ENSG00000170262',\n",
       " 'ENSG00000181092',\n",
       " 'ENSG00000064886',\n",
       " 'ENSG00000130203',\n",
       " 'ENSG00000187288',\n",
       " 'ENSG00000138207',\n",
       " 'ENSG00000174697',\n",
       " 'ENSG00000166819']"
      ]
     },
     "execution_count": 30,
     "metadata": {},
     "output_type": "execute_result"
    }
   ],
   "source": [
    "list(up_reg.index)"
   ]
  },
  {
   "cell_type": "code",
   "execution_count": 103,
   "metadata": {},
   "outputs": [],
   "source": [
    "def ensembl_name_to_gene_name(ensembl_name):\n",
    "    return transcriptomics_annotate.loc[ensembl_name].Name"
   ]
  },
  {
   "cell_type": "code",
   "execution_count": 119,
   "metadata": {},
   "outputs": [
    {
     "data": {
      "text/plain": [
       "['ENSG00000170323',\n",
       " 'ENSG00000130208',\n",
       " 'ENSG00000055957',\n",
       " 'ENSG00000122378',\n",
       " 'ENSG00000135447',\n",
       " 'ENSG00000181856',\n",
       " 'ENSG00000175445',\n",
       " 'ENSG00000103723',\n",
       " 'ENSG00000123689',\n",
       " 'ENSG00000167588',\n",
       " 'ENSG00000091513',\n",
       " 'ENSG00000131471',\n",
       " 'ENSG00000170262',\n",
       " 'ENSG00000181092',\n",
       " 'ENSG00000064886',\n",
       " 'ENSG00000130203',\n",
       " 'ENSG00000187288',\n",
       " 'ENSG00000138207',\n",
       " 'ENSG00000174697',\n",
       " 'ENSG00000166819',\n",
       " 'ENSG00000214100',\n",
       " 'ENSG00000264433',\n",
       " 'ENSG00000149968',\n",
       " 'ENSG00000117399',\n",
       " 'ENSG00000089685',\n",
       " 'ENSG00000196611',\n",
       " 'ENSG00000115884',\n",
       " 'ENSG00000166803',\n",
       " 'ENSG00000186193',\n",
       " 'ENSG00000205362',\n",
       " 'ENSG00000250038',\n",
       " 'ENSG00000079462',\n",
       " 'ENSG00000114270',\n",
       " 'ENSG00000158270',\n",
       " 'ENSG00000109881',\n",
       " 'ENSG00000188064',\n",
       " 'ENSG00000135451',\n",
       " 'ENSG00000148773',\n",
       " 'ENSG00000163739',\n",
       " 'ENSG00000150551']"
      ]
     },
     "execution_count": 119,
     "metadata": {},
     "output_type": "execute_result"
    }
   ],
   "source": [
    "list(preadipo.columns[:-1])"
   ]
  },
  {
   "cell_type": "code",
   "execution_count": 128,
   "metadata": {},
   "outputs": [
    {
     "data": {
      "text/html": [
       "<div>\n",
       "<style scoped>\n",
       "    .dataframe tbody tr th:only-of-type {\n",
       "        vertical-align: middle;\n",
       "    }\n",
       "\n",
       "    .dataframe tbody tr th {\n",
       "        vertical-align: top;\n",
       "    }\n",
       "\n",
       "    .dataframe thead th {\n",
       "        text-align: right;\n",
       "    }\n",
       "</style>\n",
       "<table border=\"1\" class=\"dataframe\">\n",
       "  <thead>\n",
       "    <tr style=\"text-align: right;\">\n",
       "      <th>Gene_ID</th>\n",
       "      <th>FABP4</th>\n",
       "      <th>APOC1</th>\n",
       "      <th>ITIH1</th>\n",
       "      <th>FAM213A</th>\n",
       "      <th>PPP1R1A</th>\n",
       "      <th>SLC2A4</th>\n",
       "      <th>LPL</th>\n",
       "      <th>AP3B2</th>\n",
       "      <th>G0S2</th>\n",
       "      <th>GPD1</th>\n",
       "      <th>...</th>\n",
       "      <th>PAFAH1B3</th>\n",
       "      <th>COL7A1</th>\n",
       "      <th>COLEC12</th>\n",
       "      <th>CCDC34</th>\n",
       "      <th>WNT7B</th>\n",
       "      <th>TROAP</th>\n",
       "      <th>MKI67</th>\n",
       "      <th>CXCL1</th>\n",
       "      <th>LYPD1</th>\n",
       "      <th>label</th>\n",
       "    </tr>\n",
       "  </thead>\n",
       "  <tbody>\n",
       "    <tr>\n",
       "      <th>Sample_10_preadi</th>\n",
       "      <td>52</td>\n",
       "      <td>95</td>\n",
       "      <td>4</td>\n",
       "      <td>2</td>\n",
       "      <td>0</td>\n",
       "      <td>0</td>\n",
       "      <td>17</td>\n",
       "      <td>0</td>\n",
       "      <td>130</td>\n",
       "      <td>10</td>\n",
       "      <td>...</td>\n",
       "      <td>25</td>\n",
       "      <td>40</td>\n",
       "      <td>0</td>\n",
       "      <td>57</td>\n",
       "      <td>1</td>\n",
       "      <td>3</td>\n",
       "      <td>0</td>\n",
       "      <td>6</td>\n",
       "      <td>1</td>\n",
       "      <td>PreAdipo</td>\n",
       "    </tr>\n",
       "    <tr>\n",
       "      <th>Sample_31_preadi</th>\n",
       "      <td>114</td>\n",
       "      <td>132</td>\n",
       "      <td>2</td>\n",
       "      <td>8</td>\n",
       "      <td>1</td>\n",
       "      <td>2</td>\n",
       "      <td>6</td>\n",
       "      <td>0</td>\n",
       "      <td>166</td>\n",
       "      <td>22</td>\n",
       "      <td>...</td>\n",
       "      <td>46</td>\n",
       "      <td>8</td>\n",
       "      <td>13</td>\n",
       "      <td>56</td>\n",
       "      <td>0</td>\n",
       "      <td>0</td>\n",
       "      <td>8</td>\n",
       "      <td>0</td>\n",
       "      <td>6</td>\n",
       "      <td>PreAdipo</td>\n",
       "    </tr>\n",
       "    <tr>\n",
       "      <th>Sample_4_preadi</th>\n",
       "      <td>107</td>\n",
       "      <td>158</td>\n",
       "      <td>4</td>\n",
       "      <td>15</td>\n",
       "      <td>0</td>\n",
       "      <td>0</td>\n",
       "      <td>7</td>\n",
       "      <td>0</td>\n",
       "      <td>40</td>\n",
       "      <td>24</td>\n",
       "      <td>...</td>\n",
       "      <td>38</td>\n",
       "      <td>32</td>\n",
       "      <td>56</td>\n",
       "      <td>124</td>\n",
       "      <td>5</td>\n",
       "      <td>15</td>\n",
       "      <td>83</td>\n",
       "      <td>36</td>\n",
       "      <td>8</td>\n",
       "      <td>PreAdipo</td>\n",
       "    </tr>\n",
       "    <tr>\n",
       "      <th>Sample_19_preadi</th>\n",
       "      <td>218</td>\n",
       "      <td>286</td>\n",
       "      <td>5</td>\n",
       "      <td>6</td>\n",
       "      <td>3</td>\n",
       "      <td>22</td>\n",
       "      <td>15</td>\n",
       "      <td>2</td>\n",
       "      <td>86</td>\n",
       "      <td>32</td>\n",
       "      <td>...</td>\n",
       "      <td>41</td>\n",
       "      <td>71</td>\n",
       "      <td>20</td>\n",
       "      <td>122</td>\n",
       "      <td>6</td>\n",
       "      <td>23</td>\n",
       "      <td>58</td>\n",
       "      <td>14</td>\n",
       "      <td>10</td>\n",
       "      <td>PreAdipo</td>\n",
       "    </tr>\n",
       "    <tr>\n",
       "      <th>Sample_16_preadi</th>\n",
       "      <td>89</td>\n",
       "      <td>119</td>\n",
       "      <td>3</td>\n",
       "      <td>3</td>\n",
       "      <td>1</td>\n",
       "      <td>0</td>\n",
       "      <td>6</td>\n",
       "      <td>1</td>\n",
       "      <td>19</td>\n",
       "      <td>18</td>\n",
       "      <td>...</td>\n",
       "      <td>50</td>\n",
       "      <td>17</td>\n",
       "      <td>59</td>\n",
       "      <td>174</td>\n",
       "      <td>6</td>\n",
       "      <td>17</td>\n",
       "      <td>60</td>\n",
       "      <td>26</td>\n",
       "      <td>14</td>\n",
       "      <td>PreAdipo</td>\n",
       "    </tr>\n",
       "    <tr>\n",
       "      <th>...</th>\n",
       "      <td>...</td>\n",
       "      <td>...</td>\n",
       "      <td>...</td>\n",
       "      <td>...</td>\n",
       "      <td>...</td>\n",
       "      <td>...</td>\n",
       "      <td>...</td>\n",
       "      <td>...</td>\n",
       "      <td>...</td>\n",
       "      <td>...</td>\n",
       "      <td>...</td>\n",
       "      <td>...</td>\n",
       "      <td>...</td>\n",
       "      <td>...</td>\n",
       "      <td>...</td>\n",
       "      <td>...</td>\n",
       "      <td>...</td>\n",
       "      <td>...</td>\n",
       "      <td>...</td>\n",
       "      <td>...</td>\n",
       "      <td>...</td>\n",
       "    </tr>\n",
       "    <tr>\n",
       "      <th>Sample_61_adipo</th>\n",
       "      <td>3293</td>\n",
       "      <td>5474</td>\n",
       "      <td>120</td>\n",
       "      <td>502</td>\n",
       "      <td>42</td>\n",
       "      <td>227</td>\n",
       "      <td>209</td>\n",
       "      <td>13</td>\n",
       "      <td>2078</td>\n",
       "      <td>706</td>\n",
       "      <td>...</td>\n",
       "      <td>14</td>\n",
       "      <td>1</td>\n",
       "      <td>5</td>\n",
       "      <td>12</td>\n",
       "      <td>0</td>\n",
       "      <td>3</td>\n",
       "      <td>5</td>\n",
       "      <td>0</td>\n",
       "      <td>1</td>\n",
       "      <td>Adipo</td>\n",
       "    </tr>\n",
       "    <tr>\n",
       "      <th>Sample_76_adipo</th>\n",
       "      <td>5547</td>\n",
       "      <td>5168</td>\n",
       "      <td>172</td>\n",
       "      <td>470</td>\n",
       "      <td>88</td>\n",
       "      <td>80</td>\n",
       "      <td>709</td>\n",
       "      <td>54</td>\n",
       "      <td>2349</td>\n",
       "      <td>929</td>\n",
       "      <td>...</td>\n",
       "      <td>7</td>\n",
       "      <td>12</td>\n",
       "      <td>0</td>\n",
       "      <td>6</td>\n",
       "      <td>0</td>\n",
       "      <td>3</td>\n",
       "      <td>6</td>\n",
       "      <td>0</td>\n",
       "      <td>0</td>\n",
       "      <td>Adipo</td>\n",
       "    </tr>\n",
       "    <tr>\n",
       "      <th>Sample_80_adipo</th>\n",
       "      <td>2961</td>\n",
       "      <td>3219</td>\n",
       "      <td>116</td>\n",
       "      <td>247</td>\n",
       "      <td>29</td>\n",
       "      <td>103</td>\n",
       "      <td>143</td>\n",
       "      <td>26</td>\n",
       "      <td>815</td>\n",
       "      <td>336</td>\n",
       "      <td>...</td>\n",
       "      <td>2</td>\n",
       "      <td>6</td>\n",
       "      <td>4</td>\n",
       "      <td>23</td>\n",
       "      <td>0</td>\n",
       "      <td>1</td>\n",
       "      <td>11</td>\n",
       "      <td>0</td>\n",
       "      <td>0</td>\n",
       "      <td>Adipo</td>\n",
       "    </tr>\n",
       "    <tr>\n",
       "      <th>Sample_55_adipo</th>\n",
       "      <td>20950</td>\n",
       "      <td>12387</td>\n",
       "      <td>286</td>\n",
       "      <td>437</td>\n",
       "      <td>265</td>\n",
       "      <td>88</td>\n",
       "      <td>892</td>\n",
       "      <td>63</td>\n",
       "      <td>4790</td>\n",
       "      <td>609</td>\n",
       "      <td>...</td>\n",
       "      <td>0</td>\n",
       "      <td>17</td>\n",
       "      <td>7</td>\n",
       "      <td>34</td>\n",
       "      <td>0</td>\n",
       "      <td>0</td>\n",
       "      <td>3</td>\n",
       "      <td>0</td>\n",
       "      <td>1</td>\n",
       "      <td>Adipo</td>\n",
       "    </tr>\n",
       "    <tr>\n",
       "      <th>Sample_71_adipo</th>\n",
       "      <td>5492</td>\n",
       "      <td>5535</td>\n",
       "      <td>296</td>\n",
       "      <td>405</td>\n",
       "      <td>86</td>\n",
       "      <td>184</td>\n",
       "      <td>233</td>\n",
       "      <td>36</td>\n",
       "      <td>2297</td>\n",
       "      <td>514</td>\n",
       "      <td>...</td>\n",
       "      <td>3</td>\n",
       "      <td>3</td>\n",
       "      <td>0</td>\n",
       "      <td>7</td>\n",
       "      <td>0</td>\n",
       "      <td>3</td>\n",
       "      <td>3</td>\n",
       "      <td>2</td>\n",
       "      <td>0</td>\n",
       "      <td>Adipo</td>\n",
       "    </tr>\n",
       "  </tbody>\n",
       "</table>\n",
       "<p>80 rows × 41 columns</p>\n",
       "</div>"
      ],
      "text/plain": [
       "Gene_ID           FABP4  APOC1  ITIH1  FAM213A  PPP1R1A  SLC2A4  LPL  AP3B2  \\\n",
       "Sample_10_preadi     52     95      4        2        0       0   17      0   \n",
       "Sample_31_preadi    114    132      2        8        1       2    6      0   \n",
       "Sample_4_preadi     107    158      4       15        0       0    7      0   \n",
       "Sample_19_preadi    218    286      5        6        3      22   15      2   \n",
       "Sample_16_preadi     89    119      3        3        1       0    6      1   \n",
       "...                 ...    ...    ...      ...      ...     ...  ...    ...   \n",
       "Sample_61_adipo    3293   5474    120      502       42     227  209     13   \n",
       "Sample_76_adipo    5547   5168    172      470       88      80  709     54   \n",
       "Sample_80_adipo    2961   3219    116      247       29     103  143     26   \n",
       "Sample_55_adipo   20950  12387    286      437      265      88  892     63   \n",
       "Sample_71_adipo    5492   5535    296      405       86     184  233     36   \n",
       "\n",
       "Gene_ID           G0S2  GPD1  ...  PAFAH1B3  COL7A1  COLEC12  CCDC34  WNT7B  \\\n",
       "Sample_10_preadi   130    10  ...        25      40        0      57      1   \n",
       "Sample_31_preadi   166    22  ...        46       8       13      56      0   \n",
       "Sample_4_preadi     40    24  ...        38      32       56     124      5   \n",
       "Sample_19_preadi    86    32  ...        41      71       20     122      6   \n",
       "Sample_16_preadi    19    18  ...        50      17       59     174      6   \n",
       "...                ...   ...  ...       ...     ...      ...     ...    ...   \n",
       "Sample_61_adipo   2078   706  ...        14       1        5      12      0   \n",
       "Sample_76_adipo   2349   929  ...         7      12        0       6      0   \n",
       "Sample_80_adipo    815   336  ...         2       6        4      23      0   \n",
       "Sample_55_adipo   4790   609  ...         0      17        7      34      0   \n",
       "Sample_71_adipo   2297   514  ...         3       3        0       7      0   \n",
       "\n",
       "Gene_ID           TROAP  MKI67  CXCL1  LYPD1     label  \n",
       "Sample_10_preadi      3      0      6      1  PreAdipo  \n",
       "Sample_31_preadi      0      8      0      6  PreAdipo  \n",
       "Sample_4_preadi      15     83     36      8  PreAdipo  \n",
       "Sample_19_preadi     23     58     14     10  PreAdipo  \n",
       "Sample_16_preadi     17     60     26     14  PreAdipo  \n",
       "...                 ...    ...    ...    ...       ...  \n",
       "Sample_61_adipo       3      5      0      1     Adipo  \n",
       "Sample_76_adipo       3      6      0      0     Adipo  \n",
       "Sample_80_adipo       1     11      0      0     Adipo  \n",
       "Sample_55_adipo       0      3      0      1     Adipo  \n",
       "Sample_71_adipo       3      3      2      0     Adipo  \n",
       "\n",
       "[80 rows x 41 columns]"
      ]
     },
     "execution_count": 128,
     "metadata": {},
     "output_type": "execute_result"
    }
   ],
   "source": [
    "preadipo = transcriptomics[PreAdipo_samples].T[list(up_reg.index) + list(down_reg.index)]\n",
    "preadipo['label'] = 40*['PreAdipo']\n",
    "adipo = transcriptomics[Adipo_samples].T[list(up_reg.index) + list(down_reg.index)]\n",
    "adipo['label'] = 40*['Adipo']\n",
    "cluster_df = pd.concat([preadipo, adipo], axis = 0)\n",
    "genes = [ensembl_name_to_gene_name(name) for name in preadipo.columns[:-1]]\n",
    "cluster_df.rename(columns = dict(zip(list(preadipo.columns[:-1]),  genes)), inplace = True)\n",
    "cluster_df"
   ]
  },
  {
   "cell_type": "code",
   "execution_count": 129,
   "metadata": {},
   "outputs": [
    {
     "data": {
      "text/plain": [
       "<seaborn.matrix.ClusterGrid at 0x7fc0003f0ca0>"
      ]
     },
     "execution_count": 129,
     "metadata": {},
     "output_type": "execute_result"
    },
    {
     "data": {
      "image/png": "[encoded data removed]",
      "text/plain": [
       "<Figure size 720x720 with 5 Axes>"
      ]
     },
     "metadata": {
      "needs_background": "light"
     },
     "output_type": "display_data"
    }
   ],
   "source": [
    "labels = cluster_df.pop(\"label\")\n",
    "lut = dict(zip(labels.unique(), [\"indigo\", \"plum\"]))\n",
    "row_colors = labels.map(lut)\n",
    "sns.clustermap(cluster_df.iloc[:,:-1], standard_scale=1, row_colors=row_colors, metric = \"correlation\", cbar_kws = {\"label\": \"Standardized gene expression\"})"
   ]
  },
  {
   "cell_type": "code",
   "execution_count": null,
   "metadata": {},
   "outputs": [],
   "source": []
  }
 ],
 "metadata": {
  "kernelspec": {
   "display_name": "Python 3.9.12 ('base')",
   "language": "python",
   "name": "python3"
  },
  "language_info": {
   "codemirror_mode": {
    "name": "ipython",
    "version": 3
   },
   "file_extension": ".py",
   "mimetype": "text/x-python",
   "name": "python",
   "nbconvert_exporter": "python",
   "pygments_lexer": "ipython3",
   "version": "3.8.8"
  },
  "orig_nbformat": 4,
  "vscode": {
   "interpreter": {
    "hash": "c0051bf15e6f5eb8fc38ebe6dca754a8fad5e89bb348636e1a79e96b02f6ad09"
   }
  }
 },
 "nbformat": 4,
 "nbformat_minor": 2
}
