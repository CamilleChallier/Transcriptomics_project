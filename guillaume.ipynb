{
 "cells": [
  {
   "cell_type": "code",
   "execution_count": 190,
   "metadata": {},
   "outputs": [],
   "source": [
    "import pandas as pd\n",
    "import numpy as np\n",
    "import os\n",
    "import matplotlib.pyplot as plt\n",
    "import seaborn as sns\n",
    "import plotly.express as px\n",
    "from sklearn.decomposition import PCA\n",
    "from scipy.stats import ttest_ind"
   ]
  },
  {
   "cell_type": "markdown",
   "metadata": {},
   "source": [
    "### 1. Load and visualize the data"
   ]
  },
  {
   "cell_type": "markdown",
   "metadata": {},
   "source": [
    "a) "
   ]
  },
  {
   "cell_type": "code",
   "execution_count": 154,
   "metadata": {},
   "outputs": [],
   "source": [
    "core_path = './data'\n",
    "transcriptomics = pd.read_csv( os.path.join(core_path, 'transcriptomics.dataset.txt'),sep= \"\\t\")"
   ]
  },
  {
   "cell_type": "code",
   "execution_count": 155,
   "metadata": {},
   "outputs": [
    {
     "data": {
      "text/html": [
       "<div>\n",
       "<style scoped>\n",
       "    .dataframe tbody tr th:only-of-type {\n",
       "        vertical-align: middle;\n",
       "    }\n",
       "\n",
       "    .dataframe tbody tr th {\n",
       "        vertical-align: top;\n",
       "    }\n",
       "\n",
       "    .dataframe thead th {\n",
       "        text-align: right;\n",
       "    }\n",
       "</style>\n",
       "<table border=\"1\" class=\"dataframe\">\n",
       "  <thead>\n",
       "    <tr style=\"text-align: right;\">\n",
       "      <th></th>\n",
       "      <th>Unnamed: 0</th>\n",
       "      <th>Sample_1_preadi</th>\n",
       "      <th>Sample_2_preadi</th>\n",
       "      <th>Sample_3_preadi</th>\n",
       "      <th>Sample_4_preadi</th>\n",
       "      <th>Sample_5_preadi</th>\n",
       "      <th>Sample_6_preadi</th>\n",
       "      <th>Sample_7_preadi</th>\n",
       "      <th>Sample_8_preadi</th>\n",
       "      <th>Sample_9_preadi</th>\n",
       "      <th>...</th>\n",
       "      <th>Sample_71_adipo</th>\n",
       "      <th>Sample_72_adipo</th>\n",
       "      <th>Sample_73_adipo</th>\n",
       "      <th>Sample_74_adipo</th>\n",
       "      <th>Sample_75_adipo</th>\n",
       "      <th>Sample_76_adipo</th>\n",
       "      <th>Sample_77_adipo</th>\n",
       "      <th>Sample_78_adipo</th>\n",
       "      <th>Sample_79_adipo</th>\n",
       "      <th>Sample_80_adipo</th>\n",
       "    </tr>\n",
       "  </thead>\n",
       "  <tbody>\n",
       "    <tr>\n",
       "      <th>0</th>\n",
       "      <td>ENSG00000000003</td>\n",
       "      <td>18</td>\n",
       "      <td>12</td>\n",
       "      <td>9</td>\n",
       "      <td>20</td>\n",
       "      <td>9</td>\n",
       "      <td>13</td>\n",
       "      <td>20</td>\n",
       "      <td>8</td>\n",
       "      <td>4</td>\n",
       "      <td>...</td>\n",
       "      <td>9</td>\n",
       "      <td>9</td>\n",
       "      <td>30</td>\n",
       "      <td>9</td>\n",
       "      <td>23</td>\n",
       "      <td>16</td>\n",
       "      <td>3</td>\n",
       "      <td>14</td>\n",
       "      <td>11</td>\n",
       "      <td>16</td>\n",
       "    </tr>\n",
       "    <tr>\n",
       "      <th>1</th>\n",
       "      <td>ENSG00000000005</td>\n",
       "      <td>0</td>\n",
       "      <td>0</td>\n",
       "      <td>0</td>\n",
       "      <td>2</td>\n",
       "      <td>0</td>\n",
       "      <td>0</td>\n",
       "      <td>0</td>\n",
       "      <td>0</td>\n",
       "      <td>0</td>\n",
       "      <td>...</td>\n",
       "      <td>0</td>\n",
       "      <td>1</td>\n",
       "      <td>29</td>\n",
       "      <td>2</td>\n",
       "      <td>22</td>\n",
       "      <td>3</td>\n",
       "      <td>0</td>\n",
       "      <td>2</td>\n",
       "      <td>0</td>\n",
       "      <td>5</td>\n",
       "    </tr>\n",
       "    <tr>\n",
       "      <th>2</th>\n",
       "      <td>ENSG00000000419</td>\n",
       "      <td>10</td>\n",
       "      <td>9</td>\n",
       "      <td>9</td>\n",
       "      <td>8</td>\n",
       "      <td>10</td>\n",
       "      <td>10</td>\n",
       "      <td>6</td>\n",
       "      <td>35</td>\n",
       "      <td>13</td>\n",
       "      <td>...</td>\n",
       "      <td>3</td>\n",
       "      <td>9</td>\n",
       "      <td>9</td>\n",
       "      <td>15</td>\n",
       "      <td>8</td>\n",
       "      <td>9</td>\n",
       "      <td>9</td>\n",
       "      <td>4</td>\n",
       "      <td>16</td>\n",
       "      <td>5</td>\n",
       "    </tr>\n",
       "    <tr>\n",
       "      <th>3</th>\n",
       "      <td>ENSG00000000457</td>\n",
       "      <td>0</td>\n",
       "      <td>11</td>\n",
       "      <td>0</td>\n",
       "      <td>6</td>\n",
       "      <td>2</td>\n",
       "      <td>12</td>\n",
       "      <td>11</td>\n",
       "      <td>1</td>\n",
       "      <td>2</td>\n",
       "      <td>...</td>\n",
       "      <td>9</td>\n",
       "      <td>8</td>\n",
       "      <td>8</td>\n",
       "      <td>5</td>\n",
       "      <td>6</td>\n",
       "      <td>0</td>\n",
       "      <td>12</td>\n",
       "      <td>13</td>\n",
       "      <td>4</td>\n",
       "      <td>11</td>\n",
       "    </tr>\n",
       "    <tr>\n",
       "      <th>4</th>\n",
       "      <td>ENSG00000000460</td>\n",
       "      <td>0</td>\n",
       "      <td>0</td>\n",
       "      <td>14</td>\n",
       "      <td>4</td>\n",
       "      <td>5</td>\n",
       "      <td>0</td>\n",
       "      <td>0</td>\n",
       "      <td>6</td>\n",
       "      <td>4</td>\n",
       "      <td>...</td>\n",
       "      <td>0</td>\n",
       "      <td>0</td>\n",
       "      <td>3</td>\n",
       "      <td>0</td>\n",
       "      <td>1</td>\n",
       "      <td>0</td>\n",
       "      <td>1</td>\n",
       "      <td>4</td>\n",
       "      <td>0</td>\n",
       "      <td>10</td>\n",
       "    </tr>\n",
       "    <tr>\n",
       "      <th>...</th>\n",
       "      <td>...</td>\n",
       "      <td>...</td>\n",
       "      <td>...</td>\n",
       "      <td>...</td>\n",
       "      <td>...</td>\n",
       "      <td>...</td>\n",
       "      <td>...</td>\n",
       "      <td>...</td>\n",
       "      <td>...</td>\n",
       "      <td>...</td>\n",
       "      <td>...</td>\n",
       "      <td>...</td>\n",
       "      <td>...</td>\n",
       "      <td>...</td>\n",
       "      <td>...</td>\n",
       "      <td>...</td>\n",
       "      <td>...</td>\n",
       "      <td>...</td>\n",
       "      <td>...</td>\n",
       "      <td>...</td>\n",
       "      <td>...</td>\n",
       "    </tr>\n",
       "    <tr>\n",
       "      <th>63672</th>\n",
       "      <td>ENSG00000273489</td>\n",
       "      <td>0</td>\n",
       "      <td>0</td>\n",
       "      <td>0</td>\n",
       "      <td>2</td>\n",
       "      <td>0</td>\n",
       "      <td>1</td>\n",
       "      <td>8</td>\n",
       "      <td>0</td>\n",
       "      <td>0</td>\n",
       "      <td>...</td>\n",
       "      <td>0</td>\n",
       "      <td>0</td>\n",
       "      <td>0</td>\n",
       "      <td>0</td>\n",
       "      <td>0</td>\n",
       "      <td>0</td>\n",
       "      <td>0</td>\n",
       "      <td>0</td>\n",
       "      <td>0</td>\n",
       "      <td>0</td>\n",
       "    </tr>\n",
       "    <tr>\n",
       "      <th>63673</th>\n",
       "      <td>ENSG00000273490</td>\n",
       "      <td>0</td>\n",
       "      <td>0</td>\n",
       "      <td>0</td>\n",
       "      <td>0</td>\n",
       "      <td>0</td>\n",
       "      <td>0</td>\n",
       "      <td>0</td>\n",
       "      <td>0</td>\n",
       "      <td>0</td>\n",
       "      <td>...</td>\n",
       "      <td>0</td>\n",
       "      <td>0</td>\n",
       "      <td>0</td>\n",
       "      <td>0</td>\n",
       "      <td>0</td>\n",
       "      <td>0</td>\n",
       "      <td>0</td>\n",
       "      <td>0</td>\n",
       "      <td>0</td>\n",
       "      <td>0</td>\n",
       "    </tr>\n",
       "    <tr>\n",
       "      <th>63674</th>\n",
       "      <td>ENSG00000273491</td>\n",
       "      <td>0</td>\n",
       "      <td>0</td>\n",
       "      <td>0</td>\n",
       "      <td>0</td>\n",
       "      <td>0</td>\n",
       "      <td>0</td>\n",
       "      <td>0</td>\n",
       "      <td>0</td>\n",
       "      <td>0</td>\n",
       "      <td>...</td>\n",
       "      <td>0</td>\n",
       "      <td>0</td>\n",
       "      <td>0</td>\n",
       "      <td>0</td>\n",
       "      <td>0</td>\n",
       "      <td>0</td>\n",
       "      <td>0</td>\n",
       "      <td>0</td>\n",
       "      <td>0</td>\n",
       "      <td>0</td>\n",
       "    </tr>\n",
       "    <tr>\n",
       "      <th>63675</th>\n",
       "      <td>ENSG00000273492</td>\n",
       "      <td>0</td>\n",
       "      <td>0</td>\n",
       "      <td>0</td>\n",
       "      <td>0</td>\n",
       "      <td>0</td>\n",
       "      <td>0</td>\n",
       "      <td>0</td>\n",
       "      <td>0</td>\n",
       "      <td>0</td>\n",
       "      <td>...</td>\n",
       "      <td>0</td>\n",
       "      <td>0</td>\n",
       "      <td>0</td>\n",
       "      <td>0</td>\n",
       "      <td>0</td>\n",
       "      <td>0</td>\n",
       "      <td>0</td>\n",
       "      <td>0</td>\n",
       "      <td>0</td>\n",
       "      <td>0</td>\n",
       "    </tr>\n",
       "    <tr>\n",
       "      <th>63676</th>\n",
       "      <td>ENSG00000273493</td>\n",
       "      <td>0</td>\n",
       "      <td>0</td>\n",
       "      <td>0</td>\n",
       "      <td>0</td>\n",
       "      <td>0</td>\n",
       "      <td>0</td>\n",
       "      <td>0</td>\n",
       "      <td>0</td>\n",
       "      <td>1</td>\n",
       "      <td>...</td>\n",
       "      <td>0</td>\n",
       "      <td>0</td>\n",
       "      <td>0</td>\n",
       "      <td>0</td>\n",
       "      <td>0</td>\n",
       "      <td>0</td>\n",
       "      <td>0</td>\n",
       "      <td>0</td>\n",
       "      <td>3</td>\n",
       "      <td>0</td>\n",
       "    </tr>\n",
       "  </tbody>\n",
       "</table>\n",
       "<p>63677 rows × 81 columns</p>\n",
       "</div>"
      ],
      "text/plain": [
       "            Unnamed: 0  Sample_1_preadi  Sample_2_preadi  Sample_3_preadi  \\\n",
       "0      ENSG00000000003               18               12                9   \n",
       "1      ENSG00000000005                0                0                0   \n",
       "2      ENSG00000000419               10                9                9   \n",
       "3      ENSG00000000457                0               11                0   \n",
       "4      ENSG00000000460                0                0               14   \n",
       "...                ...              ...              ...              ...   \n",
       "63672  ENSG00000273489                0                0                0   \n",
       "63673  ENSG00000273490                0                0                0   \n",
       "63674  ENSG00000273491                0                0                0   \n",
       "63675  ENSG00000273492                0                0                0   \n",
       "63676  ENSG00000273493                0                0                0   \n",
       "\n",
       "       Sample_4_preadi  Sample_5_preadi  Sample_6_preadi  Sample_7_preadi  \\\n",
       "0                   20                9               13               20   \n",
       "1                    2                0                0                0   \n",
       "2                    8               10               10                6   \n",
       "3                    6                2               12               11   \n",
       "4                    4                5                0                0   \n",
       "...                ...              ...              ...              ...   \n",
       "63672                2                0                1                8   \n",
       "63673                0                0                0                0   \n",
       "63674                0                0                0                0   \n",
       "63675                0                0                0                0   \n",
       "63676                0                0                0                0   \n",
       "\n",
       "       Sample_8_preadi  Sample_9_preadi  ...  Sample_71_adipo  \\\n",
       "0                    8                4  ...                9   \n",
       "1                    0                0  ...                0   \n",
       "2                   35               13  ...                3   \n",
       "3                    1                2  ...                9   \n",
       "4                    6                4  ...                0   \n",
       "...                ...              ...  ...              ...   \n",
       "63672                0                0  ...                0   \n",
       "63673                0                0  ...                0   \n",
       "63674                0                0  ...                0   \n",
       "63675                0                0  ...                0   \n",
       "63676                0                1  ...                0   \n",
       "\n",
       "       Sample_72_adipo  Sample_73_adipo  Sample_74_adipo  Sample_75_adipo  \\\n",
       "0                    9               30                9               23   \n",
       "1                    1               29                2               22   \n",
       "2                    9                9               15                8   \n",
       "3                    8                8                5                6   \n",
       "4                    0                3                0                1   \n",
       "...                ...              ...              ...              ...   \n",
       "63672                0                0                0                0   \n",
       "63673                0                0                0                0   \n",
       "63674                0                0                0                0   \n",
       "63675                0                0                0                0   \n",
       "63676                0                0                0                0   \n",
       "\n",
       "       Sample_76_adipo  Sample_77_adipo  Sample_78_adipo  Sample_79_adipo  \\\n",
       "0                   16                3               14               11   \n",
       "1                    3                0                2                0   \n",
       "2                    9                9                4               16   \n",
       "3                    0               12               13                4   \n",
       "4                    0                1                4                0   \n",
       "...                ...              ...              ...              ...   \n",
       "63672                0                0                0                0   \n",
       "63673                0                0                0                0   \n",
       "63674                0                0                0                0   \n",
       "63675                0                0                0                0   \n",
       "63676                0                0                0                3   \n",
       "\n",
       "       Sample_80_adipo  \n",
       "0                   16  \n",
       "1                    5  \n",
       "2                    5  \n",
       "3                   11  \n",
       "4                   10  \n",
       "...                ...  \n",
       "63672                0  \n",
       "63673                0  \n",
       "63674                0  \n",
       "63675                0  \n",
       "63676                0  \n",
       "\n",
       "[63677 rows x 81 columns]"
      ]
     },
     "execution_count": 155,
     "metadata": {},
     "output_type": "execute_result"
    }
   ],
   "source": [
    "transcriptomics.rename(columns = {\"Unnamed:0\":'Gene_ID'})"
   ]
  },
  {
   "cell_type": "markdown",
   "metadata": {},
   "source": [
    "What is the size of the matrix ?"
   ]
  },
  {
   "cell_type": "markdown",
   "metadata": {},
   "source": [
    "63677 genes and 80 samples : matrix size 63677*80"
   ]
  },
  {
   "cell_type": "markdown",
   "metadata": {},
   "source": [
    "b) What type of data do you have? Normalized or raw read counts (integer)?"
   ]
  },
  {
   "cell_type": "markdown",
   "metadata": {},
   "source": [
    "number of transcripts, raw read counts"
   ]
  },
  {
   "cell_type": "markdown",
   "metadata": {},
   "source": [
    "c)"
   ]
  },
  {
   "cell_type": "code",
   "execution_count": 156,
   "metadata": {},
   "outputs": [
    {
     "name": "stdout",
     "output_type": "stream",
     "text": [
      "['Unnamed: 0', 'Sample_1_preadi', 'Sample_2_preadi', 'Sample_3_preadi', 'Sample_4_preadi', 'Sample_5_preadi', 'Sample_6_preadi', 'Sample_7_preadi', 'Sample_8_preadi', 'Sample_9_preadi', 'Sample_10_preadi', 'Sample_11_preadi', 'Sample_12_preadi', 'Sample_13_preadi', 'Sample_14_preadi', 'Sample_15_preadi', 'Sample_16_preadi', 'Sample_17_preadi', 'Sample_18_preadi', 'Sample_19_preadi', 'Sample_20_preadi', 'Sample_21_preadi', 'Sample_22_preadi', 'Sample_23_preadi', 'Sample_24_preadi', 'Sample_25_preadi', 'Sample_26_preadi', 'Sample_27_preadi', 'Sample_28_preadi', 'Sample_29_preadi', 'Sample_30_preadi', 'Sample_31_preadi', 'Sample_32_preadi', 'Sample_33_preadi', 'Sample_34_preadi', 'Sample_35_preadi', 'Sample_36_preadi', 'Sample_37_preadi', 'Sample_38_preadi', 'Sample_39_preadi', 'Sample_40_preadi', 'Sample_41_adipo', 'Sample_42_adipo', 'Sample_43_adipo', 'Sample_44_adipo', 'Sample_45_adipo', 'Sample_46_adipo', 'Sample_47_adipo', 'Sample_48_adipo', 'Sample_49_adipo', 'Sample_50_adipo', 'Sample_51_adipo', 'Sample_52_adipo', 'Sample_53_adipo', 'Sample_54_adipo', 'Sample_55_adipo', 'Sample_56_adipo', 'Sample_57_adipo', 'Sample_58_adipo', 'Sample_59_adipo', 'Sample_60_adipo', 'Sample_61_adipo', 'Sample_62_adipo', 'Sample_63_adipo', 'Sample_64_adipo', 'Sample_65_adipo', 'Sample_66_adipo', 'Sample_67_adipo', 'Sample_68_adipo', 'Sample_69_adipo', 'Sample_70_adipo', 'Sample_71_adipo', 'Sample_72_adipo', 'Sample_73_adipo', 'Sample_74_adipo', 'Sample_75_adipo', 'Sample_76_adipo', 'Sample_77_adipo', 'Sample_78_adipo', 'Sample_79_adipo', 'Sample_80_adipo']\n"
     ]
    }
   ],
   "source": [
    "print(list(transcriptomics.columns.values))"
   ]
  },
  {
   "cell_type": "code",
   "execution_count": 157,
   "metadata": {},
   "outputs": [],
   "source": [
    "dict_sample = {}\n",
    "for idx, sample in enumerate(transcriptomics.columns.values[1:]) :\n",
    "    if ( sample == \"Sample_{}_preadi\".format(idx+1) ):\n",
    "        #dict_sample[\"Sample_{}\".format(idx+1)]=\"PreAdipo\"\n",
    "        dict_sample[sample]=\"PreAdipo\"\n",
    "    else :\n",
    "        dict_sample[sample]=\"Adipo\"\n",
    "        "
   ]
  },
  {
   "cell_type": "code",
   "execution_count": 158,
   "metadata": {},
   "outputs": [
    {
     "data": {
      "text/html": [
       "<div>\n",
       "<style scoped>\n",
       "    .dataframe tbody tr th:only-of-type {\n",
       "        vertical-align: middle;\n",
       "    }\n",
       "\n",
       "    .dataframe tbody tr th {\n",
       "        vertical-align: top;\n",
       "    }\n",
       "\n",
       "    .dataframe thead th {\n",
       "        text-align: right;\n",
       "    }\n",
       "</style>\n",
       "<table border=\"1\" class=\"dataframe\">\n",
       "  <thead>\n",
       "    <tr style=\"text-align: right;\">\n",
       "      <th></th>\n",
       "      <th>Unnamed: 0</th>\n",
       "      <th>Sample_1_preadi</th>\n",
       "      <th>Sample_2_preadi</th>\n",
       "      <th>Sample_3_preadi</th>\n",
       "      <th>Sample_4_preadi</th>\n",
       "      <th>Sample_5_preadi</th>\n",
       "      <th>Sample_6_preadi</th>\n",
       "      <th>Sample_7_preadi</th>\n",
       "      <th>Sample_8_preadi</th>\n",
       "      <th>Sample_9_preadi</th>\n",
       "      <th>...</th>\n",
       "      <th>Sample_71_adipo</th>\n",
       "      <th>Sample_72_adipo</th>\n",
       "      <th>Sample_73_adipo</th>\n",
       "      <th>Sample_74_adipo</th>\n",
       "      <th>Sample_75_adipo</th>\n",
       "      <th>Sample_76_adipo</th>\n",
       "      <th>Sample_77_adipo</th>\n",
       "      <th>Sample_78_adipo</th>\n",
       "      <th>Sample_79_adipo</th>\n",
       "      <th>Sample_80_adipo</th>\n",
       "    </tr>\n",
       "  </thead>\n",
       "  <tbody>\n",
       "    <tr>\n",
       "      <th>0</th>\n",
       "      <td>ENSG00000000003</td>\n",
       "      <td>18</td>\n",
       "      <td>12</td>\n",
       "      <td>9</td>\n",
       "      <td>20</td>\n",
       "      <td>9</td>\n",
       "      <td>13</td>\n",
       "      <td>20</td>\n",
       "      <td>8</td>\n",
       "      <td>4</td>\n",
       "      <td>...</td>\n",
       "      <td>9</td>\n",
       "      <td>9</td>\n",
       "      <td>30</td>\n",
       "      <td>9</td>\n",
       "      <td>23</td>\n",
       "      <td>16</td>\n",
       "      <td>3</td>\n",
       "      <td>14</td>\n",
       "      <td>11</td>\n",
       "      <td>16</td>\n",
       "    </tr>\n",
       "    <tr>\n",
       "      <th>1</th>\n",
       "      <td>ENSG00000000005</td>\n",
       "      <td>0</td>\n",
       "      <td>0</td>\n",
       "      <td>0</td>\n",
       "      <td>2</td>\n",
       "      <td>0</td>\n",
       "      <td>0</td>\n",
       "      <td>0</td>\n",
       "      <td>0</td>\n",
       "      <td>0</td>\n",
       "      <td>...</td>\n",
       "      <td>0</td>\n",
       "      <td>1</td>\n",
       "      <td>29</td>\n",
       "      <td>2</td>\n",
       "      <td>22</td>\n",
       "      <td>3</td>\n",
       "      <td>0</td>\n",
       "      <td>2</td>\n",
       "      <td>0</td>\n",
       "      <td>5</td>\n",
       "    </tr>\n",
       "    <tr>\n",
       "      <th>2</th>\n",
       "      <td>ENSG00000000419</td>\n",
       "      <td>10</td>\n",
       "      <td>9</td>\n",
       "      <td>9</td>\n",
       "      <td>8</td>\n",
       "      <td>10</td>\n",
       "      <td>10</td>\n",
       "      <td>6</td>\n",
       "      <td>35</td>\n",
       "      <td>13</td>\n",
       "      <td>...</td>\n",
       "      <td>3</td>\n",
       "      <td>9</td>\n",
       "      <td>9</td>\n",
       "      <td>15</td>\n",
       "      <td>8</td>\n",
       "      <td>9</td>\n",
       "      <td>9</td>\n",
       "      <td>4</td>\n",
       "      <td>16</td>\n",
       "      <td>5</td>\n",
       "    </tr>\n",
       "    <tr>\n",
       "      <th>3</th>\n",
       "      <td>ENSG00000000457</td>\n",
       "      <td>0</td>\n",
       "      <td>11</td>\n",
       "      <td>0</td>\n",
       "      <td>6</td>\n",
       "      <td>2</td>\n",
       "      <td>12</td>\n",
       "      <td>11</td>\n",
       "      <td>1</td>\n",
       "      <td>2</td>\n",
       "      <td>...</td>\n",
       "      <td>9</td>\n",
       "      <td>8</td>\n",
       "      <td>8</td>\n",
       "      <td>5</td>\n",
       "      <td>6</td>\n",
       "      <td>0</td>\n",
       "      <td>12</td>\n",
       "      <td>13</td>\n",
       "      <td>4</td>\n",
       "      <td>11</td>\n",
       "    </tr>\n",
       "    <tr>\n",
       "      <th>4</th>\n",
       "      <td>ENSG00000000460</td>\n",
       "      <td>0</td>\n",
       "      <td>0</td>\n",
       "      <td>14</td>\n",
       "      <td>4</td>\n",
       "      <td>5</td>\n",
       "      <td>0</td>\n",
       "      <td>0</td>\n",
       "      <td>6</td>\n",
       "      <td>4</td>\n",
       "      <td>...</td>\n",
       "      <td>0</td>\n",
       "      <td>0</td>\n",
       "      <td>3</td>\n",
       "      <td>0</td>\n",
       "      <td>1</td>\n",
       "      <td>0</td>\n",
       "      <td>1</td>\n",
       "      <td>4</td>\n",
       "      <td>0</td>\n",
       "      <td>10</td>\n",
       "    </tr>\n",
       "    <tr>\n",
       "      <th>...</th>\n",
       "      <td>...</td>\n",
       "      <td>...</td>\n",
       "      <td>...</td>\n",
       "      <td>...</td>\n",
       "      <td>...</td>\n",
       "      <td>...</td>\n",
       "      <td>...</td>\n",
       "      <td>...</td>\n",
       "      <td>...</td>\n",
       "      <td>...</td>\n",
       "      <td>...</td>\n",
       "      <td>...</td>\n",
       "      <td>...</td>\n",
       "      <td>...</td>\n",
       "      <td>...</td>\n",
       "      <td>...</td>\n",
       "      <td>...</td>\n",
       "      <td>...</td>\n",
       "      <td>...</td>\n",
       "      <td>...</td>\n",
       "      <td>...</td>\n",
       "    </tr>\n",
       "    <tr>\n",
       "      <th>63672</th>\n",
       "      <td>ENSG00000273489</td>\n",
       "      <td>0</td>\n",
       "      <td>0</td>\n",
       "      <td>0</td>\n",
       "      <td>2</td>\n",
       "      <td>0</td>\n",
       "      <td>1</td>\n",
       "      <td>8</td>\n",
       "      <td>0</td>\n",
       "      <td>0</td>\n",
       "      <td>...</td>\n",
       "      <td>0</td>\n",
       "      <td>0</td>\n",
       "      <td>0</td>\n",
       "      <td>0</td>\n",
       "      <td>0</td>\n",
       "      <td>0</td>\n",
       "      <td>0</td>\n",
       "      <td>0</td>\n",
       "      <td>0</td>\n",
       "      <td>0</td>\n",
       "    </tr>\n",
       "    <tr>\n",
       "      <th>63673</th>\n",
       "      <td>ENSG00000273490</td>\n",
       "      <td>0</td>\n",
       "      <td>0</td>\n",
       "      <td>0</td>\n",
       "      <td>0</td>\n",
       "      <td>0</td>\n",
       "      <td>0</td>\n",
       "      <td>0</td>\n",
       "      <td>0</td>\n",
       "      <td>0</td>\n",
       "      <td>...</td>\n",
       "      <td>0</td>\n",
       "      <td>0</td>\n",
       "      <td>0</td>\n",
       "      <td>0</td>\n",
       "      <td>0</td>\n",
       "      <td>0</td>\n",
       "      <td>0</td>\n",
       "      <td>0</td>\n",
       "      <td>0</td>\n",
       "      <td>0</td>\n",
       "    </tr>\n",
       "    <tr>\n",
       "      <th>63674</th>\n",
       "      <td>ENSG00000273491</td>\n",
       "      <td>0</td>\n",
       "      <td>0</td>\n",
       "      <td>0</td>\n",
       "      <td>0</td>\n",
       "      <td>0</td>\n",
       "      <td>0</td>\n",
       "      <td>0</td>\n",
       "      <td>0</td>\n",
       "      <td>0</td>\n",
       "      <td>...</td>\n",
       "      <td>0</td>\n",
       "      <td>0</td>\n",
       "      <td>0</td>\n",
       "      <td>0</td>\n",
       "      <td>0</td>\n",
       "      <td>0</td>\n",
       "      <td>0</td>\n",
       "      <td>0</td>\n",
       "      <td>0</td>\n",
       "      <td>0</td>\n",
       "    </tr>\n",
       "    <tr>\n",
       "      <th>63675</th>\n",
       "      <td>ENSG00000273492</td>\n",
       "      <td>0</td>\n",
       "      <td>0</td>\n",
       "      <td>0</td>\n",
       "      <td>0</td>\n",
       "      <td>0</td>\n",
       "      <td>0</td>\n",
       "      <td>0</td>\n",
       "      <td>0</td>\n",
       "      <td>0</td>\n",
       "      <td>...</td>\n",
       "      <td>0</td>\n",
       "      <td>0</td>\n",
       "      <td>0</td>\n",
       "      <td>0</td>\n",
       "      <td>0</td>\n",
       "      <td>0</td>\n",
       "      <td>0</td>\n",
       "      <td>0</td>\n",
       "      <td>0</td>\n",
       "      <td>0</td>\n",
       "    </tr>\n",
       "    <tr>\n",
       "      <th>63676</th>\n",
       "      <td>ENSG00000273493</td>\n",
       "      <td>0</td>\n",
       "      <td>0</td>\n",
       "      <td>0</td>\n",
       "      <td>0</td>\n",
       "      <td>0</td>\n",
       "      <td>0</td>\n",
       "      <td>0</td>\n",
       "      <td>0</td>\n",
       "      <td>1</td>\n",
       "      <td>...</td>\n",
       "      <td>0</td>\n",
       "      <td>0</td>\n",
       "      <td>0</td>\n",
       "      <td>0</td>\n",
       "      <td>0</td>\n",
       "      <td>0</td>\n",
       "      <td>0</td>\n",
       "      <td>0</td>\n",
       "      <td>3</td>\n",
       "      <td>0</td>\n",
       "    </tr>\n",
       "  </tbody>\n",
       "</table>\n",
       "<p>63677 rows × 81 columns</p>\n",
       "</div>"
      ],
      "text/plain": [
       "            Unnamed: 0  Sample_1_preadi  Sample_2_preadi  Sample_3_preadi  \\\n",
       "0      ENSG00000000003               18               12                9   \n",
       "1      ENSG00000000005                0                0                0   \n",
       "2      ENSG00000000419               10                9                9   \n",
       "3      ENSG00000000457                0               11                0   \n",
       "4      ENSG00000000460                0                0               14   \n",
       "...                ...              ...              ...              ...   \n",
       "63672  ENSG00000273489                0                0                0   \n",
       "63673  ENSG00000273490                0                0                0   \n",
       "63674  ENSG00000273491                0                0                0   \n",
       "63675  ENSG00000273492                0                0                0   \n",
       "63676  ENSG00000273493                0                0                0   \n",
       "\n",
       "       Sample_4_preadi  Sample_5_preadi  Sample_6_preadi  Sample_7_preadi  \\\n",
       "0                   20                9               13               20   \n",
       "1                    2                0                0                0   \n",
       "2                    8               10               10                6   \n",
       "3                    6                2               12               11   \n",
       "4                    4                5                0                0   \n",
       "...                ...              ...              ...              ...   \n",
       "63672                2                0                1                8   \n",
       "63673                0                0                0                0   \n",
       "63674                0                0                0                0   \n",
       "63675                0                0                0                0   \n",
       "63676                0                0                0                0   \n",
       "\n",
       "       Sample_8_preadi  Sample_9_preadi  ...  Sample_71_adipo  \\\n",
       "0                    8                4  ...                9   \n",
       "1                    0                0  ...                0   \n",
       "2                   35               13  ...                3   \n",
       "3                    1                2  ...                9   \n",
       "4                    6                4  ...                0   \n",
       "...                ...              ...  ...              ...   \n",
       "63672                0                0  ...                0   \n",
       "63673                0                0  ...                0   \n",
       "63674                0                0  ...                0   \n",
       "63675                0                0  ...                0   \n",
       "63676                0                1  ...                0   \n",
       "\n",
       "       Sample_72_adipo  Sample_73_adipo  Sample_74_adipo  Sample_75_adipo  \\\n",
       "0                    9               30                9               23   \n",
       "1                    1               29                2               22   \n",
       "2                    9                9               15                8   \n",
       "3                    8                8                5                6   \n",
       "4                    0                3                0                1   \n",
       "...                ...              ...              ...              ...   \n",
       "63672                0                0                0                0   \n",
       "63673                0                0                0                0   \n",
       "63674                0                0                0                0   \n",
       "63675                0                0                0                0   \n",
       "63676                0                0                0                0   \n",
       "\n",
       "       Sample_76_adipo  Sample_77_adipo  Sample_78_adipo  Sample_79_adipo  \\\n",
       "0                   16                3               14               11   \n",
       "1                    3                0                2                0   \n",
       "2                    9                9                4               16   \n",
       "3                    0               12               13                4   \n",
       "4                    0                1                4                0   \n",
       "...                ...              ...              ...              ...   \n",
       "63672                0                0                0                0   \n",
       "63673                0                0                0                0   \n",
       "63674                0                0                0                0   \n",
       "63675                0                0                0                0   \n",
       "63676                0                0                0                3   \n",
       "\n",
       "       Sample_80_adipo  \n",
       "0                   16  \n",
       "1                    5  \n",
       "2                    5  \n",
       "3                   11  \n",
       "4                   10  \n",
       "...                ...  \n",
       "63672                0  \n",
       "63673                0  \n",
       "63674                0  \n",
       "63675                0  \n",
       "63676                0  \n",
       "\n",
       "[63677 rows x 81 columns]"
      ]
     },
     "execution_count": 158,
     "metadata": {},
     "output_type": "execute_result"
    }
   ],
   "source": [
    "transcriptomics"
   ]
  },
  {
   "cell_type": "markdown",
   "metadata": {},
   "source": [
    "d)"
   ]
  },
  {
   "cell_type": "code",
   "execution_count": 159,
   "metadata": {},
   "outputs": [
    {
     "data": {
      "text/html": [
       "<div>\n",
       "<style scoped>\n",
       "    .dataframe tbody tr th:only-of-type {\n",
       "        vertical-align: middle;\n",
       "    }\n",
       "\n",
       "    .dataframe tbody tr th {\n",
       "        vertical-align: top;\n",
       "    }\n",
       "\n",
       "    .dataframe thead th {\n",
       "        text-align: right;\n",
       "    }\n",
       "</style>\n",
       "<table border=\"1\" class=\"dataframe\">\n",
       "  <thead>\n",
       "    <tr style=\"text-align: right;\">\n",
       "      <th></th>\n",
       "      <th>Sample_1_preadi</th>\n",
       "      <th>Sample_2_preadi</th>\n",
       "      <th>Sample_3_preadi</th>\n",
       "      <th>Sample_4_preadi</th>\n",
       "      <th>Sample_5_preadi</th>\n",
       "      <th>Sample_6_preadi</th>\n",
       "      <th>Sample_7_preadi</th>\n",
       "      <th>Sample_8_preadi</th>\n",
       "      <th>Sample_9_preadi</th>\n",
       "      <th>Sample_10_preadi</th>\n",
       "      <th>...</th>\n",
       "      <th>Sample_71_adipo</th>\n",
       "      <th>Sample_72_adipo</th>\n",
       "      <th>Sample_73_adipo</th>\n",
       "      <th>Sample_74_adipo</th>\n",
       "      <th>Sample_75_adipo</th>\n",
       "      <th>Sample_76_adipo</th>\n",
       "      <th>Sample_77_adipo</th>\n",
       "      <th>Sample_78_adipo</th>\n",
       "      <th>Sample_79_adipo</th>\n",
       "      <th>Sample_80_adipo</th>\n",
       "    </tr>\n",
       "  </thead>\n",
       "  <tbody>\n",
       "    <tr>\n",
       "      <th>0</th>\n",
       "      <td>18</td>\n",
       "      <td>12</td>\n",
       "      <td>9</td>\n",
       "      <td>20</td>\n",
       "      <td>9</td>\n",
       "      <td>13</td>\n",
       "      <td>20</td>\n",
       "      <td>8</td>\n",
       "      <td>4</td>\n",
       "      <td>7</td>\n",
       "      <td>...</td>\n",
       "      <td>9</td>\n",
       "      <td>9</td>\n",
       "      <td>30</td>\n",
       "      <td>9</td>\n",
       "      <td>23</td>\n",
       "      <td>16</td>\n",
       "      <td>3</td>\n",
       "      <td>14</td>\n",
       "      <td>11</td>\n",
       "      <td>16</td>\n",
       "    </tr>\n",
       "    <tr>\n",
       "      <th>1</th>\n",
       "      <td>0</td>\n",
       "      <td>0</td>\n",
       "      <td>0</td>\n",
       "      <td>2</td>\n",
       "      <td>0</td>\n",
       "      <td>0</td>\n",
       "      <td>0</td>\n",
       "      <td>0</td>\n",
       "      <td>0</td>\n",
       "      <td>0</td>\n",
       "      <td>...</td>\n",
       "      <td>0</td>\n",
       "      <td>1</td>\n",
       "      <td>29</td>\n",
       "      <td>2</td>\n",
       "      <td>22</td>\n",
       "      <td>3</td>\n",
       "      <td>0</td>\n",
       "      <td>2</td>\n",
       "      <td>0</td>\n",
       "      <td>5</td>\n",
       "    </tr>\n",
       "    <tr>\n",
       "      <th>2</th>\n",
       "      <td>10</td>\n",
       "      <td>9</td>\n",
       "      <td>9</td>\n",
       "      <td>8</td>\n",
       "      <td>10</td>\n",
       "      <td>10</td>\n",
       "      <td>6</td>\n",
       "      <td>35</td>\n",
       "      <td>13</td>\n",
       "      <td>15</td>\n",
       "      <td>...</td>\n",
       "      <td>3</td>\n",
       "      <td>9</td>\n",
       "      <td>9</td>\n",
       "      <td>15</td>\n",
       "      <td>8</td>\n",
       "      <td>9</td>\n",
       "      <td>9</td>\n",
       "      <td>4</td>\n",
       "      <td>16</td>\n",
       "      <td>5</td>\n",
       "    </tr>\n",
       "    <tr>\n",
       "      <th>3</th>\n",
       "      <td>0</td>\n",
       "      <td>11</td>\n",
       "      <td>0</td>\n",
       "      <td>6</td>\n",
       "      <td>2</td>\n",
       "      <td>12</td>\n",
       "      <td>11</td>\n",
       "      <td>1</td>\n",
       "      <td>2</td>\n",
       "      <td>0</td>\n",
       "      <td>...</td>\n",
       "      <td>9</td>\n",
       "      <td>8</td>\n",
       "      <td>8</td>\n",
       "      <td>5</td>\n",
       "      <td>6</td>\n",
       "      <td>0</td>\n",
       "      <td>12</td>\n",
       "      <td>13</td>\n",
       "      <td>4</td>\n",
       "      <td>11</td>\n",
       "    </tr>\n",
       "    <tr>\n",
       "      <th>4</th>\n",
       "      <td>0</td>\n",
       "      <td>0</td>\n",
       "      <td>14</td>\n",
       "      <td>4</td>\n",
       "      <td>5</td>\n",
       "      <td>0</td>\n",
       "      <td>0</td>\n",
       "      <td>6</td>\n",
       "      <td>4</td>\n",
       "      <td>0</td>\n",
       "      <td>...</td>\n",
       "      <td>0</td>\n",
       "      <td>0</td>\n",
       "      <td>3</td>\n",
       "      <td>0</td>\n",
       "      <td>1</td>\n",
       "      <td>0</td>\n",
       "      <td>1</td>\n",
       "      <td>4</td>\n",
       "      <td>0</td>\n",
       "      <td>10</td>\n",
       "    </tr>\n",
       "    <tr>\n",
       "      <th>...</th>\n",
       "      <td>...</td>\n",
       "      <td>...</td>\n",
       "      <td>...</td>\n",
       "      <td>...</td>\n",
       "      <td>...</td>\n",
       "      <td>...</td>\n",
       "      <td>...</td>\n",
       "      <td>...</td>\n",
       "      <td>...</td>\n",
       "      <td>...</td>\n",
       "      <td>...</td>\n",
       "      <td>...</td>\n",
       "      <td>...</td>\n",
       "      <td>...</td>\n",
       "      <td>...</td>\n",
       "      <td>...</td>\n",
       "      <td>...</td>\n",
       "      <td>...</td>\n",
       "      <td>...</td>\n",
       "      <td>...</td>\n",
       "      <td>...</td>\n",
       "    </tr>\n",
       "    <tr>\n",
       "      <th>63672</th>\n",
       "      <td>0</td>\n",
       "      <td>0</td>\n",
       "      <td>0</td>\n",
       "      <td>2</td>\n",
       "      <td>0</td>\n",
       "      <td>1</td>\n",
       "      <td>8</td>\n",
       "      <td>0</td>\n",
       "      <td>0</td>\n",
       "      <td>0</td>\n",
       "      <td>...</td>\n",
       "      <td>0</td>\n",
       "      <td>0</td>\n",
       "      <td>0</td>\n",
       "      <td>0</td>\n",
       "      <td>0</td>\n",
       "      <td>0</td>\n",
       "      <td>0</td>\n",
       "      <td>0</td>\n",
       "      <td>0</td>\n",
       "      <td>0</td>\n",
       "    </tr>\n",
       "    <tr>\n",
       "      <th>63673</th>\n",
       "      <td>0</td>\n",
       "      <td>0</td>\n",
       "      <td>0</td>\n",
       "      <td>0</td>\n",
       "      <td>0</td>\n",
       "      <td>0</td>\n",
       "      <td>0</td>\n",
       "      <td>0</td>\n",
       "      <td>0</td>\n",
       "      <td>0</td>\n",
       "      <td>...</td>\n",
       "      <td>0</td>\n",
       "      <td>0</td>\n",
       "      <td>0</td>\n",
       "      <td>0</td>\n",
       "      <td>0</td>\n",
       "      <td>0</td>\n",
       "      <td>0</td>\n",
       "      <td>0</td>\n",
       "      <td>0</td>\n",
       "      <td>0</td>\n",
       "    </tr>\n",
       "    <tr>\n",
       "      <th>63674</th>\n",
       "      <td>0</td>\n",
       "      <td>0</td>\n",
       "      <td>0</td>\n",
       "      <td>0</td>\n",
       "      <td>0</td>\n",
       "      <td>0</td>\n",
       "      <td>0</td>\n",
       "      <td>0</td>\n",
       "      <td>0</td>\n",
       "      <td>0</td>\n",
       "      <td>...</td>\n",
       "      <td>0</td>\n",
       "      <td>0</td>\n",
       "      <td>0</td>\n",
       "      <td>0</td>\n",
       "      <td>0</td>\n",
       "      <td>0</td>\n",
       "      <td>0</td>\n",
       "      <td>0</td>\n",
       "      <td>0</td>\n",
       "      <td>0</td>\n",
       "    </tr>\n",
       "    <tr>\n",
       "      <th>63675</th>\n",
       "      <td>0</td>\n",
       "      <td>0</td>\n",
       "      <td>0</td>\n",
       "      <td>0</td>\n",
       "      <td>0</td>\n",
       "      <td>0</td>\n",
       "      <td>0</td>\n",
       "      <td>0</td>\n",
       "      <td>0</td>\n",
       "      <td>0</td>\n",
       "      <td>...</td>\n",
       "      <td>0</td>\n",
       "      <td>0</td>\n",
       "      <td>0</td>\n",
       "      <td>0</td>\n",
       "      <td>0</td>\n",
       "      <td>0</td>\n",
       "      <td>0</td>\n",
       "      <td>0</td>\n",
       "      <td>0</td>\n",
       "      <td>0</td>\n",
       "    </tr>\n",
       "    <tr>\n",
       "      <th>63676</th>\n",
       "      <td>0</td>\n",
       "      <td>0</td>\n",
       "      <td>0</td>\n",
       "      <td>0</td>\n",
       "      <td>0</td>\n",
       "      <td>0</td>\n",
       "      <td>0</td>\n",
       "      <td>0</td>\n",
       "      <td>1</td>\n",
       "      <td>0</td>\n",
       "      <td>...</td>\n",
       "      <td>0</td>\n",
       "      <td>0</td>\n",
       "      <td>0</td>\n",
       "      <td>0</td>\n",
       "      <td>0</td>\n",
       "      <td>0</td>\n",
       "      <td>0</td>\n",
       "      <td>0</td>\n",
       "      <td>3</td>\n",
       "      <td>0</td>\n",
       "    </tr>\n",
       "  </tbody>\n",
       "</table>\n",
       "<p>63677 rows × 80 columns</p>\n",
       "</div>"
      ],
      "text/plain": [
       "       Sample_1_preadi  Sample_2_preadi  Sample_3_preadi  Sample_4_preadi  \\\n",
       "0                   18               12                9               20   \n",
       "1                    0                0                0                2   \n",
       "2                   10                9                9                8   \n",
       "3                    0               11                0                6   \n",
       "4                    0                0               14                4   \n",
       "...                ...              ...              ...              ...   \n",
       "63672                0                0                0                2   \n",
       "63673                0                0                0                0   \n",
       "63674                0                0                0                0   \n",
       "63675                0                0                0                0   \n",
       "63676                0                0                0                0   \n",
       "\n",
       "       Sample_5_preadi  Sample_6_preadi  Sample_7_preadi  Sample_8_preadi  \\\n",
       "0                    9               13               20                8   \n",
       "1                    0                0                0                0   \n",
       "2                   10               10                6               35   \n",
       "3                    2               12               11                1   \n",
       "4                    5                0                0                6   \n",
       "...                ...              ...              ...              ...   \n",
       "63672                0                1                8                0   \n",
       "63673                0                0                0                0   \n",
       "63674                0                0                0                0   \n",
       "63675                0                0                0                0   \n",
       "63676                0                0                0                0   \n",
       "\n",
       "       Sample_9_preadi  Sample_10_preadi  ...  Sample_71_adipo  \\\n",
       "0                    4                 7  ...                9   \n",
       "1                    0                 0  ...                0   \n",
       "2                   13                15  ...                3   \n",
       "3                    2                 0  ...                9   \n",
       "4                    4                 0  ...                0   \n",
       "...                ...               ...  ...              ...   \n",
       "63672                0                 0  ...                0   \n",
       "63673                0                 0  ...                0   \n",
       "63674                0                 0  ...                0   \n",
       "63675                0                 0  ...                0   \n",
       "63676                1                 0  ...                0   \n",
       "\n",
       "       Sample_72_adipo  Sample_73_adipo  Sample_74_adipo  Sample_75_adipo  \\\n",
       "0                    9               30                9               23   \n",
       "1                    1               29                2               22   \n",
       "2                    9                9               15                8   \n",
       "3                    8                8                5                6   \n",
       "4                    0                3                0                1   \n",
       "...                ...              ...              ...              ...   \n",
       "63672                0                0                0                0   \n",
       "63673                0                0                0                0   \n",
       "63674                0                0                0                0   \n",
       "63675                0                0                0                0   \n",
       "63676                0                0                0                0   \n",
       "\n",
       "       Sample_76_adipo  Sample_77_adipo  Sample_78_adipo  Sample_79_adipo  \\\n",
       "0                   16                3               14               11   \n",
       "1                    3                0                2                0   \n",
       "2                    9                9                4               16   \n",
       "3                    0               12               13                4   \n",
       "4                    0                1                4                0   \n",
       "...                ...              ...              ...              ...   \n",
       "63672                0                0                0                0   \n",
       "63673                0                0                0                0   \n",
       "63674                0                0                0                0   \n",
       "63675                0                0                0                0   \n",
       "63676                0                0                0                3   \n",
       "\n",
       "       Sample_80_adipo  \n",
       "0                   16  \n",
       "1                    5  \n",
       "2                    5  \n",
       "3                   11  \n",
       "4                   10  \n",
       "...                ...  \n",
       "63672                0  \n",
       "63673                0  \n",
       "63674                0  \n",
       "63675                0  \n",
       "63676                0  \n",
       "\n",
       "[63677 rows x 80 columns]"
      ]
     },
     "execution_count": 159,
     "metadata": {},
     "output_type": "execute_result"
    }
   ],
   "source": [
    "transcriptomics.iloc[:,1:]"
   ]
  },
  {
   "cell_type": "code",
   "execution_count": 160,
   "metadata": {},
   "outputs": [
    {
     "data": {
      "text/plain": [
       "0         True\n",
       "1         True\n",
       "2         True\n",
       "3         True\n",
       "4         True\n",
       "         ...  \n",
       "63672     True\n",
       "63673    False\n",
       "63674    False\n",
       "63675    False\n",
       "63676     True\n",
       "Length: 63677, dtype: bool"
      ]
     },
     "execution_count": 160,
     "metadata": {},
     "output_type": "execute_result"
    }
   ],
   "source": [
    "(transcriptomics.iloc[:,1:] != 0).any(axis=1)"
   ]
  },
  {
   "cell_type": "code",
   "execution_count": 161,
   "metadata": {},
   "outputs": [],
   "source": [
    "transcriptomics = transcriptomics.loc[(transcriptomics.iloc[:,1:] != 0).any(axis=1),:]"
   ]
  },
  {
   "cell_type": "code",
   "execution_count": 162,
   "metadata": {},
   "outputs": [
    {
     "data": {
      "text/html": [
       "<div>\n",
       "<style scoped>\n",
       "    .dataframe tbody tr th:only-of-type {\n",
       "        vertical-align: middle;\n",
       "    }\n",
       "\n",
       "    .dataframe tbody tr th {\n",
       "        vertical-align: top;\n",
       "    }\n",
       "\n",
       "    .dataframe thead th {\n",
       "        text-align: right;\n",
       "    }\n",
       "</style>\n",
       "<table border=\"1\" class=\"dataframe\">\n",
       "  <thead>\n",
       "    <tr style=\"text-align: right;\">\n",
       "      <th></th>\n",
       "      <th>Unnamed: 0</th>\n",
       "      <th>Sample_1_preadi</th>\n",
       "      <th>Sample_2_preadi</th>\n",
       "      <th>Sample_3_preadi</th>\n",
       "      <th>Sample_4_preadi</th>\n",
       "      <th>Sample_5_preadi</th>\n",
       "      <th>Sample_6_preadi</th>\n",
       "      <th>Sample_7_preadi</th>\n",
       "      <th>Sample_8_preadi</th>\n",
       "      <th>Sample_9_preadi</th>\n",
       "      <th>...</th>\n",
       "      <th>Sample_71_adipo</th>\n",
       "      <th>Sample_72_adipo</th>\n",
       "      <th>Sample_73_adipo</th>\n",
       "      <th>Sample_74_adipo</th>\n",
       "      <th>Sample_75_adipo</th>\n",
       "      <th>Sample_76_adipo</th>\n",
       "      <th>Sample_77_adipo</th>\n",
       "      <th>Sample_78_adipo</th>\n",
       "      <th>Sample_79_adipo</th>\n",
       "      <th>Sample_80_adipo</th>\n",
       "    </tr>\n",
       "  </thead>\n",
       "  <tbody>\n",
       "    <tr>\n",
       "      <th>0</th>\n",
       "      <td>ENSG00000000003</td>\n",
       "      <td>18</td>\n",
       "      <td>12</td>\n",
       "      <td>9</td>\n",
       "      <td>20</td>\n",
       "      <td>9</td>\n",
       "      <td>13</td>\n",
       "      <td>20</td>\n",
       "      <td>8</td>\n",
       "      <td>4</td>\n",
       "      <td>...</td>\n",
       "      <td>9</td>\n",
       "      <td>9</td>\n",
       "      <td>30</td>\n",
       "      <td>9</td>\n",
       "      <td>23</td>\n",
       "      <td>16</td>\n",
       "      <td>3</td>\n",
       "      <td>14</td>\n",
       "      <td>11</td>\n",
       "      <td>16</td>\n",
       "    </tr>\n",
       "    <tr>\n",
       "      <th>1</th>\n",
       "      <td>ENSG00000000005</td>\n",
       "      <td>0</td>\n",
       "      <td>0</td>\n",
       "      <td>0</td>\n",
       "      <td>2</td>\n",
       "      <td>0</td>\n",
       "      <td>0</td>\n",
       "      <td>0</td>\n",
       "      <td>0</td>\n",
       "      <td>0</td>\n",
       "      <td>...</td>\n",
       "      <td>0</td>\n",
       "      <td>1</td>\n",
       "      <td>29</td>\n",
       "      <td>2</td>\n",
       "      <td>22</td>\n",
       "      <td>3</td>\n",
       "      <td>0</td>\n",
       "      <td>2</td>\n",
       "      <td>0</td>\n",
       "      <td>5</td>\n",
       "    </tr>\n",
       "    <tr>\n",
       "      <th>2</th>\n",
       "      <td>ENSG00000000419</td>\n",
       "      <td>10</td>\n",
       "      <td>9</td>\n",
       "      <td>9</td>\n",
       "      <td>8</td>\n",
       "      <td>10</td>\n",
       "      <td>10</td>\n",
       "      <td>6</td>\n",
       "      <td>35</td>\n",
       "      <td>13</td>\n",
       "      <td>...</td>\n",
       "      <td>3</td>\n",
       "      <td>9</td>\n",
       "      <td>9</td>\n",
       "      <td>15</td>\n",
       "      <td>8</td>\n",
       "      <td>9</td>\n",
       "      <td>9</td>\n",
       "      <td>4</td>\n",
       "      <td>16</td>\n",
       "      <td>5</td>\n",
       "    </tr>\n",
       "    <tr>\n",
       "      <th>3</th>\n",
       "      <td>ENSG00000000457</td>\n",
       "      <td>0</td>\n",
       "      <td>11</td>\n",
       "      <td>0</td>\n",
       "      <td>6</td>\n",
       "      <td>2</td>\n",
       "      <td>12</td>\n",
       "      <td>11</td>\n",
       "      <td>1</td>\n",
       "      <td>2</td>\n",
       "      <td>...</td>\n",
       "      <td>9</td>\n",
       "      <td>8</td>\n",
       "      <td>8</td>\n",
       "      <td>5</td>\n",
       "      <td>6</td>\n",
       "      <td>0</td>\n",
       "      <td>12</td>\n",
       "      <td>13</td>\n",
       "      <td>4</td>\n",
       "      <td>11</td>\n",
       "    </tr>\n",
       "    <tr>\n",
       "      <th>4</th>\n",
       "      <td>ENSG00000000460</td>\n",
       "      <td>0</td>\n",
       "      <td>0</td>\n",
       "      <td>14</td>\n",
       "      <td>4</td>\n",
       "      <td>5</td>\n",
       "      <td>0</td>\n",
       "      <td>0</td>\n",
       "      <td>6</td>\n",
       "      <td>4</td>\n",
       "      <td>...</td>\n",
       "      <td>0</td>\n",
       "      <td>0</td>\n",
       "      <td>3</td>\n",
       "      <td>0</td>\n",
       "      <td>1</td>\n",
       "      <td>0</td>\n",
       "      <td>1</td>\n",
       "      <td>4</td>\n",
       "      <td>0</td>\n",
       "      <td>10</td>\n",
       "    </tr>\n",
       "    <tr>\n",
       "      <th>...</th>\n",
       "      <td>...</td>\n",
       "      <td>...</td>\n",
       "      <td>...</td>\n",
       "      <td>...</td>\n",
       "      <td>...</td>\n",
       "      <td>...</td>\n",
       "      <td>...</td>\n",
       "      <td>...</td>\n",
       "      <td>...</td>\n",
       "      <td>...</td>\n",
       "      <td>...</td>\n",
       "      <td>...</td>\n",
       "      <td>...</td>\n",
       "      <td>...</td>\n",
       "      <td>...</td>\n",
       "      <td>...</td>\n",
       "      <td>...</td>\n",
       "      <td>...</td>\n",
       "      <td>...</td>\n",
       "      <td>...</td>\n",
       "      <td>...</td>\n",
       "    </tr>\n",
       "    <tr>\n",
       "      <th>63668</th>\n",
       "      <td>ENSG00000273485</td>\n",
       "      <td>0</td>\n",
       "      <td>0</td>\n",
       "      <td>0</td>\n",
       "      <td>1</td>\n",
       "      <td>0</td>\n",
       "      <td>5</td>\n",
       "      <td>0</td>\n",
       "      <td>0</td>\n",
       "      <td>0</td>\n",
       "      <td>...</td>\n",
       "      <td>0</td>\n",
       "      <td>0</td>\n",
       "      <td>0</td>\n",
       "      <td>0</td>\n",
       "      <td>0</td>\n",
       "      <td>12</td>\n",
       "      <td>0</td>\n",
       "      <td>0</td>\n",
       "      <td>0</td>\n",
       "      <td>0</td>\n",
       "    </tr>\n",
       "    <tr>\n",
       "      <th>63669</th>\n",
       "      <td>ENSG00000273486</td>\n",
       "      <td>0</td>\n",
       "      <td>0</td>\n",
       "      <td>0</td>\n",
       "      <td>0</td>\n",
       "      <td>1</td>\n",
       "      <td>0</td>\n",
       "      <td>0</td>\n",
       "      <td>0</td>\n",
       "      <td>0</td>\n",
       "      <td>...</td>\n",
       "      <td>0</td>\n",
       "      <td>2</td>\n",
       "      <td>0</td>\n",
       "      <td>3</td>\n",
       "      <td>0</td>\n",
       "      <td>2</td>\n",
       "      <td>5</td>\n",
       "      <td>1</td>\n",
       "      <td>0</td>\n",
       "      <td>0</td>\n",
       "    </tr>\n",
       "    <tr>\n",
       "      <th>63670</th>\n",
       "      <td>ENSG00000273487</td>\n",
       "      <td>0</td>\n",
       "      <td>0</td>\n",
       "      <td>0</td>\n",
       "      <td>0</td>\n",
       "      <td>0</td>\n",
       "      <td>0</td>\n",
       "      <td>0</td>\n",
       "      <td>0</td>\n",
       "      <td>0</td>\n",
       "      <td>...</td>\n",
       "      <td>0</td>\n",
       "      <td>0</td>\n",
       "      <td>0</td>\n",
       "      <td>0</td>\n",
       "      <td>0</td>\n",
       "      <td>0</td>\n",
       "      <td>0</td>\n",
       "      <td>0</td>\n",
       "      <td>0</td>\n",
       "      <td>0</td>\n",
       "    </tr>\n",
       "    <tr>\n",
       "      <th>63672</th>\n",
       "      <td>ENSG00000273489</td>\n",
       "      <td>0</td>\n",
       "      <td>0</td>\n",
       "      <td>0</td>\n",
       "      <td>2</td>\n",
       "      <td>0</td>\n",
       "      <td>1</td>\n",
       "      <td>8</td>\n",
       "      <td>0</td>\n",
       "      <td>0</td>\n",
       "      <td>...</td>\n",
       "      <td>0</td>\n",
       "      <td>0</td>\n",
       "      <td>0</td>\n",
       "      <td>0</td>\n",
       "      <td>0</td>\n",
       "      <td>0</td>\n",
       "      <td>0</td>\n",
       "      <td>0</td>\n",
       "      <td>0</td>\n",
       "      <td>0</td>\n",
       "    </tr>\n",
       "    <tr>\n",
       "      <th>63676</th>\n",
       "      <td>ENSG00000273493</td>\n",
       "      <td>0</td>\n",
       "      <td>0</td>\n",
       "      <td>0</td>\n",
       "      <td>0</td>\n",
       "      <td>0</td>\n",
       "      <td>0</td>\n",
       "      <td>0</td>\n",
       "      <td>0</td>\n",
       "      <td>1</td>\n",
       "      <td>...</td>\n",
       "      <td>0</td>\n",
       "      <td>0</td>\n",
       "      <td>0</td>\n",
       "      <td>0</td>\n",
       "      <td>0</td>\n",
       "      <td>0</td>\n",
       "      <td>0</td>\n",
       "      <td>0</td>\n",
       "      <td>3</td>\n",
       "      <td>0</td>\n",
       "    </tr>\n",
       "  </tbody>\n",
       "</table>\n",
       "<p>30238 rows × 81 columns</p>\n",
       "</div>"
      ],
      "text/plain": [
       "            Unnamed: 0  Sample_1_preadi  Sample_2_preadi  Sample_3_preadi  \\\n",
       "0      ENSG00000000003               18               12                9   \n",
       "1      ENSG00000000005                0                0                0   \n",
       "2      ENSG00000000419               10                9                9   \n",
       "3      ENSG00000000457                0               11                0   \n",
       "4      ENSG00000000460                0                0               14   \n",
       "...                ...              ...              ...              ...   \n",
       "63668  ENSG00000273485                0                0                0   \n",
       "63669  ENSG00000273486                0                0                0   \n",
       "63670  ENSG00000273487                0                0                0   \n",
       "63672  ENSG00000273489                0                0                0   \n",
       "63676  ENSG00000273493                0                0                0   \n",
       "\n",
       "       Sample_4_preadi  Sample_5_preadi  Sample_6_preadi  Sample_7_preadi  \\\n",
       "0                   20                9               13               20   \n",
       "1                    2                0                0                0   \n",
       "2                    8               10               10                6   \n",
       "3                    6                2               12               11   \n",
       "4                    4                5                0                0   \n",
       "...                ...              ...              ...              ...   \n",
       "63668                1                0                5                0   \n",
       "63669                0                1                0                0   \n",
       "63670                0                0                0                0   \n",
       "63672                2                0                1                8   \n",
       "63676                0                0                0                0   \n",
       "\n",
       "       Sample_8_preadi  Sample_9_preadi  ...  Sample_71_adipo  \\\n",
       "0                    8                4  ...                9   \n",
       "1                    0                0  ...                0   \n",
       "2                   35               13  ...                3   \n",
       "3                    1                2  ...                9   \n",
       "4                    6                4  ...                0   \n",
       "...                ...              ...  ...              ...   \n",
       "63668                0                0  ...                0   \n",
       "63669                0                0  ...                0   \n",
       "63670                0                0  ...                0   \n",
       "63672                0                0  ...                0   \n",
       "63676                0                1  ...                0   \n",
       "\n",
       "       Sample_72_adipo  Sample_73_adipo  Sample_74_adipo  Sample_75_adipo  \\\n",
       "0                    9               30                9               23   \n",
       "1                    1               29                2               22   \n",
       "2                    9                9               15                8   \n",
       "3                    8                8                5                6   \n",
       "4                    0                3                0                1   \n",
       "...                ...              ...              ...              ...   \n",
       "63668                0                0                0                0   \n",
       "63669                2                0                3                0   \n",
       "63670                0                0                0                0   \n",
       "63672                0                0                0                0   \n",
       "63676                0                0                0                0   \n",
       "\n",
       "       Sample_76_adipo  Sample_77_adipo  Sample_78_adipo  Sample_79_adipo  \\\n",
       "0                   16                3               14               11   \n",
       "1                    3                0                2                0   \n",
       "2                    9                9                4               16   \n",
       "3                    0               12               13                4   \n",
       "4                    0                1                4                0   \n",
       "...                ...              ...              ...              ...   \n",
       "63668               12                0                0                0   \n",
       "63669                2                5                1                0   \n",
       "63670                0                0                0                0   \n",
       "63672                0                0                0                0   \n",
       "63676                0                0                0                3   \n",
       "\n",
       "       Sample_80_adipo  \n",
       "0                   16  \n",
       "1                    5  \n",
       "2                    5  \n",
       "3                   11  \n",
       "4                   10  \n",
       "...                ...  \n",
       "63668                0  \n",
       "63669                0  \n",
       "63670                0  \n",
       "63672                0  \n",
       "63676                0  \n",
       "\n",
       "[30238 rows x 81 columns]"
      ]
     },
     "execution_count": 162,
     "metadata": {},
     "output_type": "execute_result"
    }
   ],
   "source": [
    "transcriptomics"
   ]
  },
  {
   "cell_type": "markdown",
   "metadata": {},
   "source": [
    "e)"
   ]
  },
  {
   "cell_type": "code",
   "execution_count": 163,
   "metadata": {},
   "outputs": [
    {
     "data": {
      "text/plain": [
       "Sample_1_preadi    1000000\n",
       "Sample_2_preadi    1000000\n",
       "Sample_3_preadi    1000000\n",
       "Sample_4_preadi    1000000\n",
       "Sample_5_preadi    1000000\n",
       "                    ...   \n",
       "Sample_76_adipo    1000000\n",
       "Sample_77_adipo    1000000\n",
       "Sample_78_adipo    1000000\n",
       "Sample_79_adipo    1000000\n",
       "Sample_80_adipo    1000000\n",
       "Length: 80, dtype: int64"
      ]
     },
     "execution_count": 163,
     "metadata": {},
     "output_type": "execute_result"
    }
   ],
   "source": [
    "transcriptomics.iloc[:,1:].sum()"
   ]
  },
  {
   "cell_type": "code",
   "execution_count": 164,
   "metadata": {},
   "outputs": [],
   "source": [
    "depth = pd.DataFrame({'Samples':list(range(1,81)), 'depth':transcriptomics.iloc[:,1:].sum()})"
   ]
  },
  {
   "cell_type": "code",
   "execution_count": 165,
   "metadata": {},
   "outputs": [
    {
     "data": {
      "text/plain": [
       "True"
      ]
     },
     "execution_count": 165,
     "metadata": {},
     "output_type": "execute_result"
    }
   ],
   "source": [
    "(transcriptomics.iloc[:,1:].sum() == 1000000).all()"
   ]
  },
  {
   "cell_type": "code",
   "execution_count": 166,
   "metadata": {},
   "outputs": [
    {
     "data": {
      "image/png": "[encoded data removed]",
      "text/plain": [
       "<Figure size 1440x720 with 1 Axes>"
      ]
     },
     "metadata": {
      "needs_background": "light"
     },
     "output_type": "display_data"
    }
   ],
   "source": [
    "plt.figure(figsize=(20,10))\n",
    "ax =sns.barplot( data=depth, y='depth', x=\"Samples\")"
   ]
  },
  {
   "cell_type": "markdown",
   "metadata": {},
   "source": [
    "Do not need to normalized"
   ]
  },
  {
   "cell_type": "markdown",
   "metadata": {},
   "source": [
    "f)"
   ]
  },
  {
   "cell_type": "code",
   "execution_count": 167,
   "metadata": {},
   "outputs": [
    {
     "data": {
      "text/plain": [
       "dict_values(['PreAdipo', 'PreAdipo', 'PreAdipo', 'PreAdipo', 'PreAdipo', 'PreAdipo', 'PreAdipo', 'PreAdipo', 'PreAdipo', 'PreAdipo', 'PreAdipo', 'PreAdipo', 'PreAdipo', 'PreAdipo', 'PreAdipo', 'PreAdipo', 'PreAdipo', 'PreAdipo', 'PreAdipo', 'PreAdipo', 'PreAdipo', 'PreAdipo', 'PreAdipo', 'PreAdipo', 'PreAdipo', 'PreAdipo', 'PreAdipo', 'PreAdipo', 'PreAdipo', 'PreAdipo', 'PreAdipo', 'PreAdipo', 'PreAdipo', 'PreAdipo', 'PreAdipo', 'PreAdipo', 'PreAdipo', 'PreAdipo', 'PreAdipo', 'PreAdipo', 'Adipo', 'Adipo', 'Adipo', 'Adipo', 'Adipo', 'Adipo', 'Adipo', 'Adipo', 'Adipo', 'Adipo', 'Adipo', 'Adipo', 'Adipo', 'Adipo', 'Adipo', 'Adipo', 'Adipo', 'Adipo', 'Adipo', 'Adipo', 'Adipo', 'Adipo', 'Adipo', 'Adipo', 'Adipo', 'Adipo', 'Adipo', 'Adipo', 'Adipo', 'Adipo', 'Adipo', 'Adipo', 'Adipo', 'Adipo', 'Adipo', 'Adipo', 'Adipo', 'Adipo', 'Adipo', 'Adipo'])"
      ]
     },
     "execution_count": 167,
     "metadata": {},
     "output_type": "execute_result"
    }
   ],
   "source": [
    "dict_sample.values()"
   ]
  },
  {
   "cell_type": "code",
   "execution_count": 168,
   "metadata": {},
   "outputs": [
    {
     "data": {
      "text/html": [
       "<div>\n",
       "<style scoped>\n",
       "    .dataframe tbody tr th:only-of-type {\n",
       "        vertical-align: middle;\n",
       "    }\n",
       "\n",
       "    .dataframe tbody tr th {\n",
       "        vertical-align: top;\n",
       "    }\n",
       "\n",
       "    .dataframe thead th {\n",
       "        text-align: right;\n",
       "    }\n",
       "</style>\n",
       "<table border=\"1\" class=\"dataframe\">\n",
       "  <thead>\n",
       "    <tr style=\"text-align: right;\">\n",
       "      <th></th>\n",
       "      <th>PCA1</th>\n",
       "      <th>PCA2</th>\n",
       "      <th>PCA3</th>\n",
       "      <th>groups</th>\n",
       "    </tr>\n",
       "  </thead>\n",
       "  <tbody>\n",
       "    <tr>\n",
       "      <th>0</th>\n",
       "      <td>59744.204875</td>\n",
       "      <td>5181.484207</td>\n",
       "      <td>34953.673194</td>\n",
       "      <td>PreAdipo</td>\n",
       "    </tr>\n",
       "    <tr>\n",
       "      <th>1</th>\n",
       "      <td>-36447.502550</td>\n",
       "      <td>11214.469551</td>\n",
       "      <td>6564.207381</td>\n",
       "      <td>PreAdipo</td>\n",
       "    </tr>\n",
       "    <tr>\n",
       "      <th>2</th>\n",
       "      <td>-15666.397486</td>\n",
       "      <td>-7873.272341</td>\n",
       "      <td>3183.165238</td>\n",
       "      <td>PreAdipo</td>\n",
       "    </tr>\n",
       "    <tr>\n",
       "      <th>3</th>\n",
       "      <td>-22423.413307</td>\n",
       "      <td>-20027.140990</td>\n",
       "      <td>-15412.563780</td>\n",
       "      <td>PreAdipo</td>\n",
       "    </tr>\n",
       "    <tr>\n",
       "      <th>4</th>\n",
       "      <td>-15830.729625</td>\n",
       "      <td>-13797.002922</td>\n",
       "      <td>-8727.933106</td>\n",
       "      <td>PreAdipo</td>\n",
       "    </tr>\n",
       "    <tr>\n",
       "      <th>...</th>\n",
       "      <td>...</td>\n",
       "      <td>...</td>\n",
       "      <td>...</td>\n",
       "      <td>...</td>\n",
       "    </tr>\n",
       "    <tr>\n",
       "      <th>75</th>\n",
       "      <td>39830.374618</td>\n",
       "      <td>16913.116447</td>\n",
       "      <td>2542.199214</td>\n",
       "      <td>Adipo</td>\n",
       "    </tr>\n",
       "    <tr>\n",
       "      <th>76</th>\n",
       "      <td>44353.454788</td>\n",
       "      <td>-2109.828106</td>\n",
       "      <td>-14291.751796</td>\n",
       "      <td>Adipo</td>\n",
       "    </tr>\n",
       "    <tr>\n",
       "      <th>77</th>\n",
       "      <td>-2515.045934</td>\n",
       "      <td>2289.387447</td>\n",
       "      <td>-29504.065115</td>\n",
       "      <td>Adipo</td>\n",
       "    </tr>\n",
       "    <tr>\n",
       "      <th>78</th>\n",
       "      <td>-23979.413582</td>\n",
       "      <td>32201.099006</td>\n",
       "      <td>-2077.782790</td>\n",
       "      <td>Adipo</td>\n",
       "    </tr>\n",
       "    <tr>\n",
       "      <th>79</th>\n",
       "      <td>-22809.815936</td>\n",
       "      <td>19705.732484</td>\n",
       "      <td>-1020.655207</td>\n",
       "      <td>Adipo</td>\n",
       "    </tr>\n",
       "  </tbody>\n",
       "</table>\n",
       "<p>80 rows × 4 columns</p>\n",
       "</div>"
      ],
      "text/plain": [
       "            PCA1          PCA2          PCA3    groups\n",
       "0   59744.204875   5181.484207  34953.673194  PreAdipo\n",
       "1  -36447.502550  11214.469551   6564.207381  PreAdipo\n",
       "2  -15666.397486  -7873.272341   3183.165238  PreAdipo\n",
       "3  -22423.413307 -20027.140990 -15412.563780  PreAdipo\n",
       "4  -15830.729625 -13797.002922  -8727.933106  PreAdipo\n",
       "..           ...           ...           ...       ...\n",
       "75  39830.374618  16913.116447   2542.199214     Adipo\n",
       "76  44353.454788  -2109.828106 -14291.751796     Adipo\n",
       "77  -2515.045934   2289.387447 -29504.065115     Adipo\n",
       "78 -23979.413582  32201.099006  -2077.782790     Adipo\n",
       "79 -22809.815936  19705.732484  -1020.655207     Adipo\n",
       "\n",
       "[80 rows x 4 columns]"
      ]
     },
     "execution_count": 168,
     "metadata": {},
     "output_type": "execute_result"
    }
   ],
   "source": [
    "X = transcriptomics.iloc[:,1:].T.to_numpy(dtype=float)\n",
    "pca = PCA(n_components=3)\n",
    "pca_output = pca.fit_transform(X)\n",
    "pca_output_df = pd.DataFrame(pca_output, columns=['PCA1', 'PCA2', 'PCA3'])\n",
    "pca_output_df[\"groups\"] =dict_sample.values()\n",
    "pca_output_df"
   ]
  },
  {
   "cell_type": "code",
   "execution_count": 169,
   "metadata": {},
   "outputs": [
    {
     "data": {
      "application/vnd.plotly.v1+json": {
       "config": {
        "plotlyServerURL": "https://plot.ly"
       },
       "data": [
        {
         "hovertemplate": "groups=PreAdipo<br>PCA1=%{x}<br>PCA2=%{y}<br>PCA3=%{z}<extra></extra>",
         "legendgroup": "PreAdipo",
         "marker": {
          "color": "#636efa",
          "symbol": "circle"
         },
         "mode": "markers",
         "name": "PreAdipo",
         "scene": "scene",
         "showlegend": true,
         "type": "scatter3d",
         "x": [
          59744.20487486383,
          -36447.50255004795,
          -15666.397485666914,
          -22423.41330660362,
          -15830.729625471618,
          -17332.66772343126,
          -12955.303774635133,
          -6793.369551946858,
          -38277.916083316675,
          7533.75425107577,
          12136.694134477739,
          -8674.685048862366,
          -13743.502268817354,
          -3823.192789156789,
          -26862.92502996944,
          -20949.275905316266,
          100.46620410439024,
          14153.027864329308,
          -18104.2239379263,
          -19679.392308106228,
          -21930.660054985477,
          -20557.360553268005,
          -19819.94360989575,
          -16877.796159424317,
          -19060.358388341356,
          -27097.130554989693,
          -27237.65589572312,
          -15548.502302760371,
          975.0945234179334,
          2447.3361996276985,
          -27137.592455098296,
          -14665.737411881071,
          -4912.153744272388,
          -19399.051820918703,
          5677.757574148702,
          222.53846634717067,
          -21312.3910646094,
          -17697.628157703497,
          -19136.854282519274,
          -5107.956773698215
         ],
         "y": [
          5181.484207279798,
          11214.469551465287,
          -7873.2723413649255,
          -20027.140990296844,
          -13797.002922133837,
          -3597.1800412012117,
          14041.820704478365,
          -16810.345315512437,
          3570.9447011775123,
          9691.262731453733,
          -12752.484044746321,
          -18356.715174296878,
          -6222.812426911252,
          -20290.913315276743,
          -19717.963044769025,
          -16902.647454803136,
          -16815.85084468252,
          -5007.125421409383,
          -262.3659737189953,
          -13609.739742818607,
          -2584.5681412565195,
          -16718.396638597867,
          -10361.694943143377,
          -25571.459647816046,
          30299.382955632795,
          13888.191538375482,
          -17274.405760917776,
          -24198.477156504952,
          -19830.051019646777,
          8865.518644955439,
          23345.719463316764,
          19074.587971051555,
          -4432.78858122406,
          -22451.84810336423,
          -2563.7925415427,
          -3215.381289766227,
          -8996.693560014879,
          10553.342367703859,
          -29585.876536315194,
          -16192.532226373105
         ],
         "z": [
          34953.67319385136,
          6564.207381040243,
          3183.1652380379487,
          -15412.5637797901,
          -8727.93310613663,
          2525.941050817552,
          15781.996739875567,
          3527.703573743902,
          -6783.304498017209,
          26837.308224171207,
          18027.177043347358,
          6641.195236863005,
          14444.900761362494,
          4782.257096399899,
          -7147.891608301566,
          -841.2817067612455,
          16422.97930752434,
          25362.598603004662,
          -4885.658971542851,
          -3265.329395054286,
          11806.558777662596,
          4520.238492128123,
          -5042.802487202231,
          7260.860610162899,
          6163.046222034778,
          -1571.432148764601,
          -16448.095458911157,
          13797.707733959225,
          11598.755546077131,
          26836.48450036608,
          7694.887240348175,
          15510.193538691246,
          3138.8300370408274,
          -3300.298402778345,
          16169.58272152346,
          19613.785697611638,
          -5086.66684280787,
          12100.413081769124,
          -6968.774935794141,
          1401.494724565824
         ]
        },
        {
         "hovertemplate": "groups=Adipo<br>PCA1=%{x}<br>PCA2=%{y}<br>PCA3=%{z}<extra></extra>",
         "legendgroup": "Adipo",
         "marker": {
          "color": "#EF553B",
          "symbol": "circle"
         },
         "mode": "markers",
         "name": "Adipo",
         "scene": "scene",
         "showlegend": true,
         "type": "scatter3d",
         "x": [
          19182.98360660249,
          36821.6196236428,
          31058.721202798868,
          -5371.825310895096,
          30748.774478412848,
          28368.447661204158,
          -194.9607004020562,
          18732.173107838677,
          54855.70260918231,
          11348.213163266915,
          -27480.951624719142,
          -20259.82128571632,
          533.848795300796,
          3635.934648705033,
          72278.57264525004,
          45723.353503684164,
          -31910.386775500396,
          43759.442927717944,
          17327.52138795161,
          -23198.111487375867,
          -6584.72897673955,
          4904.440778771505,
          -28571.185287606506,
          -3436.17716064773,
          15726.245812798397,
          6858.917857019009,
          35228.16427971716,
          13276.792248782445,
          -2399.9325226125325,
          27136.282535575425,
          -6336.925733156156,
          -5853.258820026081,
          18653.507279559577,
          15629.23166080126,
          47002.21644424792,
          39830.374617711976,
          44353.4547882957,
          -2515.0459344983233,
          -23979.41358160577,
          -22809.81593636624
         ],
         "y": [
          22856.862039326617,
          4323.415183007057,
          -4590.180382839329,
          2020.8611721185532,
          -9236.424686545071,
          -7349.032857327759,
          -7870.582508018469,
          7297.532101292803,
          6340.011538556982,
          3537.085355909619,
          13309.652146565628,
          28378.46019916137,
          -1284.9706611667136,
          22985.80676325246,
          3022.32315184935,
          4164.866712706211,
          37097.628023784884,
          8979.629245940381,
          -5850.235907982949,
          32896.144619226885,
          5122.016674993673,
          -8300.692287209964,
          17492.863674145094,
          1453.616026356742,
          2301.5666453594145,
          -7864.483210205923,
          760.7498092900587,
          4570.822508843345,
          7135.646489973165,
          -10884.204511007647,
          9892.725154914839,
          1047.5955256117054,
          -9750.767561757595,
          -6457.210005998199,
          9746.196903603482,
          16913.11644676911,
          -2109.8281064747875,
          2289.387447494991,
          32201.099005909087,
          19705.732484106105
         ],
         "z": [
          -5510.235095140367,
          -6010.654238492467,
          4071.2268014041756,
          -5554.025883094045,
          1112.1698730779165,
          15266.097939823476,
          -15288.41263738971,
          -18381.165586669704,
          -9613.841736894929,
          -19590.393667349792,
          -11326.972768074325,
          -88.24917676799255,
          853.3559566396113,
          -11953.530277153048,
          774.2370535000643,
          -3726.0280086651755,
          -4561.8254600754935,
          -4340.635521221282,
          1481.4544345196546,
          1880.5637843801574,
          -8555.932897587916,
          3162.162917247125,
          -139.91801757841597,
          -16316.012844920973,
          -28522.2804325802,
          -581.7589528377645,
          -9247.558804884182,
          -7136.199427316286,
          -2899.2123222221717,
          -15069.436207047462,
          -522.1420787543157,
          -2521.319761397366,
          -14678.951262549706,
          -12126.8864394717,
          -1171.54259250987,
          2542.1992139754443,
          -14291.751795575923,
          -29504.065114647652,
          -2077.7827903846733,
          -1020.6552074313548
         ]
        }
       ],
       "layout": {
        "legend": {
         "title": {
          "text": "groups"
         },
         "tracegroupgap": 0
        },
        "margin": {
         "t": 60
        },
        "scene": {
         "domain": {
          "x": [
           0,
           1
          ],
          "y": [
           0,
           1
          ]
         },
         "xaxis": {
          "title": {
           "text": "PCA1"
          }
         },
         "yaxis": {
          "title": {
           "text": "PCA2"
          }
         },
         "zaxis": {
          "title": {
           "text": "PCA3"
          }
         }
        },
        "template": {
         "data": {
          "bar": [
           {
            "error_x": {
             "color": "#2a3f5f"
            },
            "error_y": {
             "color": "#2a3f5f"
            },
            "marker": {
             "line": {
              "color": "#E5ECF6",
              "width": 0.5
             },
             "pattern": {
              "fillmode": "overlay",
              "size": 10,
              "solidity": 0.2
             }
            },
            "type": "bar"
           }
          ],
          "barpolar": [
           {
            "marker": {
             "line": {
              "color": "#E5ECF6",
              "width": 0.5
             },
             "pattern": {
              "fillmode": "overlay",
              "size": 10,
              "solidity": 0.2
             }
            },
            "type": "barpolar"
           }
          ],
          "carpet": [
           {
            "aaxis": {
             "endlinecolor": "#2a3f5f",
             "gridcolor": "white",
             "linecolor": "white",
             "minorgridcolor": "white",
             "startlinecolor": "#2a3f5f"
            },
            "baxis": {
             "endlinecolor": "#2a3f5f",
             "gridcolor": "white",
             "linecolor": "white",
             "minorgridcolor": "white",
             "startlinecolor": "#2a3f5f"
            },
            "type": "carpet"
           }
          ],
          "choropleth": [
           {
            "colorbar": {
             "outlinewidth": 0,
             "ticks": ""
            },
            "type": "choropleth"
           }
          ],
          "contour": [
           {
            "colorbar": {
             "outlinewidth": 0,
             "ticks": ""
            },
            "colorscale": [
             [
              0,
              "#0d0887"
             ],
             [
              0.1111111111111111,
              "#46039f"
             ],
             [
              0.2222222222222222,
              "#7201a8"
             ],
             [
              0.3333333333333333,
              "#9c179e"
             ],
             [
              0.4444444444444444,
              "#bd3786"
             ],
             [
              0.5555555555555556,
              "#d8576b"
             ],
             [
              0.6666666666666666,
              "#ed7953"
             ],
             [
              0.7777777777777778,
              "#fb9f3a"
             ],
             [
              0.8888888888888888,
              "#fdca26"
             ],
             [
              1,
              "#f0f921"
             ]
            ],
            "type": "contour"
           }
          ],
          "contourcarpet": [
           {
            "colorbar": {
             "outlinewidth": 0,
             "ticks": ""
            },
            "type": "contourcarpet"
           }
          ],
          "heatmap": [
           {
            "colorbar": {
             "outlinewidth": 0,
             "ticks": ""
            },
            "colorscale": [
             [
              0,
              "#0d0887"
             ],
             [
              0.1111111111111111,
              "#46039f"
             ],
             [
              0.2222222222222222,
              "#7201a8"
             ],
             [
              0.3333333333333333,
              "#9c179e"
             ],
             [
              0.4444444444444444,
              "#bd3786"
             ],
             [
              0.5555555555555556,
              "#d8576b"
             ],
             [
              0.6666666666666666,
              "#ed7953"
             ],
             [
              0.7777777777777778,
              "#fb9f3a"
             ],
             [
              0.8888888888888888,
              "#fdca26"
             ],
             [
              1,
              "#f0f921"
             ]
            ],
            "type": "heatmap"
           }
          ],
          "heatmapgl": [
           {
            "colorbar": {
             "outlinewidth": 0,
             "ticks": ""
            },
            "colorscale": [
             [
              0,
              "#0d0887"
             ],
             [
              0.1111111111111111,
              "#46039f"
             ],
             [
              0.2222222222222222,
              "#7201a8"
             ],
             [
              0.3333333333333333,
              "#9c179e"
             ],
             [
              0.4444444444444444,
              "#bd3786"
             ],
             [
              0.5555555555555556,
              "#d8576b"
             ],
             [
              0.6666666666666666,
              "#ed7953"
             ],
             [
              0.7777777777777778,
              "#fb9f3a"
             ],
             [
              0.8888888888888888,
              "#fdca26"
             ],
             [
              1,
              "#f0f921"
             ]
            ],
            "type": "heatmapgl"
           }
          ],
          "histogram": [
           {
            "marker": {
             "pattern": {
              "fillmode": "overlay",
              "size": 10,
              "solidity": 0.2
             }
            },
            "type": "histogram"
           }
          ],
          "histogram2d": [
           {
            "colorbar": {
             "outlinewidth": 0,
             "ticks": ""
            },
            "colorscale": [
             [
              0,
              "#0d0887"
             ],
             [
              0.1111111111111111,
              "#46039f"
             ],
             [
              0.2222222222222222,
              "#7201a8"
             ],
             [
              0.3333333333333333,
              "#9c179e"
             ],
             [
              0.4444444444444444,
              "#bd3786"
             ],
             [
              0.5555555555555556,
              "#d8576b"
             ],
             [
              0.6666666666666666,
              "#ed7953"
             ],
             [
              0.7777777777777778,
              "#fb9f3a"
             ],
             [
              0.8888888888888888,
              "#fdca26"
             ],
             [
              1,
              "#f0f921"
             ]
            ],
            "type": "histogram2d"
           }
          ],
          "histogram2dcontour": [
           {
            "colorbar": {
             "outlinewidth": 0,
             "ticks": ""
            },
            "colorscale": [
             [
              0,
              "#0d0887"
             ],
             [
              0.1111111111111111,
              "#46039f"
             ],
             [
              0.2222222222222222,
              "#7201a8"
             ],
             [
              0.3333333333333333,
              "#9c179e"
             ],
             [
              0.4444444444444444,
              "#bd3786"
             ],
             [
              0.5555555555555556,
              "#d8576b"
             ],
             [
              0.6666666666666666,
              "#ed7953"
             ],
             [
              0.7777777777777778,
              "#fb9f3a"
             ],
             [
              0.8888888888888888,
              "#fdca26"
             ],
             [
              1,
              "#f0f921"
             ]
            ],
            "type": "histogram2dcontour"
           }
          ],
          "mesh3d": [
           {
            "colorbar": {
             "outlinewidth": 0,
             "ticks": ""
            },
            "type": "mesh3d"
           }
          ],
          "parcoords": [
           {
            "line": {
             "colorbar": {
              "outlinewidth": 0,
              "ticks": ""
             }
            },
            "type": "parcoords"
           }
          ],
          "pie": [
           {
            "automargin": true,
            "type": "pie"
           }
          ],
          "scatter": [
           {
            "fillpattern": {
             "fillmode": "overlay",
             "size": 10,
             "solidity": 0.2
            },
            "type": "scatter"
           }
          ],
          "scatter3d": [
           {
            "line": {
             "colorbar": {
              "outlinewidth": 0,
              "ticks": ""
             }
            },
            "marker": {
             "colorbar": {
              "outlinewidth": 0,
              "ticks": ""
             }
            },
            "type": "scatter3d"
           }
          ],
          "scattercarpet": [
           {
            "marker": {
             "colorbar": {
              "outlinewidth": 0,
              "ticks": ""
             }
            },
            "type": "scattercarpet"
           }
          ],
          "scattergeo": [
           {
            "marker": {
             "colorbar": {
              "outlinewidth": 0,
              "ticks": ""
             }
            },
            "type": "scattergeo"
           }
          ],
          "scattergl": [
           {
            "marker": {
             "colorbar": {
              "outlinewidth": 0,
              "ticks": ""
             }
            },
            "type": "scattergl"
           }
          ],
          "scattermapbox": [
           {
            "marker": {
             "colorbar": {
              "outlinewidth": 0,
              "ticks": ""
             }
            },
            "type": "scattermapbox"
           }
          ],
          "scatterpolar": [
           {
            "marker": {
             "colorbar": {
              "outlinewidth": 0,
              "ticks": ""
             }
            },
            "type": "scatterpolar"
           }
          ],
          "scatterpolargl": [
           {
            "marker": {
             "colorbar": {
              "outlinewidth": 0,
              "ticks": ""
             }
            },
            "type": "scatterpolargl"
           }
          ],
          "scatterternary": [
           {
            "marker": {
             "colorbar": {
              "outlinewidth": 0,
              "ticks": ""
             }
            },
            "type": "scatterternary"
           }
          ],
          "surface": [
           {
            "colorbar": {
             "outlinewidth": 0,
             "ticks": ""
            },
            "colorscale": [
             [
              0,
              "#0d0887"
             ],
             [
              0.1111111111111111,
              "#46039f"
             ],
             [
              0.2222222222222222,
              "#7201a8"
             ],
             [
              0.3333333333333333,
              "#9c179e"
             ],
             [
              0.4444444444444444,
              "#bd3786"
             ],
             [
              0.5555555555555556,
              "#d8576b"
             ],
             [
              0.6666666666666666,
              "#ed7953"
             ],
             [
              0.7777777777777778,
              "#fb9f3a"
             ],
             [
              0.8888888888888888,
              "#fdca26"
             ],
             [
              1,
              "#f0f921"
             ]
            ],
            "type": "surface"
           }
          ],
          "table": [
           {
            "cells": {
             "fill": {
              "color": "#EBF0F8"
             },
             "line": {
              "color": "white"
             }
            },
            "header": {
             "fill": {
              "color": "#C8D4E3"
             },
             "line": {
              "color": "white"
             }
            },
            "type": "table"
           }
          ]
         },
         "layout": {
          "annotationdefaults": {
           "arrowcolor": "#2a3f5f",
           "arrowhead": 0,
           "arrowwidth": 1
          },
          "autotypenumbers": "strict",
          "coloraxis": {
           "colorbar": {
            "outlinewidth": 0,
            "ticks": ""
           }
          },
          "colorscale": {
           "diverging": [
            [
             0,
             "#8e0152"
            ],
            [
             0.1,
             "#c51b7d"
            ],
            [
             0.2,
             "#de77ae"
            ],
            [
             0.3,
             "#f1b6da"
            ],
            [
             0.4,
             "#fde0ef"
            ],
            [
             0.5,
             "#f7f7f7"
            ],
            [
             0.6,
             "#e6f5d0"
            ],
            [
             0.7,
             "#b8e186"
            ],
            [
             0.8,
             "#7fbc41"
            ],
            [
             0.9,
             "#4d9221"
            ],
            [
             1,
             "#276419"
            ]
           ],
           "sequential": [
            [
             0,
             "#0d0887"
            ],
            [
             0.1111111111111111,
             "#46039f"
            ],
            [
             0.2222222222222222,
             "#7201a8"
            ],
            [
             0.3333333333333333,
             "#9c179e"
            ],
            [
             0.4444444444444444,
             "#bd3786"
            ],
            [
             0.5555555555555556,
             "#d8576b"
            ],
            [
             0.6666666666666666,
             "#ed7953"
            ],
            [
             0.7777777777777778,
             "#fb9f3a"
            ],
            [
             0.8888888888888888,
             "#fdca26"
            ],
            [
             1,
             "#f0f921"
            ]
           ],
           "sequentialminus": [
            [
             0,
             "#0d0887"
            ],
            [
             0.1111111111111111,
             "#46039f"
            ],
            [
             0.2222222222222222,
             "#7201a8"
            ],
            [
             0.3333333333333333,
             "#9c179e"
            ],
            [
             0.4444444444444444,
             "#bd3786"
            ],
            [
             0.5555555555555556,
             "#d8576b"
            ],
            [
             0.6666666666666666,
             "#ed7953"
            ],
            [
             0.7777777777777778,
             "#fb9f3a"
            ],
            [
             0.8888888888888888,
             "#fdca26"
            ],
            [
             1,
             "#f0f921"
            ]
           ]
          },
          "colorway": [
           "#636efa",
           "#EF553B",
           "#00cc96",
           "#ab63fa",
           "#FFA15A",
           "#19d3f3",
           "#FF6692",
           "#B6E880",
           "#FF97FF",
           "#FECB52"
          ],
          "font": {
           "color": "#2a3f5f"
          },
          "geo": {
           "bgcolor": "white",
           "lakecolor": "white",
           "landcolor": "#E5ECF6",
           "showlakes": true,
           "showland": true,
           "subunitcolor": "white"
          },
          "hoverlabel": {
           "align": "left"
          },
          "hovermode": "closest",
          "mapbox": {
           "style": "light"
          },
          "paper_bgcolor": "white",
          "plot_bgcolor": "#E5ECF6",
          "polar": {
           "angularaxis": {
            "gridcolor": "white",
            "linecolor": "white",
            "ticks": ""
           },
           "bgcolor": "#E5ECF6",
           "radialaxis": {
            "gridcolor": "white",
            "linecolor": "white",
            "ticks": ""
           }
          },
          "scene": {
           "xaxis": {
            "backgroundcolor": "#E5ECF6",
            "gridcolor": "white",
            "gridwidth": 2,
            "linecolor": "white",
            "showbackground": true,
            "ticks": "",
            "zerolinecolor": "white"
           },
           "yaxis": {
            "backgroundcolor": "#E5ECF6",
            "gridcolor": "white",
            "gridwidth": 2,
            "linecolor": "white",
            "showbackground": true,
            "ticks": "",
            "zerolinecolor": "white"
           },
           "zaxis": {
            "backgroundcolor": "#E5ECF6",
            "gridcolor": "white",
            "gridwidth": 2,
            "linecolor": "white",
            "showbackground": true,
            "ticks": "",
            "zerolinecolor": "white"
           }
          },
          "shapedefaults": {
           "line": {
            "color": "#2a3f5f"
           }
          },
          "ternary": {
           "aaxis": {
            "gridcolor": "white",
            "linecolor": "white",
            "ticks": ""
           },
           "baxis": {
            "gridcolor": "white",
            "linecolor": "white",
            "ticks": ""
           },
           "bgcolor": "#E5ECF6",
           "caxis": {
            "gridcolor": "white",
            "linecolor": "white",
            "ticks": ""
           }
          },
          "title": {
           "x": 0.05
          },
          "xaxis": {
           "automargin": true,
           "gridcolor": "white",
           "linecolor": "white",
           "ticks": "",
           "title": {
            "standoff": 15
           },
           "zerolinecolor": "white",
           "zerolinewidth": 2
          },
          "yaxis": {
           "automargin": true,
           "gridcolor": "white",
           "linecolor": "white",
           "ticks": "",
           "title": {
            "standoff": 15
           },
           "zerolinecolor": "white",
           "zerolinewidth": 2
          }
         }
        }
       }
      }
     },
     "metadata": {},
     "output_type": "display_data"
    }
   ],
   "source": [
    "fig = px.scatter_3d(pca_output_df, x='PCA1', y='PCA2', z='PCA3', color=\"groups\")\n",
    "fig.show()"
   ]
  },
  {
   "cell_type": "markdown",
   "metadata": {},
   "source": [
    "g)"
   ]
  },
  {
   "cell_type": "code",
   "execution_count": 182,
   "metadata": {},
   "outputs": [],
   "source": [
    "transcriptomics_transf =pd.DataFrame(np.log2(1+transcriptomics.iloc[:,1:]))"
   ]
  },
  {
   "cell_type": "code",
   "execution_count": 183,
   "metadata": {},
   "outputs": [],
   "source": [
    "transcriptomics_transf.insert(0, 'Gene_ID', transcriptomics.iloc[:,0])"
   ]
  },
  {
   "cell_type": "code",
   "execution_count": 184,
   "metadata": {},
   "outputs": [
    {
     "data": {
      "text/html": [
       "<div>\n",
       "<style scoped>\n",
       "    .dataframe tbody tr th:only-of-type {\n",
       "        vertical-align: middle;\n",
       "    }\n",
       "\n",
       "    .dataframe tbody tr th {\n",
       "        vertical-align: top;\n",
       "    }\n",
       "\n",
       "    .dataframe thead th {\n",
       "        text-align: right;\n",
       "    }\n",
       "</style>\n",
       "<table border=\"1\" class=\"dataframe\">\n",
       "  <thead>\n",
       "    <tr style=\"text-align: right;\">\n",
       "      <th></th>\n",
       "      <th>Gene_ID</th>\n",
       "      <th>Sample_1_preadi</th>\n",
       "      <th>Sample_2_preadi</th>\n",
       "      <th>Sample_3_preadi</th>\n",
       "      <th>Sample_4_preadi</th>\n",
       "      <th>Sample_5_preadi</th>\n",
       "      <th>Sample_6_preadi</th>\n",
       "      <th>Sample_7_preadi</th>\n",
       "      <th>Sample_8_preadi</th>\n",
       "      <th>Sample_9_preadi</th>\n",
       "      <th>...</th>\n",
       "      <th>Sample_71_adipo</th>\n",
       "      <th>Sample_72_adipo</th>\n",
       "      <th>Sample_73_adipo</th>\n",
       "      <th>Sample_74_adipo</th>\n",
       "      <th>Sample_75_adipo</th>\n",
       "      <th>Sample_76_adipo</th>\n",
       "      <th>Sample_77_adipo</th>\n",
       "      <th>Sample_78_adipo</th>\n",
       "      <th>Sample_79_adipo</th>\n",
       "      <th>Sample_80_adipo</th>\n",
       "    </tr>\n",
       "  </thead>\n",
       "  <tbody>\n",
       "    <tr>\n",
       "      <th>0</th>\n",
       "      <td>ENSG00000000003</td>\n",
       "      <td>2.391748</td>\n",
       "      <td>2.232796</td>\n",
       "      <td>2.111675</td>\n",
       "      <td>2.430905</td>\n",
       "      <td>2.111675</td>\n",
       "      <td>2.265243</td>\n",
       "      <td>2.430905</td>\n",
       "      <td>2.060021</td>\n",
       "      <td>1.732021</td>\n",
       "      <td>...</td>\n",
       "      <td>2.111675</td>\n",
       "      <td>2.111675</td>\n",
       "      <td>2.573907</td>\n",
       "      <td>2.111675</td>\n",
       "      <td>2.481548</td>\n",
       "      <td>2.346946</td>\n",
       "      <td>1.584963</td>\n",
       "      <td>2.294809</td>\n",
       "      <td>2.196910</td>\n",
       "      <td>2.346946</td>\n",
       "    </tr>\n",
       "    <tr>\n",
       "      <th>1</th>\n",
       "      <td>ENSG00000000005</td>\n",
       "      <td>0.000000</td>\n",
       "      <td>0.000000</td>\n",
       "      <td>0.000000</td>\n",
       "      <td>1.370143</td>\n",
       "      <td>0.000000</td>\n",
       "      <td>0.000000</td>\n",
       "      <td>0.000000</td>\n",
       "      <td>0.000000</td>\n",
       "      <td>0.000000</td>\n",
       "      <td>...</td>\n",
       "      <td>0.000000</td>\n",
       "      <td>1.000000</td>\n",
       "      <td>2.562399</td>\n",
       "      <td>1.370143</td>\n",
       "      <td>2.465599</td>\n",
       "      <td>1.584963</td>\n",
       "      <td>0.000000</td>\n",
       "      <td>1.370143</td>\n",
       "      <td>0.000000</td>\n",
       "      <td>1.841958</td>\n",
       "    </tr>\n",
       "    <tr>\n",
       "      <th>2</th>\n",
       "      <td>ENSG00000000419</td>\n",
       "      <td>2.156860</td>\n",
       "      <td>2.111675</td>\n",
       "      <td>2.111675</td>\n",
       "      <td>2.060021</td>\n",
       "      <td>2.156860</td>\n",
       "      <td>2.156860</td>\n",
       "      <td>1.928789</td>\n",
       "      <td>2.625253</td>\n",
       "      <td>2.265243</td>\n",
       "      <td>...</td>\n",
       "      <td>1.584963</td>\n",
       "      <td>2.111675</td>\n",
       "      <td>2.111675</td>\n",
       "      <td>2.321928</td>\n",
       "      <td>2.060021</td>\n",
       "      <td>2.111675</td>\n",
       "      <td>2.111675</td>\n",
       "      <td>1.732021</td>\n",
       "      <td>2.346946</td>\n",
       "      <td>1.841958</td>\n",
       "    </tr>\n",
       "    <tr>\n",
       "      <th>3</th>\n",
       "      <td>ENSG00000000457</td>\n",
       "      <td>0.000000</td>\n",
       "      <td>2.196910</td>\n",
       "      <td>0.000000</td>\n",
       "      <td>1.928789</td>\n",
       "      <td>1.370143</td>\n",
       "      <td>2.232796</td>\n",
       "      <td>2.196910</td>\n",
       "      <td>1.000000</td>\n",
       "      <td>1.370143</td>\n",
       "      <td>...</td>\n",
       "      <td>2.111675</td>\n",
       "      <td>2.060021</td>\n",
       "      <td>2.060021</td>\n",
       "      <td>1.841958</td>\n",
       "      <td>1.928789</td>\n",
       "      <td>0.000000</td>\n",
       "      <td>2.232796</td>\n",
       "      <td>2.265243</td>\n",
       "      <td>1.732021</td>\n",
       "      <td>2.196910</td>\n",
       "    </tr>\n",
       "    <tr>\n",
       "      <th>4</th>\n",
       "      <td>ENSG00000000460</td>\n",
       "      <td>0.000000</td>\n",
       "      <td>0.000000</td>\n",
       "      <td>2.294809</td>\n",
       "      <td>1.732021</td>\n",
       "      <td>1.841958</td>\n",
       "      <td>0.000000</td>\n",
       "      <td>0.000000</td>\n",
       "      <td>1.928789</td>\n",
       "      <td>1.732021</td>\n",
       "      <td>...</td>\n",
       "      <td>0.000000</td>\n",
       "      <td>0.000000</td>\n",
       "      <td>1.584963</td>\n",
       "      <td>0.000000</td>\n",
       "      <td>1.000000</td>\n",
       "      <td>0.000000</td>\n",
       "      <td>1.000000</td>\n",
       "      <td>1.732021</td>\n",
       "      <td>0.000000</td>\n",
       "      <td>2.156860</td>\n",
       "    </tr>\n",
       "    <tr>\n",
       "      <th>...</th>\n",
       "      <td>...</td>\n",
       "      <td>...</td>\n",
       "      <td>...</td>\n",
       "      <td>...</td>\n",
       "      <td>...</td>\n",
       "      <td>...</td>\n",
       "      <td>...</td>\n",
       "      <td>...</td>\n",
       "      <td>...</td>\n",
       "      <td>...</td>\n",
       "      <td>...</td>\n",
       "      <td>...</td>\n",
       "      <td>...</td>\n",
       "      <td>...</td>\n",
       "      <td>...</td>\n",
       "      <td>...</td>\n",
       "      <td>...</td>\n",
       "      <td>...</td>\n",
       "      <td>...</td>\n",
       "      <td>...</td>\n",
       "      <td>...</td>\n",
       "    </tr>\n",
       "    <tr>\n",
       "      <th>63668</th>\n",
       "      <td>ENSG00000273485</td>\n",
       "      <td>0.000000</td>\n",
       "      <td>0.000000</td>\n",
       "      <td>0.000000</td>\n",
       "      <td>1.000000</td>\n",
       "      <td>0.000000</td>\n",
       "      <td>1.841958</td>\n",
       "      <td>0.000000</td>\n",
       "      <td>0.000000</td>\n",
       "      <td>0.000000</td>\n",
       "      <td>...</td>\n",
       "      <td>0.000000</td>\n",
       "      <td>0.000000</td>\n",
       "      <td>0.000000</td>\n",
       "      <td>0.000000</td>\n",
       "      <td>0.000000</td>\n",
       "      <td>2.232796</td>\n",
       "      <td>0.000000</td>\n",
       "      <td>0.000000</td>\n",
       "      <td>0.000000</td>\n",
       "      <td>0.000000</td>\n",
       "    </tr>\n",
       "    <tr>\n",
       "      <th>63669</th>\n",
       "      <td>ENSG00000273486</td>\n",
       "      <td>0.000000</td>\n",
       "      <td>0.000000</td>\n",
       "      <td>0.000000</td>\n",
       "      <td>0.000000</td>\n",
       "      <td>1.000000</td>\n",
       "      <td>0.000000</td>\n",
       "      <td>0.000000</td>\n",
       "      <td>0.000000</td>\n",
       "      <td>0.000000</td>\n",
       "      <td>...</td>\n",
       "      <td>0.000000</td>\n",
       "      <td>1.370143</td>\n",
       "      <td>0.000000</td>\n",
       "      <td>1.584963</td>\n",
       "      <td>0.000000</td>\n",
       "      <td>1.370143</td>\n",
       "      <td>1.841958</td>\n",
       "      <td>1.000000</td>\n",
       "      <td>0.000000</td>\n",
       "      <td>0.000000</td>\n",
       "    </tr>\n",
       "    <tr>\n",
       "      <th>63670</th>\n",
       "      <td>ENSG00000273487</td>\n",
       "      <td>0.000000</td>\n",
       "      <td>0.000000</td>\n",
       "      <td>0.000000</td>\n",
       "      <td>0.000000</td>\n",
       "      <td>0.000000</td>\n",
       "      <td>0.000000</td>\n",
       "      <td>0.000000</td>\n",
       "      <td>0.000000</td>\n",
       "      <td>0.000000</td>\n",
       "      <td>...</td>\n",
       "      <td>0.000000</td>\n",
       "      <td>0.000000</td>\n",
       "      <td>0.000000</td>\n",
       "      <td>0.000000</td>\n",
       "      <td>0.000000</td>\n",
       "      <td>0.000000</td>\n",
       "      <td>0.000000</td>\n",
       "      <td>0.000000</td>\n",
       "      <td>0.000000</td>\n",
       "      <td>0.000000</td>\n",
       "    </tr>\n",
       "    <tr>\n",
       "      <th>63672</th>\n",
       "      <td>ENSG00000273489</td>\n",
       "      <td>0.000000</td>\n",
       "      <td>0.000000</td>\n",
       "      <td>0.000000</td>\n",
       "      <td>1.370143</td>\n",
       "      <td>0.000000</td>\n",
       "      <td>1.000000</td>\n",
       "      <td>2.060021</td>\n",
       "      <td>0.000000</td>\n",
       "      <td>0.000000</td>\n",
       "      <td>...</td>\n",
       "      <td>0.000000</td>\n",
       "      <td>0.000000</td>\n",
       "      <td>0.000000</td>\n",
       "      <td>0.000000</td>\n",
       "      <td>0.000000</td>\n",
       "      <td>0.000000</td>\n",
       "      <td>0.000000</td>\n",
       "      <td>0.000000</td>\n",
       "      <td>0.000000</td>\n",
       "      <td>0.000000</td>\n",
       "    </tr>\n",
       "    <tr>\n",
       "      <th>63676</th>\n",
       "      <td>ENSG00000273493</td>\n",
       "      <td>0.000000</td>\n",
       "      <td>0.000000</td>\n",
       "      <td>0.000000</td>\n",
       "      <td>0.000000</td>\n",
       "      <td>0.000000</td>\n",
       "      <td>0.000000</td>\n",
       "      <td>0.000000</td>\n",
       "      <td>0.000000</td>\n",
       "      <td>1.000000</td>\n",
       "      <td>...</td>\n",
       "      <td>0.000000</td>\n",
       "      <td>0.000000</td>\n",
       "      <td>0.000000</td>\n",
       "      <td>0.000000</td>\n",
       "      <td>0.000000</td>\n",
       "      <td>0.000000</td>\n",
       "      <td>0.000000</td>\n",
       "      <td>0.000000</td>\n",
       "      <td>1.584963</td>\n",
       "      <td>0.000000</td>\n",
       "    </tr>\n",
       "  </tbody>\n",
       "</table>\n",
       "<p>30238 rows × 81 columns</p>\n",
       "</div>"
      ],
      "text/plain": [
       "               Gene_ID  Sample_1_preadi  Sample_2_preadi  Sample_3_preadi  \\\n",
       "0      ENSG00000000003         2.391748         2.232796         2.111675   \n",
       "1      ENSG00000000005         0.000000         0.000000         0.000000   \n",
       "2      ENSG00000000419         2.156860         2.111675         2.111675   \n",
       "3      ENSG00000000457         0.000000         2.196910         0.000000   \n",
       "4      ENSG00000000460         0.000000         0.000000         2.294809   \n",
       "...                ...              ...              ...              ...   \n",
       "63668  ENSG00000273485         0.000000         0.000000         0.000000   \n",
       "63669  ENSG00000273486         0.000000         0.000000         0.000000   \n",
       "63670  ENSG00000273487         0.000000         0.000000         0.000000   \n",
       "63672  ENSG00000273489         0.000000         0.000000         0.000000   \n",
       "63676  ENSG00000273493         0.000000         0.000000         0.000000   \n",
       "\n",
       "       Sample_4_preadi  Sample_5_preadi  Sample_6_preadi  Sample_7_preadi  \\\n",
       "0             2.430905         2.111675         2.265243         2.430905   \n",
       "1             1.370143         0.000000         0.000000         0.000000   \n",
       "2             2.060021         2.156860         2.156860         1.928789   \n",
       "3             1.928789         1.370143         2.232796         2.196910   \n",
       "4             1.732021         1.841958         0.000000         0.000000   \n",
       "...                ...              ...              ...              ...   \n",
       "63668         1.000000         0.000000         1.841958         0.000000   \n",
       "63669         0.000000         1.000000         0.000000         0.000000   \n",
       "63670         0.000000         0.000000         0.000000         0.000000   \n",
       "63672         1.370143         0.000000         1.000000         2.060021   \n",
       "63676         0.000000         0.000000         0.000000         0.000000   \n",
       "\n",
       "       Sample_8_preadi  Sample_9_preadi  ...  Sample_71_adipo  \\\n",
       "0             2.060021         1.732021  ...         2.111675   \n",
       "1             0.000000         0.000000  ...         0.000000   \n",
       "2             2.625253         2.265243  ...         1.584963   \n",
       "3             1.000000         1.370143  ...         2.111675   \n",
       "4             1.928789         1.732021  ...         0.000000   \n",
       "...                ...              ...  ...              ...   \n",
       "63668         0.000000         0.000000  ...         0.000000   \n",
       "63669         0.000000         0.000000  ...         0.000000   \n",
       "63670         0.000000         0.000000  ...         0.000000   \n",
       "63672         0.000000         0.000000  ...         0.000000   \n",
       "63676         0.000000         1.000000  ...         0.000000   \n",
       "\n",
       "       Sample_72_adipo  Sample_73_adipo  Sample_74_adipo  Sample_75_adipo  \\\n",
       "0             2.111675         2.573907         2.111675         2.481548   \n",
       "1             1.000000         2.562399         1.370143         2.465599   \n",
       "2             2.111675         2.111675         2.321928         2.060021   \n",
       "3             2.060021         2.060021         1.841958         1.928789   \n",
       "4             0.000000         1.584963         0.000000         1.000000   \n",
       "...                ...              ...              ...              ...   \n",
       "63668         0.000000         0.000000         0.000000         0.000000   \n",
       "63669         1.370143         0.000000         1.584963         0.000000   \n",
       "63670         0.000000         0.000000         0.000000         0.000000   \n",
       "63672         0.000000         0.000000         0.000000         0.000000   \n",
       "63676         0.000000         0.000000         0.000000         0.000000   \n",
       "\n",
       "       Sample_76_adipo  Sample_77_adipo  Sample_78_adipo  Sample_79_adipo  \\\n",
       "0             2.346946         1.584963         2.294809         2.196910   \n",
       "1             1.584963         0.000000         1.370143         0.000000   \n",
       "2             2.111675         2.111675         1.732021         2.346946   \n",
       "3             0.000000         2.232796         2.265243         1.732021   \n",
       "4             0.000000         1.000000         1.732021         0.000000   \n",
       "...                ...              ...              ...              ...   \n",
       "63668         2.232796         0.000000         0.000000         0.000000   \n",
       "63669         1.370143         1.841958         1.000000         0.000000   \n",
       "63670         0.000000         0.000000         0.000000         0.000000   \n",
       "63672         0.000000         0.000000         0.000000         0.000000   \n",
       "63676         0.000000         0.000000         0.000000         1.584963   \n",
       "\n",
       "       Sample_80_adipo  \n",
       "0             2.346946  \n",
       "1             1.841958  \n",
       "2             1.841958  \n",
       "3             2.196910  \n",
       "4             2.156860  \n",
       "...                ...  \n",
       "63668         0.000000  \n",
       "63669         0.000000  \n",
       "63670         0.000000  \n",
       "63672         0.000000  \n",
       "63676         0.000000  \n",
       "\n",
       "[30238 rows x 81 columns]"
      ]
     },
     "execution_count": 184,
     "metadata": {},
     "output_type": "execute_result"
    }
   ],
   "source": [
    "transcriptomics_transf"
   ]
  },
  {
   "cell_type": "markdown",
   "metadata": {},
   "source": [
    "h)"
   ]
  },
  {
   "cell_type": "code",
   "execution_count": 186,
   "metadata": {},
   "outputs": [
    {
     "data": {
      "text/html": [
       "<div>\n",
       "<style scoped>\n",
       "    .dataframe tbody tr th:only-of-type {\n",
       "        vertical-align: middle;\n",
       "    }\n",
       "\n",
       "    .dataframe tbody tr th {\n",
       "        vertical-align: top;\n",
       "    }\n",
       "\n",
       "    .dataframe thead th {\n",
       "        text-align: right;\n",
       "    }\n",
       "</style>\n",
       "<table border=\"1\" class=\"dataframe\">\n",
       "  <thead>\n",
       "    <tr style=\"text-align: right;\">\n",
       "      <th></th>\n",
       "      <th>PCA1</th>\n",
       "      <th>PCA2</th>\n",
       "      <th>PCA3</th>\n",
       "      <th>groups</th>\n",
       "    </tr>\n",
       "  </thead>\n",
       "  <tbody>\n",
       "    <tr>\n",
       "      <th>0</th>\n",
       "      <td>-17.749151</td>\n",
       "      <td>34.266155</td>\n",
       "      <td>5.525127</td>\n",
       "      <td>PreAdipo</td>\n",
       "    </tr>\n",
       "    <tr>\n",
       "      <th>1</th>\n",
       "      <td>-22.552365</td>\n",
       "      <td>-7.312693</td>\n",
       "      <td>-8.227869</td>\n",
       "      <td>PreAdipo</td>\n",
       "    </tr>\n",
       "    <tr>\n",
       "      <th>2</th>\n",
       "      <td>-30.524236</td>\n",
       "      <td>-12.760759</td>\n",
       "      <td>19.221244</td>\n",
       "      <td>PreAdipo</td>\n",
       "    </tr>\n",
       "    <tr>\n",
       "      <th>3</th>\n",
       "      <td>-27.212543</td>\n",
       "      <td>-33.857525</td>\n",
       "      <td>-2.473150</td>\n",
       "      <td>PreAdipo</td>\n",
       "    </tr>\n",
       "    <tr>\n",
       "      <th>4</th>\n",
       "      <td>-23.255734</td>\n",
       "      <td>-21.349430</td>\n",
       "      <td>7.548643</td>\n",
       "      <td>PreAdipo</td>\n",
       "    </tr>\n",
       "    <tr>\n",
       "      <th>...</th>\n",
       "      <td>...</td>\n",
       "      <td>...</td>\n",
       "      <td>...</td>\n",
       "      <td>...</td>\n",
       "    </tr>\n",
       "    <tr>\n",
       "      <th>75</th>\n",
       "      <td>25.144706</td>\n",
       "      <td>-3.893504</td>\n",
       "      <td>-23.611646</td>\n",
       "      <td>Adipo</td>\n",
       "    </tr>\n",
       "    <tr>\n",
       "      <th>76</th>\n",
       "      <td>30.471017</td>\n",
       "      <td>1.282004</td>\n",
       "      <td>18.543312</td>\n",
       "      <td>Adipo</td>\n",
       "    </tr>\n",
       "    <tr>\n",
       "      <th>77</th>\n",
       "      <td>24.813377</td>\n",
       "      <td>-25.893169</td>\n",
       "      <td>3.915634</td>\n",
       "      <td>Adipo</td>\n",
       "    </tr>\n",
       "    <tr>\n",
       "      <th>78</th>\n",
       "      <td>14.799681</td>\n",
       "      <td>-11.648532</td>\n",
       "      <td>-19.435448</td>\n",
       "      <td>Adipo</td>\n",
       "    </tr>\n",
       "    <tr>\n",
       "      <th>79</th>\n",
       "      <td>12.543372</td>\n",
       "      <td>-16.883196</td>\n",
       "      <td>-10.486673</td>\n",
       "      <td>Adipo</td>\n",
       "    </tr>\n",
       "  </tbody>\n",
       "</table>\n",
       "<p>80 rows × 4 columns</p>\n",
       "</div>"
      ],
      "text/plain": [
       "         PCA1       PCA2       PCA3    groups\n",
       "0  -17.749151  34.266155   5.525127  PreAdipo\n",
       "1  -22.552365  -7.312693  -8.227869  PreAdipo\n",
       "2  -30.524236 -12.760759  19.221244  PreAdipo\n",
       "3  -27.212543 -33.857525  -2.473150  PreAdipo\n",
       "4  -23.255734 -21.349430   7.548643  PreAdipo\n",
       "..        ...        ...        ...       ...\n",
       "75  25.144706  -3.893504 -23.611646     Adipo\n",
       "76  30.471017   1.282004  18.543312     Adipo\n",
       "77  24.813377 -25.893169   3.915634     Adipo\n",
       "78  14.799681 -11.648532 -19.435448     Adipo\n",
       "79  12.543372 -16.883196 -10.486673     Adipo\n",
       "\n",
       "[80 rows x 4 columns]"
      ]
     },
     "execution_count": 186,
     "metadata": {},
     "output_type": "execute_result"
    }
   ],
   "source": [
    "X = transcriptomics_transf.iloc[:,1:].T.to_numpy(dtype=float)\n",
    "pca = PCA(n_components=3)\n",
    "pca_output_log = pca.fit_transform(X)\n",
    "pca_output_log_df = pd.DataFrame(pca_output, columns=['PCA1', 'PCA2', 'PCA3'])\n",
    "pca_output_log_df[\"groups\"] =dict_sample.values()\n",
    "pca_output_log_df"
   ]
  },
  {
   "cell_type": "code",
   "execution_count": 187,
   "metadata": {},
   "outputs": [
    {
     "data": {
      "application/vnd.plotly.v1+json": {
       "config": {
        "plotlyServerURL": "https://plot.ly"
       },
       "data": [
        {
         "hovertemplate": "groups=PreAdipo<br>PCA1=%{x}<br>PCA2=%{y}<br>PCA3=%{z}<extra></extra>",
         "legendgroup": "PreAdipo",
         "marker": {
          "color": "#636efa",
          "symbol": "circle"
         },
         "mode": "markers",
         "name": "PreAdipo",
         "scene": "scene",
         "showlegend": true,
         "type": "scatter3d",
         "x": [
          -17.749150981580993,
          -22.552364868988946,
          -30.52423633243181,
          -27.212542564773546,
          -23.25573425736991,
          -22.87535100720452,
          -15.912950490862096,
          -28.865028501423478,
          -26.5070591394274,
          -12.37386421301479,
          -17.36985993501999,
          -25.221452224405567,
          -15.24042830661701,
          -25.50166266702713,
          -32.603138974589896,
          -27.252050251015323,
          -19.997745960276138,
          -12.473005933219065,
          -25.63011661357601,
          -30.085153268416107,
          -18.348013577704183,
          -26.014697833455354,
          -30.632361707416266,
          -21.086293386364762,
          -21.910210630485903,
          -26.05622215295267,
          -30.777103375159687,
          -14.214064067906447,
          -25.24292372916358,
          -12.383968828537526,
          -16.898904183782857,
          -11.117035046905478,
          -19.43587235996604,
          -31.303706225386925,
          -15.282663662027767,
          -16.419664728249888,
          -22.206675327051467,
          -22.101129059045967,
          -26.789185553505668,
          -24.42446759902513
         ],
         "y": [
          34.2661553777074,
          -7.3126930143983095,
          -12.76075890372247,
          -33.85752487033745,
          -21.349429880776434,
          -8.330016124645889,
          19.673678892879696,
          8.427475256414574,
          -17.11690551154338,
          41.82264336337344,
          13.465599202101178,
          -0.45216446391466275,
          28.694209527822206,
          -8.126755633813724,
          -13.721182285314805,
          -10.656068604688366,
          30.762856030199984,
          44.481927715300856,
          -18.134492249133643,
          -11.885140047193358,
          31.134019314585604,
          1.0909603882210548,
          -23.047496685270666,
          25.057993103316093,
          -7.764446745183848,
          -22.521676995671122,
          -29.149831477527176,
          24.688261340680015,
          16.616478513328538,
          29.343610046760112,
          5.0208788877885056,
          2.9228856173490456,
          -16.14597086332647,
          6.244841002313011,
          22.175025631510813,
          22.09571187128238,
          -18.572104326297346,
          1.446476427967676,
          -15.030110409850133,
          2.2507832223644333
         ],
         "z": [
          5.525126694954911,
          -8.227868596501974,
          19.221244218056963,
          -2.4731501183483733,
          7.548642950458998,
          2.0242391619797466,
          -13.946429521676508,
          21.38882879552728,
          4.794356376470822,
          -13.113934057769537,
          7.424100466546131,
          19.58924095038209,
          -13.736430690199438,
          14.404948450170833,
          16.70670541965869,
          9.471327675339982,
          -3.963437504719598,
          -8.7839895766852,
          -2.7163303890490864,
          10.334192297793262,
          -2.0786028871003333,
          13.063889704712587,
          12.551127918385022,
          -4.900759784487792,
          -19.5003898688663,
          -8.726095754501834,
          10.886506487168253,
          -12.49155705851046,
          2.0707793907874574,
          -7.831827465488067,
          -14.750474172441184,
          -9.84592335393256,
          -9.573046298228736,
          20.932224355720432,
          -22.862323794972127,
          -5.92793887468889,
          2.4347377795388265,
          -11.80621823254373,
          7.7851444013568925,
          -12.68655157083921
         ]
        },
        {
         "hovertemplate": "groups=Adipo<br>PCA1=%{x}<br>PCA2=%{y}<br>PCA3=%{z}<extra></extra>",
         "legendgroup": "Adipo",
         "marker": {
          "color": "#EF553B",
          "symbol": "circle"
         },
         "mode": "markers",
         "name": "Adipo",
         "scene": "scene",
         "showlegend": true,
         "type": "scatter3d",
         "x": [
          26.072157495191174,
          28.251570840736814,
          24.815809356784964,
          23.751598812851118,
          22.422964495099762,
          19.16188126781555,
          22.921821467896166,
          24.85982174151895,
          29.038847608670764,
          26.06994696812145,
          12.889411325854738,
          20.540723481660876,
          19.02986528352334,
          26.54014820096954,
          31.54474637864703,
          28.72758251585491,
          11.380251659078745,
          32.96270882193989,
          24.932142148720803,
          15.458942876847335,
          15.277081278669167,
          13.519123059230857,
          10.558777915781812,
          15.202449470046558,
          28.013249837162725,
          14.659784072440829,
          33.163269027534575,
          21.58756204381928,
          15.554391905377429,
          28.800833672852583,
          14.267003487669497,
          15.955135205329283,
          30.87673246386304,
          24.84457692302671,
          30.422993602101943,
          25.144705844880107,
          30.471016990457827,
          24.813377203115813,
          14.799681245547525,
          12.543371528641705
         ],
         "y": [
          -17.84792845591675,
          6.5720371713353165,
          34.34125462212529,
          22.84501657841698,
          20.503453036561158,
          28.190786926829357,
          -10.75803638359511,
          -17.198218140152793,
          -16.49404875295814,
          -22.727914058596536,
          -21.06337394839379,
          2.9637078477826946,
          14.619699816419251,
          -5.257599871641942,
          32.79527360089373,
          -4.191012934589982,
          -26.748088715585627,
          7.102605922833785,
          5.702099762924519,
          -7.596842047403943,
          -16.085305948395927,
          4.791205519784382,
          -4.576329892030861,
          -28.225592572159652,
          -27.708141322689155,
          -7.223568891962709,
          15.702681366624482,
          -14.41569798569591,
          -12.870499960765237,
          8.193779327941936,
          -3.1031777250757493,
          -11.398808540952183,
          16.758061236458566,
          -10.101712659936647,
          5.798933041873164,
          -3.893504275342124,
          1.282003844114055,
          -25.893169466232482,
          -11.648532276063534,
          -16.883196437440557
         ],
         "z": [
          -8.50706682536893,
          26.26084779075816,
          34.50471272443196,
          -12.825275616797068,
          3.500712322773037,
          4.6227442653062845,
          5.6610202038536475,
          5.751339728564416,
          12.920277410809645,
          -6.438693730018409,
          -1.5419131357998561,
          -8.647900975772325,
          -18.360960406125994,
          2.9296194300348843,
          33.62191468777723,
          12.345626924724712,
          -23.49747738588323,
          -4.104496225402872,
          -6.991451429854705,
          -7.011849882210282,
          -9.661793933865518,
          -12.616994873877886,
          -12.798170212173185,
          -4.229408641455109,
          -3.195288887202825,
          -6.611007372581854,
          5.401035090374323,
          0.8550396711249506,
          4.856053556305543,
          8.002823822114802,
          2.8068411114433847,
          -7.658877451585928,
          10.009064676949908,
          3.4846610829343576,
          10.025029540198267,
          -23.611645884990708,
          18.543312473909015,
          3.915634026829281,
          -19.435448449700765,
          -10.486673144008952
         ]
        }
       ],
       "layout": {
        "legend": {
         "title": {
          "text": "groups"
         },
         "tracegroupgap": 0
        },
        "margin": {
         "t": 60
        },
        "scene": {
         "domain": {
          "x": [
           0,
           1
          ],
          "y": [
           0,
           1
          ]
         },
         "xaxis": {
          "title": {
           "text": "PCA1"
          }
         },
         "yaxis": {
          "title": {
           "text": "PCA2"
          }
         },
         "zaxis": {
          "title": {
           "text": "PCA3"
          }
         }
        },
        "template": {
         "data": {
          "bar": [
           {
            "error_x": {
             "color": "#2a3f5f"
            },
            "error_y": {
             "color": "#2a3f5f"
            },
            "marker": {
             "line": {
              "color": "#E5ECF6",
              "width": 0.5
             },
             "pattern": {
              "fillmode": "overlay",
              "size": 10,
              "solidity": 0.2
             }
            },
            "type": "bar"
           }
          ],
          "barpolar": [
           {
            "marker": {
             "line": {
              "color": "#E5ECF6",
              "width": 0.5
             },
             "pattern": {
              "fillmode": "overlay",
              "size": 10,
              "solidity": 0.2
             }
            },
            "type": "barpolar"
           }
          ],
          "carpet": [
           {
            "aaxis": {
             "endlinecolor": "#2a3f5f",
             "gridcolor": "white",
             "linecolor": "white",
             "minorgridcolor": "white",
             "startlinecolor": "#2a3f5f"
            },
            "baxis": {
             "endlinecolor": "#2a3f5f",
             "gridcolor": "white",
             "linecolor": "white",
             "minorgridcolor": "white",
             "startlinecolor": "#2a3f5f"
            },
            "type": "carpet"
           }
          ],
          "choropleth": [
           {
            "colorbar": {
             "outlinewidth": 0,
             "ticks": ""
            },
            "type": "choropleth"
           }
          ],
          "contour": [
           {
            "colorbar": {
             "outlinewidth": 0,
             "ticks": ""
            },
            "colorscale": [
             [
              0,
              "#0d0887"
             ],
             [
              0.1111111111111111,
              "#46039f"
             ],
             [
              0.2222222222222222,
              "#7201a8"
             ],
             [
              0.3333333333333333,
              "#9c179e"
             ],
             [
              0.4444444444444444,
              "#bd3786"
             ],
             [
              0.5555555555555556,
              "#d8576b"
             ],
             [
              0.6666666666666666,
              "#ed7953"
             ],
             [
              0.7777777777777778,
              "#fb9f3a"
             ],
             [
              0.8888888888888888,
              "#fdca26"
             ],
             [
              1,
              "#f0f921"
             ]
            ],
            "type": "contour"
           }
          ],
          "contourcarpet": [
           {
            "colorbar": {
             "outlinewidth": 0,
             "ticks": ""
            },
            "type": "contourcarpet"
           }
          ],
          "heatmap": [
           {
            "colorbar": {
             "outlinewidth": 0,
             "ticks": ""
            },
            "colorscale": [
             [
              0,
              "#0d0887"
             ],
             [
              0.1111111111111111,
              "#46039f"
             ],
             [
              0.2222222222222222,
              "#7201a8"
             ],
             [
              0.3333333333333333,
              "#9c179e"
             ],
             [
              0.4444444444444444,
              "#bd3786"
             ],
             [
              0.5555555555555556,
              "#d8576b"
             ],
             [
              0.6666666666666666,
              "#ed7953"
             ],
             [
              0.7777777777777778,
              "#fb9f3a"
             ],
             [
              0.8888888888888888,
              "#fdca26"
             ],
             [
              1,
              "#f0f921"
             ]
            ],
            "type": "heatmap"
           }
          ],
          "heatmapgl": [
           {
            "colorbar": {
             "outlinewidth": 0,
             "ticks": ""
            },
            "colorscale": [
             [
              0,
              "#0d0887"
             ],
             [
              0.1111111111111111,
              "#46039f"
             ],
             [
              0.2222222222222222,
              "#7201a8"
             ],
             [
              0.3333333333333333,
              "#9c179e"
             ],
             [
              0.4444444444444444,
              "#bd3786"
             ],
             [
              0.5555555555555556,
              "#d8576b"
             ],
             [
              0.6666666666666666,
              "#ed7953"
             ],
             [
              0.7777777777777778,
              "#fb9f3a"
             ],
             [
              0.8888888888888888,
              "#fdca26"
             ],
             [
              1,
              "#f0f921"
             ]
            ],
            "type": "heatmapgl"
           }
          ],
          "histogram": [
           {
            "marker": {
             "pattern": {
              "fillmode": "overlay",
              "size": 10,
              "solidity": 0.2
             }
            },
            "type": "histogram"
           }
          ],
          "histogram2d": [
           {
            "colorbar": {
             "outlinewidth": 0,
             "ticks": ""
            },
            "colorscale": [
             [
              0,
              "#0d0887"
             ],
             [
              0.1111111111111111,
              "#46039f"
             ],
             [
              0.2222222222222222,
              "#7201a8"
             ],
             [
              0.3333333333333333,
              "#9c179e"
             ],
             [
              0.4444444444444444,
              "#bd3786"
             ],
             [
              0.5555555555555556,
              "#d8576b"
             ],
             [
              0.6666666666666666,
              "#ed7953"
             ],
             [
              0.7777777777777778,
              "#fb9f3a"
             ],
             [
              0.8888888888888888,
              "#fdca26"
             ],
             [
              1,
              "#f0f921"
             ]
            ],
            "type": "histogram2d"
           }
          ],
          "histogram2dcontour": [
           {
            "colorbar": {
             "outlinewidth": 0,
             "ticks": ""
            },
            "colorscale": [
             [
              0,
              "#0d0887"
             ],
             [
              0.1111111111111111,
              "#46039f"
             ],
             [
              0.2222222222222222,
              "#7201a8"
             ],
             [
              0.3333333333333333,
              "#9c179e"
             ],
             [
              0.4444444444444444,
              "#bd3786"
             ],
             [
              0.5555555555555556,
              "#d8576b"
             ],
             [
              0.6666666666666666,
              "#ed7953"
             ],
             [
              0.7777777777777778,
              "#fb9f3a"
             ],
             [
              0.8888888888888888,
              "#fdca26"
             ],
             [
              1,
              "#f0f921"
             ]
            ],
            "type": "histogram2dcontour"
           }
          ],
          "mesh3d": [
           {
            "colorbar": {
             "outlinewidth": 0,
             "ticks": ""
            },
            "type": "mesh3d"
           }
          ],
          "parcoords": [
           {
            "line": {
             "colorbar": {
              "outlinewidth": 0,
              "ticks": ""
             }
            },
            "type": "parcoords"
           }
          ],
          "pie": [
           {
            "automargin": true,
            "type": "pie"
           }
          ],
          "scatter": [
           {
            "fillpattern": {
             "fillmode": "overlay",
             "size": 10,
             "solidity": 0.2
            },
            "type": "scatter"
           }
          ],
          "scatter3d": [
           {
            "line": {
             "colorbar": {
              "outlinewidth": 0,
              "ticks": ""
             }
            },
            "marker": {
             "colorbar": {
              "outlinewidth": 0,
              "ticks": ""
             }
            },
            "type": "scatter3d"
           }
          ],
          "scattercarpet": [
           {
            "marker": {
             "colorbar": {
              "outlinewidth": 0,
              "ticks": ""
             }
            },
            "type": "scattercarpet"
           }
          ],
          "scattergeo": [
           {
            "marker": {
             "colorbar": {
              "outlinewidth": 0,
              "ticks": ""
             }
            },
            "type": "scattergeo"
           }
          ],
          "scattergl": [
           {
            "marker": {
             "colorbar": {
              "outlinewidth": 0,
              "ticks": ""
             }
            },
            "type": "scattergl"
           }
          ],
          "scattermapbox": [
           {
            "marker": {
             "colorbar": {
              "outlinewidth": 0,
              "ticks": ""
             }
            },
            "type": "scattermapbox"
           }
          ],
          "scatterpolar": [
           {
            "marker": {
             "colorbar": {
              "outlinewidth": 0,
              "ticks": ""
             }
            },
            "type": "scatterpolar"
           }
          ],
          "scatterpolargl": [
           {
            "marker": {
             "colorbar": {
              "outlinewidth": 0,
              "ticks": ""
             }
            },
            "type": "scatterpolargl"
           }
          ],
          "scatterternary": [
           {
            "marker": {
             "colorbar": {
              "outlinewidth": 0,
              "ticks": ""
             }
            },
            "type": "scatterternary"
           }
          ],
          "surface": [
           {
            "colorbar": {
             "outlinewidth": 0,
             "ticks": ""
            },
            "colorscale": [
             [
              0,
              "#0d0887"
             ],
             [
              0.1111111111111111,
              "#46039f"
             ],
             [
              0.2222222222222222,
              "#7201a8"
             ],
             [
              0.3333333333333333,
              "#9c179e"
             ],
             [
              0.4444444444444444,
              "#bd3786"
             ],
             [
              0.5555555555555556,
              "#d8576b"
             ],
             [
              0.6666666666666666,
              "#ed7953"
             ],
             [
              0.7777777777777778,
              "#fb9f3a"
             ],
             [
              0.8888888888888888,
              "#fdca26"
             ],
             [
              1,
              "#f0f921"
             ]
            ],
            "type": "surface"
           }
          ],
          "table": [
           {
            "cells": {
             "fill": {
              "color": "#EBF0F8"
             },
             "line": {
              "color": "white"
             }
            },
            "header": {
             "fill": {
              "color": "#C8D4E3"
             },
             "line": {
              "color": "white"
             }
            },
            "type": "table"
           }
          ]
         },
         "layout": {
          "annotationdefaults": {
           "arrowcolor": "#2a3f5f",
           "arrowhead": 0,
           "arrowwidth": 1
          },
          "autotypenumbers": "strict",
          "coloraxis": {
           "colorbar": {
            "outlinewidth": 0,
            "ticks": ""
           }
          },
          "colorscale": {
           "diverging": [
            [
             0,
             "#8e0152"
            ],
            [
             0.1,
             "#c51b7d"
            ],
            [
             0.2,
             "#de77ae"
            ],
            [
             0.3,
             "#f1b6da"
            ],
            [
             0.4,
             "#fde0ef"
            ],
            [
             0.5,
             "#f7f7f7"
            ],
            [
             0.6,
             "#e6f5d0"
            ],
            [
             0.7,
             "#b8e186"
            ],
            [
             0.8,
             "#7fbc41"
            ],
            [
             0.9,
             "#4d9221"
            ],
            [
             1,
             "#276419"
            ]
           ],
           "sequential": [
            [
             0,
             "#0d0887"
            ],
            [
             0.1111111111111111,
             "#46039f"
            ],
            [
             0.2222222222222222,
             "#7201a8"
            ],
            [
             0.3333333333333333,
             "#9c179e"
            ],
            [
             0.4444444444444444,
             "#bd3786"
            ],
            [
             0.5555555555555556,
             "#d8576b"
            ],
            [
             0.6666666666666666,
             "#ed7953"
            ],
            [
             0.7777777777777778,
             "#fb9f3a"
            ],
            [
             0.8888888888888888,
             "#fdca26"
            ],
            [
             1,
             "#f0f921"
            ]
           ],
           "sequentialminus": [
            [
             0,
             "#0d0887"
            ],
            [
             0.1111111111111111,
             "#46039f"
            ],
            [
             0.2222222222222222,
             "#7201a8"
            ],
            [
             0.3333333333333333,
             "#9c179e"
            ],
            [
             0.4444444444444444,
             "#bd3786"
            ],
            [
             0.5555555555555556,
             "#d8576b"
            ],
            [
             0.6666666666666666,
             "#ed7953"
            ],
            [
             0.7777777777777778,
             "#fb9f3a"
            ],
            [
             0.8888888888888888,
             "#fdca26"
            ],
            [
             1,
             "#f0f921"
            ]
           ]
          },
          "colorway": [
           "#636efa",
           "#EF553B",
           "#00cc96",
           "#ab63fa",
           "#FFA15A",
           "#19d3f3",
           "#FF6692",
           "#B6E880",
           "#FF97FF",
           "#FECB52"
          ],
          "font": {
           "color": "#2a3f5f"
          },
          "geo": {
           "bgcolor": "white",
           "lakecolor": "white",
           "landcolor": "#E5ECF6",
           "showlakes": true,
           "showland": true,
           "subunitcolor": "white"
          },
          "hoverlabel": {
           "align": "left"
          },
          "hovermode": "closest",
          "mapbox": {
           "style": "light"
          },
          "paper_bgcolor": "white",
          "plot_bgcolor": "#E5ECF6",
          "polar": {
           "angularaxis": {
            "gridcolor": "white",
            "linecolor": "white",
            "ticks": ""
           },
           "bgcolor": "#E5ECF6",
           "radialaxis": {
            "gridcolor": "white",
            "linecolor": "white",
            "ticks": ""
           }
          },
          "scene": {
           "xaxis": {
            "backgroundcolor": "#E5ECF6",
            "gridcolor": "white",
            "gridwidth": 2,
            "linecolor": "white",
            "showbackground": true,
            "ticks": "",
            "zerolinecolor": "white"
           },
           "yaxis": {
            "backgroundcolor": "#E5ECF6",
            "gridcolor": "white",
            "gridwidth": 2,
            "linecolor": "white",
            "showbackground": true,
            "ticks": "",
            "zerolinecolor": "white"
           },
           "zaxis": {
            "backgroundcolor": "#E5ECF6",
            "gridcolor": "white",
            "gridwidth": 2,
            "linecolor": "white",
            "showbackground": true,
            "ticks": "",
            "zerolinecolor": "white"
           }
          },
          "shapedefaults": {
           "line": {
            "color": "#2a3f5f"
           }
          },
          "ternary": {
           "aaxis": {
            "gridcolor": "white",
            "linecolor": "white",
            "ticks": ""
           },
           "baxis": {
            "gridcolor": "white",
            "linecolor": "white",
            "ticks": ""
           },
           "bgcolor": "#E5ECF6",
           "caxis": {
            "gridcolor": "white",
            "linecolor": "white",
            "ticks": ""
           }
          },
          "title": {
           "x": 0.05
          },
          "xaxis": {
           "automargin": true,
           "gridcolor": "white",
           "linecolor": "white",
           "ticks": "",
           "title": {
            "standoff": 15
           },
           "zerolinecolor": "white",
           "zerolinewidth": 2
          },
          "yaxis": {
           "automargin": true,
           "gridcolor": "white",
           "linecolor": "white",
           "ticks": "",
           "title": {
            "standoff": 15
           },
           "zerolinecolor": "white",
           "zerolinewidth": 2
          }
         }
        }
       }
      }
     },
     "metadata": {},
     "output_type": "display_data"
    }
   ],
   "source": [
    "fig = px.scatter_3d(pca_output_log_df, x='PCA1', y='PCA2', z='PCA3', color=\"groups\")\n",
    "fig.show()"
   ]
  },
  {
   "cell_type": "markdown",
   "metadata": {},
   "source": [
    "TRansformed data has better cluster"
   ]
  },
  {
   "cell_type": "markdown",
   "metadata": {},
   "source": [
    "### 2. Differential gene expression"
   ]
  },
  {
   "cell_type": "code",
   "execution_count": 189,
   "metadata": {},
   "outputs": [],
   "source": [
    "de_results = pd.DataFrame(columns = [\"pval\",\" fdr\",\" log2_mean_preadipo\",\"log2_mean_adipo\",\"log2_fold_change\"])"
   ]
  },
  {
   "cell_type": "markdown",
   "metadata": {},
   "source": [
    "a)"
   ]
  },
  {
   "cell_type": "code",
   "execution_count": 218,
   "metadata": {},
   "outputs": [],
   "source": [
    "pvalue=[]\n",
    "for index, gene in transcriptomics_transf.iterrows():\n",
    "    #Adipo_samples = {i for i in dict_sample if dict_sample[i]==\"Adipo\"}\n",
    "    # PreAdipo_samples = {i for i in dict_sample if dict_sample[i]==\"PreAdipo\"}\n",
    "    # ttest_ind(gene[Adipo_samples], gene[PreAdipo_samples])\n",
    "    _,pval =(ttest_ind(gene[1:41], gene[42:81]))\n",
    "    pvalue.append(pval)"
   ]
  },
  {
   "cell_type": "code",
   "execution_count": 219,
   "metadata": {},
   "outputs": [
    {
     "data": {
      "text/plain": [
       "[0.04701784462671299,\n",
       " 1.0986218175274017e-11,\n",
       " 0.2742698261584847,\n",
       " 0.39878189582293677,\n",
       " 0.4062642805989032,\n",
       " 1.0618240634894246e-11,\n",
       " 3.051854712420205e-06,\n",
       " 1.1463122831865571e-07,\n",
       " 0.0022092877854286213,\n",
       " 0.07517865611933183,\n",
       " 0.5912599975512276,\n",
       " 0.9920635163736433,\n",
       " 0.7933664659871339,\n",
       " 0.21457766246225835,\n",
       " 0.3001173760238852,\n",
       " 0.16653606980454178,\n",
       " 0.2622211808730216,\n",
       " 0.014475379559570118,\n",
       " 0.13794134950760312,\n",
       " 0.1823692905231653,\n",
       " 0.3142764240989545,\n",
       " 0.3541976713077023,\n",
       " 0.6042868006927162,\n",
       " 0.02121922567153085,\n",
       " 0.8521387399787116,\n",
       " 0.6004667595687166,\n",
       " 0.19220198089584306,\n",
       " 0.40860867712436566,\n",
       " 0.024968562332107896,\n",
       " 6.2882583377491736e-15,\n",
       " 0.9289773475220018,\n",
       " 0.7881835362787093,\n",
       " 0.31096866324219086,\n",
       " 1.1763981748009452e-17,\n",
       " 0.5779583310012939,\n",
       " 0.7283673648570083,\n",
       " 0.6052107426514977,\n",
       " 2.517212192300383e-08,\n",
       " 1.4819062980507868e-05,\n",
       " 0.5316653690409036,\n",
       " 0.57074246178234,\n",
       " 0.9795997218601918,\n",
       " 0.5581103184278515,\n",
       " 0.22460100594878918,\n",
       " 1.2912593725188428e-05,\n",
       " 0.4457233014472034,\n",
       " 1.20298436270539e-16,\n",
       " 0.30091451635016375,\n",
       " 0.027515345852658194,\n",
       " 0.14484549908938366,\n",
       " 0.002123433733024163,\n",
       " 0.2521715521408797,\n",
       " 0.0010465848282033823,\n",
       " 0.7026925082582784,\n",
       " 0.8884052172051347,\n",
       " 9.28237479418274e-06,\n",
       " 0.5384216650122667,\n",
       " 1.9518318929371517e-07,\n",
       " 1.5001276518991574e-21,\n",
       " 0.02147458733490534,\n",
       " 0.12470964977717795,\n",
       " 0.04758716571762747,\n",
       " 0.2547832909118308,\n",
       " 0.20569243972719953,\n",
       " 0.1506482947821438,\n",
       " 0.5819098032933651,\n",
       " 4.211858874695087e-07,\n",
       " 0.32660707290143165,\n",
       " 0.27347935370141047,\n",
       " 0.4383920228531122,\n",
       " 0.00027029999597152774,\n",
       " 7.197927918044411e-11,\n",
       " 0.2069411362749483,\n",
       " 0.4042909395291805,\n",
       " 0.003986916623680433,\n",
       " 0.489287011754297,\n",
       " 0.3084038269366297,\n",
       " 0.0011327681913753688,\n",
       " 0.25323283314018097,\n",
       " 0.0010743257780481859,\n",
       " 0.4450898444434054,\n",
       " 0.4840389004322714,\n",
       " 0.41258613735026084,\n",
       " 2.7378591689833313e-05,\n",
       " 0.850442456633187,\n",
       " 1.0357038185806738e-20,\n",
       " 0.25941454878376163,\n",
       " 0.7798823315819229,\n",
       " 0.6610374818570068,\n",
       " 0.47103059826767113,\n",
       " 0.8990113752903366,\n",
       " 6.505081651696196e-05,\n",
       " 0.7793687903777062,\n",
       " 0.6525703165103675,\n",
       " 0.8073596563196066,\n",
       " 0.014289366562123457,\n",
       " 0.07912348787674237,\n",
       " 0.9042678949010148,\n",
       " 0.33136689398666597,\n",
       " 4.216774802152924e-13,\n",
       " 0.15455302293728473,\n",
       " 0.41186637430852846,\n",
       " 0.0022231758830149762,\n",
       " 0.009455642253221437,\n",
       " 0.7819199696772103,\n",
       " 0.0009480877959243558,\n",
       " 0.6638727900507144,\n",
       " 0.08452615224884147,\n",
       " 2.907407104293025e-14,\n",
       " 0.31255807927472484,\n",
       " 1.5365643727160878e-10,\n",
       " 0.00803178865304608,\n",
       " 0.566225164995764,\n",
       " 3.961584788775606e-05,\n",
       " 0.45423162305418496,\n",
       " 0.666963162897414,\n",
       " 0.3142764240989544,\n",
       " 0.008367851096969678,\n",
       " 0.6516129947400074,\n",
       " 0.14821012679723028,\n",
       " 0.23083120813790653,\n",
       " 0.010542205126148724,\n",
       " 0.752997846744113,\n",
       " 0.548363672705636,\n",
       " 0.00015343254708671562,\n",
       " 0.5464460380925786,\n",
       " 2.339768992640568e-08,\n",
       " 0.001499512100292835,\n",
       " 0.36786026985243736,\n",
       " 0.0216751575239428,\n",
       " 0.9044558149507453,\n",
       " 1.624051180980242e-05,\n",
       " 0.8418069377361205,\n",
       " 0.0019015992495186854,\n",
       " 0.6243759033845029,\n",
       " 0.6996905878260697,\n",
       " 0.014504049477619683,\n",
       " 3.160891593280896e-08,\n",
       " 0.8813282844314418,\n",
       " 0.8866742255845544,\n",
       " 0.7140041959389665,\n",
       " 0.0003465301431967861,\n",
       " 0.005799573375512696,\n",
       " 2.841226534603093e-07,\n",
       " 0.9704898627484039,\n",
       " 0.20015275957579126,\n",
       " 0.018120041678564326,\n",
       " 0.2315206872160714,\n",
       " 0.5844627136480463,\n",
       " 1.349907854773283e-10,\n",
       " 0.6293908331206712,\n",
       " 0.16138207218833456,\n",
       " 3.513878493006887e-07,\n",
       " 0.08223761505652465,\n",
       " 0.31427642409895423,\n",
       " 0.00010553796576802907,\n",
       " 0.049438526842218306,\n",
       " 0.8141134697933785,\n",
       " 0.020268028771142654,\n",
       " 0.32186589702597707,\n",
       " 0.0006718025803309078,\n",
       " 6.500409587161563e-11,\n",
       " 0.1612611027187995,\n",
       " 0.8595427292917405,\n",
       " 0.15176862457304166,\n",
       " 0.9009314219065762,\n",
       " 0.31427642409895423,\n",
       " 0.7372886192659298,\n",
       " 0.1458097710579801,\n",
       " 0.32532645425363593,\n",
       " 1.0919265664691462e-05,\n",
       " 0.5769347018668123,\n",
       " 0.5191305465655176,\n",
       " 0.06265441630734438,\n",
       " 0.002293706015167232,\n",
       " 0.1463680560253559,\n",
       " 0.008225937686829578,\n",
       " 0.875703302145397,\n",
       " 0.3070054125375347,\n",
       " 1.7967834390846115e-16,\n",
       " 0.3142764240989541,\n",
       " 0.026914940031219373,\n",
       " 0.0009535549732201698,\n",
       " 0.9866881970198436,\n",
       " 0.913595384798002,\n",
       " 0.05946934151660843,\n",
       " 0.3233414617014858,\n",
       " 0.5981152716817425,\n",
       " 0.3619159578631247,\n",
       " 0.09028616096633595,\n",
       " 0.4408029806142326,\n",
       " 0.36427795114686157,\n",
       " 0.1267688363781737,\n",
       " 0.03668539534903969,\n",
       " 2.1030899937068903e-06,\n",
       " 0.6258365148340659,\n",
       " 0.2636568747337509,\n",
       " 0.6507438992855509,\n",
       " 0.29580369690472863,\n",
       " 9.271582879763327e-16,\n",
       " 0.692540703980709,\n",
       " 0.8504142190937442,\n",
       " 6.207586906944436e-30,\n",
       " 0.7892518556908189,\n",
       " 0.2609291230389401,\n",
       " 0.02082842745080175,\n",
       " 0.11601195299199552,\n",
       " 0.0011106146561471115,\n",
       " 0.00145343600533856,\n",
       " 1.237356374284625e-13,\n",
       " 0.7550670246073108,\n",
       " 0.6662690135450138,\n",
       " 0.8212195448928772,\n",
       " 9.605961639828022e-05,\n",
       " 0.31571008048039634,\n",
       " 0.6230212729194664,\n",
       " 0.8394912024202398,\n",
       " 0.8882412268440073,\n",
       " 0.3142764240989544,\n",
       " 0.3142764240989544,\n",
       " 0.16901089157458737,\n",
       " 0.15914968746399863,\n",
       " 0.5116864473173772,\n",
       " 0.32660707290143154,\n",
       " 0.05986100732675901,\n",
       " 0.010711505927212145,\n",
       " 8.223791890922856e-20,\n",
       " 0.004103438860260738,\n",
       " 0.1784442142186061,\n",
       " 0.06438180953012658,\n",
       " 0.23723293185064184,\n",
       " 0.6522336319735338,\n",
       " 5.260468665490992e-05,\n",
       " 0.007136213441651245,\n",
       " 0.03452025808353883,\n",
       " 0.16502654780168963,\n",
       " 0.258271598567161,\n",
       " 6.954858605176909e-05,\n",
       " 0.3705586688880387,\n",
       " 2.7483546095930672e-11,\n",
       " 0.02160760099514387,\n",
       " 6.90907712986622e-26,\n",
       " 0.04725455237620556,\n",
       " 0.003982156311762155,\n",
       " 0.7469768784685866,\n",
       " 0.4983181688470144,\n",
       " 0.7036931452245883,\n",
       " 1.504342830853989e-09,\n",
       " 0.12042196744443431,\n",
       " 0.030230629931800135,\n",
       " 0.412039644260905,\n",
       " 1.2253326832763182e-08,\n",
       " 0.05419059306325722,\n",
       " 0.033039467377973995,\n",
       " 0.5075149019716254,\n",
       " 0.22245543372600862,\n",
       " 0.03163178225906739,\n",
       " 0.18920095111773597,\n",
       " 2.42806876084645e-05,\n",
       " 0.0029623898535163446,\n",
       " 0.9053156432555288,\n",
       " 0.004626635548656694,\n",
       " 0.11069125069984624,\n",
       " 0.7493779728827076,\n",
       " 0.39988168275498803,\n",
       " 0.4674104968792958,\n",
       " 0.3907923531103634,\n",
       " 0.0038903919293429507,\n",
       " 0.7482538257707406,\n",
       " 0.019331025858501997,\n",
       " 0.23254798369577423,\n",
       " 0.8062063278616807,\n",
       " 2.0908036435681338e-07,\n",
       " 0.0028454713199598477,\n",
       " 4.7265649425042125e-12,\n",
       " 0.5996562154890764,\n",
       " 0.09988788981491632,\n",
       " 3.2070478667127513e-11,\n",
       " 4.2576442384432586e-09,\n",
       " 0.7842386989267814,\n",
       " 0.0005213970847915368,\n",
       " 0.4865451576641271,\n",
       " 0.07988864185271367,\n",
       " 0.002569203733204509,\n",
       " 0.27991996958081033,\n",
       " 0.9311664224479252,\n",
       " 0.31427642409895434,\n",
       " 0.6464529157869348,\n",
       " 1.9804687890831885e-06,\n",
       " 0.03860293968610746,\n",
       " 0.10904335146443689,\n",
       " 0.6557032569665762,\n",
       " 0.8711510217562132,\n",
       " 0.5549698209595373,\n",
       " 0.7261914533943291,\n",
       " 2.726377540109459e-08,\n",
       " 0.019312103020216326,\n",
       " 3.071164646139738e-25,\n",
       " 0.32660707290143165,\n",
       " 0.8457724905329884,\n",
       " 0.00020015200378727363,\n",
       " 0.09586967346743215,\n",
       " 0.2539774121089578,\n",
       " 6.672542209494573e-05,\n",
       " 0.15417524454754825,\n",
       " 0.18758533175441824,\n",
       " 0.8522661939374248,\n",
       " 0.0030376138842974523,\n",
       " 0.12709756051950455,\n",
       " 5.80976736376179e-20,\n",
       " 0.03511832194644097,\n",
       " 2.700385873812007e-06,\n",
       " 0.4740345112199247,\n",
       " 0.09443135204207542,\n",
       " 0.022463394987744308,\n",
       " 0.4648208502633806,\n",
       " 0.05592659416463128,\n",
       " 0.09405625699140863,\n",
       " 0.02719321653934452,\n",
       " 0.016095065349858453,\n",
       " 0.2552098956760836,\n",
       " 0.006404848179559659,\n",
       " 0.5471670255125203,\n",
       " 2.154058187651043e-06,\n",
       " 0.0359917546147301,\n",
       " 0.17244791514375432,\n",
       " 0.022985556133719068,\n",
       " 0.03369663232095308,\n",
       " 0.015024192160223129,\n",
       " 0.00010189382626595386,\n",
       " 0.10996738997770109,\n",
       " 0.20100322010148197,\n",
       " 0.17634585184174426,\n",
       " 0.0001049134250505098,\n",
       " 0.8221960033902403,\n",
       " 0.016754710270348742,\n",
       " 0.9750005156756567,\n",
       " 0.044055319805332484,\n",
       " 5.121994749177833e-07,\n",
       " 0.5488665011372267,\n",
       " 0.019873104595822057,\n",
       " 0.045385464773549336,\n",
       " 0.625274364485709,\n",
       " 0.8180914329419152,\n",
       " 0.13653153768910117,\n",
       " 0.0005700355122738368,\n",
       " 0.0003526349022551365,\n",
       " 2.417821117560122e-07,\n",
       " 4.710517705441042e-19,\n",
       " 2.9003801020067758e-08,\n",
       " 0.627698324339391,\n",
       " 0.12961742909226018,\n",
       " 0.4426236412113951,\n",
       " 0.310009892036409,\n",
       " 0.327391857635016,\n",
       " 0.025087629844521075,\n",
       " 0.3688362914810617,\n",
       " 0.32660707290143165,\n",
       " 0.04084178898099989,\n",
       " 1.9249920385293036e-11,\n",
       " 0.2179309576101845,\n",
       " 0.10043499111883804,\n",
       " 0.00013504853681025163,\n",
       " 0.7129490885444912,\n",
       " 5.0788256934439855e-24,\n",
       " 0.2645934179347845,\n",
       " 0.029112325629515795,\n",
       " 0.6550894266824221,\n",
       " 0.7256399048464454,\n",
       " 0.9081967687359622,\n",
       " 0.776960835980012,\n",
       " 0.03160093968924949,\n",
       " 0.016592891805113662,\n",
       " 0.45787915288931613,\n",
       " 0.5413307104404392,\n",
       " 0.5817636169565847,\n",
       " 0.18250509649191143,\n",
       " 0.06657390497166064,\n",
       " 0.8896044148147766,\n",
       " 0.4972431560001409,\n",
       " 6.798901606752728e-06,\n",
       " 0.39942353444185497,\n",
       " 0.8506757100206821,\n",
       " 0.43961174564496275,\n",
       " 0.4742057139477215,\n",
       " 3.0472469749179144e-20,\n",
       " 0.14818469098341935,\n",
       " 0.7829603267075885,\n",
       " 0.7042268335468262,\n",
       " 0.7071035112485864,\n",
       " 0.8421343110610146,\n",
       " 0.007240960705407418,\n",
       " 0.5739082949424092,\n",
       " 0.007262825675619896,\n",
       " 0.0011951789119603142,\n",
       " 0.32614191698769157,\n",
       " 0.9084247618136817,\n",
       " 0.0019070973182585894,\n",
       " 0.5537459033440452,\n",
       " 0.26177553045266083,\n",
       " 3.258974636757182e-05,\n",
       " 0.6173193682974343,\n",
       " 0.0014572521527926457,\n",
       " 0.2645986185681584,\n",
       " 0.37223749558711494,\n",
       " 0.3176433658679866,\n",
       " 8.514442303811193e-06,\n",
       " 0.9900388402749238,\n",
       " 0.03856679359060736,\n",
       " 8.236325388856106e-05,\n",
       " 0.00016299282852645788,\n",
       " 0.22729666748623065,\n",
       " 4.367562255179966e-10,\n",
       " 0.034113044868036624,\n",
       " 0.9219835731504207,\n",
       " 0.2911748988671983,\n",
       " 4.519213364117805e-19,\n",
       " 0.12233917235508712,\n",
       " 0.030254519917428224,\n",
       " 0.09592269207045986,\n",
       " 3.190564404343124e-05,\n",
       " 0.35136847418993467,\n",
       " 4.493130134262878e-06,\n",
       " 0.012362052016560394,\n",
       " 0.6449957984054875,\n",
       " 6.842772196436122e-06,\n",
       " 7.244233902102955e-06,\n",
       " 0.9604826428744245,\n",
       " 0.1931929060734149,\n",
       " 0.1081983958696047,\n",
       " 0.633383211490895,\n",
       " 0.508973962854656,\n",
       " 4.540958659450692e-06,\n",
       " 0.7994686079523338,\n",
       " 0.0011393596424815501,\n",
       " 0.009569266116301453,\n",
       " 0.0005977726622104893,\n",
       " 0.6735614933451944,\n",
       " 3.8414717048610654e-08,\n",
       " 0.0029177676612417484,\n",
       " 0.07371857706578025,\n",
       " 0.014630846563644549,\n",
       " 0.0010668879573653115,\n",
       " 0.4340484643612733,\n",
       " 0.007480265356955825,\n",
       " 0.6626832339569158,\n",
       " 0.020330647768124013,\n",
       " 0.609806371468232,\n",
       " 5.596172532642875e-05,\n",
       " 0.5436472713851503,\n",
       " 0.05858047277596372,\n",
       " 0.11480088824490521,\n",
       " 0.000454878968991313,\n",
       " 0.01971329909698395,\n",
       " 0.4018946541958406,\n",
       " 0.6260101290191875,\n",
       " 0.3582288584278326,\n",
       " 1.393107023741751e-11,\n",
       " 0.1927110964986725,\n",
       " 0.6177447601553705,\n",
       " 0.6279942380635768,\n",
       " 5.130778222877443e-05,\n",
       " 0.6219682832284037,\n",
       " 0.477959817055425,\n",
       " 0.7902594247144594,\n",
       " 0.4873684965551409,\n",
       " 0.6499319399611678,\n",
       " 0.08059128734877037,\n",
       " 0.023710687164524284,\n",
       " 0.014697351849634287,\n",
       " 1.2786283304923685e-05,\n",
       " 0.005447637443491672,\n",
       " 0.1561383886787136,\n",
       " 0.32189407537503784,\n",
       " 0.9746728870666725,\n",
       " 1.575745341977869e-07,\n",
       " 2.7324598559171023e-06,\n",
       " 0.9888890051497525,\n",
       " 4.903898187845066e-08,\n",
       " 0.5978084376865109,\n",
       " 0.00038747557177057135,\n",
       " 0.1727837361517325,\n",
       " 0.010850066476752875,\n",
       " 0.7803157692780435,\n",
       " 0.06368169226140395,\n",
       " 0.8654258069808356,\n",
       " 0.05661804442812934,\n",
       " 0.04096289240936319,\n",
       " 0.6555884258594898,\n",
       " 0.001916897469320265,\n",
       " 0.0007483775271228911,\n",
       " 0.8159089321840693,\n",
       " 0.0009438533539892363,\n",
       " 0.050489848269778655,\n",
       " 0.13155202793903667,\n",
       " 0.6945649876269275,\n",
       " 0.5683230660548524,\n",
       " 0.0011255015864692116,\n",
       " 0.20013764594904793,\n",
       " 6.830793513654038e-07,\n",
       " 0.17225572638863929,\n",
       " 0.09612822389925756,\n",
       " 0.5742806578913745,\n",
       " 0.04139037470861126,\n",
       " 0.030107915742541774,\n",
       " 0.0001280361178936616,\n",
       " 0.5457121134075451,\n",
       " 0.7472396873741949,\n",
       " 0.07243140000970105,\n",
       " 0.8375372008996489,\n",
       " 0.04731972049578881,\n",
       " 0.14918646196903051,\n",
       " 0.14886076316562288,\n",
       " 0.00010757589641166191,\n",
       " 0.0019342187036755524,\n",
       " 0.292893753632983,\n",
       " 0.3708248208445679,\n",
       " 0.32660707290143154,\n",
       " 0.15114613112059477,\n",
       " 0.13132967433908663,\n",
       " 0.07418226389042057,\n",
       " 0.4040750361584202,\n",
       " 1.2069222120690416e-06,\n",
       " 6.11688470504002e-05,\n",
       " 0.9857626172470296,\n",
       " 0.03696144597592205,\n",
       " 0.3142764240989545,\n",
       " 0.9891893860939902,\n",
       " 0.004052508839779516,\n",
       " 0.007197224386400811,\n",
       " 0.00910159374325044,\n",
       " 0.10897088239380706,\n",
       " 0.6080746524696188,\n",
       " 0.028218488676965532,\n",
       " 0.6078878052641576,\n",
       " 0.961136197941418,\n",
       " 0.09768769383316622,\n",
       " 0.013213189384567336,\n",
       " 0.29076518436151005,\n",
       " 0.4818001590426487,\n",
       " 0.05154645633818505,\n",
       " 0.0003462633564249114,\n",
       " 0.3060695350748467,\n",
       " 0.6409089296026051,\n",
       " 0.17648005739574077,\n",
       " 2.4216194491785338e-27,\n",
       " 0.4839110293731651,\n",
       " 0.522279184755046,\n",
       " 4.8235161735114736e-29,\n",
       " 3.783960694641232e-08,\n",
       " 0.041498707259847264,\n",
       " 0.1557946410340394,\n",
       " 0.31427642409895423,\n",
       " 0.0049370782771051116,\n",
       " 0.4352278983891279,\n",
       " 0.3100135984982151,\n",
       " 0.6869528412816958,\n",
       " 0.5883382100051043,\n",
       " 0.32660707290143176,\n",
       " 0.20196303808524754,\n",
       " 0.02156770179108169,\n",
       " 1.662493664806214e-05,\n",
       " 0.0758355607300797,\n",
       " 0.8641876793616623,\n",
       " 0.0006948672507193029,\n",
       " 1.924208400600586e-06,\n",
       " 0.06666481987242985,\n",
       " 0.12167604801480227,\n",
       " 0.5872172273201811,\n",
       " 0.00045210449608603265,\n",
       " 0.0577771323536791,\n",
       " 0.6619575592076158,\n",
       " 0.8921867508381551,\n",
       " 0.21420734728582833,\n",
       " 0.8497916343839581,\n",
       " 0.6750781198762797,\n",
       " 0.0011207074993341084,\n",
       " 0.32660707290143176,\n",
       " 0.021612172899512727,\n",
       " 0.9504861348101135,\n",
       " 0.6153613382451801,\n",
       " 0.9451800535835637,\n",
       " 0.8664258890118068,\n",
       " 0.6342907080311552,\n",
       " 0.010034705574580485,\n",
       " 0.3087933409335514,\n",
       " 0.0690374132529463,\n",
       " 0.26041672337175525,\n",
       " 0.05964386805838516,\n",
       " 0.085288967822722,\n",
       " 0.02490940897169489,\n",
       " 0.008251683952956572,\n",
       " 0.0035572749123062085,\n",
       " 0.02660420866107103,\n",
       " 0.05648850904755575,\n",
       " 0.11868785919590899,\n",
       " 0.004409220306057867,\n",
       " 0.4514225472246378,\n",
       " 0.32660707290143165,\n",
       " 0.9727511136134246,\n",
       " 0.0011056879267499812,\n",
       " 0.6027480891574758,\n",
       " 0.1612611027187995,\n",
       " 0.16733973202607266,\n",
       " 0.26366860859776264,\n",
       " 0.0017269145862328608,\n",
       " 0.06813858916329842,\n",
       " 0.8246852204327526,\n",
       " 0.13209397126074668,\n",
       " 0.0058298421779087,\n",
       " 0.822076309938141,\n",
       " 5.030245660229981e-07,\n",
       " 0.4698840058779903,\n",
       " 0.0002167085635287402,\n",
       " 0.07444658325180419,\n",
       " 0.6146047203281044,\n",
       " 0.029307482330216086,\n",
       " 0.32660707290143176,\n",
       " 0.32660707290143176,\n",
       " 9.904958959192042e-09,\n",
       " 3.0024402444499386e-05,\n",
       " 4.0208974969979e-13,\n",
       " 0.26392678157178684,\n",
       " 0.017973667709414866,\n",
       " 0.016458172651508948,\n",
       " 7.762172266261276e-05,\n",
       " 0.5095263411557311,\n",
       " 0.0003129464490403946,\n",
       " 0.8963551533209237,\n",
       " 0.825012874355955,\n",
       " 0.04699197317636802,\n",
       " 7.926069736472505e-05,\n",
       " 0.8002314651031608,\n",
       " 0.572636358838772,\n",
       " 0.03380006249825307,\n",
       " 0.16988877999497198,\n",
       " 0.17680259387128155,\n",
       " 0.8209850386951472,\n",
       " 0.31905741612802024,\n",
       " 1.0627393178627043e-18,\n",
       " 1.183317613190223e-08,\n",
       " 0.005105511302055444,\n",
       " 0.23110506968183112,\n",
       " 0.9596089147146762,\n",
       " 0.00918865289560618,\n",
       " 0.18362919201215921,\n",
       " 0.05055922077672975,\n",
       " 1.2589918460098392e-05,\n",
       " 0.17295281873517107,\n",
       " 2.577272999506553e-06,\n",
       " 0.3833229268090814,\n",
       " 9.212116798637048e-17,\n",
       " 0.19004405502849223,\n",
       " 0.0770715068321948,\n",
       " 0.31427642409895384,\n",
       " 0.5597622999673473,\n",
       " 0.0005553336994458715,\n",
       " 1.3235217107001565e-08,\n",
       " 4.864700769513291e-18,\n",
       " 0.23711527219235093,\n",
       " 0.3142764240989548,\n",
       " 5.0766733316536005e-08,\n",
       " 0.11765588277633583,\n",
       " 8.16872415793598e-06,\n",
       " 3.77605303871257e-13,\n",
       " 0.12453547702232945,\n",
       " 0.8987999474993773,\n",
       " 0.42462175378878075,\n",
       " 0.35619297734288113,\n",
       " 0.5379690385329984,\n",
       " 0.000868252419353426,\n",
       " 0.9524263562549162,\n",
       " 0.09274143907350041,\n",
       " 0.25391402760141896,\n",
       " 0.15064829478214373,\n",
       " 0.5509032819796098,\n",
       " 0.0033268386003906343,\n",
       " 0.010518241172859986,\n",
       " 7.920327267539802e-11,\n",
       " 0.12112933212729748,\n",
       " 0.1122829841980889,\n",
       " 0.44852265607830333,\n",
       " 0.024008025089910495,\n",
       " 7.192964973869142e-05,\n",
       " 0.00014831083503114278,\n",
       " 6.408226021784411e-05,\n",
       " 0.0001220906733309745,\n",
       " 0.20017864073910654,\n",
       " 0.08181127643853568,\n",
       " 0.6924128601429933,\n",
       " 7.93326558447611e-10,\n",
       " 0.9102766422133859,\n",
       " 0.3495340078702921,\n",
       " 0.8920608037269551,\n",
       " 0.8586965753632547,\n",
       " 0.9658015203255097,\n",
       " 0.05930708065357946,\n",
       " 0.07210470337704375,\n",
       " 0.8823092798945694,\n",
       " 0.6642515395564548,\n",
       " 0.6202100215857325,\n",
       " 0.9826543506858815,\n",
       " 0.08472743232325758,\n",
       " 0.4548470071956935,\n",
       " 0.6583282713632284,\n",
       " 0.4800214058008848,\n",
       " 9.3526258260588e-26,\n",
       " 0.09400760772015147,\n",
       " 0.46639608546442,\n",
       " 0.6545484337304152,\n",
       " 0.7425620550610033,\n",
       " 0.3763253544939301,\n",
       " 0.01681016428882272,\n",
       " 0.02347036237945433,\n",
       " 0.18808585894963759,\n",
       " 3.6772251280795725e-05,\n",
       " 3.907971273781131e-15,\n",
       " 0.9584785157287972,\n",
       " 0.015333119123497054,\n",
       " 0.005886311321241495,\n",
       " 0.7676940421183485,\n",
       " 0.7880042995022932,\n",
       " 5.3520502894020305e-09,\n",
       " 3.519139593056608e-08,\n",
       " 0.2341186628935892,\n",
       " 0.16461713607893577,\n",
       " 0.03462351791832021,\n",
       " 0.09478858441455074,\n",
       " 0.4261729904562983,\n",
       " 0.36285571107021675,\n",
       " 0.09595014736705999,\n",
       " 0.29474014562418266,\n",
       " 7.289263514802694e-07,\n",
       " 0.05223440213671956,\n",
       " 0.7690316250563721,\n",
       " 0.8778374586429015,\n",
       " 4.688618643454081e-07,\n",
       " 0.009810114731018768,\n",
       " 1.4037612250252751e-06,\n",
       " 0.9470430610013035,\n",
       " 0.008232127852421969,\n",
       " 0.7212203024893009,\n",
       " 0.020763127533457243,\n",
       " 0.6148997154418137,\n",
       " 0.7223226492944916,\n",
       " 0.0002886165688854832,\n",
       " 0.7726560782644795,\n",
       " 0.02263968459246321,\n",
       " 0.0019094348195874081,\n",
       " 0.3233871861426567,\n",
       " 0.14600526315689402,\n",
       " 0.1785162228341552,\n",
       " 0.6372516530208855,\n",
       " 0.09591149912873702,\n",
       " 0.020468047768341727,\n",
       " 0.9207168358896043,\n",
       " 0.06802828579410239,\n",
       " 0.6387325897594804,\n",
       " 0.31427642409895434,\n",
       " 0.5948187536664431,\n",
       " 0.0006788330560393503,\n",
       " 0.001819821315609297,\n",
       " 0.0325873595087671,\n",
       " 0.6610374818570068,\n",
       " 0.03389495038104115,\n",
       " 0.003288316011128391,\n",
       " 0.1302135742403577,\n",
       " 4.129572804271701e-07,\n",
       " 0.020280010331499045,\n",
       " 5.081451045717181e-19,\n",
       " 3.364719743657729e-07,\n",
       " 8.341236270059931e-12,\n",
       " 0.06339175819816861,\n",
       " 0.17748808432005814,\n",
       " 0.3349529993441829,\n",
       " 0.6266702120704752,\n",
       " 0.2819606272645376,\n",
       " 7.658527538814087e-06,\n",
       " 0.024964540880845487,\n",
       " 0.36942245849859456,\n",
       " 0.031583624171115744,\n",
       " 0.22081014675869515,\n",
       " 0.23652528511754656,\n",
       " 0.8161331402018699,\n",
       " 7.441398563867679e-40,\n",
       " 0.2675268688118672,\n",
       " 4.900051018650745e-10,\n",
       " 0.1659312076156858,\n",
       " 0.5393638679856732,\n",
       " 0.4327779176319101,\n",
       " 0.761268421108305,\n",
       " 0.00014784776166475646,\n",
       " 0.17847249456998876,\n",
       " 0.0036472970232146,\n",
       " 0.47103059826767113,\n",
       " 0.0004952354389743767,\n",
       " 0.8146382055746042,\n",
       " 0.1265340612579198,\n",
       " 0.009110044541292567,\n",
       " 3.571234492876773e-22,\n",
       " 0.029751868962467974,\n",
       " 0.5070640122426309,\n",
       " 1.6741983029968538e-06,\n",
       " 0.021397313358212475,\n",
       " 0.16848151097601455,\n",
       " 0.01060266159835981,\n",
       " 0.03171187145386574,\n",
       " 0.0559673709087955,\n",
       " 0.40634087832202015,\n",
       " 0.5128100024734189,\n",
       " 1.0368773502479212e-06,\n",
       " 0.015522188780498025,\n",
       " 0.5806541138744408,\n",
       " 1.4652022408697586e-15,\n",
       " 0.14749683675025196,\n",
       " 0.11664789275030202,\n",
       " 0.010542043875942826,\n",
       " 0.006773576214930155,\n",
       " 0.9327314372804945,\n",
       " 0.8486469287862766,\n",
       " 1.0384849227118246e-08,\n",
       " 0.4830188604621328,\n",
       " 0.2557217083059592,\n",
       " 0.13396866397822504,\n",
       " 0.007955584157947128,\n",
       " 0.0022444079690586006,\n",
       " 0.8939855994200969,\n",
       " 5.394182971978528e-06,\n",
       " 0.26264126385674014,\n",
       " 0.31794411542261314,\n",
       " 0.42856500466048486,\n",
       " 0.16049038108095967,\n",
       " 0.299636418125432,\n",
       " 0.008214992331389715,\n",
       " 0.010361576731874754,\n",
       " 0.4593855268165682,\n",
       " 6.179710408899921e-06,\n",
       " 0.37426560345378845,\n",
       " 0.03749176906165779,\n",
       " 0.2445898133515049,\n",
       " 0.002672309052737413,\n",
       " 0.36566674985014813,\n",
       " 0.32660707290143176,\n",
       " 1.7430248615345234e-31,\n",
       " 0.015530128555125708,\n",
       " 0.397109990549426,\n",
       " 0.019430102362978777,\n",
       " 0.008339463905461978,\n",
       " 0.05332049583365207,\n",
       " 0.22705661257263746,\n",
       " 0.17176611945123402,\n",
       " 0.9275084009547993,\n",
       " 0.08478360682255447,\n",
       " 4.329821740554546e-05,\n",
       " 0.8688626935921338,\n",
       " 0.06344942452615275,\n",
       " 3.821813721536606e-05,\n",
       " 0.0027940472567629135,\n",
       " 0.492240156548192,\n",
       " 0.5401219093972894,\n",
       " 0.0038844377556560643,\n",
       " 0.030802050153492574,\n",
       " 0.8342992791388799,\n",
       " 0.022282755006741355,\n",
       " 0.003121479181998036,\n",
       " 0.16031823792236316,\n",
       " 0.14958892357426484,\n",
       " 0.8032248804500184,\n",
       " 0.0005275713340825005,\n",
       " 0.9486050103439858,\n",
       " 4.835503488197538e-08,\n",
       " 0.2139307659195507,\n",
       " 0.0032510850743434332,\n",
       " 0.21282614533776473,\n",
       " 3.4890812534372833e-14,\n",
       " 0.6883620502801516,\n",
       " 0.2775511040653717,\n",
       " 0.0005000921701874677,\n",
       " 0.8689507084848096,\n",
       " 0.0051333280367580544,\n",
       " 0.3142764240989545,\n",
       " 0.0003509396770914287,\n",
       " 0.01009102211003682,\n",
       " 0.00019946685460782158,\n",
       " 0.0008689966577427438,\n",
       " 4.569696000891762e-12,\n",
       " 4.763792469061034e-19,\n",
       " 0.007258887829656229,\n",
       " 0.32670928409605304,\n",
       " 0.00019346204023982163,\n",
       " 0.01279176441128311,\n",
       " 0.004015831218005658,\n",
       " 0.15969169157785196,\n",
       " 0.7707393765621653,\n",
       " 3.1152106138981087e-10,\n",
       " 0.09182516225260766,\n",
       " 0.10289659448843036,\n",
       " 0.873974450166447,\n",
       " 0.20308988667476677,\n",
       " 0.08077149297298021,\n",
       " 0.255036772608273,\n",
       " 0.0733642777389661,\n",
       " 0.3919177087370944,\n",
       " 0.5681660295268534,\n",
       " 2.9847002920029545e-05,\n",
       " 0.32427258876625975,\n",
       " 0.07891324475423554,\n",
       " 0.8843270729277664,\n",
       " 4.20835171497045e-06,\n",
       " 0.38017326411893226,\n",
       " 0.32660707290143165,\n",
       " 0.39195911151669816,\n",
       " 0.0002763584305627756,\n",
       " 0.2403581108109571,\n",
       " 0.3736211436391821,\n",
       " 0.4035439993179568,\n",
       " 0.024076915103383893,\n",
       " 0.17246272791120448,\n",
       " 0.47985525872413004,\n",
       " 0.3786312359713562,\n",
       " 0.36416580365301987,\n",
       " 0.3142764240989542,\n",
       " 0.7502078790110456,\n",
       " 0.09724186535735409,\n",
       " 0.7016399928336057,\n",
       " 0.011899820605378194,\n",
       " 0.9172047697965992,\n",
       " 0.43417985758336486,\n",
       " 0.6560758673133842,\n",
       " 0.1988025934418354,\n",
       " 0.42508603947369183,\n",
       " 4.3611423104135664e-05,\n",
       " 7.848721778057278e-26,\n",
       " 0.5969688855535866,\n",
       " 0.053388321951146046,\n",
       " 3.0560003841607377e-16,\n",
       " 0.8981979919032222,\n",
       " 0.25499620586318034,\n",
       " 0.05364605522568818,\n",
       " 0.0009093419608914795,\n",
       " 0.7311845739273496,\n",
       " 0.060480895482717005,\n",
       " 0.22431221244932587,\n",
       " 1.142186670570443e-05,\n",
       " 0.10864703290048705,\n",
       " 0.004017132720620878,\n",
       " 0.031892459120061126,\n",
       " 0.10002340760363392,\n",
       " 0.13624012597778667,\n",
       " 0.8743975194091597,\n",
       " 0.010756744112979048,\n",
       " 0.6148028827463611,\n",
       " 0.010477041189100063,\n",
       " 0.011234160575145662,\n",
       " 0.19381851579946405,\n",
       " 0.0004288970385985598,\n",
       " 0.9857626172470296,\n",
       " 0.1829828793904266,\n",
       " 0.0063474399180263735,\n",
       " 0.16609874609138608,\n",
       " 1.999374070575449e-09,\n",
       " 0.8467251720594842,\n",
       " 0.3499340523538905,\n",
       " 0.5886187586723212,\n",
       " 0.3681893957707475,\n",
       " 0.28189119178479843,\n",
       " 0.35999632029502415,\n",
       " 0.09313240515680532,\n",
       " 0.6739358198921367,\n",
       " 3.1010360887943745e-05,\n",
       " 0.01695643871365083,\n",
       " 0.522307370795892,\n",
       " 4.2747073076636e-05,\n",
       " 0.11379483716868283,\n",
       " 0.2066846073127886,\n",
       " 0.15789321490950425,\n",
       " 0.5796525116832506,\n",
       " 0.7170851867976054,\n",
       " 0.004114840248516224,\n",
       " 0.00971936995587526,\n",
       " 0.8719609447835,\n",
       " 1.8985464473516803e-05,\n",
       " 5.773783646108104e-07,\n",
       " 0.10729842391209375,\n",
       " 0.33400462554019483,\n",
       " 0.6427848345218387,\n",
       " 0.0010144202251949174,\n",
       " 0.05267959298737464,\n",
       " 0.33374463122379705,\n",
       " 0.1043389921578242,\n",
       " 0.1051637058600748,\n",
       " 0.8714183615216824,\n",
       " 0.12133760089008817,\n",
       " 0.20678685858562057,\n",
       " 0.0022674227466019186,\n",
       " 0.001229608731551359,\n",
       " 6.002739096316162e-07,\n",
       " 0.009314552244281047,\n",
       " 0.061291352376474706,\n",
       " 2.4243494529668295e-07,\n",
       " ...]"
      ]
     },
     "execution_count": 219,
     "metadata": {},
     "output_type": "execute_result"
    }
   ],
   "source": [
    "pvalue"
   ]
  },
  {
   "cell_type": "markdown",
   "metadata": {},
   "source": [
    "next step Welch test guys (enfin chais pas jai pas verif la variance)"
   ]
  },
  {
   "cell_type": "code",
   "execution_count": null,
   "metadata": {},
   "outputs": [],
   "source": []
  }
 ],
 "metadata": {
  "kernelspec": {
   "display_name": "Python 3.9.12 ('base')",
   "language": "python",
   "name": "python3"
  },
  "language_info": {
   "codemirror_mode": {
    "name": "ipython",
    "version": 3
   },
   "file_extension": ".py",
   "mimetype": "text/x-python",
   "name": "python",
   "nbconvert_exporter": "python",
   "pygments_lexer": "ipython3",
   "version": "3.9.12"
  },
  "orig_nbformat": 4,
  "vscode": {
   "interpreter": {
    "hash": "c0051bf15e6f5eb8fc38ebe6dca754a8fad5e89bb348636e1a79e96b02f6ad09"
   }
  }
 },
 "nbformat": 4,
 "nbformat_minor": 2
}
