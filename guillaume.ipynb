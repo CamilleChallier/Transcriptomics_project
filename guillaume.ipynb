{
 "cells": [
  {
   "cell_type": "code",
   "execution_count": 42,
   "metadata": {},
   "outputs": [],
   "source": [
    "import pandas as pd\n",
    "import numpy as np\n",
    "import os\n",
    "import matplotlib.pyplot as plt\n",
    "import seaborn as sns\n",
    "import plotly.express as px\n",
    "from sklearn.decomposition import PCA\n",
    "from scipy.stats import ttest_ind\n",
    "from statsmodels.stats.multitest import fdrcorrection, multipletests\n",
    "import statsmodels"
   ]
  },
  {
   "cell_type": "markdown",
   "metadata": {},
   "source": [
    "### 1. Load and visualize the data"
   ]
  },
  {
   "cell_type": "markdown",
   "metadata": {},
   "source": [
    "a) "
   ]
  },
  {
   "cell_type": "code",
   "execution_count": 43,
   "metadata": {},
   "outputs": [],
   "source": [
    "core_path = './data'\n",
    "transcriptomics = pd.read_csv( os.path.join(core_path, 'transcriptomics.dataset.txt'),sep= \"\\t\")"
   ]
  },
  {
   "cell_type": "code",
   "execution_count": 44,
   "metadata": {},
   "outputs": [
    {
     "data": {
      "text/html": [
       "<div>\n",
       "<style scoped>\n",
       "    .dataframe tbody tr th:only-of-type {\n",
       "        vertical-align: middle;\n",
       "    }\n",
       "\n",
       "    .dataframe tbody tr th {\n",
       "        vertical-align: top;\n",
       "    }\n",
       "\n",
       "    .dataframe thead th {\n",
       "        text-align: right;\n",
       "    }\n",
       "</style>\n",
       "<table border=\"1\" class=\"dataframe\">\n",
       "  <thead>\n",
       "    <tr style=\"text-align: right;\">\n",
       "      <th></th>\n",
       "      <th>Gene_ID</th>\n",
       "      <th>Sample_1_preadi</th>\n",
       "      <th>Sample_2_preadi</th>\n",
       "      <th>Sample_3_preadi</th>\n",
       "      <th>Sample_4_preadi</th>\n",
       "      <th>Sample_5_preadi</th>\n",
       "      <th>Sample_6_preadi</th>\n",
       "      <th>Sample_7_preadi</th>\n",
       "      <th>Sample_8_preadi</th>\n",
       "      <th>Sample_9_preadi</th>\n",
       "      <th>...</th>\n",
       "      <th>Sample_71_adipo</th>\n",
       "      <th>Sample_72_adipo</th>\n",
       "      <th>Sample_73_adipo</th>\n",
       "      <th>Sample_74_adipo</th>\n",
       "      <th>Sample_75_adipo</th>\n",
       "      <th>Sample_76_adipo</th>\n",
       "      <th>Sample_77_adipo</th>\n",
       "      <th>Sample_78_adipo</th>\n",
       "      <th>Sample_79_adipo</th>\n",
       "      <th>Sample_80_adipo</th>\n",
       "    </tr>\n",
       "  </thead>\n",
       "  <tbody>\n",
       "    <tr>\n",
       "      <th>0</th>\n",
       "      <td>ENSG00000000003</td>\n",
       "      <td>18</td>\n",
       "      <td>12</td>\n",
       "      <td>9</td>\n",
       "      <td>20</td>\n",
       "      <td>9</td>\n",
       "      <td>13</td>\n",
       "      <td>20</td>\n",
       "      <td>8</td>\n",
       "      <td>4</td>\n",
       "      <td>...</td>\n",
       "      <td>9</td>\n",
       "      <td>9</td>\n",
       "      <td>30</td>\n",
       "      <td>9</td>\n",
       "      <td>23</td>\n",
       "      <td>16</td>\n",
       "      <td>3</td>\n",
       "      <td>14</td>\n",
       "      <td>11</td>\n",
       "      <td>16</td>\n",
       "    </tr>\n",
       "    <tr>\n",
       "      <th>1</th>\n",
       "      <td>ENSG00000000005</td>\n",
       "      <td>0</td>\n",
       "      <td>0</td>\n",
       "      <td>0</td>\n",
       "      <td>2</td>\n",
       "      <td>0</td>\n",
       "      <td>0</td>\n",
       "      <td>0</td>\n",
       "      <td>0</td>\n",
       "      <td>0</td>\n",
       "      <td>...</td>\n",
       "      <td>0</td>\n",
       "      <td>1</td>\n",
       "      <td>29</td>\n",
       "      <td>2</td>\n",
       "      <td>22</td>\n",
       "      <td>3</td>\n",
       "      <td>0</td>\n",
       "      <td>2</td>\n",
       "      <td>0</td>\n",
       "      <td>5</td>\n",
       "    </tr>\n",
       "    <tr>\n",
       "      <th>2</th>\n",
       "      <td>ENSG00000000419</td>\n",
       "      <td>10</td>\n",
       "      <td>9</td>\n",
       "      <td>9</td>\n",
       "      <td>8</td>\n",
       "      <td>10</td>\n",
       "      <td>10</td>\n",
       "      <td>6</td>\n",
       "      <td>35</td>\n",
       "      <td>13</td>\n",
       "      <td>...</td>\n",
       "      <td>3</td>\n",
       "      <td>9</td>\n",
       "      <td>9</td>\n",
       "      <td>15</td>\n",
       "      <td>8</td>\n",
       "      <td>9</td>\n",
       "      <td>9</td>\n",
       "      <td>4</td>\n",
       "      <td>16</td>\n",
       "      <td>5</td>\n",
       "    </tr>\n",
       "    <tr>\n",
       "      <th>3</th>\n",
       "      <td>ENSG00000000457</td>\n",
       "      <td>0</td>\n",
       "      <td>11</td>\n",
       "      <td>0</td>\n",
       "      <td>6</td>\n",
       "      <td>2</td>\n",
       "      <td>12</td>\n",
       "      <td>11</td>\n",
       "      <td>1</td>\n",
       "      <td>2</td>\n",
       "      <td>...</td>\n",
       "      <td>9</td>\n",
       "      <td>8</td>\n",
       "      <td>8</td>\n",
       "      <td>5</td>\n",
       "      <td>6</td>\n",
       "      <td>0</td>\n",
       "      <td>12</td>\n",
       "      <td>13</td>\n",
       "      <td>4</td>\n",
       "      <td>11</td>\n",
       "    </tr>\n",
       "    <tr>\n",
       "      <th>4</th>\n",
       "      <td>ENSG00000000460</td>\n",
       "      <td>0</td>\n",
       "      <td>0</td>\n",
       "      <td>14</td>\n",
       "      <td>4</td>\n",
       "      <td>5</td>\n",
       "      <td>0</td>\n",
       "      <td>0</td>\n",
       "      <td>6</td>\n",
       "      <td>4</td>\n",
       "      <td>...</td>\n",
       "      <td>0</td>\n",
       "      <td>0</td>\n",
       "      <td>3</td>\n",
       "      <td>0</td>\n",
       "      <td>1</td>\n",
       "      <td>0</td>\n",
       "      <td>1</td>\n",
       "      <td>4</td>\n",
       "      <td>0</td>\n",
       "      <td>10</td>\n",
       "    </tr>\n",
       "    <tr>\n",
       "      <th>...</th>\n",
       "      <td>...</td>\n",
       "      <td>...</td>\n",
       "      <td>...</td>\n",
       "      <td>...</td>\n",
       "      <td>...</td>\n",
       "      <td>...</td>\n",
       "      <td>...</td>\n",
       "      <td>...</td>\n",
       "      <td>...</td>\n",
       "      <td>...</td>\n",
       "      <td>...</td>\n",
       "      <td>...</td>\n",
       "      <td>...</td>\n",
       "      <td>...</td>\n",
       "      <td>...</td>\n",
       "      <td>...</td>\n",
       "      <td>...</td>\n",
       "      <td>...</td>\n",
       "      <td>...</td>\n",
       "      <td>...</td>\n",
       "      <td>...</td>\n",
       "    </tr>\n",
       "    <tr>\n",
       "      <th>63672</th>\n",
       "      <td>ENSG00000273489</td>\n",
       "      <td>0</td>\n",
       "      <td>0</td>\n",
       "      <td>0</td>\n",
       "      <td>2</td>\n",
       "      <td>0</td>\n",
       "      <td>1</td>\n",
       "      <td>8</td>\n",
       "      <td>0</td>\n",
       "      <td>0</td>\n",
       "      <td>...</td>\n",
       "      <td>0</td>\n",
       "      <td>0</td>\n",
       "      <td>0</td>\n",
       "      <td>0</td>\n",
       "      <td>0</td>\n",
       "      <td>0</td>\n",
       "      <td>0</td>\n",
       "      <td>0</td>\n",
       "      <td>0</td>\n",
       "      <td>0</td>\n",
       "    </tr>\n",
       "    <tr>\n",
       "      <th>63673</th>\n",
       "      <td>ENSG00000273490</td>\n",
       "      <td>0</td>\n",
       "      <td>0</td>\n",
       "      <td>0</td>\n",
       "      <td>0</td>\n",
       "      <td>0</td>\n",
       "      <td>0</td>\n",
       "      <td>0</td>\n",
       "      <td>0</td>\n",
       "      <td>0</td>\n",
       "      <td>...</td>\n",
       "      <td>0</td>\n",
       "      <td>0</td>\n",
       "      <td>0</td>\n",
       "      <td>0</td>\n",
       "      <td>0</td>\n",
       "      <td>0</td>\n",
       "      <td>0</td>\n",
       "      <td>0</td>\n",
       "      <td>0</td>\n",
       "      <td>0</td>\n",
       "    </tr>\n",
       "    <tr>\n",
       "      <th>63674</th>\n",
       "      <td>ENSG00000273491</td>\n",
       "      <td>0</td>\n",
       "      <td>0</td>\n",
       "      <td>0</td>\n",
       "      <td>0</td>\n",
       "      <td>0</td>\n",
       "      <td>0</td>\n",
       "      <td>0</td>\n",
       "      <td>0</td>\n",
       "      <td>0</td>\n",
       "      <td>...</td>\n",
       "      <td>0</td>\n",
       "      <td>0</td>\n",
       "      <td>0</td>\n",
       "      <td>0</td>\n",
       "      <td>0</td>\n",
       "      <td>0</td>\n",
       "      <td>0</td>\n",
       "      <td>0</td>\n",
       "      <td>0</td>\n",
       "      <td>0</td>\n",
       "    </tr>\n",
       "    <tr>\n",
       "      <th>63675</th>\n",
       "      <td>ENSG00000273492</td>\n",
       "      <td>0</td>\n",
       "      <td>0</td>\n",
       "      <td>0</td>\n",
       "      <td>0</td>\n",
       "      <td>0</td>\n",
       "      <td>0</td>\n",
       "      <td>0</td>\n",
       "      <td>0</td>\n",
       "      <td>0</td>\n",
       "      <td>...</td>\n",
       "      <td>0</td>\n",
       "      <td>0</td>\n",
       "      <td>0</td>\n",
       "      <td>0</td>\n",
       "      <td>0</td>\n",
       "      <td>0</td>\n",
       "      <td>0</td>\n",
       "      <td>0</td>\n",
       "      <td>0</td>\n",
       "      <td>0</td>\n",
       "    </tr>\n",
       "    <tr>\n",
       "      <th>63676</th>\n",
       "      <td>ENSG00000273493</td>\n",
       "      <td>0</td>\n",
       "      <td>0</td>\n",
       "      <td>0</td>\n",
       "      <td>0</td>\n",
       "      <td>0</td>\n",
       "      <td>0</td>\n",
       "      <td>0</td>\n",
       "      <td>0</td>\n",
       "      <td>1</td>\n",
       "      <td>...</td>\n",
       "      <td>0</td>\n",
       "      <td>0</td>\n",
       "      <td>0</td>\n",
       "      <td>0</td>\n",
       "      <td>0</td>\n",
       "      <td>0</td>\n",
       "      <td>0</td>\n",
       "      <td>0</td>\n",
       "      <td>3</td>\n",
       "      <td>0</td>\n",
       "    </tr>\n",
       "  </tbody>\n",
       "</table>\n",
       "<p>63677 rows × 81 columns</p>\n",
       "</div>"
      ],
      "text/plain": [
       "               Gene_ID  Sample_1_preadi  Sample_2_preadi  Sample_3_preadi  \\\n",
       "0      ENSG00000000003               18               12                9   \n",
       "1      ENSG00000000005                0                0                0   \n",
       "2      ENSG00000000419               10                9                9   \n",
       "3      ENSG00000000457                0               11                0   \n",
       "4      ENSG00000000460                0                0               14   \n",
       "...                ...              ...              ...              ...   \n",
       "63672  ENSG00000273489                0                0                0   \n",
       "63673  ENSG00000273490                0                0                0   \n",
       "63674  ENSG00000273491                0                0                0   \n",
       "63675  ENSG00000273492                0                0                0   \n",
       "63676  ENSG00000273493                0                0                0   \n",
       "\n",
       "       Sample_4_preadi  Sample_5_preadi  Sample_6_preadi  Sample_7_preadi  \\\n",
       "0                   20                9               13               20   \n",
       "1                    2                0                0                0   \n",
       "2                    8               10               10                6   \n",
       "3                    6                2               12               11   \n",
       "4                    4                5                0                0   \n",
       "...                ...              ...              ...              ...   \n",
       "63672                2                0                1                8   \n",
       "63673                0                0                0                0   \n",
       "63674                0                0                0                0   \n",
       "63675                0                0                0                0   \n",
       "63676                0                0                0                0   \n",
       "\n",
       "       Sample_8_preadi  Sample_9_preadi  ...  Sample_71_adipo  \\\n",
       "0                    8                4  ...                9   \n",
       "1                    0                0  ...                0   \n",
       "2                   35               13  ...                3   \n",
       "3                    1                2  ...                9   \n",
       "4                    6                4  ...                0   \n",
       "...                ...              ...  ...              ...   \n",
       "63672                0                0  ...                0   \n",
       "63673                0                0  ...                0   \n",
       "63674                0                0  ...                0   \n",
       "63675                0                0  ...                0   \n",
       "63676                0                1  ...                0   \n",
       "\n",
       "       Sample_72_adipo  Sample_73_adipo  Sample_74_adipo  Sample_75_adipo  \\\n",
       "0                    9               30                9               23   \n",
       "1                    1               29                2               22   \n",
       "2                    9                9               15                8   \n",
       "3                    8                8                5                6   \n",
       "4                    0                3                0                1   \n",
       "...                ...              ...              ...              ...   \n",
       "63672                0                0                0                0   \n",
       "63673                0                0                0                0   \n",
       "63674                0                0                0                0   \n",
       "63675                0                0                0                0   \n",
       "63676                0                0                0                0   \n",
       "\n",
       "       Sample_76_adipo  Sample_77_adipo  Sample_78_adipo  Sample_79_adipo  \\\n",
       "0                   16                3               14               11   \n",
       "1                    3                0                2                0   \n",
       "2                    9                9                4               16   \n",
       "3                    0               12               13                4   \n",
       "4                    0                1                4                0   \n",
       "...                ...              ...              ...              ...   \n",
       "63672                0                0                0                0   \n",
       "63673                0                0                0                0   \n",
       "63674                0                0                0                0   \n",
       "63675                0                0                0                0   \n",
       "63676                0                0                0                3   \n",
       "\n",
       "       Sample_80_adipo  \n",
       "0                   16  \n",
       "1                    5  \n",
       "2                    5  \n",
       "3                   11  \n",
       "4                   10  \n",
       "...                ...  \n",
       "63672                0  \n",
       "63673                0  \n",
       "63674                0  \n",
       "63675                0  \n",
       "63676                0  \n",
       "\n",
       "[63677 rows x 81 columns]"
      ]
     },
     "execution_count": 44,
     "metadata": {},
     "output_type": "execute_result"
    }
   ],
   "source": [
    "transcriptomics.rename(columns = {\"Unnamed: 0\":'Gene_ID'})"
   ]
  },
  {
   "cell_type": "markdown",
   "metadata": {},
   "source": [
    "What is the size of the matrix ?"
   ]
  },
  {
   "cell_type": "markdown",
   "metadata": {},
   "source": [
    "63677 genes and 80 samples : matrix size 63677*80"
   ]
  },
  {
   "cell_type": "markdown",
   "metadata": {},
   "source": [
    "b) What type of data do you have? Normalized or raw read counts (integer)?"
   ]
  },
  {
   "cell_type": "markdown",
   "metadata": {},
   "source": [
    "number of transcripts, raw read counts"
   ]
  },
  {
   "cell_type": "markdown",
   "metadata": {},
   "source": [
    "c)"
   ]
  },
  {
   "cell_type": "code",
   "execution_count": 45,
   "metadata": {},
   "outputs": [
    {
     "name": "stdout",
     "output_type": "stream",
     "text": [
      "['Unnamed: 0', 'Sample_1_preadi', 'Sample_2_preadi', 'Sample_3_preadi', 'Sample_4_preadi', 'Sample_5_preadi', 'Sample_6_preadi', 'Sample_7_preadi', 'Sample_8_preadi', 'Sample_9_preadi', 'Sample_10_preadi', 'Sample_11_preadi', 'Sample_12_preadi', 'Sample_13_preadi', 'Sample_14_preadi', 'Sample_15_preadi', 'Sample_16_preadi', 'Sample_17_preadi', 'Sample_18_preadi', 'Sample_19_preadi', 'Sample_20_preadi', 'Sample_21_preadi', 'Sample_22_preadi', 'Sample_23_preadi', 'Sample_24_preadi', 'Sample_25_preadi', 'Sample_26_preadi', 'Sample_27_preadi', 'Sample_28_preadi', 'Sample_29_preadi', 'Sample_30_preadi', 'Sample_31_preadi', 'Sample_32_preadi', 'Sample_33_preadi', 'Sample_34_preadi', 'Sample_35_preadi', 'Sample_36_preadi', 'Sample_37_preadi', 'Sample_38_preadi', 'Sample_39_preadi', 'Sample_40_preadi', 'Sample_41_adipo', 'Sample_42_adipo', 'Sample_43_adipo', 'Sample_44_adipo', 'Sample_45_adipo', 'Sample_46_adipo', 'Sample_47_adipo', 'Sample_48_adipo', 'Sample_49_adipo', 'Sample_50_adipo', 'Sample_51_adipo', 'Sample_52_adipo', 'Sample_53_adipo', 'Sample_54_adipo', 'Sample_55_adipo', 'Sample_56_adipo', 'Sample_57_adipo', 'Sample_58_adipo', 'Sample_59_adipo', 'Sample_60_adipo', 'Sample_61_adipo', 'Sample_62_adipo', 'Sample_63_adipo', 'Sample_64_adipo', 'Sample_65_adipo', 'Sample_66_adipo', 'Sample_67_adipo', 'Sample_68_adipo', 'Sample_69_adipo', 'Sample_70_adipo', 'Sample_71_adipo', 'Sample_72_adipo', 'Sample_73_adipo', 'Sample_74_adipo', 'Sample_75_adipo', 'Sample_76_adipo', 'Sample_77_adipo', 'Sample_78_adipo', 'Sample_79_adipo', 'Sample_80_adipo']\n"
     ]
    }
   ],
   "source": [
    "print(list(transcriptomics.columns.values))"
   ]
  },
  {
   "cell_type": "code",
   "execution_count": 46,
   "metadata": {},
   "outputs": [],
   "source": [
    "dict_sample = {}\n",
    "for idx, sample in enumerate(transcriptomics.columns.values[1:]) :\n",
    "    if ( sample == \"Sample_{}_preadi\".format(idx+1) ):\n",
    "        #dict_sample[\"Sample_{}\".format(idx+1)]=\"PreAdipo\"\n",
    "        dict_sample[sample]=\"PreAdipo\"\n",
    "    else :\n",
    "        dict_sample[sample]=\"Adipo\"\n",
    "        "
   ]
  },
  {
   "cell_type": "code",
   "execution_count": 47,
   "metadata": {},
   "outputs": [
    {
     "data": {
      "text/html": [
       "<div>\n",
       "<style scoped>\n",
       "    .dataframe tbody tr th:only-of-type {\n",
       "        vertical-align: middle;\n",
       "    }\n",
       "\n",
       "    .dataframe tbody tr th {\n",
       "        vertical-align: top;\n",
       "    }\n",
       "\n",
       "    .dataframe thead th {\n",
       "        text-align: right;\n",
       "    }\n",
       "</style>\n",
       "<table border=\"1\" class=\"dataframe\">\n",
       "  <thead>\n",
       "    <tr style=\"text-align: right;\">\n",
       "      <th></th>\n",
       "      <th>Unnamed: 0</th>\n",
       "      <th>Sample_1_preadi</th>\n",
       "      <th>Sample_2_preadi</th>\n",
       "      <th>Sample_3_preadi</th>\n",
       "      <th>Sample_4_preadi</th>\n",
       "      <th>Sample_5_preadi</th>\n",
       "      <th>Sample_6_preadi</th>\n",
       "      <th>Sample_7_preadi</th>\n",
       "      <th>Sample_8_preadi</th>\n",
       "      <th>Sample_9_preadi</th>\n",
       "      <th>...</th>\n",
       "      <th>Sample_71_adipo</th>\n",
       "      <th>Sample_72_adipo</th>\n",
       "      <th>Sample_73_adipo</th>\n",
       "      <th>Sample_74_adipo</th>\n",
       "      <th>Sample_75_adipo</th>\n",
       "      <th>Sample_76_adipo</th>\n",
       "      <th>Sample_77_adipo</th>\n",
       "      <th>Sample_78_adipo</th>\n",
       "      <th>Sample_79_adipo</th>\n",
       "      <th>Sample_80_adipo</th>\n",
       "    </tr>\n",
       "  </thead>\n",
       "  <tbody>\n",
       "    <tr>\n",
       "      <th>0</th>\n",
       "      <td>ENSG00000000003</td>\n",
       "      <td>18</td>\n",
       "      <td>12</td>\n",
       "      <td>9</td>\n",
       "      <td>20</td>\n",
       "      <td>9</td>\n",
       "      <td>13</td>\n",
       "      <td>20</td>\n",
       "      <td>8</td>\n",
       "      <td>4</td>\n",
       "      <td>...</td>\n",
       "      <td>9</td>\n",
       "      <td>9</td>\n",
       "      <td>30</td>\n",
       "      <td>9</td>\n",
       "      <td>23</td>\n",
       "      <td>16</td>\n",
       "      <td>3</td>\n",
       "      <td>14</td>\n",
       "      <td>11</td>\n",
       "      <td>16</td>\n",
       "    </tr>\n",
       "    <tr>\n",
       "      <th>1</th>\n",
       "      <td>ENSG00000000005</td>\n",
       "      <td>0</td>\n",
       "      <td>0</td>\n",
       "      <td>0</td>\n",
       "      <td>2</td>\n",
       "      <td>0</td>\n",
       "      <td>0</td>\n",
       "      <td>0</td>\n",
       "      <td>0</td>\n",
       "      <td>0</td>\n",
       "      <td>...</td>\n",
       "      <td>0</td>\n",
       "      <td>1</td>\n",
       "      <td>29</td>\n",
       "      <td>2</td>\n",
       "      <td>22</td>\n",
       "      <td>3</td>\n",
       "      <td>0</td>\n",
       "      <td>2</td>\n",
       "      <td>0</td>\n",
       "      <td>5</td>\n",
       "    </tr>\n",
       "    <tr>\n",
       "      <th>2</th>\n",
       "      <td>ENSG00000000419</td>\n",
       "      <td>10</td>\n",
       "      <td>9</td>\n",
       "      <td>9</td>\n",
       "      <td>8</td>\n",
       "      <td>10</td>\n",
       "      <td>10</td>\n",
       "      <td>6</td>\n",
       "      <td>35</td>\n",
       "      <td>13</td>\n",
       "      <td>...</td>\n",
       "      <td>3</td>\n",
       "      <td>9</td>\n",
       "      <td>9</td>\n",
       "      <td>15</td>\n",
       "      <td>8</td>\n",
       "      <td>9</td>\n",
       "      <td>9</td>\n",
       "      <td>4</td>\n",
       "      <td>16</td>\n",
       "      <td>5</td>\n",
       "    </tr>\n",
       "    <tr>\n",
       "      <th>3</th>\n",
       "      <td>ENSG00000000457</td>\n",
       "      <td>0</td>\n",
       "      <td>11</td>\n",
       "      <td>0</td>\n",
       "      <td>6</td>\n",
       "      <td>2</td>\n",
       "      <td>12</td>\n",
       "      <td>11</td>\n",
       "      <td>1</td>\n",
       "      <td>2</td>\n",
       "      <td>...</td>\n",
       "      <td>9</td>\n",
       "      <td>8</td>\n",
       "      <td>8</td>\n",
       "      <td>5</td>\n",
       "      <td>6</td>\n",
       "      <td>0</td>\n",
       "      <td>12</td>\n",
       "      <td>13</td>\n",
       "      <td>4</td>\n",
       "      <td>11</td>\n",
       "    </tr>\n",
       "    <tr>\n",
       "      <th>4</th>\n",
       "      <td>ENSG00000000460</td>\n",
       "      <td>0</td>\n",
       "      <td>0</td>\n",
       "      <td>14</td>\n",
       "      <td>4</td>\n",
       "      <td>5</td>\n",
       "      <td>0</td>\n",
       "      <td>0</td>\n",
       "      <td>6</td>\n",
       "      <td>4</td>\n",
       "      <td>...</td>\n",
       "      <td>0</td>\n",
       "      <td>0</td>\n",
       "      <td>3</td>\n",
       "      <td>0</td>\n",
       "      <td>1</td>\n",
       "      <td>0</td>\n",
       "      <td>1</td>\n",
       "      <td>4</td>\n",
       "      <td>0</td>\n",
       "      <td>10</td>\n",
       "    </tr>\n",
       "    <tr>\n",
       "      <th>...</th>\n",
       "      <td>...</td>\n",
       "      <td>...</td>\n",
       "      <td>...</td>\n",
       "      <td>...</td>\n",
       "      <td>...</td>\n",
       "      <td>...</td>\n",
       "      <td>...</td>\n",
       "      <td>...</td>\n",
       "      <td>...</td>\n",
       "      <td>...</td>\n",
       "      <td>...</td>\n",
       "      <td>...</td>\n",
       "      <td>...</td>\n",
       "      <td>...</td>\n",
       "      <td>...</td>\n",
       "      <td>...</td>\n",
       "      <td>...</td>\n",
       "      <td>...</td>\n",
       "      <td>...</td>\n",
       "      <td>...</td>\n",
       "      <td>...</td>\n",
       "    </tr>\n",
       "    <tr>\n",
       "      <th>63672</th>\n",
       "      <td>ENSG00000273489</td>\n",
       "      <td>0</td>\n",
       "      <td>0</td>\n",
       "      <td>0</td>\n",
       "      <td>2</td>\n",
       "      <td>0</td>\n",
       "      <td>1</td>\n",
       "      <td>8</td>\n",
       "      <td>0</td>\n",
       "      <td>0</td>\n",
       "      <td>...</td>\n",
       "      <td>0</td>\n",
       "      <td>0</td>\n",
       "      <td>0</td>\n",
       "      <td>0</td>\n",
       "      <td>0</td>\n",
       "      <td>0</td>\n",
       "      <td>0</td>\n",
       "      <td>0</td>\n",
       "      <td>0</td>\n",
       "      <td>0</td>\n",
       "    </tr>\n",
       "    <tr>\n",
       "      <th>63673</th>\n",
       "      <td>ENSG00000273490</td>\n",
       "      <td>0</td>\n",
       "      <td>0</td>\n",
       "      <td>0</td>\n",
       "      <td>0</td>\n",
       "      <td>0</td>\n",
       "      <td>0</td>\n",
       "      <td>0</td>\n",
       "      <td>0</td>\n",
       "      <td>0</td>\n",
       "      <td>...</td>\n",
       "      <td>0</td>\n",
       "      <td>0</td>\n",
       "      <td>0</td>\n",
       "      <td>0</td>\n",
       "      <td>0</td>\n",
       "      <td>0</td>\n",
       "      <td>0</td>\n",
       "      <td>0</td>\n",
       "      <td>0</td>\n",
       "      <td>0</td>\n",
       "    </tr>\n",
       "    <tr>\n",
       "      <th>63674</th>\n",
       "      <td>ENSG00000273491</td>\n",
       "      <td>0</td>\n",
       "      <td>0</td>\n",
       "      <td>0</td>\n",
       "      <td>0</td>\n",
       "      <td>0</td>\n",
       "      <td>0</td>\n",
       "      <td>0</td>\n",
       "      <td>0</td>\n",
       "      <td>0</td>\n",
       "      <td>...</td>\n",
       "      <td>0</td>\n",
       "      <td>0</td>\n",
       "      <td>0</td>\n",
       "      <td>0</td>\n",
       "      <td>0</td>\n",
       "      <td>0</td>\n",
       "      <td>0</td>\n",
       "      <td>0</td>\n",
       "      <td>0</td>\n",
       "      <td>0</td>\n",
       "    </tr>\n",
       "    <tr>\n",
       "      <th>63675</th>\n",
       "      <td>ENSG00000273492</td>\n",
       "      <td>0</td>\n",
       "      <td>0</td>\n",
       "      <td>0</td>\n",
       "      <td>0</td>\n",
       "      <td>0</td>\n",
       "      <td>0</td>\n",
       "      <td>0</td>\n",
       "      <td>0</td>\n",
       "      <td>0</td>\n",
       "      <td>...</td>\n",
       "      <td>0</td>\n",
       "      <td>0</td>\n",
       "      <td>0</td>\n",
       "      <td>0</td>\n",
       "      <td>0</td>\n",
       "      <td>0</td>\n",
       "      <td>0</td>\n",
       "      <td>0</td>\n",
       "      <td>0</td>\n",
       "      <td>0</td>\n",
       "    </tr>\n",
       "    <tr>\n",
       "      <th>63676</th>\n",
       "      <td>ENSG00000273493</td>\n",
       "      <td>0</td>\n",
       "      <td>0</td>\n",
       "      <td>0</td>\n",
       "      <td>0</td>\n",
       "      <td>0</td>\n",
       "      <td>0</td>\n",
       "      <td>0</td>\n",
       "      <td>0</td>\n",
       "      <td>1</td>\n",
       "      <td>...</td>\n",
       "      <td>0</td>\n",
       "      <td>0</td>\n",
       "      <td>0</td>\n",
       "      <td>0</td>\n",
       "      <td>0</td>\n",
       "      <td>0</td>\n",
       "      <td>0</td>\n",
       "      <td>0</td>\n",
       "      <td>3</td>\n",
       "      <td>0</td>\n",
       "    </tr>\n",
       "  </tbody>\n",
       "</table>\n",
       "<p>63677 rows × 81 columns</p>\n",
       "</div>"
      ],
      "text/plain": [
       "            Unnamed: 0  Sample_1_preadi  Sample_2_preadi  Sample_3_preadi  \\\n",
       "0      ENSG00000000003               18               12                9   \n",
       "1      ENSG00000000005                0                0                0   \n",
       "2      ENSG00000000419               10                9                9   \n",
       "3      ENSG00000000457                0               11                0   \n",
       "4      ENSG00000000460                0                0               14   \n",
       "...                ...              ...              ...              ...   \n",
       "63672  ENSG00000273489                0                0                0   \n",
       "63673  ENSG00000273490                0                0                0   \n",
       "63674  ENSG00000273491                0                0                0   \n",
       "63675  ENSG00000273492                0                0                0   \n",
       "63676  ENSG00000273493                0                0                0   \n",
       "\n",
       "       Sample_4_preadi  Sample_5_preadi  Sample_6_preadi  Sample_7_preadi  \\\n",
       "0                   20                9               13               20   \n",
       "1                    2                0                0                0   \n",
       "2                    8               10               10                6   \n",
       "3                    6                2               12               11   \n",
       "4                    4                5                0                0   \n",
       "...                ...              ...              ...              ...   \n",
       "63672                2                0                1                8   \n",
       "63673                0                0                0                0   \n",
       "63674                0                0                0                0   \n",
       "63675                0                0                0                0   \n",
       "63676                0                0                0                0   \n",
       "\n",
       "       Sample_8_preadi  Sample_9_preadi  ...  Sample_71_adipo  \\\n",
       "0                    8                4  ...                9   \n",
       "1                    0                0  ...                0   \n",
       "2                   35               13  ...                3   \n",
       "3                    1                2  ...                9   \n",
       "4                    6                4  ...                0   \n",
       "...                ...              ...  ...              ...   \n",
       "63672                0                0  ...                0   \n",
       "63673                0                0  ...                0   \n",
       "63674                0                0  ...                0   \n",
       "63675                0                0  ...                0   \n",
       "63676                0                1  ...                0   \n",
       "\n",
       "       Sample_72_adipo  Sample_73_adipo  Sample_74_adipo  Sample_75_adipo  \\\n",
       "0                    9               30                9               23   \n",
       "1                    1               29                2               22   \n",
       "2                    9                9               15                8   \n",
       "3                    8                8                5                6   \n",
       "4                    0                3                0                1   \n",
       "...                ...              ...              ...              ...   \n",
       "63672                0                0                0                0   \n",
       "63673                0                0                0                0   \n",
       "63674                0                0                0                0   \n",
       "63675                0                0                0                0   \n",
       "63676                0                0                0                0   \n",
       "\n",
       "       Sample_76_adipo  Sample_77_adipo  Sample_78_adipo  Sample_79_adipo  \\\n",
       "0                   16                3               14               11   \n",
       "1                    3                0                2                0   \n",
       "2                    9                9                4               16   \n",
       "3                    0               12               13                4   \n",
       "4                    0                1                4                0   \n",
       "...                ...              ...              ...              ...   \n",
       "63672                0                0                0                0   \n",
       "63673                0                0                0                0   \n",
       "63674                0                0                0                0   \n",
       "63675                0                0                0                0   \n",
       "63676                0                0                0                3   \n",
       "\n",
       "       Sample_80_adipo  \n",
       "0                   16  \n",
       "1                    5  \n",
       "2                    5  \n",
       "3                   11  \n",
       "4                   10  \n",
       "...                ...  \n",
       "63672                0  \n",
       "63673                0  \n",
       "63674                0  \n",
       "63675                0  \n",
       "63676                0  \n",
       "\n",
       "[63677 rows x 81 columns]"
      ]
     },
     "execution_count": 47,
     "metadata": {},
     "output_type": "execute_result"
    }
   ],
   "source": [
    "transcriptomics"
   ]
  },
  {
   "cell_type": "markdown",
   "metadata": {},
   "source": [
    "d)"
   ]
  },
  {
   "cell_type": "code",
   "execution_count": 48,
   "metadata": {},
   "outputs": [
    {
     "data": {
      "text/html": [
       "<div>\n",
       "<style scoped>\n",
       "    .dataframe tbody tr th:only-of-type {\n",
       "        vertical-align: middle;\n",
       "    }\n",
       "\n",
       "    .dataframe tbody tr th {\n",
       "        vertical-align: top;\n",
       "    }\n",
       "\n",
       "    .dataframe thead th {\n",
       "        text-align: right;\n",
       "    }\n",
       "</style>\n",
       "<table border=\"1\" class=\"dataframe\">\n",
       "  <thead>\n",
       "    <tr style=\"text-align: right;\">\n",
       "      <th></th>\n",
       "      <th>Sample_1_preadi</th>\n",
       "      <th>Sample_2_preadi</th>\n",
       "      <th>Sample_3_preadi</th>\n",
       "      <th>Sample_4_preadi</th>\n",
       "      <th>Sample_5_preadi</th>\n",
       "      <th>Sample_6_preadi</th>\n",
       "      <th>Sample_7_preadi</th>\n",
       "      <th>Sample_8_preadi</th>\n",
       "      <th>Sample_9_preadi</th>\n",
       "      <th>Sample_10_preadi</th>\n",
       "      <th>...</th>\n",
       "      <th>Sample_71_adipo</th>\n",
       "      <th>Sample_72_adipo</th>\n",
       "      <th>Sample_73_adipo</th>\n",
       "      <th>Sample_74_adipo</th>\n",
       "      <th>Sample_75_adipo</th>\n",
       "      <th>Sample_76_adipo</th>\n",
       "      <th>Sample_77_adipo</th>\n",
       "      <th>Sample_78_adipo</th>\n",
       "      <th>Sample_79_adipo</th>\n",
       "      <th>Sample_80_adipo</th>\n",
       "    </tr>\n",
       "  </thead>\n",
       "  <tbody>\n",
       "    <tr>\n",
       "      <th>0</th>\n",
       "      <td>18</td>\n",
       "      <td>12</td>\n",
       "      <td>9</td>\n",
       "      <td>20</td>\n",
       "      <td>9</td>\n",
       "      <td>13</td>\n",
       "      <td>20</td>\n",
       "      <td>8</td>\n",
       "      <td>4</td>\n",
       "      <td>7</td>\n",
       "      <td>...</td>\n",
       "      <td>9</td>\n",
       "      <td>9</td>\n",
       "      <td>30</td>\n",
       "      <td>9</td>\n",
       "      <td>23</td>\n",
       "      <td>16</td>\n",
       "      <td>3</td>\n",
       "      <td>14</td>\n",
       "      <td>11</td>\n",
       "      <td>16</td>\n",
       "    </tr>\n",
       "    <tr>\n",
       "      <th>1</th>\n",
       "      <td>0</td>\n",
       "      <td>0</td>\n",
       "      <td>0</td>\n",
       "      <td>2</td>\n",
       "      <td>0</td>\n",
       "      <td>0</td>\n",
       "      <td>0</td>\n",
       "      <td>0</td>\n",
       "      <td>0</td>\n",
       "      <td>0</td>\n",
       "      <td>...</td>\n",
       "      <td>0</td>\n",
       "      <td>1</td>\n",
       "      <td>29</td>\n",
       "      <td>2</td>\n",
       "      <td>22</td>\n",
       "      <td>3</td>\n",
       "      <td>0</td>\n",
       "      <td>2</td>\n",
       "      <td>0</td>\n",
       "      <td>5</td>\n",
       "    </tr>\n",
       "    <tr>\n",
       "      <th>2</th>\n",
       "      <td>10</td>\n",
       "      <td>9</td>\n",
       "      <td>9</td>\n",
       "      <td>8</td>\n",
       "      <td>10</td>\n",
       "      <td>10</td>\n",
       "      <td>6</td>\n",
       "      <td>35</td>\n",
       "      <td>13</td>\n",
       "      <td>15</td>\n",
       "      <td>...</td>\n",
       "      <td>3</td>\n",
       "      <td>9</td>\n",
       "      <td>9</td>\n",
       "      <td>15</td>\n",
       "      <td>8</td>\n",
       "      <td>9</td>\n",
       "      <td>9</td>\n",
       "      <td>4</td>\n",
       "      <td>16</td>\n",
       "      <td>5</td>\n",
       "    </tr>\n",
       "    <tr>\n",
       "      <th>3</th>\n",
       "      <td>0</td>\n",
       "      <td>11</td>\n",
       "      <td>0</td>\n",
       "      <td>6</td>\n",
       "      <td>2</td>\n",
       "      <td>12</td>\n",
       "      <td>11</td>\n",
       "      <td>1</td>\n",
       "      <td>2</td>\n",
       "      <td>0</td>\n",
       "      <td>...</td>\n",
       "      <td>9</td>\n",
       "      <td>8</td>\n",
       "      <td>8</td>\n",
       "      <td>5</td>\n",
       "      <td>6</td>\n",
       "      <td>0</td>\n",
       "      <td>12</td>\n",
       "      <td>13</td>\n",
       "      <td>4</td>\n",
       "      <td>11</td>\n",
       "    </tr>\n",
       "    <tr>\n",
       "      <th>4</th>\n",
       "      <td>0</td>\n",
       "      <td>0</td>\n",
       "      <td>14</td>\n",
       "      <td>4</td>\n",
       "      <td>5</td>\n",
       "      <td>0</td>\n",
       "      <td>0</td>\n",
       "      <td>6</td>\n",
       "      <td>4</td>\n",
       "      <td>0</td>\n",
       "      <td>...</td>\n",
       "      <td>0</td>\n",
       "      <td>0</td>\n",
       "      <td>3</td>\n",
       "      <td>0</td>\n",
       "      <td>1</td>\n",
       "      <td>0</td>\n",
       "      <td>1</td>\n",
       "      <td>4</td>\n",
       "      <td>0</td>\n",
       "      <td>10</td>\n",
       "    </tr>\n",
       "    <tr>\n",
       "      <th>...</th>\n",
       "      <td>...</td>\n",
       "      <td>...</td>\n",
       "      <td>...</td>\n",
       "      <td>...</td>\n",
       "      <td>...</td>\n",
       "      <td>...</td>\n",
       "      <td>...</td>\n",
       "      <td>...</td>\n",
       "      <td>...</td>\n",
       "      <td>...</td>\n",
       "      <td>...</td>\n",
       "      <td>...</td>\n",
       "      <td>...</td>\n",
       "      <td>...</td>\n",
       "      <td>...</td>\n",
       "      <td>...</td>\n",
       "      <td>...</td>\n",
       "      <td>...</td>\n",
       "      <td>...</td>\n",
       "      <td>...</td>\n",
       "      <td>...</td>\n",
       "    </tr>\n",
       "    <tr>\n",
       "      <th>63672</th>\n",
       "      <td>0</td>\n",
       "      <td>0</td>\n",
       "      <td>0</td>\n",
       "      <td>2</td>\n",
       "      <td>0</td>\n",
       "      <td>1</td>\n",
       "      <td>8</td>\n",
       "      <td>0</td>\n",
       "      <td>0</td>\n",
       "      <td>0</td>\n",
       "      <td>...</td>\n",
       "      <td>0</td>\n",
       "      <td>0</td>\n",
       "      <td>0</td>\n",
       "      <td>0</td>\n",
       "      <td>0</td>\n",
       "      <td>0</td>\n",
       "      <td>0</td>\n",
       "      <td>0</td>\n",
       "      <td>0</td>\n",
       "      <td>0</td>\n",
       "    </tr>\n",
       "    <tr>\n",
       "      <th>63673</th>\n",
       "      <td>0</td>\n",
       "      <td>0</td>\n",
       "      <td>0</td>\n",
       "      <td>0</td>\n",
       "      <td>0</td>\n",
       "      <td>0</td>\n",
       "      <td>0</td>\n",
       "      <td>0</td>\n",
       "      <td>0</td>\n",
       "      <td>0</td>\n",
       "      <td>...</td>\n",
       "      <td>0</td>\n",
       "      <td>0</td>\n",
       "      <td>0</td>\n",
       "      <td>0</td>\n",
       "      <td>0</td>\n",
       "      <td>0</td>\n",
       "      <td>0</td>\n",
       "      <td>0</td>\n",
       "      <td>0</td>\n",
       "      <td>0</td>\n",
       "    </tr>\n",
       "    <tr>\n",
       "      <th>63674</th>\n",
       "      <td>0</td>\n",
       "      <td>0</td>\n",
       "      <td>0</td>\n",
       "      <td>0</td>\n",
       "      <td>0</td>\n",
       "      <td>0</td>\n",
       "      <td>0</td>\n",
       "      <td>0</td>\n",
       "      <td>0</td>\n",
       "      <td>0</td>\n",
       "      <td>...</td>\n",
       "      <td>0</td>\n",
       "      <td>0</td>\n",
       "      <td>0</td>\n",
       "      <td>0</td>\n",
       "      <td>0</td>\n",
       "      <td>0</td>\n",
       "      <td>0</td>\n",
       "      <td>0</td>\n",
       "      <td>0</td>\n",
       "      <td>0</td>\n",
       "    </tr>\n",
       "    <tr>\n",
       "      <th>63675</th>\n",
       "      <td>0</td>\n",
       "      <td>0</td>\n",
       "      <td>0</td>\n",
       "      <td>0</td>\n",
       "      <td>0</td>\n",
       "      <td>0</td>\n",
       "      <td>0</td>\n",
       "      <td>0</td>\n",
       "      <td>0</td>\n",
       "      <td>0</td>\n",
       "      <td>...</td>\n",
       "      <td>0</td>\n",
       "      <td>0</td>\n",
       "      <td>0</td>\n",
       "      <td>0</td>\n",
       "      <td>0</td>\n",
       "      <td>0</td>\n",
       "      <td>0</td>\n",
       "      <td>0</td>\n",
       "      <td>0</td>\n",
       "      <td>0</td>\n",
       "    </tr>\n",
       "    <tr>\n",
       "      <th>63676</th>\n",
       "      <td>0</td>\n",
       "      <td>0</td>\n",
       "      <td>0</td>\n",
       "      <td>0</td>\n",
       "      <td>0</td>\n",
       "      <td>0</td>\n",
       "      <td>0</td>\n",
       "      <td>0</td>\n",
       "      <td>1</td>\n",
       "      <td>0</td>\n",
       "      <td>...</td>\n",
       "      <td>0</td>\n",
       "      <td>0</td>\n",
       "      <td>0</td>\n",
       "      <td>0</td>\n",
       "      <td>0</td>\n",
       "      <td>0</td>\n",
       "      <td>0</td>\n",
       "      <td>0</td>\n",
       "      <td>3</td>\n",
       "      <td>0</td>\n",
       "    </tr>\n",
       "  </tbody>\n",
       "</table>\n",
       "<p>63677 rows × 80 columns</p>\n",
       "</div>"
      ],
      "text/plain": [
       "       Sample_1_preadi  Sample_2_preadi  Sample_3_preadi  Sample_4_preadi  \\\n",
       "0                   18               12                9               20   \n",
       "1                    0                0                0                2   \n",
       "2                   10                9                9                8   \n",
       "3                    0               11                0                6   \n",
       "4                    0                0               14                4   \n",
       "...                ...              ...              ...              ...   \n",
       "63672                0                0                0                2   \n",
       "63673                0                0                0                0   \n",
       "63674                0                0                0                0   \n",
       "63675                0                0                0                0   \n",
       "63676                0                0                0                0   \n",
       "\n",
       "       Sample_5_preadi  Sample_6_preadi  Sample_7_preadi  Sample_8_preadi  \\\n",
       "0                    9               13               20                8   \n",
       "1                    0                0                0                0   \n",
       "2                   10               10                6               35   \n",
       "3                    2               12               11                1   \n",
       "4                    5                0                0                6   \n",
       "...                ...              ...              ...              ...   \n",
       "63672                0                1                8                0   \n",
       "63673                0                0                0                0   \n",
       "63674                0                0                0                0   \n",
       "63675                0                0                0                0   \n",
       "63676                0                0                0                0   \n",
       "\n",
       "       Sample_9_preadi  Sample_10_preadi  ...  Sample_71_adipo  \\\n",
       "0                    4                 7  ...                9   \n",
       "1                    0                 0  ...                0   \n",
       "2                   13                15  ...                3   \n",
       "3                    2                 0  ...                9   \n",
       "4                    4                 0  ...                0   \n",
       "...                ...               ...  ...              ...   \n",
       "63672                0                 0  ...                0   \n",
       "63673                0                 0  ...                0   \n",
       "63674                0                 0  ...                0   \n",
       "63675                0                 0  ...                0   \n",
       "63676                1                 0  ...                0   \n",
       "\n",
       "       Sample_72_adipo  Sample_73_adipo  Sample_74_adipo  Sample_75_adipo  \\\n",
       "0                    9               30                9               23   \n",
       "1                    1               29                2               22   \n",
       "2                    9                9               15                8   \n",
       "3                    8                8                5                6   \n",
       "4                    0                3                0                1   \n",
       "...                ...              ...              ...              ...   \n",
       "63672                0                0                0                0   \n",
       "63673                0                0                0                0   \n",
       "63674                0                0                0                0   \n",
       "63675                0                0                0                0   \n",
       "63676                0                0                0                0   \n",
       "\n",
       "       Sample_76_adipo  Sample_77_adipo  Sample_78_adipo  Sample_79_adipo  \\\n",
       "0                   16                3               14               11   \n",
       "1                    3                0                2                0   \n",
       "2                    9                9                4               16   \n",
       "3                    0               12               13                4   \n",
       "4                    0                1                4                0   \n",
       "...                ...              ...              ...              ...   \n",
       "63672                0                0                0                0   \n",
       "63673                0                0                0                0   \n",
       "63674                0                0                0                0   \n",
       "63675                0                0                0                0   \n",
       "63676                0                0                0                3   \n",
       "\n",
       "       Sample_80_adipo  \n",
       "0                   16  \n",
       "1                    5  \n",
       "2                    5  \n",
       "3                   11  \n",
       "4                   10  \n",
       "...                ...  \n",
       "63672                0  \n",
       "63673                0  \n",
       "63674                0  \n",
       "63675                0  \n",
       "63676                0  \n",
       "\n",
       "[63677 rows x 80 columns]"
      ]
     },
     "execution_count": 48,
     "metadata": {},
     "output_type": "execute_result"
    }
   ],
   "source": [
    "transcriptomics.iloc[:,1:]"
   ]
  },
  {
   "cell_type": "code",
   "execution_count": 49,
   "metadata": {},
   "outputs": [
    {
     "data": {
      "text/plain": [
       "0         True\n",
       "1         True\n",
       "2         True\n",
       "3         True\n",
       "4         True\n",
       "         ...  \n",
       "63672     True\n",
       "63673    False\n",
       "63674    False\n",
       "63675    False\n",
       "63676     True\n",
       "Length: 63677, dtype: bool"
      ]
     },
     "execution_count": 49,
     "metadata": {},
     "output_type": "execute_result"
    }
   ],
   "source": [
    "(transcriptomics.iloc[:,1:] != 0).any(axis=1)"
   ]
  },
  {
   "cell_type": "code",
   "execution_count": 50,
   "metadata": {},
   "outputs": [],
   "source": [
    "transcriptomics = transcriptomics.loc[(transcriptomics.iloc[:,1:] != 0).any(axis=1),:]"
   ]
  },
  {
   "cell_type": "code",
   "execution_count": 51,
   "metadata": {},
   "outputs": [
    {
     "data": {
      "text/html": [
       "<div>\n",
       "<style scoped>\n",
       "    .dataframe tbody tr th:only-of-type {\n",
       "        vertical-align: middle;\n",
       "    }\n",
       "\n",
       "    .dataframe tbody tr th {\n",
       "        vertical-align: top;\n",
       "    }\n",
       "\n",
       "    .dataframe thead th {\n",
       "        text-align: right;\n",
       "    }\n",
       "</style>\n",
       "<table border=\"1\" class=\"dataframe\">\n",
       "  <thead>\n",
       "    <tr style=\"text-align: right;\">\n",
       "      <th></th>\n",
       "      <th>Unnamed: 0</th>\n",
       "      <th>Sample_1_preadi</th>\n",
       "      <th>Sample_2_preadi</th>\n",
       "      <th>Sample_3_preadi</th>\n",
       "      <th>Sample_4_preadi</th>\n",
       "      <th>Sample_5_preadi</th>\n",
       "      <th>Sample_6_preadi</th>\n",
       "      <th>Sample_7_preadi</th>\n",
       "      <th>Sample_8_preadi</th>\n",
       "      <th>Sample_9_preadi</th>\n",
       "      <th>...</th>\n",
       "      <th>Sample_71_adipo</th>\n",
       "      <th>Sample_72_adipo</th>\n",
       "      <th>Sample_73_adipo</th>\n",
       "      <th>Sample_74_adipo</th>\n",
       "      <th>Sample_75_adipo</th>\n",
       "      <th>Sample_76_adipo</th>\n",
       "      <th>Sample_77_adipo</th>\n",
       "      <th>Sample_78_adipo</th>\n",
       "      <th>Sample_79_adipo</th>\n",
       "      <th>Sample_80_adipo</th>\n",
       "    </tr>\n",
       "  </thead>\n",
       "  <tbody>\n",
       "    <tr>\n",
       "      <th>0</th>\n",
       "      <td>ENSG00000000003</td>\n",
       "      <td>18</td>\n",
       "      <td>12</td>\n",
       "      <td>9</td>\n",
       "      <td>20</td>\n",
       "      <td>9</td>\n",
       "      <td>13</td>\n",
       "      <td>20</td>\n",
       "      <td>8</td>\n",
       "      <td>4</td>\n",
       "      <td>...</td>\n",
       "      <td>9</td>\n",
       "      <td>9</td>\n",
       "      <td>30</td>\n",
       "      <td>9</td>\n",
       "      <td>23</td>\n",
       "      <td>16</td>\n",
       "      <td>3</td>\n",
       "      <td>14</td>\n",
       "      <td>11</td>\n",
       "      <td>16</td>\n",
       "    </tr>\n",
       "    <tr>\n",
       "      <th>1</th>\n",
       "      <td>ENSG00000000005</td>\n",
       "      <td>0</td>\n",
       "      <td>0</td>\n",
       "      <td>0</td>\n",
       "      <td>2</td>\n",
       "      <td>0</td>\n",
       "      <td>0</td>\n",
       "      <td>0</td>\n",
       "      <td>0</td>\n",
       "      <td>0</td>\n",
       "      <td>...</td>\n",
       "      <td>0</td>\n",
       "      <td>1</td>\n",
       "      <td>29</td>\n",
       "      <td>2</td>\n",
       "      <td>22</td>\n",
       "      <td>3</td>\n",
       "      <td>0</td>\n",
       "      <td>2</td>\n",
       "      <td>0</td>\n",
       "      <td>5</td>\n",
       "    </tr>\n",
       "    <tr>\n",
       "      <th>2</th>\n",
       "      <td>ENSG00000000419</td>\n",
       "      <td>10</td>\n",
       "      <td>9</td>\n",
       "      <td>9</td>\n",
       "      <td>8</td>\n",
       "      <td>10</td>\n",
       "      <td>10</td>\n",
       "      <td>6</td>\n",
       "      <td>35</td>\n",
       "      <td>13</td>\n",
       "      <td>...</td>\n",
       "      <td>3</td>\n",
       "      <td>9</td>\n",
       "      <td>9</td>\n",
       "      <td>15</td>\n",
       "      <td>8</td>\n",
       "      <td>9</td>\n",
       "      <td>9</td>\n",
       "      <td>4</td>\n",
       "      <td>16</td>\n",
       "      <td>5</td>\n",
       "    </tr>\n",
       "    <tr>\n",
       "      <th>3</th>\n",
       "      <td>ENSG00000000457</td>\n",
       "      <td>0</td>\n",
       "      <td>11</td>\n",
       "      <td>0</td>\n",
       "      <td>6</td>\n",
       "      <td>2</td>\n",
       "      <td>12</td>\n",
       "      <td>11</td>\n",
       "      <td>1</td>\n",
       "      <td>2</td>\n",
       "      <td>...</td>\n",
       "      <td>9</td>\n",
       "      <td>8</td>\n",
       "      <td>8</td>\n",
       "      <td>5</td>\n",
       "      <td>6</td>\n",
       "      <td>0</td>\n",
       "      <td>12</td>\n",
       "      <td>13</td>\n",
       "      <td>4</td>\n",
       "      <td>11</td>\n",
       "    </tr>\n",
       "    <tr>\n",
       "      <th>4</th>\n",
       "      <td>ENSG00000000460</td>\n",
       "      <td>0</td>\n",
       "      <td>0</td>\n",
       "      <td>14</td>\n",
       "      <td>4</td>\n",
       "      <td>5</td>\n",
       "      <td>0</td>\n",
       "      <td>0</td>\n",
       "      <td>6</td>\n",
       "      <td>4</td>\n",
       "      <td>...</td>\n",
       "      <td>0</td>\n",
       "      <td>0</td>\n",
       "      <td>3</td>\n",
       "      <td>0</td>\n",
       "      <td>1</td>\n",
       "      <td>0</td>\n",
       "      <td>1</td>\n",
       "      <td>4</td>\n",
       "      <td>0</td>\n",
       "      <td>10</td>\n",
       "    </tr>\n",
       "    <tr>\n",
       "      <th>...</th>\n",
       "      <td>...</td>\n",
       "      <td>...</td>\n",
       "      <td>...</td>\n",
       "      <td>...</td>\n",
       "      <td>...</td>\n",
       "      <td>...</td>\n",
       "      <td>...</td>\n",
       "      <td>...</td>\n",
       "      <td>...</td>\n",
       "      <td>...</td>\n",
       "      <td>...</td>\n",
       "      <td>...</td>\n",
       "      <td>...</td>\n",
       "      <td>...</td>\n",
       "      <td>...</td>\n",
       "      <td>...</td>\n",
       "      <td>...</td>\n",
       "      <td>...</td>\n",
       "      <td>...</td>\n",
       "      <td>...</td>\n",
       "      <td>...</td>\n",
       "    </tr>\n",
       "    <tr>\n",
       "      <th>63668</th>\n",
       "      <td>ENSG00000273485</td>\n",
       "      <td>0</td>\n",
       "      <td>0</td>\n",
       "      <td>0</td>\n",
       "      <td>1</td>\n",
       "      <td>0</td>\n",
       "      <td>5</td>\n",
       "      <td>0</td>\n",
       "      <td>0</td>\n",
       "      <td>0</td>\n",
       "      <td>...</td>\n",
       "      <td>0</td>\n",
       "      <td>0</td>\n",
       "      <td>0</td>\n",
       "      <td>0</td>\n",
       "      <td>0</td>\n",
       "      <td>12</td>\n",
       "      <td>0</td>\n",
       "      <td>0</td>\n",
       "      <td>0</td>\n",
       "      <td>0</td>\n",
       "    </tr>\n",
       "    <tr>\n",
       "      <th>63669</th>\n",
       "      <td>ENSG00000273486</td>\n",
       "      <td>0</td>\n",
       "      <td>0</td>\n",
       "      <td>0</td>\n",
       "      <td>0</td>\n",
       "      <td>1</td>\n",
       "      <td>0</td>\n",
       "      <td>0</td>\n",
       "      <td>0</td>\n",
       "      <td>0</td>\n",
       "      <td>...</td>\n",
       "      <td>0</td>\n",
       "      <td>2</td>\n",
       "      <td>0</td>\n",
       "      <td>3</td>\n",
       "      <td>0</td>\n",
       "      <td>2</td>\n",
       "      <td>5</td>\n",
       "      <td>1</td>\n",
       "      <td>0</td>\n",
       "      <td>0</td>\n",
       "    </tr>\n",
       "    <tr>\n",
       "      <th>63670</th>\n",
       "      <td>ENSG00000273487</td>\n",
       "      <td>0</td>\n",
       "      <td>0</td>\n",
       "      <td>0</td>\n",
       "      <td>0</td>\n",
       "      <td>0</td>\n",
       "      <td>0</td>\n",
       "      <td>0</td>\n",
       "      <td>0</td>\n",
       "      <td>0</td>\n",
       "      <td>...</td>\n",
       "      <td>0</td>\n",
       "      <td>0</td>\n",
       "      <td>0</td>\n",
       "      <td>0</td>\n",
       "      <td>0</td>\n",
       "      <td>0</td>\n",
       "      <td>0</td>\n",
       "      <td>0</td>\n",
       "      <td>0</td>\n",
       "      <td>0</td>\n",
       "    </tr>\n",
       "    <tr>\n",
       "      <th>63672</th>\n",
       "      <td>ENSG00000273489</td>\n",
       "      <td>0</td>\n",
       "      <td>0</td>\n",
       "      <td>0</td>\n",
       "      <td>2</td>\n",
       "      <td>0</td>\n",
       "      <td>1</td>\n",
       "      <td>8</td>\n",
       "      <td>0</td>\n",
       "      <td>0</td>\n",
       "      <td>...</td>\n",
       "      <td>0</td>\n",
       "      <td>0</td>\n",
       "      <td>0</td>\n",
       "      <td>0</td>\n",
       "      <td>0</td>\n",
       "      <td>0</td>\n",
       "      <td>0</td>\n",
       "      <td>0</td>\n",
       "      <td>0</td>\n",
       "      <td>0</td>\n",
       "    </tr>\n",
       "    <tr>\n",
       "      <th>63676</th>\n",
       "      <td>ENSG00000273493</td>\n",
       "      <td>0</td>\n",
       "      <td>0</td>\n",
       "      <td>0</td>\n",
       "      <td>0</td>\n",
       "      <td>0</td>\n",
       "      <td>0</td>\n",
       "      <td>0</td>\n",
       "      <td>0</td>\n",
       "      <td>1</td>\n",
       "      <td>...</td>\n",
       "      <td>0</td>\n",
       "      <td>0</td>\n",
       "      <td>0</td>\n",
       "      <td>0</td>\n",
       "      <td>0</td>\n",
       "      <td>0</td>\n",
       "      <td>0</td>\n",
       "      <td>0</td>\n",
       "      <td>3</td>\n",
       "      <td>0</td>\n",
       "    </tr>\n",
       "  </tbody>\n",
       "</table>\n",
       "<p>30238 rows × 81 columns</p>\n",
       "</div>"
      ],
      "text/plain": [
       "            Unnamed: 0  Sample_1_preadi  Sample_2_preadi  Sample_3_preadi  \\\n",
       "0      ENSG00000000003               18               12                9   \n",
       "1      ENSG00000000005                0                0                0   \n",
       "2      ENSG00000000419               10                9                9   \n",
       "3      ENSG00000000457                0               11                0   \n",
       "4      ENSG00000000460                0                0               14   \n",
       "...                ...              ...              ...              ...   \n",
       "63668  ENSG00000273485                0                0                0   \n",
       "63669  ENSG00000273486                0                0                0   \n",
       "63670  ENSG00000273487                0                0                0   \n",
       "63672  ENSG00000273489                0                0                0   \n",
       "63676  ENSG00000273493                0                0                0   \n",
       "\n",
       "       Sample_4_preadi  Sample_5_preadi  Sample_6_preadi  Sample_7_preadi  \\\n",
       "0                   20                9               13               20   \n",
       "1                    2                0                0                0   \n",
       "2                    8               10               10                6   \n",
       "3                    6                2               12               11   \n",
       "4                    4                5                0                0   \n",
       "...                ...              ...              ...              ...   \n",
       "63668                1                0                5                0   \n",
       "63669                0                1                0                0   \n",
       "63670                0                0                0                0   \n",
       "63672                2                0                1                8   \n",
       "63676                0                0                0                0   \n",
       "\n",
       "       Sample_8_preadi  Sample_9_preadi  ...  Sample_71_adipo  \\\n",
       "0                    8                4  ...                9   \n",
       "1                    0                0  ...                0   \n",
       "2                   35               13  ...                3   \n",
       "3                    1                2  ...                9   \n",
       "4                    6                4  ...                0   \n",
       "...                ...              ...  ...              ...   \n",
       "63668                0                0  ...                0   \n",
       "63669                0                0  ...                0   \n",
       "63670                0                0  ...                0   \n",
       "63672                0                0  ...                0   \n",
       "63676                0                1  ...                0   \n",
       "\n",
       "       Sample_72_adipo  Sample_73_adipo  Sample_74_adipo  Sample_75_adipo  \\\n",
       "0                    9               30                9               23   \n",
       "1                    1               29                2               22   \n",
       "2                    9                9               15                8   \n",
       "3                    8                8                5                6   \n",
       "4                    0                3                0                1   \n",
       "...                ...              ...              ...              ...   \n",
       "63668                0                0                0                0   \n",
       "63669                2                0                3                0   \n",
       "63670                0                0                0                0   \n",
       "63672                0                0                0                0   \n",
       "63676                0                0                0                0   \n",
       "\n",
       "       Sample_76_adipo  Sample_77_adipo  Sample_78_adipo  Sample_79_adipo  \\\n",
       "0                   16                3               14               11   \n",
       "1                    3                0                2                0   \n",
       "2                    9                9                4               16   \n",
       "3                    0               12               13                4   \n",
       "4                    0                1                4                0   \n",
       "...                ...              ...              ...              ...   \n",
       "63668               12                0                0                0   \n",
       "63669                2                5                1                0   \n",
       "63670                0                0                0                0   \n",
       "63672                0                0                0                0   \n",
       "63676                0                0                0                3   \n",
       "\n",
       "       Sample_80_adipo  \n",
       "0                   16  \n",
       "1                    5  \n",
       "2                    5  \n",
       "3                   11  \n",
       "4                   10  \n",
       "...                ...  \n",
       "63668                0  \n",
       "63669                0  \n",
       "63670                0  \n",
       "63672                0  \n",
       "63676                0  \n",
       "\n",
       "[30238 rows x 81 columns]"
      ]
     },
     "execution_count": 51,
     "metadata": {},
     "output_type": "execute_result"
    }
   ],
   "source": [
    "transcriptomics"
   ]
  },
  {
   "cell_type": "markdown",
   "metadata": {},
   "source": [
    "e)"
   ]
  },
  {
   "cell_type": "code",
   "execution_count": 52,
   "metadata": {},
   "outputs": [
    {
     "data": {
      "text/plain": [
       "Sample_1_preadi    1000000\n",
       "Sample_2_preadi    1000000\n",
       "Sample_3_preadi    1000000\n",
       "Sample_4_preadi    1000000\n",
       "Sample_5_preadi    1000000\n",
       "                    ...   \n",
       "Sample_76_adipo    1000000\n",
       "Sample_77_adipo    1000000\n",
       "Sample_78_adipo    1000000\n",
       "Sample_79_adipo    1000000\n",
       "Sample_80_adipo    1000000\n",
       "Length: 80, dtype: int64"
      ]
     },
     "execution_count": 52,
     "metadata": {},
     "output_type": "execute_result"
    }
   ],
   "source": [
    "transcriptomics.iloc[:,1:].sum()"
   ]
  },
  {
   "cell_type": "code",
   "execution_count": 53,
   "metadata": {},
   "outputs": [],
   "source": [
    "depth = pd.DataFrame({'Samples':list(range(1,81)), 'depth':transcriptomics.iloc[:,1:].sum()})"
   ]
  },
  {
   "cell_type": "code",
   "execution_count": 54,
   "metadata": {},
   "outputs": [
    {
     "data": {
      "text/plain": [
       "True"
      ]
     },
     "execution_count": 54,
     "metadata": {},
     "output_type": "execute_result"
    }
   ],
   "source": [
    "(transcriptomics.iloc[:,1:].sum() == 1000000).all()"
   ]
  },
  {
   "cell_type": "code",
   "execution_count": 55,
   "metadata": {},
   "outputs": [
    {
     "data": {
      "image/png": "[encoded data removed]",
      "text/plain": [
       "<Figure size 1440x720 with 1 Axes>"
      ]
     },
     "metadata": {
      "needs_background": "light"
     },
     "output_type": "display_data"
    }
   ],
   "source": [
    "plt.figure(figsize=(20,10))\n",
    "ax =sns.barplot( data=depth, y='depth', x=\"Samples\")"
   ]
  },
  {
   "cell_type": "markdown",
   "metadata": {},
   "source": [
    "Do not need to normalized"
   ]
  },
  {
   "cell_type": "markdown",
   "metadata": {},
   "source": [
    "f)"
   ]
  },
  {
   "cell_type": "code",
   "execution_count": 56,
   "metadata": {},
   "outputs": [
    {
     "data": {
      "text/plain": [
       "dict_values(['PreAdipo', 'PreAdipo', 'PreAdipo', 'PreAdipo', 'PreAdipo', 'PreAdipo', 'PreAdipo', 'PreAdipo', 'PreAdipo', 'PreAdipo', 'PreAdipo', 'PreAdipo', 'PreAdipo', 'PreAdipo', 'PreAdipo', 'PreAdipo', 'PreAdipo', 'PreAdipo', 'PreAdipo', 'PreAdipo', 'PreAdipo', 'PreAdipo', 'PreAdipo', 'PreAdipo', 'PreAdipo', 'PreAdipo', 'PreAdipo', 'PreAdipo', 'PreAdipo', 'PreAdipo', 'PreAdipo', 'PreAdipo', 'PreAdipo', 'PreAdipo', 'PreAdipo', 'PreAdipo', 'PreAdipo', 'PreAdipo', 'PreAdipo', 'PreAdipo', 'Adipo', 'Adipo', 'Adipo', 'Adipo', 'Adipo', 'Adipo', 'Adipo', 'Adipo', 'Adipo', 'Adipo', 'Adipo', 'Adipo', 'Adipo', 'Adipo', 'Adipo', 'Adipo', 'Adipo', 'Adipo', 'Adipo', 'Adipo', 'Adipo', 'Adipo', 'Adipo', 'Adipo', 'Adipo', 'Adipo', 'Adipo', 'Adipo', 'Adipo', 'Adipo', 'Adipo', 'Adipo', 'Adipo', 'Adipo', 'Adipo', 'Adipo', 'Adipo', 'Adipo', 'Adipo', 'Adipo'])"
      ]
     },
     "execution_count": 56,
     "metadata": {},
     "output_type": "execute_result"
    }
   ],
   "source": [
    "dict_sample.values()"
   ]
  },
  {
   "cell_type": "code",
   "execution_count": 57,
   "metadata": {},
   "outputs": [
    {
     "data": {
      "text/html": [
       "<div>\n",
       "<style scoped>\n",
       "    .dataframe tbody tr th:only-of-type {\n",
       "        vertical-align: middle;\n",
       "    }\n",
       "\n",
       "    .dataframe tbody tr th {\n",
       "        vertical-align: top;\n",
       "    }\n",
       "\n",
       "    .dataframe thead th {\n",
       "        text-align: right;\n",
       "    }\n",
       "</style>\n",
       "<table border=\"1\" class=\"dataframe\">\n",
       "  <thead>\n",
       "    <tr style=\"text-align: right;\">\n",
       "      <th></th>\n",
       "      <th>PCA1</th>\n",
       "      <th>PCA2</th>\n",
       "      <th>PCA3</th>\n",
       "      <th>groups</th>\n",
       "    </tr>\n",
       "  </thead>\n",
       "  <tbody>\n",
       "    <tr>\n",
       "      <th>0</th>\n",
       "      <td>59744.204875</td>\n",
       "      <td>5181.484207</td>\n",
       "      <td>34953.673194</td>\n",
       "      <td>PreAdipo</td>\n",
       "    </tr>\n",
       "    <tr>\n",
       "      <th>1</th>\n",
       "      <td>-36447.502550</td>\n",
       "      <td>11214.469551</td>\n",
       "      <td>6564.207381</td>\n",
       "      <td>PreAdipo</td>\n",
       "    </tr>\n",
       "    <tr>\n",
       "      <th>2</th>\n",
       "      <td>-15666.397486</td>\n",
       "      <td>-7873.272341</td>\n",
       "      <td>3183.165238</td>\n",
       "      <td>PreAdipo</td>\n",
       "    </tr>\n",
       "    <tr>\n",
       "      <th>3</th>\n",
       "      <td>-22423.413307</td>\n",
       "      <td>-20027.140990</td>\n",
       "      <td>-15412.563780</td>\n",
       "      <td>PreAdipo</td>\n",
       "    </tr>\n",
       "    <tr>\n",
       "      <th>4</th>\n",
       "      <td>-15830.729625</td>\n",
       "      <td>-13797.002922</td>\n",
       "      <td>-8727.933106</td>\n",
       "      <td>PreAdipo</td>\n",
       "    </tr>\n",
       "    <tr>\n",
       "      <th>...</th>\n",
       "      <td>...</td>\n",
       "      <td>...</td>\n",
       "      <td>...</td>\n",
       "      <td>...</td>\n",
       "    </tr>\n",
       "    <tr>\n",
       "      <th>75</th>\n",
       "      <td>39830.374618</td>\n",
       "      <td>16913.116447</td>\n",
       "      <td>2542.199214</td>\n",
       "      <td>Adipo</td>\n",
       "    </tr>\n",
       "    <tr>\n",
       "      <th>76</th>\n",
       "      <td>44353.454788</td>\n",
       "      <td>-2109.828106</td>\n",
       "      <td>-14291.751796</td>\n",
       "      <td>Adipo</td>\n",
       "    </tr>\n",
       "    <tr>\n",
       "      <th>77</th>\n",
       "      <td>-2515.045934</td>\n",
       "      <td>2289.387447</td>\n",
       "      <td>-29504.065115</td>\n",
       "      <td>Adipo</td>\n",
       "    </tr>\n",
       "    <tr>\n",
       "      <th>78</th>\n",
       "      <td>-23979.413582</td>\n",
       "      <td>32201.099006</td>\n",
       "      <td>-2077.782790</td>\n",
       "      <td>Adipo</td>\n",
       "    </tr>\n",
       "    <tr>\n",
       "      <th>79</th>\n",
       "      <td>-22809.815936</td>\n",
       "      <td>19705.732484</td>\n",
       "      <td>-1020.655207</td>\n",
       "      <td>Adipo</td>\n",
       "    </tr>\n",
       "  </tbody>\n",
       "</table>\n",
       "<p>80 rows × 4 columns</p>\n",
       "</div>"
      ],
      "text/plain": [
       "            PCA1          PCA2          PCA3    groups\n",
       "0   59744.204875   5181.484207  34953.673194  PreAdipo\n",
       "1  -36447.502550  11214.469551   6564.207381  PreAdipo\n",
       "2  -15666.397486  -7873.272341   3183.165238  PreAdipo\n",
       "3  -22423.413307 -20027.140990 -15412.563780  PreAdipo\n",
       "4  -15830.729625 -13797.002922  -8727.933106  PreAdipo\n",
       "..           ...           ...           ...       ...\n",
       "75  39830.374618  16913.116447   2542.199214     Adipo\n",
       "76  44353.454788  -2109.828106 -14291.751796     Adipo\n",
       "77  -2515.045934   2289.387447 -29504.065115     Adipo\n",
       "78 -23979.413582  32201.099006  -2077.782790     Adipo\n",
       "79 -22809.815936  19705.732484  -1020.655207     Adipo\n",
       "\n",
       "[80 rows x 4 columns]"
      ]
     },
     "execution_count": 57,
     "metadata": {},
     "output_type": "execute_result"
    }
   ],
   "source": [
    "X = transcriptomics.iloc[:,1:].T.to_numpy(dtype=float)\n",
    "pca = PCA(n_components=3)\n",
    "pca_output = pca.fit_transform(X)\n",
    "pca_output_df = pd.DataFrame(pca_output, columns=['PCA1', 'PCA2', 'PCA3'])\n",
    "pca_output_df[\"groups\"] =dict_sample.values()\n",
    "pca_output_df"
   ]
  },
  {
   "cell_type": "code",
   "execution_count": 58,
   "metadata": {},
   "outputs": [
    {
     "data": {
      "application/vnd.plotly.v1+json": {
       "config": {
        "plotlyServerURL": "https://plot.ly"
       },
       "data": [
        {
         "hovertemplate": "groups=PreAdipo<br>PCA1=%{x}<br>PCA2=%{y}<br>PCA3=%{z}<extra></extra>",
         "legendgroup": "PreAdipo",
         "marker": {
          "color": "#636efa",
          "symbol": "circle"
         },
         "mode": "markers",
         "name": "PreAdipo",
         "scene": "scene",
         "showlegend": true,
         "type": "scatter3d",
         "x": [
          59744.20487486378,
          -36447.50255004795,
          -15666.397485666927,
          -22423.413306603616,
          -15830.729625471604,
          -17332.667723431274,
          -12955.303774635146,
          -6793.36955194687,
          -38277.91608331669,
          7533.754251075752,
          12136.69413447772,
          -8674.685048862391,
          -13743.502268817392,
          -3823.192789156802,
          -26862.925029969494,
          -20949.275905316266,
          100.46620410435084,
          14153.027864329266,
          -18104.223937926283,
          -19679.39230810626,
          -21930.660054985514,
          -20557.360553268063,
          -19819.943609895752,
          -16877.796159424368,
          -19060.358388341352,
          -27097.13055498967,
          -27237.655895723114,
          -15548.50230276045,
          975.0945234178988,
          2447.336199627644,
          -27137.592455098304,
          -14665.73741188108,
          -4912.153744272385,
          -19399.051820918736,
          5677.7575741486835,
          222.53846634714293,
          -21312.39106460942,
          -17697.628157703504,
          -19136.854282519278,
          -5107.956773698228
         ],
         "y": [
          5181.48420727964,
          11214.469551465278,
          -7873.27234136494,
          -20027.14099029678,
          -13797.002922133786,
          -3597.1800412012253,
          14041.820704478318,
          -16810.345315512463,
          3570.9447011775737,
          9691.262731453597,
          -12752.484044746403,
          -18356.71517429692,
          -6222.812426911331,
          -20290.91331527678,
          -19717.96304476902,
          -16902.64745480315,
          -16815.850844682605,
          -5007.125421409512,
          -262.3659737189626,
          -13609.739742818621,
          -2584.56814125659,
          -16718.396638597904,
          -10361.694943143359,
          -25571.459647816126,
          30299.382955632842,
          13888.191538375508,
          -17274.4057609177,
          -24198.47715650507,
          -19830.051019646857,
          8865.51864495532,
          23345.71946331675,
          19074.587971051515,
          -4432.788581224053,
          -22451.848103364253,
          -2563.7925415428017,
          -3215.3812897663256,
          -8996.693560014848,
          10553.342367703828,
          -29585.876536315194,
          -16192.532226373134
         ],
         "z": [
          34953.673193851406,
          6564.207381040322,
          3183.165238038036,
          -15412.56377979029,
          -8727.933106136838,
          2525.9410508174774,
          15781.996739875682,
          3527.7035737438227,
          -6783.304498017118,
          26837.308224171422,
          18027.17704334729,
          6641.195236862945,
          14444.900761362514,
          4782.257096399842,
          -7147.891608301526,
          -841.2817067613106,
          16422.979307524256,
          25362.598603004735,
          -4885.658971542843,
          -3265.3293950541765,
          11806.558777662618,
          4520.238492128043,
          -5042.802487202234,
          7260.860610162946,
          6163.046222034942,
          -1571.4321487644313,
          -16448.095458911233,
          13797.707733959127,
          11598.755546077078,
          26836.484500366154,
          7694.887240348341,
          15510.19353869131,
          3138.8300370406546,
          -3300.298402778296,
          16169.582721523535,
          19613.785697611627,
          -5086.6668428079265,
          12100.413081769299,
          -6968.774935794263,
          1401.4947245657831
         ]
        },
        {
         "hovertemplate": "groups=Adipo<br>PCA1=%{x}<br>PCA2=%{y}<br>PCA3=%{z}<extra></extra>",
         "legendgroup": "Adipo",
         "marker": {
          "color": "#EF553B",
          "symbol": "circle"
         },
         "mode": "markers",
         "name": "Adipo",
         "scene": "scene",
         "showlegend": true,
         "type": "scatter3d",
         "x": [
          19182.983606602495,
          36821.61962364281,
          31058.721202798853,
          -5371.825310895092,
          30748.77447841281,
          28368.44766120414,
          -194.96070040205595,
          18732.17310783871,
          54855.70260918241,
          11348.213163266932,
          -27480.95162471915,
          -20259.821285716316,
          533.8487953007843,
          3635.9346487050643,
          72278.57264525008,
          45723.35350368419,
          -31910.38677550036,
          43759.44292771795,
          17327.521387951594,
          -23198.11148737585,
          -6584.728976739526,
          4904.440778771486,
          -28571.18528760653,
          -3436.1771606477055,
          15726.245812798436,
          6858.917857018996,
          35228.16427971713,
          13276.79224878245,
          -2399.932522612527,
          27136.282535575396,
          -6336.925733156151,
          -5853.258820026076,
          18653.50727955959,
          15629.231660801273,
          47002.216444248,
          39830.37461771201,
          44353.45478829572,
          -2515.0459344982933,
          -23979.413581605742,
          -22809.815936366223
         ],
         "y": [
          22856.86203932666,
          4323.4151830070805,
          -4590.1803828393395,
          2020.861172118583,
          -9236.42468654512,
          -7349.032857327852,
          -7870.582508018412,
          7297.532101292894,
          6340.011538557042,
          3537.085355909694,
          13309.652146565722,
          28378.46019916141,
          -1284.970661166735,
          22985.806763252564,
          3022.3231518493294,
          4164.866712706225,
          37097.62802378499,
          8979.629245940394,
          -5850.235907982992,
          32896.14461922695,
          5122.016674993732,
          -8300.692287210006,
          17492.863674145174,
          1453.6160263568233,
          2301.5666453595295,
          -7864.483210205935,
          760.7498092900914,
          4570.82250884336,
          7135.646489973198,
          -10884.204511007607,
          9892.725154914859,
          1047.5955256117134,
          -9750.767561757566,
          -6457.210005998155,
          9746.196903603472,
          16913.11644676912,
          -2109.828106474746,
          2289.387447495115,
          32201.09900590912,
          19705.73248410615
         ],
         "z": [
          -5510.235095140315,
          -6010.654238492286,
          4071.226801403965,
          -5554.025883094162,
          1112.1698730778323,
          15266.097939823416,
          -15288.41263738976,
          -18381.165586669595,
          -9613.841736895005,
          -19590.39366734974,
          -11326.972768074304,
          -88.2491767679395,
          853.3559566395796,
          -11953.530277153137,
          774.2370535000729,
          -3726.0280086649464,
          -4561.825460075346,
          -4340.6355212213975,
          1481.454434519681,
          1880.5637843801983,
          -8555.932897588009,
          3162.162917246961,
          -139.9180175785174,
          -16316.01284492107,
          -28522.280432580177,
          -581.7589528378229,
          -9247.558804884146,
          -7136.199427315986,
          -2899.2123222222285,
          -15069.436207047625,
          -522.1420787543049,
          -2521.3197613975026,
          -14678.951262549579,
          -12126.88643947172,
          -1171.5425925097386,
          2542.199213975529,
          -14291.751795575792,
          -29504.065114647627,
          -2077.782790384595,
          -1020.6552074314611
         ]
        }
       ],
       "layout": {
        "legend": {
         "title": {
          "text": "groups"
         },
         "tracegroupgap": 0
        },
        "margin": {
         "t": 60
        },
        "scene": {
         "domain": {
          "x": [
           0,
           1
          ],
          "y": [
           0,
           1
          ]
         },
         "xaxis": {
          "title": {
           "text": "PCA1"
          }
         },
         "yaxis": {
          "title": {
           "text": "PCA2"
          }
         },
         "zaxis": {
          "title": {
           "text": "PCA3"
          }
         }
        },
        "template": {
         "data": {
          "bar": [
           {
            "error_x": {
             "color": "#2a3f5f"
            },
            "error_y": {
             "color": "#2a3f5f"
            },
            "marker": {
             "line": {
              "color": "#E5ECF6",
              "width": 0.5
             },
             "pattern": {
              "fillmode": "overlay",
              "size": 10,
              "solidity": 0.2
             }
            },
            "type": "bar"
           }
          ],
          "barpolar": [
           {
            "marker": {
             "line": {
              "color": "#E5ECF6",
              "width": 0.5
             },
             "pattern": {
              "fillmode": "overlay",
              "size": 10,
              "solidity": 0.2
             }
            },
            "type": "barpolar"
           }
          ],
          "carpet": [
           {
            "aaxis": {
             "endlinecolor": "#2a3f5f",
             "gridcolor": "white",
             "linecolor": "white",
             "minorgridcolor": "white",
             "startlinecolor": "#2a3f5f"
            },
            "baxis": {
             "endlinecolor": "#2a3f5f",
             "gridcolor": "white",
             "linecolor": "white",
             "minorgridcolor": "white",
             "startlinecolor": "#2a3f5f"
            },
            "type": "carpet"
           }
          ],
          "choropleth": [
           {
            "colorbar": {
             "outlinewidth": 0,
             "ticks": ""
            },
            "type": "choropleth"
           }
          ],
          "contour": [
           {
            "colorbar": {
             "outlinewidth": 0,
             "ticks": ""
            },
            "colorscale": [
             [
              0,
              "#0d0887"
             ],
             [
              0.1111111111111111,
              "#46039f"
             ],
             [
              0.2222222222222222,
              "#7201a8"
             ],
             [
              0.3333333333333333,
              "#9c179e"
             ],
             [
              0.4444444444444444,
              "#bd3786"
             ],
             [
              0.5555555555555556,
              "#d8576b"
             ],
             [
              0.6666666666666666,
              "#ed7953"
             ],
             [
              0.7777777777777778,
              "#fb9f3a"
             ],
             [
              0.8888888888888888,
              "#fdca26"
             ],
             [
              1,
              "#f0f921"
             ]
            ],
            "type": "contour"
           }
          ],
          "contourcarpet": [
           {
            "colorbar": {
             "outlinewidth": 0,
             "ticks": ""
            },
            "type": "contourcarpet"
           }
          ],
          "heatmap": [
           {
            "colorbar": {
             "outlinewidth": 0,
             "ticks": ""
            },
            "colorscale": [
             [
              0,
              "#0d0887"
             ],
             [
              0.1111111111111111,
              "#46039f"
             ],
             [
              0.2222222222222222,
              "#7201a8"
             ],
             [
              0.3333333333333333,
              "#9c179e"
             ],
             [
              0.4444444444444444,
              "#bd3786"
             ],
             [
              0.5555555555555556,
              "#d8576b"
             ],
             [
              0.6666666666666666,
              "#ed7953"
             ],
             [
              0.7777777777777778,
              "#fb9f3a"
             ],
             [
              0.8888888888888888,
              "#fdca26"
             ],
             [
              1,
              "#f0f921"
             ]
            ],
            "type": "heatmap"
           }
          ],
          "heatmapgl": [
           {
            "colorbar": {
             "outlinewidth": 0,
             "ticks": ""
            },
            "colorscale": [
             [
              0,
              "#0d0887"
             ],
             [
              0.1111111111111111,
              "#46039f"
             ],
             [
              0.2222222222222222,
              "#7201a8"
             ],
             [
              0.3333333333333333,
              "#9c179e"
             ],
             [
              0.4444444444444444,
              "#bd3786"
             ],
             [
              0.5555555555555556,
              "#d8576b"
             ],
             [
              0.6666666666666666,
              "#ed7953"
             ],
             [
              0.7777777777777778,
              "#fb9f3a"
             ],
             [
              0.8888888888888888,
              "#fdca26"
             ],
             [
              1,
              "#f0f921"
             ]
            ],
            "type": "heatmapgl"
           }
          ],
          "histogram": [
           {
            "marker": {
             "pattern": {
              "fillmode": "overlay",
              "size": 10,
              "solidity": 0.2
             }
            },
            "type": "histogram"
           }
          ],
          "histogram2d": [
           {
            "colorbar": {
             "outlinewidth": 0,
             "ticks": ""
            },
            "colorscale": [
             [
              0,
              "#0d0887"
             ],
             [
              0.1111111111111111,
              "#46039f"
             ],
             [
              0.2222222222222222,
              "#7201a8"
             ],
             [
              0.3333333333333333,
              "#9c179e"
             ],
             [
              0.4444444444444444,
              "#bd3786"
             ],
             [
              0.5555555555555556,
              "#d8576b"
             ],
             [
              0.6666666666666666,
              "#ed7953"
             ],
             [
              0.7777777777777778,
              "#fb9f3a"
             ],
             [
              0.8888888888888888,
              "#fdca26"
             ],
             [
              1,
              "#f0f921"
             ]
            ],
            "type": "histogram2d"
           }
          ],
          "histogram2dcontour": [
           {
            "colorbar": {
             "outlinewidth": 0,
             "ticks": ""
            },
            "colorscale": [
             [
              0,
              "#0d0887"
             ],
             [
              0.1111111111111111,
              "#46039f"
             ],
             [
              0.2222222222222222,
              "#7201a8"
             ],
             [
              0.3333333333333333,
              "#9c179e"
             ],
             [
              0.4444444444444444,
              "#bd3786"
             ],
             [
              0.5555555555555556,
              "#d8576b"
             ],
             [
              0.6666666666666666,
              "#ed7953"
             ],
             [
              0.7777777777777778,
              "#fb9f3a"
             ],
             [
              0.8888888888888888,
              "#fdca26"
             ],
             [
              1,
              "#f0f921"
             ]
            ],
            "type": "histogram2dcontour"
           }
          ],
          "mesh3d": [
           {
            "colorbar": {
             "outlinewidth": 0,
             "ticks": ""
            },
            "type": "mesh3d"
           }
          ],
          "parcoords": [
           {
            "line": {
             "colorbar": {
              "outlinewidth": 0,
              "ticks": ""
             }
            },
            "type": "parcoords"
           }
          ],
          "pie": [
           {
            "automargin": true,
            "type": "pie"
           }
          ],
          "scatter": [
           {
            "fillpattern": {
             "fillmode": "overlay",
             "size": 10,
             "solidity": 0.2
            },
            "type": "scatter"
           }
          ],
          "scatter3d": [
           {
            "line": {
             "colorbar": {
              "outlinewidth": 0,
              "ticks": ""
             }
            },
            "marker": {
             "colorbar": {
              "outlinewidth": 0,
              "ticks": ""
             }
            },
            "type": "scatter3d"
           }
          ],
          "scattercarpet": [
           {
            "marker": {
             "colorbar": {
              "outlinewidth": 0,
              "ticks": ""
             }
            },
            "type": "scattercarpet"
           }
          ],
          "scattergeo": [
           {
            "marker": {
             "colorbar": {
              "outlinewidth": 0,
              "ticks": ""
             }
            },
            "type": "scattergeo"
           }
          ],
          "scattergl": [
           {
            "marker": {
             "colorbar": {
              "outlinewidth": 0,
              "ticks": ""
             }
            },
            "type": "scattergl"
           }
          ],
          "scattermapbox": [
           {
            "marker": {
             "colorbar": {
              "outlinewidth": 0,
              "ticks": ""
             }
            },
            "type": "scattermapbox"
           }
          ],
          "scatterpolar": [
           {
            "marker": {
             "colorbar": {
              "outlinewidth": 0,
              "ticks": ""
             }
            },
            "type": "scatterpolar"
           }
          ],
          "scatterpolargl": [
           {
            "marker": {
             "colorbar": {
              "outlinewidth": 0,
              "ticks": ""
             }
            },
            "type": "scatterpolargl"
           }
          ],
          "scatterternary": [
           {
            "marker": {
             "colorbar": {
              "outlinewidth": 0,
              "ticks": ""
             }
            },
            "type": "scatterternary"
           }
          ],
          "surface": [
           {
            "colorbar": {
             "outlinewidth": 0,
             "ticks": ""
            },
            "colorscale": [
             [
              0,
              "#0d0887"
             ],
             [
              0.1111111111111111,
              "#46039f"
             ],
             [
              0.2222222222222222,
              "#7201a8"
             ],
             [
              0.3333333333333333,
              "#9c179e"
             ],
             [
              0.4444444444444444,
              "#bd3786"
             ],
             [
              0.5555555555555556,
              "#d8576b"
             ],
             [
              0.6666666666666666,
              "#ed7953"
             ],
             [
              0.7777777777777778,
              "#fb9f3a"
             ],
             [
              0.8888888888888888,
              "#fdca26"
             ],
             [
              1,
              "#f0f921"
             ]
            ],
            "type": "surface"
           }
          ],
          "table": [
           {
            "cells": {
             "fill": {
              "color": "#EBF0F8"
             },
             "line": {
              "color": "white"
             }
            },
            "header": {
             "fill": {
              "color": "#C8D4E3"
             },
             "line": {
              "color": "white"
             }
            },
            "type": "table"
           }
          ]
         },
         "layout": {
          "annotationdefaults": {
           "arrowcolor": "#2a3f5f",
           "arrowhead": 0,
           "arrowwidth": 1
          },
          "autotypenumbers": "strict",
          "coloraxis": {
           "colorbar": {
            "outlinewidth": 0,
            "ticks": ""
           }
          },
          "colorscale": {
           "diverging": [
            [
             0,
             "#8e0152"
            ],
            [
             0.1,
             "#c51b7d"
            ],
            [
             0.2,
             "#de77ae"
            ],
            [
             0.3,
             "#f1b6da"
            ],
            [
             0.4,
             "#fde0ef"
            ],
            [
             0.5,
             "#f7f7f7"
            ],
            [
             0.6,
             "#e6f5d0"
            ],
            [
             0.7,
             "#b8e186"
            ],
            [
             0.8,
             "#7fbc41"
            ],
            [
             0.9,
             "#4d9221"
            ],
            [
             1,
             "#276419"
            ]
           ],
           "sequential": [
            [
             0,
             "#0d0887"
            ],
            [
             0.1111111111111111,
             "#46039f"
            ],
            [
             0.2222222222222222,
             "#7201a8"
            ],
            [
             0.3333333333333333,
             "#9c179e"
            ],
            [
             0.4444444444444444,
             "#bd3786"
            ],
            [
             0.5555555555555556,
             "#d8576b"
            ],
            [
             0.6666666666666666,
             "#ed7953"
            ],
            [
             0.7777777777777778,
             "#fb9f3a"
            ],
            [
             0.8888888888888888,
             "#fdca26"
            ],
            [
             1,
             "#f0f921"
            ]
           ],
           "sequentialminus": [
            [
             0,
             "#0d0887"
            ],
            [
             0.1111111111111111,
             "#46039f"
            ],
            [
             0.2222222222222222,
             "#7201a8"
            ],
            [
             0.3333333333333333,
             "#9c179e"
            ],
            [
             0.4444444444444444,
             "#bd3786"
            ],
            [
             0.5555555555555556,
             "#d8576b"
            ],
            [
             0.6666666666666666,
             "#ed7953"
            ],
            [
             0.7777777777777778,
             "#fb9f3a"
            ],
            [
             0.8888888888888888,
             "#fdca26"
            ],
            [
             1,
             "#f0f921"
            ]
           ]
          },
          "colorway": [
           "#636efa",
           "#EF553B",
           "#00cc96",
           "#ab63fa",
           "#FFA15A",
           "#19d3f3",
           "#FF6692",
           "#B6E880",
           "#FF97FF",
           "#FECB52"
          ],
          "font": {
           "color": "#2a3f5f"
          },
          "geo": {
           "bgcolor": "white",
           "lakecolor": "white",
           "landcolor": "#E5ECF6",
           "showlakes": true,
           "showland": true,
           "subunitcolor": "white"
          },
          "hoverlabel": {
           "align": "left"
          },
          "hovermode": "closest",
          "mapbox": {
           "style": "light"
          },
          "paper_bgcolor": "white",
          "plot_bgcolor": "#E5ECF6",
          "polar": {
           "angularaxis": {
            "gridcolor": "white",
            "linecolor": "white",
            "ticks": ""
           },
           "bgcolor": "#E5ECF6",
           "radialaxis": {
            "gridcolor": "white",
            "linecolor": "white",
            "ticks": ""
           }
          },
          "scene": {
           "xaxis": {
            "backgroundcolor": "#E5ECF6",
            "gridcolor": "white",
            "gridwidth": 2,
            "linecolor": "white",
            "showbackground": true,
            "ticks": "",
            "zerolinecolor": "white"
           },
           "yaxis": {
            "backgroundcolor": "#E5ECF6",
            "gridcolor": "white",
            "gridwidth": 2,
            "linecolor": "white",
            "showbackground": true,
            "ticks": "",
            "zerolinecolor": "white"
           },
           "zaxis": {
            "backgroundcolor": "#E5ECF6",
            "gridcolor": "white",
            "gridwidth": 2,
            "linecolor": "white",
            "showbackground": true,
            "ticks": "",
            "zerolinecolor": "white"
           }
          },
          "shapedefaults": {
           "line": {
            "color": "#2a3f5f"
           }
          },
          "ternary": {
           "aaxis": {
            "gridcolor": "white",
            "linecolor": "white",
            "ticks": ""
           },
           "baxis": {
            "gridcolor": "white",
            "linecolor": "white",
            "ticks": ""
           },
           "bgcolor": "#E5ECF6",
           "caxis": {
            "gridcolor": "white",
            "linecolor": "white",
            "ticks": ""
           }
          },
          "title": {
           "x": 0.05
          },
          "xaxis": {
           "automargin": true,
           "gridcolor": "white",
           "linecolor": "white",
           "ticks": "",
           "title": {
            "standoff": 15
           },
           "zerolinecolor": "white",
           "zerolinewidth": 2
          },
          "yaxis": {
           "automargin": true,
           "gridcolor": "white",
           "linecolor": "white",
           "ticks": "",
           "title": {
            "standoff": 15
           },
           "zerolinecolor": "white",
           "zerolinewidth": 2
          }
         }
        }
       }
      }
     },
     "metadata": {},
     "output_type": "display_data"
    }
   ],
   "source": [
    "fig = px.scatter_3d(pca_output_df, x='PCA1', y='PCA2', z='PCA3', color=\"groups\")\n",
    "fig.show()"
   ]
  },
  {
   "cell_type": "markdown",
   "metadata": {},
   "source": [
    "g)"
   ]
  },
  {
   "cell_type": "code",
   "execution_count": 59,
   "metadata": {},
   "outputs": [],
   "source": [
    "transcriptomics_transf =pd.DataFrame(np.log2(1+transcriptomics.iloc[:,1:]))"
   ]
  },
  {
   "cell_type": "code",
   "execution_count": 60,
   "metadata": {},
   "outputs": [],
   "source": [
    "transcriptomics_transf.insert(0, 'Gene_ID', transcriptomics.iloc[:,0])"
   ]
  },
  {
   "cell_type": "code",
   "execution_count": 61,
   "metadata": {},
   "outputs": [
    {
     "data": {
      "text/html": [
       "<div>\n",
       "<style scoped>\n",
       "    .dataframe tbody tr th:only-of-type {\n",
       "        vertical-align: middle;\n",
       "    }\n",
       "\n",
       "    .dataframe tbody tr th {\n",
       "        vertical-align: top;\n",
       "    }\n",
       "\n",
       "    .dataframe thead th {\n",
       "        text-align: right;\n",
       "    }\n",
       "</style>\n",
       "<table border=\"1\" class=\"dataframe\">\n",
       "  <thead>\n",
       "    <tr style=\"text-align: right;\">\n",
       "      <th></th>\n",
       "      <th>Gene_ID</th>\n",
       "      <th>Sample_1_preadi</th>\n",
       "      <th>Sample_2_preadi</th>\n",
       "      <th>Sample_3_preadi</th>\n",
       "      <th>Sample_4_preadi</th>\n",
       "      <th>Sample_5_preadi</th>\n",
       "      <th>Sample_6_preadi</th>\n",
       "      <th>Sample_7_preadi</th>\n",
       "      <th>Sample_8_preadi</th>\n",
       "      <th>Sample_9_preadi</th>\n",
       "      <th>...</th>\n",
       "      <th>Sample_71_adipo</th>\n",
       "      <th>Sample_72_adipo</th>\n",
       "      <th>Sample_73_adipo</th>\n",
       "      <th>Sample_74_adipo</th>\n",
       "      <th>Sample_75_adipo</th>\n",
       "      <th>Sample_76_adipo</th>\n",
       "      <th>Sample_77_adipo</th>\n",
       "      <th>Sample_78_adipo</th>\n",
       "      <th>Sample_79_adipo</th>\n",
       "      <th>Sample_80_adipo</th>\n",
       "    </tr>\n",
       "  </thead>\n",
       "  <tbody>\n",
       "    <tr>\n",
       "      <th>0</th>\n",
       "      <td>ENSG00000000003</td>\n",
       "      <td>4.247928</td>\n",
       "      <td>3.700440</td>\n",
       "      <td>3.321928</td>\n",
       "      <td>4.392317</td>\n",
       "      <td>3.321928</td>\n",
       "      <td>3.807355</td>\n",
       "      <td>4.392317</td>\n",
       "      <td>3.169925</td>\n",
       "      <td>2.321928</td>\n",
       "      <td>...</td>\n",
       "      <td>3.321928</td>\n",
       "      <td>3.321928</td>\n",
       "      <td>4.954196</td>\n",
       "      <td>3.321928</td>\n",
       "      <td>4.584963</td>\n",
       "      <td>4.087463</td>\n",
       "      <td>2.000000</td>\n",
       "      <td>3.906891</td>\n",
       "      <td>3.584963</td>\n",
       "      <td>4.087463</td>\n",
       "    </tr>\n",
       "    <tr>\n",
       "      <th>1</th>\n",
       "      <td>ENSG00000000005</td>\n",
       "      <td>0.000000</td>\n",
       "      <td>0.000000</td>\n",
       "      <td>0.000000</td>\n",
       "      <td>1.584963</td>\n",
       "      <td>0.000000</td>\n",
       "      <td>0.000000</td>\n",
       "      <td>0.000000</td>\n",
       "      <td>0.000000</td>\n",
       "      <td>0.000000</td>\n",
       "      <td>...</td>\n",
       "      <td>0.000000</td>\n",
       "      <td>1.000000</td>\n",
       "      <td>4.906891</td>\n",
       "      <td>1.584963</td>\n",
       "      <td>4.523562</td>\n",
       "      <td>2.000000</td>\n",
       "      <td>0.000000</td>\n",
       "      <td>1.584963</td>\n",
       "      <td>0.000000</td>\n",
       "      <td>2.584963</td>\n",
       "    </tr>\n",
       "    <tr>\n",
       "      <th>2</th>\n",
       "      <td>ENSG00000000419</td>\n",
       "      <td>3.459432</td>\n",
       "      <td>3.321928</td>\n",
       "      <td>3.321928</td>\n",
       "      <td>3.169925</td>\n",
       "      <td>3.459432</td>\n",
       "      <td>3.459432</td>\n",
       "      <td>2.807355</td>\n",
       "      <td>5.169925</td>\n",
       "      <td>3.807355</td>\n",
       "      <td>...</td>\n",
       "      <td>2.000000</td>\n",
       "      <td>3.321928</td>\n",
       "      <td>3.321928</td>\n",
       "      <td>4.000000</td>\n",
       "      <td>3.169925</td>\n",
       "      <td>3.321928</td>\n",
       "      <td>3.321928</td>\n",
       "      <td>2.321928</td>\n",
       "      <td>4.087463</td>\n",
       "      <td>2.584963</td>\n",
       "    </tr>\n",
       "    <tr>\n",
       "      <th>3</th>\n",
       "      <td>ENSG00000000457</td>\n",
       "      <td>0.000000</td>\n",
       "      <td>3.584963</td>\n",
       "      <td>0.000000</td>\n",
       "      <td>2.807355</td>\n",
       "      <td>1.584963</td>\n",
       "      <td>3.700440</td>\n",
       "      <td>3.584963</td>\n",
       "      <td>1.000000</td>\n",
       "      <td>1.584963</td>\n",
       "      <td>...</td>\n",
       "      <td>3.321928</td>\n",
       "      <td>3.169925</td>\n",
       "      <td>3.169925</td>\n",
       "      <td>2.584963</td>\n",
       "      <td>2.807355</td>\n",
       "      <td>0.000000</td>\n",
       "      <td>3.700440</td>\n",
       "      <td>3.807355</td>\n",
       "      <td>2.321928</td>\n",
       "      <td>3.584963</td>\n",
       "    </tr>\n",
       "    <tr>\n",
       "      <th>4</th>\n",
       "      <td>ENSG00000000460</td>\n",
       "      <td>0.000000</td>\n",
       "      <td>0.000000</td>\n",
       "      <td>3.906891</td>\n",
       "      <td>2.321928</td>\n",
       "      <td>2.584963</td>\n",
       "      <td>0.000000</td>\n",
       "      <td>0.000000</td>\n",
       "      <td>2.807355</td>\n",
       "      <td>2.321928</td>\n",
       "      <td>...</td>\n",
       "      <td>0.000000</td>\n",
       "      <td>0.000000</td>\n",
       "      <td>2.000000</td>\n",
       "      <td>0.000000</td>\n",
       "      <td>1.000000</td>\n",
       "      <td>0.000000</td>\n",
       "      <td>1.000000</td>\n",
       "      <td>2.321928</td>\n",
       "      <td>0.000000</td>\n",
       "      <td>3.459432</td>\n",
       "    </tr>\n",
       "    <tr>\n",
       "      <th>...</th>\n",
       "      <td>...</td>\n",
       "      <td>...</td>\n",
       "      <td>...</td>\n",
       "      <td>...</td>\n",
       "      <td>...</td>\n",
       "      <td>...</td>\n",
       "      <td>...</td>\n",
       "      <td>...</td>\n",
       "      <td>...</td>\n",
       "      <td>...</td>\n",
       "      <td>...</td>\n",
       "      <td>...</td>\n",
       "      <td>...</td>\n",
       "      <td>...</td>\n",
       "      <td>...</td>\n",
       "      <td>...</td>\n",
       "      <td>...</td>\n",
       "      <td>...</td>\n",
       "      <td>...</td>\n",
       "      <td>...</td>\n",
       "      <td>...</td>\n",
       "    </tr>\n",
       "    <tr>\n",
       "      <th>63668</th>\n",
       "      <td>ENSG00000273485</td>\n",
       "      <td>0.000000</td>\n",
       "      <td>0.000000</td>\n",
       "      <td>0.000000</td>\n",
       "      <td>1.000000</td>\n",
       "      <td>0.000000</td>\n",
       "      <td>2.584963</td>\n",
       "      <td>0.000000</td>\n",
       "      <td>0.000000</td>\n",
       "      <td>0.000000</td>\n",
       "      <td>...</td>\n",
       "      <td>0.000000</td>\n",
       "      <td>0.000000</td>\n",
       "      <td>0.000000</td>\n",
       "      <td>0.000000</td>\n",
       "      <td>0.000000</td>\n",
       "      <td>3.700440</td>\n",
       "      <td>0.000000</td>\n",
       "      <td>0.000000</td>\n",
       "      <td>0.000000</td>\n",
       "      <td>0.000000</td>\n",
       "    </tr>\n",
       "    <tr>\n",
       "      <th>63669</th>\n",
       "      <td>ENSG00000273486</td>\n",
       "      <td>0.000000</td>\n",
       "      <td>0.000000</td>\n",
       "      <td>0.000000</td>\n",
       "      <td>0.000000</td>\n",
       "      <td>1.000000</td>\n",
       "      <td>0.000000</td>\n",
       "      <td>0.000000</td>\n",
       "      <td>0.000000</td>\n",
       "      <td>0.000000</td>\n",
       "      <td>...</td>\n",
       "      <td>0.000000</td>\n",
       "      <td>1.584963</td>\n",
       "      <td>0.000000</td>\n",
       "      <td>2.000000</td>\n",
       "      <td>0.000000</td>\n",
       "      <td>1.584963</td>\n",
       "      <td>2.584963</td>\n",
       "      <td>1.000000</td>\n",
       "      <td>0.000000</td>\n",
       "      <td>0.000000</td>\n",
       "    </tr>\n",
       "    <tr>\n",
       "      <th>63670</th>\n",
       "      <td>ENSG00000273487</td>\n",
       "      <td>0.000000</td>\n",
       "      <td>0.000000</td>\n",
       "      <td>0.000000</td>\n",
       "      <td>0.000000</td>\n",
       "      <td>0.000000</td>\n",
       "      <td>0.000000</td>\n",
       "      <td>0.000000</td>\n",
       "      <td>0.000000</td>\n",
       "      <td>0.000000</td>\n",
       "      <td>...</td>\n",
       "      <td>0.000000</td>\n",
       "      <td>0.000000</td>\n",
       "      <td>0.000000</td>\n",
       "      <td>0.000000</td>\n",
       "      <td>0.000000</td>\n",
       "      <td>0.000000</td>\n",
       "      <td>0.000000</td>\n",
       "      <td>0.000000</td>\n",
       "      <td>0.000000</td>\n",
       "      <td>0.000000</td>\n",
       "    </tr>\n",
       "    <tr>\n",
       "      <th>63672</th>\n",
       "      <td>ENSG00000273489</td>\n",
       "      <td>0.000000</td>\n",
       "      <td>0.000000</td>\n",
       "      <td>0.000000</td>\n",
       "      <td>1.584963</td>\n",
       "      <td>0.000000</td>\n",
       "      <td>1.000000</td>\n",
       "      <td>3.169925</td>\n",
       "      <td>0.000000</td>\n",
       "      <td>0.000000</td>\n",
       "      <td>...</td>\n",
       "      <td>0.000000</td>\n",
       "      <td>0.000000</td>\n",
       "      <td>0.000000</td>\n",
       "      <td>0.000000</td>\n",
       "      <td>0.000000</td>\n",
       "      <td>0.000000</td>\n",
       "      <td>0.000000</td>\n",
       "      <td>0.000000</td>\n",
       "      <td>0.000000</td>\n",
       "      <td>0.000000</td>\n",
       "    </tr>\n",
       "    <tr>\n",
       "      <th>63676</th>\n",
       "      <td>ENSG00000273493</td>\n",
       "      <td>0.000000</td>\n",
       "      <td>0.000000</td>\n",
       "      <td>0.000000</td>\n",
       "      <td>0.000000</td>\n",
       "      <td>0.000000</td>\n",
       "      <td>0.000000</td>\n",
       "      <td>0.000000</td>\n",
       "      <td>0.000000</td>\n",
       "      <td>1.000000</td>\n",
       "      <td>...</td>\n",
       "      <td>0.000000</td>\n",
       "      <td>0.000000</td>\n",
       "      <td>0.000000</td>\n",
       "      <td>0.000000</td>\n",
       "      <td>0.000000</td>\n",
       "      <td>0.000000</td>\n",
       "      <td>0.000000</td>\n",
       "      <td>0.000000</td>\n",
       "      <td>2.000000</td>\n",
       "      <td>0.000000</td>\n",
       "    </tr>\n",
       "  </tbody>\n",
       "</table>\n",
       "<p>30238 rows × 81 columns</p>\n",
       "</div>"
      ],
      "text/plain": [
       "               Gene_ID  Sample_1_preadi  Sample_2_preadi  Sample_3_preadi  \\\n",
       "0      ENSG00000000003         4.247928         3.700440         3.321928   \n",
       "1      ENSG00000000005         0.000000         0.000000         0.000000   \n",
       "2      ENSG00000000419         3.459432         3.321928         3.321928   \n",
       "3      ENSG00000000457         0.000000         3.584963         0.000000   \n",
       "4      ENSG00000000460         0.000000         0.000000         3.906891   \n",
       "...                ...              ...              ...              ...   \n",
       "63668  ENSG00000273485         0.000000         0.000000         0.000000   \n",
       "63669  ENSG00000273486         0.000000         0.000000         0.000000   \n",
       "63670  ENSG00000273487         0.000000         0.000000         0.000000   \n",
       "63672  ENSG00000273489         0.000000         0.000000         0.000000   \n",
       "63676  ENSG00000273493         0.000000         0.000000         0.000000   \n",
       "\n",
       "       Sample_4_preadi  Sample_5_preadi  Sample_6_preadi  Sample_7_preadi  \\\n",
       "0             4.392317         3.321928         3.807355         4.392317   \n",
       "1             1.584963         0.000000         0.000000         0.000000   \n",
       "2             3.169925         3.459432         3.459432         2.807355   \n",
       "3             2.807355         1.584963         3.700440         3.584963   \n",
       "4             2.321928         2.584963         0.000000         0.000000   \n",
       "...                ...              ...              ...              ...   \n",
       "63668         1.000000         0.000000         2.584963         0.000000   \n",
       "63669         0.000000         1.000000         0.000000         0.000000   \n",
       "63670         0.000000         0.000000         0.000000         0.000000   \n",
       "63672         1.584963         0.000000         1.000000         3.169925   \n",
       "63676         0.000000         0.000000         0.000000         0.000000   \n",
       "\n",
       "       Sample_8_preadi  Sample_9_preadi  ...  Sample_71_adipo  \\\n",
       "0             3.169925         2.321928  ...         3.321928   \n",
       "1             0.000000         0.000000  ...         0.000000   \n",
       "2             5.169925         3.807355  ...         2.000000   \n",
       "3             1.000000         1.584963  ...         3.321928   \n",
       "4             2.807355         2.321928  ...         0.000000   \n",
       "...                ...              ...  ...              ...   \n",
       "63668         0.000000         0.000000  ...         0.000000   \n",
       "63669         0.000000         0.000000  ...         0.000000   \n",
       "63670         0.000000         0.000000  ...         0.000000   \n",
       "63672         0.000000         0.000000  ...         0.000000   \n",
       "63676         0.000000         1.000000  ...         0.000000   \n",
       "\n",
       "       Sample_72_adipo  Sample_73_adipo  Sample_74_adipo  Sample_75_adipo  \\\n",
       "0             3.321928         4.954196         3.321928         4.584963   \n",
       "1             1.000000         4.906891         1.584963         4.523562   \n",
       "2             3.321928         3.321928         4.000000         3.169925   \n",
       "3             3.169925         3.169925         2.584963         2.807355   \n",
       "4             0.000000         2.000000         0.000000         1.000000   \n",
       "...                ...              ...              ...              ...   \n",
       "63668         0.000000         0.000000         0.000000         0.000000   \n",
       "63669         1.584963         0.000000         2.000000         0.000000   \n",
       "63670         0.000000         0.000000         0.000000         0.000000   \n",
       "63672         0.000000         0.000000         0.000000         0.000000   \n",
       "63676         0.000000         0.000000         0.000000         0.000000   \n",
       "\n",
       "       Sample_76_adipo  Sample_77_adipo  Sample_78_adipo  Sample_79_adipo  \\\n",
       "0             4.087463         2.000000         3.906891         3.584963   \n",
       "1             2.000000         0.000000         1.584963         0.000000   \n",
       "2             3.321928         3.321928         2.321928         4.087463   \n",
       "3             0.000000         3.700440         3.807355         2.321928   \n",
       "4             0.000000         1.000000         2.321928         0.000000   \n",
       "...                ...              ...              ...              ...   \n",
       "63668         3.700440         0.000000         0.000000         0.000000   \n",
       "63669         1.584963         2.584963         1.000000         0.000000   \n",
       "63670         0.000000         0.000000         0.000000         0.000000   \n",
       "63672         0.000000         0.000000         0.000000         0.000000   \n",
       "63676         0.000000         0.000000         0.000000         2.000000   \n",
       "\n",
       "       Sample_80_adipo  \n",
       "0             4.087463  \n",
       "1             2.584963  \n",
       "2             2.584963  \n",
       "3             3.584963  \n",
       "4             3.459432  \n",
       "...                ...  \n",
       "63668         0.000000  \n",
       "63669         0.000000  \n",
       "63670         0.000000  \n",
       "63672         0.000000  \n",
       "63676         0.000000  \n",
       "\n",
       "[30238 rows x 81 columns]"
      ]
     },
     "execution_count": 61,
     "metadata": {},
     "output_type": "execute_result"
    }
   ],
   "source": [
    "transcriptomics_transf"
   ]
  },
  {
   "cell_type": "markdown",
   "metadata": {},
   "source": [
    "h)"
   ]
  },
  {
   "cell_type": "code",
   "execution_count": 62,
   "metadata": {},
   "outputs": [
    {
     "data": {
      "text/html": [
       "<div>\n",
       "<style scoped>\n",
       "    .dataframe tbody tr th:only-of-type {\n",
       "        vertical-align: middle;\n",
       "    }\n",
       "\n",
       "    .dataframe tbody tr th {\n",
       "        vertical-align: top;\n",
       "    }\n",
       "\n",
       "    .dataframe thead th {\n",
       "        text-align: right;\n",
       "    }\n",
       "</style>\n",
       "<table border=\"1\" class=\"dataframe\">\n",
       "  <thead>\n",
       "    <tr style=\"text-align: right;\">\n",
       "      <th></th>\n",
       "      <th>PCA1</th>\n",
       "      <th>PCA2</th>\n",
       "      <th>PCA3</th>\n",
       "      <th>groups</th>\n",
       "    </tr>\n",
       "  </thead>\n",
       "  <tbody>\n",
       "    <tr>\n",
       "      <th>0</th>\n",
       "      <td>-42.826329</td>\n",
       "      <td>58.870243</td>\n",
       "      <td>7.208661</td>\n",
       "      <td>PreAdipo</td>\n",
       "    </tr>\n",
       "    <tr>\n",
       "      <th>1</th>\n",
       "      <td>-46.518798</td>\n",
       "      <td>-5.596112</td>\n",
       "      <td>-14.513415</td>\n",
       "      <td>PreAdipo</td>\n",
       "    </tr>\n",
       "    <tr>\n",
       "      <th>2</th>\n",
       "      <td>-63.707132</td>\n",
       "      <td>-33.929064</td>\n",
       "      <td>36.996293</td>\n",
       "      <td>PreAdipo</td>\n",
       "    </tr>\n",
       "    <tr>\n",
       "      <th>3</th>\n",
       "      <td>-57.726232</td>\n",
       "      <td>-67.490786</td>\n",
       "      <td>-11.238503</td>\n",
       "      <td>PreAdipo</td>\n",
       "    </tr>\n",
       "    <tr>\n",
       "      <th>4</th>\n",
       "      <td>-49.397369</td>\n",
       "      <td>-52.324074</td>\n",
       "      <td>9.426668</td>\n",
       "      <td>PreAdipo</td>\n",
       "    </tr>\n",
       "    <tr>\n",
       "      <th>...</th>\n",
       "      <td>...</td>\n",
       "      <td>...</td>\n",
       "      <td>...</td>\n",
       "      <td>...</td>\n",
       "    </tr>\n",
       "    <tr>\n",
       "      <th>75</th>\n",
       "      <td>53.782770</td>\n",
       "      <td>-3.432558</td>\n",
       "      <td>-58.807232</td>\n",
       "      <td>Adipo</td>\n",
       "    </tr>\n",
       "    <tr>\n",
       "      <th>76</th>\n",
       "      <td>69.008352</td>\n",
       "      <td>1.024694</td>\n",
       "      <td>43.880189</td>\n",
       "      <td>Adipo</td>\n",
       "    </tr>\n",
       "    <tr>\n",
       "      <th>77</th>\n",
       "      <td>61.583717</td>\n",
       "      <td>-54.186669</td>\n",
       "      <td>4.280247</td>\n",
       "      <td>Adipo</td>\n",
       "    </tr>\n",
       "    <tr>\n",
       "      <th>78</th>\n",
       "      <td>30.881711</td>\n",
       "      <td>-23.491778</td>\n",
       "      <td>-43.380652</td>\n",
       "      <td>Adipo</td>\n",
       "    </tr>\n",
       "    <tr>\n",
       "      <th>79</th>\n",
       "      <td>27.239854</td>\n",
       "      <td>-28.855355</td>\n",
       "      <td>-24.868757</td>\n",
       "      <td>Adipo</td>\n",
       "    </tr>\n",
       "  </tbody>\n",
       "</table>\n",
       "<p>80 rows × 4 columns</p>\n",
       "</div>"
      ],
      "text/plain": [
       "         PCA1       PCA2       PCA3    groups\n",
       "0  -42.826329  58.870243   7.208661  PreAdipo\n",
       "1  -46.518798  -5.596112 -14.513415  PreAdipo\n",
       "2  -63.707132 -33.929064  36.996293  PreAdipo\n",
       "3  -57.726232 -67.490786 -11.238503  PreAdipo\n",
       "4  -49.397369 -52.324074   9.426668  PreAdipo\n",
       "..        ...        ...        ...       ...\n",
       "75  53.782770  -3.432558 -58.807232     Adipo\n",
       "76  69.008352   1.024694  43.880189     Adipo\n",
       "77  61.583717 -54.186669   4.280247     Adipo\n",
       "78  30.881711 -23.491778 -43.380652     Adipo\n",
       "79  27.239854 -28.855355 -24.868757     Adipo\n",
       "\n",
       "[80 rows x 4 columns]"
      ]
     },
     "execution_count": 62,
     "metadata": {},
     "output_type": "execute_result"
    }
   ],
   "source": [
    "X = transcriptomics_transf.iloc[:,1:].T.to_numpy(dtype=float)\n",
    "pca = PCA(n_components=3)\n",
    "pca_output_log = pca.fit_transform(X)\n",
    "pca_output_log_df = pd.DataFrame(pca_output_log, columns=['PCA1', 'PCA2', 'PCA3'])\n",
    "pca_output_log_df[\"groups\"] =dict_sample.values()\n",
    "pca_output_log_df"
   ]
  },
  {
   "cell_type": "code",
   "execution_count": 63,
   "metadata": {},
   "outputs": [
    {
     "data": {
      "application/vnd.plotly.v1+json": {
       "config": {
        "plotlyServerURL": "https://plot.ly"
       },
       "data": [
        {
         "hovertemplate": "groups=PreAdipo<br>PCA1=%{x}<br>PCA2=%{y}<br>PCA3=%{z}<extra></extra>",
         "legendgroup": "PreAdipo",
         "marker": {
          "color": "#636efa",
          "symbol": "circle"
         },
         "mode": "markers",
         "name": "PreAdipo",
         "scene": "scene",
         "showlegend": true,
         "type": "scatter3d",
         "x": [
          -42.82632948136179,
          -46.51879790296069,
          -63.7071322591482,
          -57.7262322108117,
          -49.39736856994695,
          -46.01465974807334,
          -37.494047209804286,
          -62.76879571734525,
          -55.1150833999441,
          -33.80119416600303,
          -37.0389410155501,
          -52.1987762746755,
          -37.748360620585174,
          -52.28964058687583,
          -68.83595629778698,
          -57.388180167315454,
          -45.853883896413095,
          -32.647555575804034,
          -53.596031990927386,
          -62.96668754825651,
          -44.641315158748455,
          -55.13605179173774,
          -63.996437569268444,
          -48.40873851638819,
          -47.621285653074246,
          -54.905111312618736,
          -66.12819986991978,
          -34.14512838273488,
          -54.24059129293265,
          -31.136330768899843,
          -36.38603651770016,
          -25.499082581613376,
          -41.46574470053222,
          -68.49989879481639,
          -37.13315545918758,
          -37.0286362613855,
          -46.10936737414326,
          -47.04360973183619,
          -55.69012431023192,
          -54.3266445696969
         ],
         "y": [
          58.87024256762186,
          -5.596111971463883,
          -33.929063743212446,
          -67.49078554494264,
          -52.324074190668625,
          -19.14940064351419,
          41.62247054814652,
          -0.26288120600365056,
          -41.72389897207493,
          77.79856749833935,
          29.10176506224799,
          -5.370302354453063,
          61.54396638231638,
          -14.660494305685035,
          -33.794307696796686,
          -25.116931762418123,
          56.64990545369235,
          84.38581065977203,
          -39.6692833268941,
          -27.329881915553816,
          52.03861285642358,
          -2.418413436723402,
          -49.87719977524522,
          45.89049174209667,
          -13.523252971091809,
          -38.96736837834555,
          -73.26157822171538,
          58.60020250039627,
          39.97486826365821,
          60.93245027326676,
          10.440069709278411,
          12.13932728242183,
          -22.19833560988858,
          -4.3497372094838385,
          45.795877208611095,
          49.04308473877976,
          -39.63511038677939,
          14.075725436904762,
          -32.249823669772894,
          9.157253053378984
         ],
         "z": [
          7.208661008423376,
          -14.51341483478128,
          36.99629299210757,
          -11.238503218062077,
          9.426668023138504,
          2.233921647662843,
          -23.689612305828447,
          32.661840488648174,
          4.927858626904046,
          -12.984714834629527,
          23.535106720743755,
          41.53711189267344,
          -15.193040430205803,
          29.258176520969002,
          29.5988476880166,
          20.02771516235479,
          -6.6028916893911145,
          -2.726309178408186,
          -15.542588253651468,
          17.52587874467722,
          -1.1504461543330802,
          26.349369006392998,
          21.113315466406654,
          -4.780554487497604,
          -45.63285989652215,
          -21.847479803674346,
          14.932017630493398,
          -12.829885503968919,
          16.292399774176587,
          -1.827777691309776,
          -22.851543440862432,
          -12.10477423638565,
          -18.490519542325906,
          29.052280909786926,
          -39.03322272304329,
          -0.9954298763269085,
          1.682224938057182,
          -15.277617547171866,
          16.774893706174556,
          -32.932331399671945
         ]
        },
        {
         "hovertemplate": "groups=Adipo<br>PCA1=%{x}<br>PCA2=%{y}<br>PCA3=%{z}<extra></extra>",
         "legendgroup": "Adipo",
         "marker": {
          "color": "#EF553B",
          "symbol": "circle"
         },
         "mode": "markers",
         "name": "Adipo",
         "scene": "scene",
         "showlegend": true,
         "type": "scatter3d",
         "x": [
          57.58690683467456,
          62.47048135848322,
          51.334605688233026,
          46.82214361559348,
          46.829077916637296,
          34.37245081346121,
          51.96976737769466,
          61.29253626907778,
          67.5602854100878,
          61.599803764257246,
          29.624576017917793,
          42.86463782857639,
          38.323599597190075,
          59.141117409937486,
          66.00224571295686,
          63.52249853393178,
          25.166296830410662,
          68.2154639652772,
          50.72300984557652,
          32.391421493083584,
          34.09444254838401,
          26.87845229967159,
          20.40498778647178,
          38.83306678196913,
          67.61201897259676,
          29.712884047292416,
          69.90146139879154,
          48.38850637405968,
          35.710932054938574,
          62.470547198661556,
          31.918643245222448,
          35.721312439696106,
          64.15562030984125,
          55.22500057303341,
          64.13793807579181,
          53.78277032230474,
          69.00835186938536,
          61.5837172011106,
          30.88171126235441,
          27.239854212420727
         ],
         "y": [
          -24.498751053439292,
          4.259321625639574,
          48.60873637468051,
          36.8195627298157,
          34.231836630640636,
          48.28994069520867,
          -22.456994652918794,
          -29.185145070302177,
          -32.64611903095597,
          -29.959134532551357,
          -44.711014829693546,
          5.0632452596504605,
          33.64991753291559,
          -11.809985866992664,
          53.77735715083104,
          -4.6129881870856675,
          -42.198180949989144,
          22.950097481254577,
          22.0702842225941,
          -15.960915190881051,
          -32.10217225815866,
          17.09292953177933,
          -6.04678939942388,
          -50.77308243530956,
          -52.20689835466278,
          -5.1092285390670025,
          29.414681794336214,
          -21.229712763270065,
          -19.246643471003935,
          17.92194176572115,
          -6.815629804979134,
          -11.370022551394246,
          34.65815283105061,
          -17.45926942712598,
          15.369885153826658,
          -3.4325575242374287,
          1.024693786493366,
          -54.18666925035238,
          -23.49177807042806,
          -28.855355296836223
         ],
         "z": [
          -10.67885270285416,
          50.018006178322956,
          57.6198701826522,
          -31.51225872022549,
          -0.7464682962571986,
          2.261799997459223,
          9.45414008067603,
          11.529812625173047,
          28.01437230509319,
          -6.5633827188305816,
          -4.815558810540112,
          -17.96044871566226,
          -31.35598019138671,
          6.590021100014087,
          60.31659784704532,
          28.12382065336871,
          -58.05759998474456,
          -6.833867531906767,
          -9.232874125294943,
          -13.907324979605074,
          -22.4603177902772,
          -31.335520590407278,
          -28.056465670240893,
          -10.256307288634574,
          -9.856715685924426,
          -21.388477425055317,
          10.237120079010394,
          0.5027221499634229,
          10.6291310399615,
          17.870392402456886,
          6.7084711315804615,
          -6.601608604398611,
          21.183682802761705,
          10.186644362723161,
          20.38056639189783,
          -58.80723223217972,
          43.88018862930483,
          4.280246950623876,
          -43.380651543767506,
          -24.868757201648553
         ]
        }
       ],
       "layout": {
        "legend": {
         "title": {
          "text": "groups"
         },
         "tracegroupgap": 0
        },
        "margin": {
         "t": 60
        },
        "scene": {
         "domain": {
          "x": [
           0,
           1
          ],
          "y": [
           0,
           1
          ]
         },
         "xaxis": {
          "title": {
           "text": "PCA1"
          }
         },
         "yaxis": {
          "title": {
           "text": "PCA2"
          }
         },
         "zaxis": {
          "title": {
           "text": "PCA3"
          }
         }
        },
        "template": {
         "data": {
          "bar": [
           {
            "error_x": {
             "color": "#2a3f5f"
            },
            "error_y": {
             "color": "#2a3f5f"
            },
            "marker": {
             "line": {
              "color": "#E5ECF6",
              "width": 0.5
             },
             "pattern": {
              "fillmode": "overlay",
              "size": 10,
              "solidity": 0.2
             }
            },
            "type": "bar"
           }
          ],
          "barpolar": [
           {
            "marker": {
             "line": {
              "color": "#E5ECF6",
              "width": 0.5
             },
             "pattern": {
              "fillmode": "overlay",
              "size": 10,
              "solidity": 0.2
             }
            },
            "type": "barpolar"
           }
          ],
          "carpet": [
           {
            "aaxis": {
             "endlinecolor": "#2a3f5f",
             "gridcolor": "white",
             "linecolor": "white",
             "minorgridcolor": "white",
             "startlinecolor": "#2a3f5f"
            },
            "baxis": {
             "endlinecolor": "#2a3f5f",
             "gridcolor": "white",
             "linecolor": "white",
             "minorgridcolor": "white",
             "startlinecolor": "#2a3f5f"
            },
            "type": "carpet"
           }
          ],
          "choropleth": [
           {
            "colorbar": {
             "outlinewidth": 0,
             "ticks": ""
            },
            "type": "choropleth"
           }
          ],
          "contour": [
           {
            "colorbar": {
             "outlinewidth": 0,
             "ticks": ""
            },
            "colorscale": [
             [
              0,
              "#0d0887"
             ],
             [
              0.1111111111111111,
              "#46039f"
             ],
             [
              0.2222222222222222,
              "#7201a8"
             ],
             [
              0.3333333333333333,
              "#9c179e"
             ],
             [
              0.4444444444444444,
              "#bd3786"
             ],
             [
              0.5555555555555556,
              "#d8576b"
             ],
             [
              0.6666666666666666,
              "#ed7953"
             ],
             [
              0.7777777777777778,
              "#fb9f3a"
             ],
             [
              0.8888888888888888,
              "#fdca26"
             ],
             [
              1,
              "#f0f921"
             ]
            ],
            "type": "contour"
           }
          ],
          "contourcarpet": [
           {
            "colorbar": {
             "outlinewidth": 0,
             "ticks": ""
            },
            "type": "contourcarpet"
           }
          ],
          "heatmap": [
           {
            "colorbar": {
             "outlinewidth": 0,
             "ticks": ""
            },
            "colorscale": [
             [
              0,
              "#0d0887"
             ],
             [
              0.1111111111111111,
              "#46039f"
             ],
             [
              0.2222222222222222,
              "#7201a8"
             ],
             [
              0.3333333333333333,
              "#9c179e"
             ],
             [
              0.4444444444444444,
              "#bd3786"
             ],
             [
              0.5555555555555556,
              "#d8576b"
             ],
             [
              0.6666666666666666,
              "#ed7953"
             ],
             [
              0.7777777777777778,
              "#fb9f3a"
             ],
             [
              0.8888888888888888,
              "#fdca26"
             ],
             [
              1,
              "#f0f921"
             ]
            ],
            "type": "heatmap"
           }
          ],
          "heatmapgl": [
           {
            "colorbar": {
             "outlinewidth": 0,
             "ticks": ""
            },
            "colorscale": [
             [
              0,
              "#0d0887"
             ],
             [
              0.1111111111111111,
              "#46039f"
             ],
             [
              0.2222222222222222,
              "#7201a8"
             ],
             [
              0.3333333333333333,
              "#9c179e"
             ],
             [
              0.4444444444444444,
              "#bd3786"
             ],
             [
              0.5555555555555556,
              "#d8576b"
             ],
             [
              0.6666666666666666,
              "#ed7953"
             ],
             [
              0.7777777777777778,
              "#fb9f3a"
             ],
             [
              0.8888888888888888,
              "#fdca26"
             ],
             [
              1,
              "#f0f921"
             ]
            ],
            "type": "heatmapgl"
           }
          ],
          "histogram": [
           {
            "marker": {
             "pattern": {
              "fillmode": "overlay",
              "size": 10,
              "solidity": 0.2
             }
            },
            "type": "histogram"
           }
          ],
          "histogram2d": [
           {
            "colorbar": {
             "outlinewidth": 0,
             "ticks": ""
            },
            "colorscale": [
             [
              0,
              "#0d0887"
             ],
             [
              0.1111111111111111,
              "#46039f"
             ],
             [
              0.2222222222222222,
              "#7201a8"
             ],
             [
              0.3333333333333333,
              "#9c179e"
             ],
             [
              0.4444444444444444,
              "#bd3786"
             ],
             [
              0.5555555555555556,
              "#d8576b"
             ],
             [
              0.6666666666666666,
              "#ed7953"
             ],
             [
              0.7777777777777778,
              "#fb9f3a"
             ],
             [
              0.8888888888888888,
              "#fdca26"
             ],
             [
              1,
              "#f0f921"
             ]
            ],
            "type": "histogram2d"
           }
          ],
          "histogram2dcontour": [
           {
            "colorbar": {
             "outlinewidth": 0,
             "ticks": ""
            },
            "colorscale": [
             [
              0,
              "#0d0887"
             ],
             [
              0.1111111111111111,
              "#46039f"
             ],
             [
              0.2222222222222222,
              "#7201a8"
             ],
             [
              0.3333333333333333,
              "#9c179e"
             ],
             [
              0.4444444444444444,
              "#bd3786"
             ],
             [
              0.5555555555555556,
              "#d8576b"
             ],
             [
              0.6666666666666666,
              "#ed7953"
             ],
             [
              0.7777777777777778,
              "#fb9f3a"
             ],
             [
              0.8888888888888888,
              "#fdca26"
             ],
             [
              1,
              "#f0f921"
             ]
            ],
            "type": "histogram2dcontour"
           }
          ],
          "mesh3d": [
           {
            "colorbar": {
             "outlinewidth": 0,
             "ticks": ""
            },
            "type": "mesh3d"
           }
          ],
          "parcoords": [
           {
            "line": {
             "colorbar": {
              "outlinewidth": 0,
              "ticks": ""
             }
            },
            "type": "parcoords"
           }
          ],
          "pie": [
           {
            "automargin": true,
            "type": "pie"
           }
          ],
          "scatter": [
           {
            "fillpattern": {
             "fillmode": "overlay",
             "size": 10,
             "solidity": 0.2
            },
            "type": "scatter"
           }
          ],
          "scatter3d": [
           {
            "line": {
             "colorbar": {
              "outlinewidth": 0,
              "ticks": ""
             }
            },
            "marker": {
             "colorbar": {
              "outlinewidth": 0,
              "ticks": ""
             }
            },
            "type": "scatter3d"
           }
          ],
          "scattercarpet": [
           {
            "marker": {
             "colorbar": {
              "outlinewidth": 0,
              "ticks": ""
             }
            },
            "type": "scattercarpet"
           }
          ],
          "scattergeo": [
           {
            "marker": {
             "colorbar": {
              "outlinewidth": 0,
              "ticks": ""
             }
            },
            "type": "scattergeo"
           }
          ],
          "scattergl": [
           {
            "marker": {
             "colorbar": {
              "outlinewidth": 0,
              "ticks": ""
             }
            },
            "type": "scattergl"
           }
          ],
          "scattermapbox": [
           {
            "marker": {
             "colorbar": {
              "outlinewidth": 0,
              "ticks": ""
             }
            },
            "type": "scattermapbox"
           }
          ],
          "scatterpolar": [
           {
            "marker": {
             "colorbar": {
              "outlinewidth": 0,
              "ticks": ""
             }
            },
            "type": "scatterpolar"
           }
          ],
          "scatterpolargl": [
           {
            "marker": {
             "colorbar": {
              "outlinewidth": 0,
              "ticks": ""
             }
            },
            "type": "scatterpolargl"
           }
          ],
          "scatterternary": [
           {
            "marker": {
             "colorbar": {
              "outlinewidth": 0,
              "ticks": ""
             }
            },
            "type": "scatterternary"
           }
          ],
          "surface": [
           {
            "colorbar": {
             "outlinewidth": 0,
             "ticks": ""
            },
            "colorscale": [
             [
              0,
              "#0d0887"
             ],
             [
              0.1111111111111111,
              "#46039f"
             ],
             [
              0.2222222222222222,
              "#7201a8"
             ],
             [
              0.3333333333333333,
              "#9c179e"
             ],
             [
              0.4444444444444444,
              "#bd3786"
             ],
             [
              0.5555555555555556,
              "#d8576b"
             ],
             [
              0.6666666666666666,
              "#ed7953"
             ],
             [
              0.7777777777777778,
              "#fb9f3a"
             ],
             [
              0.8888888888888888,
              "#fdca26"
             ],
             [
              1,
              "#f0f921"
             ]
            ],
            "type": "surface"
           }
          ],
          "table": [
           {
            "cells": {
             "fill": {
              "color": "#EBF0F8"
             },
             "line": {
              "color": "white"
             }
            },
            "header": {
             "fill": {
              "color": "#C8D4E3"
             },
             "line": {
              "color": "white"
             }
            },
            "type": "table"
           }
          ]
         },
         "layout": {
          "annotationdefaults": {
           "arrowcolor": "#2a3f5f",
           "arrowhead": 0,
           "arrowwidth": 1
          },
          "autotypenumbers": "strict",
          "coloraxis": {
           "colorbar": {
            "outlinewidth": 0,
            "ticks": ""
           }
          },
          "colorscale": {
           "diverging": [
            [
             0,
             "#8e0152"
            ],
            [
             0.1,
             "#c51b7d"
            ],
            [
             0.2,
             "#de77ae"
            ],
            [
             0.3,
             "#f1b6da"
            ],
            [
             0.4,
             "#fde0ef"
            ],
            [
             0.5,
             "#f7f7f7"
            ],
            [
             0.6,
             "#e6f5d0"
            ],
            [
             0.7,
             "#b8e186"
            ],
            [
             0.8,
             "#7fbc41"
            ],
            [
             0.9,
             "#4d9221"
            ],
            [
             1,
             "#276419"
            ]
           ],
           "sequential": [
            [
             0,
             "#0d0887"
            ],
            [
             0.1111111111111111,
             "#46039f"
            ],
            [
             0.2222222222222222,
             "#7201a8"
            ],
            [
             0.3333333333333333,
             "#9c179e"
            ],
            [
             0.4444444444444444,
             "#bd3786"
            ],
            [
             0.5555555555555556,
             "#d8576b"
            ],
            [
             0.6666666666666666,
             "#ed7953"
            ],
            [
             0.7777777777777778,
             "#fb9f3a"
            ],
            [
             0.8888888888888888,
             "#fdca26"
            ],
            [
             1,
             "#f0f921"
            ]
           ],
           "sequentialminus": [
            [
             0,
             "#0d0887"
            ],
            [
             0.1111111111111111,
             "#46039f"
            ],
            [
             0.2222222222222222,
             "#7201a8"
            ],
            [
             0.3333333333333333,
             "#9c179e"
            ],
            [
             0.4444444444444444,
             "#bd3786"
            ],
            [
             0.5555555555555556,
             "#d8576b"
            ],
            [
             0.6666666666666666,
             "#ed7953"
            ],
            [
             0.7777777777777778,
             "#fb9f3a"
            ],
            [
             0.8888888888888888,
             "#fdca26"
            ],
            [
             1,
             "#f0f921"
            ]
           ]
          },
          "colorway": [
           "#636efa",
           "#EF553B",
           "#00cc96",
           "#ab63fa",
           "#FFA15A",
           "#19d3f3",
           "#FF6692",
           "#B6E880",
           "#FF97FF",
           "#FECB52"
          ],
          "font": {
           "color": "#2a3f5f"
          },
          "geo": {
           "bgcolor": "white",
           "lakecolor": "white",
           "landcolor": "#E5ECF6",
           "showlakes": true,
           "showland": true,
           "subunitcolor": "white"
          },
          "hoverlabel": {
           "align": "left"
          },
          "hovermode": "closest",
          "mapbox": {
           "style": "light"
          },
          "paper_bgcolor": "white",
          "plot_bgcolor": "#E5ECF6",
          "polar": {
           "angularaxis": {
            "gridcolor": "white",
            "linecolor": "white",
            "ticks": ""
           },
           "bgcolor": "#E5ECF6",
           "radialaxis": {
            "gridcolor": "white",
            "linecolor": "white",
            "ticks": ""
           }
          },
          "scene": {
           "xaxis": {
            "backgroundcolor": "#E5ECF6",
            "gridcolor": "white",
            "gridwidth": 2,
            "linecolor": "white",
            "showbackground": true,
            "ticks": "",
            "zerolinecolor": "white"
           },
           "yaxis": {
            "backgroundcolor": "#E5ECF6",
            "gridcolor": "white",
            "gridwidth": 2,
            "linecolor": "white",
            "showbackground": true,
            "ticks": "",
            "zerolinecolor": "white"
           },
           "zaxis": {
            "backgroundcolor": "#E5ECF6",
            "gridcolor": "white",
            "gridwidth": 2,
            "linecolor": "white",
            "showbackground": true,
            "ticks": "",
            "zerolinecolor": "white"
           }
          },
          "shapedefaults": {
           "line": {
            "color": "#2a3f5f"
           }
          },
          "ternary": {
           "aaxis": {
            "gridcolor": "white",
            "linecolor": "white",
            "ticks": ""
           },
           "baxis": {
            "gridcolor": "white",
            "linecolor": "white",
            "ticks": ""
           },
           "bgcolor": "#E5ECF6",
           "caxis": {
            "gridcolor": "white",
            "linecolor": "white",
            "ticks": ""
           }
          },
          "title": {
           "x": 0.05
          },
          "xaxis": {
           "automargin": true,
           "gridcolor": "white",
           "linecolor": "white",
           "ticks": "",
           "title": {
            "standoff": 15
           },
           "zerolinecolor": "white",
           "zerolinewidth": 2
          },
          "yaxis": {
           "automargin": true,
           "gridcolor": "white",
           "linecolor": "white",
           "ticks": "",
           "title": {
            "standoff": 15
           },
           "zerolinecolor": "white",
           "zerolinewidth": 2
          }
         }
        }
       }
      }
     },
     "metadata": {},
     "output_type": "display_data"
    }
   ],
   "source": [
    "fig = px.scatter_3d(pca_output_log_df, x='PCA1', y='PCA2', z='PCA3', color=\"groups\")\n",
    "fig.show()"
   ]
  },
  {
   "cell_type": "markdown",
   "metadata": {},
   "source": [
    "Transformed data has better cluster"
   ]
  },
  {
   "cell_type": "markdown",
   "metadata": {},
   "source": [
    "### 2. Differential gene expression"
   ]
  },
  {
   "cell_type": "code",
   "execution_count": 64,
   "metadata": {},
   "outputs": [],
   "source": [
    "de_results = pd.DataFrame(columns = [\"pval\",\" fdr\",\"log2_mean_preadipo\",\"log2_mean_adipo\",\"log2_fold_change\"])"
   ]
  },
  {
   "cell_type": "markdown",
   "metadata": {},
   "source": [
    "a)"
   ]
  },
  {
   "cell_type": "code",
   "execution_count": 65,
   "metadata": {},
   "outputs": [
    {
     "data": {
      "text/html": [
       "<div>\n",
       "<style scoped>\n",
       "    .dataframe tbody tr th:only-of-type {\n",
       "        vertical-align: middle;\n",
       "    }\n",
       "\n",
       "    .dataframe tbody tr th {\n",
       "        vertical-align: top;\n",
       "    }\n",
       "\n",
       "    .dataframe thead th {\n",
       "        text-align: right;\n",
       "    }\n",
       "</style>\n",
       "<table border=\"1\" class=\"dataframe\">\n",
       "  <thead>\n",
       "    <tr style=\"text-align: right;\">\n",
       "      <th></th>\n",
       "      <th>Sample_1_preadi</th>\n",
       "      <th>Sample_2_preadi</th>\n",
       "      <th>Sample_3_preadi</th>\n",
       "      <th>Sample_4_preadi</th>\n",
       "      <th>Sample_5_preadi</th>\n",
       "      <th>Sample_6_preadi</th>\n",
       "      <th>Sample_7_preadi</th>\n",
       "      <th>Sample_8_preadi</th>\n",
       "      <th>Sample_9_preadi</th>\n",
       "      <th>Sample_10_preadi</th>\n",
       "      <th>...</th>\n",
       "      <th>Sample_71_adipo</th>\n",
       "      <th>Sample_72_adipo</th>\n",
       "      <th>Sample_73_adipo</th>\n",
       "      <th>Sample_74_adipo</th>\n",
       "      <th>Sample_75_adipo</th>\n",
       "      <th>Sample_76_adipo</th>\n",
       "      <th>Sample_77_adipo</th>\n",
       "      <th>Sample_78_adipo</th>\n",
       "      <th>Sample_79_adipo</th>\n",
       "      <th>Sample_80_adipo</th>\n",
       "    </tr>\n",
       "  </thead>\n",
       "  <tbody>\n",
       "    <tr>\n",
       "      <th>count</th>\n",
       "      <td>30238.000000</td>\n",
       "      <td>30238.000000</td>\n",
       "      <td>30238.00000</td>\n",
       "      <td>30238.000000</td>\n",
       "      <td>30238.00000</td>\n",
       "      <td>30238.000000</td>\n",
       "      <td>30238.000000</td>\n",
       "      <td>30238.000000</td>\n",
       "      <td>30238.00000</td>\n",
       "      <td>30238.000000</td>\n",
       "      <td>...</td>\n",
       "      <td>30238.000000</td>\n",
       "      <td>30238.000000</td>\n",
       "      <td>30238.000000</td>\n",
       "      <td>30238.000000</td>\n",
       "      <td>30238.000000</td>\n",
       "      <td>30238.00000</td>\n",
       "      <td>30238.00000</td>\n",
       "      <td>30238.000000</td>\n",
       "      <td>30238.000000</td>\n",
       "      <td>30238.000000</td>\n",
       "    </tr>\n",
       "    <tr>\n",
       "      <th>mean</th>\n",
       "      <td>33.070970</td>\n",
       "      <td>33.070970</td>\n",
       "      <td>33.07097</td>\n",
       "      <td>33.070970</td>\n",
       "      <td>33.07097</td>\n",
       "      <td>33.070970</td>\n",
       "      <td>33.070970</td>\n",
       "      <td>33.070970</td>\n",
       "      <td>33.07097</td>\n",
       "      <td>33.070970</td>\n",
       "      <td>...</td>\n",
       "      <td>33.070970</td>\n",
       "      <td>33.070970</td>\n",
       "      <td>33.070970</td>\n",
       "      <td>33.070970</td>\n",
       "      <td>33.070970</td>\n",
       "      <td>33.07097</td>\n",
       "      <td>33.07097</td>\n",
       "      <td>33.070970</td>\n",
       "      <td>33.070970</td>\n",
       "      <td>33.070970</td>\n",
       "    </tr>\n",
       "    <tr>\n",
       "      <th>std</th>\n",
       "      <td>775.924245</td>\n",
       "      <td>490.943678</td>\n",
       "      <td>443.85956</td>\n",
       "      <td>341.385152</td>\n",
       "      <td>401.90836</td>\n",
       "      <td>452.605393</td>\n",
       "      <td>519.896442</td>\n",
       "      <td>439.523785</td>\n",
       "      <td>420.34004</td>\n",
       "      <td>588.511499</td>\n",
       "      <td>...</td>\n",
       "      <td>486.648479</td>\n",
       "      <td>441.241712</td>\n",
       "      <td>477.096957</td>\n",
       "      <td>463.873034</td>\n",
       "      <td>633.637434</td>\n",
       "      <td>603.33362</td>\n",
       "      <td>582.39901</td>\n",
       "      <td>391.209602</td>\n",
       "      <td>504.201271</td>\n",
       "      <td>474.647585</td>\n",
       "    </tr>\n",
       "    <tr>\n",
       "      <th>min</th>\n",
       "      <td>0.000000</td>\n",
       "      <td>0.000000</td>\n",
       "      <td>0.00000</td>\n",
       "      <td>0.000000</td>\n",
       "      <td>0.00000</td>\n",
       "      <td>0.000000</td>\n",
       "      <td>0.000000</td>\n",
       "      <td>0.000000</td>\n",
       "      <td>0.00000</td>\n",
       "      <td>0.000000</td>\n",
       "      <td>...</td>\n",
       "      <td>0.000000</td>\n",
       "      <td>0.000000</td>\n",
       "      <td>0.000000</td>\n",
       "      <td>0.000000</td>\n",
       "      <td>0.000000</td>\n",
       "      <td>0.00000</td>\n",
       "      <td>0.00000</td>\n",
       "      <td>0.000000</td>\n",
       "      <td>0.000000</td>\n",
       "      <td>0.000000</td>\n",
       "    </tr>\n",
       "    <tr>\n",
       "      <th>25%</th>\n",
       "      <td>0.000000</td>\n",
       "      <td>0.000000</td>\n",
       "      <td>0.00000</td>\n",
       "      <td>0.000000</td>\n",
       "      <td>0.00000</td>\n",
       "      <td>0.000000</td>\n",
       "      <td>0.000000</td>\n",
       "      <td>0.000000</td>\n",
       "      <td>0.00000</td>\n",
       "      <td>0.000000</td>\n",
       "      <td>...</td>\n",
       "      <td>0.000000</td>\n",
       "      <td>0.000000</td>\n",
       "      <td>0.000000</td>\n",
       "      <td>0.000000</td>\n",
       "      <td>0.000000</td>\n",
       "      <td>0.00000</td>\n",
       "      <td>0.00000</td>\n",
       "      <td>0.000000</td>\n",
       "      <td>0.000000</td>\n",
       "      <td>0.000000</td>\n",
       "    </tr>\n",
       "    <tr>\n",
       "      <th>50%</th>\n",
       "      <td>0.000000</td>\n",
       "      <td>0.000000</td>\n",
       "      <td>0.00000</td>\n",
       "      <td>1.000000</td>\n",
       "      <td>0.00000</td>\n",
       "      <td>0.000000</td>\n",
       "      <td>0.000000</td>\n",
       "      <td>0.000000</td>\n",
       "      <td>0.00000</td>\n",
       "      <td>0.000000</td>\n",
       "      <td>...</td>\n",
       "      <td>0.000000</td>\n",
       "      <td>0.000000</td>\n",
       "      <td>0.000000</td>\n",
       "      <td>0.000000</td>\n",
       "      <td>0.000000</td>\n",
       "      <td>0.00000</td>\n",
       "      <td>0.00000</td>\n",
       "      <td>0.000000</td>\n",
       "      <td>0.000000</td>\n",
       "      <td>0.000000</td>\n",
       "    </tr>\n",
       "    <tr>\n",
       "      <th>75%</th>\n",
       "      <td>6.000000</td>\n",
       "      <td>7.000000</td>\n",
       "      <td>7.00000</td>\n",
       "      <td>10.000000</td>\n",
       "      <td>8.00000</td>\n",
       "      <td>7.000000</td>\n",
       "      <td>6.000000</td>\n",
       "      <td>7.000000</td>\n",
       "      <td>8.00000</td>\n",
       "      <td>5.000000</td>\n",
       "      <td>...</td>\n",
       "      <td>6.000000</td>\n",
       "      <td>7.000000</td>\n",
       "      <td>6.000000</td>\n",
       "      <td>7.000000</td>\n",
       "      <td>6.000000</td>\n",
       "      <td>8.00000</td>\n",
       "      <td>6.00000</td>\n",
       "      <td>8.000000</td>\n",
       "      <td>8.000000</td>\n",
       "      <td>8.000000</td>\n",
       "    </tr>\n",
       "    <tr>\n",
       "      <th>max</th>\n",
       "      <td>118043.000000</td>\n",
       "      <td>55421.000000</td>\n",
       "      <td>35846.00000</td>\n",
       "      <td>21618.000000</td>\n",
       "      <td>31881.00000</td>\n",
       "      <td>35318.000000</td>\n",
       "      <td>48123.000000</td>\n",
       "      <td>40814.000000</td>\n",
       "      <td>46908.00000</td>\n",
       "      <td>66177.000000</td>\n",
       "      <td>...</td>\n",
       "      <td>45178.000000</td>\n",
       "      <td>41653.000000</td>\n",
       "      <td>53725.000000</td>\n",
       "      <td>54853.000000</td>\n",
       "      <td>91728.000000</td>\n",
       "      <td>89876.00000</td>\n",
       "      <td>80338.00000</td>\n",
       "      <td>35885.000000</td>\n",
       "      <td>63825.000000</td>\n",
       "      <td>54572.000000</td>\n",
       "    </tr>\n",
       "  </tbody>\n",
       "</table>\n",
       "<p>8 rows × 80 columns</p>\n",
       "</div>"
      ],
      "text/plain": [
       "       Sample_1_preadi  Sample_2_preadi  Sample_3_preadi  Sample_4_preadi  \\\n",
       "count     30238.000000     30238.000000      30238.00000     30238.000000   \n",
       "mean         33.070970        33.070970         33.07097        33.070970   \n",
       "std         775.924245       490.943678        443.85956       341.385152   \n",
       "min           0.000000         0.000000          0.00000         0.000000   \n",
       "25%           0.000000         0.000000          0.00000         0.000000   \n",
       "50%           0.000000         0.000000          0.00000         1.000000   \n",
       "75%           6.000000         7.000000          7.00000        10.000000   \n",
       "max      118043.000000     55421.000000      35846.00000     21618.000000   \n",
       "\n",
       "       Sample_5_preadi  Sample_6_preadi  Sample_7_preadi  Sample_8_preadi  \\\n",
       "count      30238.00000     30238.000000     30238.000000     30238.000000   \n",
       "mean          33.07097        33.070970        33.070970        33.070970   \n",
       "std          401.90836       452.605393       519.896442       439.523785   \n",
       "min            0.00000         0.000000         0.000000         0.000000   \n",
       "25%            0.00000         0.000000         0.000000         0.000000   \n",
       "50%            0.00000         0.000000         0.000000         0.000000   \n",
       "75%            8.00000         7.000000         6.000000         7.000000   \n",
       "max        31881.00000     35318.000000     48123.000000     40814.000000   \n",
       "\n",
       "       Sample_9_preadi  Sample_10_preadi  ...  Sample_71_adipo  \\\n",
       "count      30238.00000      30238.000000  ...     30238.000000   \n",
       "mean          33.07097         33.070970  ...        33.070970   \n",
       "std          420.34004        588.511499  ...       486.648479   \n",
       "min            0.00000          0.000000  ...         0.000000   \n",
       "25%            0.00000          0.000000  ...         0.000000   \n",
       "50%            0.00000          0.000000  ...         0.000000   \n",
       "75%            8.00000          5.000000  ...         6.000000   \n",
       "max        46908.00000      66177.000000  ...     45178.000000   \n",
       "\n",
       "       Sample_72_adipo  Sample_73_adipo  Sample_74_adipo  Sample_75_adipo  \\\n",
       "count     30238.000000     30238.000000     30238.000000     30238.000000   \n",
       "mean         33.070970        33.070970        33.070970        33.070970   \n",
       "std         441.241712       477.096957       463.873034       633.637434   \n",
       "min           0.000000         0.000000         0.000000         0.000000   \n",
       "25%           0.000000         0.000000         0.000000         0.000000   \n",
       "50%           0.000000         0.000000         0.000000         0.000000   \n",
       "75%           7.000000         6.000000         7.000000         6.000000   \n",
       "max       41653.000000     53725.000000     54853.000000     91728.000000   \n",
       "\n",
       "       Sample_76_adipo  Sample_77_adipo  Sample_78_adipo  Sample_79_adipo  \\\n",
       "count      30238.00000      30238.00000     30238.000000     30238.000000   \n",
       "mean          33.07097         33.07097        33.070970        33.070970   \n",
       "std          603.33362        582.39901       391.209602       504.201271   \n",
       "min            0.00000          0.00000         0.000000         0.000000   \n",
       "25%            0.00000          0.00000         0.000000         0.000000   \n",
       "50%            0.00000          0.00000         0.000000         0.000000   \n",
       "75%            8.00000          6.00000         8.000000         8.000000   \n",
       "max        89876.00000      80338.00000     35885.000000     63825.000000   \n",
       "\n",
       "       Sample_80_adipo  \n",
       "count     30238.000000  \n",
       "mean         33.070970  \n",
       "std         474.647585  \n",
       "min           0.000000  \n",
       "25%           0.000000  \n",
       "50%           0.000000  \n",
       "75%           8.000000  \n",
       "max       54572.000000  \n",
       "\n",
       "[8 rows x 80 columns]"
      ]
     },
     "execution_count": 65,
     "metadata": {},
     "output_type": "execute_result"
    }
   ],
   "source": [
    "transcriptomics.describe()"
   ]
  },
  {
   "cell_type": "code",
   "execution_count": 66,
   "metadata": {},
   "outputs": [],
   "source": [
    "pvalue=[]\n",
    "for index, gene in transcriptomics_transf.iterrows():\n",
    "    #Adipo_samples = {i for i in dict_sample if dict_sample[i]==\"Adipo\"}\n",
    "    # PreAdipo_samples = {i for i in dict_sample if dict_sample[i]==\"PreAdipo\"}\n",
    "    # ttest_ind(gene[Adipo_samples], gene[PreAdipo_samples])\n",
    "    _,pval = ttest_ind(gene[1:41], gene[42:81])\n",
    "    pvalue.append(pval)"
   ]
  },
  {
   "cell_type": "code",
   "execution_count": 67,
   "metadata": {},
   "outputs": [
    {
     "data": {
      "text/plain": [
       "[0.030795684409018677,\n",
       " 7.174029797192268e-10,\n",
       " 0.4160088959994662,\n",
       " 0.4232047312729389,\n",
       " 0.39404505172286963,\n",
       " 3.272651552324564e-12,\n",
       " 4.5215038386974086e-08,\n",
       " 4.390624655504188e-08,\n",
       " 0.0017568072735533481,\n",
       " 0.0443374733391082,\n",
       " 0.5298546934400564,\n",
       " 0.6116823092850274,\n",
       " 0.4886298187256958,\n",
       " 0.22449676732612478,\n",
       " 0.37089015583341545,\n",
       " 0.17225572638863917,\n",
       " 0.26048038676665614,\n",
       " 0.009501760296873097,\n",
       " 0.15544078546388662,\n",
       " 0.09815101949940123,\n",
       " 0.3142764240989545,\n",
       " 0.3720288044833827,\n",
       " 0.381351484332203,\n",
       " 0.020597264307292328,\n",
       " 0.7384009772528072,\n",
       " 0.616172240214473,\n",
       " 0.15149687841946274,\n",
       " 0.4049653546742876,\n",
       " 0.009417424386647161,\n",
       " 1.4085037689773552e-12,\n",
       " 0.7573915480067872,\n",
       " 0.6848444053086156,\n",
       " 0.3496303493854831,\n",
       " 1.1008805815558478e-15,\n",
       " 0.5718795245221766,\n",
       " 0.5358926672468953,\n",
       " 0.6228801916962026,\n",
       " 2.710595446214632e-09,\n",
       " 7.436102429753345e-07,\n",
       " 0.4546436820784866,\n",
       " 0.5786312925133861,\n",
       " 0.9795997218601918,\n",
       " 0.4666355432465532,\n",
       " 0.2339860274159174,\n",
       " 1.489469586218747e-05,\n",
       " 0.5547267497079768,\n",
       " 7.871040467979202e-20,\n",
       " 0.3201678390694131,\n",
       " 0.03114039349827465,\n",
       " 0.15222563092554253,\n",
       " 0.00046116185972489866,\n",
       " 0.2790100051368156,\n",
       " 0.0005082862303108402,\n",
       " 0.4237286603535352,\n",
       " 0.614770964836503,\n",
       " 6.50257893211449e-06,\n",
       " 0.38770120558921717,\n",
       " 1.367567806603408e-07,\n",
       " 3.738492407271582e-18,\n",
       " 0.0241932816516466,\n",
       " 0.1310955314137912,\n",
       " 0.029582173617636567,\n",
       " 0.3487612556192481,\n",
       " 0.10329692466767083,\n",
       " 0.1506482947821438,\n",
       " 0.5029136022704832,\n",
       " 2.048516427198314e-09,\n",
       " 0.32660707290143165,\n",
       " 0.35576288867259254,\n",
       " 0.30221194940328394,\n",
       " 0.0001249138021823195,\n",
       " 1.2379403927035096e-15,\n",
       " 0.08830010037492896,\n",
       " 0.3992045117349743,\n",
       " 0.00076020377595544,\n",
       " 0.4566708134235561,\n",
       " 0.30820007468629884,\n",
       " 0.00040184240571978364,\n",
       " 0.20769543498375895,\n",
       " 0.0013831207199349366,\n",
       " 0.7248398610019622,\n",
       " 0.4902428895550681,\n",
       " 0.3875885691437756,\n",
       " 4.1001534085062975e-08,\n",
       " 0.8874863809345068,\n",
       " 6.621457161981342e-22,\n",
       " 0.2959482455469974,\n",
       " 0.6819841282920389,\n",
       " 0.6986639059221547,\n",
       " 0.4408029806142324,\n",
       " 0.8583533555290537,\n",
       " 1.023910247245656e-05,\n",
       " 0.6623307346018228,\n",
       " 0.7762268194053071,\n",
       " 0.5266423922025552,\n",
       " 0.012689101378447996,\n",
       " 0.08364443271527297,\n",
       " 0.8578407129256674,\n",
       " 0.22786502334914113,\n",
       " 5.878804199914802e-14,\n",
       " 0.3679984400732276,\n",
       " 0.4367983516077629,\n",
       " 0.0008098805575686887,\n",
       " 0.008565753016397892,\n",
       " 0.8942320707039582,\n",
       " 0.000921427874835626,\n",
       " 0.6767334018020117,\n",
       " 0.07420643283866726,\n",
       " 6.202989047288791e-15,\n",
       " 0.3098088983549886,\n",
       " 1.6137821347692757e-15,\n",
       " 0.002300785811724497,\n",
       " 0.5176019807550218,\n",
       " 6.362161830870447e-05,\n",
       " 0.42249585115752974,\n",
       " 0.7223989471975938,\n",
       " 0.3142764240989544,\n",
       " 0.007334378704581574,\n",
       " 0.5573136773241876,\n",
       " 0.11013889242329136,\n",
       " 0.13785503784126846,\n",
       " 0.010829033807571964,\n",
       " 0.766273356522878,\n",
       " 0.46546507401437454,\n",
       " 0.00013522935773356603,\n",
       " 0.5986608598020302,\n",
       " 2.801100508928611e-08,\n",
       " 0.0008485414094050545,\n",
       " 0.506905131690907,\n",
       " 0.05334402905114925,\n",
       " 0.5645664259957033,\n",
       " 5.781907150907717e-06,\n",
       " 0.5356422793123803,\n",
       " 0.0013074325799573806,\n",
       " 0.562995568045568,\n",
       " 0.6664687489500472,\n",
       " 0.008705889053018256,\n",
       " 1.2395728239938669e-09,\n",
       " 0.9214896694550756,\n",
       " 0.921036575174145,\n",
       " 0.5728160508399027,\n",
       " 5.892215806326689e-05,\n",
       " 0.006474161338325502,\n",
       " 3.6679304418444655e-07,\n",
       " 0.8482362546024356,\n",
       " 0.17452922068999555,\n",
       " 0.006160405627555177,\n",
       " 0.17171198812894586,\n",
       " 0.5898388229844924,\n",
       " 1.3651852400959918e-11,\n",
       " 0.7107402384656105,\n",
       " 0.17358494478488323,\n",
       " 1.8875881206320037e-06,\n",
       " 0.07806068640904439,\n",
       " 0.31427642409895423,\n",
       " 0.00010166530684503114,\n",
       " 0.054207782294906734,\n",
       " 0.742562055061003,\n",
       " 0.032688300945569515,\n",
       " 0.30265807853295,\n",
       " 0.0002667049818027438,\n",
       " 7.707504002461628e-13,\n",
       " 0.1612611027187995,\n",
       " 0.6490672751767765,\n",
       " 0.15348418097699185,\n",
       " 0.9600280290285668,\n",
       " 0.3142764240989544,\n",
       " 0.7527614738862145,\n",
       " 0.12616747768110712,\n",
       " 0.694719605542374,\n",
       " 7.046530096415934e-06,\n",
       " 0.5769347018668123,\n",
       " 0.4584393929926148,\n",
       " 0.02690485310989897,\n",
       " 0.0008851138343674008,\n",
       " 0.10018274662400233,\n",
       " 0.0063409501126257695,\n",
       " 0.6312929240627377,\n",
       " 0.32114839924169597,\n",
       " 9.817636600233813e-21,\n",
       " 0.31427642409895434,\n",
       " 0.03343839063385032,\n",
       " 0.0006750117671751884,\n",
       " 0.9661610098975384,\n",
       " 0.7496230028661933,\n",
       " 0.05606317690080763,\n",
       " 0.3233414617014858,\n",
       " 0.6476540728427698,\n",
       " 0.33082494181299926,\n",
       " 0.11226394285547237,\n",
       " 0.40085633377499374,\n",
       " 0.30251352150762084,\n",
       " 0.10830592686858222,\n",
       " 0.04591881057370265,\n",
       " 2.4556877344454464e-07,\n",
       " 0.5256276600960128,\n",
       " 0.21770033714663883,\n",
       " 0.6442985235606149,\n",
       " 0.22462763061561938,\n",
       " 1.5201332482582913e-15,\n",
       " 0.652760790873657,\n",
       " 0.5848811688681741,\n",
       " 2.97477661193981e-29,\n",
       " 0.911600337852205,\n",
       " 0.24995651640990485,\n",
       " 0.015503103014059905,\n",
       " 0.1570955028609343,\n",
       " 0.0008973820098114971,\n",
       " 0.0011826947004665678,\n",
       " 9.091348768539213e-16,\n",
       " 0.4450572389019525,\n",
       " 0.4134792925742853,\n",
       " 0.9615534475255294,\n",
       " 6.998485760710547e-05,\n",
       " 0.3087943390418139,\n",
       " 0.6441840051683003,\n",
       " 0.7047039959085517,\n",
       " 0.6663417442262887,\n",
       " 0.3142764240989545,\n",
       " 0.3142764240989545,\n",
       " 0.1921268746235671,\n",
       " 0.17358494478488348,\n",
       " 0.5912075403208152,\n",
       " 0.32660707290143154,\n",
       " 0.030050136105782096,\n",
       " 0.011892845685057399,\n",
       " 3.960517325648619e-28,\n",
       " 0.0039508969395259655,\n",
       " 0.16597715554949713,\n",
       " 0.07262648671002633,\n",
       " 0.37920102917059473,\n",
       " 0.5665124868500008,\n",
       " 7.232899618397541e-07,\n",
       " 0.0035386263415093833,\n",
       " 0.029532672091103388,\n",
       " 0.2814954487752913,\n",
       " 0.326157974898847,\n",
       " 2.406374106719436e-06,\n",
       " 0.31314225767116105,\n",
       " 5.678895955317917e-10,\n",
       " 0.021527757681090606,\n",
       " 1.2662581653953357e-22,\n",
       " 0.03687852582130534,\n",
       " 0.0037433387115221885,\n",
       " 0.6717897784838984,\n",
       " 0.4667524608266109,\n",
       " 0.570488220980591,\n",
       " 1.617036739005707e-08,\n",
       " 0.15614735490388948,\n",
       " 0.05909650605224853,\n",
       " 0.4142161998890893,\n",
       " 1.2651738287115823e-11,\n",
       " 0.06325373836809682,\n",
       " 0.03390790242934901,\n",
       " 0.5822290506856101,\n",
       " 0.1515403715919604,\n",
       " 0.011586249808313926,\n",
       " 0.13780939201126507,\n",
       " 1.0177972177934188e-05,\n",
       " 0.003737100151904435,\n",
       " 0.812987761838132,\n",
       " 0.0018127746428831203,\n",
       " 0.11293606380670909,\n",
       " 0.6662937746004118,\n",
       " 0.43833738262443256,\n",
       " 0.3526741907081069,\n",
       " 0.37536477389972966,\n",
       " 0.0034766872222685937,\n",
       " 0.6872590060040091,\n",
       " 0.0035760831347265,\n",
       " 0.2572371924717414,\n",
       " 0.6387424985266827,\n",
       " 1.4445037795662505e-07,\n",
       " 0.0026117767401416495,\n",
       " 1.235921487449713e-17,\n",
       " 0.3157190859042375,\n",
       " 0.0466424281871355,\n",
       " 1.7624155628497656e-11,\n",
       " 2.1952590939979937e-08,\n",
       " 0.5953880337357063,\n",
       " 9.912900607849077e-05,\n",
       " 0.516685416260543,\n",
       " 0.10007776192516935,\n",
       " 0.0021502125145711334,\n",
       " 0.21673137095970557,\n",
       " 0.9863704984601964,\n",
       " 0.31427642409895434,\n",
       " 0.5027481974841499,\n",
       " 4.485026036091028e-07,\n",
       " 0.004858582439913736,\n",
       " 0.10256650953084674,\n",
       " 0.5835431126454399,\n",
       " 0.5283208904307326,\n",
       " 0.849360893366908,\n",
       " 0.9390237138816759,\n",
       " 1.3829014486299912e-07,\n",
       " 0.0030360832721670963,\n",
       " 1.5378968042478676e-27,\n",
       " 0.32660707290143165,\n",
       " 0.839809259842614,\n",
       " 5.569596186065405e-05,\n",
       " 0.048403680130887736,\n",
       " 0.46309879873905435,\n",
       " 7.114876850525944e-07,\n",
       " 0.11589241808000604,\n",
       " 0.10581880396030105,\n",
       " 0.9271239585565612,\n",
       " 0.0016116794734265488,\n",
       " 0.10532682149964676,\n",
       " 2.402302749811741e-20,\n",
       " 0.02681159348658125,\n",
       " 2.01451351888921e-06,\n",
       " 0.49272192400038284,\n",
       " 0.13484688574723933,\n",
       " 0.006850039851089147,\n",
       " 0.4750871071679408,\n",
       " 0.053335539563393125,\n",
       " 0.017282881003309422,\n",
       " 0.026696386790962236,\n",
       " 0.003745546149154567,\n",
       " 0.18494598757723862,\n",
       " 0.01001215973825119,\n",
       " 0.5471670255125203,\n",
       " 1.1232406553504421e-07,\n",
       " 0.02049618473874408,\n",
       " 0.011820844622549113,\n",
       " 0.011766722863201063,\n",
       " 0.028835502721320707,\n",
       " 0.0178363495776772,\n",
       " 8.505420686953001e-05,\n",
       " 0.11181375277260361,\n",
       " 0.191527803222702,\n",
       " 0.10850081072005689,\n",
       " 8.423421504495242e-05,\n",
       " 0.616781460166486,\n",
       " 0.012328709570638034,\n",
       " 0.9753757176456236,\n",
       " 0.05270573917699541,\n",
       " 1.7836569545022144e-07,\n",
       " 0.3573170602579866,\n",
       " 0.023443665383733506,\n",
       " 0.05455266497588547,\n",
       " 0.5754942868630302,\n",
       " 0.6818406475158683,\n",
       " 0.1300448905675597,\n",
       " 0.00024229276496781513,\n",
       " 0.00022715190524451157,\n",
       " 8.73736715673055e-07,\n",
       " 6.542982321151629e-28,\n",
       " 5.935206596436001e-10,\n",
       " 0.7110639589448324,\n",
       " 0.13895055185759095,\n",
       " 0.19783355759173982,\n",
       " 0.28319834749774375,\n",
       " 0.35659276086934233,\n",
       " 0.019627733158105173,\n",
       " 0.28510065155061826,\n",
       " 0.32660707290143165,\n",
       " 0.033085656123759306,\n",
       " 5.097684935626298e-10,\n",
       " 0.08019845999462041,\n",
       " 0.06842596478765375,\n",
       " 0.00029397878183971214,\n",
       " 0.5853752098267329,\n",
       " 1.8870075893637276e-29,\n",
       " 0.2627823921835574,\n",
       " 0.02085845640346261,\n",
       " 0.7898233038171998,\n",
       " 0.9389705557133299,\n",
       " 0.5679137350255383,\n",
       " 0.681113201741014,\n",
       " 0.04065201970831902,\n",
       " 0.004860213322746118,\n",
       " 0.5148098770582105,\n",
       " 0.6877344531386992,\n",
       " 0.46450002690960046,\n",
       " 0.21095842907470233,\n",
       " 0.04412948676571493,\n",
       " 0.9811504136184213,\n",
       " 0.5773966125632294,\n",
       " 1.7328162098976685e-05,\n",
       " 0.5320799852844644,\n",
       " 0.49116837976086003,\n",
       " 0.5121774369499015,\n",
       " 0.49139897698740365,\n",
       " 1.632006227599731e-23,\n",
       " 0.12295803441142802,\n",
       " 0.682186692155533,\n",
       " 0.6135218762056949,\n",
       " 0.2492082029837647,\n",
       " 0.9509184583818728,\n",
       " 0.00506983363633935,\n",
       " 0.511779690584463,\n",
       " 0.006893756908765392,\n",
       " 0.0010942650854448008,\n",
       " 0.2341189344658756,\n",
       " 0.9270958062126013,\n",
       " 0.0014736245199391171,\n",
       " 0.5709414893405453,\n",
       " 0.460077972024277,\n",
       " 1.0148900792512788e-05,\n",
       " 0.6024185258383559,\n",
       " 0.000595183513084921,\n",
       " 0.2319841727315956,\n",
       " 0.4156868558222395,\n",
       " 0.5033533727260604,\n",
       " 6.629466420474971e-06,\n",
       " 0.7289682149403528,\n",
       " 0.009318111897755893,\n",
       " 0.0001102563152438503,\n",
       " 9.865158611445587e-05,\n",
       " 0.09271389018729131,\n",
       " 3.213586221665666e-09,\n",
       " 0.11124209286978709,\n",
       " 0.9608683361000481,\n",
       " 0.2813640303987785,\n",
       " 6.73829857399494e-30,\n",
       " 0.11881859551567842,\n",
       " 0.0043993082295830715,\n",
       " 0.012274333181707573,\n",
       " 2.5768254260482157e-05,\n",
       " 0.39061578174821066,\n",
       " 4.124614761766349e-06,\n",
       " 0.013487418472058596,\n",
       " 0.8035168097693102,\n",
       " 3.7705929530529274e-06,\n",
       " 1.580195755450609e-07,\n",
       " 0.5436616719208285,\n",
       " 0.08608393748036536,\n",
       " 0.255745914197241,\n",
       " 0.669036960475853,\n",
       " 0.4383874593521334,\n",
       " 4.150669582928263e-08,\n",
       " 0.7875213812693915,\n",
       " 0.0013841901616654447,\n",
       " 0.003440756729259479,\n",
       " 0.0002688974611110957,\n",
       " 0.773883061505904,\n",
       " 9.825411964088627e-11,\n",
       " 0.0016922531586343193,\n",
       " 0.060126052831485824,\n",
       " 0.008282928551965685,\n",
       " 0.0016584461148970715,\n",
       " 0.23980282928205543,\n",
       " 0.0016735613472010928,\n",
       " 0.7060013817017164,\n",
       " 0.0020235340717774694,\n",
       " 0.6127554877558867,\n",
       " 1.2994301460008633e-05,\n",
       " 0.6618458613791875,\n",
       " 0.01816776524457183,\n",
       " 0.17793453270589824,\n",
       " 0.00021223040494124687,\n",
       " 0.009669328856370481,\n",
       " 0.33241817731525747,\n",
       " 0.4589800121248895,\n",
       " 0.2634369827010623,\n",
       " 1.3369867856907323e-11,\n",
       " 0.11218700925490946,\n",
       " 0.9560618928348545,\n",
       " 0.12389536441536252,\n",
       " 1.850718324783525e-05,\n",
       " 0.5698760811156309,\n",
       " 0.41649779333399295,\n",
       " 0.8994571219618356,\n",
       " 0.375539010928273,\n",
       " 0.5949395550027514,\n",
       " 0.0865615049697452,\n",
       " 0.02258642344370674,\n",
       " 0.01614254816914541,\n",
       " 1.7800479786726865e-06,\n",
       " 0.002802532889447579,\n",
       " 0.22203304956415237,\n",
       " 0.35206772947844855,\n",
       " 0.7877096980104757,\n",
       " 1.1232616418517854e-07,\n",
       " 2.7069688491233857e-09,\n",
       " 0.9450856931353384,\n",
       " 4.974829141074142e-08,\n",
       " 0.8199808486673205,\n",
       " 0.0003477226887077094,\n",
       " 0.12813239816496053,\n",
       " 0.011200222402250812,\n",
       " 0.6943110958000338,\n",
       " 0.03167776061166948,\n",
       " 0.6757497579843171,\n",
       " 0.05686242140456566,\n",
       " 0.028189656364913673,\n",
       " 0.8002660007472934,\n",
       " 0.000966467155571191,\n",
       " 0.0007816734837264066,\n",
       " 0.7837745042321255,\n",
       " 4.795192813852754e-05,\n",
       " 0.0631885761809586,\n",
       " 0.16155335376688465,\n",
       " 0.7169359588797564,\n",
       " 0.595493534340491,\n",
       " 0.0015274130058453054,\n",
       " 0.17520170336246355,\n",
       " 2.933207841290934e-07,\n",
       " 0.18472200455701324,\n",
       " 0.09684326560805859,\n",
       " 0.775606920853696,\n",
       " 0.03634256347245498,\n",
       " 0.02909559030263975,\n",
       " 3.2389495055150266e-05,\n",
       " 0.6209221949835624,\n",
       " 0.8337358281001246,\n",
       " 0.02671185338976871,\n",
       " 0.8833923948821074,\n",
       " 0.02869249838314667,\n",
       " 0.18331241702194873,\n",
       " 0.139738376074924,\n",
       " 4.2470335821964866e-05,\n",
       " 0.0027184939067177115,\n",
       " 0.2535678844307577,\n",
       " 0.2824035228409146,\n",
       " 0.32660707290143154,\n",
       " 0.21581655482035672,\n",
       " 0.13871577574070418,\n",
       " 0.07347667190295717,\n",
       " 0.45628351672191303,\n",
       " 2.6713995208912518e-06,\n",
       " 4.205753311738416e-05,\n",
       " 0.9857626172470296,\n",
       " 0.012647003997958744,\n",
       " 0.3142764240989545,\n",
       " 0.9907352437437784,\n",
       " 0.00175528115990592,\n",
       " 0.00116301773512023,\n",
       " 0.0008055729157082913,\n",
       " 0.033743562353393375,\n",
       " 0.5882024861067736,\n",
       " 0.03421864136009709,\n",
       " 0.45119458634855014,\n",
       " 0.86337167952605,\n",
       " 0.11867558019090141,\n",
       " 0.011145430613751069,\n",
       " 0.47419882444461114,\n",
       " 0.5109156507289005,\n",
       " 0.015907330874409646,\n",
       " 0.0003668028434312517,\n",
       " 0.5150450074419706,\n",
       " 0.7083052985802969,\n",
       " 0.032534958034291336,\n",
       " 1.4886996730153576e-30,\n",
       " 0.48722711111004025,\n",
       " 0.6438526068230902,\n",
       " 1.573288398034996e-29,\n",
       " 3.382847378263711e-09,\n",
       " 0.03482864076984055,\n",
       " 0.16138207218833453,\n",
       " 0.3142764240989545,\n",
       " 0.0056872655244603965,\n",
       " 0.3859566292805766,\n",
       " 0.2704195892455265,\n",
       " 0.4599226642409626,\n",
       " 0.5464543286646821,\n",
       " 0.32660707290143176,\n",
       " 0.3052834490564211,\n",
       " 0.02591876656306687,\n",
       " 5.996404210831021e-07,\n",
       " 0.08398339974841754,\n",
       " 0.9950747520091833,\n",
       " 0.00010739438484771938,\n",
       " 3.142375663705301e-06,\n",
       " 0.10973273796838719,\n",
       " 0.08711461743893656,\n",
       " 0.8266614093008904,\n",
       " 0.00047515575718348296,\n",
       " 0.05607605611543369,\n",
       " 0.9170519166951501,\n",
       " 0.822423915919741,\n",
       " 0.2877554015052911,\n",
       " 0.9107266408276147,\n",
       " 0.631151516888445,\n",
       " 0.0001043525973122304,\n",
       " 0.326607072901432,\n",
       " 0.02257401142787995,\n",
       " 0.9300228140646717,\n",
       " 0.7042882163703176,\n",
       " 0.6386637957933106,\n",
       " 0.7705730852327639,\n",
       " 0.5885675437686237,\n",
       " 0.005118648432153641,\n",
       " 0.2855246136573398,\n",
       " 0.03752043875190774,\n",
       " 0.18842935578143544,\n",
       " 0.05454259636643403,\n",
       " 0.0822683530710451,\n",
       " 0.03466317132811629,\n",
       " 0.017626588907713053,\n",
       " 0.004622399785583416,\n",
       " 0.014612111302596997,\n",
       " 0.04493762933183411,\n",
       " 0.10337556568755281,\n",
       " 0.0009783182293582738,\n",
       " 0.47352642851263604,\n",
       " 0.32660707290143165,\n",
       " 0.7463474276587774,\n",
       " 0.0005553289494579635,\n",
       " 0.609868302127607,\n",
       " 0.1612611027187995,\n",
       " 0.1441447158143581,\n",
       " 0.22266588813730884,\n",
       " 0.00024118973761171126,\n",
       " 0.04252908905993374,\n",
       " 0.7556404244862277,\n",
       " 0.1740612764427392,\n",
       " 0.0033782679995002208,\n",
       " 0.7945010948388396,\n",
       " 1.6355132247384336e-08,\n",
       " 0.5579815843151245,\n",
       " 0.0002511831555019327,\n",
       " 0.07256966580730416,\n",
       " 0.61952715699482,\n",
       " 0.039898409750209335,\n",
       " 0.326607072901432,\n",
       " 0.326607072901432,\n",
       " 3.2860955732337252e-12,\n",
       " 3.1921688876175655e-05,\n",
       " 1.2075560761231265e-13,\n",
       " 0.040635324294117564,\n",
       " 0.01855938119297267,\n",
       " 0.014562388411885027,\n",
       " 6.359582728659625e-05,\n",
       " 0.5464812998217745,\n",
       " 6.958850052741185e-05,\n",
       " 0.9616467280473511,\n",
       " 0.9703994954861644,\n",
       " 0.06833745114285572,\n",
       " 4.31634620099091e-05,\n",
       " 0.7241171824803817,\n",
       " 0.6864600582068257,\n",
       " 0.051391199276857556,\n",
       " 0.14413886568282497,\n",
       " 0.11276336427396755,\n",
       " 0.5715966366309564,\n",
       " 0.32523763399816585,\n",
       " 1.3464270205518253e-21,\n",
       " 4.192131629880336e-08,\n",
       " 0.001546092746028865,\n",
       " 0.2725191162389047,\n",
       " 0.945857974747012,\n",
       " 0.008723117900956433,\n",
       " 0.1128435796059869,\n",
       " 0.030659741652162092,\n",
       " 6.31263056364819e-05,\n",
       " 0.2600908072256113,\n",
       " 1.730241219307077e-06,\n",
       " 0.3304487681443925,\n",
       " 5.813714789467255e-17,\n",
       " 0.12035394884532069,\n",
       " 0.02889264161384428,\n",
       " 0.3142764240989544,\n",
       " 0.5434398887386976,\n",
       " 5.468837103375628e-05,\n",
       " 1.734412754826507e-11,\n",
       " 3.1425144831390197e-21,\n",
       " 0.10962894147547642,\n",
       " 0.3142764240989545,\n",
       " 4.741881501442641e-08,\n",
       " 0.09464203963317645,\n",
       " 9.491296699537451e-06,\n",
       " 1.4981127853602808e-12,\n",
       " 0.12176526306590894,\n",
       " 0.9840379732671737,\n",
       " 0.37535181704421194,\n",
       " 0.42262209666068606,\n",
       " 0.3154087752911229,\n",
       " 0.00038768259578061715,\n",
       " 0.9534782736253665,\n",
       " 0.06463255462818027,\n",
       " 0.25362285300097037,\n",
       " 0.15064829478214373,\n",
       " 0.7036352903719774,\n",
       " 0.0026064131133351387,\n",
       " 0.006532563807758388,\n",
       " 7.626590749787063e-12,\n",
       " 0.2581481672918806,\n",
       " 0.09857148842660489,\n",
       " 0.5679787815506125,\n",
       " 0.023730851905666196,\n",
       " 6.199653694164736e-05,\n",
       " 0.00019465091565314032,\n",
       " 5.862453132766972e-07,\n",
       " 0.00014167229294569743,\n",
       " 0.168757206419155,\n",
       " 0.14227576404926232,\n",
       " 0.6148113424559818,\n",
       " 2.4169134067139153e-10,\n",
       " 0.8442265215727403,\n",
       " 0.4899029752741786,\n",
       " 0.7758110234800899,\n",
       " 0.946821245898483,\n",
       " 0.7237571665169952,\n",
       " 0.10253190855718343,\n",
       " 0.05680154783934638,\n",
       " 0.9820799305253295,\n",
       " 0.9049119659728024,\n",
       " 0.3923240924508733,\n",
       " 0.8327043972614436,\n",
       " 0.09773606814785452,\n",
       " 0.7455451637581465,\n",
       " 0.6402469487271196,\n",
       " 0.40394264927558154,\n",
       " 2.608436732213336e-39,\n",
       " 0.08926682908635702,\n",
       " 0.44745973291837826,\n",
       " 0.6711713447114771,\n",
       " 0.6437569278218618,\n",
       " 0.41795837404712943,\n",
       " 0.019508912763986565,\n",
       " 0.023508035310183487,\n",
       " 0.21920683797875087,\n",
       " 6.8571328331439905e-06,\n",
       " 6.087668602484666e-22,\n",
       " 0.6288898087372137,\n",
       " 0.002196763643046683,\n",
       " 0.010876781412273223,\n",
       " 0.6437569278218616,\n",
       " 0.8663081359013491,\n",
       " 3.1889625036008625e-09,\n",
       " 2.7747917573578308e-08,\n",
       " 0.24764953978178347,\n",
       " 0.14904830526556606,\n",
       " 0.04633411730222332,\n",
       " 0.09495746895428078,\n",
       " 0.5037996360816245,\n",
       " 0.3707587414739294,\n",
       " 0.08212123887339018,\n",
       " 0.226621140448742,\n",
       " 6.977955835389948e-07,\n",
       " 0.04038405883200214,\n",
       " 0.6682346438407111,\n",
       " 0.8352877104055372,\n",
       " 7.186457848964589e-08,\n",
       " 0.006229888425600581,\n",
       " 8.136206678201681e-07,\n",
       " 0.9682162574136011,\n",
       " 0.003339336082310361,\n",
       " 0.8058721446690724,\n",
       " 0.00489389498123928,\n",
       " 0.6871824260833843,\n",
       " 0.4944118994235941,\n",
       " 4.214288433412752e-05,\n",
       " 0.9121337936698914,\n",
       " 0.015231882981629955,\n",
       " 0.001109367669144536,\n",
       " 0.29282353883140494,\n",
       " 0.10877509989786076,\n",
       " 0.06961091627565347,\n",
       " 0.5048638115819666,\n",
       " 0.12333015105326371,\n",
       " 0.018061494753087264,\n",
       " 0.8925212477361575,\n",
       " 0.018598222745568216,\n",
       " 0.6869363784083411,\n",
       " 0.31427642409895434,\n",
       " 0.5842789319379887,\n",
       " 0.0005929121831197417,\n",
       " 0.0002417637972389797,\n",
       " 0.036940056033753665,\n",
       " 0.6986639059221549,\n",
       " 0.06943524833215693,\n",
       " 0.000933658559329954,\n",
       " 0.03600546957769031,\n",
       " 2.445386106989287e-08,\n",
       " 0.02281478629045358,\n",
       " 1.4859897407179914e-22,\n",
       " 2.5005575420093745e-07,\n",
       " 5.780020362573674e-12,\n",
       " 0.06400869300363893,\n",
       " 0.2514966226866165,\n",
       " 0.17484166217129338,\n",
       " 0.4509661453048698,\n",
       " 0.35765637748999224,\n",
       " 2.219449868196326e-06,\n",
       " 0.016019066425230974,\n",
       " 0.35245063870440885,\n",
       " 0.029974812071381265,\n",
       " 0.1842764490136661,\n",
       " 0.2158718683861947,\n",
       " 0.9820133555120221,\n",
       " 1.8308037735275946e-42,\n",
       " 0.26659795949265064,\n",
       " 8.05932471661684e-11,\n",
       " 0.17358705801526156,\n",
       " 0.7421510620478367,\n",
       " 0.42367708219185873,\n",
       " 0.7074616266198943,\n",
       " 0.0001941313173616837,\n",
       " 0.17692114824293084,\n",
       " 0.00045777782525756663,\n",
       " 0.4408029806142324,\n",
       " 0.0003986574524828554,\n",
       " 0.6161218637025557,\n",
       " 0.06933268814370844,\n",
       " 0.001330907323473059,\n",
       " 9.416668325079037e-23,\n",
       " 0.013699639342642896,\n",
       " 0.41843226555471336,\n",
       " 1.6469088347862748e-06,\n",
       " 0.01727034664099443,\n",
       " 0.13826954447918957,\n",
       " 0.017602667913912923,\n",
       " 0.04329682602006685,\n",
       " 0.037306433549785765,\n",
       " 0.4853684209200263,\n",
       " 0.5588509509725501,\n",
       " 1.4197312428048828e-10,\n",
       " 0.008006518968021702,\n",
       " 0.7275685012049873,\n",
       " 2.0903283593242116e-12,\n",
       " 0.05695376469788386,\n",
       " 0.21756442077957322,\n",
       " 0.011932858983746953,\n",
       " 0.005458136331524691,\n",
       " 0.8851971466724886,\n",
       " 0.9710452149862334,\n",
       " 3.2933477243912194e-08,\n",
       " 0.2918077741068237,\n",
       " 0.4967837051649364,\n",
       " 0.11293101410616509,\n",
       " 0.020055899351132896,\n",
       " 0.0005738026072650893,\n",
       " 0.6528961991137026,\n",
       " 1.754040294190557e-08,\n",
       " 0.2989515936325472,\n",
       " 0.3991160749179057,\n",
       " 0.397137541388469,\n",
       " 0.18007072995271126,\n",
       " 0.20263629809801356,\n",
       " 0.006722474120041112,\n",
       " 0.009481889127586131,\n",
       " 0.4952499147940338,\n",
       " 1.2932420257733476e-05,\n",
       " 0.5352397677876299,\n",
       " 0.029914167019338998,\n",
       " 0.2334542264634661,\n",
       " 0.000625610754306324,\n",
       " 0.38197754067738954,\n",
       " 0.32660707290143176,\n",
       " 3.388025168466632e-32,\n",
       " 0.009515856514423616,\n",
       " 0.3813634206949632,\n",
       " 0.009580994134777752,\n",
       " 0.014663169838072063,\n",
       " 0.005367952564620878,\n",
       " 0.10243571844524632,\n",
       " 0.16545119236521355,\n",
       " 0.9625167122908616,\n",
       " 0.07426496930758812,\n",
       " 1.6875315157375867e-05,\n",
       " 0.9139061919566686,\n",
       " 0.04491095296451986,\n",
       " 4.131941230057948e-05,\n",
       " 0.0022209618355013058,\n",
       " 0.4314966498929427,\n",
       " 0.4789651037118986,\n",
       " 0.0026875886909226722,\n",
       " 0.02907042621869437,\n",
       " 0.8453420989858367,\n",
       " 0.026983939798866784,\n",
       " 0.0013660072254146772,\n",
       " 0.12073406346392002,\n",
       " 0.12730877948941674,\n",
       " 0.9420449792955454,\n",
       " 0.00012963301318618504,\n",
       " 0.9457249339808338,\n",
       " 2.6775640591623723e-08,\n",
       " 0.25553221468147636,\n",
       " 0.003221018455211889,\n",
       " 0.29371314982962854,\n",
       " 4.362873865301049e-15,\n",
       " 0.7536796565903254,\n",
       " 0.38267603710048936,\n",
       " 0.00047985077203911616,\n",
       " 0.460523461422795,\n",
       " 0.005236031686038339,\n",
       " 0.3142764240989545,\n",
       " 0.00027014385537226947,\n",
       " 0.008006885355260061,\n",
       " 6.90044991677857e-05,\n",
       " 0.00020963650137768072,\n",
       " 1.5257002826249196e-13,\n",
       " 2.8606050883027828e-27,\n",
       " 0.0017967545404687921,\n",
       " 0.14761522680209588,\n",
       " 6.216065446356716e-06,\n",
       " 0.007634783516562036,\n",
       " 0.0022957341975305854,\n",
       " 0.13299228639813745,\n",
       " 0.8023863357349001,\n",
       " 2.6353405453908807e-16,\n",
       " 0.10347216428971188,\n",
       " 0.08489448064274444,\n",
       " 0.9790266320607759,\n",
       " 0.16152222680225506,\n",
       " 0.05289272241125215,\n",
       " 0.30292393380956867,\n",
       " 0.08965281449460208,\n",
       " 0.5289716886206559,\n",
       " 0.5747800593209644,\n",
       " 2.268460753524661e-06,\n",
       " 0.38561543530146236,\n",
       " 0.05780721105977705,\n",
       " 0.9772552422553716,\n",
       " 5.155334211128738e-07,\n",
       " 0.36332638851738097,\n",
       " 0.32660707290143165,\n",
       " 0.393447616280192,\n",
       " 9.811856496659945e-05,\n",
       " 0.09867358885917155,\n",
       " 0.43104184473665064,\n",
       " 0.3469901135286484,\n",
       " 0.037003845148158625,\n",
       " 0.13484129231229472,\n",
       " 0.4618491613488451,\n",
       " 0.30029596461056696,\n",
       " 0.25082476119654834,\n",
       " 0.31427642409895434,\n",
       " 0.6823706050887566,\n",
       " 0.21963432163589283,\n",
       " 0.7134965338013988,\n",
       " 0.008136729753805257,\n",
       " 0.8182742043118817,\n",
       " 0.3347152608923939,\n",
       " 0.8943972048677793,\n",
       " 0.0788797425299409,\n",
       " 0.3487418415186929,\n",
       " 2.3539883333590856e-05,\n",
       " 4.562744318395712e-27,\n",
       " 0.49040612936081995,\n",
       " 0.054576780218512234,\n",
       " 2.7176382553276396e-17,\n",
       " 0.6524062262743786,\n",
       " 0.25533129666540105,\n",
       " 0.03784390989287729,\n",
       " 0.0009331208510935804,\n",
       " 0.7681490835393094,\n",
       " 0.05055525708363572,\n",
       " 0.6370389687418905,\n",
       " 7.219442411821164e-06,\n",
       " 0.08672075209704103,\n",
       " 0.004823637400259604,\n",
       " 0.02377619052602662,\n",
       " 0.022573858818395857,\n",
       " 0.08123933486399358,\n",
       " 0.3416189494593592,\n",
       " 0.009176738040326924,\n",
       " 0.43678483479205643,\n",
       " 0.01744598145125814,\n",
       " 0.01560443384062257,\n",
       " 0.22948649108686117,\n",
       " 0.00028919708429530423,\n",
       " 0.9857626172470296,\n",
       " 0.06341593806120369,\n",
       " 0.00527326280712815,\n",
       " 0.23282448821962354,\n",
       " 1.085223707636707e-08,\n",
       " 0.9782900563823722,\n",
       " 0.5795146653258003,\n",
       " 0.7922746489579559,\n",
       " 0.2590843282875178,\n",
       " 0.14656512998563329,\n",
       " 0.34631430558481036,\n",
       " 0.08569413694339367,\n",
       " 0.6551615764408494,\n",
       " 2.4118774835507835e-06,\n",
       " 0.004796862361461348,\n",
       " 0.5971142966431395,\n",
       " 1.3247254198637851e-06,\n",
       " 0.1481425297645191,\n",
       " 0.20075180122241948,\n",
       " 0.17341095581865995,\n",
       " 0.2904465671600563,\n",
       " 0.640342403142272,\n",
       " 0.006689855152133391,\n",
       " 0.007031389270575233,\n",
       " 0.8155336602869181,\n",
       " 1.454887515655099e-05,\n",
       " 5.537986860761316e-09,\n",
       " 0.09947647890185839,\n",
       " 0.37584277506578634,\n",
       " 0.4442885828503962,\n",
       " 0.00135514262862384,\n",
       " 0.05401249526127921,\n",
       " 0.22836653680337365,\n",
       " 0.15064829478214362,\n",
       " 0.12084526347873212,\n",
       " 0.5591119310953488,\n",
       " 0.09575891911437603,\n",
       " 0.1456604717631233,\n",
       " 0.0010528135247624977,\n",
       " 0.0003244018709299254,\n",
       " 3.543861041125618e-07,\n",
       " 0.00788054912542663,\n",
       " 0.07989805378096622,\n",
       " 2.423459888840574e-08,\n",
       " ...]"
      ]
     },
     "execution_count": 67,
     "metadata": {},
     "output_type": "execute_result"
    }
   ],
   "source": [
    "pvalue"
   ]
  },
  {
   "cell_type": "markdown",
   "metadata": {},
   "source": [
    "next step Welch test guys (enfin chais pas jai pas verif la variance)"
   ]
  },
  {
   "cell_type": "markdown",
   "metadata": {},
   "source": [
    "##### 2.d)"
   ]
  },
  {
   "cell_type": "code",
   "execution_count": 74,
   "metadata": {},
   "outputs": [
    {
     "data": {
      "text/html": [
       "<div>\n",
       "<style scoped>\n",
       "    .dataframe tbody tr th:only-of-type {\n",
       "        vertical-align: middle;\n",
       "    }\n",
       "\n",
       "    .dataframe tbody tr th {\n",
       "        vertical-align: top;\n",
       "    }\n",
       "\n",
       "    .dataframe thead th {\n",
       "        text-align: right;\n",
       "    }\n",
       "</style>\n",
       "<table border=\"1\" class=\"dataframe\">\n",
       "  <thead>\n",
       "    <tr style=\"text-align: right;\">\n",
       "      <th></th>\n",
       "      <th>pval</th>\n",
       "      <th>fdr</th>\n",
       "      <th>log2_mean_preadipo</th>\n",
       "      <th>log2_mean_adipo</th>\n",
       "      <th>log2_fold_change</th>\n",
       "    </tr>\n",
       "  </thead>\n",
       "  <tbody>\n",
       "    <tr>\n",
       "      <th>8792</th>\n",
       "      <td>NaN</td>\n",
       "      <td>NaN</td>\n",
       "      <td>0.000000</td>\n",
       "      <td>0.035624</td>\n",
       "      <td>inf</td>\n",
       "    </tr>\n",
       "    <tr>\n",
       "      <th>52680</th>\n",
       "      <td>NaN</td>\n",
       "      <td>NaN</td>\n",
       "      <td>0.000000</td>\n",
       "      <td>0.035624</td>\n",
       "      <td>inf</td>\n",
       "    </tr>\n",
       "    <tr>\n",
       "      <th>56994</th>\n",
       "      <td>NaN</td>\n",
       "      <td>NaN</td>\n",
       "      <td>0.000000</td>\n",
       "      <td>0.070389</td>\n",
       "      <td>inf</td>\n",
       "    </tr>\n",
       "    <tr>\n",
       "      <th>11972</th>\n",
       "      <td>NaN</td>\n",
       "      <td>NaN</td>\n",
       "      <td>0.000000</td>\n",
       "      <td>0.137504</td>\n",
       "      <td>inf</td>\n",
       "    </tr>\n",
       "    <tr>\n",
       "      <th>56976</th>\n",
       "      <td>NaN</td>\n",
       "      <td>NaN</td>\n",
       "      <td>0.000000</td>\n",
       "      <td>0.169925</td>\n",
       "      <td>inf</td>\n",
       "    </tr>\n",
       "    <tr>\n",
       "      <th>...</th>\n",
       "      <td>...</td>\n",
       "      <td>...</td>\n",
       "      <td>...</td>\n",
       "      <td>...</td>\n",
       "      <td>...</td>\n",
       "    </tr>\n",
       "    <tr>\n",
       "      <th>43450</th>\n",
       "      <td>NaN</td>\n",
       "      <td>NaN</td>\n",
       "      <td>0.070389</td>\n",
       "      <td>0.000000</td>\n",
       "      <td>0.0</td>\n",
       "    </tr>\n",
       "    <tr>\n",
       "      <th>15398</th>\n",
       "      <td>NaN</td>\n",
       "      <td>NaN</td>\n",
       "      <td>0.035624</td>\n",
       "      <td>0.000000</td>\n",
       "      <td>0.0</td>\n",
       "    </tr>\n",
       "    <tr>\n",
       "      <th>15387</th>\n",
       "      <td>NaN</td>\n",
       "      <td>NaN</td>\n",
       "      <td>0.137504</td>\n",
       "      <td>0.000000</td>\n",
       "      <td>0.0</td>\n",
       "    </tr>\n",
       "    <tr>\n",
       "      <th>18011</th>\n",
       "      <td>NaN</td>\n",
       "      <td>NaN</td>\n",
       "      <td>0.035624</td>\n",
       "      <td>0.000000</td>\n",
       "      <td>0.0</td>\n",
       "    </tr>\n",
       "    <tr>\n",
       "      <th>42764</th>\n",
       "      <td>NaN</td>\n",
       "      <td>NaN</td>\n",
       "      <td>0.035624</td>\n",
       "      <td>0.000000</td>\n",
       "      <td>0.0</td>\n",
       "    </tr>\n",
       "  </tbody>\n",
       "</table>\n",
       "<p>30238 rows × 5 columns</p>\n",
       "</div>"
      ],
      "text/plain": [
       "      pval  fdr  log2_mean_preadipo  log2_mean_adipo  log2_fold_change\n",
       "8792   NaN  NaN            0.000000         0.035624               inf\n",
       "52680  NaN  NaN            0.000000         0.035624               inf\n",
       "56994  NaN  NaN            0.000000         0.070389               inf\n",
       "11972  NaN  NaN            0.000000         0.137504               inf\n",
       "56976  NaN  NaN            0.000000         0.169925               inf\n",
       "...    ...  ...                 ...              ...               ...\n",
       "43450  NaN  NaN            0.070389         0.000000               0.0\n",
       "15398  NaN  NaN            0.035624         0.000000               0.0\n",
       "15387  NaN  NaN            0.137504         0.000000               0.0\n",
       "18011  NaN  NaN            0.035624         0.000000               0.0\n",
       "42764  NaN  NaN            0.035624         0.000000               0.0\n",
       "\n",
       "[30238 rows x 5 columns]"
      ]
     },
     "execution_count": 74,
     "metadata": {},
     "output_type": "execute_result"
    }
   ],
   "source": [
    "de_results[\"log2_mean_preadipo\"] = np.log2(transcriptomics.iloc[:,1:41].mean(axis=1)+1)\n",
    "de_results[\"log2_mean_adipo\"] = np.log2(transcriptomics.iloc[:,41:81].mean(axis=1)+1)\n",
    "\n",
    "de_results"
   ]
  },
  {
   "cell_type": "markdown",
   "metadata": {},
   "source": [
    "##### 2.e)"
   ]
  },
  {
   "cell_type": "code",
   "execution_count": 79,
   "metadata": {},
   "outputs": [
    {
     "data": {
      "text/html": [
       "<div>\n",
       "<style scoped>\n",
       "    .dataframe tbody tr th:only-of-type {\n",
       "        vertical-align: middle;\n",
       "    }\n",
       "\n",
       "    .dataframe tbody tr th {\n",
       "        vertical-align: top;\n",
       "    }\n",
       "\n",
       "    .dataframe thead th {\n",
       "        text-align: right;\n",
       "    }\n",
       "</style>\n",
       "<table border=\"1\" class=\"dataframe\">\n",
       "  <thead>\n",
       "    <tr style=\"text-align: right;\">\n",
       "      <th></th>\n",
       "      <th>pval</th>\n",
       "      <th>fdr</th>\n",
       "      <th>log2_mean_preadipo</th>\n",
       "      <th>log2_mean_adipo</th>\n",
       "      <th>log2_fold_change</th>\n",
       "    </tr>\n",
       "  </thead>\n",
       "  <tbody>\n",
       "    <tr>\n",
       "      <th>12946</th>\n",
       "      <td>NaN</td>\n",
       "      <td>NaN</td>\n",
       "      <td>6.845176</td>\n",
       "      <td>13.011066</td>\n",
       "      <td>6.165889</td>\n",
       "    </tr>\n",
       "    <tr>\n",
       "      <th>6282</th>\n",
       "      <td>NaN</td>\n",
       "      <td>NaN</td>\n",
       "      <td>7.183883</td>\n",
       "      <td>13.134579</td>\n",
       "      <td>5.950695</td>\n",
       "    </tr>\n",
       "    <tr>\n",
       "      <th>765</th>\n",
       "      <td>NaN</td>\n",
       "      <td>NaN</td>\n",
       "      <td>2.255501</td>\n",
       "      <td>7.901772</td>\n",
       "      <td>5.646271</td>\n",
       "    </tr>\n",
       "    <tr>\n",
       "      <th>5302</th>\n",
       "      <td>NaN</td>\n",
       "      <td>NaN</td>\n",
       "      <td>3.520422</td>\n",
       "      <td>9.164656</td>\n",
       "      <td>5.644233</td>\n",
       "    </tr>\n",
       "    <tr>\n",
       "      <th>7147</th>\n",
       "      <td>NaN</td>\n",
       "      <td>NaN</td>\n",
       "      <td>1.419539</td>\n",
       "      <td>6.984988</td>\n",
       "      <td>5.565449</td>\n",
       "    </tr>\n",
       "    <tr>\n",
       "      <th>...</th>\n",
       "      <td>...</td>\n",
       "      <td>...</td>\n",
       "      <td>...</td>\n",
       "      <td>...</td>\n",
       "      <td>...</td>\n",
       "    </tr>\n",
       "    <tr>\n",
       "      <th>1864</th>\n",
       "      <td>NaN</td>\n",
       "      <td>NaN</td>\n",
       "      <td>5.984703</td>\n",
       "      <td>3.083213</td>\n",
       "      <td>-2.901490</td>\n",
       "    </tr>\n",
       "    <tr>\n",
       "      <th>4744</th>\n",
       "      <td>NaN</td>\n",
       "      <td>NaN</td>\n",
       "      <td>4.842979</td>\n",
       "      <td>1.877744</td>\n",
       "      <td>-2.965235</td>\n",
       "    </tr>\n",
       "    <tr>\n",
       "      <th>9367</th>\n",
       "      <td>NaN</td>\n",
       "      <td>NaN</td>\n",
       "      <td>4.836682</td>\n",
       "      <td>1.827819</td>\n",
       "      <td>-3.008863</td>\n",
       "    </tr>\n",
       "    <tr>\n",
       "      <th>55492</th>\n",
       "      <td>NaN</td>\n",
       "      <td>NaN</td>\n",
       "      <td>4.330917</td>\n",
       "      <td>1.247928</td>\n",
       "      <td>-3.082989</td>\n",
       "    </tr>\n",
       "    <tr>\n",
       "      <th>23698</th>\n",
       "      <td>NaN</td>\n",
       "      <td>NaN</td>\n",
       "      <td>5.807999</td>\n",
       "      <td>2.399171</td>\n",
       "      <td>-3.408828</td>\n",
       "    </tr>\n",
       "  </tbody>\n",
       "</table>\n",
       "<p>30238 rows × 5 columns</p>\n",
       "</div>"
      ],
      "text/plain": [
       "      pval  fdr  log2_mean_preadipo  log2_mean_adipo  log2_fold_change\n",
       "12946  NaN  NaN            6.845176        13.011066          6.165889\n",
       "6282   NaN  NaN            7.183883        13.134579          5.950695\n",
       "765    NaN  NaN            2.255501         7.901772          5.646271\n",
       "5302   NaN  NaN            3.520422         9.164656          5.644233\n",
       "7147   NaN  NaN            1.419539         6.984988          5.565449\n",
       "...    ...  ...                 ...              ...               ...\n",
       "1864   NaN  NaN            5.984703         3.083213         -2.901490\n",
       "4744   NaN  NaN            4.842979         1.877744         -2.965235\n",
       "9367   NaN  NaN            4.836682         1.827819         -3.008863\n",
       "55492  NaN  NaN            4.330917         1.247928         -3.082989\n",
       "23698  NaN  NaN            5.807999         2.399171         -3.408828\n",
       "\n",
       "[30238 rows x 5 columns]"
      ]
     },
     "execution_count": 79,
     "metadata": {},
     "output_type": "execute_result"
    }
   ],
   "source": [
    "de_results[\"log2_fold_change\"] = de_results[\"log2_mean_adipo\"] - de_results[\"log2_mean_preadipo\"]\n",
    "de_results.sort_values('log2_fold_change', ascending=False, inplace=True)\n",
    "de_results"
   ]
  },
  {
   "cell_type": "code",
   "execution_count": null,
   "metadata": {},
   "outputs": [],
   "source": []
  }
 ],
 "metadata": {
  "kernelspec": {
   "display_name": "Python 3.9.12 ('base')",
   "language": "python",
   "name": "python3"
  },
  "language_info": {
   "codemirror_mode": {
    "name": "ipython",
    "version": 3
   },
   "file_extension": ".py",
   "mimetype": "text/x-python",
   "name": "python",
   "nbconvert_exporter": "python",
   "pygments_lexer": "ipython3",
   "version": "3.8.8"
  },
  "orig_nbformat": 4,
  "vscode": {
   "interpreter": {
    "hash": "c0051bf15e6f5eb8fc38ebe6dca754a8fad5e89bb348636e1a79e96b02f6ad09"
   }
  }
 },
 "nbformat": 4,
 "nbformat_minor": 2
}
